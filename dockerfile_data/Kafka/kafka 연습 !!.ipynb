{
 "cells": [
  {
   "cell_type": "code",
   "execution_count": 6,
   "id": "2e76af65-8a1c-459c-8c5f-3271381cd95f",
   "metadata": {},
   "outputs": [],
   "source": [
    "#!pip install kafka-python"
   ]
  },
  {
   "cell_type": "code",
   "execution_count": 3,
   "id": "b886b3f5-f619-4aac-8694-5a66c30feb54",
   "metadata": {},
   "outputs": [
    {
     "name": "stdout",
     "output_type": "stream",
     "text": [
      "/usr/bin/sh: 1: hostname-: not found\n",
      "ping: kafka: Name or service not known\n"
     ]
    }
   ],
   "source": [
    "!hostname- I\n",
    "!ping kafka"
   ]
  },
  {
   "cell_type": "code",
   "execution_count": 8,
   "id": "76b28bdc-958b-4d62-aed8-ac11a8178e25",
   "metadata": {},
   "outputs": [
    {
     "name": "stdout",
     "output_type": "stream",
     "text": [
      "/usr/bin/sh: 1: docker: not found\n"
     ]
    }
   ],
   "source": [
    "!docker network"
   ]
  },
  {
   "cell_type": "code",
   "execution_count": 11,
   "id": "d3b558db-19ef-4d96-b4ab-d676cb914d41",
   "metadata": {},
   "outputs": [
    {
     "name": "stdout",
     "output_type": "stream",
     "text": [
      "Send:{'car_id': '1/1000', 'speed': 99.43, 'latitude': 35.0, 'longitude': 124.42, 'timestamp': 1745223589.2689366}\n",
      "Send:{'car_id': '2/1000', 'speed': 89.26, 'latitude': 35.01, 'longitude': 124.04, 'timestamp': 1745223590.3747008}\n",
      "Send:{'car_id': '3/1000', 'speed': 86.14, 'latitude': 35.6, 'longitude': 125.94, 'timestamp': 1745223591.3762274}\n",
      "Send:{'car_id': '4/1000', 'speed': 94.3, 'latitude': 35.2, 'longitude': 125.96, 'timestamp': 1745223592.3795915}\n",
      "Send:{'car_id': '5/1000', 'speed': 99.32, 'latitude': 34.14, 'longitude': 124.13, 'timestamp': 1745223593.3827007}\n",
      "Send:{'car_id': '6/1000', 'speed': 99.71, 'latitude': 34.35, 'longitude': 125.98, 'timestamp': 1745223594.3853137}\n",
      "Send:{'car_id': '7/1000', 'speed': 91.8, 'latitude': 35.62, 'longitude': 125.63, 'timestamp': 1745223595.3884556}\n",
      "Send:{'car_id': '8/1000', 'speed': 93.15, 'latitude': 34.07, 'longitude': 125.45, 'timestamp': 1745223596.3916059}\n",
      "Send:{'car_id': '9/1000', 'speed': 83.67, 'latitude': 34.6, 'longitude': 125.73, 'timestamp': 1745223597.3936286}\n",
      "Send:{'car_id': '10/1000', 'speed': 92.42, 'latitude': 34.64, 'longitude': 124.93, 'timestamp': 1745223598.3956993}\n",
      "Send:{'car_id': '11/1000', 'speed': 89.65, 'latitude': 35.34, 'longitude': 124.59, 'timestamp': 1745223599.398863}\n",
      "Send:{'car_id': '12/1000', 'speed': 99.31, 'latitude': 34.85, 'longitude': 124.85, 'timestamp': 1745223600.4019215}\n",
      "Send:{'car_id': '13/1000', 'speed': 83.62, 'latitude': 34.05, 'longitude': 124.57, 'timestamp': 1745223601.4071126}\n",
      "Send:{'car_id': '14/1000', 'speed': 93.2, 'latitude': 35.65, 'longitude': 125.53, 'timestamp': 1745223602.408538}\n",
      "Send:{'car_id': '15/1000', 'speed': 84.14, 'latitude': 35.33, 'longitude': 124.06, 'timestamp': 1745223603.4102008}\n",
      "Send:{'car_id': '16/1000', 'speed': 94.75, 'latitude': 35.88, 'longitude': 125.84, 'timestamp': 1745223604.412644}\n",
      "Send:{'car_id': '17/1000', 'speed': 85.21, 'latitude': 34.03, 'longitude': 124.44, 'timestamp': 1745223605.415202}\n",
      "Send:{'car_id': '18/1000', 'speed': 81.57, 'latitude': 35.1, 'longitude': 124.36, 'timestamp': 1745223606.418794}\n",
      "Send:{'car_id': '19/1000', 'speed': 85.2, 'latitude': 34.31, 'longitude': 124.12, 'timestamp': 1745223607.4219449}\n",
      "Send:{'car_id': '20/1000', 'speed': 93.3, 'latitude': 34.47, 'longitude': 125.04, 'timestamp': 1745223608.4241414}\n",
      "Send:{'car_id': '21/1000', 'speed': 91.39, 'latitude': 35.41, 'longitude': 124.27, 'timestamp': 1745223609.4274871}\n",
      "Send:{'car_id': '22/1000', 'speed': 91.47, 'latitude': 34.12, 'longitude': 124.73, 'timestamp': 1745223610.4314158}\n",
      "Send:{'car_id': '23/1000', 'speed': 80.81, 'latitude': 34.76, 'longitude': 125.05, 'timestamp': 1745223611.4341283}\n",
      "Send:{'car_id': '24/1000', 'speed': 99.15, 'latitude': 34.36, 'longitude': 125.02, 'timestamp': 1745223612.4365883}\n",
      "Send:{'car_id': '25/1000', 'speed': 91.11, 'latitude': 34.88, 'longitude': 124.43, 'timestamp': 1745223613.4392862}\n",
      "Send:{'car_id': '26/1000', 'speed': 92.95, 'latitude': 35.78, 'longitude': 125.89, 'timestamp': 1745223614.441584}\n",
      "Send:{'car_id': '27/1000', 'speed': 89.25, 'latitude': 34.96, 'longitude': 124.39, 'timestamp': 1745223615.443807}\n",
      "Send:{'car_id': '28/1000', 'speed': 90.91, 'latitude': 34.91, 'longitude': 125.07, 'timestamp': 1745223616.445455}\n",
      "Send:{'car_id': '29/1000', 'speed': 85.18, 'latitude': 35.34, 'longitude': 125.14, 'timestamp': 1745223617.4466925}\n",
      "Send:{'car_id': '30/1000', 'speed': 82.23, 'latitude': 35.05, 'longitude': 125.0, 'timestamp': 1745223618.4483433}\n",
      "Send:{'car_id': '31/1000', 'speed': 90.47, 'latitude': 35.13, 'longitude': 124.66, 'timestamp': 1745223620.6347697}\n",
      "Send:{'car_id': '32/1000', 'speed': 92.21, 'latitude': 34.39, 'longitude': 124.5, 'timestamp': 1745223621.6363719}\n",
      "Send:{'car_id': '33/1000', 'speed': 87.49, 'latitude': 34.31, 'longitude': 124.09, 'timestamp': 1745223622.637776}\n",
      "Send:{'car_id': '34/1000', 'speed': 93.74, 'latitude': 35.21, 'longitude': 125.91, 'timestamp': 1745223623.6393747}\n",
      "Send:{'car_id': '35/1000', 'speed': 99.38, 'latitude': 34.81, 'longitude': 125.85, 'timestamp': 1745223624.6411664}\n",
      "Send:{'car_id': '36/1000', 'speed': 97.68, 'latitude': 34.22, 'longitude': 125.08, 'timestamp': 1745223625.643176}\n",
      "Send:{'car_id': '37/1000', 'speed': 92.79, 'latitude': 35.29, 'longitude': 125.29, 'timestamp': 1745223626.6450615}\n",
      "Send:{'car_id': '38/1000', 'speed': 85.31, 'latitude': 34.88, 'longitude': 125.91, 'timestamp': 1745223627.6461143}\n",
      "Send:{'car_id': '39/1000', 'speed': 96.86, 'latitude': 34.33, 'longitude': 124.79, 'timestamp': 1745223628.6476045}\n",
      "Send:{'car_id': '40/1000', 'speed': 82.13, 'latitude': 35.08, 'longitude': 124.79, 'timestamp': 1745223629.6490176}\n",
      "Send:{'car_id': '41/1000', 'speed': 96.56, 'latitude': 35.63, 'longitude': 125.17, 'timestamp': 1745223630.6519861}\n",
      "Send:{'car_id': '42/1000', 'speed': 80.35, 'latitude': 35.12, 'longitude': 125.15, 'timestamp': 1745223631.6554878}\n",
      "Send:{'car_id': '43/1000', 'speed': 82.13, 'latitude': 34.42, 'longitude': 124.02, 'timestamp': 1745223632.6568186}\n",
      "Send:{'car_id': '44/1000', 'speed': 84.46, 'latitude': 35.56, 'longitude': 125.56, 'timestamp': 1745223633.66077}\n",
      "Send:{'car_id': '45/1000', 'speed': 96.46, 'latitude': 34.8, 'longitude': 124.53, 'timestamp': 1745223634.6629388}\n",
      "에러 발생 !!\n"
     ]
    }
   ],
   "source": [
    "# kafka python 설정\n",
    "from kafka import KafkaProducer\n",
    "import json\n",
    "import time\n",
    "\n",
    "producer = KafkaProducer(\n",
    "    bootstrap_servers = 'kafka:9092',\n",
    "    value_serializer = lambda v:json.dumps(v).encode('utf-8')\n",
    ")\n",
    "num = 0\n",
    "how = 1000\n",
    "delay = 1\n",
    "\n",
    "# 테스트용 스마트카 데이터 !!\n",
    "def generate_smartcar_data(num):\n",
    "    import random\n",
    "    return{\n",
    "        \"car_id\": f\"{num}/{how}\", # 임의의 자동차 아이디\n",
    "        \"speed\": round(random.uniform(80,100),2), # 차량의 임의속도 (km/h)\n",
    "        \"latitude\": round(random.uniform(34,36),2), # 위도\n",
    "        \"longitude\": round(random.uniform(124,126),2), # 경도도\n",
    "        \"timestamp\": time.time()\n",
    "    }\n",
    "\n",
    "if __name__ == \"__main__\":\n",
    "    try:\n",
    "        for i,r in enumerate(range(how), 1):\n",
    "            data = generate_smartcar_data(i)\n",
    "            producer.send(\"smart-car\", value=data)  # topic에 data 담아서 보내기 !!\n",
    "            print(f'Send:{data}')  # 우리가 보는 데이터\n",
    "            time.sleep(delay)\n",
    "    except:\n",
    "        print(\"에러 발생 !!\")\n",
    "    finally:\n",
    "        producer.close()"
   ]
  }
 ],
 "metadata": {
  "kernelspec": {
   "display_name": "Python 3 (ipykernel)",
   "language": "python",
   "name": "python3"
  },
  "language_info": {
   "codemirror_mode": {
    "name": "ipython",
    "version": 3
   },
   "file_extension": ".py",
   "mimetype": "text/x-python",
   "name": "python",
   "nbconvert_exporter": "python",
   "pygments_lexer": "ipython3",
   "version": "3.10.12"
  }
 },
 "nbformat": 4,
 "nbformat_minor": 5
}
