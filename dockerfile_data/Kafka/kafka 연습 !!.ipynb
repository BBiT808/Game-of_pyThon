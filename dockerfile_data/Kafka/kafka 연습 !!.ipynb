{
 "cells": [
  {
   "cell_type": "code",
   "execution_count": 6,
   "id": "2e76af65-8a1c-459c-8c5f-3271381cd95f",
   "metadata": {},
   "outputs": [],
   "source": [
    "#!pip install kafka-python"
   ]
  },
  {
   "cell_type": "code",
   "execution_count": null,
   "id": "e8693058-78e5-4ec1-86ca-82df6a4e3398",
   "metadata": {},
   "outputs": [],
   "source": [
    "# 윈도우...... 였나봐 ........"
   ]
  },
  {
   "cell_type": "code",
   "execution_count": 1,
   "id": "b886b3f5-f619-4aac-8694-5a66c30feb54",
   "metadata": {},
   "outputs": [
    {
     "name": "stdout",
     "output_type": "stream",
     "text": [
      "/usr/bin/sh: 1: hostname-: not found\n",
      "ping: kafka: Name or service not known\n"
     ]
    }
   ],
   "source": [
    "!hostname- I\n",
    "!ping kafka"
   ]
  },
  {
   "cell_type": "code",
   "execution_count": 2,
   "id": "76b28bdc-958b-4d62-aed8-ac11a8178e25",
   "metadata": {},
   "outputs": [
    {
     "name": "stdout",
     "output_type": "stream",
     "text": [
      "/usr/bin/sh: 1: docker: not found\n"
     ]
    }
   ],
   "source": [
    "!docker network"
   ]
  },
  {
   "cell_type": "code",
   "execution_count": 3,
   "id": "d3b558db-19ef-4d96-b4ab-d676cb914d41",
   "metadata": {},
   "outputs": [
    {
     "ename": "ModuleNotFoundError",
     "evalue": "No module named 'kafka'",
     "output_type": "error",
     "traceback": [
      "\u001b[0;31m---------------------------------------------------------------------------\u001b[0m",
      "\u001b[0;31mModuleNotFoundError\u001b[0m                       Traceback (most recent call last)",
      "Cell \u001b[0;32mIn[3], line 2\u001b[0m\n\u001b[1;32m      1\u001b[0m \u001b[38;5;66;03m# kafka python 설정\u001b[39;00m\n\u001b[0;32m----> 2\u001b[0m \u001b[38;5;28;01mfrom\u001b[39;00m\u001b[38;5;250m \u001b[39m\u001b[38;5;21;01mkafka\u001b[39;00m\u001b[38;5;250m \u001b[39m\u001b[38;5;28;01mimport\u001b[39;00m KafkaProducer\n\u001b[1;32m      3\u001b[0m \u001b[38;5;28;01mimport\u001b[39;00m\u001b[38;5;250m \u001b[39m\u001b[38;5;21;01mjson\u001b[39;00m\n\u001b[1;32m      4\u001b[0m \u001b[38;5;28;01mimport\u001b[39;00m\u001b[38;5;250m \u001b[39m\u001b[38;5;21;01mtime\u001b[39;00m\n",
      "\u001b[0;31mModuleNotFoundError\u001b[0m: No module named 'kafka'"
     ]
    }
   ],
   "source": [
    "# kafka python 설정\n",
    "from kafka import KafkaProducer\n",
    "import json\n",
    "import time\n",
    "\n",
    "producer = KafkaProducer(\n",
    "    bootstrap_servers = 'kafka:9092',\n",
    "    value_serializer = lambda v:json.dumps(v).encode('utf-8')\n",
    ")\n",
    "num = 0\n",
    "how = 1000\n",
    "delay = 1\n",
    "\n",
    "# 테스트용 스마트카 데이터 !!\n",
    "def generate_smartcar_data(num):\n",
    "    import random\n",
    "    return{\n",
    "        \"car_id\": f\"{num}/{how}\", # 임의의 자동차 아이디\n",
    "        \"speed\": round(random.uniform(80,100),2), # 차량의 임의속도 (km/h)\n",
    "        \"latitude\": round(random.uniform(34,36),2), # 위도\n",
    "        \"longitude\": round(random.uniform(124,126),2), # 경도도\n",
    "        \"timestamp\": time.time()\n",
    "    }\n",
    "\n",
    "if __name__ == \"__main__\":\n",
    "    try:\n",
    "        for i,r in enumerate(range(how), 1):\n",
    "            data = generate_smartcar_data(i)\n",
    "            producer.send(\"smart-car\", value=data)  # topic에 data 담아서 보내기 !!\n",
    "            print(f'Send:{data}')  # 우리가 보는 데이터\n",
    "            time.sleep(delay)\n",
    "    except:\n",
    "        print(\"에러 발생 !!\")\n",
    "    finally:\n",
    "        producer.close()"
   ]
  }
 ],
 "metadata": {
  "kernelspec": {
   "display_name": "Python 3 (ipykernel)",
   "language": "python",
   "name": "python3"
  },
  "language_info": {
   "codemirror_mode": {
    "name": "ipython",
    "version": 3
   },
   "file_extension": ".py",
   "mimetype": "text/x-python",
   "name": "python",
   "nbconvert_exporter": "python",
   "pygments_lexer": "ipython3",
   "version": "3.10.12"
  }
 },
 "nbformat": 4,
 "nbformat_minor": 5
}
