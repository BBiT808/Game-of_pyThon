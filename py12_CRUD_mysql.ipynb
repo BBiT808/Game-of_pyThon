{
 "cells": [
  {
   "cell_type": "code",
   "execution_count": null,
   "id": "4ef155df-79bf-4dbe-ba4d-bc49001d4675",
   "metadata": {},
   "outputs": [],
   "source": [
    "# 20250408 오랜만의 유성쌤 수업 ~~~~ ^_^ mysql mongodb 등 dockerfile로 열어보기 ~~!"
   ]
  },
  {
   "cell_type": "code",
   "execution_count": null,
   "id": "6ff3d4eb-82a5-438c-86b3-bfc52c896224",
   "metadata": {},
   "outputs": [],
   "source": [
    "# CRUD\n",
    "\n",
    "# R : 읽기 / C : 쓰기 / D : 삭제 / U : 수정"
   ]
  },
  {
   "cell_type": "code",
   "execution_count": null,
   "id": "f8897ab1-0a5d-4a41-a1dc-b1b9d0a2b0da",
   "metadata": {},
   "outputs": [],
   "source": [
    "!ping MONGODB"
   ]
  },
  {
   "cell_type": "code",
   "execution_count": 1,
   "id": "c02abd57-a44f-4b37-9107-d74254fd1098",
   "metadata": {},
   "outputs": [
    {
     "name": "stdout",
     "output_type": "stream",
     "text": [
      "PING 172.18.0.2 (172.18.0.2) 56(84) bytes of data.\n",
      "64 bytes from 172.18.0.2: icmp_seq=1 ttl=64 time=0.134 ms\n",
      "64 bytes from 172.18.0.2: icmp_seq=2 ttl=64 time=0.076 ms\n",
      "64 bytes from 172.18.0.2: icmp_seq=3 ttl=64 time=0.250 ms\n",
      "64 bytes from 172.18.0.2: icmp_seq=4 ttl=64 time=0.161 ms\n",
      "^C\n",
      "\n",
      "--- 172.18.0.2 ping statistics ---\n",
      "4 packets transmitted, 4 received, 0% packet loss, time 3418ms\n",
      "rtt min/avg/max/mdev = 0.076/0.155/0.250/0.062 ms\n"
     ]
    }
   ],
   "source": [
    "!ping 172.18.0.2"
   ]
  },
  {
   "cell_type": "code",
   "execution_count": 3,
   "id": "589521ba-7387-437a-b67e-e801674b4dd1",
   "metadata": {},
   "outputs": [
    {
     "name": "stdout",
     "output_type": "stream",
     "text": [
      "PING 172.18.0.3 (172.18.0.3) 56(84) bytes of data.\n",
      "64 bytes from 172.18.0.3: icmp_seq=1 ttl=64 time=0.044 ms\n",
      "64 bytes from 172.18.0.3: icmp_seq=2 ttl=64 time=0.156 ms\n",
      "64 bytes from 172.18.0.3: icmp_seq=3 ttl=64 time=0.143 ms\n",
      "64 bytes from 172.18.0.3: icmp_seq=4 ttl=64 time=0.090 ms\n",
      "^C\n",
      "\n",
      "--- 172.18.0.3 ping statistics ---\n",
      "4 packets transmitted, 4 received, 0% packet loss, time 3334ms\n",
      "rtt min/avg/max/mdev = 0.044/0.108/0.156/0.044 ms\n"
     ]
    }
   ],
   "source": [
    "!ping 172.18.0.3"
   ]
  },
  {
   "cell_type": "code",
   "execution_count": 1,
   "id": "491a354a-fa54-4ad5-9cd0-11fcb9c78422",
   "metadata": {},
   "outputs": [
    {
     "name": "stdout",
     "output_type": "stream",
     "text": [
      "PING 172.18.0.4 (172.18.0.4) 56(84) bytes of data.\n",
      "64 bytes from 172.18.0.4: icmp_seq=1 ttl=64 time=0.144 ms\n",
      "64 bytes from 172.18.0.4: icmp_seq=2 ttl=64 time=0.098 ms\n",
      "64 bytes from 172.18.0.4: icmp_seq=3 ttl=64 time=0.065 ms\n",
      "^C\n",
      "\n",
      "--- 172.18.0.4 ping statistics ---\n",
      "3 packets transmitted, 3 received, 0% packet loss, time 2212ms\n",
      "rtt min/avg/max/mdev = 0.065/0.102/0.144/0.032 ms\n"
     ]
    }
   ],
   "source": [
    "!ping 172.18.0.4"
   ]
  },
  {
   "cell_type": "code",
   "execution_count": 2,
   "id": "6f83db8e-2ae2-4002-8475-9198b984d804",
   "metadata": {},
   "outputs": [
    {
     "name": "stdout",
     "output_type": "stream",
     "text": [
      "PING 172.18.0.6 (172.18.0.6) 56(84) bytes of data.\n",
      "From 172.18.0.5 icmp_seq=1 Destination Host Unreachable\n",
      "From 172.18.0.5 icmp_seq=2 Destination Host Unreachable\n",
      "From 172.18.0.5 icmp_seq=3 Destination Host Unreachable\n",
      "From 172.18.0.5 icmp_seq=4 Destination Host Unreachable\n",
      "From 172.18.0.5 icmp_seq=5 Destination Host Unreachable\n",
      "From 172.18.0.5 icmp_seq=6 Destination Host Unreachable\n",
      "^C\n",
      "\n",
      "--- 172.18.0.6 ping statistics ---\n",
      "7 packets transmitted, 0 received, +6 errors, 100% packet loss, time 6633ms\n",
      "pipe 3\n"
     ]
    }
   ],
   "source": [
    "!ping 172.18.0.6"
   ]
  },
  {
   "cell_type": "code",
   "execution_count": 3,
   "id": "8640ffbb-84c6-4ac2-b474-0a0f98c1d26e",
   "metadata": {},
   "outputs": [],
   "source": [
    "#!pip install mysql-connector-python"
   ]
  },
  {
   "cell_type": "code",
   "execution_count": 5,
   "id": "9d709af4-4d6c-4cb2-a698-202b79f64d32",
   "metadata": {},
   "outputs": [
    {
     "name": "stdout",
     "output_type": "stream",
     "text": [
      "MySQL 서버에 성공적으로 연결되었습니다.\n",
      "연결중 ...\n"
     ]
    }
   ],
   "source": [
    "import mysql.connector\n",
    "\n",
    "try:\n",
    "    conn = mysql.connector.connect(\n",
    "        host = \"mysql\", # MySQL 서버 주소 !\n",
    "        user = \"root\",\n",
    "        password = \"1234\"\n",
    "    )\n",
    "    \n",
    "    if conn.is_connected():\n",
    "        print(\"MySQL 서버에 성공적으로 연결되었습니다.\")\n",
    "except:\n",
    "    print(\"MySQL 연결 실패 !\", err)\n",
    "finally:\n",
    "    if conn.is_connected():\n",
    "        print(\"연결중 ...\")"
   ]
  },
  {
   "cell_type": "code",
   "execution_count": 6,
   "id": "e355eb42-1718-4c95-8535-804227a45d58",
   "metadata": {},
   "outputs": [],
   "source": [
    "# 커서 생성\n",
    "cursor = conn.cursor()\n",
    "que = \"CREATE DATABASE IF NOT EXISTS judb\"\n",
    "cursor.execute(que)\n",
    "conn.close()"
   ]
  },
  {
   "cell_type": "code",
   "execution_count": 8,
   "id": "500c5ea9-b64f-4b79-a875-7046ce1afd0c",
   "metadata": {},
   "outputs": [
    {
     "name": "stdout",
     "output_type": "stream",
     "text": [
      "MySQL 연결 성공 !\n"
     ]
    }
   ],
   "source": [
    "# MySQL에 연결\n",
    "conn = mysql.connector.connect(\n",
    "    host = \"mysql\", # MySQL 서버주소\n",
    "    user = \"root\",\n",
    "    password =\"1234\",\n",
    "    database = \"judb\" # 사용할 데이터베이스 !\n",
    ")\n",
    "cursor = conn.cursor()\n",
    "print(\"MySQL 연결 성공 !\")"
   ]
  },
  {
   "cell_type": "code",
   "execution_count": 9,
   "id": "f3a3e9d4-d490-4331-ae76-41f7a8c44d90",
   "metadata": {},
   "outputs": [
    {
     "name": "stdout",
     "output_type": "stream",
     "text": [
      "테이블 생성 완료 !\n"
     ]
    }
   ],
   "source": [
    "# 테이블 생성\n",
    "query = \"CREATE TABLE IF NOT EXISTS user(id INT AUTO_INCREMENT PRIMARY KEY, name VARCHAR(50), age INT, city VARCHAR(50))\"\n",
    "cursor.execute(query)\n",
    "print(\"테이블 생성 완료 !\")"
   ]
  },
  {
   "attachments": {
    "6043e7c9-a856-4a9d-9dc6-2195026bca1a.png": {
     "image/png": "[encoded data removed]"
    }
   },
   "cell_type": "markdown",
   "id": "8a55c60b-00bf-43ce-870f-a0d5ed5cfc1d",
   "metadata": {},
   "source": [
    "![image.png](attachment:6043e7c9-a856-4a9d-9dc6-2195026bca1a.png)"
   ]
  },
  {
   "cell_type": "code",
   "execution_count": 13,
   "id": "5d58e942-340f-4780-afcf-73e6ec98de1b",
   "metadata": {},
   "outputs": [
    {
     "name": "stdout",
     "output_type": "stream",
     "text": [
      "1개의 데이터 삽입 완료 ! ID :  5\n"
     ]
    }
   ],
   "source": [
    "# 단일 데이터 삽입\n",
    "# sql = f\"INSERT INTO users (name, age, city) VALUES ({name}, {age}, {city})\" : 이렇게 하면 이름의 형식이 어떻게 되든 막을 수 없다 !\n",
    "                                                     # \"Alice); DROP TABLE users;\n",
    "sql = \"INSERT INTO user (name, age, city) VALUES (%s, %s, %s)\"\n",
    "values = (\"Alice\", 25, \"Seoul\")\n",
    "cursor.execute(sql, values)\n",
    "conn.commit() # 커밋을 해야~ 저장이 됨 ~\n",
    "print(\"1개의 데이터 삽입 완료 ! ID : \", cursor.lastrowid)"
   ]
  },
  {
   "cell_type": "code",
   "execution_count": 12,
   "id": "672974d1-9ebf-4477-a8bb-3eb8dff8d4d4",
   "metadata": {},
   "outputs": [
    {
     "name": "stdout",
     "output_type": "stream",
     "text": [
      "여러 개의 데이터 삽입 완료 !\n"
     ]
    }
   ],
   "source": [
    "# 여러 개의 데이터 삽입 !!\n",
    "m_values = [(\"superman\", 33, \"Busan\"), (\"Cutegirl\", 17, \"Incheon\"), (\"Coolboy\", 22, \"Jeju\")]\n",
    "cursor.executemany(sql, m_values)\n",
    "conn.commit()\n",
    "print(\"여러 개의 데이터 삽입 완료 !\")"
   ]
  },
  {
   "cell_type": "code",
   "execution_count": 15,
   "id": "e49b1343-68bb-4631-8e5f-e3c105d23cfc",
   "metadata": {},
   "outputs": [
    {
     "name": "stdout",
     "output_type": "stream",
     "text": [
      "(1, 'Alice', 25, 'Seoul')\n",
      "(2, 'superman', 33, 'Busan')\n",
      "(3, 'Cutegirl', 17, 'Incheon')\n",
      "(4, 'Coolboy', 22, 'Jeju')\n",
      "(5, 'Alice', 25, 'Seoul')\n"
     ]
    }
   ],
   "source": [
    "# 모든 데이터 조회\n",
    "que = \"SELECT * FROM user\"\n",
    "cursor.execute(que)\n",
    "users = cursor.fetchall()\n",
    "# print(users)\n",
    "for user in users:\n",
    "    print(user)"
   ]
  },
  {
   "cell_type": "code",
   "execution_count": 20,
   "id": "bafb7cd4-1016-461b-b593-0ce4e8d81a34",
   "metadata": {},
   "outputs": [
    {
     "name": "stdout",
     "output_type": "stream",
     "text": [
      "(1, 'Alice', 29, 'Seoul')\n",
      "(2, 'superman', 33, 'Busan')\n",
      "(5, 'Alice', 29, 'Seoul')\n"
     ]
    }
   ],
   "source": [
    "que = \"SELECT * FROM user\"\n",
    "filters = \" WHERE age >= 24\"\n",
    "cursor.execute(que+filters)\n",
    "\n",
    "filtered = cursor.fetchall()\n",
    "for f in filtered : \n",
    "    print(f)"
   ]
  },
  {
   "cell_type": "code",
   "execution_count": 26,
   "id": "66bff780-0e00-48c6-8723-1bb3f15bf1f1",
   "metadata": {},
   "outputs": [
    {
     "name": "stdout",
     "output_type": "stream",
     "text": [
      "수정된 행 개수 :  0\n"
     ]
    }
   ],
   "source": [
    "# 특정 사용자의 나이 수정\n",
    "sql = \"UPDATE user SET age = %s WHERE name = %s\"\n",
    "values = (19, \"Alice\")\n",
    "cursor.execute(sql,values)\n",
    "conn.commit()\n",
    "print(\"수정된 행 개수 : \", cursor.rowcount)"
   ]
  },
  {
   "cell_type": "code",
   "execution_count": 28,
   "id": "fbc1a7b5-a626-44d6-83db-eada8c53d153",
   "metadata": {},
   "outputs": [
    {
     "name": "stdout",
     "output_type": "stream",
     "text": [
      "['jeju']에 해당하는 목록을 삭제하였습니다 ! \n"
     ]
    }
   ],
   "source": [
    "# 특정 사용자 삭제\n",
    "que = \"DELETE FROM user WHERE city = %s\"\n",
    "filters = [\"jeju\"]\n",
    "cursor.execute(que, filters)\n",
    "conn.commit()\n",
    "print(f\"{filters}에 해당하는 목록을 삭제하였습니다 ! \")"
   ]
  },
  {
   "cell_type": "code",
   "execution_count": 31,
   "id": "78b836c7-bfc4-4329-894f-ca037d592206",
   "metadata": {},
   "outputs": [
    {
     "name": "stdout",
     "output_type": "stream",
     "text": [
      "(19, 'seoul')에 해당하는 목록을 삭제하였습니다 ! \n"
     ]
    }
   ],
   "source": [
    "# 특정 조건 사용자 삭제\n",
    "que = \"DELETE FROM user WHERE age> %s AND city = %s\"\n",
    "filters = (19, \"seoul\")\n",
    "cursor.execute(que, filters)\n",
    "conn.commit()\n",
    "print(f\"{filters}에 해당하는 목록을 삭제하였습니다 ! \")"
   ]
  },
  {
   "cell_type": "code",
   "execution_count": null,
   "id": "01a2ddca-fe6c-4cd6-9727-bdeef43747eb",
   "metadata": {},
   "outputs": [],
   "source": []
  }
 ],
 "metadata": {
  "kernelspec": {
   "display_name": "Python 3 (ipykernel)",
   "language": "python",
   "name": "python3"
  },
  "language_info": {
   "codemirror_mode": {
    "name": "ipython",
    "version": 3
   },
   "file_extension": ".py",
   "mimetype": "text/x-python",
   "name": "python",
   "nbconvert_exporter": "python",
   "pygments_lexer": "ipython3",
   "version": "3.10.12"
  }
 },
 "nbformat": 4,
 "nbformat_minor": 5
}
