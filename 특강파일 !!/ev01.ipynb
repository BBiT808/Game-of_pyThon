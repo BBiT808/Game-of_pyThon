{
 "cells": [
  {
   "cell_type": "code",
   "execution_count": 1,
   "id": "833fac2c-e3c1-4a8e-943f-8d4a8d7576e7",
   "metadata": {},
   "outputs": [],
   "source": [
    "## 20250409 유성~ 쌤과 ~ 함께하는 특강 ^_^ 야호 !!"
   ]
  },
  {
   "cell_type": "code",
   "execution_count": null,
   "id": "16db0c33-8eb8-48b2-9903-42e1625ad12f",
   "metadata": {},
   "outputs": [],
   "source": [
    "# if / else / any / all !! ^_^"
   ]
  },
  {
   "cell_type": "code",
   "execution_count": 3,
   "id": "bd7ccb93-62dd-41ac-b7b5-c8963bc53974",
   "metadata": {},
   "outputs": [
    {
     "name": "stdout",
     "output_type": "stream",
     "text": [
      "조건이 맞아요.\n"
     ]
    }
   ],
   "source": [
    "# 파이썬 if ( 사실 Java, C 언어 등에도 다 포함되는 것임 !!!)\n",
    " # 파이썬에서는 괄호 안 써 !!! 대신 들여쓰기를 꼬옥 잘해주자~\n",
    " # 0,1,2,3,4 같은 숫자가 아니야 !! / 가라, 마라, 와라!, Ok!!도 아님 !!\n",
    "\n",
    "if (not False): # 조건 ; 벽에 있는 스위치~\n",
    "    # 이 때 조건은 True or False !!\n",
    "    print(\"조건이 맞아요.\")"
   ]
  },
  {
   "cell_type": "code",
   "execution_count": 26,
   "id": "10bb7dc3-c91c-413f-a9e6-cf8d41438319",
   "metadata": {},
   "outputs": [
    {
     "name": "stdout",
     "output_type": "stream",
     "text": [
      "apple\n",
      "orange\n",
      "banana\n"
     ]
    }
   ],
   "source": [
    "fruit = [\"apple\",\"orange\",\"banana\"]\n",
    "fruit1 = [\"orange\",\"banana\"]\n",
    "fruit2 = [\"apple\",\"orange\",\"banana\"]\n",
    "fruit3 = [\"apple\",\"orange\",\"banana\"]\n",
    "fruit4 = [\"apple\",\"orange\",\"banana\"]\n",
    "fruit5 = [\"apple\",\"orange\",\"banana\"]\n",
    "\n",
    "print(fruit[0])\n",
    "print(fruit[1])\n",
    "print(fruit[2])"
   ]
  },
  {
   "cell_type": "code",
   "execution_count": 8,
   "id": "37805410-cbe1-45a2-9085-28997dc420bd",
   "metadata": {},
   "outputs": [
    {
     "name": "stdout",
     "output_type": "stream",
     "text": [
      "조건이 맞 다 !\n"
     ]
    }
   ],
   "source": [
    "if 5>0:\n",
    "    print(\"조건이 맞 다 !\")\n",
    "\n",
    "if 6<3:\n",
    "    print(\"조건이 맞다!\")"
   ]
  },
  {
   "cell_type": "code",
   "execution_count": 9,
   "id": "8f198d17-e0b6-4b52-98b3-874404322333",
   "metadata": {},
   "outputs": [
    {
     "name": "stdout",
     "output_type": "stream",
     "text": [
      "과일이 맞아요 !\n"
     ]
    }
   ],
   "source": [
    "if fruit[0] == \"apple\" :\n",
    "    print(\"과일이 맞아요 !\")"
   ]
  },
  {
   "cell_type": "code",
   "execution_count": 10,
   "id": "63442895-13a7-46f5-a7b4-9edd009b8fe7",
   "metadata": {},
   "outputs": [
    {
     "name": "stdout",
     "output_type": "stream",
     "text": [
      "사과가 있어요 !\n"
     ]
    }
   ],
   "source": [
    "if \"apple\" in fruit : \n",
    "    print(\"사과가 있어요 !\")"
   ]
  },
  {
   "cell_type": "code",
   "execution_count": 14,
   "id": "4cf94466-a5bf-4685-8429-accf44006566",
   "metadata": {},
   "outputs": [
    {
     "name": "stdout",
     "output_type": "stream",
     "text": [
      "키위는 없어요 !\n"
     ]
    }
   ],
   "source": [
    "if \"kiwi\" in fruit:  # 조건이 false기 때문에 출력되지 않는다!\n",
    "    print(\"키위가 있었나 ?\")\n",
    "\n",
    "if \"kiwi\" not in fruit:\n",
    "    print(\"키위는 없어요 !\")"
   ]
  },
  {
   "cell_type": "code",
   "execution_count": 17,
   "id": "91769b74-7c7e-4c52-bb0e-c1aec6d3c428",
   "metadata": {},
   "outputs": [
    {
     "name": "stdout",
     "output_type": "stream",
     "text": [
      "사과가~ 있어요~ ^_^\n",
      "사과가 없어요 !! ㅇ0ㅇ\n"
     ]
    }
   ],
   "source": [
    "if \"apple\" in fruit:\n",
    "    print(\"사과가~ 있어요~ ^_^\")\n",
    "if \"apple1\" not in fruit:\n",
    "    print(\"사과가 없어요 !! ㅇ0ㅇ\")"
   ]
  },
  {
   "cell_type": "code",
   "execution_count": 19,
   "id": "8803367b-1789-41c5-b33d-0cdfde05eb4d",
   "metadata": {},
   "outputs": [
    {
     "name": "stdout",
     "output_type": "stream",
     "text": [
      "사과가 있어요 !!\n"
     ]
    }
   ],
   "source": [
    "# 위에껄로 계속 해도 되지만 ... 문법이 어수선하니까.\n",
    "if \"apple\" in fruit:\n",
    "    print(\"사과가 있어요 !!\")\n",
    "else:\n",
    "    print(\"사과가... 없어요 ...\")"
   ]
  },
  {
   "cell_type": "code",
   "execution_count": 27,
   "id": "1a4959d9-aca7-40bd-b003-d017cf2a67d0",
   "metadata": {},
   "outputs": [
    {
     "name": "stdout",
     "output_type": "stream",
     "text": [
      "사과가 있어요 !! ㅇ0ㅇ\n",
      "사과가 있다니까!! -0-\n",
      "사과가 있어!! -_-\n",
      "사! 과! 있! 음! -ㅁ-\n"
     ]
    }
   ],
   "source": [
    "if \"apple\" in fruit1:\n",
    "    print(\"사과가~ 있어요~ ^_^\")\n",
    "if \"apple\" in fruit2:  ## elif는... 취조하듯이 !!! ㅇ0ㅇ -0- 너... 이거 있어 없어 ??!\n",
    "    print(\"사과가 있어요 !! ㅇ0ㅇ\")\n",
    "if \"apple\" in fruit3:\n",
    "    print(\"사과가 있다니까!! -0-\")\n",
    "if \"apple\" in fruit4:\n",
    "    print(\"사과가 있어!! -_-\")\n",
    "if \"apple\" in fruit5:\n",
    "    print(\"사! 과! 있! 음! -ㅁ-\")"
   ]
  },
  {
   "cell_type": "code",
   "execution_count": 28,
   "id": "d618c980-cfc5-45cb-8c64-2f994e34efd0",
   "metadata": {},
   "outputs": [
    {
     "name": "stdout",
     "output_type": "stream",
     "text": [
      "fruit2에 사과가 있어요 !! ㅇ0ㅇ\n"
     ]
    }
   ],
   "source": [
    "if \"apple\" in fruit1:  # 차 례 대 로 취 조!\n",
    "    print(\"사과가~ 있어요~ ^_^\")\n",
    "elif \"apple\" in fruit2:  ## elif는... 취조하듯이 !!! ㅇ0ㅇ -0- 너... 이거 있어 없어 ??!\n",
    "    print(\"fruit2에 사과가 있어요 !! ㅇ0ㅇ\")\n",
    "elif \"apple\" in fruit3:\n",
    "    print(\"fruit3에 사과가 있어!! -0-\")\n",
    "elif \"apple\" in fruit4:\n",
    "    print(\"fruit4에 사과가 있어!! -_-\")\n",
    "elif \"apple\" in fruit5:\n",
    "    print(\"fruit5에 사! 과! 있! 음! -ㅁ-\")"
   ]
  },
  {
   "cell_type": "code",
   "execution_count": null,
   "id": "23783d3d-f386-4f7c-a1cc-73cc9fbc0ca0",
   "metadata": {},
   "outputs": [],
   "source": [
    "# if\n",
    "## elif, else if, elseif\n",
    "### else\n",
    "\n",
    "#### in, not, and, or\n",
    "\n",
    "# and : 예) 신분증과 서류와 1500원\n",
    "# or : 예) 신분증 또는 도장 또는 싸인"
   ]
  },
  {
   "cell_type": "code",
   "execution_count": 31,
   "id": "4c43b114-4900-490b-a4dc-af2b28c5ba49",
   "metadata": {},
   "outputs": [
    {
     "name": "stdout",
     "output_type": "stream",
     "text": [
      "조건에 맞아요 ! ㅇwㅇ\n"
     ]
    }
   ],
   "source": [
    "num = 10\n",
    "if (num > 5) and (num < 20) and (num > 0):  # 괄호를 쳐주는 게 좋다~ 계산이 잘 안 될 수 있으니까 !!\n",
    "    print(\"조건에 맞아요 ! ㅇwㅇ\")"
   ]
  },
  {
   "cell_type": "code",
   "execution_count": 36,
   "id": "b1ce924c-9caf-422f-9714-ed0021fc0819",
   "metadata": {},
   "outputs": [
    {
     "name": "stdout",
     "output_type": "stream",
     "text": [
      "조건에!! 맞아요!!\n"
     ]
    }
   ],
   "source": [
    "num = 10\n",
    "if (num < 5) or (num < 9) or (num >= 10):\n",
    "    print(\"조건에!! 맞아요!!\") # 거짓말 그치만 !!! or로 살릴 수 있어 !!"
   ]
  },
  {
   "cell_type": "code",
   "execution_count": 40,
   "id": "8f47c0c2-ed67-4408-8dd5-91c510974ed0",
   "metadata": {},
   "outputs": [],
   "source": [
    "# cf) 내 예시\n",
    "num = 102391024812\n",
    "if (num < 1092833) or (num == 1):\n",
    "    print(\"조건에.. 맞나?\")"
   ]
  },
  {
   "cell_type": "code",
   "execution_count": null,
   "id": "d1843c27-6f0c-40cd-934b-c25c041a2674",
   "metadata": {},
   "outputs": [],
   "source": [
    "num = 10\n",
    "if (num < 5) or ((num<9) and (num >= 10)): # 괄호를 쳐주면 우선순위를 설정해줄 수 있다 !!!\n",
    "    print(\"조건에 맞아요 !!\")"
   ]
  },
  {
   "cell_type": "code",
   "execution_count": null,
   "id": "832df785-542e-4c3a-98a5-c9a5a9433ed0",
   "metadata": {},
   "outputs": [],
   "source": [
    "## 디지털 0, false, \"\" 이거 외에는 다 1임 !!!!! ㅇ0ㅇ 놀라워라 디지털 세계"
   ]
  },
  {
   "cell_type": "code",
   "execution_count": 42,
   "id": "a9f58e7a-743c-4f4e-aba8-793b9fdf55fd",
   "metadata": {},
   "outputs": [
    {
     "name": "stdout",
     "output_type": "stream",
     "text": [
      "True\n"
     ]
    }
   ],
   "source": [
    "# any() ; 하나라도 참이면 참 !!!!\n",
    "value = [0,0,0,0,'안녕',0]  # 비트 개념에 따라 0이나 1 중 하나이므로...\n",
    "what = any(value)\n",
    "print(what)"
   ]
  },
  {
   "cell_type": "code",
   "execution_count": 48,
   "id": "d13fdeb3-a9a6-4b9d-96ea-d38bd0ab6255",
   "metadata": {},
   "outputs": [
    {
     "name": "stdout",
     "output_type": "stream",
     "text": [
      "모두 다 합격 !! ^0^\n",
      "false가 한 개 이상 존재 !! ㅇ0ㅇ\n",
      "false가 한 개 이상 존재 !! ㅇ0ㅇ\n"
     ]
    }
   ],
   "source": [
    "# all() ; 모두가 참이여아 해 !!!\n",
    "\n",
    "value1 = [1,1,1,1,1]\n",
    "value2 = [0,0,0,0,'안녕?',0]\n",
    "value3 = [0,0,0,0,0]\n",
    "what2 = all(value2)\n",
    "\n",
    "if all(value1):\n",
    "    print(\"모두 다 합격 !! ^0^\")\n",
    "if not all(value2):\n",
    "    print(\"false가 한 개 이상 존재 !! ㅇ0ㅇ\")\n",
    "if not all(value3):\n",
    "    print(\"false가 한 개 이상 존재 !! ㅇ0ㅇ\")"
   ]
  }
 ],
 "metadata": {
  "kernelspec": {
   "display_name": "Python 3 (ipykernel)",
   "language": "python",
   "name": "python3"
  },
  "language_info": {
   "codemirror_mode": {
    "name": "ipython",
    "version": 3
   },
   "file_extension": ".py",
   "mimetype": "text/x-python",
   "name": "python",
   "nbconvert_exporter": "python",
   "pygments_lexer": "ipython3",
   "version": "3.13.1"
  }
 },
 "nbformat": 4,
 "nbformat_minor": 5
}
