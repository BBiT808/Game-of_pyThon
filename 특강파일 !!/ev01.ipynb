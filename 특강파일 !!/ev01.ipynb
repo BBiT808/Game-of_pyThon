{
 "cells": [
  {
   "cell_type": "code",
   "execution_count": 1,
   "id": "833fac2c-e3c1-4a8e-943f-8d4a8d7576e7",
   "metadata": {},
   "outputs": [],
   "source": [
    "## 20250409 유성~ 쌤과 ~ 함께하는 특강 ^_^ 야호 !!"
   ]
  },
  {
   "cell_type": "code",
   "execution_count": null,
   "id": "16db0c33-8eb8-48b2-9903-42e1625ad12f",
   "metadata": {},
   "outputs": [],
   "source": [
    "# if / else / any / all !! ^_^"
   ]
  },
  {
   "cell_type": "code",
   "execution_count": 3,
   "id": "bd7ccb93-62dd-41ac-b7b5-c8963bc53974",
   "metadata": {},
   "outputs": [
    {
     "name": "stdout",
     "output_type": "stream",
     "text": [
      "조건이 맞아요.\n"
     ]
    }
   ],
   "source": [
    "# 파이썬 if ( 사실 Java, C 언어 등에도 다 포함되는 것임 !!!)\n",
    " # 파이썬에서는 괄호 안 써 !!! 대신 들여쓰기를 꼬옥 잘해주자~\n",
    " # 0,1,2,3,4 같은 숫자가 아니야 !! / 가라, 마라, 와라!, Ok!!도 아님 !!\n",
    "\n",
    "if (not False): # 조건 ; 벽에 있는 스위치~\n",
    "    # 이 때 조건은 True or False !!\n",
    "    print(\"조건이 맞아요.\")"
   ]
  },
  {
   "cell_type": "code",
   "execution_count": 26,
   "id": "10bb7dc3-c91c-413f-a9e6-cf8d41438319",
   "metadata": {},
   "outputs": [
    {
     "name": "stdout",
     "output_type": "stream",
     "text": [
      "apple\n",
      "orange\n",
      "banana\n"
     ]
    }
   ],
   "source": [
    "fruit = [\"apple\",\"orange\",\"banana\"]\n",
    "fruit1 = [\"orange\",\"banana\"]\n",
    "fruit2 = [\"apple\",\"orange\",\"banana\"]\n",
    "fruit3 = [\"apple\",\"orange\",\"banana\"]\n",
    "fruit4 = [\"apple\",\"orange\",\"banana\"]\n",
    "fruit5 = [\"apple\",\"orange\",\"banana\"]\n",
    "\n",
    "print(fruit[0])\n",
    "print(fruit[1])\n",
    "print(fruit[2])"
   ]
  },
  {
   "cell_type": "code",
   "execution_count": 8,
   "id": "37805410-cbe1-45a2-9085-28997dc420bd",
   "metadata": {},
   "outputs": [
    {
     "name": "stdout",
     "output_type": "stream",
     "text": [
      "조건이 맞 다 !\n"
     ]
    }
   ],
   "source": [
    "if 5>0:\n",
    "    print(\"조건이 맞 다 !\")\n",
    "\n",
    "if 6<3:\n",
    "    print(\"조건이 맞다!\")"
   ]
  },
  {
   "cell_type": "code",
   "execution_count": 9,
   "id": "8f198d17-e0b6-4b52-98b3-874404322333",
   "metadata": {},
   "outputs": [
    {
     "name": "stdout",
     "output_type": "stream",
     "text": [
      "과일이 맞아요 !\n"
     ]
    }
   ],
   "source": [
    "if fruit[0] == \"apple\" :\n",
    "    print(\"과일이 맞아요 !\")"
   ]
  },
  {
   "cell_type": "code",
   "execution_count": 10,
   "id": "63442895-13a7-46f5-a7b4-9edd009b8fe7",
   "metadata": {},
   "outputs": [
    {
     "name": "stdout",
     "output_type": "stream",
     "text": [
      "사과가 있어요 !\n"
     ]
    }
   ],
   "source": [
    "if \"apple\" in fruit : \n",
    "    print(\"사과가 있어요 !\")"
   ]
  },
  {
   "cell_type": "code",
   "execution_count": 14,
   "id": "4cf94466-a5bf-4685-8429-accf44006566",
   "metadata": {},
   "outputs": [
    {
     "name": "stdout",
     "output_type": "stream",
     "text": [
      "키위는 없어요 !\n"
     ]
    }
   ],
   "source": [
    "if \"kiwi\" in fruit:  # 조건이 false기 때문에 출력되지 않는다!\n",
    "    print(\"키위가 있었나 ?\")\n",
    "\n",
    "if \"kiwi\" not in fruit:\n",
    "    print(\"키위는 없어요 !\")"
   ]
  },
  {
   "cell_type": "code",
   "execution_count": 17,
   "id": "91769b74-7c7e-4c52-bb0e-c1aec6d3c428",
   "metadata": {},
   "outputs": [
    {
     "name": "stdout",
     "output_type": "stream",
     "text": [
      "사과가~ 있어요~ ^_^\n",
      "사과가 없어요 !! ㅇ0ㅇ\n"
     ]
    }
   ],
   "source": [
    "if \"apple\" in fruit:\n",
    "    print(\"사과가~ 있어요~ ^_^\")\n",
    "if \"apple1\" not in fruit:\n",
    "    print(\"사과가 없어요 !! ㅇ0ㅇ\")"
   ]
  },
  {
   "cell_type": "code",
   "execution_count": 19,
   "id": "8803367b-1789-41c5-b33d-0cdfde05eb4d",
   "metadata": {},
   "outputs": [
    {
     "name": "stdout",
     "output_type": "stream",
     "text": [
      "사과가 있어요 !!\n"
     ]
    }
   ],
   "source": [
    "# 위에껄로 계속 해도 되지만 ... 문법이 어수선하니까.\n",
    "if \"apple\" in fruit:\n",
    "    print(\"사과가 있어요 !!\")\n",
    "else:\n",
    "    print(\"사과가... 없어요 ...\")"
   ]
  },
  {
   "cell_type": "code",
   "execution_count": 27,
   "id": "1a4959d9-aca7-40bd-b003-d017cf2a67d0",
   "metadata": {},
   "outputs": [
    {
     "name": "stdout",
     "output_type": "stream",
     "text": [
      "사과가 있어요 !! ㅇ0ㅇ\n",
      "사과가 있다니까!! -0-\n",
      "사과가 있어!! -_-\n",
      "사! 과! 있! 음! -ㅁ-\n"
     ]
    }
   ],
   "source": [
    "if \"apple\" in fruit1:\n",
    "    print(\"사과가~ 있어요~ ^_^\")\n",
    "if \"apple\" in fruit2:  ## elif는... 취조하듯이 !!! ㅇ0ㅇ -0- 너... 이거 있어 없어 ??!\n",
    "    print(\"사과가 있어요 !! ㅇ0ㅇ\")\n",
    "if \"apple\" in fruit3:\n",
    "    print(\"사과가 있다니까!! -0-\")\n",
    "if \"apple\" in fruit4:\n",
    "    print(\"사과가 있어!! -_-\")\n",
    "if \"apple\" in fruit5:\n",
    "    print(\"사! 과! 있! 음! -ㅁ-\")"
   ]
  },
  {
   "cell_type": "code",
   "execution_count": 28,
   "id": "d618c980-cfc5-45cb-8c64-2f994e34efd0",
   "metadata": {},
   "outputs": [
    {
     "name": "stdout",
     "output_type": "stream",
     "text": [
      "fruit2에 사과가 있어요 !! ㅇ0ㅇ\n"
     ]
    }
   ],
   "source": [
    "if \"apple\" in fruit1:  # 차 례 대 로 취 조!\n",
    "    print(\"사과가~ 있어요~ ^_^\")\n",
    "elif \"apple\" in fruit2:  ## elif는... 취조하듯이 !!! ㅇ0ㅇ -0- 너... 이거 있어 없어 ??!\n",
    "    print(\"fruit2에 사과가 있어요 !! ㅇ0ㅇ\")\n",
    "elif \"apple\" in fruit3:\n",
    "    print(\"fruit3에 사과가 있어!! -0-\")\n",
    "elif \"apple\" in fruit4:\n",
    "    print(\"fruit4에 사과가 있어!! -_-\")\n",
    "elif \"apple\" in fruit5:\n",
    "    print(\"fruit5에 사! 과! 있! 음! -ㅁ-\")"
   ]
  },
  {
   "cell_type": "code",
   "execution_count": null,
   "id": "23783d3d-f386-4f7c-a1cc-73cc9fbc0ca0",
   "metadata": {},
   "outputs": [],
   "source": [
    "# if\n",
    "## elif, else if, elseif\n",
    "### else\n",
    "\n",
    "#### in, not, and, or\n",
    "\n",
    "# and : 예) 신분증과 서류와 1500원\n",
    "# or : 예) 신분증 또는 도장 또는 싸인"
   ]
  },
  {
   "cell_type": "code",
   "execution_count": 31,
   "id": "4c43b114-4900-490b-a4dc-af2b28c5ba49",
   "metadata": {},
   "outputs": [
    {
     "name": "stdout",
     "output_type": "stream",
     "text": [
      "조건에 맞아요 ! ㅇwㅇ\n"
     ]
    }
   ],
   "source": [
    "num = 10\n",
    "if (num > 5) and (num < 20) and (num > 0):  # 괄호를 쳐주는 게 좋다~ 계산이 잘 안 될 수 있으니까 !!\n",
    "    print(\"조건에 맞아요 ! ㅇwㅇ\")"
   ]
  },
  {
   "cell_type": "code",
   "execution_count": 36,
   "id": "b1ce924c-9caf-422f-9714-ed0021fc0819",
   "metadata": {},
   "outputs": [
    {
     "name": "stdout",
     "output_type": "stream",
     "text": [
      "조건에!! 맞아요!!\n"
     ]
    }
   ],
   "source": [
    "num = 10\n",
    "if (num < 5) or (num < 9) or (num >= 10):\n",
    "    print(\"조건에!! 맞아요!!\") # 거짓말 그치만 !!! or로 살릴 수 있어 !!"
   ]
  },
  {
   "cell_type": "code",
   "execution_count": 40,
   "id": "8f47c0c2-ed67-4408-8dd5-91c510974ed0",
   "metadata": {},
   "outputs": [],
   "source": [
    "# cf) 내 예시\n",
    "num = 102391024812\n",
    "if (num < 1092833) or (num == 1):\n",
    "    print(\"조건에.. 맞나?\")"
   ]
  },
  {
   "cell_type": "code",
   "execution_count": null,
   "id": "d1843c27-6f0c-40cd-934b-c25c041a2674",
   "metadata": {},
   "outputs": [],
   "source": [
    "num = 10\n",
    "if (num < 5) or ((num<9) and (num >= 10)): # 괄호를 쳐주면 우선순위를 설정해줄 수 있다 !!!\n",
    "    print(\"조건에 맞아요 !!\")"
   ]
  },
  {
   "cell_type": "code",
   "execution_count": null,
   "id": "832df785-542e-4c3a-98a5-c9a5a9433ed0",
   "metadata": {},
   "outputs": [],
   "source": [
    "## 디지털 0, false, \"\" 이거 외에는 다 1임 !!!!! ㅇ0ㅇ 놀라워라 디지털 세계"
   ]
  },
  {
   "cell_type": "code",
   "execution_count": 42,
   "id": "a9f58e7a-743c-4f4e-aba8-793b9fdf55fd",
   "metadata": {},
   "outputs": [
    {
     "name": "stdout",
     "output_type": "stream",
     "text": [
      "True\n"
     ]
    }
   ],
   "source": [
    "# any() ; 하나라도 참이면 참 !!!!\n",
    "value = [0,0,0,0,'안녕',0]  # 비트 개념에 따라 0이나 1 중 하나이므로...\n",
    "what = any(value)\n",
    "print(what)"
   ]
  },
  {
   "cell_type": "code",
   "execution_count": 48,
   "id": "d13fdeb3-a9a6-4b9d-96ea-d38bd0ab6255",
   "metadata": {},
   "outputs": [
    {
     "name": "stdout",
     "output_type": "stream",
     "text": [
      "모두 다 합격 !! ^0^\n",
      "false가 한 개 이상 존재 !! ㅇ0ㅇ\n",
      "false가 한 개 이상 존재 !! ㅇ0ㅇ\n"
     ]
    }
   ],
   "source": [
    "# all() ; 모두가 참이여아 해 !!!\n",
    "\n",
    "value1 = [1,1,1,1,1]\n",
    "value2 = [0,0,0,0,'안녕?',0]\n",
    "value3 = [0,0,0,0,0]\n",
    "what2 = all(value2)\n",
    "\n",
    "if all(value1):\n",
    "    print(\"모두 다 합격 !! ^0^\")\n",
    "if not all(value2):\n",
    "    print(\"false가 한 개 이상 존재 !! ㅇ0ㅇ\")\n",
    "if not all(value3):\n",
    "    print(\"false가 한 개 이상 존재 !! ㅇ0ㅇ\")"
   ]
  },
  {
   "cell_type": "code",
   "execution_count": null,
   "id": "e2f505c7-972a-4ec0-9eaf-28bdd3504e54",
   "metadata": {},
   "outputs": [],
   "source": [
    "## 20250410 특강 2번째 수업~~~ ^0^ 2 ! 일 ! 차!"
   ]
  },
  {
   "cell_type": "code",
   "execution_count": 1,
   "id": "2a33c6ef-b54b-4cbf-bdc7-d8f96a6fdf32",
   "metadata": {},
   "outputs": [
    {
     "name": "stdin",
     "output_type": "stream",
     "text": [
      "숫자를 입력하세요. 12345\n"
     ]
    },
    {
     "name": "stdout",
     "output_type": "stream",
     "text": [
      "123450 <class 'int'>\n"
     ]
    }
   ],
   "source": [
    "inp = input(\"숫자를 입력하세요.\") # 숫자가 아닌 문자로 받아져요 ! ^_^\n",
    "result = int(inp) * 10\n",
    "print(result, type(result))"
   ]
  },
  {
   "cell_type": "code",
   "execution_count": 9,
   "id": "cee8a1c3-08da-43ae-bed6-be2f8bd36836",
   "metadata": {},
   "outputs": [
    {
     "name": "stdin",
     "output_type": "stream",
     "text": [
      "숫자를 입력하세요 ! 🥸 3\n"
     ]
    },
    {
     "name": "stdout",
     "output_type": "stream",
     "text": [
      " 3를 보니 이건.. 🤔 홀수! \n"
     ]
    }
   ],
   "source": [
    "# 입력받은 수를 분석하여 홀수면 홀수, 짝수면 짝수라고 출력하기 ! ^0^\n",
    "\n",
    "inp = input(\"숫자를 입력하세요 ! 🥸\")\n",
    "result = int(inp)\n",
    "if result % 2 ==0:\n",
    "    print(f'{result}를 보니 이건.. 🤔 짝수 ! 🤓')\n",
    "else : print(f'{result}를 보니 이건.. 🤔 홀수! 🤓')"
   ]
  },
  {
   "cell_type": "code",
   "execution_count": 7,
   "id": "b5722a86-50d1-4837-a1d6-bd1399775447",
   "metadata": {},
   "outputs": [
    {
     "name": "stdin",
     "output_type": "stream",
     "text": [
      "나이를 입력하세요 ! 20\n"
     ]
    },
    {
     "name": "stdout",
     "output_type": "stream",
     "text": [
      "성인이구만.... 😏 마! 한 잔 하자! 🍻\n"
     ]
    }
   ],
   "source": [
    "# 나이를 입력 받아서 19살 이하면 미성년자 입니다 삐빅 / 19살 이상이면 성인이구만....마. 한 잔 하자! ^_^! 출력하기 ^_^\n",
    "inp = input(\"나이를 입력하세요 !\")\n",
    "result = int(inp)\n",
    "if result < 19:\n",
    "    print(\"미성년자! 미성년자 입니다 ! 삐빅 🚨\")\n",
    "elif result >=19:\n",
    "    print(\"성인이구만.... 😏 마! 한 잔 하자! 🍻\")"
   ]
  },
  {
   "cell_type": "code",
   "execution_count": 1,
   "id": "6649a857-34ad-455b-8115-9d31762defa4",
   "metadata": {},
   "outputs": [
    {
     "name": "stdin",
     "output_type": "stream",
     "text": [
      "과일바구니🧺에 어떤 과일이 들었을까요 ? 예) 사과🍎, 바나나🍌, 키위🥝, 수박🍉, 멜론🍈 사과\n"
     ]
    },
    {
     "name": "stdout",
     "output_type": "stream",
     "text": [
      "사과 과일은 바구니에 있답니다! 😉 하나 드릴까요? \n"
     ]
    }
   ],
   "source": [
    "# 과일박스 = ['사과', '바나나', '키위', '수박', '참외']에서 들어있는 값을 입력을 받을 때 과일박스에 과일이 존재하면 있다고 하고 없으면 없다고 나타내어라 !\n",
    "\n",
    "fruitbox = ['사과', '바나나', '키위', '수박', '멜론']\n",
    "inp = input(\"과일바구니🧺에 어떤 과일이 들었을까요 ? 예) 사과🍎, 바나나🍌, 키위🥝, 수박🍉, 멜론🍈\")\n",
    "if inp in fruitbox:\n",
    "    print(f\"{inp} 과일은 바구니에 있답니다! 😉 하나 드릴까요? \")\n",
    "else : print(f\"{inp} 과일은 바구니에 없어요.. 😣 다음에 준비해 드릴게요 !\")"
   ]
  },
  {
   "cell_type": "code",
   "execution_count": null,
   "id": "25195bd2-8416-43f0-8d6e-531737019715",
   "metadata": {},
   "outputs": [],
   "source": [
    "## 유성쌤의 확인을 받은 문제입니다... 크큭 ^_^"
   ]
  },
  {
   "cell_type": "code",
   "execution_count": 14,
   "id": "1f44761d-0a7a-4618-8905-f11dcd8572a4",
   "metadata": {},
   "outputs": [
    {
     "name": "stdin",
     "output_type": "stream",
     "text": [
      "과일바구니🧺에 어떤 과일이 들었을까요 ? 🤔 예) 사과🍎, 바나나🍌, 키위🥝, 수박🍉, 멜론🍈, 체리🍒, 복숭아🍑, 레몬🍋 체리\n"
     ]
    },
    {
     "name": "stdout",
     "output_type": "stream",
     "text": [
      "체리 과일은 바구니🧺에 6번째에 들었답니다~ 🥰 맛있게 드세요 ! 🤗\n"
     ]
    }
   ],
   "source": [
    "### 키위 하면 키위가 몇번째 있습니다 ^_^!! 가르쳐 주는 코드 짜기 !!! 문제 !!!\n",
    "\n",
    "# print(fruitbox[0])\n",
    "\n",
    "fruitbox = ['사과', '바나나', '키위', '수박', '멜론', '체리', '복숭아', '레몬']\n",
    "# print(fruitbox.index('사과'))\n",
    "inp = input(\"과일바구니🧺에 어떤 과일이 들었을까요 ? 🤔 예) 사과🍎, 바나나🍌, 키위🥝, 수박🍉, 멜론🍈, 체리🍒, 복숭아🍑, 레몬🍋\")\n",
    "if inp in fruitbox:\n",
    "    print(f\"{inp} 과일은 바구니🧺에 {fruitbox.index(inp)+1}번째에 들었답니다~ 🥰 맛있게 드세요 ! 🤗\")\n",
    "else : print(f\"{inp} 과일은 바구니🧺에 없어요.. 😥 다음에 준비해 드릴게요 ! 😔\")\n"
   ]
  },
  {
   "cell_type": "code",
   "execution_count": null,
   "id": "84a8ceb5-9a0a-4951-a979-244f2e8d558c",
   "metadata": {},
   "outputs": [],
   "source": [
    "# ㅇ0ㅇ 식단표 크롤링해서 만들어보기 !!!!!!!! 셀 ! 레! 니! 움 ! 크! 롤 ! 링!"
   ]
  },
  {
   "cell_type": "code",
   "execution_count": null,
   "id": "fa3b53b7-f1ef-4068-aa6b-e7c1442a479a",
   "metadata": {},
   "outputs": [],
   "source": [
    "## 20250416 특강 세번째 !!!!!!!"
   ]
  },
  {
   "cell_type": "markdown",
   "id": "e5d6cf42-07fc-4989-887d-e79e3f08553b",
   "metadata": {},
   "source": [
    "# 3일차 !"
   ]
  },
  {
   "cell_type": "code",
   "execution_count": null,
   "id": "2cf29b3d-69a5-4ba6-8d0a-78d9d6da122c",
   "metadata": {},
   "outputs": [],
   "source": [
    "##\n",
    "\n",
    "- java\n",
    "- c\n",
    "- javascript\n",
    "\n",
    "for(시작; 끝 ; 스텝){}\n",
    "\n",
    "cf1) array = [2,4,6,8,10]\n",
    "for (int i=0; i<5 ; i++){\n",
    "    print(array[i])\n",
    "}\n",
    "\n",
    "cf2) arr = [2,4,6,8,10,12] # 거꾸로 가는게 더 빨랐다 !! 예전에는!!!!!\n",
    "for (int=0 ; i<6(arr.length) ; i++){\n",
    "    print(arr[i])\n",
    "}\n",
    "\n",
    "\n",
    "for(int i=0 ; i < 10 ; i ++){}\n",
    "\n",
    "- python\n",
    "for x in range(10):  # 0 생략 가능 !\n",
    "    print(x)\n",
    "range(0, 10, 1) ; 0 < x <=10, 0부터 10 직전까지 !!\n",
    "\n",
    "for x in (리스트, 튜플):\n",
    "    반복 !!\n",
    "\n",
    "!! for x in arr: (순회)\n",
    "    print(x)\n",
    "\n",
    " > while(계속 반복!)\n",
    " > for(순회 !)"
   ]
  },
  {
   "cell_type": "code",
   "execution_count": 3,
   "id": "b649b116-ee8e-4765-ac9f-4de17f0d2de7",
   "metadata": {},
   "outputs": [
    {
     "name": "stdout",
     "output_type": "stream",
     "text": [
      "range(0, 10)\n",
      "[0, 1, 2, 3, 4, 5, 6, 7, 8, 9]\n"
     ]
    }
   ],
   "source": [
    "print(range(10)) # iterable 순회할 수 있는 조건을 담고 있음 !!! > 실체화 시키기 전까지는 의미만 담고 있음 !!\n",
    "print(list(range(10)))"
   ]
  },
  {
   "cell_type": "code",
   "execution_count": null,
   "id": "9d2e1a27-7355-4895-97bb-be31725ff085",
   "metadata": {},
   "outputs": [],
   "source": [
    "while  ## '0' = True !!!! 0 자체는 false ^_^"
   ]
  },
  {
   "cell_type": "code",
   "execution_count": 10,
   "id": "efa181dc-e9c5-4f3c-b577-1e3b307ab379",
   "metadata": {},
   "outputs": [
    {
     "name": "stdout",
     "output_type": "stream",
     "text": [
      "계속가요\n",
      "계속가요\n",
      "계속가요\n",
      "계속가요\n",
      "계속가요\n",
      "계속가요\n",
      "계속가요\n",
      "계속가요\n",
      "계속가요\n",
      "계속가요\n"
     ]
    }
   ],
   "source": [
    "#while '0':\n",
    "#    print('계속가요') # 계속 간다.. 계속.. 계속....\n",
    "\n",
    "num = 0\n",
    "while True:\n",
    "    num += 1\n",
    "    print(\"계속가요\")\n",
    "    if num == 10:\n",
    "        break"
   ]
  },
  {
   "cell_type": "code",
   "execution_count": 18,
   "id": "c073f94e-253e-4590-9eed-38be1b30bf36",
   "metadata": {},
   "outputs": [
    {
     "name": "stdout",
     "output_type": "stream",
     "text": [
      "1번째 작업중...\n",
      "2번째 작업중...\n",
      "3번째 작업중...\n",
      "4번째 작업중...\n",
      "5번째 작업중...\n",
      "6번째 작업중...\n",
      "7번째 작업중...\n",
      "8번째 작업중...\n",
      "9번째 작업중...\n",
      "10번째 작업중...\n",
      "11번째 작업중...\n",
      "12번째 작업중...\n",
      "13번째 작업중...\n",
      "14번째 작업중...\n",
      "15번째 작업중...\n",
      "16번째 작업중...\n",
      "17번째 작업중...\n",
      "==========\n",
      "1 번째 작업 중\n",
      "2 번째 작업 중\n",
      "3 번째 작업 중\n",
      "4 번째 작업 중\n",
      "5 번째 작업 중\n",
      "6 번째 작업 중\n",
      "7 번째 작업 중\n",
      "8 번째 작업 중\n",
      "9 번째 작업 중\n",
      "10 번째 작업 중\n",
      "11 번째 작업 중\n",
      "12 번째 작업 중\n",
      "13 번째 작업 중\n",
      "14 번째 작업 중\n",
      "15 번째 작업 중\n",
      "16 번째 작업 중\n",
      "17 번째 작업 중\n"
     ]
    }
   ],
   "source": [
    "# 예제 1번 !!!\n",
    "num = 0\n",
    "while True:\n",
    "    num += 1\n",
    "    print(f\"{num}번째 작업중...\")\n",
    "    if num == 17:\n",
    "        break\n",
    "\n",
    "print('='*10)\n",
    "\n",
    "num = 0\n",
    "while num < 17:\n",
    "    num += 1 # 위에 있느냐, print 밑에 있느냐에 따라 다르다~\n",
    "    print(num, \"번째 작업 중\")"
   ]
  },
  {
   "cell_type": "code",
   "execution_count": 21,
   "id": "bcfa7b41-5097-45ba-bed7-3e3908c40d83",
   "metadata": {},
   "outputs": [
    {
     "name": "stdout",
     "output_type": "stream",
     "text": [
      "3 번째 작업중\n",
      "4 번째 작업중\n",
      "5 번째 작업중\n",
      "6 번째 작업중\n",
      "7 번째 작업중\n",
      "8 번째 작업중\n",
      "9 번째 작업중\n",
      "10 번째 작업중\n",
      "11 번째 작업중\n",
      "12 번째 작업중\n"
     ]
    }
   ],
   "source": [
    "# 위와 같은 내용을 for문으로 해보자 !!\n",
    "for n in range(3,13):\n",
    "    print(n, '번째 작업중')"
   ]
  },
  {
   "cell_type": "code",
   "execution_count": 24,
   "id": "de703e37-0e1a-4860-9116-fd77c8c9a09c",
   "metadata": {},
   "outputs": [
    {
     "name": "stdout",
     "output_type": "stream",
     "text": [
      "3 6 9 12 15 18 21 24 27 30 33 36 39 42 45 48 51 54 57 60 63 66 69 72 75 78 81 84 87 90 93 96 99 "
     ]
    }
   ],
   "source": [
    "# 문제!!! \n",
    "# 1) for로 1부터 100 중에 3의 배수만 출력하라\n",
    "for n in range(1,101):\n",
    "    if n % 3 == 0:\n",
    "        print(n, end = \" \")"
   ]
  },
  {
   "cell_type": "code",
   "execution_count": 33,
   "id": "b8a58634-a37e-4dc9-a09d-f501877933cc",
   "metadata": {},
   "outputs": [
    {
     "name": "stdout",
     "output_type": "stream",
     "text": [
      "0 3 6 9 12 15 18 21 24 27 30 33 36 39 42 45 48 51 54 57 60 63 66 69 72 75 78 81 84 87 90 93 96 99 \n",
      "==========\n",
      "3 6 9 12 15 18 21 24 27 30 33 36 39 42 45 48 51 54 57 60 63 66 69 72 75 78 81 84 87 90 93 96 99 \n",
      "==========\n",
      "3 6 9 12 15 18 21 24 27 30 33 36 39 42 45 48 51 54 57 60 63 66 69 72 75 78 81 84 87 90 93 96 99 "
     ]
    }
   ],
   "source": [
    "for x in range(1,101,3):\n",
    "    print(x-1, end = \" \")\n",
    "print('\\n'+'='*10)\n",
    "for y in range(1,34):\n",
    "    print(y*3, end = \" \")\n",
    "print('\\n'+'='*10)\n",
    "for z in range (3,101,3):\n",
    "    print(z, end = \" \")"
   ]
  },
  {
   "cell_type": "code",
   "execution_count": 39,
   "id": "87335b57-8da6-461b-af12-2d53cb906dde",
   "metadata": {},
   "outputs": [
    {
     "name": "stdout",
     "output_type": "stream",
     "text": [
      "4 x 1 = 4\n",
      "4 x 2 = 8\n",
      "4 x 3 = 12\n",
      "4 x 4 = 16\n",
      "4 x 5 = 20\n",
      "4 x 6 = 24\n",
      "4 x 7 = 28\n",
      "4 x 8 = 32\n",
      "4 x 9 = 36\n"
     ]
    }
   ],
   "source": [
    "# 구구단 4단을 출력하세요. cf) 표시는 4 x 1 = 4 !!! 이렇게 !!!\n",
    "for i in range(1,10):\n",
    "    print(f'4 x {i} = {i*4}')"
   ]
  },
  {
   "cell_type": "code",
   "execution_count": 49,
   "id": "9c35d01d-88dd-4f96-8368-615743910adc",
   "metadata": {},
   "outputs": [
    {
     "name": "stdout",
     "output_type": "stream",
     "text": [
      "==========\n",
      "1단 !!!\n",
      "==========\n",
      "1 x 1 = 1\n",
      "1 x 2 = 2\n",
      "1 x 3 = 3\n",
      "1 x 4 = 4\n",
      "1 x 5 = 5\n",
      "1 x 6 = 6\n",
      "1 x 7 = 7\n",
      "1 x 8 = 8\n",
      "1 x 9 = 9\n",
      "==========\n",
      "2단 !!!\n",
      "==========\n",
      "2 x 1 = 2\n",
      "2 x 2 = 4\n",
      "2 x 3 = 6\n",
      "2 x 4 = 8\n",
      "2 x 5 = 10\n",
      "2 x 6 = 12\n",
      "2 x 7 = 14\n",
      "2 x 8 = 16\n",
      "2 x 9 = 18\n",
      "==========\n",
      "3단 !!!\n",
      "==========\n",
      "3 x 1 = 3\n",
      "3 x 2 = 6\n",
      "3 x 3 = 9\n",
      "3 x 4 = 12\n",
      "3 x 5 = 15\n",
      "3 x 6 = 18\n",
      "3 x 7 = 21\n",
      "3 x 8 = 24\n",
      "3 x 9 = 27\n",
      "==========\n",
      "4단 !!!\n",
      "==========\n",
      "4 x 1 = 4\n",
      "4 x 2 = 8\n",
      "4 x 3 = 12\n",
      "4 x 4 = 16\n",
      "4 x 5 = 20\n",
      "4 x 6 = 24\n",
      "4 x 7 = 28\n",
      "4 x 8 = 32\n",
      "4 x 9 = 36\n",
      "==========\n",
      "5단 !!!\n",
      "==========\n",
      "5 x 1 = 5\n",
      "5 x 2 = 10\n",
      "5 x 3 = 15\n",
      "5 x 4 = 20\n",
      "5 x 5 = 25\n",
      "5 x 6 = 30\n",
      "5 x 7 = 35\n",
      "5 x 8 = 40\n",
      "5 x 9 = 45\n",
      "==========\n",
      "6단 !!!\n",
      "==========\n",
      "6 x 1 = 6\n",
      "6 x 2 = 12\n",
      "6 x 3 = 18\n",
      "6 x 4 = 24\n",
      "6 x 5 = 30\n",
      "6 x 6 = 36\n",
      "6 x 7 = 42\n",
      "6 x 8 = 48\n",
      "6 x 9 = 54\n",
      "==========\n",
      "7단 !!!\n",
      "==========\n",
      "7 x 1 = 7\n",
      "7 x 2 = 14\n",
      "7 x 3 = 21\n",
      "7 x 4 = 28\n",
      "7 x 5 = 35\n",
      "7 x 6 = 42\n",
      "7 x 7 = 49\n",
      "7 x 8 = 56\n",
      "7 x 9 = 63\n",
      "==========\n",
      "8단 !!!\n",
      "==========\n",
      "8 x 1 = 8\n",
      "8 x 2 = 16\n",
      "8 x 3 = 24\n",
      "8 x 4 = 32\n",
      "8 x 5 = 40\n",
      "8 x 6 = 48\n",
      "8 x 7 = 56\n",
      "8 x 8 = 64\n",
      "8 x 9 = 72\n",
      "==========\n",
      "9단 !!!\n",
      "==========\n",
      "9 x 1 = 9\n",
      "9 x 2 = 18\n",
      "9 x 3 = 27\n",
      "9 x 4 = 36\n",
      "9 x 5 = 45\n",
      "9 x 6 = 54\n",
      "9 x 7 = 63\n",
      "9 x 8 = 72\n",
      "9 x 9 = 81\n",
      "==========\n",
      "10단 !!!\n",
      "==========\n",
      "10 x 1 = 10\n",
      "10 x 2 = 20\n",
      "10 x 3 = 30\n",
      "10 x 4 = 40\n",
      "10 x 5 = 50\n",
      "10 x 6 = 60\n",
      "10 x 7 = 70\n",
      "10 x 8 = 80\n",
      "10 x 9 = 90\n",
      "==========\n",
      "11단 !!!\n",
      "==========\n",
      "11 x 1 = 11\n",
      "11 x 2 = 22\n",
      "11 x 3 = 33\n",
      "11 x 4 = 44\n",
      "11 x 5 = 55\n",
      "11 x 6 = 66\n",
      "11 x 7 = 77\n",
      "11 x 8 = 88\n",
      "11 x 9 = 99\n",
      "==========\n",
      "12단 !!!\n",
      "==========\n",
      "12 x 1 = 12\n",
      "12 x 2 = 24\n",
      "12 x 3 = 36\n",
      "12 x 4 = 48\n",
      "12 x 5 = 60\n",
      "12 x 6 = 72\n",
      "12 x 7 = 84\n",
      "12 x 8 = 96\n",
      "12 x 9 = 108\n"
     ]
    }
   ],
   "source": [
    "# 구구단 표시하기 !!\n",
    "for n in range(1,13):\n",
    "    for x in range(1,10):\n",
    "        if x == 1:\n",
    "            print('='*10)\n",
    "            print(f'{n}단 !!!')\n",
    "            print('='*10)\n",
    "        print(f'{n} x {x} = {n*x}')"
   ]
  },
  {
   "cell_type": "code",
   "execution_count": null,
   "id": "7182b24b-5004-4fdd-9414-36e035bee984",
   "metadata": {},
   "outputs": [],
   "source": [
    "# 4일차!!!! ㅇ0ㅇ !!! 특강 4일차 됐어!!! 20250424 !!"
   ]
  },
  {
   "cell_type": "code",
   "execution_count": null,
   "id": "9c15299f-45cc-4d64-8011-ca1263b0b076",
   "metadata": {},
   "outputs": [],
   "source": [
    "import random\n",
    "dir(random)\n",
    "# seed라는 함수가 중요하대 !!"
   ]
  },
  {
   "cell_type": "code",
   "execution_count": 2,
   "id": "f294b5d4-49c9-4ab6-b632-c1e4df7fd4b0",
   "metadata": {},
   "outputs": [
    {
     "name": "stdout",
     "output_type": "stream",
     "text": [
      "주사위 던지기 시~작!\n",
      "5\n",
      "5\n",
      "5\n",
      "4\n",
      "4\n",
      "2\n",
      "1\n",
      "4\n",
      "4\n",
      "2\n",
      "숫자 4가 나온 갯수 ! : 4\n",
      "숫자 5가 나온 갯수 ! : 3\n"
     ]
    }
   ],
   "source": [
    "import random as r\n",
    "r.seed(302)  # 시드를 줘서 랜덤으로 뽑아도 값이 같게 나오도록 !!\n",
    "\n",
    "num1 = 0\n",
    "num2 = 0\n",
    "num3 = 0\n",
    "num4 = 0\n",
    "num5 = 0\n",
    "num6 = 0\n",
    "\n",
    "print(\"주사위 던지기 시~작!\")\n",
    "for n in range(10) : \n",
    "    dice = r.randint (1,6)\n",
    "    if dice == 5:\n",
    "        num5 = num5 + 1\n",
    "    if dice == 4:\n",
    "        num4 = num4 + 1\n",
    "    print(dice)\n",
    "print(\"숫자 4가 나온 갯수 ! :\", num4)\n",
    "print(\"숫자 5가 나온 갯수 ! :\", num5)  # for문 밖이므로 누적된 num5가 출력될 거야 !!"
   ]
  },
  {
   "cell_type": "code",
   "execution_count": 4,
   "id": "852eddb1-1e86-4c4a-8cf5-aa60c71f4572",
   "metadata": {
    "scrolled": true
   },
   "outputs": [
    {
     "name": "stdout",
     "output_type": "stream",
     "text": [
      "주사위 던지기 시~작!\n",
      "5\n",
      "5\n",
      "5\n",
      "4\n",
      "4\n",
      "2\n",
      "1\n",
      "4\n",
      "4\n",
      "2\n",
      "숫자 4가 나온 갯수 ! : 8\n",
      "숫자 5가 나온 갯수 ! : 6\n"
     ]
    }
   ],
   "source": [
    "import random as r\n",
    "r.seed(302)  # 시드를 줘서 랜덤으로 뽑아도 값이 같게 나오도록 !!\n",
    "\n",
    "num = [0] * 6\n",
    "\n",
    "print(\"주사위 던지기 시~작!\")\n",
    "for n in range(10) : \n",
    "    dice = r.randint (1,6)\n",
    "    if dice == 5:\n",
    "        num5 = num5 + 1\n",
    "    if dice == 4:\n",
    "        num4 = num4 + 1\n",
    "    print(dice)\n",
    "print(\"숫자 4가 나온 갯수 ! :\", num4)\n",
    "print(\"숫자 5가 나온 갯수 ! :\", num5)  # for문 밖이므로 누적된 num5가 출력될 거야 !!"
   ]
  },
  {
   "cell_type": "code",
   "execution_count": null,
   "id": "46483a97-c6d3-4db8-85ec-998c45205e78",
   "metadata": {},
   "outputs": [],
   "source": [
    "# 리스트에 0을 6개 채우는 방법 2가지만 고안해내라. [0,0,0,0,0,0]"
   ]
  },
  {
   "cell_type": "code",
   "execution_count": 5,
   "id": "5439dc51-293f-4f2b-a9f0-e94688daa1f7",
   "metadata": {},
   "outputs": [
    {
     "name": "stdout",
     "output_type": "stream",
     "text": [
      "[0, 0, 0, 0, 0, 0]\n"
     ]
    }
   ],
   "source": [
    "lst = []\n",
    "num = 0\n",
    "while True :\n",
    "    lst.append(num)\n",
    "    if len(lst) == 6:\n",
    "        break\n",
    "print(lst)"
   ]
  },
  {
   "cell_type": "code",
   "execution_count": 8,
   "id": "206604e9-19a5-4bf3-a3d1-fd2839a7e25a",
   "metadata": {},
   "outputs": [
    {
     "name": "stdout",
     "output_type": "stream",
     "text": [
      "1: [0, 0, 0, 0, 0, 0]\n",
      "2: [0, 0, 0, 0, 0, 0]\n",
      "3: [0, 0, 0, 0, 0, 0]\n",
      "4: [0, 0, 0, 0, 0, 0]\n",
      "5: [0, 0, 0, 0, 0, 0]\n"
     ]
    }
   ],
   "source": [
    "# 선생님 방법 !!\n",
    " # 1\n",
    "l1 = [0]*6\n",
    "print(\"1:\", l1)\n",
    "\n",
    " # 2\n",
    "l2 = []\n",
    "for n in range(6):\n",
    "    l2.append(0)\n",
    "print(\"2:\",l2)\n",
    "\n",
    " # 3\n",
    "l3 = [0 for x in range(6)]\n",
    "print(\"3:\",l3)\n",
    "\n",
    " # 4 ; 고오급방법\n",
    "l4 = list(map(lambda x: 0, range(6)))\n",
    "print(\"4:\",l4)\n",
    "\n",
    " # 5 ; 주의할 것 !!! list로 변수를 잡아버리면 나중에 list 함수를 쓸 수 없게 됨 !! 변수 이름 꼭 기억하자 ^0^\n",
    "import numpy as np\n",
    "l5 = list(map(int,np.zeros(6, dtype=int)))\n",
    "print(\"5:\",l5)"
   ]
  },
  {
   "cell_type": "code",
   "execution_count": 13,
   "id": "8d5c0d1f-8b79-4a97-a4b1-e4c76fac8f36",
   "metadata": {},
   "outputs": [
    {
     "name": "stdout",
     "output_type": "stream",
     "text": [
      "주사위 던지기 시~작!\n",
      "1번 횟수 : 1690 / 16.90 %\n",
      "2번 횟수 : 1655 / 16.55 %\n",
      "3번 횟수 : 1671 / 16.71 %\n",
      "4번 횟수 : 1711 / 17.11 %\n",
      "5번 횟수 : 1645 / 16.45 %\n",
      "6번 횟수 : 1628 / 16.28 %\n"
     ]
    }
   ],
   "source": [
    "import random as r\n",
    "r.seed(302)  # 시드를 줘서 랜덤으로 뽑아도 값이 같게 나오도록 !!\n",
    "\n",
    "num = [0] * 6 # [0,0,0,0,0,0]\n",
    "\n",
    "turn =10000\n",
    "\n",
    "print(\"주사위 던지기 시~작!\")\n",
    "for n in range(turn) : \n",
    "    dice = r.randint(1,6) # 1,2,3,4,5,6\n",
    "    num[dice -1] += 1\n",
    "\n",
    "for x in range(6):\n",
    "    print(f\"{x+1}번 횟수 : {num[x]} / {((num[x]/turn)* 100):.2f} %\")"
   ]
  },
  {
   "cell_type": "code",
   "execution_count": 28,
   "id": "2df59305-f4fd-4188-a9d7-391e97bddce6",
   "metadata": {},
   "outputs": [
    {
     "name": "stdout",
     "output_type": "stream",
     "text": [
      "1번 횟수 : 209 / 2.09 %\n",
      "2번 횟수 : 243 / 2.43 %\n",
      "3번 횟수 : 229 / 2.29 %\n",
      "4번 횟수 : 219 / 2.19 %\n",
      "5번 횟수 : 204 / 2.04 %\n",
      "6번 횟수 : 234 / 2.34 %\n",
      "7번 횟수 : 207 / 2.07 %\n",
      "8번 횟수 : 244 / 2.44 %\n",
      "9번 횟수 : 208 / 2.08 %\n",
      "10번 횟수 : 221 / 2.21 %\n",
      "11번 횟수 : 219 / 2.19 %\n",
      "12번 횟수 : 239 / 2.39 %\n",
      "13번 횟수 : 207 / 2.07 %\n",
      "14번 횟수 : 220 / 2.20 %\n",
      "15번 횟수 : 229 / 2.29 %\n",
      "16번 횟수 : 242 / 2.42 %\n",
      "17번 횟수 : 246 / 2.46 %\n",
      "18번 횟수 : 195 / 1.95 %\n",
      "19번 횟수 : 208 / 2.08 %\n",
      "20번 횟수 : 220 / 2.20 %\n",
      "21번 횟수 : 229 / 2.29 %\n",
      "22번 횟수 : 212 / 2.12 %\n",
      "23번 횟수 : 238 / 2.38 %\n",
      "24번 횟수 : 187 / 1.87 %\n",
      "25번 횟수 : 217 / 2.17 %\n",
      "26번 횟수 : 209 / 2.09 %\n",
      "27번 횟수 : 211 / 2.11 %\n",
      "28번 횟수 : 216 / 2.16 %\n",
      "29번 횟수 : 228 / 2.28 %\n",
      "30번 횟수 : 244 / 2.44 %\n",
      "31번 횟수 : 233 / 2.33 %\n",
      "32번 횟수 : 208 / 2.08 %\n",
      "33번 횟수 : 213 / 2.13 %\n",
      "34번 횟수 : 218 / 2.18 %\n",
      "35번 횟수 : 237 / 2.37 %\n",
      "36번 횟수 : 210 / 2.10 %\n",
      "37번 횟수 : 223 / 2.23 %\n",
      "38번 횟수 : 247 / 2.47 %\n",
      "39번 횟수 : 212 / 2.12 %\n",
      "40번 횟수 : 226 / 2.26 %\n",
      "41번 횟수 : 235 / 2.35 %\n",
      "42번 횟수 : 221 / 2.21 %\n",
      "43번 횟수 : 213 / 2.13 %\n",
      "44번 횟수 : 232 / 2.32 %\n",
      "45번 횟수 : 238 / 2.38 %\n"
     ]
    }
   ],
   "source": [
    "import random as r  # r을 사용하기 위해 import 추가\n",
    "\n",
    "Num = [0] * 45\n",
    "turn = 10000 \n",
    "\n",
    "for y in range(1, turn + 1):\n",
    "    lotto = r.randint(1, 45)\n",
    "    Num[lotto - 1] += 1\n",
    "\n",
    "for z in range(45):\n",
    "    print(f\"{z+1}번 횟수 : {Num[z]} / {((Num[z]/turn)* 100):.2f} %\")"
   ]
  },
  {
   "cell_type": "code",
   "execution_count": null,
   "id": "074fc0c3-1817-472e-8531-ffded36ede48",
   "metadata": {},
   "outputs": [],
   "source": [
    "# 20250507 유성쌤과~ 함께하는~ 특강~ 5일차 !!! "
   ]
  },
  {
   "cell_type": "code",
   "execution_count": 5,
   "id": "3c5dfcd2-5114-431e-a793-bb726c5e989c",
   "metadata": {},
   "outputs": [],
   "source": [
    "# 함수 재사용 !!!\n",
    "def fn1():\n",
    "    print('반가워요.')\n",
    "    return '안녕하세요! ^_^'"
   ]
  },
  {
   "cell_type": "code",
   "execution_count": 6,
   "id": "cfe008c6-3ebf-4c73-ac23-8285b8ea9158",
   "metadata": {},
   "outputs": [
    {
     "name": "stdout",
     "output_type": "stream",
     "text": [
      "반가워요.\n",
      "안녕하세요! ^_^\n"
     ]
    }
   ],
   "source": [
    "str = fn1()\n",
    "print(str)"
   ]
  },
  {
   "cell_type": "code",
   "execution_count": 13,
   "id": "965a2a27-34bc-4635-b259-bf66722d52cd",
   "metadata": {},
   "outputs": [],
   "source": [
    "def fn2(a=1, b=2):\n",
    "    c = a + b\n",
    "    print(c,\"계산합니다.\")\n",
    "    return c # print 와 return의 차이 잘 알아놓을 것!!! \n",
    "def inner_fn(d):\n",
    "    print(d,\"계산했습니다.\")\n",
    "    return d*10"
   ]
  },
  {
   "cell_type": "code",
   "execution_count": null,
   "id": "873bf61e-91f7-425e-9db1-37205fa58b7d",
   "metadata": {},
   "outputs": [],
   "source": [
    "# print는 보여만 주는 것 ! 값을 직접 전달해 주는 것은 return!! "
   ]
  },
  {
   "cell_type": "code",
   "execution_count": 14,
   "id": "a1e24c7f-6b62-4e0e-b3e1-f359b8d03ecb",
   "metadata": {},
   "outputs": [
    {
     "name": "stdout",
     "output_type": "stream",
     "text": [
      "5 계산했습니다.\n",
      "6 계산했습니다.\n",
      "110 계산합니다.\n"
     ]
    },
    {
     "data": {
      "text/plain": [
       "110"
      ]
     },
     "execution_count": 14,
     "metadata": {},
     "output_type": "execute_result"
    }
   ],
   "source": [
    "fn2(inner_fn(5), inner_fn(6)) # 안의 inner_fn부터 먼저 계산이 됨을 알 수 있다!!"
   ]
  },
  {
   "cell_type": "code",
   "execution_count": 15,
   "id": "ad1bf30c-b42d-4a94-adee-93b864fc9fe8",
   "metadata": {},
   "outputs": [
    {
     "name": "stdout",
     "output_type": "stream",
     "text": [
      "<class 'tuple'> (1, 2, 3, 4, 5)\n"
     ]
    }
   ],
   "source": [
    "a = 1,2,3,4,5   # 파이썬의 튜플은 괄호를 생략 가능~~\n",
    "print(type(a),a)"
   ]
  },
  {
   "cell_type": "code",
   "execution_count": 18,
   "id": "b5a04592-4891-41fc-a672-133b929a2b4d",
   "metadata": {},
   "outputs": [],
   "source": [
    "def add_all1(a,b,c,d,e):\n",
    "    total = a+b+c+d+e\n",
    "    return total"
   ]
  },
  {
   "cell_type": "code",
   "execution_count": 19,
   "id": "17c4403f-7693-4082-98fe-8db802fd4b60",
   "metadata": {},
   "outputs": [
    {
     "ename": "TypeError",
     "evalue": "add_all1() takes 5 positional arguments but 6 were given",
     "output_type": "error",
     "traceback": [
      "\u001b[1;31m---------------------------------------------------------------------------\u001b[0m",
      "\u001b[1;31mTypeError\u001b[0m                                 Traceback (most recent call last)",
      "Cell \u001b[1;32mIn[19], line 1\u001b[0m\n\u001b[1;32m----> 1\u001b[0m \u001b[43madd_all1\u001b[49m\u001b[43m(\u001b[49m\u001b[38;5;241;43m1\u001b[39;49m\u001b[43m,\u001b[49m\u001b[38;5;241;43m2\u001b[39;49m\u001b[43m,\u001b[49m\u001b[38;5;241;43m3\u001b[39;49m\u001b[43m,\u001b[49m\u001b[38;5;241;43m4\u001b[39;49m\u001b[43m,\u001b[49m\u001b[38;5;241;43m5\u001b[39;49m\u001b[43m,\u001b[49m\u001b[38;5;241;43m6\u001b[39;49m\u001b[43m)\u001b[49m \u001b[38;5;66;03m# 요로코롬 하면 전달된 개수가 더 많아서 계산이 안 됨 !!\u001b[39;00m\n",
      "\u001b[1;31mTypeError\u001b[0m: add_all1() takes 5 positional arguments but 6 were given"
     ]
    }
   ],
   "source": [
    "add_all1(1,2,3,4,5,6) # 요로코롬 하면 전달된 개수가 더 많아서 계산이 안 됨 !!"
   ]
  },
  {
   "cell_type": "code",
   "execution_count": 26,
   "id": "e3fb9b8b-5859-4a62-803f-f9c93dbb8fa5",
   "metadata": {},
   "outputs": [],
   "source": [
    "# 인자를 여러 개 받을 때 초과되거나 모자라면 에러 !! (가변인자함수를 사용 ; 튜플로 변환)\n",
    "def add_all2(*args): # * 덕분에 인자를 몇 개 넣든 에러를 일으키지 않는다!!\n",
    "    print(\"부분 연산하면\", args[0] + args[1])\n",
    "    for x in args:\n",
    "        print(x)"
   ]
  },
  {
   "cell_type": "code",
   "execution_count": 27,
   "id": "f480fc21-820a-4f17-a3c2-8412b9a4eed4",
   "metadata": {},
   "outputs": [
    {
     "name": "stdout",
     "output_type": "stream",
     "text": [
      "부분 연산하면 3\n",
      "1\n",
      "2\n",
      "3\n",
      "4\n",
      "5\n",
      "6\n"
     ]
    }
   ],
   "source": [
    "add_all2(1,2,3,4,5,6)"
   ]
  },
  {
   "cell_type": "code",
   "execution_count": 32,
   "id": "f920b5a1-502d-4700-aae1-9f51be3a3276",
   "metadata": {},
   "outputs": [
    {
     "name": "stdout",
     "output_type": "stream",
     "text": [
      "<class 'dict'> {'수박': 3, '호박': 9, '멜론': 7, '사과': 3}\n"
     ]
    }
   ],
   "source": [
    "adic = {\"수박\":3, \"호박\":9, \"멜론\":7, \"사과\":3}\n",
    "print(type(adic),adic)"
   ]
  },
  {
   "cell_type": "code",
   "execution_count": 33,
   "id": "d857ecb4-c480-4335-89ff-65e309b1aea8",
   "metadata": {},
   "outputs": [
    {
     "data": {
      "text/plain": [
       "dict_items([('수박', 3), ('호박', 9), ('멜론', 7), ('사과', 3)])"
      ]
     },
     "execution_count": 33,
     "metadata": {},
     "output_type": "execute_result"
    }
   ],
   "source": [
    "adic.items() # 딕셔너리를 튜플 형태로 감싸진 리스트 형태로 만들어 줌 !!!"
   ]
  },
  {
   "cell_type": "code",
   "execution_count": 36,
   "id": "7f1bd24e-df0f-48ec-8940-667f527ab087",
   "metadata": {},
   "outputs": [],
   "source": [
    "def add_dic(**kwargs): # \"k\"ey\"w\"ord args!!! \n",
    "    for key, value in kwargs.items():\n",
    "        print(key+\"입니다.\", value*1000)"
   ]
  },
  {
   "cell_type": "code",
   "execution_count": 38,
   "id": "bf8544e1-9014-48cc-bfab-52ad5b971204",
   "metadata": {},
   "outputs": [
    {
     "name": "stdout",
     "output_type": "stream",
     "text": [
      "수박입니다. 3000\n",
      "호박입니다. 9000\n",
      "멜론입니다. 7000\n",
      "사과입니다. 3000\n"
     ]
    }
   ],
   "source": [
    "add_dic(**adic) "
   ]
  },
  {
   "cell_type": "code",
   "execution_count": 39,
   "id": "777daa4a-da99-4b39-bfbe-a92fab50124f",
   "metadata": {},
   "outputs": [
    {
     "name": "stdout",
     "output_type": "stream",
     "text": [
      "호박입니다. 3000\n",
      "과일입니다. 2000\n",
      "딸기주스입니다. 1000\n"
     ]
    }
   ],
   "source": [
    "add_dic(호박=3, 과일 =2, 딸기주스=1) # **별표 두 개를 치니까 형식이 이렇게 바뀌었대 !!!"
   ]
  },
  {
   "cell_type": "code",
   "execution_count": 42,
   "id": "e5bc2521-8257-4dce-83ea-2df7a3cf1ab6",
   "metadata": {},
   "outputs": [
    {
     "name": "stdout",
     "output_type": "stream",
     "text": [
      "[0, 1, 2, 3, 4, 5, 6, 7, 8, 9]\n"
     ]
    }
   ],
   "source": [
    "# 리스트 컴프리핸션!!ㅇ0ㅇ 잘 알아두자~~\n",
    "# lc = [1,2,3,4,5]\n",
    "lc1 = []\n",
    "for n in range(10):\n",
    "    lc1.append(n)\n",
    "print(lc1)"
   ]
  },
  {
   "cell_type": "code",
   "execution_count": 43,
   "id": "2bdfd445-590c-4b02-9f63-765ae47e3d57",
   "metadata": {},
   "outputs": [
    {
     "name": "stdout",
     "output_type": "stream",
     "text": [
      "[0, 1, 2, 3, 4, 5, 6, 7, 8, 9]\n"
     ]
    }
   ],
   "source": [
    "lc2 = [x for x in range(10)] # 출력되는 부분을 앞으로! 조건을 뒤로!\n",
    "print(lc2)"
   ]
  },
  {
   "cell_type": "code",
   "execution_count": 48,
   "id": "95884c3c-b477-4598-90df-57e87729e582",
   "metadata": {},
   "outputs": [
    {
     "name": "stdout",
     "output_type": "stream",
     "text": [
      "[0, 4, 8, 12, 16, 20, 24, 28, 32, 36]\n"
     ]
    }
   ],
   "source": [
    "lc3 = []\n",
    "for y in range(20):\n",
    "    if y%2==0:\n",
    "        lc3.append(y*2)\n",
    "print(lc3)"
   ]
  },
  {
   "cell_type": "code",
   "execution_count": 45,
   "id": "44318af3-9314-4e5e-b2fd-d5be9f2da372",
   "metadata": {},
   "outputs": [
    {
     "name": "stdout",
     "output_type": "stream",
     "text": [
      "[0, 4, 8, 12, 16, 20, 24, 28, 32, 36]\n"
     ]
    }
   ],
   "source": [
    "lc3 = [y*2 for y in range(20) if y%2==0]\n",
    "print(lc3)"
   ]
  },
  {
   "cell_type": "code",
   "execution_count": 49,
   "id": "1b7fa1eb-286b-416c-9e8a-681ca9989612",
   "metadata": {},
   "outputs": [
    {
     "name": "stdout",
     "output_type": "stream",
     "text": [
      "['the', 'life', 'is', 'egg']\n"
     ]
    }
   ],
   "source": [
    "text = \"The Life is Egg\"\n",
    "words = [word.lower() for word in text.split()]\n",
    "print(words)"
   ]
  },
  {
   "cell_type": "code",
   "execution_count": 51,
   "id": "ce9c5e0f-49c6-424d-9c52-f533bffd4868",
   "metadata": {},
   "outputs": [
    {
     "name": "stdout",
     "output_type": "stream",
     "text": [
      "[(0, '짝수'), (1, '홀수'), (2, '짝수'), (3, '홀수'), (4, '짝수'), (5, '홀수'), (6, '짝수'), (7, '홀수'), (8, '짝수'), (9, '홀수'), (10, '짝수'), (11, '홀수'), (12, '짝수'), (13, '홀수'), (14, '짝수'), (15, '홀수'), (16, '짝수'), (17, '홀수'), (18, '짝수'), (19, '홀수')]\n"
     ]
    }
   ],
   "source": [
    "# if 문이 참이면 if 앞의 값이, 거짓이면 else 뒤의 값이 나옴 !!! ; 선택의 의미 !!\n",
    "lc4 = [(z,\"짝수\") if z%2==0 else (z,\"홀수\") for z in range(20)]\n",
    "print(lc4)"
   ]
  }
 ],
 "metadata": {
  "kernelspec": {
   "display_name": "Python 3 (ipykernel)",
   "language": "python",
   "name": "python3"
  },
  "language_info": {
   "codemirror_mode": {
    "name": "ipython",
    "version": 3
   },
   "file_extension": ".py",
   "mimetype": "text/x-python",
   "name": "python",
   "nbconvert_exporter": "python",
   "pygments_lexer": "ipython3",
   "version": "3.13.1"
  }
 },
 "nbformat": 4,
 "nbformat_minor": 5
}
