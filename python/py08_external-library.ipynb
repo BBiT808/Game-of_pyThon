{
 "cells": [
  {
   "cell_type": "markdown",
   "id": "f85f03d3-5522-43eb-8a60-0951e32ddc68",
   "metadata": {},
   "source": [
    "# 외부 라이브러리"
   ]
  },
  {
   "cell_type": "markdown",
   "id": "5ccd0c98-4062-4780-9d33-e0aecc8b998c",
   "metadata": {},
   "source": [
    "## pip *"
   ]
  },
  {
   "cell_type": "markdown",
   "id": "475c3e6c-af9d-405c-981a-228f3356f338",
   "metadata": {},
   "source": [
    "   *cf)*\n",
    "- venv1 생성 후 백업: pip freeze > requirements.txt\n",
    "- venv2 생성 후 복구: pip install -r requirements.txt\n",
    "- venv3 jupyterlab 설치후 matplotlib 설치 후 백업하고\n",
    "- venv4 에 pip 리스트 그대로 복구하라.\n",
    "- venv5 에 numpy 2.2.2 버전으로 복구되도록 requirements.txt 수정 후 복구하라.\n"
   ]
  },
  {
   "cell_type": "markdown",
   "id": "855aa86e-7fa1-4ec7-b661-1533f1a0cea5",
   "metadata": {},
   "source": [
    "## Faker"
   ]
  },
  {
   "cell_type": "code",
   "execution_count": null,
   "id": "b475c71d-a8f3-4bfa-a079-ab8a81f7b225",
   "metadata": {},
   "outputs": [],
   "source": [
    "# 젠장 오늘도 난 숭배해야만 해  . . ."
   ]
  },
  {
   "cell_type": "code",
   "execution_count": 8,
   "id": "b6c2c145-2d59-44f9-ac73-e8e33b63cffe",
   "metadata": {},
   "outputs": [
    {
     "name": "stdout",
     "output_type": "stream",
     "text": [
      "오늘도 이상혁 : 신을 봐버렸어..\n",
      "젠장 난 오늘도 숭배해야만 해..\n"
     ]
    }
   ],
   "source": [
    "from faker import Faker\n",
    "import random\n",
    "\n",
    "fake = Faker('ko-KR')\n",
    "found = False\n",
    "\n",
    "def custom_name_generator(fake):\n",
    "    # '이상혁'을 포함한 사용자 정의 이름 목록\n",
    "    custom_names = [\"이상혁\"] + [fake.name() for _ in range(9999)]\n",
    "    return random.choice(custom_names)\n",
    "\n",
    "for _ in range(10000):\n",
    "    n = custom_name_generator(fake)\n",
    "    if n == \"이상혁\":\n",
    "        print(f\"오늘도 {n} : 신을 봐버렸어..\\n젠장 난 오늘도 숭배해야만 해..\")\n",
    "        found = True  # '이상혁'을 발견했음을 표시\n",
    "        break  # '이상혁'을 발견한 경우 반복을 종료\n",
    "\n",
    "# '이상혁'이 한 번도 나타나지 않은 경우에 메시지를 출력\n",
    "if not found:\n",
    "    print(\"오늘도 신을 영접하지 못했다.\")"
   ]
  },
  {
   "cell_type": "code",
   "execution_count": null,
   "id": "1cfd2e82-3939-4d0b-9bcb-4de05434bd4b",
   "metadata": {},
   "outputs": [],
   "source": [
    "#!pip install Faker"
   ]
  },
  {
   "cell_type": "code",
   "execution_count": 25,
   "id": "bd390411-56eb-4385-a496-3d0685cc1e65",
   "metadata": {
    "scrolled": true
   },
   "outputs": [
    {
     "data": {
      "text/plain": [
       "[{'name': '강정자',\n",
       "  'id': 'junseoi',\n",
       "  'phone': '053-319-6235',\n",
       "  'email': 'gangjeonghun@example.net'},\n",
       " {'name': '김정식',\n",
       "  'id': 'ehan',\n",
       "  'phone': '062-225-6825',\n",
       "  'email': 'doyuni@example.org'},\n",
       " {'name': '임상훈',\n",
       "  'id': 'gbag',\n",
       "  'phone': '018-102-8352',\n",
       "  'email': 'gimyeonghwan@example.com'},\n",
       " {'name': '배승현',\n",
       "  'id': 'songujin',\n",
       "  'phone': '052-899-0437',\n",
       "  'email': 'simogja@example.org'},\n",
       " {'name': '박미영',\n",
       "  'id': 'cunjagim',\n",
       "  'phone': '062-172-0901',\n",
       "  'email': 'vgim@example.org'},\n",
       " {'name': '윤건우',\n",
       "  'id': 'gimmisug',\n",
       "  'phone': '053-573-0887',\n",
       "  'email': 'yi@example.com'},\n",
       " {'name': '김동현',\n",
       "  'id': 'gimjihye',\n",
       "  'phone': '070-4324-8995',\n",
       "  'email': 'doyun95@example.org'},\n",
       " {'name': '양지후',\n",
       "  'id': 'gosujin',\n",
       "  'phone': '052-688-5333',\n",
       "  'email': 'jeonghunbae@example.net'},\n",
       " {'name': '박상현',\n",
       "  'id': 'jeongho93',\n",
       "  'phone': '033-495-8019',\n",
       "  'email': 'myeongsugryu@example.net'},\n",
       " {'name': '엄보람',\n",
       "  'id': 'yeongjin84',\n",
       "  'phone': '019-303-0651',\n",
       "  'email': 'dgim@example.net'}]"
      ]
     },
     "execution_count": 25,
     "metadata": {},
     "output_type": "execute_result"
    }
   ],
   "source": [
    "from faker import Faker\n",
    "fake = Faker('ko-KR')\n",
    "[{'name' : fake.name(),'id' : fake.user_name(), 'phone':fake.phone_number(), 'email':fake.email()}for n in range(10)]"
   ]
  },
  {
   "cell_type": "markdown",
   "id": "2931c78a-a198-447d-b799-396f43e04661",
   "metadata": {},
   "source": [
    "<table style=\"float:left;width:400px\">\n",
    "<thead>\n",
    "<tr>\n",
    "<th>항목</th>\n",
    "<th>설명</th>\n",
    "</tr>\n",
    "</thead>\n",
    "<tbody>\n",
    "<tr>\n",
    "<td>fake.name()</td>\n",
    "<td>이름</td>\n",
    "</tr>\n",
    "<tr>\n",
    "<td>fake.address()</td>\n",
    "<td>주소</td>\n",
    "</tr>\n",
    "<tr>\n",
    "<td>fake.postcode()</td>\n",
    "<td>우편 번호</td>\n",
    "</tr>\n",
    "<tr>\n",
    "<td>fake.country()</td>\n",
    "<td>국가명</td>\n",
    "</tr>\n",
    "<tr>\n",
    "<td>fake.company()</td>\n",
    "<td>회사명</td>\n",
    "</tr>\n",
    "<tr>\n",
    "<td>fake.job()</td>\n",
    "<td>직업명</td>\n",
    "</tr>\n",
    "<tr>\n",
    "<td>fake.phone_number()</td>\n",
    "<td>휴대전화 번호</td>\n",
    "</tr>\n",
    "<tr>\n",
    "<td>fake.email()</td>\n",
    "<td>이메일 주소</td>\n",
    "</tr>\n",
    "<tr>\n",
    "<td>fake.user_name()</td>\n",
    "<td>사용자명</td>\n",
    "</tr>\n",
    "<tr>\n",
    "<td>fake.pyint(min_value=0, max_value=100)</td>\n",
    "<td>0부터 100 사이의 임의의 숫자</td>\n",
    "</tr>\n",
    "<tr>\n",
    "<td>fake.ipv4_private()</td>\n",
    "<td>IP 주소</td>\n",
    "</tr>\n",
    "<tr>\n",
    "<td>fake.text()</td>\n",
    "<td>임의의 문장 (한글 임의의 문장은 <code>fake.catch_phrase()</code> 사용)</td>\n",
    "</tr>\n",
    "<tr>\n",
    "<td>fake.color_name()</td>\n",
    "<td>색상명</td>\n",
    "</tr>\n",
    "</tbody>\n",
    "</table>"
   ]
  },
  {
   "cell_type": "code",
   "execution_count": 28,
   "id": "0b28d98f-4e58-4ebd-b641-2124b44e1fc6",
   "metadata": {},
   "outputs": [
    {
     "name": "stdout",
     "output_type": "stream",
     "text": [
      "Collecting sympy\n",
      "  Downloading sympy-1.13.3-py3-none-any.whl.metadata (12 kB)\n",
      "Collecting mpmath<1.4,>=1.1.0 (from sympy)\n",
      "  Downloading mpmath-1.3.0-py3-none-any.whl.metadata (8.6 kB)\n",
      "Downloading sympy-1.13.3-py3-none-any.whl (6.2 MB)\n",
      "   ---------------------------------------- 0.0/6.2 MB ? eta -:--:--\n",
      "   ---------------------------------------- 6.2/6.2 MB 58.7 MB/s eta 0:00:00\n",
      "Downloading mpmath-1.3.0-py3-none-any.whl (536 kB)\n",
      "   ---------------------------------------- 0.0/536.2 kB ? eta -:--:--\n",
      "   --------------------------------------- 536.2/536.2 kB 37.7 MB/s eta 0:00:00\n",
      "Installing collected packages: mpmath, sympy\n",
      "Successfully installed mpmath-1.3.0 sympy-1.13.3\n"
     ]
    }
   ],
   "source": [
    "#!pip install sympy"
   ]
  },
  {
   "cell_type": "code",
   "execution_count": 30,
   "id": "d3db1687-ff23-4c60-803b-d5c6565dd626",
   "metadata": {},
   "outputs": [
    {
     "name": "stdout",
     "output_type": "stream",
     "text": [
      "남은 돈은 2640원 입니다.\n"
     ]
    }
   ],
   "source": [
    "# cf) sympy\n",
    "from fractions import Fraction\n",
    "import sympy\n",
    "\n",
    "# 가지고 있던 돈을 x라고 하자.\n",
    "x = sympy.symbols(\"x\")\n",
    "\n",
    "# 가지고 있던 돈의 2/5가 1760원이므로 방정식은  x*(2/5) = 1760이다.\n",
    "f = sympy.Eq(x*Fraction('2/5'), 1760)\n",
    "\n",
    "# 방정식을 만족하는 값(result)을 구한다.\n",
    "result = sympy.solve(f)    # 결괏값은 리스트\n",
    "\n",
    "# 남은 돈은 다음과 같이 가지고 있던 돈에서 1760원을 빼면 된다.\n",
    "remains = result[0] - 1760\n",
    "\n",
    "print('남은 돈은 {}원 입니다.'.format(remains))"
   ]
  },
  {
   "cell_type": "code",
   "execution_count": 2,
   "id": "ca49543d-53ea-47bb-b79f-d8011d271622",
   "metadata": {},
   "outputs": [
    {
     "name": "stdout",
     "output_type": "stream",
     "text": [
      "1위 :  REBEL HEART / IVE (아이브)\n"
     ]
    }
   ],
   "source": [
    "# 홈페이지.. 긁어오기 ..!!!!!\n",
    "import requests as req\n",
    "from bs4 import BeautifulSoup as bs # 아름다운국은 유우명한 도구임. 필요한 것만 골라서 추출 가능 !!\n",
    "url = \"https://www.melon.com/chart/index.htm\"\n",
    "headers = {'User-Agent':'Mozilla/5.0 (Windows NT 10.0; Win64; x64) AppleWebKit/537.36 (KHTML, like Gecko) Chrome/133.0.0.0 Safari/537.36'}\n",
    "# 헤더는 검사 - 네트워크 - f5 - 헤더 - User-Agent 긁어오기 !!\n",
    "web = req.get(url,headers = headers)\n",
    "# print(web)  # response가 200 이 뜨면 접속이 잘 된 것~\n",
    "# print(web.content)\n",
    "soup = bs(web.content, 'html.parser')\n",
    "# 여기까지는 그냥 계속 복사해서 붙여넣기 해도 무방하다 !!! ; 계속 쓰임 !!\n",
    "# print(soup)\n",
    "\n",
    "title = soup.select_one('.wrap_song_info')\n",
    "atitle = title.select_one('a')\n",
    "# print(ac.text)\n",
    "\n",
    "aname0 = title.select_one('.checkEllipsis')\n",
    "aname = aname0.select_one('a')\n",
    "print('1위 : ',atitle.text,'/', aname.text)"
   ]
  },
  {
   "attachments": {
    "ec68a190-f9aa-4d7a-a849-932465086aae.png": {
     "image/png": "[encoded data removed]"
    }
   },
   "cell_type": "markdown",
   "id": "ef874deb-c007-412a-8889-abae5987bef2",
   "metadata": {},
   "source": [
    "<img src = 'attachment:ec68a190-f9aa-4d7a-a849-932465086aae.png' width=400>"
   ]
  },
  {
   "cell_type": "code",
   "execution_count": null,
   "id": "65d7d0c0-2dc3-4fbb-9500-1a37e1e8e9e3",
   "metadata": {},
   "outputs": [],
   "source": [
    "import requests as req\n",
    "from bs4 import BeautifulSoup as bs\n",
    "url = \"https://www.melon.com/chart/index.htm\"\n",
    "headers = {'User-Agent':'Mozilla/5.0 (Windows NT 10.0; Win64; x64) AppleWebKit/537.36 (KHTML, like Gecko) Chrome/133.0.0.0 Safari/537.36'}\n",
    "web = req.get(url,headers = headers)\n",
    "soup = bs(web.content, 'html.parser')\n",
    "\n",
    "title = soup.select('.wrap_song_info .rank01')[:20]\n",
    "name = soup.select('.checkEllipsis a')[:20]  # 20위까지 !!\n",
    "str = ''\n",
    "for i,(t,n) in enumerate(zip(title, name),1):\n",
    "    str += f'{i}위 : {t.text.strip()} / {n.text}\\n'\n",
    "print(str, end = ' ')   # print를 한 번만 하는 방법 !"
   ]
  },
  {
   "cell_type": "code",
   "execution_count": 1,
   "id": "254266ab-205b-4d85-9c4c-20c632ab481a",
   "metadata": {},
   "outputs": [
    {
     "name": "stdout",
     "output_type": "stream",
     "text": [
      "1위 : TOO BAD (feat. Anderson .Paak) / G-DRAGON\n",
      "2위 : HOME SWEET HOME (feat. 태양, 대성) / G-DRAGON\n",
      "3위 : REBEL HEART / IVE (아이브)\n",
      "4위 : DRAMA / G-DRAGON\n",
      "5위 : TAKE ME / G-DRAGON\n",
      "6위 : 나는 반딧불 / 황가람\n",
      "7위 : Whiplash / aespa\n",
      "8위 : 모르시나요(PROD.로코베리) / 조째즈\n",
      "9위 : IBELONGIIU / G-DRAGON\n",
      "10위 : Drowning / WOODZ\n",
      "11위 : APT. / 로제 (ROSÉ)\n",
      "12위 : 오늘만 I LOVE YOU / Bruno Mars\n",
      "13위 : ATTITUDE / BOYNEXTDOOR\n",
      "14위 : 보나마나 (BONAMANA) / IVE (아이브)\n",
      "15위 : GYRO-DROP / G-DRAGON\n",
      "16위 : PO￦ER / G-DRAGON\n",
      "17위 : Dash / G-DRAGON\n",
      "18위 : toxic till the end / PLAVE\n",
      "19위 : HAPPY / 로제 (ROSÉ)\n",
      "20위 : RIZZ / DAY6 (데이식스)\n"
     ]
    }
   ],
   "source": [
    "import requests as req\n",
    "from bs4 import BeautifulSoup as bs\n",
    "url = \"https://www.melon.com/chart/index.htm\"\n",
    "headers = {'User-Agent':'Mozilla/5.0 (Windows NT 10.0; Win64; x64) AppleWebKit/537.36 (KHTML, like Gecko) Chrome/133.0.0.0 Safari/537.36'}\n",
    "web = req.get(url,headers = headers)\n",
    "soup = bs(web.content, 'html.parser')\n",
    "\n",
    "title = soup.select('.wrap_song_info .rank01')[:20]\n",
    "name = soup.select('.checkEllipsis a')[:20]  # 20위까지 !!\n",
    "for i,(t,n) in enumerate(zip(title, name),1):\n",
    "    print(f'{i}위 :', t.text.strip(), '/', n.text)"
   ]
  },
  {
   "cell_type": "code",
   "execution_count": 10,
   "id": "faab757d-4859-4f3a-95db-d321840003e5",
   "metadata": {},
   "outputs": [
    {
     "name": "stdout",
     "output_type": "stream",
     "text": [
      "1위 : REBEL HEART / IVE (아이브)\n",
      "2위 : HOME SWEET HOME (feat. 태양, 대성) / G-DRAGON\n",
      "3위 : 나는 반딧불 / 황가람\n",
      "4위 : Whiplash / aespa\n",
      "5위 : APT. / 로제 (ROSÉ)\n",
      "6위 : 오늘만 I LOVE YOU / Bruno Mars\n",
      "7위 : Drowning / BOYNEXTDOOR\n",
      "8위 : ATTITUDE / WOODZ\n",
      "9위 : toxic till the end / IVE (아이브)\n",
      "10위 : Dash / 로제 (ROSÉ)\n",
      "11위 : POWER / PLAVE\n",
      "12위 : HAPPY / G-DRAGON\n",
      "13위 : 내게 사랑이 뭐냐고 물어본다면 / DAY6 (데이식스)\n",
      "14위 : RIZZ / 로이킴\n",
      "15위 : DRIP / PLAVE\n",
      "16위 : Chroma Drift / BABYMONSTER\n",
      "17위 : Island / PLAVE\n",
      "18위 : 소나기 / PLAVE\n",
      "19위 : 12:32 (A to T) / 이클립스 (ECLIPSE)\n",
      "20위 : 너와의 모든 지금 / PLAVE\n",
      " "
     ]
    }
   ],
   "source": [
    "import melon\n",
    "melon.mel()"
   ]
  },
  {
   "cell_type": "code",
   "execution_count": 47,
   "id": "d6d91534-efed-451b-8dbd-e233483a65a2",
   "metadata": {},
   "outputs": [
    {
     "name": "stdout",
     "output_type": "stream",
     "text": [
      "1: 삼성전자 :  58,900원\n",
      "2: SK하이닉스 :  218,500원\n",
      "3: LG에너지솔루션 :  370,500원\n",
      "4: 삼성바이오로직스 :  1,137,000원\n",
      "5: 현대차 :  203,000원\n",
      "6: 삼성전자우 :  49,450원\n",
      "7: 셀트리온 :  179,800원\n",
      "8: 기아 :  94,000원\n",
      "9: NAVER :  222,500원\n",
      "10: KB금융 :  82,300원\n",
      "11: HD현대중공업 :  324,500원\n",
      "12: 한화에어로스페이스 :  624,000원\n",
      "13: 신한지주 :  47,500원\n",
      "14: 삼성물산 :  133,600원\n",
      "15: 메리츠금융지주 :  123,200원\n",
      "16: 현대모비스 :  251,500원\n",
      "17: 한화오션 :  74,700원\n",
      "18: POSCO홀딩스 :  260,000원\n",
      "19: 삼성생명 :  101,600원\n",
      "20: SK이노베이션 :  129,000원\n",
      "21: 삼성화재 :  410,000원\n",
      "22: 두산에너빌리티 :  29,600원\n",
      "23: 하나금융지주 :  62,200원\n",
      "24: 카카오 :  40,050원\n",
      "25: LG화학 :  246,000원\n",
      "26: 고려아연 :  826,000원\n",
      "27: HMM :  18,370원\n",
      "28: HD한국조선해양 :  227,000원\n",
      "29: 크래프톤 :  331,500원\n",
      "30: 삼성SDI :  226,000원\n",
      "31: HD현대일렉트릭 :  383,000원\n",
      "32: SK스퀘어 :  102,800원\n",
      "33: 한국전력 :  21,200원\n",
      "34: LG전자 :  81,700원\n",
      "35: KT&G :  105,000원\n",
      "36: 우리금융지주 :  17,370원\n",
      "37: 삼성중공업 :  14,280원\n",
      "38: SK텔레콤 :  57,800원\n",
      "39: 기업은행 :  15,550원\n",
      "40: KT :  46,750원\n",
      "41: 카카오뱅크 :  23,950원\n",
      "42: LG :  70,400원\n",
      "43: 포스코퓨처엠 :  139,800원\n",
      "44: SK :  148,800원\n",
      "45: 삼성전기 :  141,600원\n",
      "46: 하이브 :  253,000원\n",
      "47: 한미반도체 :  107,300원\n",
      "48: 삼성에스디에스 :  130,000원\n",
      "49: 유한양행 :  124,700원\n",
      "50: 현대글로비스 :  129,200원\n"
     ]
    }
   ],
   "source": [
    "import requests as req\n",
    "from bs4 import BeautifulSoup as bs\n",
    "url=\"https://finance.naver.com/sise/sise_market_sum.naver\"\n",
    "headers = {'User-Agent':'Mozilla/5.0 (Windows NT 10.0; Win64; x64) AppleWebKit/537.36 (KHTML, like Gecko) Chrome/133.0.0.0 Safari/537.36'}\n",
    "web = req.get(url,headers = headers)\n",
    "soup = bs(web.content, 'html.parser')\n",
    "\n",
    "title = soup.select('.tltle')\n",
    "marketprice = soup.select('td.number:nth-child(3)')\n",
    "#CHARTday > table > tbody > tr:nth-child(1) > th > p > a\n",
    "\n",
    "for i,(t,m) in enumerate(zip(title, marketprice),1):\n",
    "    print(f'{i}:', t.text.strip()+\" : \",  m.text.strip()+\"원\")"
   ]
  },
  {
   "cell_type": "code",
   "execution_count": 41,
   "id": "3cf633b6-233e-47d2-8570-376fc4d75576",
   "metadata": {},
   "outputs": [],
   "source": [
    "#!pip install html5lib"
   ]
  },
  {
   "cell_type": "code",
   "execution_count": 11,
   "id": "9dc698fc-44e4-4d1c-8dfb-2fa3354c597e",
   "metadata": {},
   "outputs": [
    {
     "name": "stdout",
     "output_type": "stream",
     "text": [
      "===============\n",
      "월 2025.02.17\n",
      "정식-5,500원\n",
      "강황밥\n",
      "김치콩나물국\n",
      "돈육바싹불고기\n",
      "모듬잡채\n",
      "멸치새우견과볶음\n",
      "상추겉절이\n",
      "포기김치\n",
      "\n",
      "===============\n",
      "화 2025.02.18\n",
      "정식-5,500원\n",
      "백미밥\n",
      "물만두국\n",
      "순살닭매콤조림\n",
      "쫄면야채무침\n",
      "파래무무침\n",
      "참나물겉절이\n",
      "포기김치\n",
      "\n",
      "===============\n",
      "수 2025.02.19\n",
      "정식-5,500원\n",
      "백미밥\n",
      "모듬어묵국\n",
      "함박스테이크/치즈/소스\n",
      "스파게티/소스\n",
      "치커리유자청샐러드\n",
      "콩나물무침\n",
      "포기김치\n",
      "\n",
      "===============\n",
      "목 2025.02.20\n",
      "정식-5,500원\n",
      "잡곡밥\n",
      "홍합미역국\n",
      "순살치킨/맛초킹소스\n",
      "꼬시레기두부무침\n",
      "잡채어묵조림\n",
      "상추겉절이\n",
      "포기김치\n",
      "\n",
      "===============\n",
      "금 2025.02.21\n",
      "정식-5,500원\n",
      "백미밥\n",
      "국수\n",
      "깐풍기/소스\n",
      "알감자버터구이\n",
      "도토리묵김치무침\n",
      "열무겉절이\n",
      "포기김치\n",
      "\n"
     ]
    }
   ],
   "source": [
    "import requests as req\n",
    "from bs4 import BeautifulSoup as bs\n",
    "url = \"https://www.pusan.ac.kr/kor/CMS/MenuMgr/menuListOnBuilding.do?mCode=MN202\"\n",
    "headers = {'User-Agent':'Mozilla/5.0 (Windows NT 10.0; Win64; x64) AppleWebKit/537.36 (KHTML, like Gecko) Chrome/133.0.0.0 Safari/537.36'}\n",
    "web = req.get(url,headers = headers)\n",
    "soup = bs(web.content, 'html5lib')  # 부산대가 특수한 경우 ~~!\n",
    "menu = soup.select('.menu-tbl')\n",
    "won = soup.select('.menu-tit01')\n",
    "menu = soup.select('h3.menu-tit01+p')  # + 가 형제라는 뜻임!!\n",
    "day = soup.select('.day')\n",
    "date = soup.select('.date')   # . 이 클래스라는 뜻임 !!\n",
    "for d, dd, w, m in zip(day, date, won,menu):\n",
    "    print('='*15)\n",
    "    print(d.text, dd.text)\n",
    "    print(w.text+'\\n'+m.text)"
   ]
  },
  {
   "cell_type": "code",
   "execution_count": null,
   "id": "8335bcb7-e2e4-4631-a7e7-4b6b01ee05f0",
   "metadata": {},
   "outputs": [],
   "source": [
    "# 20250220 14번째 수업!!!!!!! 시간 진짜 잘간다 헉 ~~!"
   ]
  },
  {
   "cell_type": "code",
   "execution_count": 3,
   "id": "a25cd234-91d6-49ef-8167-03f41d7d9c4c",
   "metadata": {},
   "outputs": [
    {
     "name": "stdout",
     "output_type": "stream",
     "text": [
      "1: 삼성전자 :  58,900원\n",
      "2: SK하이닉스 :  217,000원\n",
      "3: LG에너지솔루션 :  377,500원\n",
      "4: 삼성바이오로직스 :  1,129,000원\n",
      "5: 현대차 :  203,000원\n",
      "6: 삼성전자우 :  49,400원\n",
      "7: 셀트리온 :  179,800원\n",
      "8: 기아 :  93,800원\n",
      "9: NAVER :  222,500원\n",
      "10: KB금융 :  82,100원\n",
      "11: HD현대중공업 :  319,500원\n",
      "12: 한화에어로스페이스 :  619,000원\n",
      "13: 신한지주 :  47,700원\n",
      "14: 삼성물산 :  133,200원\n",
      "15: 메리츠금융지주 :  123,000원\n",
      "16: 현대모비스 :  252,000원\n",
      "17: 한화오션 :  73,100원\n",
      "18: POSCO홀딩스 :  264,500원\n",
      "19: 삼성생명 :  101,500원\n",
      "20: SK이노베이션 :  130,900원\n",
      "21: 삼성화재 :  405,000원\n",
      "22: 두산에너빌리티 :  28,800원\n",
      "23: 카카오 :  40,400원\n",
      "24: 하나금융지주 :  62,300원\n",
      "25: LG화학 :  249,000원\n",
      "26: 고려아연 :  824,000원\n",
      "27: HMM :  18,550원\n",
      "28: HD한국조선해양 :  225,500원\n",
      "29: 크래프톤 :  331,000원\n",
      "30: 삼성SDI :  230,000원\n",
      "31: SK스퀘어 :  102,900원\n",
      "32: 한국전력 :  21,350원\n",
      "33: HD현대일렉트릭 :  378,500원\n",
      "34: LG전자 :  81,900원\n",
      "35: KT&G :  105,000원\n",
      "36: 우리금융지주 :  17,380원\n",
      "37: SK텔레콤 :  57,900원\n",
      "38: 기업은행 :  15,570원\n",
      "39: 삼성중공업 :  14,050원\n",
      "40: KT :  47,100원\n",
      "41: 카카오뱅크 :  24,050원\n",
      "42: LG :  70,400원\n",
      "43: 포스코퓨처엠 :  142,300원\n",
      "44: SK :  150,300원\n",
      "45: 삼성전기 :  141,900원\n",
      "46: 하이브 :  250,500원\n",
      "47: 한미반도체 :  106,800원\n",
      "48: 삼성에스디에스 :  129,800원\n",
      "49: 유한양행 :  124,000원\n",
      "50: 현대글로비스 :  128,500원\n"
     ]
    }
   ],
   "source": [
    "import finance\n",
    "finance.finance()"
   ]
  },
  {
   "cell_type": "code",
   "execution_count": 2,
   "id": "fa812a84-183b-4e4d-a1cd-8f02e2d6faf3",
   "metadata": {},
   "outputs": [
    {
     "name": "stdout",
     "output_type": "stream",
     "text": [
      "1 캡틴 아메리카: 브레이브 뉴 월드\n",
      "2 말할 수 없는 비밀\n",
      "3 히트맨2\n",
      "4 명탐정 코난: 14번째 표적\n",
      "5 서브스턴스\n",
      "6 검은 수녀들\n",
      "7 엘리: 몬스터 패밀리\n",
      "8 브루탈리스트\n",
      "9 더 폴: 디렉터스 컷\n",
      "10 미드나잇 인 파리\n"
     ]
    }
   ],
   "source": [
    "import movie\n",
    "movie.movie()"
   ]
  },
  {
   "cell_type": "code",
   "execution_count": 3,
   "id": "847e9934-27e9-4962-8d42-33814300fd42",
   "metadata": {},
   "outputs": [
    {
     "name": "stdout",
     "output_type": "stream",
     "text": [
      "1위 : REBEL HEART / IVE (아이브)\n",
      "2위 : HOME SWEET HOME (Feat. 태양 & 대성) / G-DRAGON\n",
      "3위 : 나는 반딧불 / 황가람\n",
      "4위 : 모르시나요 (Prod. by 로코베리) / 조째즈\n",
      "5위 : ATTITUDE / IVE (아이브)\n",
      "6위 : Drowning / WOODZ\n",
      "7위 : Whiplash / aespa\n",
      "8위 : APT. / 로제 (ROSÉ) & Bruno Mars\n",
      "9위 : HAPPY / DAY6 (데이식스)\n",
      "10위 : toxic till the end / 로제 (ROSÉ)\n"
     ]
    }
   ],
   "source": [
    "# 참고!! 지니뮤직 긁어오기~\n",
    "\n",
    "import requests as req\n",
    "from bs4 import BeautifulSoup as bs\n",
    "url = \"https://www.genie.co.kr/chart/top200\"\n",
    "headers = {'User-Agent':'Mozilla/5.0 (Windows NT 10.0; Win64; x64) AppleWebKit/537.36 (KHTML, like Gecko) Chrome/133.0.0.0 Safari/537.36'}\n",
    "web = req.get(url,headers = headers)\n",
    "soup = bs(web.content, 'html.parser')\n",
    "title= soup.select('.info .title')[:10]\n",
    "artist= soup.select('.info .artist')[:10]\n",
    "for i, (t,a) in enumerate(zip(title, artist),1):\n",
    "    print(f'{i}위 : {t.text.strip()} / {a.text.strip()}')"
   ]
  },
  {
   "cell_type": "code",
   "execution_count": 1,
   "id": "3844ebd6-aaae-47a3-9b50-cb44cc91c8bd",
   "metadata": {},
   "outputs": [
    {
     "name": "stdout",
     "output_type": "stream",
     "text": [
      "1위 : Die With A Smile / Lady GaGa(레이디 가가)\n",
      "2위 : Supernatural / The Kid LAROI\n",
      "3위 : Cruel Summer / Christopher(크리스토퍼)\n",
      "4위 : Dangerously / Devin Kennedy\n",
      "5위 : Abracadabra / Kane Brown\n",
      "6위 : Steal The Show (From “엘리멘탈”) / lullaboy\n",
      "7위 : Older / Anthony Lazaro\n",
      "8위 : I Don’t Think That I Like Her / Charlie Puth(찰리 푸스)\n",
      "9위 : BIRDS OF A FEATHER / Fractures\n",
      "10위 : STAY / Great Good Fine OK(그레이트 굿 파인 오케이)\n"
     ]
    }
   ],
   "source": [
    "# 참고!! 벅스차트 긁어오기~\n",
    "import requests as req\n",
    "from bs4 import BeautifulSoup as bs\n",
    "url = \"https://music.bugs.co.kr/chart/track/day/nfpop\"\n",
    "headers = {'User-Agent':'Mozilla/5.0 (Windows NT 10.0; Win64; x64) AppleWebKit/537.36 (KHTML, like Gecko) Chrome/133.0.0.0 Safari/537.36'}\n",
    "web = req.get(url,headers = headers)\n",
    "soup = bs(web.content, 'html.parser')\n",
    "title= soup.select('p.title')\n",
    "artist = soup.select('a.artistTitle')\n",
    "\n",
    "for i, (t,a) in enumerate(zip(title, artist),1):\n",
    "    print(f'{i}위 : {t.text.strip()} / {a.text.strip()}')"
   ]
  },
  {
   "cell_type": "code",
   "execution_count": null,
   "id": "a8542958-b8d3-41d2-867f-3d3c50c22b9d",
   "metadata": {},
   "outputs": [],
   "source": [
    "# 되새김 문제  chp5  -  p295"
   ]
  },
  {
   "cell_type": "code",
   "execution_count": 6,
   "id": "7eeef712-a0f1-4484-8351-41e1c2b1bb2e",
   "metadata": {},
   "outputs": [
    {
     "name": "stdout",
     "output_type": "stream",
     "text": [
      "3\n"
     ]
    }
   ],
   "source": [
    "# Q1 클래스 상속받고 메서드 추가하기 1\n",
    "class Calculator:\n",
    "    def __init__(self):\n",
    "        self.value = 0\n",
    "    def add(self, val):\n",
    "        self.value += val\n",
    "\n",
    "class UpgradeCalculator(Calculator):\n",
    "    def minus(self,val):\n",
    "        self.value -= val\n",
    "\n",
    "cal = UpgradeCalculator()\n",
    "cal.add(10)\n",
    "cal.minus(7)\n",
    "print(cal.value)"
   ]
  },
  {
   "cell_type": "code",
   "execution_count": 7,
   "id": "1e77e4fb-2f1c-4e35-b61a-6e321f5bf93d",
   "metadata": {},
   "outputs": [
    {
     "name": "stdout",
     "output_type": "stream",
     "text": [
      "100\n"
     ]
    }
   ],
   "source": [
    "# Q2 클래스 상속받고 메서드 추가하기 2\n",
    "class Cal:\n",
    "    def __init__(self):\n",
    "        self.value = 0\n",
    "    \n",
    "    def add(self, val):\n",
    "        self.value += val\n",
    "       \n",
    "class MaxLimitCalculator(Cal):\n",
    "    def add(self, val):       # 다시 add를 정의해줘야 한다!\n",
    "        self.value += val\n",
    "        if self.value > 100:\n",
    "            self.value = 100\n",
    "\n",
    "cal = MaxLimitCalculator()\n",
    "cal.add(50)\n",
    "cal.add(60)\n",
    "\n",
    "print(cal.value)"
   ]
  },
  {
   "cell_type": "code",
   "execution_count": 13,
   "id": "aae31c2e-e39b-485f-9fc3-915583b44f9d",
   "metadata": {},
   "outputs": [
    {
     "name": "stdout",
     "output_type": "stream",
     "text": [
      "False\n",
      "True\n"
     ]
    }
   ],
   "source": [
    "# Q3 참과 거짓 예측하기\n",
    "print(all([1,2,abs(-3)-3])) # 0이 있으므로 \n",
    "\n",
    "\n",
    "print(chr(ord('a')) == 'a')"
   ]
  },
  {
   "cell_type": "code",
   "execution_count": 1,
   "id": "e8f78521-a0c4-4ccf-b749-e5f2ed2be373",
   "metadata": {},
   "outputs": [
    {
     "name": "stdout",
     "output_type": "stream",
     "text": [
      "[1, 3, 8]\n"
     ]
    }
   ],
   "source": [
    "# Q4 음수 제거하기\n",
    "a = [1,-2,3,-5,8,-3]\n",
    "print(list(filter(lambda x : x>0, a)))"
   ]
  },
  {
   "cell_type": "code",
   "execution_count": 11,
   "id": "d49a5aa4-4406-4910-b34a-f90221ccc16b",
   "metadata": {},
   "outputs": [
    {
     "name": "stdout",
     "output_type": "stream",
     "text": [
      "0xea\n"
     ]
    },
    {
     "data": {
      "text/plain": [
       "234"
      ]
     },
     "execution_count": 11,
     "metadata": {},
     "output_type": "execute_result"
    }
   ],
   "source": [
    "# Q5 16진수를 10진수로 변경하기\n",
    "print(hex(234))\n",
    "int(hex(234)[2:],16)"
   ]
  },
  {
   "cell_type": "code",
   "execution_count": 14,
   "id": "49185f45-0b64-4959-8438-926d648fb873",
   "metadata": {},
   "outputs": [
    {
     "data": {
      "text/plain": [
       "[3, 6, 9, 12]"
      ]
     },
     "execution_count": 14,
     "metadata": {},
     "output_type": "execute_result"
    }
   ],
   "source": [
    "# Q6 리스트 항목마다 3 곱하여 리턴하기\n",
    "list(map(lambda x: x*3,[1,2,3,4]))"
   ]
  },
  {
   "cell_type": "code",
   "execution_count": 18,
   "id": "57c87e0a-6a1f-4f05-b77e-c9f064afc785",
   "metadata": {},
   "outputs": [
    {
     "name": "stdout",
     "output_type": "stream",
     "text": [
      "-1\n"
     ]
    }
   ],
   "source": [
    "# Q7 최댓값과 최솟값의 합\n",
    "l = [-8,2,7,5,-3,5,0,1]\n",
    "z=int(max(l))\n",
    "x=int(min(l))\n",
    "print(z+x)"
   ]
  },
  {
   "cell_type": "code",
   "execution_count": 19,
   "id": "dbd459e3-b1b2-4039-a62e-dc64606d8b25",
   "metadata": {},
   "outputs": [
    {
     "name": "stdout",
     "output_type": "stream",
     "text": [
      "5.6667\n"
     ]
    }
   ],
   "source": [
    "# Q8 소수점 반올림하기\n",
    "print(round(17/3,4))"
   ]
  },
  {
   "cell_type": "code",
   "execution_count": 26,
   "id": "b11bc557-6b3b-432b-9cb8-8b2b17176c8e",
   "metadata": {},
   "outputs": [
    {
     "name": "stdout",
     "output_type": "stream",
     "text": [
      " D 드라이브의 볼륨: data\n",
      " 볼륨 일련 번호: 3AB8-F97A\n",
      "\n",
      " D:\\keh\\code 디렉터리\n",
      "\n",
      "2025-02-20  오후 01:39    <DIR>          .\n",
      "2025-02-19  오전 10:40    <DIR>          ..\n",
      "2025-02-13  오후 03:41               159 .env\n",
      "2025-02-19  오후 01:25               112 .gitignore\n",
      "2025-02-20  오후 12:13    <DIR>          .ipynb_checkpoints\n",
      "2025-02-19  오전 10:44    <DIR>          backup\n",
      "2025-02-10  오전 11:00    <DIR>          batch\n",
      "2025-02-17  오전 10:41    <DIR>          game\n",
      "2025-02-20  오전 11:50               119 my_life.txt\n",
      "2025-02-18  오전 09:52            98,250 py01_start.ipynb\n",
      "2025-02-07  오후 01:51            64,765 py02_list.ipynb\n",
      "2025-02-12  오후 04:04           138,127 py03_if.ipynb\n",
      "2025-02-13  오후 12:03            87,178 py04_function.ipynb\n",
      "2025-02-20  오전 10:31            43,674 py05_class.ipynb\n",
      "2025-02-19  오후 05:24           235,432 py06_module.ipynb\n",
      "2025-02-20  오후 01:33            70,612 py07_built-in function.ipynb\n",
      "2025-02-20  오후 01:39            49,991 py8_external-library.ipynb\n",
      "2025-02-18  오후 05:29    <DIR>          team_3\n",
      "2025-02-20  오후 12:14    <DIR>          testfile\n",
      "2025-02-20  오후 12:10    <DIR>          __pycache__\n",
      "              11개 파일             788,419 바이트\n",
      "               9개 디렉터리  509,406,404,608 바이트 남음\n",
      "\n",
      "doit 폴더는 없는 걸 어떻게 해!\n"
     ]
    }
   ],
   "source": [
    "# Q9 디렉터리 이동하고 파일 목록 출력하기\n",
    "import os\n",
    "\n",
    "try:\n",
    "    f=os.popen(\"dir\")\n",
    "    print(f.read())\n",
    "    print(os.chdir(\"C:\\\\doit\"))\n",
    "except FileNotFoundError :   \n",
    "    pass\n",
    "finally:\n",
    "    print(\"doit 폴더는 없는 걸 어떻게 해!\")\n",
    "\n"
   ]
  },
  {
   "cell_type": "code",
   "execution_count": 28,
   "id": "12c58553-f4ad-4809-b488-87837c1a6fdb",
   "metadata": {},
   "outputs": [
    {
     "data": {
      "text/plain": [
       "['d:/keh/code/testfile\\\\add.py',\n",
       " 'd:/keh/code/testfile\\\\birthday.py',\n",
       " 'd:/keh/code/testfile\\\\finance.py',\n",
       " 'd:/keh/code/testfile\\\\gugu.py',\n",
       " 'd:/keh/code/testfile\\\\melon.py',\n",
       " 'd:/keh/code/testfile\\\\mod1.py',\n",
       " 'd:/keh/code/testfile\\\\mod2.py',\n",
       " 'd:/keh/code/testfile\\\\movie.py',\n",
       " 'd:/keh/code/testfile\\\\sam.py',\n",
       " 'd:/keh/code/testfile\\\\sam1.py',\n",
       " 'd:/keh/code/testfile\\\\sam2.py',\n",
       " 'd:/keh/code/testfile\\\\sam3.py',\n",
       " 'd:/keh/code/testfile\\\\sam해설.py',\n",
       " 'd:/keh/code/testfile\\\\test.py']"
      ]
     },
     "execution_count": 28,
     "metadata": {},
     "output_type": "execute_result"
    }
   ],
   "source": [
    "# Q10 파일 확장자가 .py인 파일만 찾기\n",
    "import glob\n",
    "glob.glob(\"d:/keh/code/testfile/*.py\")"
   ]
  },
  {
   "cell_type": "code",
   "execution_count": 44,
   "id": "00ca12d5-4def-42ec-beeb-719b7d1ccc79",
   "metadata": {},
   "outputs": [
    {
     "name": "stdout",
     "output_type": "stream",
     "text": [
      "2025/02/20 14:39:22\n"
     ]
    }
   ],
   "source": [
    "# Q11 날짜 표시하기\n",
    "import time\n",
    "print(time.strftime('%Y/%m/%d', time.localtime(time.time())),end = \" \")\n",
    "print(time.strftime('%X', time.localtime(time.time())))\n"
   ]
  },
  {
   "cell_type": "code",
   "execution_count": 6,
   "id": "4b59bd20-5ea3-477c-aacc-a22f224e56d4",
   "metadata": {},
   "outputs": [
    {
     "name": "stdout",
     "output_type": "stream",
     "text": [
      "[5, 10, 11, 31, 32, 40]\n"
     ]
    }
   ],
   "source": [
    "# Q12 로또 번호 생성하기\n",
    "import random as r\n",
    "lotto = sorted(r.sample(range(1,46),6))    #크하하 난 이제 알았어 ^^\n",
    "print(lotto)"
   ]
  },
  {
   "cell_type": "code",
   "execution_count": 9,
   "id": "058ddf44-3faa-420b-8cd3-e055b1d09cd7",
   "metadata": {},
   "outputs": [
    {
     "name": "stdout",
     "output_type": "stream",
     "text": [
      "누나는 영철이보다 1051일 먼저 태어났습니다! 영철이는 누나에게 잘해!!\n"
     ]
    }
   ],
   "source": [
    "# Q13 누나는 영철이보다 며칠 더 먼저 태어났을까?\n",
    "import datetime\n",
    "sis = datetime.date(1995,11,20)\n",
    "youngchul = datetime.date(1998,10,6)\n",
    "diff = youngchul - sis\n",
    "print(f'누나는 영철이보다 {diff.days}일 먼저 태어났습니다! 영철이는 누나에게 잘해!!')"
   ]
  },
  {
   "cell_type": "code",
   "execution_count": 13,
   "id": "22b8c2e4-10c2-4c98-b4bc-cf731951eb5d",
   "metadata": {},
   "outputs": [
    {
     "name": "stdout",
     "output_type": "stream",
     "text": [
      "[{'name': '고지연', 'record': 14.6}, {'name': '김시우', 'record': 14.600000000000001}, {'name': '권영환', 'record': 14.8}, {'name': '윤진우', 'record': 14.96}, {'name': '이준서', 'record': 15.24}, {'name': '이미정', 'record': 15.479999999999997}, {'name': '최재현', 'record': 15.6}, {'name': '이준서', 'record': 15.64}, {'name': '김경숙', 'record': 15.759999999999998}, {'name': '이은서', 'record': 15.92}, {'name': '엄영진', 'record': 16.0}, {'name': '김영희', 'record': 16.08}, {'name': '장현우', 'record': 16.08}, {'name': '송진우', 'record': 16.560000000000002}, {'name': '최수민', 'record': 16.8}, {'name': '김미숙', 'record': 17.0}, {'name': '곽현우', 'record': 17.0}, {'name': '이진호', 'record': 17.24}, {'name': '한서연', 'record': 17.68}, {'name': '진준혁', 'record': 17.96}]\n"
     ]
    }
   ],
   "source": [
    "# Q14 기록순으로 정렬하기\n",
    "from operator import itemgetter\n",
    "from faker import Faker\n",
    "\n",
    "fake = Faker('ko-KR')\n",
    "\n",
    "name = [fake.name() for n in range(20)]\n",
    "record = [fake.pyfloat(left_digits=1, right_digits=2, positive=True) * 4 % 4 + 14 for x in range(20)]\n",
    "data = [{'name': n, 'record': r} for n, r in zip(name, record)]\n",
    "\n",
    "result = sorted(data, key=itemgetter('record'))\n",
    "print(result)"
   ]
  },
  {
   "cell_type": "code",
   "execution_count": 16,
   "id": "9076c0b6-e7f8-4772-ac2d-2b84039fcc87",
   "metadata": {},
   "outputs": [
    {
     "name": "stdout",
     "output_type": "stream",
     "text": [
      "[('류영수', '장준서'), ('류영수', '이영일'), ('류영수', '박미정'), ('장준서', '이영일'), ('장준서', '박미정'), ('이영일', '박미정')]\n"
     ]
    }
   ],
   "source": [
    "# Q15 청소당번 2명 뽑기\n",
    "import itertools\n",
    "from faker import Faker\n",
    "\n",
    "fake = Faker('ko-KR')\n",
    "\n",
    "name = [fake.name() for n in range(4)]\n",
    "it = itertools.combinations(name,2)\n",
    "print(list(it))"
   ]
  },
  {
   "cell_type": "code",
   "execution_count": 20,
   "id": "9f2bf0b0-399e-4b4e-85fa-ffb2eacc70f1",
   "metadata": {},
   "outputs": [
    {
     "name": "stdout",
     "output_type": "stream",
     "text": [
      "abcd abdc acbd acdb adbc adcb bacd badc bcad bcda bdac bdca cabd cadb cbad cbda cdab cdba dabc dacb dbac dbca dcab dcba "
     ]
    }
   ],
   "source": [
    "# Q16 문자열 나열하기\n",
    "for w,x,y,z in itertools.permutations(['a','b','c','d'],4):\n",
    "    print(w+x+y+z, end = \" \")"
   ]
  },
  {
   "cell_type": "code",
   "execution_count": 2,
   "id": "7833c0ef-7d58-40dd-8554-943b9f599e80",
   "metadata": {},
   "outputs": [
    {
     "name": "stdout",
     "output_type": "stream",
     "text": [
      "[('김성수', '청소'), ('김상훈', '빨래'), ('서도윤', '설거지'), ('최민수', '휴식'), ('안성수', '휴식')]\n"
     ]
    }
   ],
   "source": [
    "# Q17 5명에게 할 일 부여하기\n",
    " # 5명과 3가지의 할일. 5명을 무작위로 섞어 3명에게 일을 지정하고 나머지는 휴식.\n",
    "\n",
    "import itertools\n",
    "from faker import Faker\n",
    "\n",
    "fake = Faker('ko-KR')\n",
    "\n",
    "students = [fake.name() for x in range(5)]\n",
    "duty = ['청소','빨래','설거지']\n",
    "\n",
    "result = itertools.zip_longest(students, duty, fillvalue=\"휴식\") \n",
    "print(list(result))"
   ]
  },
  {
   "cell_type": "code",
   "execution_count": 7,
   "id": "f9985bfd-c069-4c79-92f2-084f33ec4314",
   "metadata": {},
   "outputs": [
    {
     "name": "stdout",
     "output_type": "stream",
     "text": [
      " 타일 한 선의 길이는 40cm이며, 필요한 타일의 개수는 10개 입니다.\n"
     ]
    }
   ],
   "source": [
    "# Q18 벽에 타일 붙이기\n",
    "import math\n",
    "tile = math.gcd(200,80)\n",
    "print(f' 타일 한 선의 길이는 {tile}cm이며, 필요한 타일의 개수는 {(200//tile)*(80//tile)}개 입니다.')\n"
   ]
  },
  {
   "cell_type": "code",
   "execution_count": null,
   "id": "1220af5d-e24a-44b7-b3d6-3910a2c275ba",
   "metadata": {},
   "outputs": [],
   "source": [
    "#!pip install python-telegram-bot"
   ]
  },
  {
   "cell_type": "code",
   "execution_count": 1,
   "id": "7f6b828e-6729-4dd3-b4b4-cc18a5c3ae0a",
   "metadata": {},
   "outputs": [
    {
     "name": "stdout",
     "output_type": "stream",
     "text": [
      "마법의 소라고둥님이 깨어나시는 중입니다.\n",
      "...소라고둥님은 눈물에 반응하지 않습니다.\n",
      "...소라고둥님은 날씨를 신경쓰지 않습니다.\n",
      "...예.\n",
      "...아니오.\n",
      "...소라고둥님은 질문을 기다리고 있습니다.\n"
     ]
    }
   ],
   "source": [
    "from telegram import Update\n",
    "from telegram.ext import Application,CommandHandler, MessageHandler, filters,CallbackContext\n",
    "\n",
    "import asyncio\n",
    "import nest_asyncio   # 주피터랩용 !! - cell 안에서 실행될 수 있게 함!!\n",
    "from dotenv import load_dotenv\n",
    "import os\n",
    "load_dotenv()\n",
    "\n",
    "from telegram import Update\n",
    "from telegram.ext import Application, CommandHandler, MessageHandler, filters, CallbackContext\n",
    "nest_asyncio.apply()\n",
    "\n",
    "TELEGRAM_TOKEN = os.getenv(\"TELEGRAM_TOKEN\")\n",
    "\n",
    "async def start(update: Update, context: CallbackContext):\n",
    "    await context.bot.send_message(chat_id=update.effective_chat.id, text=\"마법의 소라고둥이 등장했습니다!\")\n",
    "async def handle_message(update: Update, context: CallbackContext):\n",
    "    user_message = update.message.text.lower() # Text-> text\n",
    "\n",
    "    if \"마법의 소라고둥님\" in user_message:\n",
    "        response = \"...소라고둥님은 질문을 기다리고 있습니다.\"\n",
    "    elif \"날씨\" in user_message:\n",
    "        response = \"...소라고둥님은 날씨를 신경쓰지 않습니다.\"\n",
    "    elif \"집에 가도 될까요?\" in user_message:\n",
    "        response = \"...예.\"\n",
    "    elif \"집에 가서 누워도 될까요?\" in user_message:\n",
    "        response = \"...아니오.\"\n",
    "    elif \"ㅠㅠ\" in user_message:\n",
    "        response = \"...소라고둥님은 눈물에 반응하지 않습니다.\"    \n",
    "    print(response)\n",
    "\n",
    "    #응답 메세지 전송\n",
    "    await context.bot.send_message(chat_id=update.effective_chat.id, text=response)\n",
    "\n",
    "async def main():\n",
    "    application = Application.builder().token(TELEGRAM_TOKEN).build()\n",
    "    await application.initialize() # 초기화 필수\n",
    "\n",
    "    # 핸들러 추가\n",
    "    application.add_handler(CommandHandler(\"start\",start))\n",
    "    application.add_handler(MessageHandler(filters.TEXT & ~filters.COMMAND, handle_message))\n",
    "\n",
    "    await application.start()\n",
    "    print(\"마법의 소라고둥님이 깨어나시는 중입니다.\")\n",
    "\n",
    "    await application.updater.start_polling()\n",
    "\n",
    "if __name__ == \"__main__\":\n",
    "    asyncio.run(main())"
   ]
  },
  {
   "cell_type": "code",
   "execution_count": null,
   "id": "0287031b-fb2f-42e9-a4cc-611c19ed3c29",
   "metadata": {},
   "outputs": [],
   "source": [
    "# 20250221 갸아아아악 15번째 수업이라고 ???? 진짜예요??"
   ]
  },
  {
   "cell_type": "code",
   "execution_count": null,
   "id": "653f2f34-fd39-4e3d-80b4-42369e6fec87",
   "metadata": {},
   "outputs": [],
   "source": [
    "# 홈페이지 뒤 /(슬러시) 후 robots.txt  : 누구에게 허가가 되었는지 확인 가능~"
   ]
  },
  {
   "cell_type": "code",
   "execution_count": 4,
   "id": "265fe6ea-a77a-43ac-8a59-3144ec206cbc",
   "metadata": {},
   "outputs": [
    {
     "name": "stdout",
     "output_type": "stream",
     "text": [
      "□  (종합) 대기 매우 건조, 기온 낮아 춥겠음, 강풍 및 풍랑 유의\n",
      "○  (오늘, 21일) 구름많다가 오후에 맑아짐\n",
      "○  (내일, 22일) 대체로 맑음\n",
      "○  (모레, 23일) 대체로 맑겠으나, 경남서부내륙 가끔 구름많음\n",
      "○  (글피, 24일) 대체로 맑음\n"
     ]
    }
   ],
   "source": [
    "import requests as req\n",
    "from bs4 import BeautifulSoup as bs  # 정적인 웹사이트 용~\n",
    "url = \"https://www.weather.go.kr/w/weather/forecast/short-term.do?stnId=159\"\n",
    "web = req.get(url)\n",
    "soup = bs(web.content,'html.parser')\n",
    "summary = soup.select(\"p.summary\")  # . 은 class를 뜻함 ! (. 앞에 꺽쇠부분도 적어주면 더 범위를 좁혀줌!)\n",
    "        # 배열로 가져옴 !!\n",
    "#print(summary.text) ; iterable하기 때문에 자체를 text로 만들 수는 없음! ([0]을 붙여 지정해주면 가능)\n",
    "for s in summary:\n",
    "    print(s.text.replace('○','\\n○'))"
   ]
  },
  {
   "cell_type": "code",
   "execution_count": 4,
   "id": "caf8d7bc-8c7e-401d-a725-a1c7eeb9366a",
   "metadata": {},
   "outputs": [
    {
     "name": "stdout",
     "output_type": "stream",
     "text": [
      "예보요소   :   최고기온     /     최저기온\n",
      "평년(오늘) : -5.1 ~ 2.1     /     9.0 ~ 11.7\n",
      "어제(20일) : -9.7 ~ -2.0     /     4.4 ~ 8.8\n",
      "오늘(21일) : -     /     3 ~ 7\n",
      "내일(22일) : -7 ~ -3     /     4 ~ 7\n",
      "모레(23일) : -8 ~ -3     /     1 ~ 5\n",
      "글피(24일) : -9 ~ -4     /     5 ~ 8\n"
     ]
    }
   ],
   "source": [
    "# 홈페이지 긁어오기 문제~\n",
    "import requests as req\n",
    "from bs4 import BeautifulSoup as bs\n",
    "url = \"https://www.weather.go.kr/w/weather/forecast/short-term.do?stnId=159\"\n",
    "web = req.get(url)\n",
    "soup = bs(web.content, 'html.parser')\n",
    "table = soup.select(\".table-col\")[0]  # 리스트화를 없앴음!\n",
    "data = table.select('tr')\n",
    "header = data[0].select('th')   # 표의 첫줄 둘째줄 셋째줄을 긁어오기 위함 !\n",
    "line1 = ['최저기온']+data[1].select('td')\n",
    "line2 = ['최고기온']+data[2].select('td')\n",
    "raw_data=[]\n",
    "for h, l1, l2 in zip(header, line1, line2):\n",
    "    try:\n",
    "        print(h.text,':', l1.text,'    /    ', l2.text)  # 나머지에 해당\n",
    "    except:   # 최고기온과 최저기온에 해당\n",
    "        print(h.text,'  :  ', l1,'    /    ', l2)"
   ]
  },
  {
   "cell_type": "code",
   "execution_count": 25,
   "id": "36e5ea5a-5683-4060-9954-68368c1912f6",
   "metadata": {},
   "outputs": [
    {
     "name": "stdout",
     "output_type": "stream",
     "text": [
      "예보요소  :  최저기온 /  최고기온\n",
      "평년(오늘) : -5.1 ~ 2.1 / 9.0 ~ 11.7\n",
      "어제(20일) : -9.7 ~ -2.0 / 4.4 ~ 8.8\n",
      "오늘(21일) : -9.0 ~ -1.6 / 3 ~ 7\n",
      "내일(22일) : -7 ~ -3 / 4 ~ 7\n",
      "모레(23일) : -8 ~ -3 / 1 ~ 5\n",
      "글피(24일) : -9 ~ -4 / 5 ~ 8\n"
     ]
    }
   ],
   "source": [
    "# 참고! pandas 이용\n",
    "import requests as req\n",
    "from bs4 import BeautifulSoup as bs\n",
    "url = \"https://www.weather.go.kr/w/weather/forecast/short-term.do?stnId=159\"\n",
    "web = req.get(url)\n",
    "soup = bs(web.content, 'html.parser')\n",
    "table = soup.select(\".table-col\")[0]  # 리스트화를 없앴음!\n",
    "data = table.select('tr')\n",
    "header = data[0].select('th')   # 표의 첫줄 둘째줄 셋째줄을 긁어오기 위함 !\n",
    "line1 = ['최저기온']+data[1].select('td')\n",
    "line2 = ['최고기온']+data[2].select('td')\n",
    "raw_data=[]\n",
    "for h, l1, l2 in zip(header, line1, line2):\n",
    "    try:\n",
    "        out = h.text + ' : '+ l1.text + ' / ' + l2.text  # 나머지에 해당\n",
    "    except:   # 최고기온과 최저기온에 해당\n",
    "        out = h.text + '  :  ' + l1+' /  '+l2\n",
    "    finally:\n",
    "        print(out)\n",
    "        raw_data.append(out)"
   ]
  },
  {
   "cell_type": "code",
   "execution_count": 15,
   "id": "d8c66050-769a-4a6b-9f47-49cc788cbb8e",
   "metadata": {},
   "outputs": [],
   "source": [
    "#!pip install pandas"
   ]
  },
  {
   "cell_type": "code",
   "execution_count": null,
   "id": "b35e090b-ca81-49f6-a133-b4fc11f9a851",
   "metadata": {},
   "outputs": [],
   "source": [
    "# ModuleNotFoundError: No module named '(모듈이름)' : 모듈을 설치해주자~"
   ]
  },
  {
   "cell_type": "code",
   "execution_count": 17,
   "id": "bd305eee-4577-436c-9837-97e855c85000",
   "metadata": {},
   "outputs": [
    {
     "data": {
      "text/plain": [
       "[['평년(오늘)', '-5.1 ~ 2.1', '9.0 ~ 11.7'],\n",
       " ['어제(20일)', '-9.7 ~ -2.0', '4.4 ~ 8.8'],\n",
       " ['오늘(21일)', '-', '3 ~ 7'],\n",
       " ['내일(22일)', '-7 ~ -3', '4 ~ 7'],\n",
       " ['모레(23일)', '-8 ~ -3', '1 ~ 5'],\n",
       " ['글피(24일)', '-9 ~ -4', '5 ~ 8']]"
      ]
     },
     "execution_count": 17,
     "metadata": {},
     "output_type": "execute_result"
    }
   ],
   "source": [
    "import pandas as pd\n",
    "# 데이터 파싱 !!\n",
    "parsed_data = []\n",
    "for entry in raw_data[1:]:\n",
    "    date, temps = entry.split(':')\n",
    "    low_temp, high_temp = temps.split('/')\n",
    "    parsed_data.append([date.strip(),low_temp.strip(),high_temp.strip()])\n",
    "parsed_data"
   ]
  },
  {
   "cell_type": "code",
   "execution_count": 19,
   "id": "7b03d5f2-8fba-4ee0-a5be-c509da133d9b",
   "metadata": {},
   "outputs": [],
   "source": [
    "# 데이터프레임 생성\n",
    "df = pd.DataFrame(parsed_data,columns=[\"날짜\",\"최저기온\",\"최고기온\"])\n",
    "df.to_csv('weather.csv',index=False, encoding='utf-8')  # 파일로 만들어준다 !!!!"
   ]
  },
  {
   "attachments": {
    "1fc74796-5b7d-4d11-b842-17fa17395c88.png": {
     "image/png": "[encoded data removed]"
    }
   },
   "cell_type": "markdown",
   "id": "a1aa4e39-20de-4bfe-b780-9b296b82c1eb",
   "metadata": {},
   "source": [
    "<img src = 'attachment:1fc74796-5b7d-4d11-b842-17fa17395c88.png' width = 450>"
   ]
  },
  {
   "cell_type": "code",
   "execution_count": 20,
   "id": "f50ef406-8ff1-4163-9daa-a259bd0f2589",
   "metadata": {},
   "outputs": [],
   "source": [
    "# 엑셀 파일로 만들기\n",
    "df.to_csv('weather_x.csv',index=False, encoding='utf-8-sig')  # 엑셀파일로 만들어준다 ~ 음~"
   ]
  },
  {
   "attachments": {
    "484dc429-ff91-47c2-919f-f5c163b8be5a.png": {
     "image/png": "[encoded data removed]"
    }
   },
   "cell_type": "markdown",
   "id": "1b5f3345-ab54-4b4b-adbf-a8a61855d836",
   "metadata": {},
   "source": [
    "<img src = 'attachment:484dc429-ff91-47c2-919f-f5c163b8be5a.png' width = 300>"
   ]
  },
  {
   "cell_type": "code",
   "execution_count": 27,
   "id": "52543144-beaf-4e45-a43d-00572903f7be",
   "metadata": {},
   "outputs": [
    {
     "data": {
      "text/html": [
       "<div>\n",
       "<style scoped>\n",
       "    .dataframe tbody tr th:only-of-type {\n",
       "        vertical-align: middle;\n",
       "    }\n",
       "\n",
       "    .dataframe tbody tr th {\n",
       "        vertical-align: top;\n",
       "    }\n",
       "\n",
       "    .dataframe thead th {\n",
       "        text-align: right;\n",
       "    }\n",
       "</style>\n",
       "<table border=\"1\" class=\"dataframe\">\n",
       "  <thead>\n",
       "    <tr style=\"text-align: right;\">\n",
       "      <th></th>\n",
       "      <th>날짜</th>\n",
       "      <th>최저기온</th>\n",
       "      <th>최고기온</th>\n",
       "    </tr>\n",
       "  </thead>\n",
       "  <tbody>\n",
       "    <tr>\n",
       "      <th>0</th>\n",
       "      <td>평년(오늘)</td>\n",
       "      <td>-5.1 ~ 2.1</td>\n",
       "      <td>9.0 ~ 11.7</td>\n",
       "    </tr>\n",
       "    <tr>\n",
       "      <th>1</th>\n",
       "      <td>어제(20일)</td>\n",
       "      <td>-9.7 ~ -2.0</td>\n",
       "      <td>4.4 ~ 8.8</td>\n",
       "    </tr>\n",
       "    <tr>\n",
       "      <th>2</th>\n",
       "      <td>오늘(21일)</td>\n",
       "      <td>-9.0 ~ -1.6</td>\n",
       "      <td>3 ~ 7</td>\n",
       "    </tr>\n",
       "    <tr>\n",
       "      <th>3</th>\n",
       "      <td>내일(22일)</td>\n",
       "      <td>-7 ~ -3</td>\n",
       "      <td>4 ~ 7</td>\n",
       "    </tr>\n",
       "    <tr>\n",
       "      <th>4</th>\n",
       "      <td>모레(23일)</td>\n",
       "      <td>-8 ~ -3</td>\n",
       "      <td>1 ~ 5</td>\n",
       "    </tr>\n",
       "    <tr>\n",
       "      <th>5</th>\n",
       "      <td>글피(24일)</td>\n",
       "      <td>-9 ~ -4</td>\n",
       "      <td>5 ~ 8</td>\n",
       "    </tr>\n",
       "  </tbody>\n",
       "</table>\n",
       "</div>"
      ],
      "text/plain": [
       "        날짜          최저기온         최고기온\n",
       "0   평년(오늘)   -5.1 ~ 2.1    9.0 ~ 11.7\n",
       "1  어제(20일)  -9.7 ~ -2.0     4.4 ~ 8.8\n",
       "2  오늘(21일)  -9.0 ~ -1.6         3 ~ 7\n",
       "3  내일(22일)      -7 ~ -3         4 ~ 7\n",
       "4  모레(23일)      -8 ~ -3         1 ~ 5\n",
       "5  글피(24일)      -9 ~ -4         5 ~ 8"
      ]
     },
     "execution_count": 27,
     "metadata": {},
     "output_type": "execute_result"
    }
   ],
   "source": [
    "# cf) 더 간단하게 만들기\n",
    "df = pd.DataFrame([entry.split(':')[0].strip(), *entry.split(':')[1].strip().split('/')] for entry in raw_data[1:])\n",
    "df.columns = [\"날짜\",\"최저기온\",\"최고기온\"]\n",
    "df"
   ]
  },
  {
   "cell_type": "code",
   "execution_count": 1,
   "id": "0a247388-fb2f-4e13-b03a-2e449891e04e",
   "metadata": {},
   "outputs": [],
   "source": [
    "TRIGGER_WORDS = {\n",
    "     \"안녕\":\"...소라고둥님이 당신을 바라봅니다.\",\n",
    "     \"정보\":\"...소라고둥님은 당신이 질문하기를 기다립니다.\",\n",
    "     \"기분\":\"...소라고둥님은 기분에 반응하지 않습니다.\",\n",
    "     \"ㅠㅠ\":\"...소라고둥님은 눈물에 관심이 없습니다.\",\n",
    "     \"집\":\"...아니오.\",\n",
    "     \"지금 자도 될까요?\":\"...아니오.\",\n",
    "     \"집에 가도 될까요?\":\"...예.\",\n",
    "     \"마법의 소라고둥님\":\"...소라고둥님이 눈을 떴습니다.\",\n",
    "     \"바보\":\"...소라고둥님은 당신을 외면합니다.\",\n",
    "     \"ㅂㄷㅂㄷ\":\"...소라고둥님이 왠지 당신을 비웃는 것만 같습니다.\",\n",
    "     \"저녁\":\"...소라고둥님이 가만히 당신의 배달의 민족 어플을 쳐다봅니다.\",\n",
    "     \"크아\":\"...소라고둥님이 당신을 야생의 동물 보듯 쳐다봅니다.\"\n",
    "}"
   ]
  },
  {
   "cell_type": "code",
   "execution_count": 4,
   "id": "d30bb96e-2662-4a92-b9dc-0592be6bacd6",
   "metadata": {},
   "outputs": [
    {
     "name": "stdout",
     "output_type": "stream",
     "text": [
      "True\n"
     ]
    }
   ],
   "source": [
    "if isinstance(TRIGGER_WORDS, dict):\n",
    "    print(\"True\")\n",
    "else:\n",
    "    print(\"False\")"
   ]
  }
 ],
 "metadata": {
  "kernelspec": {
   "display_name": "Python 3 (ipykernel)",
   "language": "python",
   "name": "python3"
  },
  "language_info": {
   "codemirror_mode": {
    "name": "ipython",
    "version": 3
   },
   "file_extension": ".py",
   "mimetype": "text/x-python",
   "name": "python",
   "nbconvert_exporter": "python",
   "pygments_lexer": "ipython3",
   "version": "3.13.1"
  }
 },
 "nbformat": 4,
 "nbformat_minor": 5
}
