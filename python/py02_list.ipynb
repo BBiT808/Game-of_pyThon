{
 "cells": [
  {
   "cell_type": "markdown",
   "id": "ec8df3f1-6f9e-4176-bfb1-ee5645890f91",
   "metadata": {},
   "source": [
    "# 자료형"
   ]
  },
  {
   "cell_type": "markdown",
   "id": "dd50e9d1-1fbe-4791-aec7-816305604079",
   "metadata": {},
   "source": [
    "## 리스트 자료형"
   ]
  },
  {
   "cell_type": "markdown",
   "id": "6a6749f2-bc25-4ded-bccb-9854666a7fcd",
   "metadata": {},
   "source": [
    "### 리스트의 인덱싱과 슬라이싱"
   ]
  },
  {
   "cell_type": "code",
   "execution_count": 1,
   "id": "65605b13-d222-4287-8861-96c10070d0e8",
   "metadata": {},
   "outputs": [],
   "source": [
    "# 인덱스는 순서를 뜻하고, 리스트(배열)은 인덱스가 중요하다.\n",
    " # 콤마(,)를 기준으로 여러 개가 들어간다."
   ]
  },
  {
   "cell_type": "code",
   "execution_count": 2,
   "id": "3d697262-f4f8-46fb-bfb3-3637375dc18e",
   "metadata": {},
   "outputs": [],
   "source": [
    "odd = [1,3,5,7,9]"
   ]
  },
  {
   "cell_type": "code",
   "execution_count": 3,
   "id": "e7f23457-1a38-4b6a-a6be-7382de2a2ae6",
   "metadata": {},
   "outputs": [
    {
     "name": "stdout",
     "output_type": "stream",
     "text": [
      "2\n",
      "['Life', 'is']\n",
      "Life\n",
      "is\n"
     ]
    }
   ],
   "source": [
    "a = []\n",
    "b = [1,2,3]\n",
    "c = ['Life', 'is', 'too', 'short']\n",
    "d = [1, 2, 'life', 'is']\n",
    "e = [1, 2, ['Life','is']]\n",
    "print(e[1])\n",
    "print(e[2])\n",
    "print(e[2][0])  # 2번 중의 첫번째\n",
    "print(e[2][1])  # 2번 중의 두번째"
   ]
  },
  {
   "cell_type": "code",
   "execution_count": 4,
   "id": "2f4fb08f-44f2-4686-b774-67d02efa814f",
   "metadata": {},
   "outputs": [
    {
     "name": "stdout",
     "output_type": "stream",
     "text": [
      "5\n",
      "Lifeshort\n",
      "LifeLifeLife\n"
     ]
    }
   ],
   "source": [
    "# 리스트의 인덱싱과 연산\n",
    "print(b[1] + b[2])\n",
    "print(c[0] + c[3])\n",
    "print(c[0] * b[2])"
   ]
  },
  {
   "cell_type": "code",
   "execution_count": 5,
   "id": "a874d4f0-1a9d-49ad-b236-2dfcdb4c2cf5",
   "metadata": {},
   "outputs": [],
   "source": [
    "# Shift + home or End : 글자 전체 드래그"
   ]
  },
  {
   "cell_type": "code",
   "execution_count": 6,
   "id": "c9190d10-a4ef-433d-8e3f-3a25d8fa9f1f",
   "metadata": {},
   "outputs": [
    {
     "data": {
      "text/plain": [
       "'short'"
      ]
     },
     "execution_count": 6,
     "metadata": {},
     "output_type": "execute_result"
    }
   ],
   "source": [
    "c[-1]"
   ]
  },
  {
   "cell_type": "code",
   "execution_count": 7,
   "id": "3d0c810a-d4a7-49f6-b8f2-027bd8613237",
   "metadata": {},
   "outputs": [
    {
     "name": "stdout",
     "output_type": "stream",
     "text": [
      "[11, 22, 33, 44, 55]\n",
      "[33, 44, 55]\n",
      "[11, 22]\n",
      "[44, 55]\n",
      "[11, 33, 55]\n",
      "[55, 44, 33, 22, 11]\n"
     ]
    }
   ],
   "source": [
    "# 리스트의 슬라이싱\n",
    "a = [11,22,33,44,55]\n",
    "print(a[:])\n",
    "print(a[2:])\n",
    "print(a[:-3])\n",
    "print(a[-2:])\n",
    "print(a[::2]) # 콜론 하나 더 넣어서 step(뛰어넘기, 방향) 옵션 넣을 수 있다.\n",
    "print(a[::-1])"
   ]
  },
  {
   "cell_type": "code",
   "execution_count": 8,
   "id": "87c444ed-abe5-4ff9-9f38-1d1a765662ba",
   "metadata": {},
   "outputs": [
    {
     "name": "stdout",
     "output_type": "stream",
     "text": [
      "[2, 3]\n"
     ]
    }
   ],
   "source": [
    "# 예제\n",
    "a = [1,2,3,4,5]\n",
    "print(a[1:3])"
   ]
  },
  {
   "cell_type": "markdown",
   "id": "ec9e5133-7ccc-46be-8d84-81a7f1acb3bc",
   "metadata": {},
   "source": [
    "### 리스트 연산, 수정, 삭제하기"
   ]
  },
  {
   "cell_type": "code",
   "execution_count": 9,
   "id": "53e2ecce-764e-423a-bd0d-e012c611aea2",
   "metadata": {},
   "outputs": [
    {
     "name": "stdout",
     "output_type": "stream",
     "text": [
      "[11, 22, 33, 44, 55, 66]\n",
      "[11, 22, 33, 11, 22, 33, 11, 22, 33]\n"
     ]
    },
    {
     "data": {
      "text/plain": [
       "9"
      ]
     },
     "execution_count": 9,
     "metadata": {},
     "output_type": "execute_result"
    }
   ],
   "source": [
    "a = [11,22,33]\n",
    "b = [44,55,66]\n",
    "\n",
    "# 리스트 더하기\n",
    "print(a+b)\n",
    "# 리스트 반복하기\n",
    "c = a * 3\n",
    "print(c)\n",
    "len(c)"
   ]
  },
  {
   "cell_type": "code",
   "execution_count": 10,
   "id": "0105336e-5578-4b07-955d-b0476880ef07",
   "metadata": {
    "jp-MarkdownHeadingCollapsed": true
   },
   "outputs": [
    {
     "name": "stdout",
     "output_type": "stream",
     "text": [
      "[11, 22, 44]\n",
      "[11, 22, 44]\n",
      "[11, 44]\n"
     ]
    }
   ],
   "source": [
    "# 리스트 값 수정하기\n",
    "a = [11, 22, 33]\n",
    "a[2] = 44\n",
    "print(a)\n",
    "# a[3] = 55  # 없는 요소를 수정하는 것은 에러\n",
    "a[1]\n",
    "print(a)\n",
    "# a[1] = ''  >  빈칸 수정 삽입\n",
    "# a[1] = 0   > 0으로 수정 삽입\n",
    "\n",
    "del a[1]    # 리스트에서 쓰이는 삭제 함수\n",
    "print(a)"
   ]
  },
  {
   "cell_type": "code",
   "execution_count": 11,
   "id": "d2a3443d-869c-433b-8acb-c87c84827e32",
   "metadata": {},
   "outputs": [
    {
     "name": "stdout",
     "output_type": "stream",
     "text": [
      "[11, 22, 33, 11, 22, 33, 11, 22, 33]\n"
     ]
    }
   ],
   "source": [
    "# 리스트 값 슬라이싱으로 삭제\n",
    "print(c)\n",
    "del c[:4]"
   ]
  },
  {
   "cell_type": "code",
   "execution_count": 12,
   "id": "455feedc-8ca0-4e4d-a42d-dc6f0519b1f9",
   "metadata": {},
   "outputs": [
    {
     "name": "stdout",
     "output_type": "stream",
     "text": [
      "[22, 33, 11, 22, 33]\n"
     ]
    }
   ],
   "source": [
    "print(c)"
   ]
  },
  {
   "cell_type": "markdown",
   "id": "8679f269-75a8-4970-8c31-cf5a6a428346",
   "metadata": {},
   "source": [
    "### 리스트 관련 함수"
   ]
  },
  {
   "cell_type": "code",
   "execution_count": null,
   "id": "6d9cd06b-7ef7-41e4-afa3-b6aa40e39abc",
   "metadata": {},
   "outputs": [],
   "source": [
    "dir(list)"
   ]
  },
  {
   "cell_type": "code",
   "execution_count": 14,
   "id": "f226ef16-7dc4-42dd-a7eb-a4eb12466e11",
   "metadata": {},
   "outputs": [
    {
     "name": "stdout",
     "output_type": "stream",
     "text": [
      "[]\n"
     ]
    }
   ],
   "source": [
    "# 리스트 요소 비우기 (초기화)\n",
    "c.clear()\n",
    "print(c)"
   ]
  },
  {
   "cell_type": "code",
   "execution_count": 15,
   "id": "356a66f3-cb03-48ca-997e-129da5ee76c5",
   "metadata": {},
   "outputs": [],
   "source": [
    "a=[] # 리스트 초기화"
   ]
  },
  {
   "cell_type": "code",
   "execution_count": 16,
   "id": "0851de8f-be5a-42f9-8547-b6d868f67b55",
   "metadata": {},
   "outputs": [
    {
     "name": "stdout",
     "output_type": "stream",
     "text": [
      "[4]\n",
      "[4, [11, 22]]\n"
     ]
    }
   ],
   "source": [
    "# 리스트에 요소 추가하기 - append\n",
    "a.append(4)\n",
    "print(a)\n",
    "a.append([11,22])\n",
    "print(a)"
   ]
  },
  {
   "cell_type": "code",
   "execution_count": 17,
   "id": "ea565069-918d-44a6-9487-1d2ce3f9aa06",
   "metadata": {},
   "outputs": [],
   "source": [
    "b = []   # 초기의 텅 빈 값\n",
    "num = 0  # 초기의 설정한 값"
   ]
  },
  {
   "cell_type": "code",
   "execution_count": 18,
   "id": "29560c4b-9e58-4413-84a9-e2e3cf8998b8",
   "metadata": {},
   "outputs": [
    {
     "name": "stdout",
     "output_type": "stream",
     "text": [
      "[1]\n"
     ]
    }
   ],
   "source": [
    "num += 1\n",
    "b.append(num)\n",
    "print(b)"
   ]
  },
  {
   "cell_type": "code",
   "execution_count": 19,
   "id": "e7513124-58f0-44e0-af9a-b6ad0ecf8bfd",
   "metadata": {},
   "outputs": [
    {
     "name": "stdout",
     "output_type": "stream",
     "text": [
      "[11, 22, 33, 44, 55]\n"
     ]
    }
   ],
   "source": [
    "# 리스트 정렬 - sort(오름차순)  ; 인덱싱 파괴에 주의 !\n",
    "a = [11,44,33,22,55]\n",
    "a.sort()\n",
    "print(a)"
   ]
  },
  {
   "cell_type": "code",
   "execution_count": 20,
   "id": "95ea05b8-1bcd-420d-988a-35a887a052b4",
   "metadata": {},
   "outputs": [
    {
     "name": "stdout",
     "output_type": "stream",
     "text": [
      "[55, 44, 33, 22, 11]\n"
     ]
    }
   ],
   "source": [
    "# 리스트 정렬 - sort(내림차순) \n",
    "a = [11,44,33,22,55]\n",
    "a.sort(reverse=True)\n",
    "print(a)"
   ]
  },
  {
   "cell_type": "code",
   "execution_count": 21,
   "id": "c9788aaf-3bdc-44d2-a0df-7aa916c70b18",
   "metadata": {},
   "outputs": [
    {
     "name": "stdout",
     "output_type": "stream",
     "text": [
      "[66, 77, 88, 99, 0]\n",
      "[0, 66, 77, 88, 99]\n",
      "[99, 88, 77, 66, 0]\n"
     ]
    }
   ],
   "source": [
    "# 리스트정렬 원본 유지하기\n",
    "aa = [66, 77, 88, 99, 0]\n",
    "bb = sorted(aa)\n",
    "cc = sorted(aa,reverse=True)\n",
    "print(aa)\n",
    "print(bb)\n",
    "print(cc)"
   ]
  },
  {
   "cell_type": "code",
   "execution_count": 22,
   "id": "d1440553-5c76-4be1-8ade-e94b2db599df",
   "metadata": {},
   "outputs": [
    {
     "name": "stdout",
     "output_type": "stream",
     "text": [
      "[55, 22, 33, 44, 11]\n"
     ]
    }
   ],
   "source": [
    "# 리스트 뒤집기 - reverse ; 리스트 정렬을 오름차순 한 후 뒤집으면 내림차순~\n",
    "a = [11,44,33,22,55]\n",
    "a.reverse()\n",
    "print(a)"
   ]
  },
  {
   "cell_type": "code",
   "execution_count": 23,
   "id": "3bdd1e72-f9a1-4cbb-86c8-cb2bc7248e17",
   "metadata": {},
   "outputs": [
    {
     "name": "stdout",
     "output_type": "stream",
     "text": [
      "['banana', 'kiwi', 'orange', 'melon', 'pear', 'apple', 'strawberry', 'blueberry']\n",
      "['kiwi', 'pear', 'melon', 'apple', 'banana', 'orange', 'blueberry', 'strawberry']\n",
      "['strawberry', 'blueberry', 'banana', 'orange', 'melon', 'apple', 'kiwi', 'pear']\n"
     ]
    }
   ],
   "source": [
    "# sorted 응용\n",
    "fruit = ['banana','kiwi','orange','melon','pear','apple','strawberry','blueberry']\n",
    "result = sorted(fruit,key=len)\n",
    "result2 = sorted(fruit,key=len,reverse=True)\n",
    "print(fruit)\n",
    "print(result)\n",
    "print(result2)"
   ]
  },
  {
   "cell_type": "code",
   "execution_count": 24,
   "id": "7d038cdc-5b95-4acd-9765-0b056c4b029c",
   "metadata": {},
   "outputs": [
    {
     "name": "stdout",
     "output_type": "stream",
     "text": [
      "과일을 먹어볼까 ? ㅇOㅇ\n",
      "kiwi 냠냠 맛있다 ~\n",
      "pear 냠냠 맛있다 ~\n",
      "melon 냠냠 맛있다 ~\n",
      "apple 냠냠 맛있다 ~\n",
      "banana 못 먹겠어 ! 웩 ! -ㅠ-\n",
      "banana 냠냠 맛있다 ~\n",
      "orange 냠냠 맛있다 ~\n",
      "blueberry 냠냠 맛있다 ~\n",
      "strawberry 냠냠 맛있다 ~\n",
      "와 ~ 다 먹었다 ! ^-^\n"
     ]
    }
   ],
   "source": [
    "print('과일을 먹어볼까 ? ㅇOㅇ')\n",
    "for r in result:\n",
    "    if r == 'banana':\n",
    "        print(r + ' 못 먹겠어 ! 웩 ! -ㅠ-')\n",
    "    print(r + ' 냠냠 맛있다 ~')\n",
    "print('와 ~ 다 먹었다 ! ^-^')"
   ]
  },
  {
   "cell_type": "code",
   "execution_count": 25,
   "id": "a7f1d4f8-d33d-4248-ba21-ccb08deb0f14",
   "metadata": {},
   "outputs": [
    {
     "data": {
      "text/plain": [
       "3"
      ]
     },
     "execution_count": 25,
     "metadata": {},
     "output_type": "execute_result"
    }
   ],
   "source": [
    "# 인덱스 반환 - index\n",
    "fruit = ['banana','kiwi','orange','melon','pear','apple','strawberry','blueberry']\n",
    "fruit.index('melon')\n",
    "# fruit.index('m')   : 틀리면 안 나옴.\n",
    "# fruit.find('melon')  : 없다."
   ]
  },
  {
   "cell_type": "code",
   "execution_count": 27,
   "id": "618eff75-bfc6-415b-877a-faf134953416",
   "metadata": {},
   "outputs": [
    {
     "name": "stdin",
     "output_type": "stream",
     "text": [
      "먹고 싶은 과일을 입력하세요 melon\n"
     ]
    },
    {
     "name": "stdout",
     "output_type": "stream",
     "text": [
      "melon를 좋아하시는 군요! 그것은 4번 째에 있습니다.\n"
     ]
    }
   ],
   "source": [
    "# 인덱스 응용\n",
    "fruit = ['banana','kiwi','orange','melon','pear','apple','strawberry','blueberry']\n",
    "want = input('먹고 싶은 과일을 입력하세요')\n",
    "Where = fruit.index(want)\n",
    "print(f'{want}를 좋아하시는 군요! 그것은 {Where + 1}번 째에 있습니다.')"
   ]
  },
  {
   "cell_type": "code",
   "execution_count": 39,
   "id": "fb20d7d8-1a3c-475e-beb6-267629752ace",
   "metadata": {},
   "outputs": [],
   "source": [
    "# cf)\n",
    "# inp = input('먹고 싶은 과일을 입력하세요')\n",
    "# fruit.index(inp)\n",
    "# fruit.index(input('먹고 싶은 과일을 입력하세요'))\n",
    "# print(inp + '를 좋아하시는 군요 !')"
   ]
  },
  {
   "cell_type": "code",
   "execution_count": 41,
   "id": "58b8606f-12ff-4f3c-9672-39cd13c232da",
   "metadata": {},
   "outputs": [
    {
     "name": "stdout",
     "output_type": "stream",
     "text": [
      "[11, 22, 33, 55, 66, 77, 88]\n",
      "[11, 22, 33, 44, 55, 66, 77, 88]\n"
     ]
    }
   ],
   "source": [
    "# 리스트에 요소 삽입 - insert\n",
    "num = [11,22,33,55,66,77,88]\n",
    "print(num)\n",
    "num.insert(3,44)   # 3번째에 44를 넣어라 (3은 인덱스 위치, 44는 원하는 값)\n",
    "print(num)"
   ]
  },
  {
   "cell_type": "code",
   "execution_count": 64,
   "id": "eea0bfbc-b202-4b75-9ba7-897242b57032",
   "metadata": {},
   "outputs": [],
   "source": [
    "ex = [] # 초기화 시키기 위함"
   ]
  },
  {
   "cell_type": "code",
   "execution_count": 65,
   "id": "e8172130-848c-4dea-9e4a-e038c67b59cf",
   "metadata": {},
   "outputs": [
    {
     "name": "stdout",
     "output_type": "stream",
     "text": [
      "['맨 앞']\n",
      "['-1인덱스', '맨 앞']\n",
      "['맨 앞', '-1인덱스', '맨 앞']\n",
      "['맨 앞', '-1인덱스', '맨 앞', '제일 끝']\n"
     ]
    }
   ],
   "source": [
    "ex.insert(0,'맨 앞')\n",
    "print(ex)\n",
    "ex.insert(-1,'-1인덱스')\n",
    "print(ex)\n",
    "ex.insert(0,'맨 앞')\n",
    "print(ex)\n",
    "ex.insert(len(ex),'제일 끝')  # len()함수를 이용해서 맨 뒤에 삽입할 수 있다.\n",
    "print(ex)"
   ]
  },
  {
   "cell_type": "code",
   "execution_count": 6,
   "id": "ceec0b78-7e99-4781-b633-61d312e38541",
   "metadata": {},
   "outputs": [],
   "source": [
    "# 20250205 세번째 수업!"
   ]
  },
  {
   "cell_type": "code",
   "execution_count": 5,
   "id": "82f923f1-3366-4a48-ac79-db1b3fa215d0",
   "metadata": {},
   "outputs": [
    {
     "name": "stdout",
     "output_type": "stream",
     "text": [
      "[1, 2, 1, 2, 3]\n"
     ]
    }
   ],
   "source": [
    "# 리스트 요소제거 - remove\n",
    "a = [1,2,3,1,2,3]\n",
    "a.remove(3)  # 처음 만나는 요소 제거\n",
    "print(a)"
   ]
  },
  {
   "cell_type": "code",
   "execution_count": 21,
   "id": "1045f869-1c4a-46e8-816a-b79ac319c94f",
   "metadata": {},
   "outputs": [
    {
     "name": "stdout",
     "output_type": "stream",
     "text": [
      "None\n"
     ]
    }
   ],
   "source": [
    "# 테스트 (remove)   - remove는 값을 return하지 않는다.\n",
    "a = [11,22,33,44,55,66]\n",
    "hands = a.remove(33)\n",
    "print(hands)"
   ]
  },
  {
   "cell_type": "code",
   "execution_count": 3,
   "id": "98c30863-3fe6-4dcf-96d9-830542b6e48f",
   "metadata": {},
   "outputs": [
    {
     "name": "stdout",
     "output_type": "stream",
     "text": [
      "33을(를) 제거 하였습니다.\n"
     ]
    }
   ],
   "source": [
    "# 테스트 (remove)   - remove는 값을 return하지 않는다.\n",
    "choice = 33\n",
    "a = [11,22,33,44,55,66]\n",
    "a.remove(choice)\n",
    "print(f'{choice}을(를) 제거 하였습니다.')"
   ]
  },
  {
   "cell_type": "code",
   "execution_count": null,
   "id": "f3a03769-6cdf-42c8-b46c-49292b592a4f",
   "metadata": {},
   "outputs": [],
   "source": [
    "# print와 return은 다르다 !"
   ]
  },
  {
   "cell_type": "code",
   "execution_count": 17,
   "id": "a069c034-f671-44a5-8187-140572abb215",
   "metadata": {},
   "outputs": [],
   "source": [
    "# 리스트 요소 끄집어 내기 - pop (return 된 것을 따로 받으면 사용할 수 있음)\n",
    "a = [1,2,3] # 요소가 다 나올 때까지 뒤에서 하나씩 꺼냄"
   ]
  },
  {
   "cell_type": "code",
   "execution_count": 18,
   "id": "bc16d025-c7b9-4f61-8a79-0c709ec19149",
   "metadata": {},
   "outputs": [
    {
     "name": "stdout",
     "output_type": "stream",
     "text": [
      "[1, 2]\n",
      "받은 거 3\n"
     ]
    }
   ],
   "source": [
    "hand = a.pop() # 리턴(return)값을 받음\n",
    "print(a)\n",
    "print(\"받은 거\", hand)"
   ]
  },
  {
   "cell_type": "code",
   "execution_count": null,
   "id": "f6440cb1-c961-45eb-9e53-b3a245902938",
   "metadata": {},
   "outputs": [],
   "source": [
    "# 선입선출 FIFO (First In First Out) / Queue : 처음 들어가면 처음 나옴\n",
    "# 후입선출 LIFO (Last In First Out) / Stack :  마지막에 들어가면 처음 나옴 ; 홈페이지 cf) 뒤로가기"
   ]
  },
  {
   "cell_type": "code",
   "execution_count": 20,
   "id": "5c5ab572-024d-4816-9856-aed74d442d2c",
   "metadata": {},
   "outputs": [
    {
     "name": "stdout",
     "output_type": "stream",
     "text": [
      "[1, 3]\n",
      "리턴 값 2\n"
     ]
    }
   ],
   "source": [
    "a = [1,2,3]\n",
    "hand = a.pop(1) # 리스트 중 받는 값의 순서를 설정할 수도 있음\n",
    "print(a)\n",
    "print(\"리턴 값\", hand)"
   ]
  },
  {
   "cell_type": "code",
   "execution_count": 22,
   "id": "3a4abffc-c944-446d-bf2a-f833b6c1658d",
   "metadata": {},
   "outputs": [
    {
     "name": "stdout",
     "output_type": "stream",
     "text": [
      "2\n",
      "8\n"
     ]
    }
   ],
   "source": [
    "# 리스트에 포함된 요소 x의 개수 세기 - Count\n",
    "st = \"안녕하세요 반가워요\"\n",
    "print(st.count(\"요\"))\n",
    "a = [1,2,3,4,5,1,1,1,2,3,4,1,1,1,1,]\n",
    "print(a.count(1))"
   ]
  },
  {
   "cell_type": "code",
   "execution_count": 27,
   "id": "6c04c0b5-547b-4075-9923-002e9f080260",
   "metadata": {},
   "outputs": [
    {
     "name": "stdout",
     "output_type": "stream",
     "text": [
      "[1, 2, 3, 4, 5]\n",
      "[11, 22, 33, 44, 55, 66]\n"
     ]
    }
   ],
   "source": [
    "# 리스트 확장   ; 원본 변경\n",
    "a = [1,2,3]\n",
    "a.extend([4,5])\n",
    "print(a)\n",
    "\n",
    "b = [11,22,33]\n",
    "c = [44,55,66]\n",
    "print(b+c)"
   ]
  },
  {
   "cell_type": "code",
   "execution_count": null,
   "id": "ef1ab688-44bf-4770-8a6a-14945328ca86",
   "metadata": {},
   "outputs": [],
   "source": [
    "# 데이터의 핵심은 C(Create) R(Read) U(Update) D(Delete)"
   ]
  },
  {
   "cell_type": "code",
   "execution_count": 9,
   "id": "a6124536-a8b8-4db9-9159-aad3424bc116",
   "metadata": {},
   "outputs": [],
   "source": [
    "# 장바구니\n",
    "bag = []"
   ]
  },
  {
   "cell_type": "code",
   "execution_count": 14,
   "id": "f4b71462-1192-4478-b3e3-fb9572a5fc52",
   "metadata": {},
   "outputs": [
    {
     "name": "stdin",
     "output_type": "stream",
     "text": [
      "필요한 항목을 넣어주세요. 카레\n"
     ]
    },
    {
     "name": "stdout",
     "output_type": "stream",
     "text": [
      "장바구니에는 ['호박', '감자', '위스키', '맥주', '카레']들이 있습니다.\n"
     ]
    }
   ],
   "source": [
    "# Create 생성\n",
    "inp = input('필요한 항목을 넣어주세요.')\n",
    "bag.append(inp)\n",
    "print(f'장바구니에는 {bag}들이 있습니다.')"
   ]
  },
  {
   "cell_type": "code",
   "execution_count": 15,
   "id": "4b58c36a-9212-40d0-aa0b-57ee7d39fcdc",
   "metadata": {},
   "outputs": [
    {
     "name": "stdout",
     "output_type": "stream",
     "text": [
      "호박을 꺼내서 장바구니에 ['감자', '위스키', '맥주', '카레']가 남았습니다.\n"
     ]
    }
   ],
   "source": [
    "# FIFO 출력(큐(Queue) 출력)\n",
    "hand = bag.pop(0)\n",
    "print(f'{hand}을 꺼내서 장바구니에 {bag}가 남았습니다.')"
   ]
  },
  {
   "cell_type": "code",
   "execution_count": 20,
   "id": "e81fbffe-6a62-4e16-ad81-70de533fe874",
   "metadata": {},
   "outputs": [
    {
     "name": "stdin",
     "output_type": "stream",
     "text": [
      "꺼내고 싶은 물품을 입력하세요. 맥주\n"
     ]
    },
    {
     "name": "stdout",
     "output_type": "stream",
     "text": [
      "2\n"
     ]
    }
   ],
   "source": [
    "# 선택 출력\n",
    "bring = input('꺼내고 싶은 물품을 입력하세요.')  # 변수를 설정할 때는 컴퓨터언어와 유사한 것은 피하기\n",
    "print(bag.index(bring))"
   ]
  },
  {
   "cell_type": "code",
   "execution_count": 26,
   "id": "92ce4ff4-4043-4516-9577-91eb9d675845",
   "metadata": {},
   "outputs": [
    {
     "name": "stdout",
     "output_type": "stream",
     "text": [
      "바구니에 ['호박', '감자', '소주', '맥주', '피자'] 물품이 있습니다.\n"
     ]
    },
    {
     "name": "stdin",
     "output_type": "stream",
     "text": [
      "꺼내고 싶은 물품을 입력하세요. 소주\n"
     ]
    },
    {
     "name": "stdout",
     "output_type": "stream",
     "text": [
      "바구니에서 소주 꺼내어 ['호박', '감자', '맥주', '피자']이 남았습니다.\n"
     ]
    }
   ],
   "source": [
    "bag = ['호박', '감자', '소주', '맥주', '피자']\n",
    "print(f'바구니에 {bag} 물품이 있습니다.')\n",
    "bring = input('꺼내고 싶은 물품을 입력하세요.')\n",
    "hand2 = bag.pop(bag.index(bring))\n",
    "print(f\"바구니에서 {hand2} 꺼내어 {bag}이 남았습니다.\")"
   ]
  },
  {
   "cell_type": "code",
   "execution_count": 23,
   "id": "a8942b0f-0a6e-41a1-ba35-cff21816aac7",
   "metadata": {},
   "outputs": [
    {
     "name": "stdin",
     "output_type": "stream",
     "text": [
      "추가할 물건 이름을 적어주세요. 위스키\n",
      "어느 물품의 뒤에 넣어둘까요? 소주\n"
     ]
    },
    {
     "name": "stdout",
     "output_type": "stream",
     "text": [
      "['호박', '감자', '소주', '위스키', '맥주', '피자']\n"
     ]
    }
   ],
   "source": [
    "# 실습\n",
    "bag = ['호박', '감자', '소주', '맥주', '피자']\n",
    "# 물품 하나를 추가하기. 단, 지정한 물품 바로 뒤에 추가하기.\n",
    "\n",
    "#내 답\n",
    "test1 = input('추가할 물건 이름을 적어주세요.')\n",
    "test2 = input('어느 물품의 뒤에 넣어둘까요?')\n",
    "a = bag.index(test2)\n",
    "bag.insert(a+1,test1)\n",
    "print(bag)"
   ]
  },
  {
   "cell_type": "code",
   "execution_count": 24,
   "id": "ba362bee-2901-4402-80b0-12db5fd326ff",
   "metadata": {},
   "outputs": [
    {
     "name": "stdin",
     "output_type": "stream",
     "text": [
      "추가할 물건 이름을 적어주세요 치즈\n",
      "어느 물품의 뒤에 넣어둘까요? 맥주\n"
     ]
    },
    {
     "name": "stdout",
     "output_type": "stream",
     "text": [
      "['호박', '감자', '소주', '맥주', '치즈', '피자']\n"
     ]
    }
   ],
   "source": [
    "# 풀이\n",
    "bag = ['호박', '감자', '소주', '맥주', '피자']\n",
    "thing = input('추가할 물건 이름을 적어주세요')\n",
    "where = input('어느 물품의 뒤에 넣어둘까요?')\n",
    "위치 = bag.index(where) + 1\n",
    "bag.insert(위치,thing)\n",
    "print(bag)"
   ]
  },
  {
   "cell_type": "code",
   "execution_count": 31,
   "id": "483f079e-3884-4c73-ae31-aaf05c729de3",
   "metadata": {},
   "outputs": [
    {
     "name": "stdin",
     "output_type": "stream",
     "text": [
      "내가 누구게? 숫자를 입력하세요. 777\n"
     ]
    },
    {
     "name": "stdout",
     "output_type": "stream",
     "text": [
      "781 <class 'int'>\n"
     ]
    }
   ],
   "source": [
    "# 테스트\n",
    "num = int(input('내가 누구게? 숫자를 입력하세요.'))\n",
    "print(int(num) + 4, type(num))"
   ]
  },
  {
   "cell_type": "code",
   "execution_count": 3,
   "id": "c286d4d5-487e-469c-ad81-c801c46bcbc7",
   "metadata": {},
   "outputs": [
    {
     "name": "stdin",
     "output_type": "stream",
     "text": [
      "원화로 계산할 달러를 입력하세요. 4\n"
     ]
    },
    {
     "name": "stdout",
     "output_type": "stream",
     "text": [
      "입력하신 달러는 현재 약 5797.44 원 입니다.\n"
     ]
    }
   ],
   "source": [
    "# 환율 계산기 만들기\n",
    "\n",
    "test1 = input(\"원화로 계산할 달러를 입력하세요.\")\n",
    "print(\"입력하신 달러는 현재 약\", int(test1)*1449.36,\"원 입니다.\")"
   ]
  },
  {
   "cell_type": "code",
   "execution_count": 113,
   "id": "d61b6ef4-604c-4132-b8d2-eeffcec74941",
   "metadata": {},
   "outputs": [
    {
     "name": "stdout",
     "output_type": "stream",
     "text": [
      "<class 'list'>\n",
      "1,460.8 <class 'str'>\n",
      "14608 <class 'str'>\n"
     ]
    }
   ],
   "source": [
    "import requests  # requests라는 모듈을 가져옴\n",
    "import json  # json이라는 형식의 라이브러리를 가져옴\n",
    "url = 'https://www.koreaexim.go.kr/site/program/financial/exchangeJSON?authkey=xItBWhMQuUZDr1031FMj4YnvlNqRhWmypC1v&data=AP01'\n",
    "res = requests.get(url).text\n",
    "# print(type(res))\n",
    "# print(res)\n",
    "data = json.loads(res)\n",
    "print(type(data))\n",
    "result = data[-1]['deal_bas_r']# 제일 마지막 줄이라 -1을 사용함!\n",
    "print(result,type(result))\n",
    "\n",
    "# 스트링을 숫자로 바꾸어라, 단 쉼표는 전처리하여 사용 가능하게 하라.\n",
    "# a = result.replace(',','')\n",
    "# print(a)\n",
    "\n",
    "# 해설\n",
    "result2 = result.replace(',','').replace('.','') # chain 형식으로 계속 걸 수 있음\n",
    "print(result2,type(result2))\n",
    "exc = int(result2)/10  # 숫자로 바뀌었으므로 산수로 풀면 됨 크악 왜 이걸 몰랐을까 !!!!"
   ]
  },
  {
   "cell_type": "code",
   "execution_count": 114,
   "id": "7250ae0c-f9a6-48cf-b1ab-69fbf11f5920",
   "metadata": {},
   "outputs": [
    {
     "name": "stdin",
     "output_type": "stream",
     "text": [
      "원화로 계산한 달러를 입력하세요. 30\n"
     ]
    },
    {
     "name": "stdout",
     "output_type": "stream",
     "text": [
      "1달러는 1,460.8원 이므로,\n",
      "요청하신 30달러의 변환값은 43,824.0원 입니다.\n"
     ]
    }
   ],
   "source": [
    "# 풀이\n",
    "dollar = int(input(\"원화로 계산한 달러를 입력하세요.\"))\n",
    "# exc = 1450\n",
    "won = dollar * exc\n",
    "print(f\"1달러는 {exc:,}원 이므로,\\n요청하신 {dollar}달러의 변환값은 {won:,}원 입니다.\")"
   ]
  },
  {
   "cell_type": "code",
   "execution_count": null,
   "id": "dfdeb66c-9371-46c1-b564-94bcfb8ce649",
   "metadata": {},
   "outputs": [],
   "source": [
    "# API (Open API) : 외부에서 데이터를 가져갈 수 있도록 장치해놓은 것.\n",
    " # >무조건 설명서를 포함한다.\n",
    "\n",
    "# https://search.naver.com/search.naver?where=nexearch&sm=top_hty&fbm=0&ie=utf8&query=%ED%99%98%EC%9C%A8\n",
    "#               호스트                /?/                    요청한 사항            /=/ 대입값(여기서는 한글)\n",
    "#  https://www.koreaexim.go.kr/site/program/financial/exchangeJSON?authkey=AUTHKEY1234567890&searchdate=20180102&data=AP01\n",
    "#                                                                 /      /= 발급받은 키    /                   / data 분류"
   ]
  },
  {
   "cell_type": "code",
   "execution_count": null,
   "id": "a311852e-fc5d-4497-b8c4-8e1bc918ae67",
   "metadata": {},
   "outputs": [],
   "source": [
    "# 형변환 cf) string을 list로 등 . ."
   ]
  },
  {
   "cell_type": "code",
   "execution_count": null,
   "id": "8e74f37e-1d8a-4cc2-9168-ca49838ff406",
   "metadata": {},
   "outputs": [],
   "source": [
    "# cf)\n",
    "a = [11,22,33,44,55]\n",
    "b = {'0':11,'1':22,'3':33,'4':44,'5':55}"
   ]
  },
  {
   "cell_type": "code",
   "execution_count": 54,
   "id": "7b3eed06-0396-4305-b328-23f89aca9bee",
   "metadata": {},
   "outputs": [
    {
     "name": "stdin",
     "output_type": "stream",
     "text": [
      "질문3 안들려요~\n"
     ]
    },
    {
     "name": "stdout",
     "output_type": "stream",
     "text": [
      "네?\n",
      "뭐라고요?\n",
      "안들려요~\n"
     ]
    }
   ],
   "source": [
    "from IPython.display import clear_output\n",
    "# test\n",
    "inp1 = input('질문1')\n",
    "clear_output(wait=True)\n",
    "inp2 = input('질문2')\n",
    "clear_output(wait=True)\n",
    "inp3 = input('질문3')\n",
    "print(inp1)\n",
    "print(inp2)\n",
    "print(inp3)"
   ]
  },
  {
   "cell_type": "code",
   "execution_count": 56,
   "id": "6478508e-1682-40f5-9247-bdd20c090827",
   "metadata": {},
   "outputs": [
    {
     "data": {
      "text/plain": [
       "0.30000000000000004"
      ]
     },
     "execution_count": 56,
     "metadata": {},
     "output_type": "execute_result"
    }
   ],
   "source": [
    "0.1 + 0.2  # 부동소수의 오류"
   ]
  },
  {
   "cell_type": "code",
   "execution_count": 59,
   "id": "6a974253-35d7-469e-8836-5c4d78999f76",
   "metadata": {},
   "outputs": [
    {
     "name": "stdout",
     "output_type": "stream",
     "text": [
      "0.3000000000000000444089209850062616169452667236328125\n"
     ]
    }
   ],
   "source": [
    "from decimal import Decimal\n",
    "rr = Decimal(0.1 + 0.2)\n",
    "result = Decimal(rr)\n",
    "print(result)"
   ]
  },
  {
   "cell_type": "code",
   "execution_count": 62,
   "id": "f0b064a7-679f-4512-88a9-e72512910c1a",
   "metadata": {},
   "outputs": [
    {
     "name": "stdout",
     "output_type": "stream",
     "text": [
      "2898.8\n"
     ]
    }
   ],
   "source": [
    "rr = 1449.4 * 2\n",
    "print(round(rr,1))  # 정밀한 계산을 요구할 때"
   ]
  },
  {
   "cell_type": "markdown",
   "id": "b2aa47c7-4e54-4be4-a2df-f98a02834712",
   "metadata": {},
   "source": [
    "## 튜플 자료형"
   ]
  },
  {
   "cell_type": "code",
   "execution_count": 63,
   "id": "2d7a91f5-32ca-4199-abf8-7b68d46c50ae",
   "metadata": {},
   "outputs": [],
   "source": [
    "t1 = ()\n",
    "t2 = (1,)\n",
    "t3 = (1,2,3)\n",
    "t4 = 1, 2, 3\n",
    "t5 =('a','b',('ab','cd'))"
   ]
  },
  {
   "cell_type": "code",
   "execution_count": null,
   "id": "1da3f8ca-cc23-4d82-8143-c7e12f49a538",
   "metadata": {},
   "outputs": [],
   "source": [
    "# 튜플의 요소값을 삭제하려 할 때\n",
    "t1 = (1,2,'a','b')\n",
    "del t1[0]"
   ]
  },
  {
   "attachments": {
    "b1ae945d-fb13-4302-b923-3040f60dbe76.png": {
     "image/png": "[encoded data removed]"
    }
   },
   "cell_type": "markdown",
   "id": "adcb102a-13f0-4c9e-b0fe-0dea433a26aa",
   "metadata": {},
   "source": [
    "![image.png](attachment:b1ae945d-fb13-4302-b923-3040f60dbe76.png)"
   ]
  },
  {
   "cell_type": "code",
   "execution_count": null,
   "id": "59863f1d-2aed-4840-835c-3893ae96967c",
   "metadata": {},
   "outputs": [],
   "source": [
    "# 튜플 요솟값을 변경하려 할 때\n",
    "t1 = (1,2,'a','b')\n",
    "t1[0] = 'c'"
   ]
  },
  {
   "attachments": {
    "d2d1bf1b-57f1-4405-87bc-d2e59c1c5793.png": {
     "image/png": "[encoded data removed]"
    }
   },
   "cell_type": "markdown",
   "id": "014ffd56-1ecd-4f54-ade6-7f95aa77ba8c",
   "metadata": {},
   "source": [
    "![image.png](attachment:d2d1bf1b-57f1-4405-87bc-d2e59c1c5793.png)"
   ]
  },
  {
   "cell_type": "code",
   "execution_count": null,
   "id": "a7c98b2a-37de-49fe-99a7-70a41b6432da",
   "metadata": {},
   "outputs": [],
   "source": [
    "dir(tuple) # tuple()"
   ]
  },
  {
   "cell_type": "code",
   "execution_count": 67,
   "id": "6fed9ddf-46f5-457a-bc94-524bf323a2e5",
   "metadata": {},
   "outputs": [
    {
     "name": "stdout",
     "output_type": "stream",
     "text": [
      "1 b\n"
     ]
    }
   ],
   "source": [
    "# 인덱싱하기\n",
    "t1 = (1,2,'a','b')\n",
    "print(t1[0],t1[3])"
   ]
  },
  {
   "cell_type": "code",
   "execution_count": 68,
   "id": "0541f2ae-a321-443f-bb31-c7dcf9276608",
   "metadata": {},
   "outputs": [
    {
     "name": "stdout",
     "output_type": "stream",
     "text": [
      "(2, 'a', 'b')\n"
     ]
    }
   ],
   "source": [
    "# 슬라이싱\n",
    "t1 = (1,2,'a','b')\n",
    "print(t1[1:])"
   ]
  },
  {
   "cell_type": "code",
   "execution_count": 69,
   "id": "f5bff674-9c3f-40cc-adb8-c74f47920cf7",
   "metadata": {},
   "outputs": [
    {
     "name": "stdout",
     "output_type": "stream",
     "text": [
      "(1, 2, 'a', 'b', 3, 4)\n"
     ]
    }
   ],
   "source": [
    "# 튜플 더하기\n",
    "t1 = (1,2,'a','b')\n",
    "t2 = (3,4)\n",
    "t3 = t1 + t2\n",
    "print(t3)"
   ]
  },
  {
   "cell_type": "code",
   "execution_count": 70,
   "id": "3b3028a8-365c-420c-8421-b0512dcca278",
   "metadata": {},
   "outputs": [
    {
     "name": "stdout",
     "output_type": "stream",
     "text": [
      "(3, 4, 3, 4, 3, 4)\n"
     ]
    }
   ],
   "source": [
    "# 튜플 곱하기\n",
    "t2 = 3, 4\n",
    "t3 = t2 * 3\n",
    "print(t3)"
   ]
  },
  {
   "cell_type": "code",
   "execution_count": 72,
   "id": "2f29c9ff-f47c-4d89-af08-944944b71413",
   "metadata": {},
   "outputs": [
    {
     "data": {
      "text/plain": [
       "6"
      ]
     },
     "execution_count": 72,
     "metadata": {},
     "output_type": "execute_result"
    }
   ],
   "source": [
    "# 튜플 길이 구하기\n",
    "len(t3)"
   ]
  },
  {
   "cell_type": "code",
   "execution_count": null,
   "id": "9135327d-6864-4cb5-9b57-c4429d919bf0",
   "metadata": {},
   "outputs": [],
   "source": [
    "# 키값쌍(key value pair)  ; ( 키 : 값 , 키 : 값 , 키 : 값 ...)"
   ]
  },
  {
   "cell_type": "markdown",
   "id": "04a7aa10-2b35-4098-9fb9-ce6949449c5d",
   "metadata": {},
   "source": [
    "## 딕셔너리 자료형"
   ]
  },
  {
   "cell_type": "code",
   "execution_count": 78,
   "id": "c348330e-ba92-4d85-bbce-7f306d11544f",
   "metadata": {},
   "outputs": [],
   "source": [
    "dic = {'name': 'pey', 'phone':'010-9999-1234', 'birth':'1118'}"
   ]
  },
  {
   "cell_type": "code",
   "execution_count": 79,
   "id": "9ece5d01-69a3-4bc9-ba66-45541df94a03",
   "metadata": {},
   "outputs": [
    {
     "name": "stdout",
     "output_type": "stream",
     "text": [
      "pey\n",
      "010-9999-1234\n",
      "1118\n"
     ]
    }
   ],
   "source": [
    "print(dic['name'])\n",
    "print(dic['phone'])\n",
    "print(dic['birth'])"
   ]
  },
  {
   "cell_type": "code",
   "execution_count": 92,
   "id": "96655c03-c9fb-43f9-9935-a8e3041f7549",
   "metadata": {},
   "outputs": [
    {
     "name": "stdout",
     "output_type": "stream",
     "text": [
      "11\n",
      "11\n",
      "11\n"
     ]
    }
   ],
   "source": [
    "al = [11,22,33,44,55]\n",
    "at = 11,22,33,44,55\n",
    "ad = {0:11,1:22,2:33,3:44,4:55}\n",
    "print(al[0])\n",
    "print(at[0])\n",
    "print(ad[0])"
   ]
  },
  {
   "cell_type": "code",
   "execution_count": 94,
   "id": "ad131bfe-f36c-4db8-a298-75144991bf57",
   "metadata": {},
   "outputs": [
    {
     "name": "stdout",
     "output_type": "stream",
     "text": [
      "11\n",
      "22\n",
      "33\n",
      "44\n",
      "55\n",
      "==========\n",
      "11\n",
      "22\n",
      "33\n",
      "44\n",
      "55\n"
     ]
    }
   ],
   "source": [
    "# test\n",
    "for l in al:\n",
    "    print(l)\n",
    "print('='*10)\n",
    "for t in at:\n",
    "    print(t)"
   ]
  },
  {
   "cell_type": "code",
   "execution_count": 95,
   "id": "3e2fe6ad-4076-4d5f-ac1a-b832d12c5caa",
   "metadata": {},
   "outputs": [
    {
     "name": "stdout",
     "output_type": "stream",
     "text": [
      "[1, 2, 3, 4, 5]\n"
     ]
    }
   ],
   "source": [
    "a = {'aa':[1,2,3,4,5]}\n",
    "print(a['aa'])"
   ]
  },
  {
   "cell_type": "code",
   "execution_count": 96,
   "id": "ea9da5a6-d539-4775-af71-be5cad333d4d",
   "metadata": {},
   "outputs": [
    {
     "data": {
      "text/plain": [
       "'010-9999-1234'"
      ]
     },
     "execution_count": 96,
     "metadata": {},
     "output_type": "execute_result"
    }
   ],
   "source": [
    "dic2 = {'aa': {'name': 'pey', 'phone':'010-9999-1234', 'birth':'1118'}}\n",
    "dic2['aa']['phone']   # dictionary 안에 또 dictionary가 들어간다 !"
   ]
  },
  {
   "cell_type": "markdown",
   "id": "091c7aef-6e4c-4904-9fe3-8eebf0a413ed",
   "metadata": {},
   "source": [
    "### 딕셔너리 쌍 추가, 삭제하기"
   ]
  },
  {
   "cell_type": "code",
   "execution_count": 97,
   "id": "a816e817-8372-48c7-9230-8eef7e767e73",
   "metadata": {},
   "outputs": [
    {
     "name": "stdout",
     "output_type": "stream",
     "text": [
      "{'name': 'pey', 'phone': '010-9999-1234', 'birth': '1118', 'address': 'busan'}\n"
     ]
    }
   ],
   "source": [
    "# 딕셔너리 쌍 추가하기\n",
    "dic = {'name': 'pey', 'phone':'010-9999-1234', 'birth':'1118'}\n",
    "dic['address'] = 'busan'\n",
    "print(dic)"
   ]
  },
  {
   "cell_type": "code",
   "execution_count": 98,
   "id": "6c5254e1-0d0e-48ba-a858-cae4b1e87644",
   "metadata": {},
   "outputs": [
    {
     "name": "stdout",
     "output_type": "stream",
     "text": [
      "{'name': 'pey', 'phone': '010-9999-1234', 'birth': '1118', 'address': 'busan', 'array': [1, 2, 3, 4, 5]}\n"
     ]
    }
   ],
   "source": [
    "dic['array'] = [1,2,3,4,5]\n",
    "print(dic)"
   ]
  },
  {
   "cell_type": "code",
   "execution_count": 99,
   "id": "d0ee77e2-45e1-47f5-a27d-7b28708e9991",
   "metadata": {},
   "outputs": [
    {
     "name": "stdout",
     "output_type": "stream",
     "text": [
      "{'name': 'pey', 'phone': '010-9999-1234', 'birth': '1118', 'address': 'busan', 'array': [1, 2, 3, 4, 5]}\n",
      "{'name': 'pey', 'phone': '010-9999-1234', 'address': 'busan', 'array': [1, 2, 3, 4, 5]}\n"
     ]
    }
   ],
   "source": [
    "# 딕셔너리 쌍 삭제하기\n",
    "print(dic)\n",
    "del dic['birth']\n",
    "print(dic)"
   ]
  },
  {
   "cell_type": "code",
   "execution_count": 100,
   "id": "b4e2a59e-e4f3-4179-819e-39ab38417a0e",
   "metadata": {},
   "outputs": [
    {
     "name": "stdout",
     "output_type": "stream",
     "text": [
      "{1: 'b'}\n"
     ]
    }
   ],
   "source": [
    "# 딕셔너리 만들 때 주의할 사항\n",
    "a = {1:'a',1:'b'}     # key값이 중복으로 사용될 경우 값이 무시될 수 있음\n",
    "print(a)"
   ]
  },
  {
   "cell_type": "markdown",
   "id": "92e136a3-64b0-4ffb-9fed-26690cb15f08",
   "metadata": {},
   "source": [
    "### 딕셔너리 관련함수"
   ]
  },
  {
   "cell_type": "code",
   "execution_count": 121,
   "id": "f47e577e-09d8-40a2-841d-712c97e048da",
   "metadata": {},
   "outputs": [
    {
     "name": "stdout",
     "output_type": "stream",
     "text": [
      "dict_keys(['name', 'phone', 'birth', 'address', 'array'])\n",
      "dict_values(['pey', '010-9999-1234', '1118', 'busan', [1, 2, 3, 4, 5]])\n",
      "dict_items([('name', 'pey'), ('phone', '010-9999-1234'), ('birth', '1118'), ('address', 'busan'), ('array', [1, 2, 3, 4, 5])])\n",
      "{'name': 'pey', 'phone': '010-9999-1234', 'birth': '1118', 'address': 'busan', 'array': [1, 2, 3, 4, 5]}\n",
      "{}\n"
     ]
    }
   ],
   "source": [
    "a = {'name': 'pey', 'phone': '010-9999-1234', 'birth': '1118', 'address': 'busan', 'array': [1, 2, 3, 4, 5]}\n",
    "\n",
    "# key 리스트 만들기 - keys\n",
    "print(a.keys())\n",
    "# value 리스트 만들기 - values\n",
    "print(a.values())  # list로 만드려면 list()로 감싸서 형변환 시키면 된다~\n",
    "\n",
    "# key,value 쌍 얻기 - items\n",
    "print(a.items())\n",
    "\n",
    "# key, value 쌍 모두 지우기 - clear\n",
    "print(a)\n",
    "a.clear()\n",
    "print(a)"
   ]
  },
  {
   "cell_type": "code",
   "execution_count": 119,
   "id": "0dcdf685-96f9-4e71-9bd8-c38833daeda2",
   "metadata": {},
   "outputs": [
    {
     "name": "stdout",
     "output_type": "stream",
     "text": [
      "name\n",
      "phone\n",
      "birth\n",
      "address\n",
      "array\n"
     ]
    }
   ],
   "source": [
    "for k in a.keys():\n",
    "    print(k)"
   ]
  },
  {
   "cell_type": "code",
   "execution_count": 124,
   "id": "7977f36f-3a7a-4b10-b1d9-c59ca034a6b6",
   "metadata": {},
   "outputs": [
    {
     "name": "stdout",
     "output_type": "stream",
     "text": [
      "pey\n",
      "None\n"
     ]
    },
    {
     "ename": "KeyError",
     "evalue": "'money'",
     "output_type": "error",
     "traceback": [
      "\u001b[1;31m---------------------------------------------------------------------------\u001b[0m",
      "\u001b[1;31mKeyError\u001b[0m                                  Traceback (most recent call last)",
      "Cell \u001b[1;32mIn[124], line 4\u001b[0m\n\u001b[0;32m      2\u001b[0m \u001b[38;5;28mprint\u001b[39m(a\u001b[38;5;241m.\u001b[39mget(\u001b[38;5;124m'\u001b[39m\u001b[38;5;124mname\u001b[39m\u001b[38;5;124m'\u001b[39m))  \u001b[38;5;66;03m# get 자체가 함수라 괄호() 필요!\u001b[39;00m\n\u001b[0;32m      3\u001b[0m \u001b[38;5;28mprint\u001b[39m(a\u001b[38;5;241m.\u001b[39mget(\u001b[38;5;124m'\u001b[39m\u001b[38;5;124msuper\u001b[39m\u001b[38;5;124m'\u001b[39m))\n\u001b[1;32m----> 4\u001b[0m \u001b[38;5;28mprint\u001b[39m(\u001b[43ma\u001b[49m\u001b[43m[\u001b[49m\u001b[38;5;124;43m'\u001b[39;49m\u001b[38;5;124;43mmoney\u001b[39;49m\u001b[38;5;124;43m'\u001b[39;49m\u001b[43m]\u001b[49m)\n",
      "\u001b[1;31mKeyError\u001b[0m: 'money'"
     ]
    }
   ],
   "source": [
    "a = {'name': 'pey', 'phone': '010-9999-1234', 'birth': '1118', 'address': 'busan', 'array': [1, 2, 3, 4, 5]}\n",
    "print(a.get('name'))  # get 자체가 함수라 괄호() 필요!\n",
    "print(a.get('super'))  # get은 없어도 none을 띄울 뿐 에러를 일으키지 않는다.\n",
    "print(a['money'])"
   ]
  },
  {
   "cell_type": "code",
   "execution_count": 125,
   "id": "7e9fce73-536d-40f6-9297-ab4f7e9eccc1",
   "metadata": {},
   "outputs": [
    {
     "name": "stdout",
     "output_type": "stream",
     "text": [
      "True\n"
     ]
    }
   ],
   "source": [
    "a = {'name': 'pey', 'phone': '010-9999-1234', 'birth': '1118', 'address': 'busan', 'array': [1, 2, 3, 4, 5]}\n",
    "print('name' in a)      # True는 1과, False는 0과 대입된다."
   ]
  },
  {
   "cell_type": "code",
   "execution_count": 130,
   "id": "1c3a6fb3-5af1-4ef4-964c-398da2ae453d",
   "metadata": {},
   "outputs": [
    {
     "name": "stdout",
     "output_type": "stream",
     "text": [
      "True\n",
      "False\n",
      "True\n",
      "False\n",
      "True\n"
     ]
    }
   ],
   "source": [
    "al = [11,22,33,44,55]\n",
    "at = 11,22,33,44,55\n",
    "ad = {0:11,1:22,2:33,3:44,4:55}\n",
    "\n",
    "print(11 in al)  # 리스트 \n",
    "print(77 in al)\n",
    "print(22 in at)  # 튜플\n",
    "print(00 in at)\n",
    "print(1 in ad)   # 딕셔너리 키"
   ]
  },
  {
   "cell_type": "code",
   "execution_count": null,
   "id": "92dbea25-8695-4266-a437-7a2bc60b0275",
   "metadata": {},
   "outputs": [],
   "source": [
    "# 20250206 네번째 수업 ! ^0^\n",
    " # bat(ch) 파일 설정 !! \n",
    "   # timeout 30 /no break(30초의 시간을 둔 후 부팅하라)\n",
    "   # 터미널에서 explorer.exe . ; 지금 설정된 경로의 폴더를 열어줌  ** 둘 다 중요!! 기억해두자."
   ]
  },
  {
   "cell_type": "code",
   "execution_count": 11,
   "id": "a936e4cd-317f-40ad-8eab-c8a92db17582",
   "metadata": {},
   "outputs": [
    {
     "name": "stdout",
     "output_type": "stream",
     "text": [
      "0과 1사이의 랜덤 소수 0.7691291044167565\n",
      "1과 100사이의 랜덤 실수 80\n",
      "오늘 선택된 메뉴는 후문편의점 !\n",
      "[9, 6, 10, 1, 7, 3, 4, 5, 2, 8]\n"
     ]
    }
   ],
   "source": [
    "# 실습 random 모듈\n",
    "import random\n",
    "\n",
    "num1 = random.random()\n",
    "# print(num)   # 값이 랜덤하게 바뀐다!\n",
    "print(f'0과 1사이의 랜덤 소수 {num1}')\n",
    "num2 = random.randint(1,100)\n",
    "print(f'1과 100사이의 랜덤 실수 {num2}')\n",
    "\n",
    "menu = [\"구내식당\",\"후문편의점\",\"자가도시락\",\"굶기\",\"과자\"]\n",
    "lunch = random.choice(menu)\n",
    "print(f'오늘 선택된 메뉴는 {lunch}를 추천드립니다. ^^')\n",
    "\n",
    "deck = [1,2,3,4,5,6,7,8,9,10]\n",
    "random.shuffle(deck)  # 원본이 파괴되어 버린다. 조심하자 !\n",
    "print(deck)\n",
    "# 온 라 인 뽑 기 는 믿 지 말 자 ^^"
   ]
  },
  {
   "cell_type": "code",
   "execution_count": null,
   "id": "14e1b1f0-ef42-4456-8e2f-eb723e479e60",
   "metadata": {},
   "outputs": [],
   "source": [
    "# ./start_ran.bat ; 이 경로의 bat 파일 바로 실행하기 !"
   ]
  },
  {
   "cell_type": "markdown",
   "id": "b183b456-7ef6-4388-a89f-ade760e6358f",
   "metadata": {},
   "source": [
    "## 집합자료형"
   ]
  },
  {
   "cell_type": "code",
   "execution_count": 13,
   "id": "74dbb5a3-48aa-4b4a-8777-516061cdfc74",
   "metadata": {},
   "outputs": [
    {
     "name": "stdout",
     "output_type": "stream",
     "text": [
      "{1, 2, 3} <class 'set'>\n",
      "{'H', 'o', 'e', 'l'} <class 'set'>\n"
     ]
    }
   ],
   "source": [
    "# 중복을 허용하지 않는다.\n",
    "# 순서가 없다.\n",
    "  # s1 = set()  # 집합의 기본\n",
    "s1 = set([1,2,3])\n",
    "print(s1,type(s1))  # 딕셔너리와 구분되는 것은 키와 값의 쌍이 아니다 !\n",
    "s2 = set(\"Hello\")   # l은 중복이므로 값에서 하나만 표시되었다.\n",
    "print(s2,type(s2))  # 값의 순서가 없다 !  cf) 튜플이나 리스트는 순서(index)가 있었다."
   ]
  },
  {
   "cell_type": "code",
   "execution_count": 16,
   "id": "7170c731-d9e9-4130-9c46-f46f1b38ec07",
   "metadata": {},
   "outputs": [
    {
     "name": "stdout",
     "output_type": "stream",
     "text": [
      "[33, 11, 22] <class 'list'>\n",
      "(33, 11, 22) <class 'tuple'>\n"
     ]
    }
   ],
   "source": [
    "# 집합 자료형의 특징\n",
    "s1 = set([11,22,33,22,33])\n",
    "l1 = list(s1)  # 형변환\n",
    "print(l1,type(l1))   # list와 set(집합)은 서로 왔다갔다 사용함 !\n",
    "\n",
    "t1 = tuple(s1)\n",
    "print(t1,type(t1))"
   ]
  },
  {
   "cell_type": "markdown",
   "id": "05cf2adb-5169-41a4-9507-841423ba5d92",
   "metadata": {},
   "source": [
    "### 교집합, 합집합, 차집합 구하기"
   ]
  },
  {
   "cell_type": "code",
   "execution_count": 19,
   "id": "c2a0976a-8209-4aa7-a223-027927498bbc",
   "metadata": {},
   "outputs": [
    {
     "name": "stdout",
     "output_type": "stream",
     "text": [
      "{4, 5, 6}\n",
      "{4, 5, 6}\n"
     ]
    }
   ],
   "source": [
    "# 교집합\n",
    "s1 = set([1,2,3,4,5,6])\n",
    "s2 = set([4,5,6,7,8,9])\n",
    "print(s1 & s2)   # 서로의 공통부분만 꺼내줌 !\n",
    "print(s1.intersection(s2))  # 위 아래 같은 뜻. 펭귄 &은 꼭 기억하자 !"
   ]
  },
  {
   "cell_type": "code",
   "execution_count": 23,
   "id": "81e1ce8b-5068-424e-a34c-39108d1ffb94",
   "metadata": {},
   "outputs": [
    {
     "name": "stdout",
     "output_type": "stream",
     "text": [
      "{1, 2, 3, 4, 5, 6, 7, 8, 9}\n",
      "{1, 2, 3, 4, 5, 6, 7, 8, 9}\n"
     ]
    }
   ],
   "source": [
    "# 합집합\n",
    "print(s1|s2)  # | : or 표시  *파일 서버의 기본 필기를 참고 !\n",
    "print(s1.union(s2))  # 중복되는 부분은 없어짐 ~"
   ]
  },
  {
   "cell_type": "code",
   "execution_count": 24,
   "id": "00422eb7-a9ee-4865-b34f-44a6e69fab33",
   "metadata": {},
   "outputs": [
    {
     "name": "stdout",
     "output_type": "stream",
     "text": [
      "{1, 2, 3}\n",
      "{8, 9, 7}\n"
     ]
    }
   ],
   "source": [
    "# 차집합\n",
    "print(s1 - s2)\n",
    "print(s2 - s1)"
   ]
  },
  {
   "cell_type": "markdown",
   "id": "ebf054a7-3e8b-438b-8d92-fb9c2c61707c",
   "metadata": {},
   "source": [
    "### 집합 자료형 관련 함수"
   ]
  },
  {
   "cell_type": "code",
   "execution_count": 25,
   "id": "30e15a0e-6a63-456a-8968-b1a1080858ef",
   "metadata": {},
   "outputs": [
    {
     "name": "stdout",
     "output_type": "stream",
     "text": [
      "{1, 2, 3, 4}\n"
     ]
    }
   ],
   "source": [
    "# 값 1개 추가하기  - add\n",
    "s1 = set([1,2,3])\n",
    "s1.add(4)\n",
    "print(s1)"
   ]
  },
  {
   "cell_type": "code",
   "execution_count": 27,
   "id": "f9851423-f6f6-48bc-9469-7e38eef352e7",
   "metadata": {},
   "outputs": [
    {
     "name": "stdout",
     "output_type": "stream",
     "text": [
      "{1, 2, 3, 4, 5, 6}\n"
     ]
    }
   ],
   "source": [
    "# 값 여러개 추가하기  - update\n",
    "s1 = set([1,2,3])\n",
    "s1.update([4,5,6])\n",
    "print(s1)"
   ]
  },
  {
   "cell_type": "code",
   "execution_count": 28,
   "id": "e2c3a6e8-be88-4e29-8b97-83efb11fe19c",
   "metadata": {},
   "outputs": [
    {
     "name": "stdout",
     "output_type": "stream",
     "text": [
      "{1, 3}\n"
     ]
    }
   ],
   "source": [
    "# 특정 값 제거하기  - remove\n",
    "s1 = set([1,2,3])\n",
    "s1.remove(2)\n",
    "print(s1)"
   ]
  },
  {
   "cell_type": "markdown",
   "id": "053ff3af-fb6e-4692-83b0-191eb40af36b",
   "metadata": {},
   "source": [
    "## 불자료형"
   ]
  },
  {
   "cell_type": "code",
   "execution_count": null,
   "id": "9d3917f9-2c5e-41bb-9360-da3b1ab36378",
   "metadata": {},
   "outputs": [],
   "source": [
    "# True : 참을 뜻한다. (1)\n",
    "# False : 거짓을 의미한다. (0)"
   ]
  },
  {
   "cell_type": "code",
   "execution_count": 29,
   "id": "02541b41-d6c3-4332-bd27-a296eff31bd8",
   "metadata": {},
   "outputs": [
    {
     "name": "stdout",
     "output_type": "stream",
     "text": [
      "<class 'bool'>\n",
      "<class 'bool'>\n"
     ]
    }
   ],
   "source": [
    "print(type(True))\n",
    "print(type(False))"
   ]
  },
  {
   "cell_type": "code",
   "execution_count": 34,
   "id": "ef04743a-6db7-47be-8eb8-1166fb4652dd",
   "metadata": {},
   "outputs": [],
   "source": [
    "# 6가지.\n",
    " # x > y : x가 y보다 크다. *(GT) *시스템적인 팁 !\n",
    " # x < y : x가 y보다 작다. (LT)\n",
    " # x >= y : x가 y보다 크거나 같다. (GTE)   # E는 Equal의 E\n",
    " # x <= y : x가 y보다 작거나 같다. (LTE)\n",
    " # x == y : x와 y가 같다. (EQ)  # '=' 하나는 대입임 !\n",
    " # x <> y : x와 y가 같지 않다. (NEQ,NE)  cf ) x!=y (!, not은 반대의 뜻)"
   ]
  },
  {
   "cell_type": "code",
   "execution_count": 37,
   "id": "8f60fbd2-5c0b-4321-95f7-73b678359ab5",
   "metadata": {},
   "outputs": [
    {
     "name": "stdout",
     "output_type": "stream",
     "text": [
      "True\n",
      "False\n",
      "True\n",
      "False\n"
     ]
    }
   ],
   "source": [
    "print(3 < 10)\n",
    "print(3 > 10)\n",
    "print(3 == 3)\n",
    "print(3 == 10)"
   ]
  },
  {
   "cell_type": "code",
   "execution_count": 55,
   "id": "3e51b841-0a01-4b8b-9a3f-6cc22e6de289",
   "metadata": {},
   "outputs": [
    {
     "name": "stdout",
     "output_type": "stream",
     "text": [
      "True\n",
      "False\n",
      "True\n",
      "False\n",
      "True\n",
      "False\n",
      "True\n",
      "False\n",
      "True\n",
      "True\n",
      "False\n",
      "False\n",
      "True\n",
      "False\n"
     ]
    }
   ],
   "source": [
    "# 자료형의 참과 거짓\n",
    "print(bool(\"python\"))\n",
    "print(bool(\"\"))\n",
    "print(bool([1,2,3]))\n",
    "print(bool([]))  # 비어있는 것은 0으로 생각하면 된다.\n",
    "print(bool((1,2,3)))\n",
    "print(bool(()))\n",
    "print(bool({'a':1}))\n",
    "print(bool({}))\n",
    "print(bool(1))\n",
    "print(bool(-1))\n",
    "print(bool(-0))\n",
    "print(bool(0))\n",
    "print(bool(\".\"))   # 값이 있으면 전부 1, 나머지는 0\n",
    "print(bool(None))"
   ]
  },
  {
   "cell_type": "code",
   "execution_count": 58,
   "id": "2167798d-14ce-4177-a72f-577606bee548",
   "metadata": {},
   "outputs": [
    {
     "name": "stdout",
     "output_type": "stream",
     "text": [
      "어느 날, 모험심 넘치는 고양이은/는 바닷 속 도시에서 모험을 떠나 비밀 통로를 발견했다.\n",
      "그리고 용감한 기사은/는 마법의 성에서 고대의 미스터리를 풀었다.\n"
     ]
    }
   ],
   "source": [
    "# random 으로 스토리 생성기 만들기\n",
    "\n",
    "# 등장인물 리스트\n",
    "characters = [\"용감한 기사\",\"모험심 넘치는 고양이\",\"호기심 많은 로봇\",\"서투른 마법사\",\"명석한 탐정\",\"마왕\"]\n",
    "places = [\"어두운 숲에서\", \"먼 우주 행성에서\", \"마법의 성에서\", \"바닷 속 도시에서\", \"귀신이 나오는 흉가에서\", \"웅장한 마왕성에서\"]\n",
    "events = [\"전설의 보물을 발견했다.\", \"무시무시한 용과 싸웠다.\",\"비밀 통로를 발견했다.\",\"고대의 미스터리를 풀었다.\",\"왕국을 위험에서 구하였다.\",\"마왕과의 최종 결전을 맞이했다.\"]\n",
    "\n",
    "ch = random.choice(characters)\n",
    "pl = random.choice(places)\n",
    "ev = random.choice(events)\n",
    "ch2 = random.choice(characters)\n",
    "pl2 = random.choice(places)\n",
    "ev2 = random.choice(events)\n",
    "\n",
    "print(f'어느 날, {ch}은/는 {pl} 모험을 떠나 {ev}\\n그리고 {ch2}은/는 {pl2} {ev2}')"
   ]
  },
  {
   "cell_type": "markdown",
   "id": "2411420b-b956-4bdc-bf51-648119b6c1f8",
   "metadata": {},
   "source": [
    "# 자료형의 값을 저장하는 공간, 변수"
   ]
  },
  {
   "cell_type": "markdown",
   "id": "396ac1a9-5aff-4c96-a699-cc9a4b78f405",
   "metadata": {},
   "source": [
    "## 리스트의 옅은 복사, 깊은 복사"
   ]
  },
  {
   "cell_type": "code",
   "execution_count": 7,
   "id": "87cdf218-1fdf-4714-8bb8-b32b0bceb384",
   "metadata": {},
   "outputs": [
    {
     "name": "stdout",
     "output_type": "stream",
     "text": [
      "[1, 2, 3] 2039194396608\n",
      "[1, 2, 3] 2039194396608\n",
      "[1, 7, 3] 2039194396608\n",
      "[1, 7, 3] 2039194396608\n"
     ]
    }
   ],
   "source": [
    "a = [1,2,3]\n",
    "b = a\n",
    "print(a,id(a))\n",
    "print(b,id(b))    # 복사가 아니라 가리킴 > 원본을 손상시킬 여지가 있음\n",
    "\n",
    "b[1] = 7\n",
    "print(a,id(a))\n",
    "print(b,id(b)) "
   ]
  },
  {
   "cell_type": "code",
   "execution_count": 2,
   "id": "fcc34024-fe08-4b3e-bde5-4c9bf08b4a0e",
   "metadata": {},
   "outputs": [
    {
     "data": {
      "text/plain": [
       "True"
      ]
     },
     "execution_count": 2,
     "metadata": {},
     "output_type": "execute_result"
    }
   ],
   "source": [
    "a is b    # a와 b는 같다."
   ]
  },
  {
   "cell_type": "code",
   "execution_count": 11,
   "id": "2666e71f-08f2-47d1-ab5f-afeff0553ef6",
   "metadata": {},
   "outputs": [
    {
     "name": "stdout",
     "output_type": "stream",
     "text": [
      "[11, 22, 33] 2039194873472\n",
      "[11, 22, 33] 2039194900864\n",
      "[11, 22, 33] 2039194873472\n",
      "[11, 77, 33] 2039194900864\n"
     ]
    }
   ],
   "source": [
    "from copy import copy\n",
    "\n",
    "c = [11,22,33]\n",
    "# d = copy(c)  ; 방식 1\n",
    "# d = c[:]  ; 방식 2\n",
    "d = c.copy() # 방식 3\n",
    "print(c,id(c))\n",
    "print(d,id(d))   # 다른 저장 공간에 저장되었다 ; 복사되었다. > 원본을 손상시키지 않음\n",
    "\n",
    "d[1] = 77\n",
    "print(c,id(c))\n",
    "print(d,id(d))"
   ]
  },
  {
   "cell_type": "code",
   "execution_count": 5,
   "id": "760c1315-0de2-4087-aab4-cb86ccd3a2c2",
   "metadata": {},
   "outputs": [
    {
     "data": {
      "text/plain": [
       "False"
      ]
     },
     "execution_count": 5,
     "metadata": {},
     "output_type": "execute_result"
    }
   ],
   "source": [
    "c is d   # c와 d는 다르다."
   ]
  },
  {
   "cell_type": "markdown",
   "id": "6745920c-1b4f-4a15-8172-e4f2faa03fb7",
   "metadata": {},
   "source": [
    "## 변수를 만드는 여러가지 방법"
   ]
  },
  {
   "cell_type": "code",
   "execution_count": 15,
   "id": "44be8401-707a-4cf5-8c88-0c6c75e68e42",
   "metadata": {},
   "outputs": [
    {
     "name": "stdout",
     "output_type": "stream",
     "text": [
      "파이썬 짱짱\n",
      "배고파 밥 줘\n",
      "10 10 10\n"
     ]
    }
   ],
   "source": [
    "a, b = '파이썬', '짱짱'   # 자연적으로 하나의 묶음이 됨 (튜플)\n",
    "[c, d] = ['배고파', '밥 줘']\n",
    "print(a,b)\n",
    "print(c,d)\n",
    "num1 = num2 = num3 = 10\n",
    "print(num1,num2,num3)"
   ]
  },
  {
   "cell_type": "code",
   "execution_count": 17,
   "id": "a7a306b2-e791-4ce9-98fa-ff7e4226f330",
   "metadata": {},
   "outputs": [
    {
     "name": "stdout",
     "output_type": "stream",
     "text": [
      "33 77\n",
      "77 33\n"
     ]
    }
   ],
   "source": [
    "a = 33\n",
    "b = 77\n",
    "print(a,b)\n",
    "temp = a       # 임시의 변수\n",
    "a = b\n",
    "b = temp\n",
    "print(a,b)"
   ]
  },
  {
   "cell_type": "code",
   "execution_count": 16,
   "id": "194bda1e-f26a-4176-b13d-8700f1187398",
   "metadata": {},
   "outputs": [
    {
     "name": "stdout",
     "output_type": "stream",
     "text": [
      "3 7\n",
      "7 3\n"
     ]
    }
   ],
   "source": [
    "a = 3\n",
    "b = 7\n",
    "print(a,b)\n",
    "a,b=b,a       # 이렇게도 가능하다 !\n",
    "print(a,b)"
   ]
  }
 ],
 "metadata": {
  "kernelspec": {
   "display_name": "Python 3 (ipykernel)",
   "language": "python",
   "name": "python3"
  },
  "language_info": {
   "codemirror_mode": {
    "name": "ipython",
    "version": 3
   },
   "file_extension": ".py",
   "mimetype": "text/x-python",
   "name": "python",
   "nbconvert_exporter": "python",
   "pygments_lexer": "ipython3",
   "version": "3.13.1"
  }
 },
 "nbformat": 4,
 "nbformat_minor": 5
}
