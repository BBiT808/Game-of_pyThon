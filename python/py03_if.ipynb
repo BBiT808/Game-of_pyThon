{
 "cells": [
  {
   "cell_type": "code",
   "execution_count": 18,
   "id": "9a37380a-1c5c-4568-b8b1-2b879eb748fb",
   "metadata": {},
   "outputs": [],
   "source": [
    "# 모든 명령어들은 (){} 와 같은 형식\n",
    "  # if (){}   ; 제어문        > if : 로 바뀜(파이썬에서) / 괄호 대신 들여쓰기로 구분한다.\n",
    "  # for(){}   ; 반복문        > for : 로 바뀜\n",
    "  # While(){} ; 반복문        > while : 로 바뀜"
   ]
  },
  {
   "cell_type": "markdown",
   "id": "7eb36c52-95e9-4534-9f7e-cc37694bf4bc",
   "metadata": {},
   "source": [
    "# 제어문"
   ]
  },
  {
   "cell_type": "markdown",
   "id": "615becae-0fed-4082-8ce4-3d077d2b8aad",
   "metadata": {},
   "source": [
    "## if 문"
   ]
  },
  {
   "cell_type": "code",
   "execution_count": null,
   "id": "0dbeaa7e-8bf2-494d-89aa-9dcc445f14a1",
   "metadata": {},
   "outputs": [],
   "source": [
    "# else if = elif :   ** 심문한다 생각하자.\n",
    "# else = else :\n",
    "\n",
    "# ex1 ) if 배고픈 사람 ?? \n",
    "#      else > 나머지\n",
    "\n",
    "# ex2) if 서 있는 사람 ??  > elif 누워 있는 사람 ?? > elif ..\n",
    "#    **else : 그 외엔 다 나가 \n",
    "\n",
    "# ex3) if 일찍 갈 사람 :    / if 화장실 갈 사람 :   ; 전체 중에서\n",
    "#      elif ; 계속 파고 드는 질문 > 일찍 갈 사람? 그럼 남은 사람 중에 화장실 갈 사람? 그럼 ..."
   ]
  },
  {
   "cell_type": "code",
   "execution_count": 7,
   "id": "47e4acd9-9a85-417b-b570-406a48eb68c5",
   "metadata": {},
   "outputs": [
    {
     "name": "stdout",
     "output_type": "stream",
     "text": [
      "택시를\n",
      "타고\n",
      "가라\n"
     ]
    }
   ],
   "source": [
    "# 줄맞춤이 중요하다!  ** 콜론(:) 빼먹지 말 것 !!\n",
    "if True:\n",
    "    print(\"택시를\")\n",
    "    print(\"타고\")\n",
    "    print(\"가라\")"
   ]
  },
  {
   "cell_type": "code",
   "execution_count": 1,
   "id": "88b50650-6055-4830-93d7-99c78d69d20f",
   "metadata": {},
   "outputs": [
    {
     "name": "stdout",
     "output_type": "stream",
     "text": [
      "항상 동작합니다 !\n",
      "5가 큽니다\n",
      "동작할까요?\n",
      "동작할까요? 😎\n"
     ]
    }
   ],
   "source": [
    "if True :   # enter 쳤을 때 4칸을 자동으로 띄우게 됨. (Tab키 눌러도 4칸 띄워짐)\n",
    "    print(\"항상 동작합니다 !\")\n",
    "if False :   \n",
    "    print(\"이건 동작할까요 ?\")   # if문에서 참(1)일 때만 값을 내어놓음.\n",
    "if 5>2 :\n",
    "    print(\"5가 큽니다\")\n",
    "if 4 > 10 :\n",
    "    print(\"나올까요?\")\n",
    "if \" \" :\n",
    "    print(\"동작할까요?\")\n",
    "if \"\" :\n",
    "    print(\"동작할까요? 😀\")\n",
    "if [] :\n",
    "    print(\"동작할까요? 🤨\")\n",
    "if [1,3] :\n",
    "    print(\"동작할까요? 😎\")"
   ]
  },
  {
   "cell_type": "code",
   "execution_count": null,
   "id": "608e2279-4bc4-4f46-a539-c338f766af27",
   "metadata": {},
   "outputs": [],
   "source": [
    "if True:\n",
    "    print(\"택시를\")\n",
    "print(\"타고\")\n",
    "    print(\"가라\")\n",
    "# Shift + Tab 하면 문장을 앞으로 옮길 수 있음.    "
   ]
  },
  {
   "attachments": {
    "bed6996c-b364-4c25-8c0f-01edbe5dd9f4.png": {
     "image/png": "[encoded data removed]"
    }
   },
   "cell_type": "markdown",
   "id": "5a0944aa-4aa0-4163-ab7c-aca05003876b",
   "metadata": {},
   "source": [
    "![image.png](attachment:bed6996c-b364-4c25-8c0f-01edbe5dd9f4.png)"
   ]
  },
  {
   "cell_type": "code",
   "execution_count": 9,
   "id": "6dd3f83d-1c0d-4ffc-b1de-d940a26102ac",
   "metadata": {},
   "outputs": [
    {
     "name": "stdout",
     "output_type": "stream",
     "text": [
      "가라\n"
     ]
    }
   ],
   "source": [
    "if False:\n",
    "    print(\"택시를\")\n",
    "    print(\"타고\")\n",
    "print(\"가라\")"
   ]
  },
  {
   "cell_type": "code",
   "execution_count": null,
   "id": "125ddfd0-c46c-4333-890f-4efe849c52de",
   "metadata": {},
   "outputs": [],
   "source": [
    "if False:\n",
    "    print(\"택시를\")\n",
    "        print(\"타고\")\n",
    "    print(\"가라\")"
   ]
  },
  {
   "attachments": {
    "c8648cc7-de69-4265-a14f-0e77d400fea1.png": {
     "image/png": "[encoded data removed]"
    }
   },
   "cell_type": "markdown",
   "id": "eab64a3f-57e6-4219-8fe7-6cdfff35f818",
   "metadata": {},
   "source": [
    "![image.png](attachment:c8648cc7-de69-4265-a14f-0e77d400fea1.png)"
   ]
  },
  {
   "cell_type": "code",
   "execution_count": 7,
   "id": "e4a243cc-d07a-47de-89aa-da2efeebe3ba",
   "metadata": {},
   "outputs": [
    {
     "name": "stdin",
     "output_type": "stream",
     "text": [
      "얼마를 가지고 있습니까 ? 1000\n"
     ]
    },
    {
     "name": "stdout",
     "output_type": "stream",
     "text": [
      "걸어가세요.\n"
     ]
    }
   ],
   "source": [
    "mymoney = int(input('얼마를 가지고 있습니까 ?'))   # input은 무조건 문자로 받으므로 숫자로 변환해줌 !\n",
    "if mymoney >= 3000 :\n",
    "    print('택시를 타고 가세요.')\n",
    "if mymoney < 3000 :\n",
    "    print('걸어가세요.')"
   ]
  },
  {
   "cell_type": "code",
   "execution_count": 8,
   "id": "f27dc850-6e99-4dd9-8bf7-5eb6c06b5eb8",
   "metadata": {},
   "outputs": [
    {
     "name": "stdin",
     "output_type": "stream",
     "text": [
      "얼마를 가지고 있습니까 ? 10000\n"
     ]
    },
    {
     "name": "stdout",
     "output_type": "stream",
     "text": [
      "택시를 타고 가세요.\n"
     ]
    }
   ],
   "source": [
    "mymoney = int(input('얼마를 가지고 있습니까 ?'))   # input은 무조건 문자로 받으므로 숫자로 변환해줌 !\n",
    "if mymoney >= 3000 :\n",
    "    print('택시를 타고 가세요.')\n",
    "else :\n",
    "    print('걸어가세요.')"
   ]
  },
  {
   "cell_type": "code",
   "execution_count": null,
   "id": "e50c0c42-4f08-4e87-917f-b2b0f35879ab",
   "metadata": {},
   "outputs": [],
   "source": [
    "# and, or, not"
   ]
  },
  {
   "cell_type": "code",
   "execution_count": 8,
   "id": "cfe26706-3657-4157-8a40-057fc9b803a0",
   "metadata": {},
   "outputs": [
    {
     "name": "stdout",
     "output_type": "stream",
     "text": [
      "===== and 연산 =====\n",
      "True\n",
      "False\n",
      "False\n",
      "False\n",
      "===== or 연산 =====\n",
      "True\n",
      "True\n",
      "True\n",
      "False\n",
      "===== not 연산 =====\n",
      "True\n",
      "False\n",
      "True\n"
     ]
    }
   ],
   "source": [
    "print(\"===== and 연산 =====\")  # 모두 참 \n",
    "print(True and True)\n",
    "print(True and False)\n",
    "print(False and True)\n",
    "print(False and False)\n",
    "print(\"===== or 연산 =====\")  # 하나만 참\n",
    "print(True or True)\n",
    "print(True or False)\n",
    "print(False or True)\n",
    "print(False or False)\n",
    "print(\"===== not 연산 =====\") \n",
    "print(True)\n",
    "print(not True)\n",
    "print(not False)"
   ]
  },
  {
   "cell_type": "code",
   "execution_count": 9,
   "id": "8db29725-3075-45c6-8405-bf8e0a12e190",
   "metadata": {},
   "outputs": [
    {
     "name": "stdout",
     "output_type": "stream",
     "text": [
      "만납시다\n"
     ]
    }
   ],
   "source": [
    "이상형 = True\n",
    "똑똑 = True\n",
    "\n",
    "if 이상형 and 똑똑:\n",
    "    print(\"만납시다\")"
   ]
  },
  {
   "cell_type": "code",
   "execution_count": 16,
   "id": "cb51f3e4-0a11-4c00-a202-d0c22ee1f4a4",
   "metadata": {},
   "outputs": [
    {
     "name": "stdout",
     "output_type": "stream",
     "text": [
      "그렇군요 ..\n"
     ]
    }
   ],
   "source": [
    "이상형 = True\n",
    "똑똑 = False\n",
    "\n",
    "if 이상형 and 똑똑:   # 둘 다 반드시\n",
    "    print(\"만납시다\")\n",
    "else:\n",
    "    print(\"그렇군요 ..\")"
   ]
  },
  {
   "cell_type": "code",
   "execution_count": 15,
   "id": "78b4397e-db72-434d-9426-8097ae51436f",
   "metadata": {},
   "outputs": [
    {
     "name": "stdout",
     "output_type": "stream",
     "text": [
      "만납시다\n"
     ]
    }
   ],
   "source": [
    "이상형 = False\n",
    "다정 = True\n",
    "\n",
    "if 이상형 or 다정:    # 둘 중 하나\n",
    "    print(\"만납시다\")\n",
    "else:\n",
    "    print(\"그렇군요 ..\")"
   ]
  },
  {
   "cell_type": "code",
   "execution_count": 9,
   "id": "ff7f39e1-b0df-4638-b4ba-6ad035716731",
   "metadata": {},
   "outputs": [
    {
     "name": "stdout",
     "output_type": "stream",
     "text": [
      "잘 가요\n"
     ]
    }
   ],
   "source": [
    "주사 = True\n",
    "if not 주사: \n",
    "    print(\"만나요\")\n",
    "else:\n",
    "    print(\"잘 가요\")"
   ]
  },
  {
   "cell_type": "code",
   "execution_count": 12,
   "id": "628997c1-f76e-4649-8870-2c261fc61742",
   "metadata": {},
   "outputs": [
    {
     "name": "stdout",
     "output_type": "stream",
     "text": [
      "오늘은 토요일입니다.\n",
      "금요일에 시간 어때요 ?\n"
     ]
    }
   ],
   "source": [
    "# 쉬어가는 페이지 1\n",
    "import random\n",
    "요일 = [\"월요일\", \"화요일\", \"수요일\", \"목요일\", \"금요일\", \"토요일\", \"일요일\"]\n",
    "오늘 = random.choice(요일)\n",
    "print(f'오늘은 {오늘}입니다.')\n",
    "if 오늘 == \"금요일\" :\n",
    "    print(\"좋아요 !\")\n",
    "else :\n",
    "    print(\"금요일에 시간 어때요 ?\")"
   ]
  },
  {
   "cell_type": "code",
   "execution_count": 5,
   "id": "9c61aa2d-4519-49b6-80d1-80770afafe5b",
   "metadata": {},
   "outputs": [
    {
     "name": "stdin",
     "output_type": "stream",
     "text": [
      "요일을 입력하세요. 금요일\n"
     ]
    },
    {
     "name": "stdout",
     "output_type": "stream",
     "text": [
      "좋아요 !\n"
     ]
    }
   ],
   "source": [
    "# 쉬어가는 페이지 2\n",
    "오늘 = input(\"요일을 입력하세요.\")\n",
    "if not 오늘 in [\"월요일\", \"화요일\", \"수요일\", \"목요일\", \"금요일\", \"토요일\", \"일요일\"]:\n",
    "    print(\"다시 입력하세요.\")\n",
    "elif 오늘 == \"금요일\" :\n",
    "    print(\"좋아요 !\")\n",
    "else :\n",
    "    print(\"금요일에 시간 어때요 ?\")"
   ]
  },
  {
   "cell_type": "code",
   "execution_count": 19,
   "id": "5824789f-bd46-49f7-b09e-8a1735a20f17",
   "metadata": {},
   "outputs": [
    {
     "name": "stdout",
     "output_type": "stream",
     "text": [
      "걸어가라\n"
     ]
    }
   ],
   "source": [
    "money = 2000\n",
    "if money >= 3000:\n",
    "    print(\"택시를 타고 가라\")\n",
    "else:\n",
    "    print(\"걸어가라\")"
   ]
  },
  {
   "cell_type": "code",
   "execution_count": 20,
   "id": "956b8b86-2be5-4db2-984d-1f72e94d1d80",
   "metadata": {},
   "outputs": [
    {
     "name": "stdout",
     "output_type": "stream",
     "text": [
      "택시를 타고 가라\n"
     ]
    }
   ],
   "source": [
    "money = 2000\n",
    "card = True\n",
    "if money >= 3000 or card:\n",
    "    print(\"택시를 타고 가라\")\n",
    "else:\n",
    "    print(\"걸어가라\")"
   ]
  },
  {
   "cell_type": "code",
   "execution_count": 25,
   "id": "af3126fd-5b9a-48c5-8b0f-901e990d8553",
   "metadata": {},
   "outputs": [
    {
     "name": "stdout",
     "output_type": "stream",
     "text": [
      "A회사 불합격입니다.\n",
      "B회사 합격입니다.\n",
      "C회사 합격입니다.\n"
     ]
    }
   ],
   "source": [
    "me = 'Python'\n",
    "compA = ['JAVA','CSS','Javascript','C','MySQL']\n",
    "compB = ['JAVA','Python','Javascript','C','MySQL']\n",
    "compC = ['JAVA','Python','HTML','MySQL']\n",
    "if me in compA:\n",
    "    print(\"A회사 합격입니다.\")\n",
    "else:\n",
    "    print(\"A회사 불합격입니다.\")\n",
    "if me in compB:\n",
    "    print(\"B회사 합격입니다.\")\n",
    "else:\n",
    "    print(\"B회사 불합격입니다.\")\n",
    "if me in compC:\n",
    "    print(\"C회사 합격입니다.\")\n",
    "else:\n",
    "    print(\"C회사 불합격입니다.\")"
   ]
  },
  {
   "cell_type": "code",
   "execution_count": 2,
   "id": "d78972d8-8994-4a06-80ab-5f168de2393a",
   "metadata": {},
   "outputs": [
    {
     "name": "stdin",
     "output_type": "stream",
     "text": [
      "당신의 점수를 입력하세요. 70\n"
     ]
    },
    {
     "name": "stdout",
     "output_type": "stream",
     "text": [
      "당신은 성적표계의 문익점 !\n",
      "C 학점입니다.\n"
     ]
    }
   ],
   "source": [
    "# if와 elif나 else 등을 사용하여 다음을 구성하세요.\n",
    "# 점수를 입력받아서 해당 구간의 학점을 출력하세요.\n",
    " # 60점 미만은 F / 60이상~70미만은 D / 70이상~80미만은 C / 80이상~90미만은 B / 90이상~100점은 A\n",
    "\n",
    "score = int(input('당신의 점수를 입력하세요.'))\n",
    "if 90<=score<=100:\n",
    "    print(\"축하합니다 !\\nA 학점입니다.\")\n",
    "if 80<=score<90:\n",
    "    print(\"우산이 필요하겠네요 !\\nB 학점입니다.\")\n",
    "if 70<=score<80:\n",
    "    print(\"당신은 성적표계의 문익점 !\\nC 학점입니다.\")\n",
    "if 60<=score<70:\n",
    "    print(\"간당간당하네요 !\\nD 학점입니다.\")\n",
    "if score < 60:\n",
    "    print(\"총 맞은 것 처럼 . . \\nF 학점입니다.\")"
   ]
  },
  {
   "cell_type": "code",
   "execution_count": 48,
   "id": "699f9cb8-9593-42b1-9472-395a133b17da",
   "metadata": {},
   "outputs": [
    {
     "name": "stdin",
     "output_type": "stream",
     "text": [
      "점수를 입력하세요. 70\n"
     ]
    },
    {
     "name": "stdout",
     "output_type": "stream",
     "text": [
      "C 학점입니다.\n"
     ]
    }
   ],
   "source": [
    "# 방법 1 : if만 사용\n",
    "점수 = int(input(\"점수를 입력하세요.\"))\n",
    "grade = 'F'\n",
    "if 90<=점수: grade = 'A'\n",
    "if 80<=점수 < 90 : grade = 'B'\n",
    "if 70<=점수 < 80 : grade = 'C'    \n",
    "if 60<=점수 < 70 : grade = 'D'\n",
    "print(f'{grade} 학점입니다.')"
   ]
  },
  {
   "cell_type": "code",
   "execution_count": 59,
   "id": "f95ae66f-e937-4740-a8d6-3ddc5b5aa1ee",
   "metadata": {},
   "outputs": [
    {
     "name": "stdin",
     "output_type": "stream",
     "text": [
      "점수를 입력하세요. \n"
     ]
    },
    {
     "name": "stdout",
     "output_type": "stream",
     "text": [
      "C 학점입니다.\n"
     ]
    }
   ],
   "source": [
    "# 방법 1 변형 : if만 사용  ** 기본 점수 추가\n",
    "점수 = int(input(\"점수를 입력하세요.\") or 77)\n",
    "grade = 'F'\n",
    "if 90<=점수: grade = 'A'\n",
    "if 80<=점수 < 90 : grade = 'B'\n",
    "if 70<=점수 < 80 : grade = 'C'    \n",
    "if 60<=점수 < 70 : grade = 'D'\n",
    "print(f'{grade} 학점입니다.')"
   ]
  },
  {
   "cell_type": "code",
   "execution_count": 51,
   "id": "7fc1ec46-f232-480b-96e9-df369c454209",
   "metadata": {},
   "outputs": [
    {
     "name": "stdin",
     "output_type": "stream",
     "text": [
      "점수를 입력하세요. 77\n"
     ]
    },
    {
     "name": "stdout",
     "output_type": "stream",
     "text": [
      "C 학점입니다.\n"
     ]
    }
   ],
   "source": [
    "# 방법 2 : if, elif, else 사용   ** 효율적임 !!\n",
    "score = int(input(\"점수를 입력하세요.\"))\n",
    "if 90 <= score : grade = 'A'  # 첫줄은 똑같다.\n",
    "elif 80 <= score : grade = 'B'\n",
    "elif 70 <= score : grade = 'C'\n",
    "elif 60 <= score : grade = 'D'\n",
    "else : grade = 'F'\n",
    "print(f'{grade} 학점입니다.')"
   ]
  },
  {
   "cell_type": "code",
   "execution_count": 53,
   "id": "47217e5b-bd94-4585-8316-054ef5cd7205",
   "metadata": {},
   "outputs": [
    {
     "name": "stdin",
     "output_type": "stream",
     "text": [
      "점수를 입력하세요. 88\n"
     ]
    },
    {
     "name": "stdout",
     "output_type": "stream",
     "text": [
      "D 학점입니다.\n"
     ]
    }
   ],
   "source": [
    "# cf)\n",
    "score = int(input(\"점수를 입력하세요.\"))\n",
    "if 60 <= score : grade = 'D'     # elif는 넓은 것에서부터 하나씩 걸러지도록 만들어야 한다!\n",
    "elif 70 <= score : grade = 'C'\n",
    "elif 80 <= score : grade = 'B'\n",
    "elif 90 <= score : grade = 'A'\n",
    "else : grade = 'F'\n",
    "print(f'{grade} 학점입니다.')"
   ]
  },
  {
   "cell_type": "code",
   "execution_count": 6,
   "id": "99382004-a8e1-41a7-b160-e445409f3f4f",
   "metadata": {},
   "outputs": [
    {
     "name": "stdin",
     "output_type": "stream",
     "text": [
      "현재 온도(℃)를 입력하세요. 30\n"
     ]
    },
    {
     "name": "stdout",
     "output_type": "stream",
     "text": [
      "지금은 여름 😎 입니다.\n"
     ]
    }
   ],
   "source": [
    "# 계절 출력하기 !\n",
    "# 봄 15도 이상 ~ 25도 미만 사이 / 여름 25도 이상~ / 가을 10도 이상 ~ 15도 미만 / 겨울 10도 미만\n",
    "\n",
    "온도 = int(input(\"현재 온도(℃)를 입력하세요.\"))\n",
    "# 온도 = float(input(\"현재 온도(℃)를 입력하세요.\"))  ; 소수점 표현하는 함수 (아니면 int/10)\n",
    "if 25 <= 온도 :\n",
    "    Season = \"여름 😎\"\n",
    "elif 15 <= 온도 :\n",
    "    Season = \"봄 🌸\"\n",
    "elif 10 <= 온도 :\n",
    "    Season = \"가을 🍁\"\n",
    "else : Season = \"겨울 ☃️\"\n",
    "print(f'지금은 {Season} 입니다.')"
   ]
  },
  {
   "cell_type": "markdown",
   "id": "840ff8a1-390c-4de7-8f16-649cea3c5410",
   "metadata": {},
   "source": [
    "## while 문"
   ]
  },
  {
   "cell_type": "code",
   "execution_count": 19,
   "id": "24ef1f42-917e-4208-945e-5157b6c3382f",
   "metadata": {},
   "outputs": [
    {
     "name": "stdout",
     "output_type": "stream",
     "text": [
      "1 자.. 나 화났어 !\n",
      "2 자.. 나 화났어 !\n",
      "3 자.. 나 화났어 !\n",
      "4 자.. 나 화났어 !\n",
      "5 자.. 나 화났어 !\n",
      "6 자.. 나 화났어 !\n",
      "7 자.. 나 화났어 !\n",
      "8 자.. 나 화났어 !\n",
      "9 자.. 나 화났어 !\n",
      "10 자.. 나 화났어 !\n",
      "11 자.. 나 화났어 !\n"
     ]
    }
   ],
   "source": [
    "num = 0\n",
    "while True:\n",
    "    num+=1  \n",
    "    print(num, \"자.. 나 화났어 !\")  # 아무 것도 걸지 않을 경우 무한으로 생성됨 !\n",
    "    if num > 10:\n",
    "        break    # while의 진정제~\n",
    "# while은 false가 되면 멈추거나, if 구문을 이용해 멈추게 할 수 있다 !"
   ]
  },
  {
   "cell_type": "code",
   "execution_count": 3,
   "id": "0357a99c-daba-4f3d-9207-544f9fa471df",
   "metadata": {},
   "outputs": [
    {
     "name": "stdout",
     "output_type": "stream",
     "text": [
      "0 자.. 나 화났어 !\n",
      "1 자.. 나 화났어 !\n",
      "2 자.. 나 화났어 !\n",
      "3 자.. 나 화났어 !\n",
      "4 자.. 나 화났어 !\n",
      "5 자.. 나 화났어 !\n",
      "6 자.. 나 화났어 !\n",
      "7 자.. 나 화났어 !\n",
      "8 자.. 나 화났어 !\n",
      "9 자.. 나 화났어 !\n",
      "10 자.. 나 화났어 !\n"
     ]
    }
   ],
   "source": [
    "num = 0\n",
    "while True:\n",
    "    print(num, \"자.. 나 화났어 !\")\n",
    "    num+=1 # 언제 들어갈 것인지, 초기값을 어디에 둘 것인지에 따라 다르다 !\n",
    "    if num > 10:\n",
    "        break"
   ]
  },
  {
   "cell_type": "code",
   "execution_count": 6,
   "id": "b1877b8b-7e24-45d9-ac5c-a6e4a345693c",
   "metadata": {},
   "outputs": [
    {
     "name": "stdout",
     "output_type": "stream",
     "text": [
      "9 자.. 나 화났어 !\n",
      "8 자.. 나 화났어 !\n",
      "7 자.. 나 화났어 !\n",
      "6 자.. 나 화났어 !\n",
      "5 자.. 나 화났어 !\n",
      "4 자.. 나 화났어 !\n",
      "3 자.. 나 화났어 !\n",
      "2 자.. 나 화났어 !\n",
      "1 자.. 나 화났어 !\n",
      "0 자.. 나 화났어 !\n"
     ]
    }
   ],
   "source": [
    "num = 10\n",
    "while num:\n",
    "    num-=1\n",
    "    print(num, \"자.. 나 화났어 !\")"
   ]
  },
  {
   "cell_type": "code",
   "execution_count": 87,
   "id": "983b9491-f207-49d8-85ec-8792129fbfd3",
   "metadata": {},
   "outputs": [
    {
     "name": "stdout",
     "output_type": "stream",
     "text": [
      "나무를 1번 찍었습니다.\n",
      "나무를 2번 찍었습니다.\n",
      "나무를 3번 찍었습니다.\n",
      "나무를 4번 찍었습니다.\n",
      "나무를 5번 찍었습니다.\n",
      "나무를 6번 찍었습니다.\n",
      "나무를 7번 찍었습니다.\n",
      "나무를 8번 찍었습니다.\n",
      "나무를 9번 찍었습니다.\n",
      "나무를 10번 찍었습니다.\n",
      "나무 넘어갑니다.\n"
     ]
    }
   ],
   "source": [
    "# While 예문 교재 133p.\n",
    "treeHit = 0\n",
    "while treeHit < 10:\n",
    "    treeHit = treeHit + 1\n",
    "    print(\"나무를 %d번 찍었습니다.\" %treeHit)\n",
    "    if treeHit == 10:\n",
    "        print(\"나무 넘어갑니다.\")"
   ]
  },
  {
   "cell_type": "code",
   "execution_count": 1,
   "id": "db2e7591-a599-4698-8f0e-5e036a6b5a99",
   "metadata": {},
   "outputs": [
    {
     "name": "stdout",
     "output_type": "stream",
     "text": [
      "나무를 1번 찍었습니다.\n",
      "나무를 2번 찍었습니다.\n",
      "나무를 3번 찍었습니다.\n",
      "나무를 4번 찍었습니다.\n",
      "나무를 5번 찍었습니다.\n",
      "나무를 6번 찍었습니다.\n",
      "나무를 7번 찍었습니다.\n",
      "나무를 8번 찍었습니다.\n",
      "나무를 9번 찍었습니다.\n",
      "나무를 10번 찍었습니다.\n",
      "나무 넘어갑니다.\n"
     ]
    }
   ],
   "source": [
    "# 다른 방법\n",
    "namu = 10\n",
    "while namu :\n",
    "    namu -=1\n",
    "    print(f\"나무를 {10-namu}번 찍었습니다.\")\n",
    "print(\"나무 넘어갑니다.\")"
   ]
  },
  {
   "cell_type": "code",
   "execution_count": null,
   "id": "4d632ba8-bc53-4729-88a9-302f19377de9",
   "metadata": {},
   "outputs": [],
   "source": [
    "# 20250207 5번째 수업 !! ^0^ 벌써 ??!"
   ]
  },
  {
   "cell_type": "code",
   "execution_count": 60,
   "id": "69db306a-81bc-4906-93ea-62b77403bbd3",
   "metadata": {},
   "outputs": [
    {
     "name": "stdout",
     "output_type": "stream",
     "text": [
      "남은 커피가 소진 되어 판매를 종료합니다.\n",
      "이용해 주셔서 감사합니다 !\n"
     ]
    }
   ],
   "source": [
    "# coffee. py\n",
    "from IPython.display import clear_output\n",
    "coffee = 10\n",
    "while True:\n",
    "    money = int(input(\"돈을 넣어주세요 !: \"))\n",
    "    if money == 300:\n",
    "        print(\"커피☕ 나왔습니다. 맛있게 드세요 !\")\n",
    "        coffee = coffee -1\n",
    "        clear_output(wait=True)\n",
    "    elif money > 300:\n",
    "        print(\"커피☕ 나왔습니다. 거스름돈은 %d입니다.\\n맛있게 드세요 !\" % (money - 300))\n",
    "        coffee = coffee -1\n",
    "        clear_output(wait=True)\n",
    "    else:\n",
    "        print(\"⚠️ 잔액이 부족합니다. 커피를 드릴 수 없습니다.\")\n",
    "        print(\"남은 커피는 %d잔 입니다.\" % coffee)\n",
    "        clear_output(wait=True)\n",
    "    if coffee ==0 :\n",
    "        print(\"남은 커피가 소진 되어 판매를 종료합니다.\\n이용해 주셔서 감사합니다 !\")\n",
    "        break"
   ]
  },
  {
   "cell_type": "code",
   "execution_count": 1,
   "id": "55852169-acd1-4930-b912-b2c29f3f802d",
   "metadata": {},
   "outputs": [
    {
     "name": "stdout",
     "output_type": "stream",
     "text": [
      "시스템이 종료되었습니다.\n"
     ]
    }
   ],
   "source": [
    "from IPython.display import clear_output\n",
    "prompt = \"\"\"\n",
    "선택해 주세요.\n",
    "    1. Add\n",
    "    2. Del\n",
    "    3. List\n",
    "    4. Quit\n",
    "\"\"\"\n",
    "number = 0\n",
    "while number != 4:\n",
    "    print(prompt,end='\\r')\n",
    "    number = int(input())\n",
    "    clear_output(wait=True)   # 이전 질문 지우기 ~\n",
    "print(\"시스템이 종료되었습니다.\")"
   ]
  },
  {
   "cell_type": "code",
   "execution_count": 21,
   "id": "a6c933ed-5ce7-434d-b417-ad8341551d9d",
   "metadata": {},
   "outputs": [
    {
     "name": "stdout",
     "output_type": "stream",
     "text": [
      "2\n"
     ]
    }
   ],
   "source": [
    "# random 주사위 1\n",
    "import random as r  # as를 쓰면 함수의 애칭을 쓸 수 있다.\n",
    "# from random import choice ; choice만 쓰겠다.\n",
    "ran = int(r.random()*6 + 1) # 0~6까지의 값 ; 1을 더해 1-6까지의 범위 상정\n",
    "print(ran)"
   ]
  },
  {
   "cell_type": "code",
   "execution_count": 2,
   "id": "bec7662c-10b2-4612-b0de-f557246d8fbf",
   "metadata": {},
   "outputs": [],
   "source": [
    "# random 주사위 2\n",
    "import random as r\n",
    "\n",
    "box = []  # ; 초기화 시키는 것 *** 매! 우! 중! 요!"
   ]
  },
  {
   "cell_type": "code",
   "execution_count": 3,
   "id": "86754f8d-288d-4fc9-81a9-f45a6a3f83b1",
   "metadata": {},
   "outputs": [
    {
     "name": "stdout",
     "output_type": "stream",
     "text": [
      "[6]\n"
     ]
    }
   ],
   "source": [
    "ran = r.randint(1,6) # 딱 지정한 값까지 나옴 ; 잘 모르겠으면 1,2를 정해놓고 돌려보자 ~\n",
    "box.append(ran)\n",
    "print(box)"
   ]
  },
  {
   "cell_type": "code",
   "execution_count": null,
   "id": "66c7864f-6430-4fb4-9e1d-7dfe09cd0922",
   "metadata": {},
   "outputs": [],
   "source": [
    "dir(r)"
   ]
  },
  {
   "cell_type": "code",
   "execution_count": 37,
   "id": "524cdf3f-fd15-40d6-9e33-2746a22ac5f5",
   "metadata": {},
   "outputs": [],
   "source": [
    "# 주어진 범위 안에서 계속 생각하자! 원리를 이해해보자 . . !"
   ]
  },
  {
   "cell_type": "code",
   "execution_count": 2,
   "id": "54bee2a7-f617-4da8-afb8-feee33e4e59d",
   "metadata": {},
   "outputs": [
    {
     "name": "stdout",
     "output_type": "stream",
     "text": [
      "[6, 3, 5, 4, 5, 3, 4, 1, 3, 1]\n"
     ]
    }
   ],
   "source": [
    "# 다른 방법\n",
    "box = []\n",
    "while len(box) < 10:    # 설정할 때 while 구문의 범위를 먼저 설정해주는 것이 편하겠다.\n",
    "    ran = r.randint(1,6)\n",
    "    box.append(ran)\n",
    "print(box)"
   ]
  },
  {
   "cell_type": "code",
   "execution_count": 17,
   "id": "260ae24c-2610-4bfc-8694-055ee2a7e1f6",
   "metadata": {},
   "outputs": [
    {
     "name": "stdout",
     "output_type": "stream",
     "text": [
      "[4, 6, 5, 3, 1, 3, 2, 6, 5, 4]\n"
     ]
    }
   ],
   "source": [
    "import random as r\n",
    "box = []\n",
    "num = 1\n",
    "while True: \n",
    "    ran = r.randint(1,6)\n",
    "    box.append(ran)\n",
    "    num+=1\n",
    "    if num > 10:\n",
    "        break\n",
    "print(box)"
   ]
  },
  {
   "cell_type": "code",
   "execution_count": 66,
   "id": "5d9112e8-12e5-4ee6-ae72-722337d8fff3",
   "metadata": {},
   "outputs": [
    {
     "name": "stdout",
     "output_type": "stream",
     "text": [
      "[5, 4, 2, 6, 1, 3, 4, 2, 2, 5]\n"
     ]
    }
   ],
   "source": [
    "# 해설 \n",
    "import random as r\n",
    "box = []\n",
    "num = 0\n",
    "while num < 10:\n",
    "    num = num + 1\n",
    "    ran = r.randint(1,6)\n",
    "    box.append(ran)\n",
    "print(box)"
   ]
  },
  {
   "cell_type": "code",
   "execution_count": null,
   "id": "5908b013-c8cd-4653-a5a2-9ebbd4c1cd8c",
   "metadata": {},
   "outputs": [],
   "source": [
    "# 리스트의 특정한 숫자를 몇개인지 찾아내는 함수 써서\n",
    " # 1이 몇번 등장했는지?\n",
    " # 2가 몇번 등장했는지?\n",
    " # ...\n",
    " # 6이 몇번 등장했는지?"
   ]
  },
  {
   "cell_type": "code",
   "execution_count": 4,
   "id": "0a4237ed-c33b-4f10-8dff-3b032a492243",
   "metadata": {},
   "outputs": [
    {
     "name": "stdout",
     "output_type": "stream",
     "text": [
      "250000\n",
      "box 중 1은 41358번(16.54)% 나왔습니다.\n",
      "box 중 2은 41760번(16.7)% 나왔습니다.\n",
      "box 중 3은 41684번(16.67)% 나왔습니다.\n",
      "box 중 4은 41628번(16.65)% 나왔습니다.\n",
      "box 중 5은 41491번(16.6)% 나왔습니다.\n",
      "box 중 6은 42079번(16.83)% 나왔습니다.\n"
     ]
    }
   ],
   "source": [
    "import random as r\n",
    "box = []\n",
    "num = 0\n",
    "total = 250000\n",
    "while num < total:\n",
    "    num = num + 1\n",
    "    ran = r.randint(1,6)\n",
    "    box.append(ran)\n",
    "# print(box)\n",
    "print(len(box))\n",
    "print(f'box 중 1은 {box.count(1)}번({(box.count(1)/total*100):0.4})% 나왔습니다.')\n",
    "print(f'box 중 2은 {box.count(2)}번({(box.count(2)/total*100):0.4})% 나왔습니다.')\n",
    "print(f'box 중 3은 {box.count(3)}번({(box.count(3)/total*100):0.4})% 나왔습니다.')\n",
    "print(f'box 중 4은 {box.count(4)}번({(box.count(4)/total*100):0.4})% 나왔습니다.')\n",
    "print(f'box 중 5은 {box.count(5)}번({(box.count(5)/total*100):0.4})% 나왔습니다.')\n",
    "print(f'box 중 6은 {box.count(6)}번({(box.count(6)/total*100):0.4})% 나왔습니다.')"
   ]
  },
  {
   "cell_type": "code",
   "execution_count": 6,
   "id": "7a0647c1-3f28-43ac-92eb-d8df96d02dc8",
   "metadata": {},
   "outputs": [
    {
     "name": "stdout",
     "output_type": "stream",
     "text": [
      "250000\n",
      "box 중 1은 41494번(16.6)% 나왔습니다.\n",
      "box 중 2은 41443번(16.58)% 나왔습니다.\n",
      "box 중 3은 42169번(16.87)% 나왔습니다.\n",
      "box 중 4은 41728번(16.69)% 나왔습니다.\n",
      "box 중 5은 41510번(16.6)% 나왔습니다.\n",
      "box 중 6은 41656번(16.66)% 나왔습니다.\n"
     ]
    }
   ],
   "source": [
    "import random as r\n",
    "box = []\n",
    "num = 0\n",
    "total = 250000\n",
    "while num < total:\n",
    "    num = num + 1\n",
    "    ran = r.randint(1,6)\n",
    "    box.append(ran)\n",
    "# print(box)\n",
    "print(len(box))\n",
    "for n in range(1,7):\n",
    "    print(f'box 중 {n}은 {box.count(n)}번({(box.count(n)/total*100):0.4})% 나왔습니다.')"
   ]
  },
  {
   "cell_type": "code",
   "execution_count": 7,
   "id": "6942be11-6303-43b7-b11e-a97df486dae7",
   "metadata": {},
   "outputs": [
    {
     "name": "stdout",
     "output_type": "stream",
     "text": [
      "검증 결과 횟수 이상이 있습니다. \n",
      "⚠️ : 250000회 목표로 동작하였으나, 250001으로 측정되었습니다.\n",
      "\n",
      "box 중 1은 41933번(16.77)% 나왔습니다.\n",
      "box 중 2은 41978번(16.79)% 나왔습니다.\n",
      "box 중 3은 41532번(16.61)% 나왔습니다.\n",
      "box 중 4은 41699번(16.68)% 나왔습니다.\n",
      "box 중 5은 41125번(16.45)% 나왔습니다.\n",
      "box 중 6은 41734번(16.69)% 나왔습니다.\n",
      "\n",
      "가장 많이 출현한 숫자는 2 이며,\n",
      "총 41978번 출력되었습니다.\n"
     ]
    }
   ],
   "source": [
    "# 검증 프로그램\n",
    "import random as r\n",
    "box = []\n",
    "num = 0\n",
    "total = 250000\n",
    "while num <= total:\n",
    "    num = num + 1\n",
    "    ran = r.randint(1,6)\n",
    "    box.append(ran)\n",
    "if total == len(box):\n",
    "    print(f'{total}번 회 정상 진행되었습니다')\n",
    "else:\n",
    "    print(f'검증 결과 횟수 이상이 있습니다. \\n⚠️ : {total}회 목표로 동작하였으나, {len(box)}으로 측정되었습니다.\\n')\n",
    "print(f'box 중 1은 {box.count(1)}번({(box.count(1)/total*100):.2f})% 나왔습니다.')\n",
    "print(f'box 중 2은 {box.count(2)}번({(box.count(2)/total*100):.2f})% 나왔습니다.')\n",
    "print(f'box 중 3은 {box.count(3)}번({(box.count(3)/total*100):.2f})% 나왔습니다.')\n",
    "print(f'box 중 4은 {box.count(4)}번({(box.count(4)/total*100):.2f})% 나왔습니다.')\n",
    "print(f'box 중 5은 {box.count(5)}번({(box.count(5)/total*100):.2f})% 나왔습니다.')\n",
    "print(f'box 중 6은 {box.count(6)}번({(box.count(6)/total*100):.2f})% 나왔습니다.')\n",
    "\n",
    "## 가장 많이 출현한 숫자를 출력해보자. cf) max() : 가장 큰 수 , min() : 가장 작은 수\n",
    "num = [1,2,3,4,5,6]\n",
    "M = max(box.count(1),box.count(2),box.count(3),box.count(4),box.count(5),box.count(6))\n",
    "for i in num:\n",
    "    if box.count(i) == M :\n",
    "        print(f'\\n가장 많이 출현한 숫자는 {i} 이며,\\n총 {M}번 출력되었습니다.')"
   ]
  },
  {
   "cell_type": "code",
   "execution_count": 8,
   "id": "49b8a58c-ec7a-4c77-8364-ecd71a9a9893",
   "metadata": {},
   "outputs": [
    {
     "name": "stdout",
     "output_type": "stream",
     "text": [
      "검증 결과 횟수 이상이 있습니다. \n",
      "⚠️ : 250000회 목표로 동작하였으나, 250001으로 측정되었습니다.\n",
      "\n",
      "box 중 1은 41346번(16.54)% 나왔습니다.\n",
      "box 중 2은 41912번(16.76)% 나왔습니다.\n",
      "box 중 3은 41555번(16.62)% 나왔습니다.\n",
      "box 중 4은 41471번(16.59)% 나왔습니다.\n",
      "box 중 5은 41814번(16.73)% 나왔습니다.\n",
      "box 중 6은 41903번(16.76)% 나왔습니다.\n",
      "\n",
      "가장 많이 출현한 숫자는 2 이며,\n",
      "총 41912번 출력되었습니다.\n"
     ]
    }
   ],
   "source": [
    "# 검증 프로그램\n",
    "import random as r\n",
    "box = []\n",
    "num = 0\n",
    "total = 250000\n",
    "while num <= total:\n",
    "    num = num + 1\n",
    "    ran = r.randint(1,6)\n",
    "    box.append(ran)\n",
    "if total == len(box):\n",
    "    print(f'{total}번 회 정상 진행되었습니다')\n",
    "else:\n",
    "    print(f'검증 결과 횟수 이상이 있습니다. \\n⚠️ : {total}회 목표로 동작하였으나, {len(box)}으로 측정되었습니다.\\n')\n",
    "for n in range(1,7):\n",
    "    print(f'box 중 {n}은 {box.count(n)}번({(box.count(n)/total*100):.2f})% 나왔습니다.')\n",
    "    \n",
    "num = [1,2,3,4,5,6]\n",
    "M = max(box.count(1),box.count(2),box.count(3),box.count(4),box.count(5),box.count(6))\n",
    "for i in num:\n",
    "    if box.count(i) == M :\n",
    "        print(f'\\n가장 많이 출현한 숫자는 {i} 이며,\\n총 {M}번 출력되었습니다.')"
   ]
  },
  {
   "cell_type": "markdown",
   "id": "02a3e6cb-b96b-4302-b085-e17df2a56774",
   "metadata": {},
   "source": [
    "## for 문"
   ]
  },
  {
   "cell_type": "code",
   "execution_count": 32,
   "id": "8f21bf07-4fd9-45dc-bcf3-82e6324a832f",
   "metadata": {},
   "outputs": [],
   "source": [
    "# for(let i=0 ;i<10 ; i++){console.log(i,\"반복중\")} 일 떄\n",
    " #           :i는 10까지 i에 1씩 더하자\n",
    " # ()안이 참일 때만 구문이 동작함 !\n",
    "  # for(시작;끝;스텝){} => for :  ; for 구문이 range()와 함께 쓰였을 때 더 강력함."
   ]
  },
  {
   "attachments": {
    "e7ddcbb8-3b90-4e6e-9f57-1a6084193881.png": {
     "image/png": "[encoded data removed]"
    }
   },
   "cell_type": "markdown",
   "id": "2569e685-0ca8-431e-b26e-d5641663f1fc",
   "metadata": {},
   "source": [
    "<img src =\"attachment:e7ddcbb8-3b90-4e6e-9f57-1a6084193881.png\" width=500>"
   ]
  },
  {
   "cell_type": "code",
   "execution_count": 36,
   "id": "f4d5b7db-008d-4025-86b4-f468e97cceed",
   "metadata": {},
   "outputs": [
    {
     "name": "stdout",
     "output_type": "stream",
     "text": [
      "one\n",
      "two\n",
      "three\n"
     ]
    }
   ],
   "source": [
    "# 기본 ; 교재 141p 예제\n",
    "test_list = ['one','two','three']\n",
    "for i in test_list:\n",
    "    print(i)    # 리스트의 처음부터 끝까지 하나하나 i에 대입함.\n",
    "\n",
    "# for x in 리스트 :   < 파이썬의 전통적인 for 함수 구조"
   ]
  },
  {
   "cell_type": "code",
   "execution_count": 37,
   "id": "bc20a11b-ff76-4397-a631-3312544b14fa",
   "metadata": {},
   "outputs": [
    {
     "name": "stdout",
     "output_type": "stream",
     "text": [
      "3\n",
      "7\n",
      "11\n"
     ]
    }
   ],
   "source": [
    "# 다양한 for 문의 사용\n",
    "a=[(1,2),(3,4),(5,6)]   # iterable : 멤버들을 한 번에 하나씩 돌려줄 수 있는 객체 / 순회 가능한 객체\n",
    "for (first,last) in a:    # 순회를 당하는 것이 가능한 모음 ; 순회하는 것은 iterator\n",
    "    # a에서 하나 꺼내서 ()안 에 집어 넣겠다.\n",
    "    print(first+last)"
   ]
  },
  {
   "cell_type": "code",
   "execution_count": 38,
   "id": "ff6d5a04-f560-42d9-bb73-1705e3e594c9",
   "metadata": {},
   "outputs": [
    {
     "name": "stdout",
     "output_type": "stream",
     "text": [
      "1 2\n",
      "3 4\n",
      "5 6\n"
     ]
    }
   ],
   "source": [
    "a=[(1,2),(3,4),(5,6)]\n",
    "for (x,y) in a:  \n",
    "    print(x,y)"
   ]
  },
  {
   "cell_type": "code",
   "execution_count": 39,
   "id": "85c677dd-62bb-4554-b70a-27fa2100db10",
   "metadata": {},
   "outputs": [
    {
     "name": "stdout",
     "output_type": "stream",
     "text": [
      "1 2 11\n",
      "3 4 33\n",
      "5 6 55\n"
     ]
    }
   ],
   "source": [
    "a=[(1,2,11),(3,4,33),(5,6,55)]\n",
    "for (x,y,z) in a:  \n",
    "    print(x,y,z)"
   ]
  },
  {
   "cell_type": "code",
   "execution_count": 43,
   "id": "7900b7b9-9f2e-4f1c-af82-46c7a41cc247",
   "metadata": {},
   "outputs": [
    {
     "name": "stdout",
     "output_type": "stream",
     "text": [
      "1번 학생은 합격입니다.\n",
      "2번 학생은 불합격입니다.\n",
      "3번 학생은 합격입니다.\n",
      "4번 학생은 불합격입니다.\n",
      "5번 학생은 합격입니다.\n"
     ]
    }
   ],
   "source": [
    "# 교재 143p marks1.py \n",
    "marks =[90,25,67,45,80]  # 학생들의 점수 리스트\n",
    "\n",
    "number = 0   # 학생들에게 붙여 줄 번호\n",
    "for mark in marks:   # 90, 25, 67, 45, 80을 순서대로 mark에 대입\n",
    "    number = number + 1\n",
    "    # 목표\n",
    "    if mark >=60:\n",
    "        print(\"%d번 학생은 합격입니다.\" % number)\n",
    "    else:\n",
    "        print(\"%d번 학생은 불합격입니다.\" % number)"
   ]
  },
  {
   "cell_type": "code",
   "execution_count": 46,
   "id": "64b9b484-2c3f-4b03-b127-a6c843789e9b",
   "metadata": {},
   "outputs": [
    {
     "name": "stdout",
     "output_type": "stream",
     "text": [
      "1번 학생 축하합니다. 합격입니다.\n",
      "3번 학생 축하합니다. 합격입니다.\n",
      "5번 학생 축하합니다. 합격입니다.\n"
     ]
    }
   ],
   "source": [
    "# 교재 144p marks2.py\n",
    " #continue ; 건너뛰기(무시. 쌩깜 ㅇ0ㅇ)\n",
    "\n",
    "marks =[90,25,67,45,80]\n",
    "\n",
    "number = 0   \n",
    "for mark in marks:   \n",
    "    number = number + 1\n",
    "    if mark < 60:\n",
    "        continue\n",
    "    print(\"%d번 학생 축하합니다. 합격입니다.\" % number)"
   ]
  },
  {
   "cell_type": "code",
   "execution_count": 51,
   "id": "cd57b258-40f5-4a5e-938e-e5a5238d6bc9",
   "metadata": {},
   "outputs": [
    {
     "name": "stdout",
     "output_type": "stream",
     "text": [
      "홀수는 1 입니다.\n",
      "홀수는 3 입니다.\n",
      "홀수는 5 입니다.\n",
      "홀수는 7 입니다.\n",
      "홀수는 9 입니다.\n"
     ]
    }
   ],
   "source": [
    "# continue를 사용하여 1-10 중에 홀수만 출력하라.\n",
    "numbers = [1,2,3,4,5,6,7,8,9,10]\n",
    "for number in numbers:\n",
    "    if number%2 == 0:\n",
    "        continue     # if의 값을 무시하니까.. 짝수만 무시해야 홀수가 나온다 !\n",
    "        # 짝수일 때만 건너뛰어라 !\n",
    "    print(f'홀수는 {number} 입니다.')"
   ]
  },
  {
   "cell_type": "code",
   "execution_count": 55,
   "id": "3561c3ed-b1c7-43ff-8216-d94fd364e628",
   "metadata": {},
   "outputs": [
    {
     "name": "stdout",
     "output_type": "stream",
     "text": [
      "홀수는 1 입니다.\n",
      "홀수는 3 입니다.\n",
      "홀수는 5 입니다.\n",
      "홀수는 7 입니다.\n",
      "홀수는 9 입니다.\n"
     ]
    }
   ],
   "source": [
    "# 다른 방법\n",
    "numbers = [1,2,3,4,5,6,7,8,9,10]\n",
    "for number in numbers:\n",
    "    if number%2 ==1:\n",
    "        print(f'홀수는 {number} 입니다.')"
   ]
  },
  {
   "cell_type": "markdown",
   "id": "0879a10c-4493-492d-b8be-816aa129c8de",
   "metadata": {},
   "source": [
    "### range 함수"
   ]
  },
  {
   "cell_type": "code",
   "execution_count": 11,
   "id": "b4a939e0-a246-4164-a59b-164f7ac5cec3",
   "metadata": {},
   "outputs": [
    {
     "name": "stdout",
     "output_type": "stream",
     "text": [
      "range(0, 10)\n"
     ]
    }
   ],
   "source": [
    "# range 함수  ; 추상적임\n",
    "a = range(10)\n",
    "print(a)"
   ]
  },
  {
   "cell_type": "code",
   "execution_count": 16,
   "id": "0d92894f-74d4-4bee-a771-843a56e81829",
   "metadata": {},
   "outputs": [
    {
     "name": "stdout",
     "output_type": "stream",
     "text": [
      "10\n",
      "9\n",
      "8\n",
      "7\n",
      "6\n",
      "5\n",
      "4\n",
      "3\n",
      "2\n",
      "1\n"
     ]
    }
   ],
   "source": [
    "for n in range(10,0,-1): # for 뒤에는 눈에 띄는 단어, in 뒤에는 복수형으로 (가급적이면)\n",
    "    print(n)"
   ]
  },
  {
   "cell_type": "code",
   "execution_count": null,
   "id": "062671ce-6de6-40eb-b135-45aa6ad445da",
   "metadata": {},
   "outputs": [],
   "source": [
    "for n in range(10,50,2):   # range 안에 시작,끝,스텝이 다 포함되어 있음 !\n",
    "    print(n)"
   ]
  },
  {
   "cell_type": "code",
   "execution_count": 20,
   "id": "0d0c12dd-4489-4f86-a001-1d07d1ced3c9",
   "metadata": {},
   "outputs": [
    {
     "name": "stdout",
     "output_type": "stream",
     "text": [
      "[0, 1, 2, 3, 4, 5, 6, 7, 8, 9]\n"
     ]
    }
   ],
   "source": [
    "la = list(range(10))\n",
    "print(la)"
   ]
  },
  {
   "cell_type": "code",
   "execution_count": 21,
   "id": "51c2638a-b95d-4d09-93b0-690e9b8b15ff",
   "metadata": {},
   "outputs": [
    {
     "name": "stdout",
     "output_type": "stream",
     "text": [
      "[0, 2, 4, 6, 8, 10, 12, 14, 16, 18, 20, 22, 24, 26, 28, 30, 32, 34, 36, 38, 40, 42, 44, 46, 48, 50, 52, 54, 56, 58, 60, 62, 64, 66, 68, 70, 72, 74, 76, 78, 80, 82, 84, 86, 88, 90, 92, 94, 96, 98]\n"
     ]
    }
   ],
   "source": [
    "la = list(range(0,100,2))\n",
    "print(la)"
   ]
  },
  {
   "cell_type": "code",
   "execution_count": null,
   "id": "1b01739b-4a0d-4120-b41d-cc92cb919cab",
   "metadata": {},
   "outputs": [],
   "source": [
    "# odd = 홀수, even = 짝수"
   ]
  },
  {
   "cell_type": "code",
   "execution_count": 22,
   "id": "7fe5957e-b5a0-4371-91ce-b7ccf067b7d8",
   "metadata": {},
   "outputs": [
    {
     "name": "stdout",
     "output_type": "stream",
     "text": [
      "0\n",
      "2\n",
      "4\n",
      "6\n",
      "8\n"
     ]
    }
   ],
   "source": [
    "for even in range(0,10,2):\n",
    "    print(even)"
   ]
  },
  {
   "cell_type": "code",
   "execution_count": 23,
   "id": "954bf990-5e83-4502-88e5-c4e64348242d",
   "metadata": {},
   "outputs": [
    {
     "name": "stdout",
     "output_type": "stream",
     "text": [
      "1\n",
      "3\n",
      "5\n",
      "7\n",
      "9\n"
     ]
    }
   ],
   "source": [
    "for odd in range(1,10,2):\n",
    "    print(odd)"
   ]
  },
  {
   "cell_type": "code",
   "execution_count": 34,
   "id": "4a848a29-72fb-4360-8b2f-03358e19fc48",
   "metadata": {},
   "outputs": [
    {
     "name": "stdout",
     "output_type": "stream",
     "text": [
      "55\n"
     ]
    }
   ],
   "source": [
    "# 1부터 10까지 더하는 식 만들기\n",
    "# 해설\n",
    "add = 0\n",
    "for num in range(1,11):\n",
    "    add = add + num\n",
    "print(add)"
   ]
  },
  {
   "cell_type": "code",
   "execution_count": 35,
   "id": "b75aae65-0a77-45d1-9190-542d6412adec",
   "metadata": {},
   "outputs": [
    {
     "name": "stdout",
     "output_type": "stream",
     "text": [
      "1번 학생 축하합니다. 합격입니다.\n",
      "3번 학생 축하합니다. 합격입니다.\n",
      "5번 학생 축하합니다. 합격입니다.\n"
     ]
    }
   ],
   "source": [
    "# 교재 145p 예제 marks3. py\n",
    "marks = [90,25,67,45,80]\n",
    "for number in range(len(marks)):\n",
    "    if marks[number] <60:\n",
    "        continue # 점수가 60점 미만이면 맨 처음으로 돌아간다.\n",
    "    print(\"%d번 학생 축하합니다. 합격입니다.\" %(number + 1))"
   ]
  },
  {
   "cell_type": "code",
   "execution_count": 59,
   "id": "65f38cee-29c5-4dcb-b400-a75b4e729a23",
   "metadata": {},
   "outputs": [
    {
     "name": "stdout",
     "output_type": "stream",
     "text": [
      "   February 2025\n",
      "Su Mo Tu We Th Fr Sa\n",
      "                   1\n",
      " 2  3  4  5  6  7  8\n",
      " 9 10 11 12 13 14 15\n",
      "16 17 18 19 20 21 22\n",
      "23 24 25 26 27 28\n",
      "\n"
     ]
    }
   ],
   "source": [
    "# 연습 ; 달력 ~\n",
    "import calendar\n",
    "c = calendar.TextCalendar(calendar.SUNDAY)   # 챗 gpt도 모두 바른 건 아니야~ ^0^\n",
    "print(c.formatmonth(2025,2))"
   ]
  },
  {
   "cell_type": "code",
   "execution_count": 66,
   "id": "e33a053c-b731-4045-8025-cf2d14f45130",
   "metadata": {},
   "outputs": [
    {
     "name": "stdout",
     "output_type": "stream",
     "text": [
      "0 1 2 3 4 5 6 7 8 9 10 11 12 13 14 15 16 17 18 19 "
     ]
    }
   ],
   "source": [
    "# 리스트 속도 측정     # 멈추는 건 ii(interupt)\n",
    "import time as t\n",
    "for x in range(20):\n",
    "    print(x, end=' ')   # 오른쪽으로 배열할 수 있음\n",
    "    t.sleep(1)   # delay는 visual basic~"
   ]
  },
  {
   "cell_type": "code",
   "execution_count": 68,
   "id": "f9f4542b-4684-4d88-a9a2-bf0c116aeaef",
   "metadata": {},
   "outputs": [
    {
     "name": "stdout",
     "output_type": "stream",
     "text": [
      "19"
     ]
    }
   ],
   "source": [
    "import time as t\n",
    "for x in range(20):\n",
    "    print(x, end='\\r')\n",
    "    t.sleep(1)   "
   ]
  },
  {
   "cell_type": "code",
   "execution_count": 2,
   "id": "c395c6e9-abc7-47cb-b5eb-51111b6b0f97",
   "metadata": {},
   "outputs": [
    {
     "name": "stdout",
     "output_type": "stream",
     "text": [
      "loading . . . 🏃 0%"
     ]
    }
   ],
   "source": [
    "import time as t\n",
    "for x in range(1):\n",
    "    if x%2 == 1:\n",
    "        print(f'loading . . . 🚶 {x}%', end='\\r')\n",
    "    else:\n",
    "        print(f'loading . . . 🏃 {x}%', end='\\r')\n",
    "    t.sleep(1)   "
   ]
  },
  {
   "cell_type": "code",
   "execution_count": 70,
   "id": "bfe01200-d2e4-4a74-8bc6-6a729969454d",
   "metadata": {},
   "outputs": [
    {
     "name": "stdout",
     "output_type": "stream",
     "text": [
      "■■■■■■■■■■■■■■■■■■■■"
     ]
    }
   ],
   "source": [
    "import time as t\n",
    "for x in range(20):\n",
    "    print(f'■', end='')\n",
    "    t.sleep(1)   "
   ]
  },
  {
   "cell_type": "code",
   "execution_count": 93,
   "id": "12957ec6-32ab-4419-84a2-0aa76bc8995c",
   "metadata": {},
   "outputs": [
    {
     "name": "stdout",
     "output_type": "stream",
     "text": [
      "<class 'list'>\n",
      "<class 'tuple'>\n"
     ]
    }
   ],
   "source": [
    "import time as t\n",
    "lt = []\n",
    "tp = []\n",
    "length = 100*1000*1000  # 세자리씩 끊으면 쉽게 읽을 수 있다 !\n",
    "for x in range(length):\n",
    "    lt.append(x)\n",
    "for t in range(length):\n",
    "    tp.append(t)\n",
    "tp = tuple(tp)\n",
    "print(type(lt))\n",
    "print(type(tp))"
   ]
  },
  {
   "cell_type": "code",
   "execution_count": 94,
   "id": "1c8f1d98-e5b3-4087-8e8d-92e68d4c437b",
   "metadata": {},
   "outputs": [
    {
     "name": "stdout",
     "output_type": "stream",
     "text": [
      "1738905240.3124256\n"
     ]
    }
   ],
   "source": [
    "import time\n",
    "start = time.time()   # 절대 중복되지 않는 값\n",
    "print(start)"
   ]
  },
  {
   "cell_type": "code",
   "execution_count": 95,
   "id": "9291ba79-6fa7-4de9-9716-0414095f31bd",
   "metadata": {},
   "outputs": [
    {
     "name": "stdout",
     "output_type": "stream",
     "text": [
      "2.1386940479278564\n"
     ]
    }
   ],
   "source": [
    "import time\n",
    "start = time.time()\n",
    "for x in lt:\n",
    "    pass\n",
    "print(time.time() - start)"
   ]
  },
  {
   "cell_type": "code",
   "execution_count": 96,
   "id": "73caa114-e6c1-49d0-8f1f-b307f9961618",
   "metadata": {},
   "outputs": [
    {
     "name": "stdout",
     "output_type": "stream",
     "text": [
      "7.610736131668091\n"
     ]
    }
   ],
   "source": [
    "import time\n",
    "start = time.time()\n",
    "for x in lt:\n",
    "    lts = [1,2,3,4,5]\n",
    "print(time.time() - start)"
   ]
  },
  {
   "cell_type": "code",
   "execution_count": 97,
   "id": "f95be9c0-afd3-46ec-be1c-ec992e12e539",
   "metadata": {},
   "outputs": [
    {
     "name": "stdout",
     "output_type": "stream",
     "text": [
      "3.7444915771484375\n"
     ]
    }
   ],
   "source": [
    "import time   # 튜플은 가볍다 ~\n",
    "start = time.time()\n",
    "for x in tp:\n",
    "    tps = (1,2,3,4,5)\n",
    "print(time.time() - start)"
   ]
  },
  {
   "cell_type": "code",
   "execution_count": null,
   "id": "3477e9e7-9dbd-4bb0-84a3-d2eb53f485a0",
   "metadata": {},
   "outputs": [],
   "source": [
    "!pip -V # 터미널 기능을 바로 쓸 수 있음!\n",
    "!pip list # 무엇이 설치되었는지를 확인할 때"
   ]
  },
  {
   "cell_type": "code",
   "execution_count": 106,
   "id": "d04a2bbe-b0e4-4928-8c00-e91ad4cc9613",
   "metadata": {},
   "outputs": [
    {
     "name": "stdout",
     "output_type": "stream",
     "text": [
      "Collecting tqdm\n",
      "  Downloading tqdm-4.67.1-py3-none-any.whl.metadata (57 kB)\n",
      "Requirement already satisfied: colorama in c:\\users\\admin\\appdata\\local\\programs\\python\\python313\\lib\\site-packages (from tqdm) (0.4.6)\n",
      "Downloading tqdm-4.67.1-py3-none-any.whl (78 kB)\n",
      "Installing collected packages: tqdm\n",
      "Successfully installed tqdm-4.67.1\n"
     ]
    }
   ],
   "source": [
    "!pip install tqdm  # tqdm 설치하기"
   ]
  },
  {
   "cell_type": "code",
   "execution_count": 109,
   "id": "df378e32-11cd-4a35-ae37-0302c1dff875",
   "metadata": {},
   "outputs": [
    {
     "name": "stderr",
     "output_type": "stream",
     "text": [
      "100%|████████████████████████████████████████████████████████████████████████████████| 100/100 [00:10<00:00,  9.84it/s]\n"
     ]
    }
   ],
   "source": [
    "from tqdm import tqdm   # 시간의 경과를 눈으로 보여줌\n",
    "import time as tt\n",
    "for x in tqdm(range(100)):\n",
    "    pass\n",
    "    tt.sleep(0.1)"
   ]
  },
  {
   "cell_type": "code",
   "execution_count": null,
   "id": "c5acc557-8352-458b-a67d-47ab83391163",
   "metadata": {},
   "outputs": [],
   "source": [
    "# 비트코인시세로 상승장 하강장 구분하기 # 24시간 단위\n",
    "import requests as req\n",
    "url = \"https://api.bithumb.com/public/ticker/ALL_KRW\"\n",
    "gdata = req.get(url).json()\n",
    "btc = gdata['data']['BTC'] # 반정형 데이터  cf) 비정형 : 음악 등 / 정형 : 규칙 가짐\n",
    "maxp = float(btc['max_price']) # 최대가\n",
    "minp = float(btc['min_price']) # 최소가\n",
    "openp = float(btc['opening_price']) # 시작가\n",
    "bandp = float(maxp) - float(minp) # 변화폭\n",
    " # 상승장 : 시작가 + 변화폭 > 최대가 ; 반대는 하강장\n",
    "\n",
    "# 상승장 표현\n",
    "import time\n",
    "from IPython.display import clear_output\n",
    "print(f'현재 시작가는 {openp}입니다.\\n최대가는 {maxp}이고, 최소가는 {minp}입니다.\\n그에 따른 변화폭은 {bandp}입니다.')\n",
    "while True:\n",
    "    if (openp + bandp) > maxp:\n",
    "        print(\"\\n상승장↗️입니다.\")\n",
    "        time.sleep(5)\n",
    "        clear_output(wait=True)\n",
    "    else:\n",
    "        print(\"\\n하강장↘️입니다.\")\n",
    "        break"
   ]
  },
  {
   "cell_type": "code",
   "execution_count": 35,
   "id": "5463fa11-d173-43d9-b4f3-03da0f45e050",
   "metadata": {},
   "outputs": [
    {
     "name": "stdout",
     "output_type": "stream",
     "text": [
      "상승장\n"
     ]
    }
   ],
   "source": [
    "# 상승장 표현 해설\n",
    "if (openp + bandp) > maxp:    # 괄호를 통해 우선순위 지시해주기!\n",
    "    print('상승장')\n",
    "else:\n",
    "    print('하강장')"
   ]
  },
  {
   "cell_type": "code",
   "execution_count": 26,
   "id": "f506ea88-81b2-452c-a457-df2199caf6c4",
   "metadata": {},
   "outputs": [
    {
     "name": "stdout",
     "output_type": "stream",
     "text": [
      "149956000\n"
     ]
    }
   ],
   "source": [
    "# 비트코인 시세 1분 단위\n",
    "import requests as req\n",
    "url = 'https://api.bithumb.com/v1/candles/minutes/1?market=KRW-BTC&count=1'\n",
    "btc_data = req.get(url).json()\n",
    "print(btc_data[0]['trade_price'])   # [0] : 대괄호 벗길 수 있음 !"
   ]
  },
  {
   "cell_type": "code",
   "execution_count": 48,
   "id": "8fc176e3-e469-4315-b111-ed7daa7f5100",
   "metadata": {},
   "outputs": [
    {
     "name": "stdout",
     "output_type": "stream",
     "text": [
      "2 x 1 = 2\n",
      "2 x 2 = 4\n",
      "2 x 3 = 6\n",
      "2 x 4 = 8\n",
      "2 x 5 = 10\n",
      "2 x 6 = 12\n",
      "2 x 7 = 14\n",
      "2 x 8 = 16\n",
      "2 x 9 = 18\n"
     ]
    }
   ],
   "source": [
    "# 구구단 2단 출력\n",
    "for x in range(1,10):\n",
    "    print(f'2 x {x} = {2*x}')"
   ]
  },
  {
   "cell_type": "code",
   "execution_count": 49,
   "id": "53a844a1-d305-4fd2-b8ab-eeb3dfd40d1f",
   "metadata": {},
   "outputs": [
    {
     "name": "stdout",
     "output_type": "stream",
     "text": [
      "2 x 1 = 2\n",
      "2 x 2 = 4\n",
      "2 x 3 = 6\n",
      "2 x 4 = 8\n",
      "2 x 5 = 10\n",
      "2 x 6 = 12\n",
      "2 x 7 = 14\n",
      "2 x 8 = 16\n",
      "2 x 9 = 18\n"
     ]
    }
   ],
   "source": [
    "# 해설\n",
    "for i in range(1,10):\n",
    "    print(f'{2} x {i} = {2*i}')"
   ]
  },
  {
   "cell_type": "code",
   "execution_count": 96,
   "id": "62212595-007e-4b27-9db8-4100f176cd6e",
   "metadata": {},
   "outputs": [
    {
     "name": "stdout",
     "output_type": "stream",
     "text": [
      "1 x 1 = 1\n",
      "1 x 2 = 2\n",
      "1 x 3 = 3\n",
      "1 x 4 = 4\n",
      "1 x 5 = 5\n",
      "1 x 6 = 6\n",
      "1 x 7 = 7\n",
      "1 x 8 = 8\n",
      "1 x 9 = 9\n",
      "\n",
      " ☆⌒*: .｡. ρ( •̀ ω •́ )✧ .｡.:*⌒☆ \n",
      "\n",
      "2 x 1 = 2\n",
      "2 x 2 = 4\n",
      "2 x 3 = 6\n",
      "2 x 4 = 8\n",
      "2 x 5 = 10\n",
      "2 x 6 = 12\n",
      "2 x 7 = 14\n",
      "2 x 8 = 16\n",
      "2 x 9 = 18\n",
      "\n",
      " ☆⌒*: .｡. ρ( •̀ ω •́ )✧ .｡.:*⌒☆ \n",
      "\n",
      "3 x 1 = 3\n",
      "3 x 2 = 6\n",
      "3 x 3 = 9\n",
      "3 x 4 = 12\n",
      "3 x 5 = 15\n",
      "3 x 6 = 18\n",
      "3 x 7 = 21\n",
      "3 x 8 = 24\n",
      "3 x 9 = 27\n",
      "\n",
      " ☆⌒*: .｡. ρ( •̀ ω •́ )✧ .｡.:*⌒☆ \n",
      "\n",
      "4 x 1 = 4\n",
      "4 x 2 = 8\n",
      "4 x 3 = 12\n",
      "4 x 4 = 16\n",
      "4 x 5 = 20\n",
      "4 x 6 = 24\n",
      "4 x 7 = 28\n",
      "4 x 8 = 32\n",
      "4 x 9 = 36\n",
      "\n",
      " ☆⌒*: .｡. ρ( •̀ ω •́ )✧ .｡.:*⌒☆ \n",
      "\n",
      "5 x 1 = 5\n",
      "5 x 2 = 10\n",
      "5 x 3 = 15\n",
      "5 x 4 = 20\n",
      "5 x 5 = 25\n",
      "5 x 6 = 30\n",
      "5 x 7 = 35\n",
      "5 x 8 = 40\n",
      "5 x 9 = 45\n",
      "\n",
      " ☆⌒*: .｡. ρ( •̀ ω •́ )✧ .｡.:*⌒☆ \n",
      "\n",
      "6 x 1 = 6\n",
      "6 x 2 = 12\n",
      "6 x 3 = 18\n",
      "6 x 4 = 24\n",
      "6 x 5 = 30\n",
      "6 x 6 = 36\n",
      "6 x 7 = 42\n",
      "6 x 8 = 48\n",
      "6 x 9 = 54\n",
      "\n",
      " ☆⌒*: .｡. ρ( •̀ ω •́ )✧ .｡.:*⌒☆ \n",
      "\n",
      "7 x 1 = 7\n",
      "7 x 2 = 14\n",
      "7 x 3 = 21\n",
      "7 x 4 = 28\n",
      "7 x 5 = 35\n",
      "7 x 6 = 42\n",
      "7 x 7 = 49\n",
      "7 x 8 = 56\n",
      "7 x 9 = 63\n",
      "\n",
      " ☆⌒*: .｡. ρ( •̀ ω •́ )✧ .｡.:*⌒☆ \n",
      "\n",
      "8 x 1 = 8\n",
      "8 x 2 = 16\n",
      "8 x 3 = 24\n",
      "8 x 4 = 32\n",
      "8 x 5 = 40\n",
      "8 x 6 = 48\n",
      "8 x 7 = 56\n",
      "8 x 8 = 64\n",
      "8 x 9 = 72\n",
      "\n",
      " ☆⌒*: .｡. ρ( •̀ ω •́ )✧ .｡.:*⌒☆ \n",
      "\n",
      "9 x 1 = 9\n",
      "9 x 2 = 18\n",
      "9 x 3 = 27\n",
      "9 x 4 = 36\n",
      "9 x 5 = 45\n",
      "9 x 6 = 54\n",
      "9 x 7 = 63\n",
      "9 x 8 = 72\n",
      "9 x 9 = 81\n",
      "\n",
      " ☆⌒*: .｡. ρ( •̀ ω •́ )✧ .｡.:*⌒☆ \n",
      "\n"
     ]
    }
   ],
   "source": [
    "# 2단부터 9단까지\n",
    "for x in range(1,10) :\n",
    "    for i in range(1,10):\n",
    "        print(f'{x} x {i} = {x*i:}')\n",
    "        if i == 9:      # if문에 콜론을 잊지 말자 !!!!!! 크아아아악 😨\n",
    "            print('\\n ☆⌒*: .｡. ρ( •̀ ω •́ )✧ .｡.:*⌒☆ \\n')"
   ]
  },
  {
   "cell_type": "code",
   "execution_count": 121,
   "id": "ec27fef0-e635-4868-a386-191616af14b9",
   "metadata": {},
   "outputs": [
    {
     "name": "stdout",
     "output_type": "stream",
     "text": [
      "====2단====\n",
      "2 x 1 = 2\n",
      "2 x 2 = 4\n",
      "2 x 3 = 6\n",
      "2 x 4 = 8\n",
      "2 x 5 = 10\n",
      "2 x 6 = 12\n",
      "2 x 7 = 14\n",
      "2 x 8 = 16\n",
      "2 x 9 = 18\n",
      "====3단====\n",
      "3 x 1 = 3\n",
      "3 x 2 = 6\n",
      "3 x 3 = 9\n",
      "3 x 4 = 12\n",
      "3 x 5 = 15\n",
      "3 x 6 = 18\n",
      "3 x 7 = 21\n",
      "3 x 8 = 24\n",
      "3 x 9 = 27\n",
      "====4단====\n",
      "4 x 1 = 4\n",
      "4 x 2 = 8\n",
      "4 x 3 = 12\n",
      "4 x 4 = 16\n",
      "4 x 5 = 20\n",
      "4 x 6 = 24\n",
      "4 x 7 = 28\n",
      "4 x 8 = 32\n",
      "4 x 9 = 36\n",
      "====5단====\n",
      "5 x 1 = 5\n",
      "5 x 2 = 10\n",
      "5 x 3 = 15\n",
      "5 x 4 = 20\n",
      "5 x 5 = 25\n",
      "5 x 6 = 30\n",
      "5 x 7 = 35\n",
      "5 x 8 = 40\n",
      "5 x 9 = 45\n",
      "====6단====\n",
      "6 x 1 = 6\n",
      "6 x 2 = 12\n",
      "6 x 3 = 18\n",
      "6 x 4 = 24\n",
      "6 x 5 = 30\n",
      "6 x 6 = 36\n",
      "6 x 7 = 42\n",
      "6 x 8 = 48\n",
      "6 x 9 = 54\n",
      "====7단====\n",
      "7 x 1 = 7\n",
      "7 x 2 = 14\n",
      "7 x 3 = 21\n",
      "7 x 4 = 28\n",
      "7 x 5 = 35\n",
      "7 x 6 = 42\n",
      "7 x 7 = 49\n",
      "7 x 8 = 56\n",
      "7 x 9 = 63\n",
      "====8단====\n",
      "8 x 1 = 8\n",
      "8 x 2 = 16\n",
      "8 x 3 = 24\n",
      "8 x 4 = 32\n",
      "8 x 5 = 40\n",
      "8 x 6 = 48\n",
      "8 x 7 = 56\n",
      "8 x 8 = 64\n",
      "8 x 9 = 72\n",
      "====9단====\n",
      "9 x 1 = 9\n",
      "9 x 2 = 18\n",
      "9 x 3 = 27\n",
      "9 x 4 = 36\n",
      "9 x 5 = 45\n",
      "9 x 6 = 54\n",
      "9 x 7 = 63\n",
      "9 x 8 = 72\n",
      "9 x 9 = 81\n"
     ]
    }
   ],
   "source": [
    "# 해설\n",
    "for j in range(2,10) :\n",
    "    print(f\"{str(j)+'단':=^10}\")\n",
    "    for k in range(1,10):\n",
    "        print(f'{j} x {k} = {j*k}')   # 중첩시킬 때 헷갈리면 점 한 개를 넣어 생각해보자 !"
   ]
  },
  {
   "cell_type": "markdown",
   "id": "75858e5d-532c-459b-beab-811cf713885a",
   "metadata": {},
   "source": [
    "### 리스트 컴프리헨션"
   ]
  },
  {
   "cell_type": "code",
   "execution_count": 119,
   "id": "2b6c1818-b4e5-4f02-bf01-861814cbe307",
   "metadata": {},
   "outputs": [
    {
     "name": "stdout",
     "output_type": "stream",
     "text": [
      "[3, 6, 9, 12]\n"
     ]
    }
   ],
   "source": [
    "# 기본적인 리스트에 값 넣기\n",
    "a = [1,2,3,4]  # 리스트 준비\n",
    "result = []    # 빈 공간 준비\n",
    "for num in a:\n",
    "    result.append(num*3)    # result의 빈 배열에 a의 각 요소에 3을 곱해서 추가하라.\n",
    "print(result)"
   ]
  },
  {
   "cell_type": "code",
   "execution_count": 120,
   "id": "486565f2-4779-4ecf-93ab-77d8e93100ff",
   "metadata": {},
   "outputs": [
    {
     "data": {
      "text/plain": [
       "[3, 6, 9, 12]"
      ]
     },
     "execution_count": 120,
     "metadata": {},
     "output_type": "execute_result"
    }
   ],
   "source": [
    "# 리스트 컴프리헨션\n",
    "[num*3 for num in [1,2,3,4]]   # 리스트 안에서 작업해서 append 기능이 필요 없다 !"
   ]
  },
  {
   "cell_type": "code",
   "execution_count": 123,
   "id": "ed890ab0-9d0d-4e49-be69-596110e48b96",
   "metadata": {},
   "outputs": [
    {
     "name": "stdout",
     "output_type": "stream",
     "text": [
      "[6, 12]\n"
     ]
    }
   ],
   "source": [
    "# 교재 147p 예제\n",
    "a = [1,2,3,4]\n",
    "result =[num*3 for num in a if num%2 == 0]\n",
    "print(result)"
   ]
  },
  {
   "cell_type": "code",
   "execution_count": 122,
   "id": "5efbfe7c-9e5c-4aed-a4f7-b23259221c1e",
   "metadata": {},
   "outputs": [
    {
     "data": {
      "text/plain": [
       "[0, 1, 2, 3, 4, 5, 6, 7, 8, 9]"
      ]
     },
     "execution_count": 122,
     "metadata": {},
     "output_type": "execute_result"
    }
   ],
   "source": [
    "# 테스트 1\n",
    "# list(range(10))       # 위와 아래의 값은 같다 !\n",
    "[x for x in range(10)]"
   ]
  },
  {
   "cell_type": "code",
   "execution_count": 124,
   "id": "61ff9c1d-c940-4c97-acb9-e096a1275a25",
   "metadata": {},
   "outputs": [
    {
     "name": "stdout",
     "output_type": "stream",
     "text": [
      "[0, 1, 2, 3, 4, 5, 6, 7, 8, 9]\n"
     ]
    }
   ],
   "source": [
    "# 위의 리스트 컴프리헨션 풀이 !\n",
    "res = []\n",
    "for x in range(10):\n",
    "    res.append(x)\n",
    "print(res)"
   ]
  },
  {
   "cell_type": "code",
   "execution_count": 126,
   "id": "97d5e59d-afda-4ab9-b9de-65504eddb6aa",
   "metadata": {},
   "outputs": [
    {
     "name": "stdout",
     "output_type": "stream",
     "text": [
      "[0, 2, 4, 6, 8]\n"
     ]
    }
   ],
   "source": [
    "res = []\n",
    "for x in range(10):\n",
    "    if x%2==0:       # 짝수만 넣어라 !\n",
    "        res.append(x*3)\n",
    "print(res)"
   ]
  },
  {
   "cell_type": "code",
   "execution_count": 129,
   "id": "bb1477e9-0de7-4906-a83e-c47d29ec1ff1",
   "metadata": {},
   "outputs": [
    {
     "data": {
      "text/plain": [
       "[0, 6, 12, 18, 24]"
      ]
     },
     "execution_count": 129,
     "metadata": {},
     "output_type": "execute_result"
    }
   ],
   "source": [
    "[x*3 for x in range(10) if x%2==0]  # 결과값이 제일 앞에, if 구문이 제일 뒤에"
   ]
  },
  {
   "cell_type": "code",
   "execution_count": 132,
   "id": "7f845ca6-72b8-4816-b631-ab25fce7fe37",
   "metadata": {},
   "outputs": [
    {
     "name": "stdout",
     "output_type": "stream",
     "text": [
      "[2, 4, 6, 8, 10, 12, 14, 16, 18, 3, 6, 9, 12, 15, 18, 21, 24, 27, 4, 8, 12, 16, 20, 24, 28, 32, 36, 5, 10, 15, 20, 25, 30, 35, 40, 45, 6, 12, 18, 24, 30, 36, 42, 48, 54, 7, 14, 21, 28, 35, 42, 49, 56, 63, 8, 16, 24, 32, 40, 48, 56, 64, 72, 9, 18, 27, 36, 45, 54, 63, 72, 81]\n"
     ]
    }
   ],
   "source": [
    "# 구구단 리스트 컴프리헨션 ~! \n",
    "result = [i*j for i in range(2,10) for j in range(1,10)]\n",
    "print(result)"
   ]
  },
  {
   "cell_type": "code",
   "execution_count": 133,
   "id": "c76ed209-85f4-427c-a9eb-5b3859ec9d44",
   "metadata": {},
   "outputs": [
    {
     "data": {
      "text/plain": [
       "['2 x 1 = 2',\n",
       " '2 x 2 = 4',\n",
       " '2 x 3 = 6',\n",
       " '2 x 4 = 8',\n",
       " '2 x 5 = 10',\n",
       " '2 x 6 = 12',\n",
       " '2 x 7 = 14',\n",
       " '2 x 8 = 16',\n",
       " '2 x 9 = 18',\n",
       " '3 x 1 = 3',\n",
       " '3 x 2 = 6',\n",
       " '3 x 3 = 9',\n",
       " '3 x 4 = 12',\n",
       " '3 x 5 = 15',\n",
       " '3 x 6 = 18',\n",
       " '3 x 7 = 21',\n",
       " '3 x 8 = 24',\n",
       " '3 x 9 = 27',\n",
       " '4 x 1 = 4',\n",
       " '4 x 2 = 8',\n",
       " '4 x 3 = 12',\n",
       " '4 x 4 = 16',\n",
       " '4 x 5 = 20',\n",
       " '4 x 6 = 24',\n",
       " '4 x 7 = 28',\n",
       " '4 x 8 = 32',\n",
       " '4 x 9 = 36',\n",
       " '5 x 1 = 5',\n",
       " '5 x 2 = 10',\n",
       " '5 x 3 = 15',\n",
       " '5 x 4 = 20',\n",
       " '5 x 5 = 25',\n",
       " '5 x 6 = 30',\n",
       " '5 x 7 = 35',\n",
       " '5 x 8 = 40',\n",
       " '5 x 9 = 45',\n",
       " '6 x 1 = 6',\n",
       " '6 x 2 = 12',\n",
       " '6 x 3 = 18',\n",
       " '6 x 4 = 24',\n",
       " '6 x 5 = 30',\n",
       " '6 x 6 = 36',\n",
       " '6 x 7 = 42',\n",
       " '6 x 8 = 48',\n",
       " '6 x 9 = 54',\n",
       " '7 x 1 = 7',\n",
       " '7 x 2 = 14',\n",
       " '7 x 3 = 21',\n",
       " '7 x 4 = 28',\n",
       " '7 x 5 = 35',\n",
       " '7 x 6 = 42',\n",
       " '7 x 7 = 49',\n",
       " '7 x 8 = 56',\n",
       " '7 x 9 = 63',\n",
       " '8 x 1 = 8',\n",
       " '8 x 2 = 16',\n",
       " '8 x 3 = 24',\n",
       " '8 x 4 = 32',\n",
       " '8 x 5 = 40',\n",
       " '8 x 6 = 48',\n",
       " '8 x 7 = 56',\n",
       " '8 x 8 = 64',\n",
       " '8 x 9 = 72',\n",
       " '9 x 1 = 9',\n",
       " '9 x 2 = 18',\n",
       " '9 x 3 = 27',\n",
       " '9 x 4 = 36',\n",
       " '9 x 5 = 45',\n",
       " '9 x 6 = 54',\n",
       " '9 x 7 = 63',\n",
       " '9 x 8 = 72',\n",
       " '9 x 9 = 81']"
      ]
     },
     "execution_count": 133,
     "metadata": {},
     "output_type": "execute_result"
    }
   ],
   "source": [
    "# for j in range(2,10) :\n",
    "#     print(f\"{str(j)+'단':=^10}\")\n",
    "#     for k in range(1,10):\n",
    "#         print(f'{j} x {k} = {j*k}')\n",
    "\n",
    "[(f'{j} x {i} = {j*i}') for j in range(2,10) for i in range(1,10)]  # 결론이 리스트로 나옴"
   ]
  },
  {
   "cell_type": "code",
   "execution_count": 134,
   "id": "f53ac8df-3aa7-49a7-b8c0-c9a5377bdbc7",
   "metadata": {},
   "outputs": [
    {
     "name": "stdout",
     "output_type": "stream",
     "text": [
      "2 x 1 = 2\n",
      "2 x 2 = 4\n",
      "2 x 3 = 6\n",
      "2 x 4 = 8\n",
      "2 x 5 = 10\n",
      "2 x 6 = 12\n",
      "2 x 7 = 14\n",
      "2 x 8 = 16\n",
      "2 x 9 = 18\n",
      "3 x 1 = 3\n",
      "3 x 2 = 6\n",
      "3 x 3 = 9\n",
      "3 x 4 = 12\n",
      "3 x 5 = 15\n",
      "3 x 6 = 18\n",
      "3 x 7 = 21\n",
      "3 x 8 = 24\n",
      "3 x 9 = 27\n",
      "4 x 1 = 4\n",
      "4 x 2 = 8\n",
      "4 x 3 = 12\n",
      "4 x 4 = 16\n",
      "4 x 5 = 20\n",
      "4 x 6 = 24\n",
      "4 x 7 = 28\n",
      "4 x 8 = 32\n",
      "4 x 9 = 36\n",
      "5 x 1 = 5\n",
      "5 x 2 = 10\n",
      "5 x 3 = 15\n",
      "5 x 4 = 20\n",
      "5 x 5 = 25\n",
      "5 x 6 = 30\n",
      "5 x 7 = 35\n",
      "5 x 8 = 40\n",
      "5 x 9 = 45\n",
      "6 x 1 = 6\n",
      "6 x 2 = 12\n",
      "6 x 3 = 18\n",
      "6 x 4 = 24\n",
      "6 x 5 = 30\n",
      "6 x 6 = 36\n",
      "6 x 7 = 42\n",
      "6 x 8 = 48\n",
      "6 x 9 = 54\n",
      "7 x 1 = 7\n",
      "7 x 2 = 14\n",
      "7 x 3 = 21\n",
      "7 x 4 = 28\n",
      "7 x 5 = 35\n",
      "7 x 6 = 42\n",
      "7 x 7 = 49\n",
      "7 x 8 = 56\n",
      "7 x 9 = 63\n",
      "8 x 1 = 8\n",
      "8 x 2 = 16\n",
      "8 x 3 = 24\n",
      "8 x 4 = 32\n",
      "8 x 5 = 40\n",
      "8 x 6 = 48\n",
      "8 x 7 = 56\n",
      "8 x 8 = 64\n",
      "8 x 9 = 72\n",
      "9 x 1 = 9\n",
      "9 x 2 = 18\n",
      "9 x 3 = 27\n",
      "9 x 4 = 36\n",
      "9 x 5 = 45\n",
      "9 x 6 = 54\n",
      "9 x 7 = 63\n",
      "9 x 8 = 72\n",
      "9 x 9 = 81\n"
     ]
    }
   ],
   "source": [
    "# cf)\n",
    "for a in [(f'{j} x {i} = {j*i}') for j in range(2,10) for i in range(1,10)]:\n",
    "    print(a)"
   ]
  },
  {
   "cell_type": "code",
   "execution_count": null,
   "id": "4b813c9d-b62b-40e3-8811-1baa34bb0177",
   "metadata": {},
   "outputs": [],
   "source": [
    "# 되새김 문제"
   ]
  },
  {
   "cell_type": "code",
   "execution_count": 98,
   "id": "6325cf82-523d-4e83-a7cf-71c4b368f682",
   "metadata": {},
   "outputs": [
    {
     "name": "stdout",
     "output_type": "stream",
     "text": [
      "shirt\n"
     ]
    }
   ],
   "source": [
    "# Q1 조건문의 참과 거짓 ; 다음 코드의 결괏값\n",
    "a = \"Life is too short, you need python\"\n",
    "if \"wife\" in a: \n",
    "    print(\"wife\")\n",
    "elif \"python\" in a and \"you\" not in a:\n",
    "    print(\"python\")\n",
    "elif \"shirt\" not in a:\n",
    "    print(\"shirt\")\n",
    "elif \"need\" in a:\n",
    "    print(\"need\")\n",
    "else:\n",
    "    print(\"none\")"
   ]
  },
  {
   "cell_type": "code",
   "execution_count": 100,
   "id": "5a95815d-3678-4ddc-aea0-53841e3b7740",
   "metadata": {},
   "outputs": [
    {
     "name": "stdout",
     "output_type": "stream",
     "text": [
      "166833\n"
     ]
    }
   ],
   "source": [
    "# Q2 3의 배수의 합 구하기\n",
    "result = 0\n",
    "i = 1\n",
    "while i<=1000:\n",
    "    if i%3 == 0:\n",
    "        result+=i\n",
    "    i += 1\n",
    "print(result)"
   ]
  },
  {
   "cell_type": "code",
   "execution_count": 103,
   "id": "b397f914-47ee-4023-a4e0-3f95a5c04fc5",
   "metadata": {},
   "outputs": [
    {
     "name": "stdout",
     "output_type": "stream",
     "text": [
      "*\n",
      "**\n",
      "***\n",
      "****\n",
      "*****\n"
     ]
    }
   ],
   "source": [
    "# Q3 별 표시하기\n",
    "i = 0\n",
    "while True:\n",
    "    i+=1\n",
    "    if i>5:\n",
    "        break\n",
    "    print(i*\"*\")"
   ]
  },
  {
   "cell_type": "code",
   "execution_count": 107,
   "id": "13ced4dd-3060-4a0b-8a10-7571dda29df3",
   "metadata": {},
   "outputs": [
    {
     "name": "stdout",
     "output_type": "stream",
     "text": [
      "1 2 3 4 5 6 7 8 9 10 11 12 13 14 15 16 17 18 19 20 21 22 23 24 25 26 27 28 29 30 31 32 33 34 35 36 37 38 39 40 41 42 43 44 45 46 47 48 49 50 51 52 53 54 55 56 57 58 59 60 61 62 63 64 65 66 67 68 69 70 71 72 73 74 75 76 77 78 79 80 81 82 83 84 85 86 87 88 89 90 91 92 93 94 95 96 97 98 99 100 "
     ]
    }
   ],
   "source": [
    "# Q4 1부터 100까지 출력하기.\n",
    "for i in range(1,101):\n",
    "    print(i, end=' ')"
   ]
  },
  {
   "cell_type": "code",
   "execution_count": 136,
   "id": "86b7aeaf-5fe3-4c69-9dbe-ba8c1b975d88",
   "metadata": {},
   "outputs": [
    {
     "name": "stdout",
     "output_type": "stream",
     "text": [
      "79.0\n"
     ]
    }
   ],
   "source": [
    "# Q5 평균 점수 구하기\n",
    "A = [70,60,55,75,95,90,80,80,85,100]\n",
    "total = 0\n",
    "for score in A:\n",
    "    total += score \n",
    "average = total/len(A)\n",
    "print(average)"
   ]
  },
  {
   "cell_type": "code",
   "execution_count": 110,
   "id": "6e7ab54b-7980-454d-9c42-35e051a4270f",
   "metadata": {},
   "outputs": [
    {
     "name": "stdout",
     "output_type": "stream",
     "text": [
      "[2, 4, 6, 8, 10]\n",
      "[2, 4, 6, 8, 10]\n"
     ]
    }
   ],
   "source": [
    "# Q6 리스트 컴프리헨션 사용하기\n",
    "numbers = [1,2,3,4,5]\n",
    "result1 = []\n",
    "for n in numbers:\n",
    "    result1.append(n*2)\n",
    "print(result1)\n",
    "\n",
    "result = [n*2 for n in numbers]\n",
    "print(result)"
   ]
  },
  {
   "cell_type": "code",
   "execution_count": null,
   "id": "5cf94d75-898e-4794-92c6-adce467c0203",
   "metadata": {},
   "outputs": [],
   "source": [
    "# 로또 생성기 ; 6가지 숫자를 선택. 중복되면 안 됨. 오름차순으로 정리.\n",
    "   # 로또 숫자를 10만 회 생성. ; 각각 번호가 나온 것을 카운팅 하기.\n",
    "   # 각 번호를 퍼센트 내기(소숫점 두 자리). \n",
    "   # 제일 높게 나온 확률 순서대로 번호 3개 추천해주기."
   ]
  },
  {
   "cell_type": "code",
   "execution_count": 9,
   "id": "15246ce1-fe0a-48c6-875f-35bb04c84d26",
   "metadata": {},
   "outputs": [
    {
     "name": "stdout",
     "output_type": "stream",
     "text": [
      "100000\n",
      "[18, 19, 19, 25, 31, 42]\n",
      "lotto number 중 18은 2129번(2.13)% 나왔습니다.\n",
      "lotto number 중 19은 2253번(2.25)% 나왔습니다.\n",
      "lotto number 중 19은 2253번(2.25)% 나왔습니다.\n",
      "lotto number 중 25은 2186번(2.19)% 나왔습니다.\n",
      "lotto number 중 31은 2197번(2.20)% 나왔습니다.\n",
      "lotto number 중 42은 2144번(2.14)% 나왔습니다.\n"
     ]
    }
   ],
   "source": [
    "# 첫번째\n",
    "import random as r\n",
    "lotto = []\n",
    "num = 0\n",
    "total = 100000\n",
    "while num < total:\n",
    "    num = num + 1\n",
    "    ran = r.randint(1,45)\n",
    "    lotto.append(ran)\n",
    "print(len(lotto))\n",
    "\n",
    "LOTTO = []\n",
    "while len(LOTTO) < 6:\n",
    "    RAN = r.choice(lotto)\n",
    "    LOTTO.append(RAN)\n",
    "    LOTTO.sort()\n",
    "print(LOTTO)\n",
    "for n in range(6):\n",
    "    print(f'lotto number 중 {LOTTO[n]}은 {lotto.count(LOTTO[n])}번({(lotto.count(LOTTO[n])/total*100):.2f})% 나왔습니다.')\n",
    "    \n",
    "num = [0,1,2,3,4,5]\n",
    "M = max(lotto.count(LOTTO[0]), lotto.count(LOTTO[1]), lotto.count(LOTTO[2]), lotto.count(LOTTO[3]), lotto.count(LOTTO[4]),lotto.count(LOTTO[5]))\n",
    "for i in num:\n",
    "    if lotto.count(i) == M :\n",
    "        print(f'\\n가장 많이 출현한 숫자는 {LOTTO[i]} 이며,\\n총 {M}번 출력되었습니다.')\n"
   ]
  },
  {
   "cell_type": "code",
   "execution_count": 10,
   "id": "b7bf9eca-e2ff-466f-b724-cc71f27376a9",
   "metadata": {},
   "outputs": [
    {
     "name": "stdout",
     "output_type": "stream",
     "text": [
      "오늘의 로또 번호는[10, 16, 18, 26, 32, 43] 입니다. 축하드립니다 !\n",
      "\n",
      "lotto number 중 10은 16797번(16.80)% 나왔습니다.\n",
      "lotto number 중 16은 16600번(16.60)% 나왔습니다.\n",
      "lotto number 중 18은 16760번(16.76)% 나왔습니다.\n",
      "lotto number 중 26은 16630번(16.63)% 나왔습니다.\n",
      "lotto number 중 32은 16667번(16.67)% 나왔습니다.\n",
      "lotto number 중 43은 16546번(16.55)% 나왔습니다.\n",
      "[16797, 16760, 16667, 16630, 16600, 16546]\n"
     ]
    }
   ],
   "source": [
    "# 2번째\n",
    "import random as r\n",
    "lotto = []\n",
    "while len(lotto) < 6:\n",
    "    ran = r.randint(1,45)\n",
    "    lotto.append(ran)\n",
    "    lotto.sort()\n",
    "    set(lotto)\n",
    "    list(set(lotto))\n",
    "print(f'오늘의 로또 번호는{lotto} 입니다. 축하드립니다 !\\n')\n",
    "\n",
    "\n",
    "LOTTO = []\n",
    "num = 0\n",
    "total = 100000\n",
    "while num < total:\n",
    "    num = num + 1\n",
    "    RAN = r.choice(lotto)\n",
    "    LOTTO.append(RAN)\n",
    "\n",
    "for n in range(6):\n",
    "    print(f'lotto number 중 {lotto[n]}은 {LOTTO.count(lotto[n])}번({(LOTTO.count(lotto[n])/total*100):.2f})% 나왔습니다.')\n",
    "\n",
    "Max =[LOTTO.count(lotto[0]), LOTTO.count(lotto[1]), LOTTO.count(lotto[2]), LOTTO.count(lotto[3]), LOTTO.count(lotto[4]), LOTTO.count(lotto[5])]\n",
    "Max.sort(reverse=True)\n",
    "print(Max)\n",
    "\n",
    "\n"
   ]
  },
  {
   "cell_type": "code",
   "execution_count": null,
   "id": "d4edf121-6606-4364-b7d9-96807d19e3a1",
   "metadata": {},
   "outputs": [],
   "source": [
    "# 20250210 6번째 수업~~! 크아아악 내 두뇌가 찢어지려 그래 ^_^"
   ]
  },
  {
   "cell_type": "code",
   "execution_count": 1,
   "id": "0a697483-8bab-4161-97a4-162472d47a86",
   "metadata": {},
   "outputs": [
    {
     "name": "stdout",
     "output_type": "stream",
     "text": [
      "오늘의 로또 번호는[2, 5, 11, 25, 27, 35] 입니다. 축하드립니다 !\n",
      "\n"
     ]
    }
   ],
   "source": [
    "# 2'번째 \n",
    "import random as r\n",
    "lotto = []\n",
    "while len(lotto) < 6:\n",
    "    ran = r.randint(1,46)\n",
    "    lotto.append(ran)\n",
    "    lotto.sort()\n",
    "    set(lotto)\n",
    "    Lotto = set(lotto)\n",
    "    RLotto=list(Lotto)\n",
    "    if len(RLotto) < 6:\n",
    "        Ran= r.randint(1,46)\n",
    "        RLotto.append(Ran)\n",
    "        RLotto.sort()\n",
    "        if len(RLotto) == 6:\n",
    "            print(f'오늘의 로또 번호는{RLotto} 입니다. 축하드립니다 !\\n')"
   ]
  },
  {
   "cell_type": "code",
   "execution_count": 2,
   "id": "5eeb9354-7a4a-4105-b74c-6c54c7016eeb",
   "metadata": {},
   "outputs": [
    {
     "name": "stdout",
     "output_type": "stream",
     "text": [
      "100000번 회 정상 진행되었습니다.\n",
      "\n",
      "lotto number 중 2은 16647번(16.65)% 나왔습니다.\n",
      "lotto number 중 5은 16616번(16.62)% 나왔습니다.\n",
      "lotto number 중 11은 16607번(16.61)% 나왔습니다.\n",
      "lotto number 중 25은 16683번(16.68)% 나왔습니다.\n",
      "lotto number 중 27은 16725번(16.73)% 나왔습니다.\n",
      "lotto number 중 35은 16722번(16.72)% 나왔습니다.\n"
     ]
    }
   ],
   "source": [
    "import random as r\n",
    "LOTTO = []\n",
    "num = 0\n",
    "total = 100000\n",
    "while num < total:\n",
    "    num = num + 1\n",
    "    RAN = r.choice(RLotto)\n",
    "    LOTTO.append(RAN)\n",
    "    LOTTO.sort()\n",
    "if total == len(LOTTO):\n",
    "    print(f'{total}번 회 정상 진행되었습니다.\\n')\n",
    "else:\n",
    "    print(f'검증 결과 횟수 이상이 있습니다. \\n⚠️ : {total}회 목표로 동작하였으나, {len(LOTTO)}으로 측정되었습니다.\\n')\n",
    "\n",
    "# 검증까지 되면 좋을 것 같다 !!!\n",
    "RLotto.sort()\n",
    "for n in range(6):\n",
    "    print(f'lotto number 중 {RLotto[n]}은 {LOTTO.count(RLotto[n])}번({(LOTTO.count(RLotto[n])/total*100):.2f})% 나왔습니다.')\n",
    "    \n",
    "MAX = [LOTTO.count(RLotto[0]), LOTTO.count(RLotto[1]), LOTTO.count(RLotto[2]), LOTTO.count(RLotto[3]), LOTTO.count(RLotto[4]), LOTTO.count(RLotto[5])]\n",
    "MAX.sort(reverse=True)\n",
    "for i in range(6):\n",
    "    if LOTTO.count(RLotto[i]) == MAX[i]:\n",
    "        print(f'\\n{RLotto[i]}은 1번째로 많이 출현했으며, 전체 확률 중 {(LOTTO.count(RLotto[i])/total*100):.2f}% 출현하였습니다.')\n",
    "    if LOTTO.count(RLotto[i]) == MAX[i]:\n",
    "        print(f'\\n{RLotto[i]}은 2번째로 많이 출현했으으며, 전체 확률 중 {(LOTTO.count(RLotto[i])/total*100):.2f}% 출현하였습니다.')\n",
    "    if LOTTO.count(RLotto[i]) == MAX[i]:\n",
    "        print(f'\\n{RLotto[i]}은 3번째로 많이 출현했으으며, 전체 확률 중 {(LOTTO.count(RLotto[i])/total*100):.2f}% 출현하였습니다.')\n",
    "    if LOTTO.count(RLotto[i]) == MAX[i]:\n",
    "        print(f'\\n{RLotto[i]}은 4번째로 많이 출으며, 전체 확률 중 {(LOTTO.count(RLotto[i])/total*100):.2f}% 출현하였습니다.')\n",
    "    if LOTTO.count(RLotto[i]) == MAX[i]:\n",
    "        print(f'\\n{RLotto[i]}은 5번째로 많이 출현했으며, 전체 확률 중 {(LOTTO.count(RLotto[i])/total*100):.2f}% 출현하였습니다.')\n",
    "    if LOTTO.count(RLotto[i]) == MAX[i]:\n",
    "        print(f'\\n{RLotto[i]}은 6번째로 많이 출현했으며, 전체 확률 중 {(LOTTO.count(RLotto[i])/total*100):.2f}% 출현하였습니다.')"
   ]
  },
  {
   "cell_type": "code",
   "execution_count": null,
   "id": "7f58f568-2482-4228-912f-39fdb4c769b5",
   "metadata": {},
   "outputs": [],
   "source": [
    "# 3번째\n",
    "# lotto = []\n",
    "# Lotto = set(lotto)\n",
    "# for x in range(1,45):\n",
    "#     while len(Lotto) <6:\n",
    "#         Lotto.add(x)\n",
    "#         print(Lotto)\n",
    "#         if len(Lotto) == 6:\n",
    "#             break"
   ]
  },
  {
   "cell_type": "code",
   "execution_count": 137,
   "id": "1804b961-c1f2-40ae-be99-7c70b66990e4",
   "metadata": {
    "jp-MarkdownHeadingCollapsed": true
   },
   "outputs": [
    {
     "name": "stdout",
     "output_type": "stream",
     "text": [
      "414\n",
      "[414, 313, 77, 66, 55, 22, 11]\n"
     ]
    }
   ],
   "source": [
    "# cf) max 함수 쓰는 법  ; 리스트에서 제일 큰 수 뽑아내기\n",
    "a = [11,22,313,414,55,66,77]\n",
    "a.sort(reverse=True)\n",
    "print(a[0])\n",
    "print(a)"
   ]
  },
  {
   "cell_type": "code",
   "execution_count": 40,
   "id": "f0de632d-ff18-48da-9e46-f7d522856ef5",
   "metadata": {},
   "outputs": [
    {
     "name": "stdout",
     "output_type": "stream",
     "text": [
      "[16, 27, 28, 40, 41, 45] 6\n"
     ]
    }
   ],
   "source": [
    "# 로또 생성기 해설 !!!!! 크악악\n",
    "import random as r\n",
    "box = []\n",
    "# for n in range(6):   # 범위 설정도 가능 !!!! 이걸 몰랐네 ; 근데 여기서는 while이 낫다(계속 돌리니까)\n",
    "while len(box) < 6:\n",
    "    ran = r.randint(1,46)  # 끝의 범위는 미만이므로 46!   random 안의 sample이라는 함수를 쓰면 뽑았던 것이 다시 안뽑힘^^ 아 진짜\n",
    "    # if ran in box:\n",
    "    #     pass\n",
    "    # else:\n",
    "    #     box.append(ran)   ; 이걸 쉽게  ↆↆↆ\n",
    "    if not ran in box :\n",
    "        box.append(ran)\n",
    "box.sort()   # 괄호 안은 reverse가 들어가야함 ~\n",
    "print(box, len(box))"
   ]
  },
  {
   "cell_type": "code",
   "execution_count": 43,
   "id": "8e2e284e-2690-4b7a-a896-034dc3599ba7",
   "metadata": {},
   "outputs": [
    {
     "name": "stdout",
     "output_type": "stream",
     "text": [
      "[12, 27, 33, 34, 40, 45]\n"
     ]
    }
   ],
   "source": [
    "# 참고용 1\n",
    "lotto = sorted(r.sample(range(1,46),6))    #크아아악 속에서 천불이 ..!!\n",
    "print(lotto)"
   ]
  },
  {
   "cell_type": "code",
   "execution_count": null,
   "id": "fd03a3d9-cd77-4b42-be32-d2decc3aad55",
   "metadata": {},
   "outputs": [],
   "source": [
    "# 참고용 2\n",
    "ls = []\n",
    "la = []\n",
    "how = 100\n",
    "for h in range(how):\n",
    "    lotto = sorted(r.sample(range(1,46),6))\n",
    "    la.append(lotto)\n",
    "    ls = ls + lotto    # 배열끼리의 덧셈은 append 함수와 다르게 벽이 허물어져서 들어감 !!\n",
    "\n",
    "print(la, type(la))  # 배열을 배열 그대로 합침 !\n",
    "print(ls.count(5))   # 벽이 허물어졌기 때문에 count 함수를 쓰기 용이함         ;     전처리"
   ]
  },
  {
   "cell_type": "code",
   "execution_count": null,
   "id": "61ae4851-e69a-446a-95b0-216162321ff7",
   "metadata": {},
   "outputs": [],
   "source": [
    "# Shift + end를 잘 활용하자 ~~!   ; 괄호 칠 때 용이하다 ~"
   ]
  },
  {
   "cell_type": "code",
   "execution_count": null,
   "id": "645b2b50-1793-41bb-9a3b-c69365266f1d",
   "metadata": {
    "scrolled": true
   },
   "outputs": [],
   "source": [
    "# 참고용 3\n",
    "import random as r\n",
    "ls = []\n",
    "la = []\n",
    "how = 100\n",
    "for h in range(how):\n",
    "    lotto = sorted(r.sample(range(1,46),6))\n",
    "    la.append(lotto)\n",
    "    ls = ls + lotto\n",
    "ss = []\n",
    "for n in range(1,46):\n",
    "    ss.append(ls.count(n))\n",
    "    print(f'숫자 {n} : 출현한 횟수는{ls.count(n)}회 입니다.')\n",
    "\n",
    "print(ss, sum(ss) == how*6)    # 6개를 뽑았으므로 600개가 맞다.\n",
    "if sum(ss) == (how*6):    # 수식에 대해 자신이 없으면 괄호를 치자 !!!!!\n",
    "    print(f'출현 횟수 {how}에 대한 검증이 이상 없습니다.')"
   ]
  },
  {
   "cell_type": "code",
   "execution_count": 60,
   "id": "e22fcba9-3a2e-4d91-bab6-b57061946171",
   "metadata": {},
   "outputs": [
    {
     "name": "stdout",
     "output_type": "stream",
     "text": [
      "{'num1': 7, 'num2': 12, 'num3': 12, 'num4': 13, 'num5': 9, 'num6': 14, 'num7': 14, 'num8': 13, 'num9': 13, 'num10': 16, 'num11': 10, 'num12': 16, 'num13': 11, 'num14': 12, 'num15': 14, 'num16': 15, 'num17': 19, 'num18': 13, 'num19': 12, 'num20': 19, 'num21': 16, 'num22': 16, 'num23': 11, 'num24': 15, 'num25': 14, 'num26': 14, 'num27': 11, 'num28': 15, 'num29': 17, 'num30': 18, 'num31': 14, 'num32': 11, 'num33': 16, 'num34': 11, 'num35': 13, 'num36': 13, 'num37': 13, 'num38': 17, 'num39': 12, 'num40': 17, 'num41': 13, 'num42': 12, 'num43': 13, 'num44': 3, 'num45': 11}\n",
      "600\n"
     ]
    }
   ],
   "source": [
    "# 참고용 4 ; dictionary를 이용한 풀이\n",
    "ls = []\n",
    "la = []\n",
    "how = 100\n",
    "for h in range(how):\n",
    "    lotto = sorted(r.sample(range(1,46),6))\n",
    "    la.append(lotto)\n",
    "    ls = ls + lotto\n",
    "\n",
    "dic = {}\n",
    "for n in range(1,46):\n",
    "    dic[f\"num{n}\"] = ls.count(n)\n",
    "print(dic)\n",
    "print(sum(dic.values()))"
   ]
  },
  {
   "cell_type": "code",
   "execution_count": 32,
   "id": "c0f1adc5-be14-4d57-bfa6-51bd0b76eea8",
   "metadata": {},
   "outputs": [
    {
     "name": "stdout",
     "output_type": "stream",
     "text": [
      "[40, 16, 17, 21, 26, 29, 30] 7\n"
     ]
    }
   ],
   "source": [
    "# print(list(set(box)),len(list(set(box))))"
   ]
  },
  {
   "cell_type": "code",
   "execution_count": 12,
   "id": "c970635f-04b3-4c51-bede-dede58d88432",
   "metadata": {},
   "outputs": [
    {
     "name": "stdout",
     "output_type": "stream",
     "text": [
      "[10, 13, 21, 29, 30, 39] 6\n"
     ]
    }
   ],
   "source": [
    "# 참고용 5\n",
    "import random as r\n",
    "def 로또():\n",
    "    box = []\n",
    "    while len(box) < 6:\n",
    "        ran = r.randint(1,46)\n",
    "        if not ran in box :\n",
    "            box.append(ran)\n",
    "    box.sort()\n",
    "    print(box, len(box))\n",
    "로또()"
   ]
  },
  {
   "cell_type": "code",
   "execution_count": 18,
   "id": "cac76443-4851-426b-afcf-fa5e96644752",
   "metadata": {},
   "outputs": [
    {
     "name": "stdout",
     "output_type": "stream",
     "text": [
      "[12, 14, 16, 40, 42, 43] 6\n"
     ]
    }
   ],
   "source": [
    "# 참고용 5'\n",
    "import random as r\n",
    "def 로또(파라미터=6,매개변수=46):    # 함수의 변수 위치를 설정하고, 값을 넣어줌으로써 함수를 완성할 수 있다.\n",
    "    box = []\n",
    "    while len(box) < 파라미터:\n",
    "        ran = r.randint(1,매개변수)\n",
    "        if not ran in box :\n",
    "            box.append(ran)\n",
    "    box.sort()\n",
    "    print(box, len(box))\n",
    "로또()"
   ]
  },
  {
   "cell_type": "code",
   "execution_count": 13,
   "id": "5de6408a-ea9d-4c7e-8fab-2896f6b3d288",
   "metadata": {},
   "outputs": [
    {
     "name": "stdout",
     "output_type": "stream",
     "text": [
      "[17, 24, 31, 33, 43, 44] 6\n",
      "[17, 22, 26, 31, 33, 37] 6\n",
      "[10, 13, 27, 43, 44, 45] 6\n",
      "[6, 19, 20, 25, 34, 35] 6\n",
      "[3, 5, 7, 15, 17, 37] 6\n"
     ]
    }
   ],
   "source": [
    "# 참고용 6\n",
    "for n in range(5):\n",
    "    로또()    # 억지로 무언가를 넣을 수 있는 구멍 ; 함수의 괄호 안에는 '파라미터(매개변수)'가 들어가야함"
   ]
  },
  {
   "cell_type": "markdown",
   "id": "e2429a01-f829-49e3-a3fc-9fb13f02d294",
   "metadata": {},
   "source": [
    "==================================================================="
   ]
  },
  {
   "cell_type": "code",
   "execution_count": null,
   "id": "e7e09e96-5889-40ba-a152-e1baf070e437",
   "metadata": {},
   "outputs": [],
   "source": [
    "# 예제 !!!   크아아아악 비전공자는 머리를 꽁꽁 싸매는 . . . . 그러나 머리가 터져버리는 . . .^^\n",
    "\n",
    "# 잔돈 분류 프로그램 : 5000원 투입 / 1330원 구매 / 3670 : 잔돈 >> 1000원 x 3장, 500개 x 1개, 100원 x 1개, 50원 x 1개, 10원 x 2개가 나오도록.\n",
    "   # 나눗셈을 이용해서 몫과 나머지를 이용해 계산 !!!\n",
    "from IPython.display import clear_output\n",
    "while True:\n",
    "    money = int(input(\"돈을 넣어주세요 ! : \"))\n",
    "    item = int(input(\"구매할 물건의 가격을 입력하세요 ! : \"))\n",
    "    if (money - item) > 0:\n",
    "        a= (money-item)//1000\n",
    "        b= ((money-item)%1000)//500\n",
    "        c= (((money-item)%1000)%500)//100\n",
    "        d=((((money-item)%1000)%500)%100)//50\n",
    "        e=(((((money-item)%1000)%500)%100)%50)//10\n",
    "        A=1000\n",
    "        B=500\n",
    "        C=100\n",
    "        D=50\n",
    "        E=10\n",
    "        print(f'잔액은 {A}원 {a}장, {B}원 {b}개, {C}원{c}개, {D}원 {d}개, {E}원 {e}개 이며,\\n총합은 {(A*a)+(B*b)+(C*c)+(D*d)+(E*e)} 입니다.')\n",
    "    elif (money - item) < 0:\n",
    "        print(\"소지하신 금액이 부족합니다.\")"
   ]
  },
  {
   "cell_type": "code",
   "execution_count": null,
   "id": "759eb6d7-aef8-45ad-ae5a-46bea776d933",
   "metadata": {},
   "outputs": [],
   "source": [
    "# 가위바위보 프로그램 ^^ ; 랜덤으로 컴퓨터가 가위바위보를 선택하여 낸다.\n",
    "  # 사람이 ['가위','바위','보'] 중 하나를 내면 상대인 컴퓨터는 랜덤으로 가위바위보를 선택하여 낸다.\n",
    "  # 다음과 같은 양식으로 출력 하되 승률을 기록하세요.\n",
    "\n",
    "# 컴퓨터 : 가위,\n",
    "# 당신 : 보\n",
    " # > 당신이 졌습니다.  ; 컴퓨터 승률 33% 당신 승률 66%"
   ]
  },
  {
   "cell_type": "code",
   "execution_count": 29,
   "id": "26d560aa-c407-4cf3-891d-e9bc8fc2e196",
   "metadata": {},
   "outputs": [
    {
     "name": "stdout",
     "output_type": "stream",
     "text": [
      "\n",
      "==========\n",
      "\n",
      "컴퓨터 : 가위\n",
      "당신 : 가위\n",
      "\n",
      "비겼습니다.\n",
      "\n",
      "\n",
      "==========\n",
      "\n",
      "컴퓨터 : 바위\n",
      "당신 : 가위\n",
      "\n",
      "당신이 졌습니다.\n",
      "\n",
      "\n",
      "==========\n",
      "\n",
      "컴퓨터 : 보\n",
      "당신 : 가위\n",
      "\n",
      "당신이 이겼습니다.\n",
      "\n",
      "\n",
      "==========\n",
      "\n",
      "컴퓨터 : 가위\n",
      "당신 : 바위\n",
      "\n",
      "당신이 이겼습니다.\n",
      "\n",
      "\n",
      "==========\n",
      "\n",
      "컴퓨터 : 바위\n",
      "당신 : 바위\n",
      "\n",
      "비겼습니다.\n",
      "\n",
      "\n",
      "==========\n",
      "\n",
      "컴퓨터 : 보\n",
      "당신 : 바위\n",
      "\n",
      "당신이 졌습니다.\n",
      "\n",
      "\n",
      "==========\n",
      "\n",
      "컴퓨터 : 가위\n",
      "당신 : 보\n",
      "\n",
      "당신이 졌습니다.\n",
      "\n",
      "\n",
      "==========\n",
      "\n",
      "컴퓨터 : 바위\n",
      "당신 : 보\n",
      "\n",
      "당신이 이겼습니다.\n",
      "\n",
      "\n",
      "==========\n",
      "\n",
      "컴퓨터 : 보\n",
      "당신 : 보\n",
      "\n",
      "비겼습니다.\n",
      "\n"
     ]
    }
   ],
   "source": [
    "사람 = ['가위','바위','보']\n",
    "컴퓨터 = ['가위','바위','보']\n",
    "def 가위바위보(a,b):\n",
    "    for a in 사람:\n",
    "        for b in 컴퓨터:\n",
    "            print('\\n==========\\n'+ f'\\n컴퓨터 : {b}\\n당신 : {a}\\n')\n",
    "            if a == '바위' and b == '가위':\n",
    "                print('당신이 이겼습니다.\\n')\n",
    "            if a == '가위' and b == '보':\n",
    "                print('당신이 이겼습니다.\\n')\n",
    "            if a == '보' and b == '바위':\n",
    "                print('당신이 이겼습니다.\\n')\n",
    "            if a == '바위' and b == '바위':\n",
    "                print('비겼습니다.\\n')\n",
    "            if a == '가위' and b == '가위':\n",
    "                print('비겼습니다.\\n')\n",
    "            if a == '보' and b == '보':\n",
    "                print('비겼습니다.\\n')\n",
    "            if a == '바위' and b == '보': \n",
    "                print('당신이 졌습니다.\\n')\n",
    "            if a == '보' and b == '가위': \n",
    "                print('당신이 졌습니다.\\n')\n",
    "            if a == '가위' and b == '바위': \n",
    "                print('당신이 졌습니다.\\n')\n",
    "가위바위보('가위','바위')\n",
    "            \n",
    "\n"
   ]
  },
  {
   "cell_type": "code",
   "execution_count": 18,
   "id": "60946ce5-6ed4-4f47-9eba-cff75fa10717",
   "metadata": {},
   "outputs": [
    {
     "name": "stdout",
     "output_type": "stream",
     "text": [
      "[11, 22, 33]\n",
      "[11, 22, 33, 44]\n"
     ]
    }
   ],
   "source": [
    "# 배열의 요소가 3개일 때 ; max와 min을 쓰지 않고 직접! 배열요소를 오름차순으로 나열하라\n",
    "  # 난이도 저(3자리) : [33,11,22]\n",
    "  # 난이도 중(4자리) : [33,11,22,44]\n",
    "a= [33,11,22]\n",
    "if a[0]>a[1] and a[2]:\n",
    "    num = a.pop(0)\n",
    "    a.append(num)\n",
    "    print(a)\n",
    "\n",
    "b=[33,11,22,44]\n",
    "if b[0]>b[1]:\n",
    "    num = b.pop(0)\n",
    "    b.append(num)\n",
    "    if b[2]>b[3]:\n",
    "        Num = b.pop(2)\n",
    "        b.append(Num)\n",
    "        print(b)\n"
   ]
  },
  {
   "cell_type": "code",
   "execution_count": 21,
   "id": "3c331470-aabc-4cca-9aeb-76cdccc29827",
   "metadata": {},
   "outputs": [
    {
     "name": "stdout",
     "output_type": "stream",
     "text": [
      "33\n",
      "44\n"
     ]
    }
   ],
   "source": [
    "# 요소 중 제일 큰 수를 찾아내라.\n",
    " # 난이도 저(3자리) : [33,11,22]\n",
    " # 난이도 중(4자리) : [33,11,22,44]\n",
    "\n",
    "c=[33,11,22]\n",
    "if c[0]>(c[1] and c[2]):\n",
    "    print(c[0])\n",
    "elif c[1]>(c[0] and c[2]):\n",
    "    print(c[1])\n",
    "else : print(c[2])\n",
    "\n",
    "d=[33,11,22,44]\n",
    "if d[0]>(d[1] and d[2] and d[3]):\n",
    "    print(d[0])\n",
    "elif d[1]>(d[0] and d[2] and d[3]):\n",
    "    print(d[1])\n",
    "elif d[2]>(d[0] and d[1] and d[3]):\n",
    "    print(d[2])\n",
    "else: print(d[3])"
   ]
  },
  {
   "cell_type": "code",
   "execution_count": null,
   "id": "d89dc58c-ac89-4f7a-9a8c-513140c72f1e",
   "metadata": {},
   "outputs": [],
   "source": []
  }
 ],
 "metadata": {
  "kernelspec": {
   "display_name": "Python 3 (ipykernel)",
   "language": "python",
   "name": "python3"
  },
  "language_info": {
   "codemirror_mode": {
    "name": "ipython",
    "version": 3
   },
   "file_extension": ".py",
   "mimetype": "text/x-python",
   "name": "python",
   "nbconvert_exporter": "python",
   "pygments_lexer": "ipython3",
   "version": "3.13.1"
  }
 },
 "nbformat": 4,
 "nbformat_minor": 5
}
