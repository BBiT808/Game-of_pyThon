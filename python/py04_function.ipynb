{
 "cells": [
  {
   "cell_type": "markdown",
   "id": "0b65b370-7964-417f-9883-cd7813969478",
   "metadata": {},
   "source": [
    "# 함수"
   ]
  },
  {
   "cell_type": "code",
   "execution_count": 2,
   "id": "63aff3da-ff7b-4411-b37a-bead277ddb34",
   "metadata": {},
   "outputs": [],
   "source": [
    "# 모든 명령어들은 (){} 와 같은 형식\n",
    "  # if (){}   ; 제어문        > if : 로 바뀜(파이썬에서) / 괄호 대신 들여쓰기로 구분한다.\n",
    "  # for(){}   ; 반복문        > for : 로 바뀜\n",
    "  # while(){} ; 반복문        > while : 로 바뀜\n",
    "  # function(){}                          New!\n",
    "  # def 이름():   ; :이 중괄호 역할       NeW!\n",
    "  #     내용"
   ]
  },
  {
   "cell_type": "code",
   "execution_count": 3,
   "id": "a0b679b8-6298-448d-963c-5d5eef868eb8",
   "metadata": {},
   "outputs": [],
   "source": [
    "def 덧셈(a,b):\n",
    "    return a + b     # 되돌려주다. enter와 비슷."
   ]
  },
  {
   "cell_type": "code",
   "execution_count": 7,
   "id": "9422f6cf-c611-40f5-b353-397f7dae4c92",
   "metadata": {},
   "outputs": [
    {
     "name": "stdout",
     "output_type": "stream",
     "text": [
      "7\n"
     ]
    }
   ],
   "source": [
    "c = 덧셈(3,4)\n",
    "print(c)"
   ]
  },
  {
   "cell_type": "code",
   "execution_count": null,
   "id": "c06685cf-a6a4-4090-b2c8-c46238a91d74",
   "metadata": {},
   "outputs": [],
   "source": [
    "# 드래그 후 탭 누르면 들여쓰기 쌉가능 ~"
   ]
  },
  {
   "cell_type": "code",
   "execution_count": 12,
   "id": "8dfff5fb-fb33-41c9-bb13-13bdf6a270e4",
   "metadata": {},
   "outputs": [
    {
     "name": "stdout",
     "output_type": "stream",
     "text": [
      "====2단====\n",
      "2 x 1 = 2\n",
      "2 x 2 = 4\n",
      "2 x 3 = 6\n",
      "2 x 4 = 8\n",
      "2 x 5 = 10\n",
      "2 x 6 = 12\n",
      "2 x 7 = 14\n",
      "2 x 8 = 16\n",
      "2 x 9 = 18\n",
      "None\n"
     ]
    }
   ],
   "source": [
    "def gugu(end = 9):\n",
    "    for j in range(2,end+1) :\n",
    "        print(f\"{str(j)+'단':=^10}\")\n",
    "        for k in range(1,10):\n",
    "            print(f'{j} x {k} = {j*k}')\n",
    "print(gugu(2)) # 보여만 준다."
   ]
  },
  {
   "cell_type": "code",
   "execution_count": 13,
   "id": "4f349d22-7ddc-4d86-a074-a2d64b6d9955",
   "metadata": {},
   "outputs": [
    {
     "name": "stdout",
     "output_type": "stream",
     "text": [
      "====2단====\n"
     ]
    },
    {
     "data": {
      "text/plain": [
       "'2 x 1 = 2'"
      ]
     },
     "execution_count": 13,
     "metadata": {},
     "output_type": "execute_result"
    }
   ],
   "source": [
    "def gugu(end = 9):\n",
    "    for j in range(2,end+1) :\n",
    "        print(f\"{str(j)+'단':=^10}\")\n",
    "        for k in range(1,10):\n",
    "            return(f'{j} x {k} = {j*k}')    # for 안에 return이 들어가는 것은 주의해야함 !\n",
    "gugu(2)"
   ]
  },
  {
   "cell_type": "code",
   "execution_count": 17,
   "id": "b2a7be26-651e-45a5-b746-6cb2ecd33f47",
   "metadata": {},
   "outputs": [
    {
     "name": "stdout",
     "output_type": "stream",
     "text": [
      "====2단====\n",
      "2 x 1 = 2\n",
      "2 x 2 = 4\n",
      "2 x 3 = 6\n",
      "2 x 4 = 8\n",
      "2 x 5 = 10\n",
      "2 x 6 = 12\n",
      "2 x 7 = 14\n",
      "2 x 8 = 16\n",
      "2 x 9 = 18\n",
      "\n"
     ]
    }
   ],
   "source": [
    "def gugu(end = 9):\n",
    "    data =''\n",
    "    for j in range(2,end+1) :\n",
    "        print(f\"{str(j)+'단':=^10}\")\n",
    "        for k in range(1,10):\n",
    "            data += (f'{j} x {k} = {j*k}') + '\\n'\n",
    "    return data\n",
    "print(gugu(2))"
   ]
  },
  {
   "cell_type": "markdown",
   "id": "8c1df04a-f14f-4fe1-b57a-5e4642033f5d",
   "metadata": {},
   "source": [
    "## 입력값과 리턴값에 따른 함수의 형태"
   ]
  },
  {
   "cell_type": "markdown",
   "id": "fc0cbe6a-8c4b-407c-8996-9edb269e9ff7",
   "metadata": {},
   "source": [
    "### 일반적인 함수"
   ]
  },
  {
   "cell_type": "code",
   "execution_count": 18,
   "id": "cc86f813-eb0d-4b4b-9db8-dff0e6709468",
   "metadata": {},
   "outputs": [],
   "source": [
    "# 일반적인 함수\n",
    "def add(a,b):    # scope(범위)를 잘 알아야 함 !\n",
    "    result = a+b\n",
    "    return result"
   ]
  },
  {
   "cell_type": "code",
   "execution_count": 20,
   "id": "88dcd15a-edd3-4820-940e-3bf865e7ccc2",
   "metadata": {},
   "outputs": [
    {
     "name": "stdout",
     "output_type": "stream",
     "text": [
      "87\n"
     ]
    }
   ],
   "source": [
    "a = add(77,10)\n",
    "print(a)"
   ]
  },
  {
   "cell_type": "code",
   "execution_count": 21,
   "id": "54d9206d-642d-4bdc-91a6-2202da10465f",
   "metadata": {},
   "outputs": [],
   "source": [
    "# 입력값이 없는 함수\n",
    "def say():\n",
    "    return '안녕'"
   ]
  },
  {
   "cell_type": "code",
   "execution_count": 24,
   "id": "79213b2c-8121-4400-a520-d9c616b21841",
   "metadata": {},
   "outputs": [
    {
     "name": "stdout",
     "output_type": "stream",
     "text": [
      "안녕\n"
     ]
    }
   ],
   "source": [
    "a = say()\n",
    "print(a)"
   ]
  },
  {
   "cell_type": "code",
   "execution_count": 25,
   "id": "8d3a3b5b-2220-406c-8f4f-167040ba8467",
   "metadata": {},
   "outputs": [],
   "source": [
    "# 리턴값이 없는 함수\n",
    "def add(a,b):\n",
    "    print('%d, %d의 합은 %d 입니다.' %(a,b,a+b))"
   ]
  },
  {
   "cell_type": "code",
   "execution_count": 26,
   "id": "bef2007d-9c53-45b8-9def-7840b340e77a",
   "metadata": {},
   "outputs": [
    {
     "name": "stdout",
     "output_type": "stream",
     "text": [
      "11, 33의 합은 44 입니다.\n"
     ]
    }
   ],
   "source": [
    "add(11,33)"
   ]
  },
  {
   "cell_type": "code",
   "execution_count": 27,
   "id": "a89fb0c4-1658-46be-8f98-7daf3bb3136b",
   "metadata": {},
   "outputs": [],
   "source": [
    "# 입력값과 리턴값이 없는 함수 ; 보여만 준다.\n",
    "def say():\n",
    "    print(\"안녕\")\n",
    "    print(\"전 입력값과 리턴값이 없어요.\")\n",
    "    print(\"빠이~\")"
   ]
  },
  {
   "cell_type": "code",
   "execution_count": 28,
   "id": "1f6c6d06-16da-4f3e-859c-ead89716f642",
   "metadata": {},
   "outputs": [
    {
     "name": "stdout",
     "output_type": "stream",
     "text": [
      "안녕\n",
      "전 입력값과 리턴값이 없어요.\n",
      "빠이~\n"
     ]
    }
   ],
   "source": [
    "say()"
   ]
  },
  {
   "cell_type": "code",
   "execution_count": 34,
   "id": "919d6cd6-a7e0-4697-93d8-0523a4023114",
   "metadata": {},
   "outputs": [],
   "source": [
    "# 테스트\n",
    "import time as t\n",
    "def disp():\n",
    "    print(\"안녕!\\r\",end=\"\")\n",
    "    t.sleep(2)\n",
    "    print(\"전 입력값과 리턴값이 없어요.\\r\",end=\"\")\n",
    "    t.sleep(2)\n",
    "    print(\"빠이~                       \\r\",end=\"\")\n",
    "    t.sleep(2)"
   ]
  },
  {
   "cell_type": "code",
   "execution_count": 33,
   "id": "c4687d82-6db4-46af-b2a1-a64c84c8bb0a",
   "metadata": {},
   "outputs": [
    {
     "name": "stdout",
     "output_type": "stream",
     "text": [
      "빠이~                       "
     ]
    }
   ],
   "source": [
    "disp()"
   ]
  },
  {
   "cell_type": "code",
   "execution_count": 35,
   "id": "6eceea68-6d63-43ef-b703-67ce997c3f66",
   "metadata": {},
   "outputs": [
    {
     "name": "stdout",
     "output_type": "stream",
     "text": [
      "44\n"
     ]
    }
   ],
   "source": [
    "# 예제  ; 가장 큰 수\n",
    "li = [33,11,22,44]\n",
    "sw=0\n",
    "for x in range(4):\n",
    "    if sw <li[x]:\n",
    "        sw=li[x]\n",
    "print(sw)"
   ]
  },
  {
   "cell_type": "code",
   "execution_count": 36,
   "id": "e8dab837-397c-4528-a505-e0bd7ab8e7af",
   "metadata": {},
   "outputs": [
    {
     "name": "stdout",
     "output_type": "stream",
     "text": [
      "44\n"
     ]
    }
   ],
   "source": [
    "# max()  // \n",
    "def bs(li=[33,11,22,44]):\n",
    "    sw=0\n",
    "    for x in range(len(li)):\n",
    "        if sw<li[x]:\n",
    "            sw = li[x]\n",
    "    return sw\n",
    "print(bs())"
   ]
  },
  {
   "cell_type": "code",
   "execution_count": 37,
   "id": "0a85968f-dcef-4e69-8bb6-11a50df0b3f4",
   "metadata": {},
   "outputs": [
    {
     "name": "stdout",
     "output_type": "stream",
     "text": [
      "33\n"
     ]
    }
   ],
   "source": [
    "print(bs([7,6,5,4,11,22,33]))"
   ]
  },
  {
   "cell_type": "code",
   "execution_count": 47,
   "id": "81b9ca0d-2fe8-4a9d-8e5c-4dc246829d7d",
   "metadata": {},
   "outputs": [
    {
     "name": "stdout",
     "output_type": "stream",
     "text": [
      "[33, 11, 22, 44] 중 가장 큰 요소는 44 입니다.\n"
     ]
    }
   ],
   "source": [
    "d=[33,11,22,44]\n",
    "if d[0]>(d[1] and d[2] and d[3]):\n",
    "    print(f'{d} 중 가장 큰 요소는 {d[0]} 입니다.')\n",
    "if d[1]>(d[0] and d[2] and d[3]):\n",
    "    print(f'{d} 중 가장 큰 요소는 {d[1]} 입니다.')\n",
    "if d[2]>(d[0] and d[1] and d[3]):\n",
    "    print(f'{d} 중 가장 큰 요소는 {d[2]} 입니다.')\n",
    "else: print(f'{d} 중 가장 큰 요소는 {d[3]} 입니다.')"
   ]
  },
  {
   "cell_type": "code",
   "execution_count": 33,
   "id": "10b1ddb2-7990-4cd1-a480-1dcd8e7cc073",
   "metadata": {},
   "outputs": [
    {
     "name": "stdout",
     "output_type": "stream",
     "text": [
      "[33, 11, 22, 44] 중 가장 큰 요소는 44 입니다.\n"
     ]
    }
   ],
   "source": [
    "def eh(d=[33,11,22,44]):\n",
    "    if d[0]>(d[1] and d[2] and d[3]):\n",
    "        print(f'{d} 중 가장 큰 요소는 {d[0]} 입니다.')\n",
    "    if d[1]>(d[0] and d[2] and d[3]):\n",
    "        print(f'{d} 중 가장 큰 요소는 {d[1]} 입니다.')\n",
    "    if d[2]>(d[0] and d[1] and d[3]):\n",
    "        print(f'{d} 중 가장 큰 요소는 {d[2]} 입니다.')\n",
    "    else: print(f'{d} 중 가장 큰 요소는 {d[3]} 입니다.')\n",
    "eh()"
   ]
  },
  {
   "cell_type": "code",
   "execution_count": 54,
   "id": "529185fe-f7cc-4e4c-b142-caa588340ad7",
   "metadata": {},
   "outputs": [],
   "source": [
    "# 매개변수를 지정하여 호출하기\n",
    "def sub(a,b):\n",
    "    return a-b"
   ]
  },
  {
   "cell_type": "code",
   "execution_count": 55,
   "id": "38c26b07-4729-438b-9d6f-58e431468a23",
   "metadata": {},
   "outputs": [
    {
     "name": "stdout",
     "output_type": "stream",
     "text": [
      "4\n"
     ]
    }
   ],
   "source": [
    "# result = sub(a=7,b=3)\n",
    "result = sub(b=3,a=7)     # 변수의 이름과 값을 지정해두면 입력할 때의 순서는 상관 없다.\n",
    "print(result)"
   ]
  },
  {
   "cell_type": "code",
   "execution_count": null,
   "id": "9eef08bd-feb8-4210-b9a4-f65b730bb4f1",
   "metadata": {},
   "outputs": [],
   "source": [
    "#!pip install matplotlib"
   ]
  },
  {
   "cell_type": "code",
   "execution_count": 93,
   "id": "ff570930-fd11-4457-a41e-dcdc6ed0d22d",
   "metadata": {},
   "outputs": [],
   "source": [
    "# 테스트 : 함수 random 주사위   ; 코드를 다시 쓰기 쉽게 정렬해 주는 것을 리팩토룸? \n",
    "import random as r\n",
    "import matplotlib.pyplot as plt\n",
    "def dice(target = 250000):\n",
    "    box = []\n",
    "    num = 0\n",
    "    results = {}\n",
    "    while num < target:\n",
    "        num = num + 1\n",
    "        ran = r.randint(1,6)\n",
    "        box.append(ran)\n",
    "    if target == len(box):\n",
    "        print(f'{target}번 회 정상 진행되었습니다')\n",
    "    else:\n",
    "        print(f'검증 결과 횟수 이상이 있습니다. \\n⚠️ : {target}회 목표로 동작하였으나, {len(box)}으로 측정되었습니다.\\n')\n",
    "\n",
    "    for n in range(1,7):\n",
    "        results[n] = box.count(n)\n",
    "        print(f'{n}은 {box.count(n)}번({(box.count(n)/target*100):.2f})% 나왔습니다.')\n",
    "    print(results)\n",
    "    color = [\"lavender\",\"pink\",\"lavender\",\"pink\",\"lavender\",\"pink\"]\n",
    "    plt.bar(results.keys(),results.values(),color=color)    # x축과 y축\n",
    "    plt.show()    # bar chart로 보여줘"
   ]
  },
  {
   "cell_type": "code",
   "execution_count": null,
   "id": "2eea5188-2b7b-49cf-aa29-77baf0cf33f4",
   "metadata": {},
   "outputs": [],
   "source": [
    "# 제일 큰 그래프만 색깔 변경 가능하다 ~! 나중에 한 번 해보기 ^_^"
   ]
  },
  {
   "cell_type": "code",
   "execution_count": 94,
   "id": "d60b50ca-5f50-460b-8d2b-a66781e27d4c",
   "metadata": {},
   "outputs": [
    {
     "name": "stdout",
     "output_type": "stream",
     "text": [
      "250000번 회 정상 진행되었습니다\n",
      "1은 41797번(16.72)% 나왔습니다.\n",
      "2은 41813번(16.73)% 나왔습니다.\n",
      "3은 41612번(16.64)% 나왔습니다.\n",
      "4은 41367번(16.55)% 나왔습니다.\n",
      "5은 41681번(16.67)% 나왔습니다.\n",
      "6은 41730번(16.69)% 나왔습니다.\n",
      "{1: 41797, 2: 41813, 3: 41612, 4: 41367, 5: 41681, 6: 41730}\n"
     ]
    },
    {
     "data": {
      "image/png": "[encoded data removed]",
      "text/plain": [
       "<Figure size 640x480 with 1 Axes>"
      ]
     },
     "metadata": {},
     "output_type": "display_data"
    }
   ],
   "source": [
    "dice()"
   ]
  },
  {
   "cell_type": "code",
   "execution_count": 1,
   "id": "d462c793-18f9-4e2a-b32a-2f39d30bbc3e",
   "metadata": {},
   "outputs": [],
   "source": [
    "# 테스트 : 함수 random 주사위   ; 그래프 색 바꿔보기 ~!\n",
    "import random as r\n",
    "import matplotlib.pyplot as plt\n",
    "def dice(target = 250000):\n",
    "    box = []\n",
    "    num = 0\n",
    "    results = {}\n",
    "    while num < target:\n",
    "        num = num + 1\n",
    "        ran = r.randint(1,6)\n",
    "        box.append(ran)\n",
    "    if target == len(box):\n",
    "        print(f'{target}번 회 정상 진행되었습니다')\n",
    "    else:\n",
    "        print(f'검증 결과 횟수 이상이 있습니다. \\n⚠️ : {target}회 목표로 동작하였으나, {len(box)}으로 측정되었습니다.\\n')\n",
    "\n",
    "    for n in range(1,7):\n",
    "        results[n] = box.count(n)\n",
    "        print(f'{n}은 {box.count(n)}번({(box.count(n)/target*100):.2f})% 나왔습니다.')\n",
    "    print(results)\n",
    "    color = [\"lavender\",\"pink\",\"lavender\",\"pink\",\"lavender\",\"pink\"]\n",
    "    if results.values() == max(box.count(n)):\n",
    "        plt.bar(results.keys(),results.values(),color=\"orange\")\n",
    "    plt.bar(results.keys(),results.values(),color=color)    # x축과 y축\n",
    "    plt.show()    # bar chart로 보여줘"
   ]
  },
  {
   "cell_type": "code",
   "execution_count": null,
   "id": "62af784e-de6a-4028-ab20-e2ca7400eca1",
   "metadata": {},
   "outputs": [],
   "source": [
    "dice()"
   ]
  },
  {
   "cell_type": "code",
   "execution_count": 111,
   "id": "45ded668-30d0-44aa-9ee2-df62c31c5cf3",
   "metadata": {},
   "outputs": [],
   "source": [
    "# 여러개의 입력값을 받는 함수 만들기\n",
    "def add_many(args):\n",
    "    result = 0\n",
    "    for i in args:\n",
    "        result = result + i\n",
    "    return result"
   ]
  },
  {
   "cell_type": "code",
   "execution_count": 112,
   "id": "fbb757c1-35be-4175-8857-8fdd4764659c",
   "metadata": {},
   "outputs": [
    {
     "name": "stdout",
     "output_type": "stream",
     "text": [
      "14\n"
     ]
    }
   ],
   "source": [
    "res = add_many((1,4,3,1,5))\n",
    "print(res)"
   ]
  },
  {
   "cell_type": "code",
   "execution_count": 116,
   "id": "ee651905-b460-4b3f-abc3-303840c4d376",
   "metadata": {},
   "outputs": [],
   "source": [
    "def add_mul(choice, *args) :  # *를 치면 튜플 형식으로 바꿔준다.\n",
    "    if choice == \"add\":\n",
    "        result = 0\n",
    "        for i in args:\n",
    "            result = result + i\n",
    "    elif choice == \"mul\":\n",
    "        result = 1\n",
    "        for i in args:\n",
    "            result = result * i\n",
    "        return result"
   ]
  },
  {
   "cell_type": "code",
   "execution_count": null,
   "id": "50893feb-6ec9-44cb-b0a3-b25329d9c91c",
   "metadata": {},
   "outputs": [],
   "source": [
    "# print(\"하고자 하는 연산을 넣어주세요.\")\n",
    " # 덧셈 : add / 뺄셈 : sub / 곱셈 : mul / 나눗셈 : div\n",
    " # add, mul, sub, div, 정확한 명령어를 넣어주세요.\n",
    "\n",
    " # ex ) add_mul('add',1,2,3,4,5)\n",
    " #      add_mul('mul',2,3,4,)\n",
    " #      add_mul('sub',7,4,1,1)\n",
    " #      add_mul('div',300,3,10)"
   ]
  },
  {
   "cell_type": "code",
   "execution_count": 126,
   "id": "b7b1b7f5-ff65-485e-b680-22d59280b6d8",
   "metadata": {},
   "outputs": [],
   "source": [
    "def add_mul(input, *args) :\n",
    "    if input == \"add\":\n",
    "        result = 0\n",
    "        for i in args:\n",
    "            result = result + i\n",
    "    elif input == \"mul\":\n",
    "        result = 1\n",
    "        for i in args:\n",
    "            result = result * i\n",
    "    elif input == \"sub\":\n",
    "        result = 0\n",
    "        for i in args:\n",
    "            result = result - i\n",
    "    elif input == \"div\":\n",
    "        result = 1\n",
    "        for i in args:\n",
    "            result = result / i\n",
    "    else:\n",
    "        result = input\n",
    "        print(\"정확하게 입력하세요.\")\n",
    "    return result"
   ]
  },
  {
   "cell_type": "code",
   "execution_count": 129,
   "id": "757de810-b1cb-45bc-a16e-b3b76ed56346",
   "metadata": {},
   "outputs": [
    {
     "data": {
      "text/plain": [
       "0.0003333333333333334"
      ]
     },
     "execution_count": 129,
     "metadata": {},
     "output_type": "execute_result"
    }
   ],
   "source": [
    "add_mul('div',300,10)"
   ]
  },
  {
   "cell_type": "code",
   "execution_count": 3,
   "id": "b164e599-295a-4e54-89e0-61e40ef1238a",
   "metadata": {},
   "outputs": [],
   "source": [
    "# 키워드 매개변수 : kwargs\n",
    "def print_kwargs(**kwargs):\n",
    "    print(kwargs)"
   ]
  },
  {
   "cell_type": "code",
   "execution_count": 4,
   "id": "aab47fc4-0779-411b-bb9e-efa4a4590698",
   "metadata": {},
   "outputs": [
    {
     "name": "stdout",
     "output_type": "stream",
     "text": [
      "{'name': '홍길동', 'age': 21, 'address': '대한민국'}\n"
     ]
    }
   ],
   "source": [
    "print_kwargs(name=\"홍길동\",age=21,address='대한민국')"
   ]
  },
  {
   "cell_type": "code",
   "execution_count": 11,
   "id": "f70ccaf2-e7b2-4f1c-a1a7-a9a9da0c5533",
   "metadata": {},
   "outputs": [
    {
     "name": "stdout",
     "output_type": "stream",
     "text": [
      "{'name': '홍길동', 'age': 21, 'address': '대한민국'}\n"
     ]
    }
   ],
   "source": [
    "# cf\n",
    "def print_kwargs(kwargs):\n",
    "    print(kwargs)\n",
    "print_kwargs({'name':'홍길동','age':21,'address':'대한민국'})"
   ]
  },
  {
   "cell_type": "code",
   "execution_count": 140,
   "id": "97688d44-28bd-45d6-ad7f-67a7186430dd",
   "metadata": {},
   "outputs": [],
   "source": [
    "# test\n",
    "def test():\n",
    "    print('저야 영광이죠 ~!!')\n",
    "    if True : return\n",
    "    print('집에 가고 싶어 ~~!')"
   ]
  },
  {
   "cell_type": "code",
   "execution_count": 141,
   "id": "4da8b57e-839d-4f5d-8797-5ada54c9bd4c",
   "metadata": {},
   "outputs": [
    {
     "name": "stdout",
     "output_type": "stream",
     "text": [
      "저야 영광이죠 ~!!\n"
     ]
    }
   ],
   "source": [
    "test()     # return 뒤의 값은 생략 된다 ~!"
   ]
  },
  {
   "cell_type": "code",
   "execution_count": 147,
   "id": "4b601182-9bda-48f6-a4eb-ac19c8ea8ce6",
   "metadata": {},
   "outputs": [
    {
     "name": "stdout",
     "output_type": "stream",
     "text": [
      "35 286\n"
     ]
    }
   ],
   "source": [
    "# test2\n",
    "def test2(a,b):\n",
    "    return a+b,a*b    #,는 튜플을 만들고, 튜플은 괄호 생략 가능 ~!\n",
    "add_result, mul_result = test2(13,22)\n",
    "print(add_result, mul_result)"
   ]
  },
  {
   "cell_type": "code",
   "execution_count": 155,
   "id": "07b58e5c-599b-46c7-a597-2a6ae57614bd",
   "metadata": {},
   "outputs": [],
   "source": [
    "def say_nick(nick) : \n",
    "    if nick == \"바보\":\n",
    "        return\n",
    "    print(\"나의 별명은 %s입니다.\" % nick)"
   ]
  },
  {
   "cell_type": "code",
   "execution_count": 158,
   "id": "8a2cfefe-fb8e-44a3-b76d-e37c95bfc16b",
   "metadata": {},
   "outputs": [],
   "source": [
    "say_nick('바보')    # 입력값으로 '바보'라는 값이 들어오면 문자열을 출력하지 않고 함수를 즉시 빠져나간다. "
   ]
  },
  {
   "cell_type": "code",
   "execution_count": 159,
   "id": "42c9a140-88b1-4fbe-a805-799de70e27f9",
   "metadata": {},
   "outputs": [
    {
     "name": "stdout",
     "output_type": "stream",
     "text": [
      "나의 별명은 야호입니다.\n"
     ]
    }
   ],
   "source": [
    "say_nick('야호')"
   ]
  },
  {
   "cell_type": "code",
   "execution_count": null,
   "id": "90df83a0-14fe-4436-9cda-316749de0f98",
   "metadata": {
    "jp-MarkdownHeadingCollapsed": true
   },
   "outputs": [],
   "source": [
    "# 20250211 7번째 수업 ~~!"
   ]
  },
  {
   "cell_type": "markdown",
   "id": "25304ab0-3a1a-46d4-bc2a-1b31b6087a6f",
   "metadata": {},
   "source": [
    "## 함수 안에서 선언한 변수의 효력 범위"
   ]
  },
  {
   "cell_type": "code",
   "execution_count": 8,
   "id": "cfb00f6a-2d90-4a00-af5f-6d8a38ad531a",
   "metadata": {},
   "outputs": [
    {
     "name": "stdout",
     "output_type": "stream",
     "text": [
      "1\n"
     ]
    }
   ],
   "source": [
    "# 테스트 1\n",
    "a = 1\n",
    "def test1(a):\n",
    "    a = a + 1    # a는 변수  ; 변수의 효력범위는 함수 안까지 !\n",
    "test1(a)       # a = 1\n",
    "print(a) # print의 a 는 a=1의 a만 말한다 !!"
   ]
  },
  {
   "cell_type": "code",
   "execution_count": null,
   "id": "5babbaf3-59ea-471d-9bee-85d2e6ccebab",
   "metadata": {
    "scrolled": true
   },
   "outputs": [],
   "source": [
    "# 테스트 2\n",
    "def test2(b):\n",
    "    b = b + 1\n",
    "test2(3)\n",
    "print(b)   # 함수 안의 a와 다르다 !! ; 에러 발생 !!"
   ]
  },
  {
   "attachments": {
    "5af3a5bb-8ae8-40b1-8496-69972d6b7762.png": {
     "image/png": "[encoded data removed]"
    }
   },
   "cell_type": "markdown",
   "id": "6c5356c4-9d65-4200-b273-e6f341061742",
   "metadata": {},
   "source": [
    "![image.png](attachment:5af3a5bb-8ae8-40b1-8496-69972d6b7762.png)"
   ]
  },
  {
   "cell_type": "code",
   "execution_count": 5,
   "id": "bf00ec7f-c96a-42f5-8955-a83f716ef9ba",
   "metadata": {},
   "outputs": [
    {
     "name": "stdout",
     "output_type": "stream",
     "text": [
      "2\n"
     ]
    }
   ],
   "source": [
    "# 테스트 3\n",
    "c = 1\n",
    "def test3(c) :\n",
    "    c = c + 1\n",
    "    return c    # 함수의 return이 중요한 이유 ! ; 함수의 결과를 값으로 만들 수 있다.\n",
    "c = test3(c)    # c = c + 1\n",
    "print(c)"
   ]
  },
  {
   "cell_type": "code",
   "execution_count": 9,
   "id": "80305b0c-88bc-445e-be4e-96f6a5f33c87",
   "metadata": {},
   "outputs": [
    {
     "name": "stdout",
     "output_type": "stream",
     "text": [
      "2\n"
     ]
    }
   ],
   "source": [
    "# 테스트 4\n",
    "d = 1\n",
    "def test4():\n",
    "    global d    # 외부의 값을 변경시킴 !!! (쓰는 것은 위험해~) / 보안상으로도 좋지 않아 !!\n",
    "    d = d + 1\n",
    "test4()\n",
    "print(d)"
   ]
  },
  {
   "cell_type": "markdown",
   "id": "2eb74fb5-45de-4e84-ba13-942a1fd0515e",
   "metadata": {},
   "source": [
    "## lambda 예약어 ( 익명함수 )"
   ]
  },
  {
   "cell_type": "code",
   "execution_count": 10,
   "id": "7a98d764-40af-4776-801f-8b7c7184a5f9",
   "metadata": {},
   "outputs": [],
   "source": [
    "# 리스트 컴프리헨션과 쿵짝이 잘 맞아 ~"
   ]
  },
  {
   "cell_type": "code",
   "execution_count": 11,
   "id": "e62b0c67-c5d6-4925-bb31-5d4de5552e30",
   "metadata": {},
   "outputs": [
    {
     "name": "stdout",
     "output_type": "stream",
     "text": [
      "5\n"
     ]
    }
   ],
   "source": [
    "def test(a,b):\n",
    "    return a+b\n",
    "add = lambda a,b:a+b    # javascript에서는 함수 표현식이라 함 ~\n",
    "print(add(1,4))"
   ]
  },
  {
   "cell_type": "code",
   "execution_count": null,
   "id": "e5ed02b0-b554-475c-b7a8-d8caccb164ec",
   "metadata": {},
   "outputs": [],
   "source": [
    "# javascript에서 . . "
   ]
  },
  {
   "attachments": {
    "a6b2d365-e293-49c9-ad2e-364c9c0ea8e3.png": {
     "image/png": "[encoded data removed]"
    }
   },
   "cell_type": "markdown",
   "id": "70a373a7-cd2b-443b-9e48-38a5a7135be3",
   "metadata": {},
   "source": [
    "![image.png](attachment:a6b2d365-e293-49c9-ad2e-364c9c0ea8e3.png)"
   ]
  },
  {
   "cell_type": "code",
   "execution_count": 12,
   "id": "c927e6fc-0350-4263-bf48-4c529176a71f",
   "metadata": {},
   "outputs": [
    {
     "name": "stdout",
     "output_type": "stream",
     "text": [
      "[0, 1, 2, 3, 4, 5, 6, 7, 8, 9]\n"
     ]
    }
   ],
   "source": [
    "a1 = [x for x in range(10)]\n",
    "print(a1)"
   ]
  },
  {
   "cell_type": "code",
   "execution_count": 13,
   "id": "4d9456d7-c4ef-4062-8f16-e549765dd9df",
   "metadata": {},
   "outputs": [
    {
     "name": "stdout",
     "output_type": "stream",
     "text": [
      "[0, 2, 4, 6, 8, 10, 12, 14, 16, 18]\n"
     ]
    }
   ],
   "source": [
    "a2 = [(lambda x:x*2)(x) for x in range(10)]   # 즉석실행함수\n",
    "      # 맨 앞에는 리턴값   그다음엔 조건 if\n",
    "print(a2)"
   ]
  },
  {
   "cell_type": "code",
   "execution_count": 14,
   "id": "330c9ff6-2e89-4847-904f-5ff1d98299db",
   "metadata": {},
   "outputs": [
    {
     "name": "stdout",
     "output_type": "stream",
     "text": [
      "[0, 1, 4, 9, 16, 25, 36, 49, 64, 81]\n"
     ]
    }
   ],
   "source": [
    "# 응용예제\n",
    "a3 = [0, 1, 2, 3, 4, 5, 6, 7, 8, 9]\n",
    "p = list(map(lambda x : x**2, a3))   # map 함수 : 가공을 해서 바로 꺼낼 수 있음 . lambda와 많이 씀 !\n",
    "        # 결과물과 1대1로 대응함 ~\n",
    "print(p)"
   ]
  },
  {
   "cell_type": "markdown",
   "id": "a5fe5671-d21a-498f-a5f6-475ff3bbb628",
   "metadata": {},
   "source": [
    "# 파일 읽고 쓰기"
   ]
  },
  {
   "cell_type": "markdown",
   "id": "194a80b4-abd7-45da-b458-e2e83dea6305",
   "metadata": {},
   "source": [
    "## 파일 생성하기"
   ]
  },
  {
   "cell_type": "code",
   "execution_count": 16,
   "id": "2498f1bd-90e8-49cd-85e1-f800a08e39e1",
   "metadata": {},
   "outputs": [],
   "source": [
    "# 파일 생성하기 1\n",
    "f = open(\"./새파일생성1.txt\",\"w\")   # open : 가장 많이 쓰는 함수 ! f(file)과 같이 많이 씀\n",
    "f.close()   # 파일을 생성했으면 꼭 닫아주자 !!"
   ]
  },
  {
   "cell_type": "markdown",
   "id": "8c47f299-d423-40b5-8093-060783eff7dd",
   "metadata": {},
   "source": [
    "<table style=\"float:left\">\n",
    "<thead>\n",
    "<tr>\n",
    "<th>파일열기모드</th>\n",
    "<th>설명</th>\n",
    "</tr>\n",
    "</thead>\n",
    "<tbody>\n",
    "<tr>\n",
    "<td>r</td>\n",
    "<td>읽기 모드: 파일을 읽기만 할 때 사용한다.</td>\n",
    "</tr>\n",
    "<tr>\n",
    "<td>w</td>\n",
    "<td>쓰기 모드: 파일에 내용을 쓸 때 사용한다.</td>\n",
    "</tr>\n",
    "<tr>\n",
    "<td>a</td>\n",
    "<td>추가 모드: 파일의 마지막에 새로운 내용을 추가할 때 사용한다.</td>\n",
    "</tr>\n",
    "</tbody>\n",
    "</table>"
   ]
  },
  {
   "cell_type": "code",
   "execution_count": 5,
   "id": "6cac1a67-39d5-40a5-bf65-83ffff62109d",
   "metadata": {},
   "outputs": [],
   "source": [
    "# 파일 생성하기 2 + 경로\n",
    "path = \"./testfile/\"   # 파이썬이 윈도우 기반이지만, 슬러시를 사용해서 경로를 표시할 수 있음!\n",
    "f = open(path + \"새파일생성2.txt\",\"w\")\n",
    "f.close()"
   ]
  },
  {
   "cell_type": "code",
   "execution_count": 7,
   "id": "4737ecb1-e97b-4314-a73b-94ca67c66159",
   "metadata": {},
   "outputs": [],
   "source": [
    "# 파일을 쓰기 모드로 열어 내용 쓰기\n",
    "path = \"./testfile/\"\n",
    "f = open(path + \"새파일생성3.txt\",\"w\")\n",
    "f.write(\"test ok!!!\")   # 한글로 적으면 깨질 때가 있음\n",
    "f.close()"
   ]
  },
  {
   "cell_type": "code",
   "execution_count": 11,
   "id": "dccda11d-a413-4dc5-899a-4acbfd1aed52",
   "metadata": {},
   "outputs": [],
   "source": [
    "# cf) 파일을 쓰기 모드로 열어 내용 쓰기 \n",
    "path = \"./testfile/\"\n",
    "f = open(path + \"새파일생성(참고).txt\",\"w\",encoding=\"utf-8\")\n",
    "for n in range(10):\n",
    "    f.write(f\"{n+1}번째 한글도 잘 돼요 !!\\n\")   # 한글로 적으면 깨질 때가 있음\n",
    "f.close()"
   ]
  },
  {
   "cell_type": "code",
   "execution_count": 25,
   "id": "2085e382-cb8a-4937-972b-0996015982a2",
   "metadata": {},
   "outputs": [],
   "source": [
    "# 문제 ) 하위 testfile 폴더 내에 lotto.txt라는 파일 이름으로,\n",
    "  #로또 번호 6개를 1000개 추천하여 적어주세요. 즉, 한줄에 6개씩 x 1000줄!\n",
    "import random as r\n",
    "path = \"./testfile/\"\n",
    "f = open(path + \"lotto.txt\",\"w\",encoding=\"utf-8\")\n",
    "for n in range(1000):\n",
    "    lotto = sorted(r.sample(range(1,46),6))\n",
    "    f.write(f\"{n+1}번째 로또 번호는 {lotto} 입니다.\\n\")\n",
    "    if (n+1) == 1000:\n",
    "        f.write(\"끝 !! 내 꿈은 로또 당첨 부자 백수 !! (:3>ㄴ)\")\n",
    "f.close()"
   ]
  },
  {
   "cell_type": "code",
   "execution_count": 34,
   "id": "2f53da30-0dff-4b16-a133-1c7418cd37cc",
   "metadata": {},
   "outputs": [],
   "source": [
    "# 구구단도 적어보기~\n",
    "path = \"./testfile/\"\n",
    "f = open(path + \"구구단.txt\",\"w\",encoding=\"utf-8\")\n",
    "for n in range(2,10):\n",
    "    f.write(f\"{str(n)+'단':=^10}\\n\")\n",
    "    for x in range(1,10):\n",
    "        f.write(f'{n} x {x} = {n*x}\\n')\n",
    "f.close()"
   ]
  },
  {
   "cell_type": "code",
   "execution_count": 6,
   "id": "06afd23a-d8e5-4428-bf08-b1bd0b113948",
   "metadata": {},
   "outputs": [],
   "source": [
    "def diary(name):\n",
    "    path = \"./testfile/\"\n",
    "    f = open(path + name + \".txt\",\"a\",encoding=\"utf-8\")\n",
    "    \n",
    "    while 1:\n",
    "        inp = input(\"작성하고 싶은 내용 : \")\n",
    "        if inp == '그만' : break\n",
    "        f.write(inp+'\\n')\n",
    "f.close()"
   ]
  },
  {
   "cell_type": "code",
   "execution_count": 8,
   "id": "92630a7c-8703-430f-8457-0306e20bfe46",
   "metadata": {},
   "outputs": [],
   "source": [
    "def diary(name):\n",
    "    path = \"./testfile/\"\n",
    "    f = open(path + name + \".txt\",\"a\",encoding=\"utf-8\")\n",
    "    \n",
    "    while 1:\n",
    "        inp = input(\">> : \")\n",
    "        if inp == '그만' : break\n",
    "        f.write(inp+'\\n')\n",
    "f.close()"
   ]
  },
  {
   "cell_type": "code",
   "execution_count": 9,
   "id": "24202b21-0739-4f55-89a0-8b0dc913ce40",
   "metadata": {},
   "outputs": [
    {
     "name": "stdin",
     "output_type": "stream",
     "text": [
      ">> :  잠이 온다.\n",
      ">> :  너무 졸려 . . .\n",
      ">> :  z..z..Z\n",
      ">> :  그만\n"
     ]
    }
   ],
   "source": [
    "diary('20250201 일기')"
   ]
  },
  {
   "cell_type": "markdown",
   "id": "d09df770-481c-4b76-9477-5598e2ded729",
   "metadata": {},
   "source": [
    "## 파일을 읽는 방법"
   ]
  },
  {
   "cell_type": "code",
   "execution_count": 2,
   "id": "0a35d2ab-5989-4bca-aed9-c47a25dd07aa",
   "metadata": {},
   "outputs": [],
   "source": [
    "path = \"./testfile/\"\n",
    "f = open(path + \"새파일생성4.txt\",\"w\",encoding=\"utf-8\")  # 리눅스는 필요 없다 ~\n",
    "for n in range(10):\n",
    "    f.write(f\"{n+1}번째 한글도 잘 돼요 !!\\n\")   # 한글로 적으면 깨질 때가 있음\n",
    "f.close()"
   ]
  },
  {
   "cell_type": "code",
   "execution_count": 3,
   "id": "3e34ea0f-3161-43bb-ad1a-260338a20161",
   "metadata": {},
   "outputs": [
    {
     "name": "stdout",
     "output_type": "stream",
     "text": [
      "1번째 한글도 잘 돼요 !!\n",
      "\n",
      "2번째 한글도 잘 돼요 !!\n",
      "\n",
      "3번째 한글도 잘 돼요 !!\n",
      "\n"
     ]
    }
   ],
   "source": [
    "# readline ; 한 줄씩 읽는 용도 cf) lines : 두 줄\n",
    "f = open(path + \"새파일생성4.txt\",\"r\",encoding=\"utf-8\")\n",
    "line = f.readline()\n",
    "print(line)\n",
    "line = f.readline()  # 연달아 해주면 그 다음 것을 바로 읽어줌 ~\n",
    "print(line)\n",
    "line = f.readline()    # 10개 이상 붙여 넣어도 값은 더 안 나옴 ~\n",
    "print(line)\n",
    "f.close()    # 파일 닫아주는걸 잊지말자~"
   ]
  },
  {
   "cell_type": "code",
   "execution_count": 4,
   "id": "feb6fbb6-288f-474d-908e-ba4965d8e308",
   "metadata": {},
   "outputs": [
    {
     "name": "stdout",
     "output_type": "stream",
     "text": [
      "1번째 한글도 잘 돼요 !!\n",
      "\n",
      "2번째 한글도 잘 돼요 !!\n",
      "\n",
      "3번째 한글도 잘 돼요 !!\n",
      "\n",
      "4번째 한글도 잘 돼요 !!\n",
      "\n",
      "5번째 한글도 잘 돼요 !!\n",
      "\n",
      "6번째 한글도 잘 돼요 !!\n",
      "\n",
      "7번째 한글도 잘 돼요 !!\n",
      "\n",
      "8번째 한글도 잘 돼요 !!\n",
      "\n",
      "9번째 한글도 잘 돼요 !!\n",
      "\n",
      "10번째 한글도 잘 돼요 !!\n",
      "\n"
     ]
    }
   ],
   "source": [
    "# readline + while\n",
    "f = open(path + \"새파일생성4.txt\",\"r\",encoding=\"utf-8\")\n",
    "while 1:  # true = 1\n",
    "    line = f.readline()\n",
    "    if not line : break\n",
    "    print(line)              # while은 끝날 때 까지 계속 반복한다.. for도 마찬가지 !!\n",
    "f.close()    "
   ]
  },
  {
   "cell_type": "code",
   "execution_count": 14,
   "id": "ee7cdb38-5847-4428-b952-32b49213ac79",
   "metadata": {},
   "outputs": [
    {
     "name": "stdout",
     "output_type": "stream",
     "text": [
      "['1번째 한글도 잘 돼요 !!\\n', '2번째 한글도 잘 돼요 !!\\n', '3번째 한글도 잘 돼요 !!\\n', '4번째 한글도 잘 돼요 !!\\n', '5번째 한글도 잘 돼요 !!\\n', '6번째 한글도 잘 돼요 !!\\n', '7번째 한글도 잘 돼요 !!\\n', '8번째 한글도 잘 돼요 !!\\n', '9번째 한글도 잘 돼요 !!\\n', '10번째 한글도 잘 돼요 !!\\n'] <class 'list'>\n"
     ]
    }
   ],
   "source": [
    "# readlines   ; 제어하기 어렵다.\n",
    "path = \"./testfile/\"\n",
    "f = open(path + \"새파일생성4.txt\",\"r\",encoding=\"utf-8\")\n",
    "lines = f.readlines()    # 리스트 형식으로 내보내줌\n",
    "print(lines,type(lines))\n",
    "f.close()"
   ]
  },
  {
   "cell_type": "code",
   "execution_count": 17,
   "id": "93333383-599f-480b-87c8-b043dd5c193a",
   "metadata": {},
   "outputs": [
    {
     "name": "stdout",
     "output_type": "stream",
     "text": [
      "1번째 한글도 잘 돼요 !!\n",
      "2번째 한글도 잘 돼요 !!\n",
      "3번째 한글도 잘 돼요 !!\n",
      "4번째 한글도 잘 돼요 !!\n",
      "5번째 한글도 잘 돼요 !!\n",
      "6번째 한글도 잘 돼요 !!\n",
      "7번째 한글도 잘 돼요 !!\n",
      "8번째 한글도 잘 돼요 !!\n",
      "9번째 한글도 잘 돼요 !!\n",
      "10번째 한글도 잘 돼요 !!\n"
     ]
    }
   ],
   "source": [
    "# readlines   ; 제어하기 어렵다. \n",
    "path = \"./testfile/\"\n",
    "f = open(path + \"새파일생성4.txt\",\"r\",encoding=\"utf-8\")\n",
    "for n in lines:    # 반복할 수 있다 !\n",
    "    print(n, end ='')   # \\n이 반복 되어 두 칸씩 띄워지니까~\n",
    "f.close()"
   ]
  },
  {
   "cell_type": "code",
   "execution_count": 21,
   "id": "76dbf76e-7600-4c3e-8aba-54adf750a8a2",
   "metadata": {},
   "outputs": [
    {
     "name": "stdout",
     "output_type": "stream",
     "text": [
      "['1', '번', '째', ' ', '한', '글', '도', ' ', '잘', ' ', '돼', '요', ' ', '!', '!', '\\n']\n",
      "['1', '번', '째', ' ', '한', '글', '도', ' ', '잘', ' ', '돼', '요', ' ', '!', '!']\n",
      "['2', '번', '째', ' ', '한', '글', '도', ' ', '잘', ' ', '돼', '요', ' ', '!', '!', '\\n']\n",
      "['2', '번', '째', ' ', '한', '글', '도', ' ', '잘', ' ', '돼', '요', ' ', '!', '!']\n",
      "['3', '번', '째', ' ', '한', '글', '도', ' ', '잘', ' ', '돼', '요', ' ', '!', '!', '\\n']\n",
      "['3', '번', '째', ' ', '한', '글', '도', ' ', '잘', ' ', '돼', '요', ' ', '!', '!']\n",
      "['4', '번', '째', ' ', '한', '글', '도', ' ', '잘', ' ', '돼', '요', ' ', '!', '!', '\\n']\n",
      "['4', '번', '째', ' ', '한', '글', '도', ' ', '잘', ' ', '돼', '요', ' ', '!', '!']\n",
      "['5', '번', '째', ' ', '한', '글', '도', ' ', '잘', ' ', '돼', '요', ' ', '!', '!', '\\n']\n",
      "['5', '번', '째', ' ', '한', '글', '도', ' ', '잘', ' ', '돼', '요', ' ', '!', '!']\n",
      "['6', '번', '째', ' ', '한', '글', '도', ' ', '잘', ' ', '돼', '요', ' ', '!', '!', '\\n']\n",
      "['6', '번', '째', ' ', '한', '글', '도', ' ', '잘', ' ', '돼', '요', ' ', '!', '!']\n",
      "['7', '번', '째', ' ', '한', '글', '도', ' ', '잘', ' ', '돼', '요', ' ', '!', '!', '\\n']\n",
      "['7', '번', '째', ' ', '한', '글', '도', ' ', '잘', ' ', '돼', '요', ' ', '!', '!']\n",
      "['8', '번', '째', ' ', '한', '글', '도', ' ', '잘', ' ', '돼', '요', ' ', '!', '!', '\\n']\n",
      "['8', '번', '째', ' ', '한', '글', '도', ' ', '잘', ' ', '돼', '요', ' ', '!', '!']\n",
      "['9', '번', '째', ' ', '한', '글', '도', ' ', '잘', ' ', '돼', '요', ' ', '!', '!', '\\n']\n",
      "['9', '번', '째', ' ', '한', '글', '도', ' ', '잘', ' ', '돼', '요', ' ', '!', '!']\n",
      "['1', '0', '번', '째', ' ', '한', '글', '도', ' ', '잘', ' ', '돼', '요', ' ', '!', '!', '\\n']\n",
      "['1', '0', '번', '째', ' ', '한', '글', '도', ' ', '잘', ' ', '돼', '요', ' ', '!', '!']\n"
     ]
    }
   ],
   "source": [
    "# readlines + strip()   ; 리스트 타입\n",
    "path = \"./testfile/\"\n",
    "f = open(path + \"새파일생성4.txt\",\"r\",encoding=\"utf-8\")\n",
    "for n in lines:\n",
    "    print(list(n))\n",
    "    n = n.strip()    # 내부의 결과도 없어짐~   / \"\\n을 지운다 !!\"\n",
    "    print(list(n))  \n",
    "f.close()"
   ]
  },
  {
   "cell_type": "code",
   "execution_count": 24,
   "id": "dd47f4a1-7c69-42f6-b0e2-c8d4dbe25b56",
   "metadata": {},
   "outputs": [
    {
     "name": "stdout",
     "output_type": "stream",
     "text": [
      "1번째 한글도 잘 돼요 !!\n",
      "\n",
      "2번째 한글도 잘 돼요 !!\n",
      "\n",
      "3번째 한글도 잘 돼요 !!\n",
      "\n",
      "4번째 한글도 잘 돼요 !!\n",
      "\n",
      "5번째 한글도 잘 돼요 !!\n",
      "\n",
      "6번째 한글도 잘 돼요 !!\n",
      "\n",
      "7번째 한글도 잘 돼요 !!\n",
      "\n",
      "8번째 한글도 잘 돼요 !!\n",
      "\n",
      "9번째 한글도 잘 돼요 !!\n",
      "\n",
      "10번째 한글도 잘 돼요 !!\n",
      "\n"
     ]
    }
   ],
   "source": [
    "# for로 출력하기\n",
    "path = \"./testfile/\"\n",
    "with open(path + \"새파일생성4.txt\",\"r\",encoding=\"utf-8\") as f:\n",
    "    for line in f:    \n",
    "        print(line)"
   ]
  },
  {
   "cell_type": "code",
   "execution_count": 76,
   "id": "d2703fc0-4ddd-4ee3-8375-4c4e75b92efc",
   "metadata": {},
   "outputs": [
    {
     "name": "stdout",
     "output_type": "stream",
     "text": [
      "17\n"
     ]
    }
   ],
   "source": [
    "# 테스트\n",
    "f = open(\"파일이름.txt\",'w')\n",
    "f.write('내용작성 zzzzzz 11211')\n",
    "f.close()"
   ]
  },
  {
   "cell_type": "code",
   "execution_count": 88,
   "id": "c690260d-490a-42c2-8583-44e654b4780c",
   "metadata": {},
   "outputs": [
    {
     "name": "stdout",
     "output_type": "stream",
     "text": [
      "1번째 한글도 잘돼요!!!\n",
      "2번째 한글도 잘돼요!!!\n",
      "3번째 한글도 잘돼요!!!\n",
      "4번째 한글도 잘돼요!!!\n",
      "5번째 한글도 잘돼요!!!\n",
      "6번째 한글도 잘돼요!!!\n",
      "7번째 한글도 잘돼요!!!\n",
      "8번째 한글도 잘돼요!!!\n",
      "9번째 한글도 잘돼요!!!\n",
      "10번째 한글도 잘돼요!!!\n",
      " <class 'str'>\n"
     ]
    }
   ],
   "source": [
    "# 3. read 함수 사용하기 -> str 타입\n",
    "path = \"./testfile/\"\n",
    "f = open(path + \"새파일생성4.txt\",\"r\",encoding=\"utf-8\")\n",
    "data = f.read()\n",
    "print(data,type(data))\n",
    "f.close()"
   ]
  },
  {
   "cell_type": "code",
   "execution_count": 26,
   "id": "0fc4a94e-3553-45d4-9cf9-7ae05be073f5",
   "metadata": {},
   "outputs": [
    {
     "name": "stdout",
     "output_type": "stream",
     "text": [
      "1번째 한글도 잘 돼요 !!\n",
      "\n",
      "2번째 한글도 잘 돼요 !!\n",
      "\n",
      "3번째 한글도 잘 돼요 !!\n",
      "\n",
      "4번째 한글도 잘 돼요 !!\n",
      "\n",
      "5번째 한글도 잘 돼요 !!\n",
      "\n",
      "6번째 한글도 잘 돼요 !!\n",
      "\n",
      "7번째 한글도 잘 돼요 !!\n",
      "\n",
      "8번째 한글도 잘 돼요 !!\n",
      "\n",
      "9번째 한글도 잘 돼요 !!\n",
      "\n",
      "10번째 한글도 잘 돼요 !!\n",
      "\n"
     ]
    }
   ],
   "source": [
    "# for로 출력하기\n",
    "path = \"./testfile/\"\n",
    "f = open(path + \"새파일생성4.txt\",\"r\",encoding=\"utf-8\")\n",
    "for line in f:    \n",
    "    print(line)\n",
    "f.close()"
   ]
  },
  {
   "cell_type": "code",
   "execution_count": 24,
   "id": "50902191-3d18-4828-9f3a-a3e5031e03c7",
   "metadata": {},
   "outputs": [
    {
     "name": "stdout",
     "output_type": "stream",
     "text": [
      "1번째 한글도 잘 돼요 !!\n",
      "\n",
      "2번째 한글도 잘 돼요 !!\n",
      "\n",
      "3번째 한글도 잘 돼요 !!\n",
      "\n",
      "4번째 한글도 잘 돼요 !!\n",
      "\n",
      "5번째 한글도 잘 돼요 !!\n",
      "\n",
      "6번째 한글도 잘 돼요 !!\n",
      "\n",
      "7번째 한글도 잘 돼요 !!\n",
      "\n",
      "8번째 한글도 잘 돼요 !!\n",
      "\n",
      "9번째 한글도 잘 돼요 !!\n",
      "\n",
      "10번째 한글도 잘 돼요 !!\n",
      "\n"
     ]
    }
   ],
   "source": [
    "# with 문과 함께 사용하기, 자동 열고, 닫기\n",
    "path = \"./testfile/\"\n",
    "with open(path + \"새파일생성4.txt\",\"r\",encoding=\"utf-8\") as f:\n",
    "    for line in f:    \n",
    "        print(line)"
   ]
  },
  {
   "cell_type": "code",
   "execution_count": 28,
   "id": "8812db06-e8fb-4ade-b627-99fe14879c68",
   "metadata": {},
   "outputs": [],
   "source": [
    "# p 182 예제\n",
    "# \"foo + bar\"\n",
    "# \"file_with.py\"\n",
    "with open(\"foo.txt\",\"w\") as f:\n",
    "    f.write(\"Life is too short, you need python\")"
   ]
  },
  {
   "cell_type": "markdown",
   "id": "9a5a051a-ae31-47fd-99d3-fe92f280b739",
   "metadata": {},
   "source": [
    "## 프로그램의 입출력"
   ]
  },
  {
   "cell_type": "code",
   "execution_count": 32,
   "id": "ae8dd45b-e5ac-48fc-ac9a-0d3f3349c5a2",
   "metadata": {},
   "outputs": [
    {
     "name": "stdout",
     "output_type": "stream",
     "text": [
      "C:\\Users\\Admin\\AppData\\Local\\Programs\\Python\\Python313\\Lib\\site-packages\\ipykernel_launcher.py\n",
      "-f\n",
      "C:\\Users\\Admin\\AppData\\Roaming\\jupyter\\runtime\\kernel-08b16787-c8e7-4f30-bfac-1b8c1c36760c.json\n"
     ]
    }
   ],
   "source": [
    "import sys\n",
    "args = sys.argv\n",
    "for i in args :\n",
    "    print(i)"
   ]
  },
  {
   "attachments": {
    "ce061c62-60ba-4e0c-b7e4-86eb9bb0e364.png": {
     "image/png": "[encoded data removed]"
    }
   },
   "cell_type": "markdown",
   "id": "749eb7a3-2ad1-4404-9181-21ce0ec5f28a",
   "metadata": {},
   "source": [
    "<img src=\"attachment:ce061c62-60ba-4e0c-b7e4-86eb9bb0e364.png\">"
   ]
  },
  {
   "cell_type": "code",
   "execution_count": null,
   "id": "b1804a05-b1b0-4be7-8ae8-d48636f1b262",
   "metadata": {},
   "outputs": [],
   "source": [
    "# 구구단 프로그램을 만들어서 첫번째 인자는 시작값으로\n",
    "  # '2단' 으로 입력하면 2 x 1부터 2x9까지 출력되고\n",
    "  # 두번째 인자는 개수 값으로 4를 입력하면 2단부터 4단까지 출력 된다.\n",
    "  # gugu.py 4 3 ; 4단부터 4,5,6 단 모두 나오게\n",
    "  # gugu.py 6 6 ; 6단부터 6,7,8,9,10,11 단 모두 나오게."
   ]
  },
  {
   "cell_type": "code",
   "execution_count": null,
   "id": "1c83766f-10e0-48be-a73c-462f0887744c",
   "metadata": {},
   "outputs": [],
   "source": [
    "# 풀이 !!!! 크아아아아악\n",
    "def gugu(a,b):              # 미리 함수로 변환할 것 !!!! 크악 이걸 몰랐네\n",
    "    for i in range(a,a+b):\n",
    "        print(f\"==={i}단===\")\n",
    "        for j in range(1,10):\n",
    "            print(f'{i}x{j}={i*j}')\n",
    "gugu(2,2)"
   ]
  },
  {
   "cell_type": "code",
   "execution_count": null,
   "id": "2b4665d8-395b-4561-9422-4ed84992338f",
   "metadata": {},
   "outputs": [],
   "source": [
    "import sys\n",
    "args = sys.argv\n",
    "\n",
    "aa, bb = int(args[1][:-1]), int(args[2])\n",
    "print(aa,type(aa),bb,type(bb))\n",
    "\n",
    "def gugu(a,b):            \n",
    "    for i in range(a,a+b):\n",
    "        print(f\"==={i}단===\")\n",
    "        for j in range(1,10):\n",
    "            print(f'{i}x{j}={i*j}')\n",
    "gugu(aa,bb)"
   ]
  },
  {
   "cell_type": "code",
   "execution_count": 1,
   "id": "47693007-1f41-44ee-97b2-d1b2f8bbee54",
   "metadata": {},
   "outputs": [
    {
     "name": "stdout",
     "output_type": "stream",
     "text": [
      "19\n",
      "삼성전자 : 55,900원\n",
      "17\n",
      "기아 : 94,700원\n"
     ]
    }
   ],
   "source": [
    "import requests as req\n",
    "url = \"https://finance.naver.com/sise/sise_market_sum.naver\"\n",
    "web = req.get(url)\n",
    "html = web.text\n",
    "# print(html)\n",
    "f1 = html.find('삼성전자')\n",
    "f2 = html.find('기아')\n",
    "print(html[f1:f1+100].find('<td class=\"number\">'))\n",
    "print('삼성전자 : '+html[f1:f1+100][19:50].replace('<td class=\"number\">',\"\").replace('</td>',\"\").replace('\\n',\"\")+\"원\")\n",
    "print(html[f2:f2+100].find('<td class=\"number\">'))\n",
    "print('기아 : '+html[f2:f2+100][17:50].replace('<td class=\"number\">',\"\").replace('</td>',\"\").replace('\\n',\"\").replace('\\t',\"\")+\"원\")"
   ]
  },
  {
   "cell_type": "code",
   "execution_count": 19,
   "id": "b7d80c62-4807-4056-b959-60383b5d4df7",
   "metadata": {},
   "outputs": [
    {
     "name": "stdout",
     "output_type": "stream",
     "text": [
      "21\n",
      "SK하이닉스 : 196,100원\n",
      "18\n",
      "카카오 : 42,150원\n"
     ]
    }
   ],
   "source": [
    "import requests as req\n",
    "url = \"https://finance.naver.com/sise/sise_market_sum.naver\"\n",
    "web = req.get(url)\n",
    "html = web.text\n",
    "# print(html)\n",
    "f1 = html.find('SK하이닉스')\n",
    "f2 = html.find('카카오')\n",
    "print(html[f1:f1+150].find('<td class=\"number\">'))\n",
    "print('SK하이닉스 : '+html[f1:f1+100][19:47].replace('\\t\\t',\"\").replace('<td class=\"number\">',\"\")+\"원\")\n",
    "print(html[f2:f2+100].find('<td class=\"number\">'))\n",
    "print('카카오 : '+html[f2:f2+100][17:50].replace('<td class=\"number\">',\"\").replace('</td>',\"\").replace('\\n',\"\").replace('\\t',\"\")+\"원\")"
   ]
  },
  {
   "cell_type": "code",
   "execution_count": 39,
   "id": "f462d687-d5a1-4e7b-a111-bac1b50a0723",
   "metadata": {},
   "outputs": [
    {
     "name": "stdout",
     "output_type": "stream",
     "text": [
      "카카오 : 41,650d>원\n"
     ]
    }
   ],
   "source": [
    "import requests as req\n",
    "url = \"https://finance.naver.com/sise/sise_market_sum.naver\"\n",
    "web = req.get(url)\n",
    "html = web.text\n",
    "\n",
    "def stock(a):\n",
    "    fa = html.find(a)\n",
    "    fb = html[fa:fa+200].find('<td class=\"number\">')\n",
    "    print(f'{a} : {html[fa:fa+200][fb:49].replace('<td class=\"number\">',\"\").replace('</t',\"\").replace('\\n',\"\")}원')\n",
    "stock('카카오')"
   ]
  }
 ],
 "metadata": {
  "kernelspec": {
   "display_name": "Python 3 (ipykernel)",
   "language": "python",
   "name": "python3"
  },
  "language_info": {
   "codemirror_mode": {
    "name": "ipython",
    "version": 3
   },
   "file_extension": ".py",
   "mimetype": "text/x-python",
   "name": "python",
   "nbconvert_exporter": "python",
   "pygments_lexer": "ipython3",
   "version": "3.13.1"
  }
 },
 "nbformat": 4,
 "nbformat_minor": 5
}
