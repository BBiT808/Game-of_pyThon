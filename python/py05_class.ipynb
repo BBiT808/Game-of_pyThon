{
 "cells": [
  {
   "cell_type": "markdown",
   "id": "5d9617f7-b884-4513-ac63-8f667b619c87",
   "metadata": {},
   "source": [
    "# 클래스"
   ]
  },
  {
   "cell_type": "markdown",
   "id": "527450f8-5b64-4104-8ca8-a94087eaa10c",
   "metadata": {},
   "source": [
    "## 클래스 기본"
   ]
  },
  {
   "cell_type": "code",
   "execution_count": null,
   "id": "7a911995-c98a-42ff-b28b-2f793b2813ef",
   "metadata": {},
   "outputs": [],
   "source": [
    "# 20250212 8번째 수업 !! 벌써 8번째라고 ??!!!"
   ]
  },
  {
   "cell_type": "code",
   "execution_count": 1,
   "id": "b68c6283-e05d-4564-8273-82b60f60315c",
   "metadata": {},
   "outputs": [
    {
     "name": "stdout",
     "output_type": "stream",
     "text": [
      "[1, 2, 3, 4] <class 'list'>\n"
     ]
    }
   ],
   "source": [
    "what1 = [1,2,3,4]     # 리스트    : 기능을 아예 가지고 태어남\n",
    "what2 = ['a','b','c']     # 담고 있는 값은 다르지만 기능은 같다 !\n",
    "who = 11,22,33,44    # 튜플      : 리스트보다는 기능이 적지만 . .\n",
    "print(what,type(what))"
   ]
  },
  {
   "cell_type": "code",
   "execution_count": null,
   "id": "0a7fa2a9-4b54-4116-9cb9-bdbaa07bcea4",
   "metadata": {},
   "outputs": [],
   "source": [
    "dir(list)"
   ]
  },
  {
   "cell_type": "code",
   "execution_count": null,
   "id": "90c8b49b-a856-4d45-876c-e3a7f7f37392",
   "metadata": {},
   "outputs": [],
   "source": [
    "dir(tuple)    # list보다 기능이 작아짐 !!"
   ]
  },
  {
   "cell_type": "code",
   "execution_count": 47,
   "id": "66234f3e-53ae-46f1-82a7-768cdcc969ef",
   "metadata": {},
   "outputs": [
    {
     "name": "stdout",
     "output_type": "stream",
     "text": [
      "1: 1\n",
      "1: 2\n",
      "2: 1\n",
      "2: 2\n",
      "1: 3\n",
      "2: 3\n",
      "1: 4\n",
      "2: 4\n"
     ]
    }
   ],
   "source": [
    "# 함수로 구성\n",
    "result1 = 0\n",
    "result2 = 0\n",
    "def add1(num):\n",
    "    global result1     # global 함수는 되도록 쓰지 말자 ~\n",
    "    result1 += num     # 결괏값(result)에 입력값(num) 더하기\n",
    "    return result1    # 결괏값 리턴\n",
    "def add2(num):\n",
    "    global result2\n",
    "    result2 += num\n",
    "    return result2\n",
    "print('1:',add1(1))\n",
    "print('1:',add1(1))\n",
    "print('2:',add2(1))\n",
    "print('2:',add2(1))\n",
    "print('1:',add1(1))\n",
    "print('2:',add2(1))\n",
    "print('1:',add1(1))\n",
    "print('2:',add2(1))"
   ]
  },
  {
   "cell_type": "markdown",
   "id": "46971834-2419-43dd-8b79-8b5e1cf06269",
   "metadata": {},
   "source": [
    "클래스 (Class) :  클래스는 객체의 설계도나 청사진과 같은 개념입니다. 속성과 메서드를 정의하여 \n",
    "                  객체의 구조와 동작을 설명합니다.\n",
    "\n",
    "인스턴스 (Instance) : 클래스에 정의된 속성과 메서드를 바탕으로 생성된 실제 객체를 인스턴스라고 합니다. \n",
    "                      즉, 클래스의 구체적인 구현물입니다."
   ]
  },
  {
   "cell_type": "code",
   "execution_count": 48,
   "id": "b7a73368-2d3f-4293-9b9a-1542b2e05f58",
   "metadata": {},
   "outputs": [
    {
     "name": "stdout",
     "output_type": "stream",
     "text": [
      "3\n",
      "7\n",
      "3\n",
      "10\n"
     ]
    }
   ],
   "source": [
    "# 클래스 구성\n",
    "class Calculator :      #  함수들의 집합이 함수 자체와 이름이 같아서는 안 된다 ! (대문자 포함 ~)\n",
    "    def __init__(self):\n",
    "        self.result = 0  #  함수의 내부에서만 사용됨 !!\n",
    "    def add(self,num):        # 클래스 안의 함수는 method라 표현 됨 !!\n",
    "        self.result += num     \n",
    "        return self.result          # 붕어빵틀 같은 ~ ㅇ0ㅇ (제조할 때 넣는 속만 바꾸면 되니까~)\n",
    "\n",
    "cal1 = Calculator()    # [1,2,3,4,5]\n",
    "cal2 = Calculator()    # ['a','b']\n",
    "print(cal1.add(3))\n",
    "print(cal1.add(4))\n",
    "print(cal2.add(3))\n",
    "print(cal2.add(7))"
   ]
  },
  {
   "cell_type": "code",
   "execution_count": 49,
   "id": "31f5f4ab-2507-4c28-8fbb-570c2f922bf9",
   "metadata": {},
   "outputs": [
    {
     "name": "stdout",
     "output_type": "stream",
     "text": [
      "1\n",
      "3\n",
      "6\n",
      "10\n",
      "15\n",
      "3\n",
      "4\n",
      "5\n",
      "6\n"
     ]
    }
   ],
   "source": [
    "class Cals :\n",
    "    def __init__(self):\n",
    "        self.result = 0\n",
    "    def add(self,num):\n",
    "        self.result += num\n",
    "        return self.result\n",
    "\n",
    "cal1 = Cals()\n",
    "cal2 = Cals()\n",
    "cal3 = Cals()\n",
    "cal4 = Cals()\n",
    "cal5 = Cals()\n",
    "print(cal1.add(1))\n",
    "print(cal1.add(2))\n",
    "print(cal1.add(3))\n",
    "print(cal1.add(4))\n",
    "print(cal1.add(5))\n",
    "print(cal2.add(3))\n",
    "print(cal3.add(4))\n",
    "print(cal4.add(5))\n",
    "print(cal5.add(6))"
   ]
  },
  {
   "cell_type": "code",
   "execution_count": 22,
   "id": "5e6ac28e-5626-4924-9664-cb31f270b3d6",
   "metadata": {},
   "outputs": [
    {
     "name": "stdout",
     "output_type": "stream",
     "text": [
      "1 : 1\n",
      "2 : 1\n",
      "2 : 2\n",
      "1 : 2\n",
      "2 : 3\n",
      "1 : 3\n",
      "2 : 4 \n",
      "\n",
      "1 : 2\n",
      "2 : 3\n",
      "2 : 2\n",
      "1 : 1\n",
      "2 : 1\n",
      "2 : 0\n",
      "1 : 0\n"
     ]
    }
   ],
   "source": [
    "class Calcus:\n",
    "    def __init__(self):\n",
    "        self.result = 0\n",
    "    def add(self,num):\n",
    "        self.result += num\n",
    "        return self.result\n",
    "    def sub(self,num):\n",
    "        self.result -= num\n",
    "        return self.result\n",
    "\n",
    "#인스턴스화\n",
    "cal1 = Calcus()\n",
    "cal2 = Calcus()\n",
    "print('1 :', cal1.add(1))\n",
    "print('2 :', cal2.add(1))\n",
    "print('2 :', cal2.add(1))\n",
    "print('1 :', cal1.add(1))\n",
    "print('2 :', cal2.add(1))\n",
    "print('1 :', cal1.add(1))\n",
    "print('2 :', cal2.add(1),'\\n')\n",
    "\n",
    "print('1 :', cal1.sub(1))\n",
    "print('2 :', cal2.sub(1))\n",
    "print('2 :', cal2.sub(1))\n",
    "print('1 :', cal1.sub(1))\n",
    "print('2 :', cal2.sub(1))\n",
    "print('2 :', cal2.sub(1))\n",
    "print('1 :', cal1.sub(1))"
   ]
  },
  {
   "cell_type": "markdown",
   "id": "8e035e23-3786-45e1-b518-8f8ce3597f26",
   "metadata": {},
   "source": [
    "## 생성자"
   ]
  },
  {
   "cell_type": "code",
   "execution_count": 50,
   "id": "b71b57c7-2b45-4d58-87c5-457950f980f6",
   "metadata": {},
   "outputs": [],
   "source": [
    "# 예제 1\n",
    "class Dduk:\n",
    "    def __init__(self, won, ea):     # 초기의 뜻을 가지고 있다.\n",
    "        self.won = won     # 관례적으로 헷갈리지 않기 위해 이름을 똑같이 씀 !!\n",
    "        self.ea = ea\n",
    "    def dduk(self):\n",
    "        result = self.won * self.ea\n",
    "        print(f\"배가 고파서 떡볶이집에서 떡볶이를 {result}원어치 먹었다.\")\n",
    "    def odeng(self):\n",
    "        result = self.won * 2 * self.ea\n",
    "        print(f\"배가 고파서 떡볶이집에서 오뎅을 {result}원어치 먹었다.\")"
   ]
  },
  {
   "cell_type": "code",
   "execution_count": 25,
   "id": "acbcbc98-ddaa-4b5a-a998-17ade6946dd0",
   "metadata": {},
   "outputs": [],
   "source": [
    "성훈 = Dduk(2000,3)\n",
    "희성 = Dduk(3000,2)\n",
    "기윤 = Dduk(1500,6)"
   ]
  },
  {
   "cell_type": "code",
   "execution_count": 30,
   "id": "59521613-48f8-4b23-8b21-6ee3b7bec94e",
   "metadata": {},
   "outputs": [
    {
     "name": "stdout",
     "output_type": "stream",
     "text": [
      "배가 고파서 떡볶이집에서 떡볶이를 6000원어치 먹었다.\n",
      "배가 고파서 떡볶이집에서 오뎅을 12000원어치 먹었다.\n"
     ]
    }
   ],
   "source": [
    "성훈.dduk()\n",
    "성훈.odeng()"
   ]
  },
  {
   "cell_type": "code",
   "execution_count": 31,
   "id": "119a1822-c011-48e4-90b2-dab54e730db3",
   "metadata": {},
   "outputs": [
    {
     "name": "stdout",
     "output_type": "stream",
     "text": [
      "배가 고파서 떡볶이집에서 떡볶이를 6000원어치 먹었다.\n",
      "배가 고파서 떡볶이집에서 오뎅을 12000원어치 먹었다.\n"
     ]
    }
   ],
   "source": [
    "희성.dduk()\n",
    "희성.odeng()"
   ]
  },
  {
   "cell_type": "code",
   "execution_count": 32,
   "id": "c2f13c2b-d291-45b7-818d-c27849eeaa85",
   "metadata": {},
   "outputs": [
    {
     "name": "stdout",
     "output_type": "stream",
     "text": [
      "배가 고파서 떡볶이집에서 떡볶이를 9000원어치 먹었다.\n",
      "배가 고파서 떡볶이집에서 오뎅을 18000원어치 먹었다.\n"
     ]
    }
   ],
   "source": [
    "기윤.dduk()\n",
    "기윤.odeng()"
   ]
  },
  {
   "cell_type": "code",
   "execution_count": 42,
   "id": "594bc3a2-a98a-499d-847a-d7edf1fde2d2",
   "metadata": {},
   "outputs": [],
   "source": [
    "성훈.__init__(3300,2)"
   ]
  },
  {
   "cell_type": "code",
   "execution_count": 43,
   "id": "0178c405-b6ff-4cb3-93d0-15d73d064876",
   "metadata": {},
   "outputs": [
    {
     "name": "stdout",
     "output_type": "stream",
     "text": [
      "배가 고파서 떡볶이집에서 떡볶이를 6600원어치 먹었다.\n",
      "배가 고파서 떡볶이집에서 오뎅을 13200원어치 먹었다.\n"
     ]
    }
   ],
   "source": [
    "성훈.dduk()\n",
    "성훈.odeng()"
   ]
  },
  {
   "cell_type": "code",
   "execution_count": null,
   "id": "aa2166ba-f3db-4d77-8715-a18bb8744a76",
   "metadata": {},
   "outputs": [],
   "source": [
    "# sundae / 길동.Duck(먹고싶은만큼, )\n",
    "# 길동.__init__( , )"
   ]
  },
  {
   "cell_type": "code",
   "execution_count": 34,
   "id": "d0275e68-b302-4cc6-bee4-3a6385c8ec56",
   "metadata": {},
   "outputs": [],
   "source": [
    "class Dduk:\n",
    "    def __init__(self, won, ea):     # 초기의 뜻을 가지고 있다.\n",
    "        self.won = won\n",
    "        self.ea = ea\n",
    "    def dduk(self):\n",
    "        result = self.won * self.ea\n",
    "        print(f\"배가 고파서 떡볶이집에서 떡볶이를 {result}원어치 먹었다.\")\n",
    "    def odeng(self):\n",
    "        result = self.won * 2 * self.ea\n",
    "        print(f\"배가 고파서 떡볶이집에서 오뎅을 {result}원어치 먹었다.\")\n",
    "    def sundae(self):\n",
    "        result = self.won * self.ea\n",
    "        print(f\"배가 고파서 떡볶이집에서 순대를 {result}원어치 먹었다.\")"
   ]
  },
  {
   "cell_type": "code",
   "execution_count": 39,
   "id": "0e61ffb6-4b6b-4071-812a-f651f6a97399",
   "metadata": {},
   "outputs": [],
   "source": [
    "은희 = Dduk(5000,3)"
   ]
  },
  {
   "cell_type": "code",
   "execution_count": 40,
   "id": "042a5626-d798-4943-93de-4f8e730d2386",
   "metadata": {},
   "outputs": [
    {
     "name": "stdout",
     "output_type": "stream",
     "text": [
      "배가 고파서 떡볶이집에서 떡볶이를 15000원어치 먹었다.\n",
      "배가 고파서 떡볶이집에서 오뎅을 30000원어치 먹었다.\n",
      "배가 고파서 떡볶이집에서 순대를 15000원어치 먹었다.\n"
     ]
    }
   ],
   "source": [
    "은희.dduk()\n",
    "은희.odeng()\n",
    "은희.sundae()"
   ]
  },
  {
   "cell_type": "code",
   "execution_count": 44,
   "id": "8857344f-5992-4ff3-aa80-3f320b516d60",
   "metadata": {},
   "outputs": [],
   "source": [
    "은희.__init__(5500,2)"
   ]
  },
  {
   "cell_type": "code",
   "execution_count": 45,
   "id": "e7b8283d-cdd0-4a8b-8e09-9b736ad091f8",
   "metadata": {},
   "outputs": [
    {
     "name": "stdout",
     "output_type": "stream",
     "text": [
      "배가 고파서 떡볶이집에서 떡볶이를 11000원어치 먹었다.\n",
      "배가 고파서 떡볶이집에서 오뎅을 22000원어치 먹었다.\n",
      "배가 고파서 떡볶이집에서 순대를 11000원어치 먹었다.\n"
     ]
    }
   ],
   "source": [
    "은희.dduk()\n",
    "은희.odeng()\n",
    "은희.sundae()"
   ]
  },
  {
   "cell_type": "markdown",
   "id": "59606cce-38e5-4809-81fb-5e558773d7bb",
   "metadata": {},
   "source": [
    "## 예제들"
   ]
  },
  {
   "cell_type": "code",
   "execution_count": 65,
   "id": "87421f56-b6d5-4494-8007-de500850478b",
   "metadata": {},
   "outputs": [
    {
     "name": "stdout",
     "output_type": "stream",
     "text": [
      "방가방가 저는 고전 인사입니다 !!\n",
      "=+==+==+==+==+==+==+==+==+==+==+==+==+==+==+==+==+==+==+==+=\n",
      "\n",
      "이것은 예로부터 전해 오는 .. 고전 인사함수 입니다.\n",
      "\n",
      "=+==+==+==+==+==+==+==+==+==+==+==+==+==+==+==+==+==+==+==+=\n",
      "Help on function test in module __main__:\n",
      "\n",
      "test()\n",
      "    이것은 예로부터 전해 오는 .. 고전 인사함수 입니다.\n",
      "\n"
     ]
    }
   ],
   "source": [
    "# 테스트 1\n",
    "def test():\n",
    "    # ↆↆ 함수 내부에서 설명을 하는 아이 ~ ; DocString\n",
    "    \"\"\"    \n",
    "    이것은 예로부터 전해 오는 .. 고전 인사함수 입니다.\n",
    "    \"\"\"\n",
    "    print(\"방가방가 저는 고전 인사입니다 !!\")\n",
    "test()\n",
    "print(\"=+=\"*20)\n",
    "print(test.__doc__)   # ;  t설명서를 볼 수 있다 !! 헉 신기해~\n",
    "print(\"=+=\"*20)\n",
    "help(test)"
   ]
  },
  {
   "cell_type": "code",
   "execution_count": null,
   "id": "d8e91abc-0991-468d-9ba6-4b9f77a272d7",
   "metadata": {},
   "outputs": [],
   "source": [
    "dir(test)"
   ]
  },
  {
   "cell_type": "code",
   "execution_count": 76,
   "id": "709f9f28-849b-450e-aece-f92ae840858e",
   "metadata": {},
   "outputs": [],
   "source": [
    "# 테스트 2\n",
    "# class의 self 없이 함수 만들기  ; 함수 안에 함수 넣기 ~!\n",
    "def set_car(name, color):\n",
    "    return {\"name\":name,\"color\":color}\n",
    "\n",
    "def get_car_info(car):\n",
    "    return f\"Car : {car['name']}, Color : {car['color']}\""
   ]
  },
  {
   "cell_type": "code",
   "execution_count": 79,
   "id": "998a9388-046e-4a0f-950d-a950ddbfb129",
   "metadata": {},
   "outputs": [
    {
     "name": "stdout",
     "output_type": "stream",
     "text": [
      "{'name': 'HD', 'color': 'Blue'}\n",
      "Car : HD, Color : Blue\n"
     ]
    }
   ],
   "source": [
    "# 자동차글 생성\n",
    "Car = set_car(\"HD\",\"Blue\")\n",
    "print(Car)\n",
    "# 자동차 정보를 생성\n",
    "print(get_car_info(Car))"
   ]
  },
  {
   "cell_type": "code",
   "execution_count": 80,
   "id": "208a048a-c4c3-4a60-9471-48122e2572be",
   "metadata": {},
   "outputs": [
    {
     "name": "stdout",
     "output_type": "stream",
     "text": [
      "Car : Kia, Color : White\n"
     ]
    }
   ],
   "source": [
    "print(get_car_info(set_car(\"Kia\",\"White\")))"
   ]
  },
  {
   "cell_type": "code",
   "execution_count": 120,
   "id": "405b51a6-529b-469f-bd4a-2ecc686c90cc",
   "metadata": {},
   "outputs": [
    {
     "name": "stdout",
     "output_type": "stream",
     "text": [
      "Car : HD, Color : Yellow\n",
      "Car : Kia, Color : Black\n"
     ]
    }
   ],
   "source": [
    "# 테스트 3\n",
    "class Car:\n",
    "    def set_car(name, color):\n",
    "        return {\"name\":name,\"color\":color}\n",
    "    def get_car_info(car):\n",
    "        return f\"Car : {car['name']}, Color : {car['color']}\"\n",
    "\n",
    "car1 = Car.set_car(\"HD\",\"Yellow\")\n",
    "car2 = Car.set_car(\"Kia\",\"Black\")\n",
    "print(Car.get_car_info(car1))\n",
    "print(Car.get_car_info(car2))"
   ]
  },
  {
   "cell_type": "code",
   "execution_count": 1,
   "id": "474aac68-765e-4e34-85fb-cd4bdd26ec59",
   "metadata": {},
   "outputs": [
    {
     "name": "stdout",
     "output_type": "stream",
     "text": [
      "Car : HD, Color : Black\n",
      "Car : Kia, Color : Silver\n"
     ]
    }
   ],
   "source": [
    "# 테스트 4\n",
    "class Car:\n",
    "    def __init__(self,name,color): # 생성자\n",
    "        self.name = name\n",
    "        self.color = color\n",
    "    def get_car_info(self):\n",
    "        return f\"Car : {self.name}, Color : {self.color}\"\n",
    "\n",
    "car1 = Car(\"HD\",\"Black\")\n",
    "car2 = Car(\"Kia\",\"Silver\")\n",
    "\n",
    "print(car1.get_car_info())\n",
    "print(car2.get_car_info())"
   ]
  },
  {
   "cell_type": "code",
   "execution_count": 2,
   "id": "6f026feb-419d-486c-83ad-b6dff1385f6d",
   "metadata": {},
   "outputs": [],
   "source": [
    "# 테스트 5\n",
    "class Car:\n",
    "    def __init__(self,name,color): # 생성자\n",
    "        self.name = name\n",
    "        self.color = color\n",
    "        self.speed = 0     # 내부에서 쓸 변수  ; 초기값 0\n",
    "    def get_car_info(self):\n",
    "        return f\"Car : {self.name}, Color : {self.color}\"\n",
    "    def acc(self, amount):   # self는 무조건 전달자로써 넣어줘야 한다 !!!\n",
    "        self.speed += amount   # 속도가 증가\n",
    "        return f\"🚨{self.color}색 {self.name}차 속도 올려요🚨. 현재 속도는 {self.speed}km/h !\""
   ]
  },
  {
   "cell_type": "code",
   "execution_count": 3,
   "id": "ad9651cb-c423-4c21-8391-683c164e3b5a",
   "metadata": {},
   "outputs": [
    {
     "name": "stdout",
     "output_type": "stream",
     "text": [
      "Car : HD, Color : Black\n",
      "Car : Kia, Color : Silver\n"
     ]
    }
   ],
   "source": [
    "car1 = Car(\"HD\",\"Black\")\n",
    "car2 = Car(\"Kia\",\"Silver\")\n",
    "print(car1.get_car_info())\n",
    "print(car2.get_car_info())"
   ]
  },
  {
   "cell_type": "code",
   "execution_count": 181,
   "id": "869dfcbd-dbeb-4fda-abff-530605b2f615",
   "metadata": {},
   "outputs": [
    {
     "name": "stdout",
     "output_type": "stream",
     "text": [
      "🚨Black색 HD차 속도 올려요🚨. 현재 속도는 30km/h !\n",
      "🚨Silver색 Kia차 속도 올려요🚨. 현재 속도는 50km/h !\n"
     ]
    }
   ],
   "source": [
    "print(car1.acc(30))\n",
    "print(car2.acc(50))"
   ]
  },
  {
   "cell_type": "code",
   "execution_count": 182,
   "id": "a90f94c9-2185-4f4c-815a-77b3603a9fda",
   "metadata": {},
   "outputs": [
    {
     "name": "stdout",
     "output_type": "stream",
     "text": [
      "🚨Black색 HD차 속도 올려요🚨. 현재 속도는 40km/h !\n",
      "가속 페달 밟는 중 . . 🚗💨\n",
      "🚨Black색 HD차 속도 올려요🚨. 현재 속도는 50km/h !\n",
      "가속 페달 밟는 중 . . 🚗💨\n",
      "🚨Black색 HD차 속도 올려요🚨. 현재 속도는 60km/h !\n",
      "가속 페달 밟는 중 . . 🚗💨\n",
      "🚨Black색 HD차 속도 올려요🚨. 현재 속도는 70km/h !\n",
      "가속 페달 밟는 중 . . 🚗💨\n",
      "🚨Black색 HD차 속도 올려요🚨. 현재 속도는 80km/h !\n",
      "가속 페달 밟는 중 . . 🚗💨\n",
      "90Km/h 속도 유지중. . . 😎\n"
     ]
    }
   ],
   "source": [
    "# 테스트 연습\n",
    "import time as t\n",
    "for n in range(5):\n",
    "    print(car1.acc(10))\n",
    "    t.sleep(1)\n",
    "    print(\"가속 페달 밟는 중 . . 🚗💨\")\n",
    "    t.sleep(1)\n",
    "print(\"90Km/h 속도 유지중. . . 😎\")"
   ]
  },
  {
   "cell_type": "code",
   "execution_count": 6,
   "id": "08f1e803-c1c8-40d7-a7ad-393b35b8920e",
   "metadata": {},
   "outputs": [],
   "source": [
    "# 테스트 6 상속 !!\n",
    "class Mycar(Car):    # Car의 기능을 '상속'받아서 새로운 class의 Mycar 함수가 만들어졌다 !\n",
    "    def turbo(self):\n",
    "        self.speed += 50\n",
    "        print(f'부스터 !!! {self.speed}km/h')\n",
    "    def acc(self):\n",
    "        self.speed += 30   # 속도가 증가\n",
    "        return f\"{self.name}의 속도 {self.speed}km/h!\""
   ]
  },
  {
   "cell_type": "code",
   "execution_count": 7,
   "id": "13541619-72a7-4050-8a74-ab4d857b699c",
   "metadata": {},
   "outputs": [
    {
     "name": "stdout",
     "output_type": "stream",
     "text": [
      "🚨Gray색 Kia차 속도 올려요🚨. 현재 속도는 10km/h !\n",
      "my car의 속도 30km/h!\n"
     ]
    }
   ],
   "source": [
    "my = Mycar(\"my car\",\"hot pink\")\n",
    "car0 = Car(\"Kia\",\"Gray\")\n",
    "print(car0.acc(10))\n",
    "print(my.acc())"
   ]
  },
  {
   "cell_type": "code",
   "execution_count": 8,
   "id": "affdf52b-a044-4e6c-9583-be96c576b665",
   "metadata": {},
   "outputs": [
    {
     "name": "stdout",
     "output_type": "stream",
     "text": [
      "부스터 !!! 80km/h\n",
      "None\n",
      "부스터 !!! 130km/h\n",
      "None\n"
     ]
    }
   ],
   "source": [
    "print(my.turbo())\n",
    "print(my.turbo())"
   ]
  },
  {
   "cell_type": "markdown",
   "id": "9ec53462-4c51-468c-a7cc-5ca4aedc72a5",
   "metadata": {},
   "source": [
    "- 객체(object) 지향(object-Oriented) 프로그래밍(OOP)\n",
    "  : 객체를 만들어서 . . (self가 들어가야 객체 지향에 가까움); class가 기반!\n",
    "- 객체 지향의 핵심 4가지 ! : 캡슐화, 상속, 다형성, 클래스와 객체\n",
    "  * 장점 : 코드의 재사용성, 유지보수가 용이, 쉬운 작성(효율성 good)\n",
    " \n",
    "    cf) 클래스 : class Car / 객체 : car1 = Car(\"HD\",\"Blue\") / 다형성 : acc() 사용한 것(같은 이름이지만 기능이 다른 것)\n",
    "        상속 : Mycar가 Car의 기능을 상속 / 캡슐화 : __speed = 0 ; 외부에서 직접 접근 못함 cf) __init__는 수정 가능 ~\n",
    "\n",
    "____________________________________________________________________________\n",
    "\n",
    "- 인스턴스"
   ]
  },
  {
   "cell_type": "code",
   "execution_count": 244,
   "id": "3e8fa9fa-29be-49b5-9b66-f3c985942a1f",
   "metadata": {},
   "outputs": [],
   "source": [
    "# 테스트 7\n",
    "class Pet:\n",
    "    def __init__(self,name,species):\n",
    "        \"\"\" 펫을 생성 \"\"\"\n",
    "        self.name = name\n",
    "        self.species = species\n",
    "        self.hunger = 50    # 초기 배고픔 수치 (0~100)\n",
    "        \n",
    "    def feed(self):\n",
    "        \"\"\" 밥을 주면 배고픔 감소 \"\"\"\n",
    "        if self.hunger > 80:\n",
    "            print(f\"===== ⚠️ {self.name}는 배가 많이 고파 보입니다. 밥을 주세요 ! =====\\n\")\n",
    "        if self.hunger > 10:\n",
    "            self.hunger -= 10\n",
    "            return f\"{self.name}에게 밥을 줬습니다. ! 우리 {self.name}는 밥도 잘 먹어요 ~ 배고픔:{self.hunger}\\n\"\n",
    "    def play(self):\n",
    "        \"\"\" 놀아주면 배고픔이 증가 \"\"\"\n",
    "        if self.hunger > 80:\n",
    "            print(f\"===== ⚠️ {self.name}는 배가 많이 고파 보입니다. 밥을 주세요 ! =====\\n\")\n",
    "        if self.hunger < 80:\n",
    "            self.hunger += 20\n",
    "        return f\"{self.name}와 아주 잘 놀아줬어요 ! {self.name}는 기뻐 보입니다 ! 배고픔:{self.hunger}\\n\"\n",
    "        \n",
    "        \n",
    "        "
   ]
  },
  {
   "cell_type": "code",
   "execution_count": 245,
   "id": "b2307a47-e1ed-4d03-9617-7f3afc180751",
   "metadata": {},
   "outputs": [
    {
     "name": "stdout",
     "output_type": "stream",
     "text": [
      "옆집 뽀삐🐶에게 밥을 줬습니다. ! 우리 옆집 뽀삐🐶는 밥도 잘 먹어요 ~ 배고픔:40\n",
      "\n",
      "옆집 뽀삐🐶에게 밥을 줬습니다. ! 우리 옆집 뽀삐🐶는 밥도 잘 먹어요 ~ 배고픔:30\n",
      "\n",
      "아지🐕와 아주 잘 놀아줬어요 ! 아지🐕는 기뻐 보입니다 ! 배고픔:70\n",
      "\n",
      "아지🐕와 아주 잘 놀아줬어요 ! 아지🐕는 기뻐 보입니다 ! 배고픔:90\n",
      "\n",
      "===== ⚠️ 아지🐕는 배가 많이 고파 보입니다. 밥을 주세요 ! =====\n",
      "\n",
      "아지🐕와 아주 잘 놀아줬어요 ! 아지🐕는 기뻐 보입니다 ! 배고픔:90\n",
      "\n",
      "옆집 뽀삐🐶와 아주 잘 놀아줬어요 ! 옆집 뽀삐🐶는 기뻐 보입니다 ! 배고픔:50\n",
      "\n",
      "옆집 뽀삐🐶와 아주 잘 놀아줬어요 ! 옆집 뽀삐🐶는 기뻐 보입니다 ! 배고픔:70\n",
      "\n",
      "컁이🐱에게 밥을 줬습니다. ! 우리 컁이🐱는 밥도 잘 먹어요 ~ 배고픔:40\n",
      "\n",
      "컁이🐱와 아주 잘 놀아줬어요 ! 컁이🐱는 기뻐 보입니다 ! 배고픔:60\n",
      "\n",
      "컁이🐱와 아주 잘 놀아줬어요 ! 컁이🐱는 기뻐 보입니다 ! 배고픔:80\n",
      "\n",
      "컁이🐱와 아주 잘 놀아줬어요 ! 컁이🐱는 기뻐 보입니다 ! 배고픔:80\n",
      "\n",
      "컁이🐱에게 밥을 줬습니다. ! 우리 컁이🐱는 밥도 잘 먹어요 ~ 배고픔:70\n",
      "\n",
      "컁이🐱에게 밥을 줬습니다. ! 우리 컁이🐱는 밥도 잘 먹어요 ~ 배고픔:60\n",
      "\n",
      "컁이🐱에게 밥을 줬습니다. ! 우리 컁이🐱는 밥도 잘 먹어요 ~ 배고픔:50\n",
      "\n"
     ]
    }
   ],
   "source": [
    "# 펫 생성\n",
    "dog1 = Pet(\"옆집 뽀삐🐶\",\"말티즈\")\n",
    "dog2 = Pet(\"아지🐕\",\"육구싯타리아\")\n",
    "cat1 = Pet(\"컁이🐱\",\"메인쿤\")\n",
    "print(dog1.feed())\n",
    "print(dog1.feed())\n",
    "print(dog2.play())\n",
    "print(dog2.play())\n",
    "print(dog2.play())\n",
    "print(dog1.play())\n",
    "print(dog1.play())\n",
    "print(cat1.feed())\n",
    "print(cat1.play())\n",
    "print(cat1.play())\n",
    "print(cat1.play())\n",
    "print(cat1.feed())\n",
    "print(cat1.feed())\n",
    "print(cat1.feed())"
   ]
  },
  {
   "cell_type": "code",
   "execution_count": 295,
   "id": "16cf6724-a636-4c7d-841d-0439df9d0302",
   "metadata": {},
   "outputs": [],
   "source": [
    "class Bacteria:\n",
    "    def __init__(self,initial_population,growth_rate):\n",
    "        \"\"\" 세균 초기화 \"\"\"\n",
    "        self.population = initial_population\n",
    "        self.growth_rate = growth_rate\n",
    "        self.time = 0    #시작시간\n",
    "    def grow(self,hours):\n",
    "        \"\"\" 일정 시간이 지나면 세균이 증식함 \"\"\"\n",
    "        self.time = hours\n",
    "        self.population *= self.growth_rate**hours\n",
    "        return f\"{self.time} 시간 후 세균 수 : {int(self.population)} 마리\"\n",
    "    def check(self):\n",
    "        \"\"\" 현재 세균 수 확인 \"\"\"\n",
    "        return f\"현재 세균 수 : {int(self.population)} 마리\""
   ]
  },
  {
   "cell_type": "code",
   "execution_count": 296,
   "id": "abe5d387-acff-43e5-a750-cdaafe7470ad",
   "metadata": {},
   "outputs": [],
   "source": [
    "bacteria = Bacteria(100,2)"
   ]
  },
  {
   "cell_type": "code",
   "execution_count": 297,
   "id": "235f0cf4-c535-4484-8283-bd1a38d46f15",
   "metadata": {},
   "outputs": [
    {
     "name": "stdout",
     "output_type": "stream",
     "text": [
      "1 시간 후 세균 수 : 200 마리\n",
      "2 시간 후 세균 수 : 800 마리\n",
      "3 시간 후 세균 수 : 6400 마리\n"
     ]
    }
   ],
   "source": [
    "print(bacteria.grow(1))\n",
    "print(bacteria.grow(2))\n",
    "print(bacteria.grow(3))"
   ]
  },
  {
   "cell_type": "code",
   "execution_count": null,
   "id": "d82ff130-a8d1-438e-b1ea-d54e0e7f2c98",
   "metadata": {},
   "outputs": [],
   "source": [
    "# 테스트 9 은행예금 캡슐화 예제, 클래스 변수 ; 캡슐화 안 됨 !\n",
    "class BankAccount:   # 단어가 연결이 되면 마디에 대문자를 쓰거나, 하이픈(-)으로 연결하기도 한다 !\n",
    "    interest_rate = 0.02     # 클래스 변수 ; 전체 함수에 다 적용이 된다는 뜻 !\n",
    "    def __init__(self, owner, balance):\n",
    "        self.owner = owner\n",
    "        self.balance = balance or 0   # 캡슐화 안된 것 !!!\n",
    "    def bprint(self):\n",
    "        return f\"{self.owner}님의 잔고는 {self.balance}원 입니다.\"\n",
    "        \n",
    "\n",
    "acc1 = BankAccount(\"철수\",50000)\n",
    "acc2 = BankAccount(\"영희\",200000)\n",
    "print(acc1.bprint())\n",
    "print(acc2.bprint())\n",
    "\n",
    "# 공격 후\n",
    "acc1.balance = 9000000    # 캡슐화 시 외부에서 접근할 수 없음 ~\n",
    "print(acc1.bprint())\n",
    "print(acc1.balance)"
   ]
  },
  {
   "cell_type": "code",
   "execution_count": 344,
   "id": "e076679c-b0f0-434b-9242-fadf01d6772b",
   "metadata": {},
   "outputs": [
    {
     "name": "stdout",
     "output_type": "stream",
     "text": [
      "철수님의 잔고는 50000원 입니다.\n",
      "영희님의 잔고는 200000원 입니다.\n",
      "0.02%의 이자가 반영된 금액은 51000원 입니다.\n",
      "0.02%의 이자가 반영된 금액은 204000원 입니다.\n",
      "0.03%의 이자가 반영된 금액은 51500원 입니다.\n",
      "0.03%의 이자가 반영된 금액은 206000원 입니다.\n"
     ]
    }
   ],
   "source": [
    "# 테스트 9 은행예금 캡슐화 예제, 클래스 변수 ; 캡슐화 됨 !\n",
    "class BankAccount:   # 단어가 연결이 되면 마디에 대문자를 쓰거나, 하이픈(-)으로 연결하기도 한다 !\n",
    "    interest_rate = 0.02     # 클래스 변수 ; 전체 함수에 다 적용이 된다는 뜻 !\n",
    "    def __init__(self, owner, balance):\n",
    "        self.owner = owner\n",
    "        self.__balance = balance or 0   # 캡슐화 !!!   ; 네임맹글링(Name Mangling) ~~\n",
    "    def bprint(self):\n",
    "        return f\"{self.owner}님의 잔고는 {self.__balance}원 입니다.\"\n",
    "    def deposit(self, amount):\n",
    "        self.__balance += amount     # 한번 언더바를 붙이면 밑에도 계속 붙여줘야 한다 !\n",
    "        return f\"{self.owner}님의 계좌에 {amount}원이 입금되었습니다. 현재 잔액 : {self.__balance}\"\n",
    "    def withdraw(self, amount):\n",
    "        if self.__balance >= amount :\n",
    "            self.__balance -= amount\n",
    "            return f\"{self.owner}님의 계좌에 {amount}원이 출금되었습니다. 현재 잔액 : {self.__balance}\"\n",
    "        return f\"잔액이 부족합니다.\"\n",
    "    def interest(self):\n",
    "        total = self.__balance * (1+self.interest_rate)   # self를 무조건 붙여서 사용해야 한다 !!\n",
    "        return f\"{self.interest_rate}%의 이자가 반영된 금액은 {total:.0f}원 입니다.\"\n",
    "\n",
    "#인스턴스화\n",
    "acc3 = BankAccount(\"철수\",50000)\n",
    "acc4 = BankAccount(\"영희\",200000)\n",
    "print(acc3.bprint())\n",
    "print(acc4.bprint())\n",
    "print(acc3.interest())\n",
    "print(acc4.interest())\n",
    "\n",
    "# 클래스 변수 바꾸기\n",
    "BankAccount.interest_rate = 0.03     # 클래스 변수는 통째로 바뀌어버리니 조심해야함 !!!\n",
    "print(acc3.interest())\n",
    "print(acc4.interest())\n",
    "\n",
    "# 공격 후!!\n",
    "# acc.balance = 9000000\n",
    "# print(acc3.balance)\n",
    "\n",
    "# 내장메소드로 캡슐화된 변수 접근\n",
    "# print(acc3.deposit(30000))\n",
    "# print(acc3.withdraw(5500))"
   ]
  },
  {
   "cell_type": "code",
   "execution_count": 1,
   "id": "03b0c06f-033d-4ef5-9f28-393840df0dd3",
   "metadata": {},
   "outputs": [],
   "source": [
    "# 예제 !\n",
    "class VendingMachine:\n",
    "    def __init__(self):\n",
    "        \"\"\" 자동판매기 초기화\"\"\"\n",
    "        self.balance = 0   # 사용자의 잔액\n",
    "        self.items = {    # 상품목록 (이름 : 가격)\n",
    "            \"콜라\" : 1500,\n",
    "            \"사이다\" : 1400,\n",
    "            \"물\" : 1000\n",
    "        }\n",
    "    def insert_money(self, amount):\n",
    "        \"\"\"잔액 충전\"\"\"\n",
    "        self.balance += amount\n",
    "        return f\"잔액이 {self.balance}원으로 증가했습니다.\"\n",
    "    def buy_item(self, item_name):\n",
    "        \"\"\"상품 구매\"\"\"\n",
    "        if item_name not in self.items:\n",
    "            return f\"{item_name}은(는) 판매하지 않는 상품입니다.\"\n",
    "        price = self.items[item_name]\n",
    "        if self.balance < price:\n",
    "            return f\"잔액이 부족합니다 ! ({item_name} : {price}원, 현재 잔액 {self.balance}원)\"\n",
    "        self.balance -= price\n",
    "        return f\"{item_name}을(를) 구매했습니다! 남은 잔액 : {self.balance})원\"\n",
    "    def refund(self):\n",
    "        \"\"\"잔액 반환\"\"\"\n",
    "        amount = self.balance\n",
    "        self.balance = 0\n",
    "        return f\"잔액 {amount}원이 반환되었습니다.\"\n",
    "\n",
    "# 자동판매기 객체 생성\n",
    "vm = VendingMachine()"
   ]
  },
  {
   "cell_type": "code",
   "execution_count": 2,
   "id": "e7b2ffc3-060a-4d75-89b8-b31b9727fd9c",
   "metadata": {},
   "outputs": [
    {
     "name": "stdout",
     "output_type": "stream",
     "text": [
      "잔액이 2000원으로 증가했습니다.\n"
     ]
    }
   ],
   "source": [
    "# 잔액 충전\n",
    "print(vm.insert_money(2000))  # 잔액이 2000원으로 증가했습니다."
   ]
  },
  {
   "cell_type": "code",
   "execution_count": 3,
   "id": "3421d0ac-d7ba-4c76-8172-4c6cbaae36e3",
   "metadata": {},
   "outputs": [
    {
     "name": "stdout",
     "output_type": "stream",
     "text": [
      "콜라을(를) 구매했습니다! 남은 잔액 : 500)원\n",
      "잔액이 부족합니다 ! (사이다 : 1400원, 현재 잔액 500원)\n",
      "잔액 500원이 반환되었습니다.\n"
     ]
    }
   ],
   "source": [
    "# 상품 구매\n",
    "print(vm.buy_item(\"콜라\")) # 콜라을(를) 구매했습니다! 남은 잔액 : 500원\n",
    "print(vm.buy_item(\"사이다\"))# 잔액이 부족합니다 ! (사이다 가격: 1400원, 현재 잔액: 500원)\n",
    "\n",
    "# 잔액 반환\n",
    "print(vm.refund())   # 잔액 500원이 반환되었습니다."
   ]
  },
  {
   "cell_type": "code",
   "execution_count": 4,
   "id": "a85aaef1-ebb1-4f06-8fad-12613f8807ab",
   "metadata": {
    "scrolled": true
   },
   "outputs": [],
   "source": [
    "import turtle\n",
    "window = turtle.Screen()\n",
    "window.bgcolor(\"black\")\n",
    "\n",
    "# 거북이 생성\n",
    "my_turtle = turtle.Turtle()\n",
    "my_turtle.shape(\"turtle\")\n",
    "my_turtle.color(\"yellow\")\n",
    "\n",
    "# 사각형 그리기\n",
    "for _ in range(4):\n",
    "    my_turtle.forward(100)  # 앞으로 100 픽셀 이동\n",
    "    my_turtle.right(90)     # 오른쪽으로 90도 회전\n",
    "\n",
    "# 창 닫기\n",
    "window.mainloop()"
   ]
  },
  {
   "cell_type": "code",
   "execution_count": 438,
   "id": "29205fb5-897d-4aea-9ce4-99f762f3ebb7",
   "metadata": {},
   "outputs": [
    {
     "name": "stdout",
     "output_type": "stream",
     "text": [
      "1 2\n"
     ]
    }
   ],
   "source": [
    "# 테스트\n",
    "a, _, c = 1,0,2\n",
    "print(a,c)"
   ]
  },
  {
   "cell_type": "code",
   "execution_count": 440,
   "id": "2da4a8a4-18b6-47c7-95fa-871f93916499",
   "metadata": {},
   "outputs": [
    {
     "name": "stdout",
     "output_type": "stream",
     "text": [
      "인사 다섯번 할께요.\n",
      "인사 다섯번 할께요.\n",
      "인사 다섯번 할께요.\n",
      "인사 다섯번 할께요.\n",
      "인사 다섯번 할께요.\n"
     ]
    }
   ],
   "source": [
    "for _ in range(5):   # 그냥 5번 돌리겠다. (_는 신경쓰지 마세요 !)\n",
    "    print(\"인사 다섯번 할께요.\")"
   ]
  },
  {
   "cell_type": "code",
   "execution_count": null,
   "id": "0c316aa8-2aba-456e-86a8-fba09a71119a",
   "metadata": {},
   "outputs": [],
   "source": [
    "# 20250213 헉 아홉번째 수업 !!!"
   ]
  },
  {
   "cell_type": "code",
   "execution_count": 2,
   "id": "0dd1e1c7-9313-4cd3-8165-5c29e1b0638f",
   "metadata": {},
   "outputs": [],
   "source": [
    "import random\n",
    "\n",
    "class Character:\n",
    "    def __init__(self, name, hp, attack_p):\n",
    "        \"\"\"캐릭터 초기화\"\"\"\n",
    "        self.name = name\n",
    "        self.hp = hp\n",
    "        self.attack_p = attack_p\n",
    "    def attack(self, opponent):\n",
    "        \"\"\"상대방을 공격\"\"\"\n",
    "        damage = random.randint(2, self.attack_p)\n",
    "        opponent.hp -= damage\n",
    "        print(f\"{self.name}(이)가 {opponent.name}를 공격하여 {damage} 데미지를 입혔습니다.\")\n",
    "    def now_status(self):\n",
    "        \"\"\"현재 체력 상태 확인\"\"\"\n",
    "        return f\"{self.name} 체력 : {self.hp}\"\n",
    "    def is_alive(self):\n",
    "        \"\"\"캐릭터 생존 여부 확인\"\"\"\n",
    "        return self.hp > 0"
   ]
  },
  {
   "cell_type": "code",
   "execution_count": 3,
   "id": "bf5e90fc-0355-49d7-800f-313872dec80b",
   "metadata": {},
   "outputs": [],
   "source": [
    "# 히어로와 몬스터 생성\n",
    "player = Character(hp=50, name=\"용사\", attack_p=15)  # 한번 순서를 틀리면 요소의 이름을 다 넣어줘야 함~\n",
    "monster = Character(\"골렘\", 60, 9)"
   ]
  },
  {
   "cell_type": "code",
   "execution_count": 4,
   "id": "0ad9f59a-3b8f-4f5d-8fc9-1c8269828e4d",
   "metadata": {},
   "outputs": [
    {
     "name": "stdout",
     "output_type": "stream",
     "text": [
      "===== 야생의 골렘과 조우했다! =====\n"
     ]
    },
    {
     "name": "stdin",
     "output_type": "stream",
     "text": [
      "공격하려면 엔터를 치세요. \n"
     ]
    },
    {
     "name": "stdout",
     "output_type": "stream",
     "text": [
      "용사(이)가 골렘를 공격하여 10 데미지를 입혔습니다.\n",
      "골렘(이)가 용사를 공격하여 7 데미지를 입혔습니다.\n",
      "용사 체력 : 43  vs  골렘 체력 : 50\n"
     ]
    },
    {
     "name": "stdin",
     "output_type": "stream",
     "text": [
      "공격하려면 엔터를 치세요. \n"
     ]
    },
    {
     "name": "stdout",
     "output_type": "stream",
     "text": [
      "용사(이)가 골렘를 공격하여 4 데미지를 입혔습니다.\n",
      "골렘(이)가 용사를 공격하여 5 데미지를 입혔습니다.\n",
      "용사 체력 : 38  vs  골렘 체력 : 46\n"
     ]
    },
    {
     "name": "stdin",
     "output_type": "stream",
     "text": [
      "공격하려면 엔터를 치세요. \n"
     ]
    },
    {
     "name": "stdout",
     "output_type": "stream",
     "text": [
      "용사(이)가 골렘를 공격하여 14 데미지를 입혔습니다.\n",
      "골렘(이)가 용사를 공격하여 2 데미지를 입혔습니다.\n",
      "용사 체력 : 36  vs  골렘 체력 : 32\n"
     ]
    },
    {
     "name": "stdin",
     "output_type": "stream",
     "text": [
      "공격하려면 엔터를 치세요. \n"
     ]
    },
    {
     "name": "stdout",
     "output_type": "stream",
     "text": [
      "용사(이)가 골렘를 공격하여 7 데미지를 입혔습니다.\n",
      "골렘(이)가 용사를 공격하여 6 데미지를 입혔습니다.\n",
      "용사 체력 : 30  vs  골렘 체력 : 25\n"
     ]
    },
    {
     "name": "stdin",
     "output_type": "stream",
     "text": [
      "공격하려면 엔터를 치세요. \n"
     ]
    },
    {
     "name": "stdout",
     "output_type": "stream",
     "text": [
      "용사(이)가 골렘를 공격하여 2 데미지를 입혔습니다.\n",
      "골렘(이)가 용사를 공격하여 8 데미지를 입혔습니다.\n",
      "용사 체력 : 22  vs  골렘 체력 : 23\n"
     ]
    },
    {
     "name": "stdin",
     "output_type": "stream",
     "text": [
      "공격하려면 엔터를 치세요. \n"
     ]
    },
    {
     "name": "stdout",
     "output_type": "stream",
     "text": [
      "용사(이)가 골렘를 공격하여 9 데미지를 입혔습니다.\n",
      "골렘(이)가 용사를 공격하여 3 데미지를 입혔습니다.\n",
      "용사 체력 : 19  vs  골렘 체력 : 14\n"
     ]
    },
    {
     "name": "stdin",
     "output_type": "stream",
     "text": [
      "공격하려면 엔터를 치세요. \n"
     ]
    },
    {
     "name": "stdout",
     "output_type": "stream",
     "text": [
      "용사(이)가 골렘를 공격하여 13 데미지를 입혔습니다.\n",
      "골렘(이)가 용사를 공격하여 4 데미지를 입혔습니다.\n",
      "용사 체력 : 15  vs  골렘 체력 : 1\n"
     ]
    },
    {
     "name": "stdin",
     "output_type": "stream",
     "text": [
      "공격하려면 엔터를 치세요. \n"
     ]
    },
    {
     "name": "stdout",
     "output_type": "stream",
     "text": [
      "용사(이)가 골렘를 공격하여 4 데미지를 입혔습니다.\n",
      "용사 체력 : 15  vs  골렘 체력 : -3\n",
      "\n",
      "용사(이)가 골렘과의 전투에서 승리했다 !\n",
      "용사(은)는 ❇️경험치를 100 획득했다 !\n",
      "용사(은)는 💰골드를 50 획득했다 !\n"
     ]
    }
   ],
   "source": [
    "# 전투 진행\n",
    "print( \"===== 야생의 골렘과 조우했다! =====\")\n",
    "while player.is_alive() and monster.is_alive():     # 한명이라도 false가 되면 while은 중단됨 !\n",
    "    input(\"공격하려면 엔터를 치세요.\")\n",
    "    player.attack(monster)\n",
    "    if monster.is_alive():\n",
    "        monster.attack(player)\n",
    "    print(player.now_status(),' vs ',monster.now_status())\n",
    "# 결과\n",
    "if player.is_alive():\n",
    "    print(\"\\n용사(이)가 골렘과의 전투에서 승리했다 !\\n용사(은)는 ❇️경험치를 100 획득했다 !\\n용사(은)는 💰골드를 50 획득했다 !\")\n",
    "else:\n",
    "    print(\"\\nn용사(이)가 골렘과의 전투에서 패배했다 .. 💀 \\n-Game Over-\\n. . .Continue ?\")"
   ]
  },
  {
   "cell_type": "code",
   "execution_count": null,
   "id": "1ddbe2d4-276c-4883-9cd9-3fb475c94da2",
   "metadata": {},
   "outputs": [],
   "source": []
  }
 ],
 "metadata": {
  "kernelspec": {
   "display_name": "Python 3 (ipykernel)",
   "language": "python",
   "name": "python3"
  },
  "language_info": {
   "codemirror_mode": {
    "name": "ipython",
    "version": 3
   },
   "file_extension": ".py",
   "mimetype": "text/x-python",
   "name": "python",
   "nbconvert_exporter": "python",
   "pygments_lexer": "ipython3",
   "version": "3.13.1"
  }
 },
 "nbformat": 4,
 "nbformat_minor": 5
}
