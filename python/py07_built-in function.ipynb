{
 "cells": [
  {
   "cell_type": "markdown",
   "id": "7b629dc3-5298-4d55-9040-197b673106c3",
   "metadata": {},
   "source": [
    "# 내장함수"
   ]
  },
  {
   "cell_type": "code",
   "execution_count": 1,
   "id": "94d5e6bc-64e1-4078-8994-d9cd0a64f85e",
   "metadata": {},
   "outputs": [
    {
     "name": "stdout",
     "output_type": "stream",
     "text": [
      "3\n",
      "1.2\n"
     ]
    }
   ],
   "source": [
    "# abs * 중요 !\n",
    "print(abs(-3))\n",
    "print(abs(-1.2))"
   ]
  },
  {
   "cell_type": "code",
   "execution_count": 5,
   "id": "cb114d75-3065-4503-896a-795c341c7222",
   "metadata": {},
   "outputs": [
    {
     "name": "stdout",
     "output_type": "stream",
     "text": [
      "True\n",
      "False\n",
      "True\n"
     ]
    }
   ],
   "source": [
    "# all * 중요 !\n",
    "print(all([1,2,3]))\n",
    "print(all([11,22,0,44,55]))  # 하나라도 문제(false)가 생기면 멈춤 !\n",
    "print(all([]))   # 특이사항"
   ]
  },
  {
   "cell_type": "code",
   "execution_count": 12,
   "id": "bc18bbad-d5d1-4da1-9093-f4699ae6ddee",
   "metadata": {},
   "outputs": [
    {
     "name": "stdout",
     "output_type": "stream",
     "text": [
      "True\n",
      "False\n",
      "False\n"
     ]
    }
   ],
   "source": [
    "# any * 중요 !\n",
    "print(any([1,2,3,0]))\n",
    "print(any([0,\"\",[],False]))\n",
    "print(any([]))"
   ]
  },
  {
   "cell_type": "code",
   "execution_count": 23,
   "id": "1afd55a5-6110-4b1a-82af-97786842c605",
   "metadata": {},
   "outputs": [
    {
     "name": "stdout",
     "output_type": "stream",
     "text": [
      "0 1 2\n",
      "A B C\n",
      "가\n",
      "65 44032\n",
      "\u001f\n"
     ]
    }
   ],
   "source": [
    "print(chr(48), end=\" \")\n",
    "print(chr(49), end=\" \")\n",
    "print(chr(50), end='\\n')\n",
    "\n",
    "#아스키코드\n",
    "print(chr(65), end=\" \")\n",
    "print(chr(66), end=\" \")\n",
    "print(chr(67), end='\\n')\n",
    "\n",
    "# 유니코드 - UTF-8(인코딩 방식)\n",
    "print(chr(44032))\n",
    "\n",
    "print(ord('A'), end=\" \")\n",
    "print(ord('가'))\n",
    "print(chr(int(hex(31)[2:],16)))    # 진수의 변형을 통한 코드 변환법 ^_^\n"
   ]
  },
  {
   "cell_type": "code",
   "execution_count": 56,
   "id": "51568e72-4e76-4322-b9c7-c74ecda60d0b",
   "metadata": {},
   "outputs": [
    {
     "name": "stdout",
     "output_type": "stream",
     "text": [
      "['a', 'b', 'c', 'd', 'e', 'f', 'g', 'h', 'i', 'j', 'k', 'l', 'm', 'n', 'o', 'p', 'q', 'r', 's', 't', 'u', 'v', 'w', 'x', 'y', 'z']\n",
      "['z', 'y', 'x', 'w', 'v', 'u', 't', 's', 'r', 'q', 'p', 'o', 'n', 'm', 'l', 'k', 'j', 'i', 'h', 'g', 'f', 'e', 'd', 'c', 'b', 'a']\n"
     ]
    }
   ],
   "source": [
    "# 아스키코드표를 보고 A부터 Z까지 차례로 모두 출력하라.\n",
    "# 소문자 z부터 a까지 역순으로 모두 차례로 출력하라.\n",
    "\n",
    "a = []\n",
    "for n in range(97,123):\n",
    "    b = chr(n)\n",
    "    a.append(b)\n",
    "print(a)\n",
    "c = list(a)\n",
    "c.reverse()\n",
    "print(c)"
   ]
  },
  {
   "cell_type": "code",
   "execution_count": 75,
   "id": "6cdb8a31-94e3-4377-8d2f-ca7a50681b32",
   "metadata": {},
   "outputs": [
    {
     "name": "stdout",
     "output_type": "stream",
     "text": [
      "A1 A2 A3 A4 A5 A6 A7 A8 A9 A10 B1 B2 B3 B4 B5 B6 B7 B8 B9 B10 C1 C2 C3 C4 C5 C6 C7 C8 C9 C10 "
     ]
    }
   ],
   "source": [
    "# A1부터 A10까지 증가 후 B1부터 B10까지 증가 그리고 C1부터 C10까지 증가하게 하라.\n",
    " # A1, A2, A3 ...A10, B1, B2,.... B10, C1, C2,...C10\n",
    "\n",
    "for n in range(65,68):\n",
    "    for x in range(1,11):\n",
    "        print(f'{chr(n)}{x}', end =\" \")"
   ]
  },
  {
   "cell_type": "code",
   "execution_count": null,
   "id": "1c7a98c9-a2e0-4616-a7ba-4c4d82196617",
   "metadata": {},
   "outputs": [],
   "source": [
    "# 팀플 class 과제 !!\n",
    "class Calculator :\n",
    "    def __init__(self):\n",
    "        self.result1 = 0\n",
    "        self.result2 = 1   # add/sub와 mult/div는 각각 다른 init으로 걸어줬다 !\n",
    "    def add(self,num):\n",
    "        self.result1 += num\n",
    "        return self.result1\n",
    "    def sub(self,num):\n",
    "        self.result1 -= num\n",
    "        return self.result1\n",
    "    def mult(self,num):\n",
    "        self.result2 *= num\n",
    "        return self.result2\n",
    "    def div(self,num):\n",
    "        self.result2 /= num\n",
    "        return self.result2\n",
    "        \n",
    "cal1 = Calculator()\n",
    "\n",
    "print(cal1.add(10))\n",
    "print(cal1.sub(10))\n",
    "print(cal1.mult(10))\n",
    "print(cal1.div(10))\n",
    "print(cal1.add(10))\n",
    "print(cal1.sub(10))\n",
    "print(cal1.mult(10))\n",
    "print(cal1.div(10))\n",
    "print(cal1.add(10))\n",
    "print(cal1.sub(10))\n",
    "print(cal1.mult(10))\n",
    "print(cal1.div(10))\n",
    "print(cal1.add(10))\n",
    "print(cal1.sub(10))\n",
    "print(cal1.mult(10))\n",
    "print(cal1.div(10))\n",
    "print(cal1.add(10))\n",
    "print(cal1.sub(10))\n",
    "print(cal1.mult(10))\n",
    "print(cal1.div(10))\n",
    "print(cal1.add(10))\n",
    "print(cal1.sub(10))\n",
    "print(cal1.mult(10))\n",
    "print(cal1.div(10))\n"
   ]
  },
  {
   "cell_type": "code",
   "execution_count": null,
   "id": "34d102db-450c-4c01-b167-771064473864",
   "metadata": {},
   "outputs": [],
   "source": [
    "class Calculator:\n",
    "    def __init__(self):\n",
    "        self.result1 = 0\n",
    "        self.result2 = 1\n",
    "        \n",
    "    def mult(self,num):\n",
    "        self.result2 *= num\n",
    "        return self.result2\n",
    "\n",
    "    def add(self,num):\n",
    "        self.result1 += num\n",
    "        return self.result1 \n",
    "    \n",
    "    def div(self,num):\n",
    "        self.result2 /= num\n",
    "        return self.result2\n",
    "        \n",
    "    def sub(self,num):\n",
    "        self.result1 -= num\n",
    "        return self.result1\n",
    "\n",
    "cal1 = Calculator()\n",
    "\n",
    "print(cal1.mult(2))\n",
    "print(cal1.mult(2))\n",
    "print(cal1.mult(2))\n",
    "print(cal1.mult(2))\n",
    "print(cal1.add(2))\n",
    "print(cal1.add(2))\n",
    "print(cal1.add(2))\n",
    "print(cal1.add(2))\n",
    "print(cal1.add(2))\n",
    "print(cal1.div(2))\n",
    "print(cal1.div(2))\n",
    "print(cal1.div(2))\n",
    "print(cal1.div(2))\n",
    "print(cal1.div(2))\n",
    "print(cal1.div(2))\n",
    "print(cal1.div(2))\n",
    "print(cal1.sub(2))\n",
    "print(cal1.sub(2))\n",
    "print(cal1.sub(2))\n",
    "print(cal1.sub(2))\n",
    "print(cal1.sub(2))\n",
    "print(cal1.sub(2))"
   ]
  },
  {
   "cell_type": "code",
   "execution_count": 1,
   "id": "82d6a4d4-5589-4d18-8c32-a7482a5ae500",
   "metadata": {},
   "outputs": [],
   "source": [
    "# 20250218 뭐!!!!!!!!! 12번째 수업이라고!!!!!!!!!!!!!!! 크아아악"
   ]
  },
  {
   "cell_type": "code",
   "execution_count": 3,
   "id": "40072ab5-29f0-41f4-9574-44aa74b1504d",
   "metadata": {},
   "outputs": [],
   "source": [
    "# dir 객체가 가지고 있는 함수(메서드)를 보여줌 ! * 중요!\n",
    "# dir([2,1,3])    ; 리스트\n",
    "# dir({'1':'a'})  ; 딕셔너리"
   ]
  },
  {
   "cell_type": "code",
   "execution_count": 4,
   "id": "2e0d1ce4-fa24-406a-a4ea-849769081845",
   "metadata": {},
   "outputs": [
    {
     "name": "stdout",
     "output_type": "stream",
     "text": [
      "(4, 1)\n",
      "4 1\n"
     ]
    }
   ],
   "source": [
    "divmod 몫과 나머지\n",
    "print(divmod(13,3))    # 튜플처럼 만들 때 유용할지도~ \n",
    "print(13//3,13%3)"
   ]
  },
  {
   "cell_type": "code",
   "execution_count": 5,
   "id": "d5bac36b-08b4-4aa0-843a-59fd25bbb77e",
   "metadata": {},
   "outputs": [
    {
     "name": "stdout",
     "output_type": "stream",
     "text": [
      "1 순위 과일은 :  apple\n",
      "2 순위 과일은 :  banana\n",
      "3 순위 과일은 :  kiwi\n",
      "4 순위 과일은 :  cherry\n",
      "5 순위 과일은 :  mango\n"
     ]
    }
   ],
   "source": [
    "# enumerate ; 열거하다  ** 매우 중요!    > 인덱스의 용도로 많이 쓰일지도~\n",
    "fruit = ['apple', 'banana', 'kiwi', 'cherry', 'mango']\n",
    "for i, f in enumerate(fruit, start =1):\n",
    "    print(i, '순위 과일은 : ', f)"
   ]
  },
  {
   "cell_type": "code",
   "execution_count": 10,
   "id": "d0ae3ab8-176c-46b6-a190-c575880f21ff",
   "metadata": {},
   "outputs": [
    {
     "data": {
      "text/plain": [
       "'A1'"
      ]
     },
     "execution_count": 10,
     "metadata": {},
     "output_type": "execute_result"
    }
   ],
   "source": [
    "# eval ; 문자열로 구성된 실행값을 리턴, 보안문제로 안 쓰는 게 좋음 !!\n",
    "eval('1+2')\n",
    "eval(\"'A'+'1'\")"
   ]
  },
  {
   "cell_type": "code",
   "execution_count": null,
   "id": "5afb8a71-78f5-4e68-804b-f349eb21ebf5",
   "metadata": {},
   "outputs": [],
   "source": [
    "# filter(함수, 이터러블)  ** 매우 중요!"
   ]
  },
  {
   "cell_type": "code",
   "execution_count": 13,
   "id": "7cd84900-a297-4a5d-8dd7-b1197591f390",
   "metadata": {},
   "outputs": [
    {
     "name": "stdout",
     "output_type": "stream",
     "text": [
      "[1, 2, 6]\n"
     ]
    }
   ],
   "source": [
    "# 양수만 판단해서 꺼내는 함수 p246\n",
    "def positive(l):\n",
    "    result = []\n",
    "    for i in l :\n",
    "        if i > 0:\n",
    "            result.append(i)\n",
    "    return result\n",
    "print(positive([1,-3,2,0,-5,6]))"
   ]
  },
  {
   "cell_type": "code",
   "execution_count": 16,
   "id": "0e1c516b-9535-490a-91fc-63dbd54a55cf",
   "metadata": {},
   "outputs": [
    {
     "name": "stdout",
     "output_type": "stream",
     "text": [
      "[1, 2, 6]\n"
     ]
    }
   ],
   "source": [
    "def pos(l):\n",
    "    return [i for i in l if i >0]\n",
    "print(pos([1,-3,2,0,-5,6]))"
   ]
  },
  {
   "cell_type": "code",
   "execution_count": 18,
   "id": "8699c5c1-41c7-4226-bff8-3c36a6aa174a",
   "metadata": {},
   "outputs": [
    {
     "data": {
      "text/plain": [
       "[1, 2, 6]"
      ]
     },
     "execution_count": 18,
     "metadata": {},
     "output_type": "execute_result"
    }
   ],
   "source": [
    "l = [1,-3,2,0,-5,6]\n",
    "def positive(x):\n",
    "    return x > 0\n",
    "list(filter(positive,l))   # true or false의 판단이 여기서 이루어진다. > 참일 때만 값을 꺼냄 !"
   ]
  },
  {
   "cell_type": "code",
   "execution_count": 20,
   "id": "0d51a5f1-3948-4721-8816-de15457edb77",
   "metadata": {},
   "outputs": [
    {
     "name": "stdout",
     "output_type": "stream",
     "text": [
      "[1, 2, 6]\n"
     ]
    }
   ],
   "source": [
    "print(list(filter(lambda x : x>0, l)))  # list 함수를 써줘야 list로 표현됨"
   ]
  },
  {
   "cell_type": "code",
   "execution_count": 21,
   "id": "bed62411-1907-4a30-b8ca-a0db1c2bee35",
   "metadata": {},
   "outputs": [
    {
     "name": "stdout",
     "output_type": "stream",
     "text": [
      "1\n",
      "2\n",
      "6\n"
     ]
    }
   ],
   "source": [
    "for n in filter(lambda x: x>0,l):  #  range(4)\n",
    "    print(n)"
   ]
  },
  {
   "cell_type": "code",
   "execution_count": 24,
   "id": "db133868-8023-4d2e-a0f8-671c84d18eaf",
   "metadata": {},
   "outputs": [
    {
     "name": "stdout",
     "output_type": "stream",
     "text": [
      "0xea\n",
      "0o11\n",
      "0b1001\n"
     ]
    }
   ],
   "source": [
    "# hex, oct, bin\n",
    "print(hex(234))\n",
    "print(oct(9))\n",
    "print(bin(9))"
   ]
  },
  {
   "cell_type": "code",
   "execution_count": 26,
   "id": "f0803ff0-1ca2-4390-8cac-90715cabdb45",
   "metadata": {},
   "outputs": [
    {
     "name": "stdout",
     "output_type": "stream",
     "text": [
      "140731923760104\n",
      "140731923760104\n",
      "140731923760104\n",
      "True\n"
     ]
    }
   ],
   "source": [
    "# id 고유 주솟값을 리턴\n",
    "a = 3\n",
    "print(id(3))\n",
    "print(id(a))\n",
    "b = a\n",
    "print(id(b))\n",
    "print(all([id(3)==id(a),id(a)==id(b),id(b)==id(3)]))   # 셋의 값이 같다 !"
   ]
  },
  {
   "cell_type": "code",
   "execution_count": 27,
   "id": "f81430cb-1401-441f-b13a-ee91b1afc582",
   "metadata": {},
   "outputs": [],
   "source": [
    "# input\n",
    "# input은 스트링(문자)으로 값을 전달받는다. 그러므로 계산시  int나 float으로 변경할 것 !"
   ]
  },
  {
   "cell_type": "code",
   "execution_count": 28,
   "id": "ab09d54a-046a-4519-8486-f632dedbc6b5",
   "metadata": {},
   "outputs": [],
   "source": [
    "# int * 중요!\n",
    "# 문자를 숫자로 변환, 정수로 변환, 소수점이 사라짐"
   ]
  },
  {
   "cell_type": "code",
   "execution_count": 31,
   "id": "d83976df-b843-4cbb-bd88-219295c620f1",
   "metadata": {},
   "outputs": [
    {
     "name": "stdout",
     "output_type": "stream",
     "text": [
      "나는 휴먼입니다.\n",
      "나는 휴먼입니다.\n",
      "True\n",
      "True\n",
      "False\n"
     ]
    }
   ],
   "source": [
    "# isinstance ; (object, class), 인스턴스 확인용\n",
    "\n",
    "class Person:\n",
    "    def p(self) :\n",
    "        return(\"나는 휴먼입니다.\")\n",
    "class Animal : pass\n",
    "a = Person()\n",
    "b = Person()\n",
    "c = Animal()\n",
    "print(a.p())\n",
    "print(b.p())\n",
    "print(isinstance(a,Person))\n",
    "print(isinstance(b,Person))\n",
    "print(isinstance(c,Person))"
   ]
  },
  {
   "cell_type": "code",
   "execution_count": 33,
   "id": "51c38b8f-7d9d-4b31-93e0-a932eb2defc3",
   "metadata": {},
   "outputs": [
    {
     "name": "stdout",
     "output_type": "stream",
     "text": [
      "6\n",
      "4\n",
      "2\n"
     ]
    }
   ],
   "source": [
    "# len **중요 !!\n",
    "print(len(\"python\"))\n",
    "print(len([1,2,3,4]))\n",
    "print(len((1,'a')))"
   ]
  },
  {
   "cell_type": "code",
   "execution_count": 34,
   "id": "208524ae-424a-4483-a3fc-a9fccb225402",
   "metadata": {},
   "outputs": [],
   "source": [
    "# list *** 매 우 중 요 !!"
   ]
  },
  {
   "cell_type": "code",
   "execution_count": 36,
   "id": "79e1168c-94bf-48af-8c01-4d92f66fc9e8",
   "metadata": {},
   "outputs": [
    {
     "name": "stdout",
     "output_type": "stream",
     "text": [
      "[2, 4, 6, 8]\n"
     ]
    }
   ],
   "source": [
    "# map  ** 매우 중요! ; 입력과 출력의 양이 같다!  cf) filter는 출력의 양이 줄어듦!\n",
    "def two_times(numberList):\n",
    "    result = []\n",
    "    for number in numberList:\n",
    "        result.append(number*2)\n",
    "    return result\n",
    "result = two_times([1,2,3,4])\n",
    "print(result)"
   ]
  },
  {
   "cell_type": "code",
   "execution_count": 46,
   "id": "931b4264-6690-4656-8dc7-77272a39052b",
   "metadata": {},
   "outputs": [
    {
     "name": "stdout",
     "output_type": "stream",
     "text": [
      "[2, 4, 6, 8]\n"
     ]
    }
   ],
   "source": [
    "def two_times(nl):\n",
    "    return [y*2 for y in nl]\n",
    "print(two_times([1,2,3,4]))"
   ]
  },
  {
   "cell_type": "code",
   "execution_count": 38,
   "id": "b87466df-1d83-4d1a-8a80-a3e8185e249a",
   "metadata": {},
   "outputs": [
    {
     "data": {
      "text/plain": [
       "[2, 4, 6, 8]"
      ]
     },
     "execution_count": 38,
     "metadata": {},
     "output_type": "execute_result"
    }
   ],
   "source": [
    "def two_times(x):\n",
    "    return x * 2\n",
    "list(map(two_times,[1,2,3,4]))"
   ]
  },
  {
   "cell_type": "code",
   "execution_count": 39,
   "id": "73f45cb2-e052-4a99-8552-ca58fdf9c7e6",
   "metadata": {},
   "outputs": [
    {
     "data": {
      "text/plain": [
       "[2, 4, 6, 8]"
      ]
     },
     "execution_count": 39,
     "metadata": {},
     "output_type": "execute_result"
    }
   ],
   "source": [
    "list(map(lambda x : x*2,[1,2,3,4]))  "
   ]
  },
  {
   "cell_type": "code",
   "execution_count": 50,
   "id": "c0f101c1-33eb-4042-a906-115eb83a510b",
   "metadata": {},
   "outputs": [
    {
     "name": "stdout",
     "output_type": "stream",
     "text": [
      "[1, 3, 5]\n",
      "[2, 4, 6]\n",
      "[11, 12, 13, 14, 15, 16]\n",
      "[1, 4, 9, 16, 25, 36]\n",
      "[11, 24, 39, 56, 75, 96]\n"
     ]
    }
   ],
   "source": [
    "# 테스트\n",
    "li = [1,2,3,4,5,6]\n",
    "\n",
    "def odd(x):\n",
    "    return x%2 !=0\n",
    "def even(x):\n",
    "    return x%2 == 0  # filter용\n",
    "\n",
    "def add(x):\n",
    "    return x + 10   # 결과값이 참/거짓이 아니기 때문에 filter를 쓰기 곤란하다.\n",
    "def mul(x):\n",
    "    return x * x\n",
    "def addmul(x):\n",
    "    return (x + 10) * x\n",
    "\n",
    "print(list(filter(odd,li)))\n",
    "print(list(filter(even,li)))\n",
    "print(list(map(add,li)))\n",
    "print(list(map(mul,li)))\n",
    "print(list(map(addmul,li)))"
   ]
  },
  {
   "cell_type": "code",
   "execution_count": 55,
   "id": "772984ea-5f87-4fe9-81e8-1ff7564e8a3a",
   "metadata": {},
   "outputs": [
    {
     "name": "stdout",
     "output_type": "stream",
     "text": [
      "234\n",
      "y\n"
     ]
    }
   ],
   "source": [
    "# max   *중요!\n",
    "print(max([1,21,4,35,12,61,234,7]))\n",
    "print(max('python'))  # 문자일 경우 유니코드 값으로 판단"
   ]
  },
  {
   "cell_type": "code",
   "execution_count": 57,
   "id": "30af90fd-dea2-4518-9d81-8078b5e30ae0",
   "metadata": {},
   "outputs": [
    {
     "name": "stdout",
     "output_type": "stream",
     "text": [
      "-1\n",
      "h\n"
     ]
    }
   ],
   "source": [
    "# min   *중요!\n",
    "print(min([1,5,3,34,76,-1,45,7]))\n",
    "print(min('python'))"
   ]
  },
  {
   "cell_type": "code",
   "execution_count": 9,
   "id": "44228bc0-ef6c-4293-a0e4-158fc8f77715",
   "metadata": {},
   "outputs": [],
   "source": [
    "# open  *중요!\n",
    "f = open('foo.txt','r',encoding=\"utf-8\")\n",
    "f.read()\n",
    "f.close()"
   ]
  },
  {
   "cell_type": "code",
   "execution_count": 61,
   "id": "df269dbc-ab90-4b33-ad38-7c405f625dc8",
   "metadata": {},
   "outputs": [
    {
     "name": "stdout",
     "output_type": "stream",
     "text": [
      "32\n"
     ]
    }
   ],
   "source": [
    "# pow   *중요!     ;  x를 y 제곱한 결과값을 리턴\n",
    "print(pow(2,5))"
   ]
  },
  {
   "cell_type": "code",
   "execution_count": 63,
   "id": "c65dfbf7-1647-4573-b28d-382f66cebdbc",
   "metadata": {},
   "outputs": [
    {
     "name": "stdout",
     "output_type": "stream",
     "text": [
      "[0, 1, 2, 3, 4]\n",
      "[5, 6, 7, 8, 9]\n",
      "[5, 7, 9]\n",
      "[15, 14, 13, 12, 11]\n"
     ]
    }
   ],
   "source": [
    "# range ** 매우 중요!\n",
    "# 인수가 하나\n",
    "print(list(range(5)))\n",
    "\n",
    "# 인수가 2개\n",
    "print(list(range(5,10)))\n",
    "\n",
    "# 인수가 3개\n",
    "print(list(range(5,10,2)))\n",
    "\n",
    "# 역순(스탭조절)\n",
    "print(list(range(15,10,-1)))"
   ]
  },
  {
   "cell_type": "code",
   "execution_count": 72,
   "id": "e0718bb9-248f-4df4-af65-11847af6c66c",
   "metadata": {},
   "outputs": [
    {
     "name": "stdout",
     "output_type": "stream",
     "text": [
      "3\n",
      "3\n",
      "3.5\n",
      "3.596\n",
      "3.5496\n",
      "3.75\n"
     ]
    }
   ],
   "source": [
    "# round  *중요 !   ; 반올림\n",
    "print(round(3.45))\n",
    "print(round(3.446))\n",
    "print(round(3.495,2))    # 둘째자리에서 반올림 !\n",
    "print(round(3.5959,3))\n",
    "print(round(3.54959,4))\n",
    "print(round(3.749999,5))"
   ]
  },
  {
   "cell_type": "code",
   "execution_count": 73,
   "id": "e3f07a3d-c53c-42fc-a244-5fce7e12f2d3",
   "metadata": {},
   "outputs": [
    {
     "name": "stdout",
     "output_type": "stream",
     "text": [
      "[3, 2, 1, 4, 7, 6]\n",
      "[1, 2, 3, 4, 6, 7]\n"
     ]
    }
   ],
   "source": [
    "# sorted(iteralbe)   ; 정렬된 리스트로 값을 보여줌.\n",
    "s0 = [3,2,1,4,7,6]\n",
    "s1 = sorted(s0)\n",
    "print(s0)     # 원본이 손상되지 않음 !\n",
    "print(s1)"
   ]
  },
  {
   "cell_type": "code",
   "execution_count": 81,
   "id": "c2a91e51-55f6-44f8-90b0-8aeb3cfdd87e",
   "metadata": {},
   "outputs": [
    {
     "name": "stdout",
     "output_type": "stream",
     "text": [
      "23 <class 'int'>\n",
      "23 <class 'str'>\n"
     ]
    }
   ],
   "source": [
    "# str *중요      ; 문자열로 변환\n",
    "num= 23\n",
    "st=str(num)\n",
    "print(num,type(num))\n",
    "print(st,type(st))"
   ]
  },
  {
   "cell_type": "code",
   "execution_count": 82,
   "id": "6f96f927-bfcd-48a5-b70e-7bb19206fef3",
   "metadata": {},
   "outputs": [
    {
     "name": "stdout",
     "output_type": "stream",
     "text": [
      "15\n"
     ]
    }
   ],
   "source": [
    "# sum *중요      ; 이터러블 데이터의 합을 리턴\n",
    "print(sum([1,2,3,4,5]))"
   ]
  },
  {
   "cell_type": "code",
   "execution_count": 83,
   "id": "c5d36b90-d488-486c-a386-d74be81dde7a",
   "metadata": {},
   "outputs": [
    {
     "name": "stdout",
     "output_type": "stream",
     "text": [
      "('a', 'b', 'c')\n",
      "(1, 2, 3, 4, 5, 6)\n",
      "(1, 2, 3, 4, 5, 6)\n"
     ]
    }
   ],
   "source": [
    "# tuple  *중요 !    ; 튜플로 변환\n",
    "print(tuple(\"abc\"))\n",
    "print(tuple([1,2,3,4,5,6]))\n",
    "print(tuple((1,2,3,4,5,6)))"
   ]
  },
  {
   "cell_type": "code",
   "execution_count": 77,
   "id": "7f16c4af-52a0-4ea9-bc0e-5b523e0389ce",
   "metadata": {},
   "outputs": [
    {
     "name": "stdout",
     "output_type": "stream",
     "text": [
      "<class 'str'>\n",
      "<class 'int'>\n",
      "<class '_io.TextIOWrapper'>\n"
     ]
    }
   ],
   "source": [
    "#type **매우 중요!!    ; 자료형 확인\n",
    "print(type('abc'))\n",
    "print(type(1234))\n",
    "print(type(open(\"foo.txt\",\"r\")))     # 파일 자료형"
   ]
  },
  {
   "cell_type": "code",
   "execution_count": 80,
   "id": "5d2d4dbf-035e-4875-91f5-bd2b6b154b3f",
   "metadata": {},
   "outputs": [
    {
     "name": "stdout",
     "output_type": "stream",
     "text": [
      "11 : apple  =>  dog\n",
      "22 : banana  =>  cat\n",
      "33 : kiwi  =>  elephant\n",
      "44 : cherry  =>  lion\n",
      "55 : mango  =>  Rabbit\n"
     ]
    }
   ],
   "source": [
    "# zip    **매우 중요 !!     ;묶어서 결과값을 보여줌\n",
    "fruit = ['apple','banana',\"kiwi\",\"cherry\",'mango']\n",
    "animal = ['dog','cat','elephant','lion','Rabbit']\n",
    "num = [11,22,33,44,55]\n",
    "for f, a, n in zip(fruit, animal, num):\n",
    "    print(n, ':', f,' => ',a)"
   ]
  },
  {
   "cell_type": "markdown",
   "id": "fbc550ec-cc16-40f7-bcf0-ec8bd12dc7d5",
   "metadata": {},
   "source": [
    "# 표준 라이브러리"
   ]
  },
  {
   "cell_type": "markdown",
   "id": "ac6600f4-6076-44a6-9ed3-9612a731a1ee",
   "metadata": {},
   "source": [
    "## datetime.date"
   ]
  },
  {
   "cell_type": "code",
   "execution_count": 110,
   "id": "9a38a05e-f050-4d8e-9748-73081cb75640",
   "metadata": {},
   "outputs": [
    {
     "name": "stdout",
     "output_type": "stream",
     "text": [
      "2025-02-03  /  2025-07-25\n",
      "전체 수업기간 :  172 일\n",
      "남은 수업기간 :  172 일\n",
      "지난 수업기간 :  15 일\n"
     ]
    }
   ],
   "source": [
    "# 설치하지 않아도 된다 ~   ; 파이썬 내에 갖고 있는 함수들\n",
    "import datetime\n",
    "day1 = datetime.date(2025,2,3)\n",
    "day2 = datetime.date(2025,7,25)\n",
    "print(day1,\" / \",day2)    # 대시가 걸린 형식 !\n",
    "diff = day2-day1\n",
    "print(\"전체 수업기간 : \", diff.days,\"일\")\n",
    "diff2 = day2 - datetime.datetime.now().date()\n",
    "print(\"남은 수업기간 : \", diff.days,\"일\")\n",
    "print(\"지난 수업기간 : \", diff.days - diff2.days,\"일\")"
   ]
  },
  {
   "cell_type": "code",
   "execution_count": 111,
   "id": "5d5b8f74-de8d-4e3e-ab3b-e568c67fced0",
   "metadata": {},
   "outputs": [
    {
     "data": {
      "text/plain": [
       "datetime.date(2025, 2, 18)"
      ]
     },
     "execution_count": 111,
     "metadata": {},
     "output_type": "execute_result"
    }
   ],
   "source": [
    "datetime.datetime.now().date()   # .date()를 추가하여 date 타입으로 변환 ! "
   ]
  },
  {
   "cell_type": "code",
   "execution_count": 112,
   "id": "cba646bd-9466-4b93-b0c6-7def156f7bb0",
   "metadata": {},
   "outputs": [
    {
     "name": "stdout",
     "output_type": "stream",
     "text": [
      "그 날은 목요일 입니다.\n"
     ]
    },
    {
     "data": {
      "text/plain": [
       "4"
      ]
     },
     "execution_count": 112,
     "metadata": {},
     "output_type": "execute_result"
    }
   ],
   "source": [
    "days = ['월','화','수','목','금','토','일']\n",
    "day = datetime.date(2080,10,31)\n",
    "day.weekday()\n",
    "print(\"그 날은 \"+days[day.weekday()] + \"요일 입니다.\")\n",
    "\n",
    "day.isoweekday()  # cf) 1부터 시작 !!"
   ]
  },
  {
   "cell_type": "code",
   "execution_count": 113,
   "id": "aacf2c4f-666c-452e-8ceb-7d827bebf653",
   "metadata": {},
   "outputs": [],
   "source": [
    "# 숙제 (팀플숙제~)   ; 날짜 계산기 !!\n",
    " # 최근에 나온 기념일을 각자 계산하는 것? - 조원이 4명이므로 4개?\n",
    " # import 해서 쓸 수 있도록 함수를 .py로 만들기 ~\n",
    "# 1) 생일을 입력을 받으면 몇일이 지났는지, 생일날은 무슨 요일인지 계산\n",
    "# 2) 오늘부터 어린이날이 몇일 남았는지, 그날은 무슨 요일인지 계산\n",
    "# 3) 오늘부터 어버이날이 몇일 남았는지, 그날은 무슨 요일인지 계산\n",
    "# 4) 오늘부터 크리스마스가 몇일 남았는지, 그날은 무슨 요일인지 계산\n",
    "# 5) 수료 후 추석까지 몇일 남았는지 계산\n",
    "\n",
    "# 깃허브에서 작업하고 폴더 하나에 각자 py 파일로 업로드~"
   ]
  },
  {
   "cell_type": "code",
   "execution_count": 1,
   "id": "18864b47-7335-44ef-afdb-aa9b419559d2",
   "metadata": {},
   "outputs": [
    {
     "name": "stdout",
     "output_type": "stream",
     "text": [
      "오늘부터 어린이날까지는 75일 남았으며, 어린이날은 월요일 입니다.\n"
     ]
    }
   ],
   "source": [
    "import datetime\n",
    "def child():\n",
    "    cd = datetime.date(2025,5,5)\n",
    "    today = datetime.datetime.now().date()\n",
    "    diff = cd - today\n",
    "    days = ['월','화','수','목','금','토','일']\n",
    "    print(f\"오늘부터 어린이날까지는 {diff.days}일 남았으며, 어린이날은 {days[cd.weekday()]}요일 입니다.\")\n",
    "child()"
   ]
  },
  {
   "cell_type": "code",
   "execution_count": 117,
   "id": "e3e09c0d-407f-4755-9e44-b8d084c34690",
   "metadata": {},
   "outputs": [
    {
     "name": "stdin",
     "output_type": "stream",
     "text": [
      "생일의 월을 입력해주세요! 10\n",
      "생일의 일을 입력해주세요! 31\n"
     ]
    },
    {
     "name": "stdout",
     "output_type": "stream",
     "text": [
      "생일까지 255일 남았고, 그 날은 금요일 입니다!\n"
     ]
    }
   ],
   "source": [
    "import 계산1\n",
    "계산1.birth()"
   ]
  },
  {
   "cell_type": "code",
   "execution_count": 118,
   "id": "d778c8b5-2837-4299-a148-a78ea89ce588",
   "metadata": {},
   "outputs": [
    {
     "data": {
      "text/plain": [
       "'오늘부터 어린이날까지는 76일 남았으며, 어린이날은 월요일 입니다.'"
      ]
     },
     "execution_count": 118,
     "metadata": {},
     "output_type": "execute_result"
    }
   ],
   "source": [
    "import 계산4\n",
    "계산4.child()"
   ]
  },
  {
   "cell_type": "code",
   "execution_count": 119,
   "id": "7d52d398-1140-452c-a3a0-41d1284d4204",
   "metadata": {},
   "outputs": [
    {
     "name": "stdout",
     "output_type": "stream",
     "text": [
      "어버이날까지 남은 날은 79 일 이고, 목요일 입니다.\n"
     ]
    }
   ],
   "source": [
    "import 계산3"
   ]
  },
  {
   "cell_type": "markdown",
   "id": "d1793cb4-f472-4430-94c5-401c7d73ea42",
   "metadata": {},
   "source": [
    "## time"
   ]
  },
  {
   "cell_type": "code",
   "execution_count": 2,
   "id": "33e5f33d-f712-471c-859f-5711f26b9bf8",
   "metadata": {},
   "outputs": [
    {
     "data": {
      "text/plain": [
       "1739855669.077363"
      ]
     },
     "execution_count": 2,
     "metadata": {},
     "output_type": "execute_result"
    }
   ],
   "source": [
    "# time.time *\n",
    "import time\n",
    "time.time()"
   ]
  },
  {
   "cell_type": "code",
   "execution_count": 4,
   "id": "ba9fa2a5-d0d8-4a23-b831-ae291c5c765c",
   "metadata": {},
   "outputs": [
    {
     "name": "stdout",
     "output_type": "stream",
     "text": [
      "time.struct_time(tm_year=2025, tm_mon=2, tm_mday=18, tm_hour=14, tm_min=14, tm_sec=57, tm_wday=1, tm_yday=49, tm_isdst=0)\n"
     ]
    }
   ],
   "source": [
    "# time.localtime\n",
    "tt = time.localtime(time.time())\n",
    "print(tt)"
   ]
  },
  {
   "cell_type": "code",
   "execution_count": 5,
   "id": "1a91dd4c-0d07-4aee-ac2a-94a6613baf7d",
   "metadata": {},
   "outputs": [
    {
     "data": {
      "text/plain": [
       "'Tue Feb 18 14:15:34 2025'"
      ]
     },
     "execution_count": 5,
     "metadata": {},
     "output_type": "execute_result"
    }
   ],
   "source": [
    "# time.asctime\n",
    "time.asctime(time.localtime(time.time()))"
   ]
  },
  {
   "cell_type": "code",
   "execution_count": 7,
   "id": "925bde11-139d-4957-928e-e7ad647a97f2",
   "metadata": {},
   "outputs": [
    {
     "data": {
      "text/plain": [
       "'Tue Feb 18 14:16:50 2025'"
      ]
     },
     "execution_count": 7,
     "metadata": {},
     "output_type": "execute_result"
    }
   ],
   "source": [
    "# time.ctime()\n",
    "time.ctime()  "
   ]
  },
  {
   "cell_type": "code",
   "execution_count": 3,
   "id": "ac01335c-f421-41ee-b6a1-85efc0cdd0f2",
   "metadata": {},
   "outputs": [
    {
     "name": "stdout",
     "output_type": "stream",
     "text": [
      "02/20/25\n",
      "14:35:16\n",
      "Thu Feb 20 14:35:16 2025\n"
     ]
    }
   ],
   "source": [
    "# time.strftime\n",
    "import time\n",
    "print(time.strftime('%x', time.localtime(time.time())))\n",
    "print(time.strftime('%X', time.localtime(time.time())))\n",
    "print(time.strftime('%c', time.localtime(time.time())))"
   ]
  },
  {
   "cell_type": "code",
   "execution_count": 18,
   "id": "7e86b621-077c-46e6-92c2-d32f33ce6f6c",
   "metadata": {},
   "outputs": [
    {
     "name": "stdout",
     "output_type": "stream",
     "text": [
      "1 \n",
      "2 \n",
      "3 \n",
      "4 \n",
      "5 \n",
      "6 \n",
      "7 \n",
      "8 \n",
      "9 \n",
      "10 \n"
     ]
    }
   ],
   "source": [
    "# time.asleep\n",
    "for i in range(1,11):\n",
    "    print(i,'\\r')\n",
    "    time.sleep(1)"
   ]
  },
  {
   "cell_type": "code",
   "execution_count": 171,
   "id": "18e5d826-b40e-4e82-8271-f5b81b043fe9",
   "metadata": {},
   "outputs": [
    {
     "name": "stdout",
     "output_type": "stream",
     "text": [
      "10"
     ]
    }
   ],
   "source": [
    "# time.sleep\n",
    "import time as t\n",
    "for i in range(1,11):\n",
    "    print(i,end='\\r')\n",
    "    t.sleep(1)"
   ]
  },
  {
   "cell_type": "markdown",
   "id": "b1853dfd-479d-40b3-8671-777058c01cdf",
   "metadata": {},
   "source": [
    "## math.gcd , math.lcm"
   ]
  },
  {
   "cell_type": "code",
   "execution_count": 172,
   "id": "8bccfc75-a5e1-4afb-bef7-89dcc11ce4eb",
   "metadata": {},
   "outputs": [],
   "source": [
    "import math"
   ]
  },
  {
   "cell_type": "code",
   "execution_count": 177,
   "id": "6a670ecf-30b6-43b7-a95c-a33ab31bd61c",
   "metadata": {},
   "outputs": [
    {
     "name": "stdout",
     "output_type": "stream",
     "text": [
      "3.141592653589793\n",
      "20\n",
      "75\n"
     ]
    }
   ],
   "source": [
    "print(math.pi) # pi 값\n",
    "print(math.gcd(60,100,80)) # 최대공약수 값\n",
    "print(math.lcm(15,25)) # 최소공배수 값"
   ]
  },
  {
   "cell_type": "markdown",
   "id": "d9172d31-cf5a-4558-b886-3142c9b86a07",
   "metadata": {},
   "source": [
    "## random"
   ]
  },
  {
   "cell_type": "code",
   "execution_count": 16,
   "id": "e459a760-6263-4441-9681-b0b01cd0f70a",
   "metadata": {},
   "outputs": [
    {
     "name": "stdout",
     "output_type": "stream",
     "text": [
      "0.37962435291981567\n",
      "7\n"
     ]
    }
   ],
   "source": [
    "import random as r\n",
    "# r.random()\n",
    "print(r.random()) # 0.0에서 1.0 사이의 난수 리턴\n",
    "# r. randint()\n",
    "print(r.randint(1,10)) # a에서 b 까지의 난수 리턴"
   ]
  },
  {
   "cell_type": "code",
   "execution_count": 196,
   "id": "ddc37913-18c5-4124-bde6-eb43be565d28",
   "metadata": {},
   "outputs": [
    {
     "name": "stdout",
     "output_type": "stream",
     "text": [
      "22 44 33 55 33 55 "
     ]
    }
   ],
   "source": [
    "# r.choice()\n",
    "data = [11,22,33,44,55,66]\n",
    "for n in range(6):\n",
    "    print(r.choice(data), end=' ')"
   ]
  },
  {
   "cell_type": "code",
   "execution_count": 20,
   "id": "4d4713e5-3c1c-4f0d-bbd4-9b5a5b6776b8",
   "metadata": {},
   "outputs": [
    {
     "name": "stdout",
     "output_type": "stream",
     "text": [
      "[17, 1, 20, 6, 7, 10, 16, 4, 9, 18, 12, 13, 11, 19, 3, 8, 15, 2, 5, 14] 20\n",
      "{1, 2, 3, 4, 5, 6, 7, 8, 9, 10, 11, 12, 13, 14, 15, 16, 17, 18, 19, 20} 20\n"
     ]
    }
   ],
   "source": [
    "# r.sample()\n",
    "li = list(range(1,21))\n",
    "arr = []\n",
    "for n in r.sample(li,len(li)):\n",
    "    arr.append(n)\n",
    "print(arr,len(arr))\n",
    "sarr = set(arr)\n",
    "print(sarr,len(sarr))"
   ]
  },
  {
   "cell_type": "code",
   "execution_count": 28,
   "id": "6f13fc43-beb2-46ec-92d1-66b82021cd6b",
   "metadata": {},
   "outputs": [],
   "source": [
    "# 06-4 간단한 메모장 만들기\n",
    " # 필요한 기능 ; 메모 추가하기, 메모 조회하기.\n",
    " # 입력 받는 값은 ; 메모 내용, 프로그램 실행 옵션\n",
    " # 출력하는 값은? memo.txt\n",
    "class Memo:\n",
    "    def __init__(self,text1=\"\",text2=\"\"):\n",
    "        self.text1 = text1\n",
    "        self.text2 = text2\n",
    "    def write(self):\n",
    "        text1 = input(\"메모할 사항을 입력하세요 !\")\n",
    "        with open(\"memo.txt\",\"w\",encoding=\"utf-8\") as f:\n",
    "            f.write(text1)\n",
    "    def rewrite(self):\n",
    "        text2 = input(\"추가 메모를 입력하세요 !\")\n",
    "        with open(\"memo.txt\",\"a\",encoding=\"utf-8\") as f:\n",
    "            f.write(f\" {text2}\")\n",
    "    def read_memo(self):\n",
    "        f = open(\"memo.txt\",\"r\",encoding=\"utf-8\")\n",
    "        for line in f:    \n",
    "            return line \n",
    "        f.close()"
   ]
  },
  {
   "cell_type": "code",
   "execution_count": 30,
   "id": "e1575cb6-89e2-4c23-ac71-d73492fb69b6",
   "metadata": {},
   "outputs": [
    {
     "name": "stdin",
     "output_type": "stream",
     "text": [
      "메모할 사항을 입력하세요 ! 오늘 메뉴는 뭘까?\n"
     ]
    },
    {
     "name": "stdout",
     "output_type": "stream",
     "text": [
      "None\n"
     ]
    }
   ],
   "source": [
    "m1 = Memo(\"\")\n",
    "print(m1.write())"
   ]
  },
  {
   "cell_type": "code",
   "execution_count": 31,
   "id": "ab811bac-dd4e-4c6a-83ac-9e436d5592fa",
   "metadata": {},
   "outputs": [
    {
     "name": "stdin",
     "output_type": "stream",
     "text": [
      "추가 메모를 입력하세요 ! 오늘 맛있는거 나오나 ?!\n"
     ]
    }
   ],
   "source": [
    "m1.rewrite()"
   ]
  },
  {
   "cell_type": "code",
   "execution_count": 32,
   "id": "66c0dd19-0eba-48f0-9a4f-0bf835959344",
   "metadata": {},
   "outputs": [
    {
     "name": "stdout",
     "output_type": "stream",
     "text": [
      "오늘 메뉴는 뭘까? 오늘 맛있는거 나오나 ?!\n"
     ]
    }
   ],
   "source": [
    "print(m1.read_memo())"
   ]
  },
  {
   "cell_type": "code",
   "execution_count": null,
   "id": "488c6393-5b00-4f1d-8b62-947965e0f5bb",
   "metadata": {
    "jp-MarkdownHeadingCollapsed": true
   },
   "outputs": [],
   "source": [
    "# 20250219 그... 뭐냐. 13번째 수업~"
   ]
  },
  {
   "cell_type": "markdown",
   "id": "ecd55b13-9cee-4975-b4a3-227d53e54147",
   "metadata": {},
   "source": [
    "## itertools"
   ]
  },
  {
   "cell_type": "code",
   "execution_count": 5,
   "id": "83ead6cd-b742-462d-9a1c-674e8d01fe62",
   "metadata": {},
   "outputs": [
    {
     "name": "stdout",
     "output_type": "stream",
     "text": [
      "[('한민서', '사탕'), ('황지민', '초콜릿'), ('이영철', '젤리'), ('이광수', '새우깡'), ('김승민', '새우깡')]\n"
     ]
    }
   ],
   "source": [
    "# intertools_zip\n",
    "import itertools\n",
    "students = ['한민서','황지민','이영철','이광수','김승민']\n",
    "snacks = ['사탕','초콜릿','젤리']\n",
    "\n",
    "# result = zip(students, snacks)  # zip은 작은 배열에 길이를 맞춤\n",
    "result = itertools.zip_longest(students, snacks, fillvalue=\"새우깡\")  # fillvalue : 빈공간에 무엇을 채울것인가?\n",
    "print(list(result))"
   ]
  },
  {
   "cell_type": "code",
   "execution_count": 8,
   "id": "4003ad47-36a1-4ffd-86df-f06a9f59faf8",
   "metadata": {},
   "outputs": [
    {
     "name": "stdout",
     "output_type": "stream",
     "text": [
      "[('1', '2'), ('1', '3'), ('2', '1'), ('2', '3'), ('3', '1'), ('3', '2')]\n"
     ]
    }
   ],
   "source": [
    "# itertools.permutation\n",
    "import itertools\n",
    "print(list(itertools.permutations(['1','2','3'],2)))"
   ]
  },
  {
   "cell_type": "code",
   "execution_count": 10,
   "id": "109507e6-2ce9-4d7d-8f42-8d943d4c6e98",
   "metadata": {},
   "outputs": [
    {
     "name": "stdout",
     "output_type": "stream",
     "text": [
      "[('1', '2'), ('1', '3'), ('2', '3')]\n"
     ]
    }
   ],
   "source": [
    "# itertools.combination\n",
    "import itertools\n",
    "print(list(itertools.combinations(['1','2','3'],2)))"
   ]
  },
  {
   "cell_type": "code",
   "execution_count": 13,
   "id": "0ff736f1-0d85-4a37-8c34-e73d1b26b65e",
   "metadata": {},
   "outputs": [
    {
     "name": "stdout",
     "output_type": "stream",
     "text": [
      "<class 'itertools.combinations'>\n"
     ]
    },
    {
     "data": {
      "text/plain": [
       "8145060"
      ]
     },
     "execution_count": 13,
     "metadata": {},
     "output_type": "execute_result"
    }
   ],
   "source": [
    "# itertools.combination ; 확장 !!\n",
    "import itertools\n",
    "lotto = itertools.combinations(range(1,46),6)\n",
    "print(type(lotto))\n",
    "ls = list(lotto)\n",
    "# for num in ls[:48]:\n",
    "#     print(num)\n",
    "len(ls)    # ; 모든 경우의 수 !"
   ]
  },
  {
   "cell_type": "code",
   "execution_count": null,
   "id": "3400849c-83be-4656-baff-861a25e6d85d",
   "metadata": {},
   "outputs": [],
   "source": [
    "# map / filter / reduce 의 차이를 알자!!!"
   ]
  },
  {
   "cell_type": "code",
   "execution_count": null,
   "id": "2a144fed-6879-41fb-9735-a55a80aa1a5f",
   "metadata": {},
   "outputs": [],
   "source": [
    "# reduce는 좀 쓰기 어렵지만.. 속도가 빠를 수도 . . ?"
   ]
  },
  {
   "cell_type": "code",
   "execution_count": 15,
   "id": "4e8ec8d8-e8d2-4163-aa97-bbb22ab76e24",
   "metadata": {},
   "outputs": [
    {
     "name": "stdout",
     "output_type": "stream",
     "text": [
      "55\n"
     ]
    }
   ],
   "source": [
    "# functools.reduce\n",
    "# reduce_test.py        p269 예제\n",
    "import functools\n",
    "data = [1,2,3,4,5,6,7,8,9,10]\n",
    "result = functools.reduce(lambda x,y:x+y, data)  # x는 현재값, y는 누적되고 있는 값 \n",
    "print(result)"
   ]
  },
  {
   "cell_type": "code",
   "execution_count": 20,
   "id": "d92ac56f-8043-40cd-bac6-5af21f4a855b",
   "metadata": {},
   "outputs": [
    {
     "name": "stdout",
     "output_type": "stream",
     "text": [
      "8\n"
     ]
    }
   ],
   "source": [
    "import functools\n",
    "num_list = [3,2,8,1,6,7]\n",
    "max_num = functools.reduce(lambda x, y:x if x>y else y, num_list)\n",
    "print(max_num)"
   ]
  },
  {
   "cell_type": "code",
   "execution_count": 1,
   "id": "6fafe076-3260-4c34-ad82-6ea86335d8ef",
   "metadata": {},
   "outputs": [
    {
     "name": "stdout",
     "output_type": "stream",
     "text": [
      "[('sally', 17, 'B'), ('jane', 22, 'A'), ('dave', 32, 'B')]\n"
     ]
    }
   ],
   "source": [
    "# operator.itemgetter\n",
    "# itemgetter1.py    p270 예제\n",
    "from operator import itemgetter\n",
    "name = [\"jane\",\"dave\",\"sally\"]\n",
    "age=[22,32,17]\n",
    "grade = ['A','B','B']\n",
    "students =zip(name,age,grade)   # 튜플로 만들어서 담음~\n",
    "\n",
    "# students = [\n",
    "#     (\"jane\",22,'A'),\n",
    "#     (\"dave\",32,'B'),\n",
    "#     (\"sally\",17,'B'),\n",
    "# ]\n",
    "result = sorted(students, key=itemgetter(1))  # cf) reverse=True\n",
    "print(result)"
   ]
  },
  {
   "cell_type": "code",
   "execution_count": 1,
   "id": "82885dda-d6e0-4697-a043-246a769f0c5a",
   "metadata": {},
   "outputs": [
    {
     "name": "stdout",
     "output_type": "stream",
     "text": [
      "[{'name': 'jane', 'age': 22, 'grade': 'A'}, {'name': 'dave', 'age': 32, 'grade': 'B'}, {'name': 'sally', 'age': 17, 'grade': 'B'}]\n",
      "[{'name': 'sally', 'age': 17, 'grade': 'B'}, {'name': 'jane', 'age': 22, 'grade': 'A'}, {'name': 'dave', 'age': 32, 'grade': 'B'}]\n"
     ]
    }
   ],
   "source": [
    "\n",
    "# itemgetter2.py    p271 예제\n",
    "from operator import itemgetter\n",
    "name = [\"jane\",\"dave\",\"sally\"]\n",
    "age=[22,32,17]\n",
    "grade = ['A','B','B']\n",
    "\n",
    "# 첫번째 방법\n",
    "# students = [{\"name\":\"jane\",\"age\":22,\"grade\":'A'},\n",
    "#            {\"name\":\"dave\",\"age\":32,\"grade\":'B'},\n",
    "#         {\"name\":\"sally\",\"age\":17,\"grade\":'B'}]\n",
    "\n",
    "# 두번째 방법\n",
    "# students = []\n",
    "# for n in name:\n",
    "#     print({'name':n,'age':n,'grade':n})\n",
    "\n",
    "# 세번째 방법\n",
    "# students = []\n",
    "# for n, a, g in zip(name,age,grade):\n",
    "#     students.append({'name':n,'age':a,'grade':g})\n",
    "# print(students)\n",
    "\n",
    "# 네번째 방법\n",
    "students= [{'name':n,'age':a,'grade':g} for n,a,g in zip(name,age,grade)]\n",
    "print(students)\n",
    "\n",
    "result = sorted(students, key=itemgetter('age'))\n",
    "print(result)"
   ]
  },
  {
   "cell_type": "code",
   "execution_count": 4,
   "id": "53f8e1ae-f1ed-491c-93b3-6ee65257eb05",
   "metadata": {},
   "outputs": [],
   "source": [
    "# operator.attrgetter()\n",
    "# attrgetter1.py     p272 예제\n",
    "\n",
    "from operator import attrgetter\n",
    "\n",
    "class Student:\n",
    "    def __init__(self, name, age, grade):\n",
    "        self.name = name\n",
    "        self.age = age\n",
    "        self.grade = grade\n",
    "\n",
    "students=[\n",
    "    Student('jane', 22, 'A'),\n",
    "    Student('dave', 32, 'B'),\n",
    "    Student('sally', 17, 'B'),\n",
    "        ]\n",
    "\n",
    "result = sorted(students, key=attrgetter('age'))"
   ]
  },
  {
   "cell_type": "code",
   "execution_count": 7,
   "id": "f937a3b4-f711-43f2-978c-33ef61383642",
   "metadata": {},
   "outputs": [
    {
     "name": "stdout",
     "output_type": "stream",
     "text": [
      "29142\n",
      "29147\n",
      "29152\n",
      "29157\n",
      "29162\n"
     ]
    }
   ],
   "source": [
    "# shutil    ; 로컬 백업이 가능하게 만들어 줌 !!\n",
    "import shutil, time as t\n",
    "\n",
    "for n in range(5):\n",
    "    tstamp = str(round(t.time()))[-5:]      # 시간 도장 ! 타임스탬프!\n",
    "    print(tstamp)\n",
    "    shutil.copy(\"foo.txt\",f\"./backup/foo_{tstamp}.txt.bak\")\n",
    "    t.sleep(5)"
   ]
  },
  {
   "cell_type": "code",
   "execution_count": 1,
   "id": "2b357069-3dae-4c1a-b0c7-bf66656295aa",
   "metadata": {},
   "outputs": [
    {
     "name": "stdout",
     "output_type": "stream",
     "text": [
      "['./backup\\\\foo.txt', './backup\\\\foo.txt.bak', './backup\\\\foo_29142.txt.bak', './backup\\\\foo_29147.txt.bak', './backup\\\\foo_29152.txt.bak', './backup\\\\foo_29157.txt.bak', './backup\\\\foo_29162.txt.bak']\n",
      "====================\n",
      "['.\\\\backup', '.\\\\batch', '.\\\\game', '.\\\\my_life.txt', '.\\\\py01_start.ipynb', '.\\\\py02_list.ipynb', '.\\\\py03_if.ipynb', '.\\\\py04_function.ipynb', '.\\\\py05_class.ipynb', '.\\\\py06_module.ipynb', '.\\\\py07_built-in function.ipynb', '.\\\\py8_external-library.ipynb', '.\\\\team_3', '.\\\\testfile', '.\\\\__pycache__']\n"
     ]
    }
   ],
   "source": [
    "# glob\n",
    "import glob\n",
    "print(glob.glob(\"./backup/*\"))\n",
    "print(\"=\"*20)\n",
    "print(glob.glob(\"./*\"))"
   ]
  },
  {
   "cell_type": "code",
   "execution_count": 13,
   "id": "e72277ba-4817-4fb9-94dd-1d7e2d27eef2",
   "metadata": {},
   "outputs": [
    {
     "name": "stdout",
     "output_type": "stream",
     "text": [
      "./backup\\foo.txt\n"
     ]
    }
   ],
   "source": [
    "# glob\n",
    "import glob\n",
    "for file in glob.glob(\"./backup/*.txt\"):\n",
    "    print(file)"
   ]
  },
  {
   "cell_type": "code",
   "execution_count": 17,
   "id": "47f9c954-ef00-4fc0-9184-0c171ced9826",
   "metadata": {},
   "outputs": [],
   "source": [
    "# pickle    p 273-274 예제\n",
    "import pickle\n",
    "f= open(\"test.txt\",'wb')\n",
    "data = {1:'python', 2: 'you need'}\n",
    "pickle.dump(data,f)\n",
    "f.close()"
   ]
  },
  {
   "cell_type": "code",
   "execution_count": 18,
   "id": "cb46c8b2-2036-42a9-aa03-76462afc9945",
   "metadata": {},
   "outputs": [
    {
     "name": "stdout",
     "output_type": "stream",
     "text": [
      "{1: 'python', 2: 'you need'}\n"
     ]
    }
   ],
   "source": [
    "import pickle\n",
    "f = open(\"test.txt\", 'rb')\n",
    "data = pickle.load(f)\n",
    "f.close()\n",
    "print(data)"
   ]
  },
  {
   "cell_type": "markdown",
   "id": "2907c3a9-b00c-4b7f-a9c6-3b807aa3ff77",
   "metadata": {},
   "source": [
    "## os"
   ]
  },
  {
   "cell_type": "code",
   "execution_count": 2,
   "id": "f988d8d7-17ca-4d00-a326-e5837af47f9e",
   "metadata": {},
   "outputs": [
    {
     "data": {
      "text/plain": [
       "'C:\\\\WINDOWS'"
      ]
     },
     "execution_count": 2,
     "metadata": {},
     "output_type": "execute_result"
    }
   ],
   "source": [
    "import os\n",
    "# 환경변수 중 PATH 값\n",
    "os.environ['PATH']\n",
    "# 디렉토리 변경\n",
    "os.chdir(\"C:\\\\WINDOWS\")\n",
    "# 디렉토리 위치 받기\n",
    "os.getcwd()"
   ]
  },
  {
   "cell_type": "code",
   "execution_count": 3,
   "id": "ec84febf-71b2-452c-8320-9404297a9d29",
   "metadata": {},
   "outputs": [
    {
     "data": {
      "text/plain": [
       "0"
      ]
     },
     "execution_count": 3,
     "metadata": {},
     "output_type": "execute_result"
    }
   ],
   "source": [
    "os.system(\"dir\")   # 있으면 0, 없으면 1로 반환 ?!"
   ]
  },
  {
   "cell_type": "code",
   "execution_count": 4,
   "id": "121128f1-1e64-413e-a535-f7d4dd38b3f9",
   "metadata": {},
   "outputs": [
    {
     "data": {
      "text/plain": [
       "0"
      ]
     },
     "execution_count": 4,
     "metadata": {},
     "output_type": "execute_result"
    }
   ],
   "source": [
    "# 시스템 명령어 호출\n",
    "os.system(\"python\")"
   ]
  },
  {
   "cell_type": "code",
   "execution_count": 7,
   "id": "efea901b-1809-48ed-b53e-c0dcae4aecab",
   "metadata": {},
   "outputs": [
    {
     "data": {
      "text/plain": [
       "'Python 3.13.1\\n'"
      ]
     },
     "execution_count": 7,
     "metadata": {},
     "output_type": "execute_result"
    }
   ],
   "source": [
    "f = os.popen(\"python -V\")\n",
    "f.read()"
   ]
  },
  {
   "cell_type": "code",
   "execution_count": 8,
   "id": "3cc1aa5d-304e-45ac-895f-dff799f05ad3",
   "metadata": {},
   "outputs": [],
   "source": [
    "# 시스템 명령어 호출    ; \n",
    "def what(what):\n",
    "    if not os.system(what) :  #   에러시 1을 반환\n",
    "        f = os.popen(f\"{what} -V\")\n",
    "        print(f.read())\n",
    "    else:\n",
    "        print('없는 명령어 입니다.')"
   ]
  },
  {
   "cell_type": "code",
   "execution_count": 9,
   "id": "5ca2f4a0-99e9-428d-9dea-6a6e601c5bc1",
   "metadata": {},
   "outputs": [
    {
     "name": "stdout",
     "output_type": "stream",
     "text": [
      "Python 3.13.1\n",
      "\n"
     ]
    }
   ],
   "source": [
    "what(\"python\")"
   ]
  },
  {
   "cell_type": "code",
   "execution_count": null,
   "id": "50a79f56-e55b-4e3a-badf-834ed5de3743",
   "metadata": {},
   "outputs": [],
   "source": [
    "# zipfile    ; 압축 하고 .. 압축 풀고 ..!    p 276 예제\n",
    "import zipfile\n",
    "\n",
    "# 파일 합치기\n",
    "with zipfile.ZipFile('mytext.zip', 'w') as myzip:\n",
    "    myzip.write('a.txt')\n",
    "    myzip.write('b.txt')\n",
    "    myzip.write('c.txt')"
   ]
  },
  {
   "cell_type": "code",
   "execution_count": null,
   "id": "657f6a64-ffc4-4c2e-a35e-cafcfe9027e1",
   "metadata": {},
   "outputs": [],
   "source": [
    "# 해제하기\n",
    "with zipfile.ZipFile('mytext.zip') as myzip:\n",
    "    myzip.extractall()"
   ]
  },
  {
   "cell_type": "markdown",
   "id": "e76d9f98-ace3-4dfb-b663-9a4d9ef8e814",
   "metadata": {},
   "source": [
    "## Threading"
   ]
  },
  {
   "cell_type": "code",
   "execution_count": 8,
   "id": "9e8d6ef6-e433-4b4d-93d2-7287c82e7c4c",
   "metadata": {},
   "outputs": [
    {
     "name": "stdout",
     "output_type": "stream",
     "text": [
      "일하는 중 ... 0\n",
      "일하는 중 ... 1\n",
      "일하는 중 ... 2\n",
      "일하는 중 ... 3\n",
      "일하는 중 ... 4\n"
     ]
    }
   ],
   "source": [
    "import time\n",
    "def long_task():\n",
    "    for i in range(5):\n",
    "        time.sleep(1)\n",
    "        print(f\"일하는 중 ... {i}\")\n",
    "long_task()"
   ]
  },
  {
   "cell_type": "code",
   "execution_count": 9,
   "id": "a3c79daa-fd5d-4d88-95aa-52b02c9c7e62",
   "metadata": {},
   "outputs": [
    {
     "name": "stdout",
     "output_type": "stream",
     "text": [
      "=====Start=====\n",
      "일하는 중 ... 0\n",
      "일하는 중 ... 1\n",
      "일하는 중 ... 2\n",
      "일하는 중 ... 3\n",
      "일하는 중 ... 4\n",
      "일하는 중 ... 0\n",
      "일하는 중 ... 1\n",
      "일하는 중 ... 2\n",
      "일하는 중 ... 3\n",
      "일하는 중 ... 4\n",
      "일하는 중 ... 0\n",
      "일하는 중 ... 1\n",
      "일하는 중 ... 2\n",
      "일하는 중 ... 3\n",
      "일하는 중 ... 4\n",
      "일하는 중 ... 0\n",
      "일하는 중 ... 1\n",
      "일하는 중 ... 2\n",
      "일하는 중 ... 3\n",
      "일하는 중 ... 4\n",
      "일하는 중 ... 0\n",
      "일하는 중 ... 1\n",
      "일하는 중 ... 2\n",
      "일하는 중 ... 3\n",
      "일하는 중 ... 4\n",
      "=====End=====\n",
      "25.021535396575928\n"
     ]
    }
   ],
   "source": [
    "# 기본 작업 5초 * 5회 > 25초 !\n",
    "start = time.time()\n",
    "print(\"=====Start=====\")\n",
    "for n in range(5):\n",
    "    long_task()\n",
    "print(\"=====End=====\")\n",
    "print(time.time() - start)"
   ]
  },
  {
   "cell_type": "code",
   "execution_count": 11,
   "id": "783edc03-cf99-45e0-8271-6e340f4a7528",
   "metadata": {},
   "outputs": [
    {
     "name": "stdout",
     "output_type": "stream",
     "text": [
      "=====Start=====\n",
      "일하는 중 ... 0일하는 중 ... 0\n",
      "일하는 중 ... 0\n",
      "일하는 중 ... 0\n",
      "일하는 중 ... 0\n",
      "\n",
      "일하는 중 ... 1\n",
      "일하는 중 ... 1\n",
      "일하는 중 ... 1\n",
      "일하는 중 ... 1\n",
      "일하는 중 ... 1\n",
      "일하는 중 ... 2\n",
      "일하는 중 ... 2\n",
      "일하는 중 ... 2\n",
      "일하는 중 ... 2\n",
      "일하는 중 ... 2\n",
      "일하는 중 ... 3\n",
      "일하는 중 ... 3\n",
      "일하는 중 ... 3\n",
      "일하는 중 ... 3\n",
      "일하는 중 ... 3\n",
      "일하는 중 ... 4일하는 중 ... 4\n",
      "일하는 중 ... 4\n",
      "일하는 중 ... 4\n",
      "\n",
      "일하는 중 ... 4\n",
      "=====End=====\n",
      "5.018455743789673\n"
     ]
    }
   ],
   "source": [
    "# thread를 사용    ; 병렬처리\n",
    "import threading\n",
    "start = time.time()\n",
    "print(\"=====Start=====\")\n",
    "threads = []\n",
    "for n in range(5):\n",
    "    t = threading.Thread(target=long_task)\n",
    "    threads.append(t)\n",
    "for t in threads:\n",
    "    t.start()\n",
    "for t in threads:\n",
    "    t.join()\n",
    "print(\"=====End=====\")\n",
    "print(time.time() - start)"
   ]
  },
  {
   "cell_type": "markdown",
   "id": "f7bea1fa-87cd-411b-8637-dd0beb2b6605",
   "metadata": {},
   "source": [
    "## etc"
   ]
  },
  {
   "cell_type": "code",
   "execution_count": 19,
   "id": "8320b3ef-e581-4577-80fb-631976a59254",
   "metadata": {},
   "outputs": [],
   "source": [
    "# tempfile     # 금방 지울 수 있는 임시파일 ~\n",
    "import tempfile   \n",
    "filename = tempfile.mkstemp()\n",
    "filename\n",
    "f.close()"
   ]
  },
  {
   "cell_type": "code",
   "execution_count": 23,
   "id": "bb4f830c-085e-42bb-92f0-3f13210d3aeb",
   "metadata": {},
   "outputs": [
    {
     "name": "stdout",
     "output_type": "stream",
     "text": [
      "오류가 발생했습니다.\n",
      "Traceback (most recent call last):\n",
      "  File \"C:\\Users\\Admin\\AppData\\Local\\Temp\\ipykernel_5088\\2867044537.py\", line 11, in main\n",
      "    b()\n",
      "    ~^^\n",
      "  File \"C:\\Users\\Admin\\AppData\\Local\\Temp\\ipykernel_5088\\2867044537.py\", line 7, in b\n",
      "    a()\n",
      "    ~^^\n",
      "  File \"C:\\Users\\Admin\\AppData\\Local\\Temp\\ipykernel_5088\\2867044537.py\", line 4, in a\n",
      "    return 1/0\n",
      "           ~^~\n",
      "ZeroDivisionError: division by zero\n",
      "\n"
     ]
    }
   ],
   "source": [
    "# traceback\n",
    "import traceback\n",
    "def a():\n",
    "    return 1/0\n",
    "\n",
    "def b():\n",
    "    a()\n",
    "\n",
    "def main():\n",
    "    try:\n",
    "        b()\n",
    "    except:\n",
    "        print(\"오류가 발생했습니다.\")\n",
    "        print(traceback.format_exc())\n",
    "\n",
    "main()"
   ]
  },
  {
   "cell_type": "markdown",
   "id": "5c797116-ea33-430a-abf3-b1e8eb31eb1f",
   "metadata": {},
   "source": [
    "## JSON"
   ]
  },
  {
   "cell_type": "code",
   "execution_count": null,
   "id": "912077f7-e15a-442a-b94f-7707158457b1",
   "metadata": {},
   "outputs": [],
   "source": [
    "{\n",
    "    \"name\":\"홍길동\"\n",
    "    \"birth\":\"0525\"\n",
    "    \"age\":30\n",
    "}"
   ]
  },
  {
   "cell_type": "code",
   "execution_count": null,
   "id": "14df1996-3471-4bbb-a149-a0e7b5278005",
   "metadata": {},
   "outputs": [],
   "source": [
    "import requests\n",
    "import json\n",
    "url = 'https://jsonplaceholder.typicode.com/todos'\n",
    "res = requests.get(url)\n",
    "for n in res.json():\n",
    "    print(n)   # json 형태로 한줄씩 출력 ~"
   ]
  },
  {
   "cell_type": "code",
   "execution_count": null,
   "id": "8314b432-2fbb-44ae-ac7e-61162e39e085",
   "metadata": {},
   "outputs": [],
   "source": [
    "import requests\n",
    "import json\n",
    "url = 'https://jsonplaceholder.typicode.com/todos'\n",
    "res = requests.get(url)\n",
    "for n in res.json():\n",
    "    print(n)   # json 형태로 한줄씩 출력 ~"
   ]
  },
  {
   "cell_type": "code",
   "execution_count": 9,
   "id": "02c0e235-92fb-4757-bf2e-02660a2f6d96",
   "metadata": {},
   "outputs": [],
   "source": [
    "import requests\n",
    "import json\n",
    "url = 'https://jsonplaceholder.typicode.com/todos'  # json 파일을 읽어오기\n",
    "data = requests.get(url).json()[0]   # Json > Dict\n",
    "with open('todo.json','w') as f :\n",
    "    json.dump(data,f)   # dict > json"
   ]
  },
  {
   "cell_type": "code",
   "execution_count": 6,
   "id": "af4c5f8e-c26f-40d1-8a6d-73e54a242292",
   "metadata": {},
   "outputs": [
    {
     "name": "stdout",
     "output_type": "stream",
     "text": [
      "{'userId': 1, 'id': 1, 'title': 'delectus aut autem', 'completed': False}\n"
     ]
    }
   ],
   "source": [
    "with open('todo.json') as f:\n",
    "    data = json.load(f)   # json > dict\n",
    "print(data)"
   ]
  },
  {
   "cell_type": "code",
   "execution_count": 12,
   "id": "e69ec4f8-8a87-4ce7-923c-0c7e348f32c4",
   "metadata": {},
   "outputs": [
    {
     "name": "stdout",
     "output_type": "stream",
     "text": [
      "{\"userId\": 1, \"id\": 1, \"title\": \"delectus aut autem\", \"completed\": false, \"test\": \"\\ud55c\\uae00\\ub3c4 \\ub418\\ub098 \\ubcf4\\uc790.\"}\n"
     ]
    }
   ],
   "source": [
    "import requests\n",
    "import json\n",
    "url = 'https://jsonplaceholder.typicode.com/todos'  # json 파일을 읽어오기\n",
    "data = requests.get(url).json()[0]   # Json > Dict\n",
    "data['test'] = \"한글도 되나 보자.\"\n",
    "with open('todo.json','w') as f :\n",
    "    json.dump(data,f)   # dict > json\n",
    "print(json.dumps(data))    # 이때 dumps의 s는 string의 s이다 !"
   ]
  },
  {
   "attachments": {
    "adf80136-e959-4879-bb51-e7903d37d279.png": {
     "image/png": "[encoded data removed]"
    }
   },
   "cell_type": "markdown",
   "id": "7b968d04-606d-404a-946c-23c1628b169c",
   "metadata": {},
   "source": [
    "<img src= 'attachment:adf80136-e959-4879-bb51-e7903d37d279.png' width=250>"
   ]
  },
  {
   "cell_type": "code",
   "execution_count": 14,
   "id": "7356e2f5-53a6-4471-9439-4fbc2a1b9838",
   "metadata": {},
   "outputs": [
    {
     "name": "stdout",
     "output_type": "stream",
     "text": [
      "{'userId': 1, 'id': 1, 'title': 'delectus aut autem', 'completed': False, 'test': '한글도 되나 보자.'}\n",
      "{'userId': 1, 'id': 1, 'title': 'delectus aut autem', 'completed': False, 'test': '한글도 되나 보자.'}\n"
     ]
    }
   ],
   "source": [
    "with open('todo.json') as f:\n",
    "    data = json.load(f)\n",
    "print(json.loads(data_s))\n",
    "print(data)"
   ]
  },
  {
   "cell_type": "code",
   "execution_count": 13,
   "id": "70e7744a-43b1-494c-8b76-eae7241d6104",
   "metadata": {},
   "outputs": [
    {
     "name": "stdout",
     "output_type": "stream",
     "text": [
      "{\"userId\": 1, \"id\": 1, \"title\": \"delectus aut autem\", \"completed\": false, \"test\": \"한글도 되나 보자.\"}\n"
     ]
    }
   ],
   "source": [
    "import requests\n",
    "import json\n",
    "url = 'https://jsonplaceholder.typicode.com/todos'  # json 파일을 읽어오기\n",
    "data = requests.get(url).json()[0]   # Json > Dict\n",
    "data['test'] = \"한글도 되나 보자.\"\n",
    "with open('todo.json','w') as f :\n",
    "    json.dump(data,f)   # dict > json\n",
    "data_s = json.dumps(data,ensure_ascii=False)   # 한굴 깨짐 방지 !!!!!\n",
    "print(data_s)"
   ]
  },
  {
   "cell_type": "code",
   "execution_count": null,
   "id": "6773a65e-3004-403b-bb39-189b0c6bafb9",
   "metadata": {},
   "outputs": [],
   "source": [
    "# cf) urllib\n",
    "import urllib.request\n",
    "\n",
    "def get_wikidocs(page):\n",
    "    resource = 'https//wikidocs.net/{}'.format(page)\n",
    "    with urllib.request.urlopen(resource) as s:\n",
    "        with open('wikidocs_%s.html' % page, 'wb') as f:\n",
    "            f.write(s.read())\n",
    "for n in range(5):\n",
    "    get_wikidocs(n)"
   ]
  },
  {
   "cell_type": "code",
   "execution_count": 15,
   "id": "b384fbe1-bdd9-4b1c-be2f-64f62af69fdc",
   "metadata": {},
   "outputs": [
    {
     "data": {
      "text/plain": [
       "True"
      ]
     },
     "execution_count": 15,
     "metadata": {},
     "output_type": "execute_result"
    }
   ],
   "source": [
    "# cf) webbrowsser\n",
    "import webbrowser\n",
    "\n",
    "webbrowser.open_new('http://python.org')"
   ]
  },
  {
   "cell_type": "code",
   "execution_count": 20,
   "id": "18cfef8c-f7b4-4d2e-842a-54b60828a6e1",
   "metadata": {},
   "outputs": [
    {
     "ename": "IndentationError",
     "evalue": "unexpected indent (2125163861.py, line 4)",
     "output_type": "error",
     "traceback": [
      "\u001b[1;36m  Cell \u001b[1;32mIn[20], line 4\u001b[1;36m\u001b[0m\n\u001b[1;33m    with urllib.request.urlopen(resource)as as:\u001b[0m\n\u001b[1;37m    ^\u001b[0m\n\u001b[1;31mIndentationError\u001b[0m\u001b[1;31m:\u001b[0m unexpected indent\n"
     ]
    }
   ],
   "source": [
    "import urllib.request\n",
    "import time as t\n",
    "url = 'https://jsonplaceholder.typicode.com/posts/{page}'\n",
    "    with urllib.request.urlopen(resource)as as:\n",
    "        with open(f./data/posts-{page}.html','wb') as f :\n",
    "            f.write(s.read())\n",
    "for n in range(1,11):\n",
    "    get_posts(n)\n",
    "    t.sleep(0.1)"
   ]
  },
  {
   "cell_type": "code",
   "execution_count": 23,
   "id": "9bde950e-9c93-4db2-9b21-d92eaa605d1b",
   "metadata": {},
   "outputs": [],
   "source": [
    "# urllib\n",
    "import urllib.request\n",
    "def get_wikidocs(page):\n",
    "    resource = 'https://wikidocs.net/{}'.format(page)\n",
    "    with urllib.request.urlopen(resource) as s:\n",
    "        with open('wikidocs_%s.html' % page, 'wb') as f:\n",
    "            f.write(s.read())\n",
    "get_wikidocs(1)"
   ]
  },
  {
   "cell_type": "code",
   "execution_count": 21,
   "id": "81c76f26-e0fc-4719-bc25-6b9e8534ffed",
   "metadata": {},
   "outputs": [
    {
     "data": {
      "text/plain": [
       "True"
      ]
     },
     "execution_count": 21,
     "metadata": {},
     "output_type": "execute_result"
    }
   ],
   "source": [
    "# webbrowser\n",
    "import webbrowser\n",
    "webbrowser.open_new('wikidocs_3.html')"
   ]
  },
  {
   "cell_type": "code",
   "execution_count": 26,
   "id": "dd4867ea-04b4-4fe6-9242-09b495dc6435",
   "metadata": {},
   "outputs": [],
   "source": [
    "# 테스트 urllib\n",
    "import urllib.request\n",
    "import time as t\n",
    "def get_posts(page):\n",
    "    resource = f'https://jsonplaceholder.typicode.com/posts/{page}'\n",
    "    with urllib.request.urlopen(resource) as s:\n",
    "        with open(f'./data/posts_{page}.html', 'wb') as f:\n",
    "            f.write(s.read())\n",
    "for n in range(1,11):\n",
    "    get_posts(n)\n",
    "    t.sleep(0.1)"
   ]
  },
  {
   "cell_type": "code",
   "execution_count": null,
   "id": "d7418f9d-be7d-4a81-89da-94d87f088182",
   "metadata": {},
   "outputs": [],
   "source": []
  }
 ],
 "metadata": {
  "kernelspec": {
   "display_name": "Python 3 (ipykernel)",
   "language": "python",
   "name": "python3"
  },
  "language_info": {
   "codemirror_mode": {
    "name": "ipython",
    "version": 3
   },
   "file_extension": ".py",
   "mimetype": "text/x-python",
   "name": "python",
   "nbconvert_exporter": "python",
   "pygments_lexer": "ipython3",
   "version": "3.13.1"
  }
 },
 "nbformat": 4,
 "nbformat_minor": 5
}
