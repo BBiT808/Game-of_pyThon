{
 "cells": [
  {
   "cell_type": "markdown",
   "id": "ca35086f-fc9e-416c-a580-b3834970d1d2",
   "metadata": {},
   "source": [
    "# 모듈"
   ]
  },
  {
   "cell_type": "markdown",
   "id": "de2484f7-4310-4061-9efe-3b69d6e1a3d4",
   "metadata": {},
   "source": [
    "## 모듈 만들기"
   ]
  },
  {
   "cell_type": "code",
   "execution_count": 2,
   "id": "55fed8e3-be89-4414-bb2c-0df5cb6b87b6",
   "metadata": {},
   "outputs": [],
   "source": [
    "# 모듈 만들기 - mod1.py\n",
    "# def add(a,b):\n",
    "#     return a+b\n",
    "# def sub(a,b):\n",
    "#     return a-b"
   ]
  },
  {
   "cell_type": "code",
   "execution_count": 2,
   "id": "ca6f1458-8f46-42e4-b535-a554da74379b",
   "metadata": {},
   "outputs": [
    {
     "name": "stdout",
     "output_type": "stream",
     "text": [
      "3\n",
      "7\n"
     ]
    }
   ],
   "source": [
    "import mod1\n",
    "print(mod1.add(1,2))\n",
    "print(mod1.add(3,4))"
   ]
  },
  {
   "cell_type": "code",
   "execution_count": 3,
   "id": "8c9efaf6-756e-4ca4-b4cd-5087c956810a",
   "metadata": {},
   "outputs": [],
   "source": [
    "with open(\"mod2.py\",\"w\") as f:\n",
    "    data=\"\"\"def mul(a,b):\n",
    "    return a*b\n",
    "def div(a,b):\n",
    "    return a/b\"\"\"\n",
    "    f.write(data)"
   ]
  },
  {
   "cell_type": "code",
   "execution_count": 4,
   "id": "a01bfdfa-7e3c-4c20-b3f5-2f8c21b2d889",
   "metadata": {},
   "outputs": [
    {
     "name": "stdout",
     "output_type": "stream",
     "text": [
      "12\n",
      "2.0\n"
     ]
    }
   ],
   "source": [
    "import mod2\n",
    "print(mod2.mul(3,4))\n",
    "print(mod2.div(8,4))"
   ]
  },
  {
   "cell_type": "code",
   "execution_count": 5,
   "id": "cd68c2b8-3f23-4148-a1f8-0eb43d226075",
   "metadata": {},
   "outputs": [
    {
     "name": "stdout",
     "output_type": "stream",
     "text": [
      "3\n",
      "7\n",
      "12\n",
      "2.0\n"
     ]
    }
   ],
   "source": [
    "import mod1, mod2\n",
    "print(mod1.add(1,2))\n",
    "print(mod1.add(3,4))\n",
    "print(mod2.mul(3,4))\n",
    "print(mod2.div(8,4))"
   ]
  },
  {
   "cell_type": "code",
   "execution_count": 7,
   "id": "5e502374-676a-4d7d-8b22-4e84a9c39216",
   "metadata": {},
   "outputs": [
    {
     "name": "stdout",
     "output_type": "stream",
     "text": [
      "3\n",
      "7\n",
      "12\n",
      "2.0\n"
     ]
    }
   ],
   "source": [
    "# import mod1 as m1\n",
    "# import mod2 as m2\n",
    "import mod1 as m1, mod2 as m2    # ,를 찍으면 연속해서 적을 수 있음~\n",
    "print(m1.add(1,2))\n",
    "print(m1.add(3,4))\n",
    "print(m2.mul(3,4))\n",
    "print(m2.div(8,4))"
   ]
  },
  {
   "cell_type": "code",
   "execution_count": 8,
   "id": "d5195e85-1d78-4957-8c7f-b821bc6d5f25",
   "metadata": {},
   "outputs": [
    {
     "name": "stdout",
     "output_type": "stream",
     "text": [
      "77\n"
     ]
    }
   ],
   "source": [
    "# cf) 참고 1\n",
    "from mod1 import add , sub   # 다른 곳에도 add의 속성을 가진 함수가 있을 수 있음 !\n",
    "print(add(33,44))               # 잘못하면 충돌이 일어난다 ~"
   ]
  },
  {
   "cell_type": "code",
   "execution_count": 9,
   "id": "02b591be-7bf8-4608-a1d5-559c873c39c9",
   "metadata": {},
   "outputs": [
    {
     "name": "stdout",
     "output_type": "stream",
     "text": [
      "20\n"
     ]
    }
   ],
   "source": [
    "# cf) 참고 2\n",
    "from mod2 import *    # mod2에 있는 함수를 다 땡겨온다 ~\n",
    "print(mul(4,5))         # 편하지만 충돌을 주의해야 함 !!"
   ]
  },
  {
   "cell_type": "markdown",
   "id": "1f77d701-af12-4d48-88b4-15ad26de7ad3",
   "metadata": {},
   "source": [
    "## `__main__` 의 의미"
   ]
  },
  {
   "cell_type": "code",
   "execution_count": null,
   "id": "3335f928-8ff2-4240-811e-a4b69707c81f",
   "metadata": {},
   "outputs": [],
   "source": [
    "# 백틱(`) 쓰면 markdown에서 언더바 표시 가능 ~~ 전공자 최고 ^0^"
   ]
  },
  {
   "cell_type": "code",
   "execution_count": 12,
   "id": "32172434-fe2d-40c1-878c-75a2705a1d33",
   "metadata": {},
   "outputs": [],
   "source": [
    "with open(\"mod1.py\",\"a\") as f :\n",
    "    text = \"\"\"\\nprint(add(1,4))\\nprint(sub(4,2))\"\"\"   # 이렇게 해야 모양이 예쁘다고~\n",
    "    f.write(text)"
   ]
  },
  {
   "cell_type": "markdown",
   "id": "433f894e-340a-473b-ab89-308c1367fda5",
   "metadata": {},
   "source": [
    "매직 커멘드\n",
    "\n",
    "- %%bash : 우분투 (리눅스)\n",
    "- %% cmd : 윈도우"
   ]
  },
  {
   "cell_type": "code",
   "execution_count": 2,
   "id": "9d5494dd-a19a-4ec5-8340-e7622e17d25e",
   "metadata": {},
   "outputs": [
    {
     "name": "stdout",
     "output_type": "stream",
     "text": [
      "Microsoft Windows [Version 10.0.26100.3194]\n",
      "(c) Microsoft Corporation. All rights reserved.\n",
      "\n",
      "eh\\code>python mod1.py\n",
      "5\n",
      "2\n",
      "__main__\n",
      "�� ���Ϸ� ������ �Ǿ���� !\n",
      "\n",
      "d:\\keh\\code>"
     ]
    }
   ],
   "source": [
    "%%cmd   # 이 프로그램 안에서 cmd를 실행한 것처럼 진행해 줘 !!\n",
    "python mod1.py"
   ]
  },
  {
   "attachments": {
    "347f673d-d004-4118-b9f3-ff6dce759fab.png": {
     "image/png": "[encoded data removed]"
    }
   },
   "cell_type": "markdown",
   "id": "fc8e3264-b310-4638-8dd2-183a2e8119ae",
   "metadata": {},
   "source": [
    "![image.png](attachment:347f673d-d004-4118-b9f3-ff6dce759fab.png)"
   ]
  },
  {
   "cell_type": "code",
   "execution_count": null,
   "id": "c27e5da2-0a32-47ff-be83-812650d8e8d5",
   "metadata": {},
   "outputs": [],
   "source": [
    "# if __name__==\"__main__\" :   > 이것은 밖에서 실행할 때 활용할 수 있다 !!"
   ]
  },
  {
   "cell_type": "code",
   "execution_count": 3,
   "id": "9fbb1de3-7d88-4405-8383-3a7c52712497",
   "metadata": {},
   "outputs": [
    {
     "name": "stdout",
     "output_type": "stream",
     "text": [
      "5\n",
      "2\n",
      "mod1\n",
      "전 모듈로 임포트 되었어요.\n"
     ]
    }
   ],
   "source": [
    "import mod1"
   ]
  },
  {
   "cell_type": "code",
   "execution_count": 5,
   "id": "dd064f0e-3533-4574-ba9e-5ceca93639bd",
   "metadata": {},
   "outputs": [
    {
     "data": {
      "text/plain": [
       "['__builtins__',\n",
       " '__cached__',\n",
       " '__doc__',\n",
       " '__file__',\n",
       " '__loader__',\n",
       " '__name__',\n",
       " '__package__',\n",
       " '__spec__',\n",
       " 'add',\n",
       " 'sub']"
      ]
     },
     "execution_count": 5,
     "metadata": {},
     "output_type": "execute_result"
    }
   ],
   "source": [
    "dir(mod1)   # 기본으로 상속받은 것들과, 모듈 안에 있는 함수 표시"
   ]
  },
  {
   "cell_type": "code",
   "execution_count": 6,
   "id": "5c257ac3-1b50-449c-a0e3-6054e064c890",
   "metadata": {},
   "outputs": [],
   "source": [
    "# with open('mod1.py','a') as f:\n",
    "#     content = \"\\nprint(__name__)\"\n",
    "#     f.write(content)"
   ]
  },
  {
   "cell_type": "code",
   "execution_count": null,
   "id": "a2792720-541a-401b-a570-13c8a4e1c9c7",
   "metadata": {},
   "outputs": [],
   "source": [
    "# 삼성전자의 현 시세 55000 (python sam.py)\n",
    "  # 1. cmd에서 파일로 실행했을 때\n",
    "  #    삼성전자의 시세가 나오고 임포트 했을땐 아무것도 나오지 않고 대기하게 하라.\n",
    "  # 2. python sam.py '삼성전자'  ; 삼성전자에 대해 나오기\n",
    "       # python sam.py '기아'     ; 기아에 대해 나오기\n",
    "       # 대신 임포트 했을 땐 아무것도 나오지 않게 하기 !\n",
    "       # 사용을 할 땐 해당 시세를 출력할 수 있어야 한다 !"
   ]
  },
  {
   "cell_type": "code",
   "execution_count": 73,
   "id": "6ad44442-b026-4895-a256-a7895448e9ae",
   "metadata": {},
   "outputs": [],
   "source": [
    "# 연습 1\n",
    "with open(\"sam.py\",\"w\",encoding=\"utf-8\") as f:\n",
    "    data = \"\"\"\n",
    "if __name__ == \"__main__\":\n",
    "    print(f\"Samsung's market price : 55000\")\n",
    "else:\n",
    "    print('')\"\"\"\n",
    "    f.write(data)"
   ]
  },
  {
   "cell_type": "code",
   "execution_count": 64,
   "id": "33736e41-9eff-4fd2-a1b4-bca6f7707f7b",
   "metadata": {},
   "outputs": [],
   "source": [
    "# 연습 2\n",
    "with open(\"sam2.py\",\"w\",encoding=\"utf-8\") as f:\n",
    "    content =\"\"\"if __name__ == \"__main__\":\n",
    "    def marketprice():\n",
    "        com = input(\"시세를 알고 싶은 회사를 입력하세요 ! \")\n",
    "        if com == \"삼성\":\n",
    "            print(\"Samsung's marketprice is 55000\")\n",
    "        if com == \"기아\":\n",
    "            print(\"Kia's marketprice is 93000\")\n",
    "    marketprice()\n",
    "else:\n",
    "    print('')\"\"\"\n",
    "    f.write(content)"
   ]
  },
  {
   "cell_type": "code",
   "execution_count": 98,
   "id": "d4ab659b-cfd9-4ca2-8f23-e850c67ddc76",
   "metadata": {},
   "outputs": [],
   "source": [
    "# 실습 1\n",
    "with open(\"sam1.py\",\"w\",encoding=\"utf-8\") as f:\n",
    "    data = \"\"\"\n",
    "if __name__ == \"__main__\":\n",
    "    import requests as req\n",
    "    url = \"https://finance.naver.com/sise/sise_market_sum.naver\"\n",
    "    web = req.get(url)\n",
    "    html = web.text\n",
    "    f1 = html.find('삼성전자')\n",
    "    print('삼성전자 : '+html[f1:f1+100][19:50].replace('<td class=\"number\">',\"\").replace('</td>',\"\"))\n",
    "else:\n",
    "    print('')\"\"\"\n",
    "    f.write(data)"
   ]
  },
  {
   "cell_type": "code",
   "execution_count": 99,
   "id": "2c084bda-f113-46da-9014-a2ad0f7c5001",
   "metadata": {},
   "outputs": [
    {
     "name": "stdout",
     "output_type": "stream",
     "text": [
      "Microsoft Windows [Version 10.0.26100.3194]\n",
      "(c) Microsoft Corporation. All rights reserved.\n",
      "\n",
      "eh\\code>python sam1.py\n",
      "�Ｚ���� : 55,900\n",
      "\n",
      "\n",
      "d:\\keh\\code>"
     ]
    }
   ],
   "source": [
    "%%cmd\n",
    "python sam1.py"
   ]
  },
  {
   "cell_type": "code",
   "execution_count": 100,
   "id": "9550ffab-5c98-4812-84c5-7950ab132c85",
   "metadata": {},
   "outputs": [],
   "source": [
    "import sam1"
   ]
  },
  {
   "cell_type": "code",
   "execution_count": 94,
   "id": "b012492e-f4fc-4fcf-ac9a-f3d8d8cd32e7",
   "metadata": {},
   "outputs": [],
   "source": [
    "# 실습 2\n",
    "with open(\"sam3.py\",\"w\",encoding=\"utf-8\") as f:\n",
    "    content =\"\"\"\n",
    "if __name__ == \"__main__\":\n",
    "    import requests as req\n",
    "    url = \"https://finance.naver.com/sise/sise_market_sum.naver\"\n",
    "    web = req.get(url)\n",
    "    html = web.text\n",
    "    # print(html)\n",
    "    f1 = html.find('삼성전자')\n",
    "    f2 = html.find('기아')\n",
    "    def marketprice():\n",
    "        com = input(\"시세를 알고 싶은 회사를 입력하세요 ! \")\n",
    "        if com == \"삼성\":\n",
    "            print('삼성전자 : '+html[f1:f1+100][19:50].replace('<td class=\"number\">',\"\").replace('</td>',\"\"))\n",
    "        if com == \"기아\":\n",
    "            print('기아 : '+html[f2:f2+100][17:50].replace('<td class=\"number\">',\"\").replace('</td>',\"\"))\n",
    "    marketprice()\n",
    "else:\n",
    "    print('')\"\"\"\n",
    "    f.write(content)"
   ]
  },
  {
   "cell_type": "code",
   "execution_count": 96,
   "id": "bc6a13a5-c670-4f6c-a0b0-099e97c3e2eb",
   "metadata": {},
   "outputs": [
    {
     "name": "stdout",
     "output_type": "stream",
     "text": [
      "Microsoft Windows [Version 10.0.26100.3194]\n",
      "(c) Microsoft Corporation. All rights reserved.\n",
      "\n",
      "eh\\code>python sam3.py\n",
      "�ü��� �˰� ���� ȸ�縦 �Է��ϼ��� ! "
     ]
    },
    {
     "name": "stderr",
     "output_type": "stream",
     "text": [
      "Traceback (most recent call last):\n",
      "  File \"d:\\keh\\code\\sam3.py\", line 16, in <module>\n",
      "ice()arketpr\n",
      "    ~~~~~~~~~~~^^\n",
      "  File \"d:\\keh\\code\\sam3.py\", line 11, in marketprice\n",
      "���� �˰� ���� ȸ�縦 �Է��ϼ��� ! \")\n",
      "          ~~~~~^^^^^^^^^^^^^^^^^^^^^^^^^^^^^^^^^^^^^^^^^\n",
      "Error: EOF when reading a line\n"
     ]
    },
    {
     "name": "stdout",
     "output_type": "stream",
     "text": [
      "\n",
      "d:\\keh\\code>"
     ]
    }
   ],
   "source": [
    "%%cmd\n",
    "python sam3.py"
   ]
  },
  {
   "attachments": {
    "3ee7a18a-9430-4fb0-8eb9-df76ccefe004.png": {
     "image/png": "[encoded data removed]"
    }
   },
   "cell_type": "markdown",
   "id": "3d09b44f-5401-4f1b-8c2d-e98c0f913ffa",
   "metadata": {},
   "source": [
    "![image.png](attachment:3ee7a18a-9430-4fb0-8eb9-df76ccefe004.png)"
   ]
  },
  {
   "cell_type": "code",
   "execution_count": 95,
   "id": "db3cf72d-36c7-404f-a8f1-cf9db75ba228",
   "metadata": {},
   "outputs": [],
   "source": [
    "import sam3"
   ]
  },
  {
   "cell_type": "code",
   "execution_count": null,
   "id": "555e97a6-6db1-4aff-acfa-73fd1816cd8b",
   "metadata": {},
   "outputs": [],
   "source": [
    "# 해설 !  ; sam.py에\n",
    "import requests as req\n",
    "    url=\"https://finance.naver.com/sise/sise_market_sum.naver\"\n",
    "    web=req.get(url)\n",
    "    html=web.text\n",
    "\n",
    "def sam(jong = '삼성전자'):\n",
    "    f1 = html.find(jong)\n",
    "    return (f'{jong} :' +html[f1:f1+100][19:50].replace('<td class=\"number\">',\"\").replace('</td>',\"\"))\n",
    "\n",
    "if __name__=='__main__':\n",
    "    print(sam())"
   ]
  },
  {
   "cell_type": "code",
   "execution_count": 104,
   "id": "9c86d0d5-c329-4d37-9c7d-e801e7dd0d7f",
   "metadata": {},
   "outputs": [
    {
     "data": {
      "text/plain": [
       "'삼성물산 :<121,500원'"
      ]
     },
     "execution_count": 104,
     "metadata": {},
     "output_type": "execute_result"
    }
   ],
   "source": [
    "import sam해설\n",
    "sam해설.sam('삼성물산')"
   ]
  },
  {
   "cell_type": "code",
   "execution_count": null,
   "id": "6a3f47d2-a3b7-4bc5-86fe-18a3a52cd19b",
   "metadata": {},
   "outputs": [],
   "source": [
    "# beautiful soup라는 함수로 깨끗하게 원하는 것만 잡아낼 수 있다 ~"
   ]
  },
  {
   "cell_type": "markdown",
   "id": "7c8103f1-8e6f-4582-98ab-5d7f4e32cc02",
   "metadata": {},
   "source": [
    "## 클래스가 변수 등을 포함한 모듈"
   ]
  },
  {
   "cell_type": "code",
   "execution_count": 3,
   "id": "e23c7850-8dd5-4141-a277-e7ee90a1fc68",
   "metadata": {},
   "outputs": [],
   "source": [
    "with open(\"mod3.py\",\"w\") as f:\n",
    "    text = \"\"\"PI = 3.141592\\n\\nclass Math:\\n\\tdef solv(self,r):\\n\\t\\treturn PI * (r**2)\\n\\ndef add(a,b):\\n\\treturn a+b\"\"\"\n",
    "    f.write(text)  # 괄호 안에 바로 넣어도 됨 !"
   ]
  },
  {
   "cell_type": "code",
   "execution_count": 8,
   "id": "b2cd295a-dc79-4787-b4c9-ecfd54bcb68a",
   "metadata": {},
   "outputs": [
    {
     "name": "stdout",
     "output_type": "stream",
     "text": [
      "3.141592\n",
      "314.1592\n",
      "7.5415920000000005\n"
     ]
    }
   ],
   "source": [
    "import mod3\n",
    "# 변수\n",
    "print(mod3.PI)\n",
    "\n",
    "# 클래스\n",
    "a = mod3.Math()\n",
    "print(a.solv(10))  # PI * (r**2)\n",
    "\n",
    "# 함수\n",
    "print(mod3.add(mod3.PI, 4.4))"
   ]
  },
  {
   "cell_type": "markdown",
   "id": "6a7c9c42-4ef4-4961-a516-c89a722b03a9",
   "metadata": {},
   "source": [
    "## 다른 파일에서 모듈 불러오기"
   ]
  },
  {
   "cell_type": "code",
   "execution_count": 9,
   "id": "8949ea34-dc02-46a6-a60e-fdc600573745",
   "metadata": {},
   "outputs": [
    {
     "data": {
      "text/plain": [
       "['C:\\\\Users\\\\Admin\\\\AppData\\\\Local\\\\Programs\\\\Python\\\\Python313\\\\python313.zip',\n",
       " 'C:\\\\Users\\\\Admin\\\\AppData\\\\Local\\\\Programs\\\\Python\\\\Python313\\\\DLLs',\n",
       " 'C:\\\\Users\\\\Admin\\\\AppData\\\\Local\\\\Programs\\\\Python\\\\Python313\\\\Lib',\n",
       " 'C:\\\\Users\\\\Admin\\\\AppData\\\\Local\\\\Programs\\\\Python\\\\Python313',\n",
       " '',\n",
       " 'C:\\\\Users\\\\Admin\\\\AppData\\\\Local\\\\Programs\\\\Python\\\\Python313\\\\Lib\\\\site-packages',\n",
       " 'C:\\\\Users\\\\Admin\\\\AppData\\\\Local\\\\Programs\\\\Python\\\\Python313\\\\Lib\\\\site-packages\\\\win32',\n",
       " 'C:\\\\Users\\\\Admin\\\\AppData\\\\Local\\\\Programs\\\\Python\\\\Python313\\\\Lib\\\\site-packages\\\\win32\\\\lib',\n",
       " 'C:\\\\Users\\\\Admin\\\\AppData\\\\Local\\\\Programs\\\\Python\\\\Python313\\\\Lib\\\\site-packages\\\\Pythonwin']"
      ]
     },
     "execution_count": 9,
     "metadata": {},
     "output_type": "execute_result"
    }
   ],
   "source": [
    "import sys\n",
    "sys.path"
   ]
  },
  {
   "cell_type": "code",
   "execution_count": 13,
   "id": "2ba54c8a-3bf7-4005-b266-3fc7f74acaef",
   "metadata": {},
   "outputs": [
    {
     "data": {
      "text/plain": [
       "['C:\\\\Users\\\\Admin\\\\AppData\\\\Local\\\\Programs\\\\Python\\\\Python313\\\\python313.zip',\n",
       " 'C:\\\\Users\\\\Admin\\\\AppData\\\\Local\\\\Programs\\\\Python\\\\Python313\\\\DLLs',\n",
       " 'C:\\\\Users\\\\Admin\\\\AppData\\\\Local\\\\Programs\\\\Python\\\\Python313\\\\Lib',\n",
       " 'C:\\\\Users\\\\Admin\\\\AppData\\\\Local\\\\Programs\\\\Python\\\\Python313',\n",
       " '',\n",
       " 'C:\\\\Users\\\\Admin\\\\AppData\\\\Local\\\\Programs\\\\Python\\\\Python313\\\\Lib\\\\site-packages',\n",
       " 'C:\\\\Users\\\\Admin\\\\AppData\\\\Local\\\\Programs\\\\Python\\\\Python313\\\\Lib\\\\site-packages\\\\win32',\n",
       " 'C:\\\\Users\\\\Admin\\\\AppData\\\\Local\\\\Programs\\\\Python\\\\Python313\\\\Lib\\\\site-packages\\\\win32\\\\lib',\n",
       " 'C:\\\\Users\\\\Admin\\\\AppData\\\\Local\\\\Programs\\\\Python\\\\Python313\\\\Lib\\\\site-packages\\\\Pythonwin',\n",
       " 'D:\\\\keh\\\\code\\\\mymod']"
      ]
     },
     "execution_count": 13,
     "metadata": {},
     "output_type": "execute_result"
    }
   ],
   "source": [
    "sys.path.append('D:\\\\keh\\\\code\\\\mymod') # 초기화 하면 사라짐!\n",
    "sys.path"
   ]
  },
  {
   "cell_type": "code",
   "execution_count": 14,
   "id": "55aedcd7-74f6-49f5-a9fc-f9c6eed5af93",
   "metadata": {},
   "outputs": [
    {
     "name": "stdout",
     "output_type": "stream",
     "text": [
      "Microsoft Windows [Version 10.0.26100.3194]\n",
      "(c) Microsoft Corporation. All rights reserved.\n",
      "\n",
      "eh\\code>sys.PHYTHON=\\\\keh\\\\code\n"
     ]
    },
    {
     "name": "stderr",
     "output_type": "stream",
     "text": [
      "'sys.PHYTHON'��(��) ���� �Ǵ� �ܺ� ����, ������ �� �ִ� ���α׷�, �Ǵ�\n",
      "��ġ ������ �ƴմϴ�.\n"
     ]
    },
    {
     "name": "stdout",
     "output_type": "stream",
     "text": [
      "\n",
      "d:\\keh\\code>"
     ]
    }
   ],
   "source": [
    "%%cmd\n",
    "sys.PHYTHON=\\\\keh\\\\code"
   ]
  },
  {
   "cell_type": "code",
   "execution_count": 12,
   "id": "d3c103a7-24ad-4eb8-ba9f-8b5fc23a4ecb",
   "metadata": {},
   "outputs": [
    {
     "name": "stdout",
     "output_type": "stream",
     "text": [
      "Collecting python-dotenv\n",
      "  Downloading python_dotenv-1.0.1-py3-none-any.whl.metadata (23 kB)\n",
      "Downloading python_dotenv-1.0.1-py3-none-any.whl (19 kB)\n",
      "Installing collected packages: python-dotenv\n",
      "Successfully installed python-dotenv-1.0.1\n"
     ]
    }
   ],
   "source": [
    "# !pip install python-dotenv      ; 최상위 파일을 만들어 놔야함\n",
    "\n",
    "# .env 사용하기 ; 파이썬 환경변수"
   ]
  },
  {
   "cell_type": "code",
   "execution_count": 1,
   "id": "2e0c40e2-5af9-4cd4-9676-e44e208a0d02",
   "metadata": {},
   "outputs": [
    {
     "name": "stdout",
     "output_type": "stream",
     "text": [
      "my phone 010-7777-7777\n",
      "https://www.google.com\n",
      "이게 될까 ?? 모르겠어요 .!\n"
     ]
    }
   ],
   "source": [
    "from dotenv import load_dotenv\n",
    "import os       # 환경변수를 사용할 수 있는 함수\n",
    "\n",
    "# .env 파일 로드   ; 이 때, .env 파일은 최상위경로에 있어야 함 !\n",
    "load_dotenv()\n",
    "\n",
    "SKEY = os.getenv(\"SECRET_KEY\")    # SKEY, \"SECRET_KEY\", \"DEBUG\" 등은 마음대로 설정해도 됨 ! \n",
    "print(SKEY)\n",
    "DEBUG = os.getenv(\"DEBUG\")\n",
    "print(DEBUG)\n",
    "TEST = os.getenv(\"TEST\")\n",
    "print(TEST)"
   ]
  },
  {
   "cell_type": "code",
   "execution_count": 7,
   "id": "f5b07bcf-207f-4560-aeb4-bce59f841223",
   "metadata": {},
   "outputs": [],
   "source": [
    "# 함수로 만든 뒤에 ~ 테스트 해보기 ~!"
   ]
  },
  {
   "cell_type": "code",
   "execution_count": 25,
   "id": "f6aec74d-bcd2-4c1d-9f6f-cf3e5a9d6feb",
   "metadata": {},
   "outputs": [
    {
     "name": "stdout",
     "output_type": "stream",
     "text": [
      "[IPO레이더]대진첨단소재 &quot;美 공장 증설·CNT 도전재 시장 진출&quot;\n",
      "주요 제품으로는 <b>대전</b>방지 트레이 및 PET 이형필름 등이 있다. LG에너지솔루션이 주요 납품사이며, 2021년 미국 시장에 진출하면서 글로벌 생산 거점을 확보했다. 이를 바탕으로 지난해 10월 말 기준 약 8785만 달러... \n",
      "https://www.newsway.co.kr/news/view?ud=2025021314061670648\n",
      "KT, 상장 이후 최대 매출 26조4312억 달성\n",
      "2024년 11월에는 <b>대전</b>인재개발원 일부 부지에 약 860세대 규모의 공동주택 분양 공고를 완료하며 신규 개발사업에 착수했다. KT 클라우드는 주요 사업부문의 성장과 고객기반 확대로 전년 대비 매출이 15.5... \n",
      "http://www.datanews.co.kr/news/article.html?no=137113\n",
      "[POP이슈]장원영 조문 요구 쇄도에..하늘 양 父 “강요 아닌 부탁” 안타...\n",
      "지난 10일, <b>대전</b> 서구의 한 초등학교에서 8살 故 김하늘 양이 교사가 휘두른 흉기에 사망해 모두를 충격에 빠뜨렸다. 안타까운 비보에 추모 물결이 이어지던 가운데, 故 김하늘 양이 생전 그룹 아이브의 열렬한 팬이라는... \n",
      "https://www.heraldpop.com/article/10419543?ref=naver\n",
      "“회 뜨려고 한다…잘 드는 칼 있어요?” 일부러 날카로운 흉기 구입한...\n",
      "전직 경찰 &quot;사리 분별 충분히 가능한 사람의 계획범죄&quot; 피의자 상태 조사 불가능…체포영장 집행 시점 ‘불확실’ <b>대전</b>=김창희 기자 <b>대전</b> 초등학생을 살해한 교사가 범행에 사용할 흉기를 구입하면서 점원에게 잘 드는... \n",
      "https://www.munhwa.com/news/view.html?no=2025021301039927102003\n",
      "우울증과 전문의 소견서가 범죄 촉발?…의협 &quot;사실무근&quot;\n",
      "더불어 의협은 지난 10일 <b>대전</b> 서구의 한 초등학교에서 정신질환을 앓던 교사가 초등학생을 흉기로 살해한 사건에 대해 피해자와 유가족들에게 깊은 위로를 표했다. 다만, 우울증 환자를 대상으로 한 많은 연구에서 질환이... \n",
      "http://www.hansbiz.co.kr/news/articleView.html?idxno=734126\n",
      "롯데건설, 대전 첫 롯데캐슬 브랜드 공급...14일 '대전 롯데캐슬 더퍼스...\n",
      "롯데건설이 <b>대전</b>에 첫 롯데캐슬 브랜드를 공급한다. 롯데건설이 오는 14일 '<b>대전</b> 롯데캐슬 더퍼스트'의 견본주택을 개관하고 본격적인 분양에 돌입한다고 13일 밝혔다. 이 단지는 <b>대전</b>광역시 동구 가오동 일원에... \n",
      "https://www.newsquest.co.kr/news/articleView.html?idxno=239641\n",
      "충남대, 국방 우주보안 분야 연구·개발 본격화... '국방 우주보안 특화...\n",
      "또한, &quot;국방우주분야는 <b>대전</b>시의 특화산업으로, 연구실 단위의 연구에 국한되지 않고 지자체와의 긴밀한... 충남대는 이번 국방우주보안 특화연구실이 향후 <b>대전</b>시의 특화산업인 국방우주 분야 인재 양성의 허브 역할을... \n",
      "http://www.newstnt.com/news/articleView.html?idxno=458682\n",
      "野 박용갑, 교원 정신건강 검증·치유 강화 ‘하늘이법’ 발의\n",
      "학교보건법·교육공무원법 개정안 교원 정신건강 증진 계획 의무화 복직 신청시 ‘질환심의위’ 심의도 <b>대전</b>... 의원실 제공 더불어민주당 박용갑 의원(초선·<b>대전</b> 중구)은 13일 교사의 정신건강 검증 및 치유·회복을... \n",
      "http://www.segye.com/newsView/20250213514808?OutUrl=naver\n",
      "APEC 유치기념 뮤지컬 '천년의 불꽃 김유신', 21일부터 순회공연\n",
      "천년의 불꽃 제작사인 '뮤지컬컴퍼니에이'측은 &quot;경주에서 열릴 APEC을 전 국민에게 알리기 위해 서울과 부산·<b>대전</b>·창원 등 전국 13개 시군에서 공연을 열기로 했다&quot;고 밝혔다. 아울러 &quot;도쿄와 오사카·후쿠오카 등... \n",
      "https://www.newsworks.co.kr/news/articleView.html?idxno=784421\n",
      "[단독] “내일부터 휴직하라”는 말 듣고 흉기 구입\n",
      "13일 <b>대전</b>교육청과 <b>대전</b>서부교육지원청의 설명을 들어보면, 지난 10일 <b>대전</b>서부교육지원청 유초등교육과장과 장학사 등 2명은 해당 학교에 나가 오전 11시부터 40분 동안 교장·교감을 면담했다. 학교 쪽 요청으로... \n",
      "https://www.hani.co.kr/arti/society/society_general/1182289.html\n",
      "KT 작년 영업익 구조조정에 51%↓…&quot;MS와 30개 고객사 공략&quot;(종합2보)\n",
      "작년 11월에는 <b>대전</b> 인재개발원 일부 부지에 약 860세대 규모의 공동주택 분양 공고를 완료하며 신규 개발 사업에 착수했다. KT클라우드는 주요 사업 부문 성장과 고객 기반 확대로 전년 대비 매출이 15.5% 증가했다.... \n",
      "https://www.yna.co.kr/view/AKR20250213100952527?input=1195m\n",
      "지프, ‘랭글러 41 에디션’ 국내 출시…군용車 전설 ‘윌리스 MB’ 기념\n",
      "윌리스 MB는 제2차 세계<b>대전</b>이 한창이던 1940년 미군이 진행한 경정찰차 공개 입찰에서 표준 차량으로 선정된 윌리스 오버랜드사의 시제품 ‘쿼드’를 바탕으로 생산된 차량이다. 전쟁이 끝나기 전 윌리스... \n",
      "https://www.munhwa.com/news/view.html?no=2025021301039907207006\n",
      "개혁신당 천하람 “아이브, 하늘 양 조문하지 않는게 온당”\n",
      "천하람 개혁신당 원내대표가 2월 13일 서울 여의도 국회 본관에서 열린 개혁신당 최고위원회의에서 <b>대전</b>... <b>대전</b> 초등학생 김하늘(8) 양은 지난 10일 오후 <b>대전</b> 서구 한 초등학교 건물 시청각실에서 흉기에 찔린 채 발견돼... \n",
      "https://www.newsen.com/news_view.php?uid=202502131616532410\n",
      "안성 오비맥주 파업 민노총 노조원 도로점거…경찰 4명 등 7명 부상\n",
      "화물연대 <b>대전</b>지역본부는 지난 11일 오후 오비맥주 이천공장 앞에서 출정식을 진행하고 총파업을 선언한 바 있다. 화물연대와 오비맥주, 운송사인 CJ대한통운(000120)은 3자협의체를 구성해 지난달 9일, 13일, 15일 세 차례에... \n",
      "https://www.news1.kr/local/gyeonggi/5689232\n",
      "한남대 캠퍼스혁신파크 개소식…지역 중심 산학협력 생태계 구축 본격화\n",
      "이날 개소식에서는 곽충환 학교법인 <b>대전</b>기독학원 이사장을 비롯한 이승철 한남대 총장, 유득원 <b>대전</b>시 행정부시장, 최충규 대덕구청장, 류형주 수자원공사 부사장, 정국영 <b>대전</b>도시공사사장, 김병순... \n",
      "https://news.unn.net/news/articleView.html?idxno=574990\n"
     ]
    }
   ],
   "source": [
    "# 네이버 검색 API 예제 - 뉴스 검색\n",
    "import os\n",
    "import sys\n",
    "import urllib.request\n",
    "import json\n",
    "from dotenv import load_dotenv\n",
    "\n",
    "\n",
    "\n",
    "load_dotenv()\n",
    "client_id = os.environ.get(\"MY_ID\")# \"MY_ID\"\n",
    "client_secret = os.environ.get(\"MY_SECRET\") #\"MY_SECRET\"\n",
    "\n",
    "\n",
    "encText = urllib.parse.quote(\"대전\",\"초등학교\")\n",
    "url = \"https://openapi.naver.com/v1/search/news.json?query=\" + encText + '&display=15&start=1&sort=date'\n",
    "# JSON 결과\n",
    "request = urllib.request.Request(url)\n",
    "request.add_header(\"X-Naver-Client-Id\",client_id)\n",
    "request.add_header(\"X-Naver-Client-Secret\",client_secret)\n",
    "response = urllib.request.urlopen(request)\n",
    "rescode = response.getcode()\n",
    "if(rescode==200):\n",
    "    response_body = response.read()\n",
    "    result = response_body.decode('utf-8')\n",
    "    data=json.loads(result)\n",
    "    ldata = data['items']\n",
    "    for n in ldata:\n",
    "        print(n['title'].replace('<b>','').replace('</b>',\"\"))\n",
    "        print(n['description'])\n",
    "        print(n['originallink'])\n",
    "else:\n",
    "    print(\"Error Code:\" + rescode)"
   ]
  },
  {
   "cell_type": "code",
   "execution_count": null,
   "id": "3eb03396-a5e6-4621-b526-ae2ee270cdd7",
   "metadata": {},
   "outputs": [],
   "source": [
    "def news"
   ]
  },
  {
   "cell_type": "code",
   "execution_count": null,
   "id": "1db11bca-f39b-4049-a73e-5f4f206fb970",
   "metadata": {},
   "outputs": [],
   "source": [
    "# 20250214 헉!!! 벌써 10번째 수업이라고 ???!?!?!?!"
   ]
  },
  {
   "cell_type": "code",
   "execution_count": 5,
   "id": "199632f4-9715-43c7-bf81-a5a57de4f1ee",
   "metadata": {},
   "outputs": [],
   "source": [
    "# 우영우 프로그램 ~~ 입력을 하면 그 단어가 거꾸로 해도 같은 단어인지 확인하는 프로그램을 만들자 !!\n",
    "with open(\"young-u.py\",\"w\",encoding=\"utf-8\") as f:\n",
    "    content =\"\"\"\n",
    "def young-u(text):\n",
    "    text = input(\"단어를 입력하세요\")\n",
    "    if text[0] = text[2]:\n",
    "        return = f'{text}는 거꾸로 해도 같은 단어입니다.'\n",
    "    else:\n",
    "        return = f'{text}는 거꾸로 해도 같은 단어가 아닙니다.'\n",
    "print(young-u())\"\"\"\n",
    "    f.write(content)"
   ]
  },
  {
   "cell_type": "code",
   "execution_count": 8,
   "id": "4e167c24-6feb-412a-be0b-26e771410dd9",
   "metadata": {},
   "outputs": [
    {
     "name": "stdin",
     "output_type": "stream",
     "text": [
      "단어를 입력하세요 파이썬\n"
     ]
    },
    {
     "data": {
      "text/plain": [
       "'파이썬는 거꾸로 해도 같은 단어가 아닙니다.'"
      ]
     },
     "execution_count": 8,
     "metadata": {},
     "output_type": "execute_result"
    }
   ],
   "source": [
    "import youngu\n",
    "youngu.youngu()"
   ]
  },
  {
   "cell_type": "code",
   "execution_count": 2,
   "id": "7b5a08ba-ffd0-4d2b-bac1-7c43620fecea",
   "metadata": {},
   "outputs": [
    {
     "name": "stdin",
     "output_type": "stream",
     "text": [
      "단어를 입력하세요 파이썬\n"
     ]
    },
    {
     "data": {
      "text/plain": [
       "'파이썬는 거꾸로 해도 같은 단어가 아닙니다.'"
      ]
     },
     "execution_count": 2,
     "metadata": {},
     "output_type": "execute_result"
    }
   ],
   "source": [
    "def youngu():\n",
    "    text = input(\"단어를 입력하세요\")\n",
    "    if text[0] == text[2]:\n",
    "        return (f\"{text}는 거꾸로 해도 같은 단어입니다.\")\n",
    "    else:\n",
    "        return (f\"{text}는 거꾸로 해도 같은 단어가 아닙니다.\")\n",
    "youngu()"
   ]
  },
  {
   "cell_type": "code",
   "execution_count": 12,
   "id": "05b72469-1ab3-44aa-b1c5-1c2175538e07",
   "metadata": {},
   "outputs": [
    {
     "name": "stdin",
     "output_type": "stream",
     "text": [
      "리스트를 입력하세요 1\n"
     ]
    },
    {
     "name": "stdout",
     "output_type": "stream",
     "text": [
      "[1, 2, 3, 4, 5, 6, 7, 8, 9, 10]\n",
      "홀수 리스트는 [1, 3, 5, 7, 9]입니다.\n",
      "짝수 리스트는 [2, 4, 6, 8, 10]입니다.\n"
     ]
    }
   ],
   "source": [
    "def List():\n",
    "    l1 = []\n",
    "    num = int(input(\"리스트를 입력하세요\"))\n",
    "    for n in range (10):\n",
    "        len(l1) < 10\n",
    "        l1.append(num+n)\n",
    "        odd = []\n",
    "        even =[]\n",
    "        for x in range(len(l1)):\n",
    "            if l1[x] %2 == 0:\n",
    "                even.append(l1[x])\n",
    "            if l1[x] %2 == 1:\n",
    "                odd.append(l1[x])\n",
    "    print(l1)\n",
    "    print(f'홀수 리스트는 {odd}입니다.')\n",
    "    print(f'짝수 리스트는 {even}입니다.')\n",
    "List()"
   ]
  },
  {
   "cell_type": "code",
   "execution_count": 41,
   "id": "43b0c5db-bf3e-4594-89fc-954c74b851ee",
   "metadata": {},
   "outputs": [
    {
     "name": "stdin",
     "output_type": "stream",
     "text": [
      "리스트를 입력하세요 1\n"
     ]
    },
    {
     "name": "stdout",
     "output_type": "stream",
     "text": [
      "[1, 2, 3, 4, 5, 6, 7, 8, 9, 10]\n"
     ]
    }
   ],
   "source": [
    "l1 = []\n",
    "num = int(input(\"리스트를 입력하세요\"))\n",
    "for n in range (10):\n",
    "    len(l1) < 10\n",
    "    l1.append(num+n)\n",
    "print(l1)"
   ]
  },
  {
   "cell_type": "code",
   "execution_count": 30,
   "id": "43424cd8-a645-411e-8b4f-d996a5737225",
   "metadata": {},
   "outputs": [
    {
     "name": "stdout",
     "output_type": "stream",
     "text": [
      "2\n",
      "[1, 2, 3, 2]\n"
     ]
    }
   ],
   "source": [
    "l2=[1,2,3,4,5,6,7,8,9,10]\n",
    "print(l2[1])\n",
    "even=[1,2,3]\n",
    "if l2[1] %2 == 0:\n",
    "   even.append(2)\n",
    "print(even)"
   ]
  },
  {
   "cell_type": "code",
   "execution_count": 108,
   "id": "b66d987b-36fb-41b5-82e6-686df4bb8454",
   "metadata": {},
   "outputs": [
    {
     "name": "stdin",
     "output_type": "stream",
     "text": [
      "문장을 입력해 주세요. 이제 배불러요 집에 보내줘요 버스 타고싶어\n"
     ]
    },
    {
     "name": "stdout",
     "output_type": "stream",
     "text": [
      "['이제', '배불러요', '집에', '보내줘요', '버스', '타고싶어']\n",
      "배불러요 보내줘요 타고싶어 "
     ]
    }
   ],
   "source": [
    "# 문장 긴 것 중 제일 긴 단어 표시하기 !!!\n",
    "word = input(\"문장을 입력해 주세요.\")\n",
    "sentence = word.split()\n",
    "print(sentence)\n",
    "def long():\n",
    "    s1 = []\n",
    "    for n in range(len(sentence)):\n",
    "        s1.append(len(sentence[n]))\n",
    "    for x in range(len(sentence)):\n",
    "        if max(s1) == len(sentence[x]):\n",
    "            print(sentence[x], end = ' ')\n",
    "long()"
   ]
  },
  {
   "cell_type": "code",
   "execution_count": null,
   "id": "b335fbaa-904c-4f4b-b063-c07986690d16",
   "metadata": {},
   "outputs": [],
   "source": [
    "이제 배불러요!!!!! 집에 보내줘."
   ]
  },
  {
   "cell_type": "code",
   "execution_count": null,
   "id": "96dcdba0-8024-4549-942b-2cfcd1cfc526",
   "metadata": {},
   "outputs": [],
   "source": [
    "        s2 = max(s1)\n",
    "print(s2)\n",
    "if s2 == len(sentence[n]):\n",
    "        print(sentence[n])"
   ]
  },
  {
   "cell_type": "code",
   "execution_count": 35,
   "id": "4811483c-7e16-4454-bf91-d2f099318149",
   "metadata": {},
   "outputs": [
    {
     "name": "stdin",
     "output_type": "stream",
     "text": [
      "문장을 입력해 주세요. 악!!!!!!!!! 배고파 죽겠어.\n"
     ]
    },
    {
     "name": "stdout",
     "output_type": "stream",
     "text": [
      "['악!!!!!!!!!', '배고파', '죽겠어.']\n",
      "4\n"
     ]
    }
   ],
   "source": [
    "word = input(\"문장을 입력해 주세요.\")\n",
    "sentence = word.split()\n",
    "for n in range(len(sentence)):\n",
    "    s1 = [len(sentence[n])]\n",
    "    s2 = max(s1)\n",
    "    if s2 == len(sentence[n]):\n",
    "        "
   ]
  },
  {
   "cell_type": "code",
   "execution_count": 101,
   "id": "16161ec5-382e-4239-a74e-75a8c4e36153",
   "metadata": {},
   "outputs": [
    {
     "name": "stdin",
     "output_type": "stream",
     "text": [
      "문장을 입력해 주세요. 악!!!!!!!!! 배고파 죽겠어.\n"
     ]
    },
    {
     "name": "stdout",
     "output_type": "stream",
     "text": [
      "['악!!!!!!!!!', '배고파', '죽겠어.']\n",
      "[4]\n",
      "4\n"
     ]
    }
   ],
   "source": [
    "word = input(\"문장을 입력해 주세요.\")\n",
    "sentence = word.split()\n",
    "print(sentence)\n",
    "for n in range(len(sentence)):\n",
    "    s1 = [len(sentence[n])]\n",
    "    s2 = max(s1)\n",
    "print(s1)\n",
    "print(s2)"
   ]
  },
  {
   "cell_type": "code",
   "execution_count": 81,
   "id": "61b8cf7b-d4b5-45be-ac19-68ef8835cf0e",
   "metadata": {},
   "outputs": [
    {
     "name": "stdout",
     "output_type": "stream",
     "text": [
      "Collecting qrcode\n",
      "  Downloading qrcode-8.0-py3-none-any.whl.metadata (17 kB)\n",
      "Requirement already satisfied: colorama in c:\\users\\admin\\appdata\\local\\programs\\python\\python313\\lib\\site-packages (from qrcode) (0.4.6)\n",
      "Downloading qrcode-8.0-py3-none-any.whl (45 kB)\n",
      "Installing collected packages: qrcode\n",
      "Successfully installed qrcode-8.0\n"
     ]
    }
   ],
   "source": [
    "#!pip install qrcode"
   ]
  },
  {
   "cell_type": "code",
   "execution_count": 85,
   "id": "dce7dab4-7b7e-4439-bba2-635afbcaac3b",
   "metadata": {},
   "outputs": [],
   "source": [
    "import qrcode\n",
    "\n",
    "def qrcode_maker(text,filename='qr.png'):\n",
    "    qr=qrcode.make(text)\n",
    "    qr.save(filename)\n",
    "\n",
    "qrcode_maker('안녕하세요 저는 김은희입니다.')   # 여기 적은 것을 display 해주는 함수 ↆↆↆ"
   ]
  },
  {
   "cell_type": "code",
   "execution_count": 100,
   "id": "b495d77c-e89b-4105-8e8b-a177d040be54",
   "metadata": {},
   "outputs": [
    {
     "data": {
      "text/html": [
       "<img src=\"qr.png\" width=100>"
      ],
      "text/plain": [
       "<IPython.core.display.HTML object>"
      ]
     },
     "metadata": {},
     "output_type": "display_data"
    }
   ],
   "source": [
    "# 참고~\n",
    "from IPython.display import display , HTML   # IPYthon.display 함수로 markdown이 굳이 없어도 된다 !!\n",
    "from PIL import Image\n",
    "\n",
    "image_path = \"qr.png\"\n",
    "img = Image.open(image_path)\n",
    "htmlcode='<img src=\"qr.png\" width=100>'\n",
    "#htmlcode = \"<h1>안녕하세요</h1>\"\n",
    "display(HTML(htmlcode))\n",
    "# display(img)"
   ]
  },
  {
   "cell_type": "code",
   "execution_count": 15,
   "id": "b405649c-5843-4d00-bbe6-ae4940f9e11b",
   "metadata": {},
   "outputs": [
    {
     "name": "stdin",
     "output_type": "stream",
     "text": [
      "지금의 기분을 입력하세요 🙂 지금 기분이 나빠 싫어.\n"
     ]
    },
    {
     "name": "stdout",
     "output_type": "stream",
     "text": [
      "['지금', '기분이', '나빠', '싫어']\n"
     ]
    },
    {
     "ename": "TypeError",
     "evalue": "list indices must be integers or slices, not str",
     "output_type": "error",
     "traceback": [
      "\u001b[1;31m---------------------------------------------------------------------------\u001b[0m",
      "\u001b[1;31mTypeError\u001b[0m                                 Traceback (most recent call last)",
      "Cell \u001b[1;32mIn[15], line 16\u001b[0m\n\u001b[0;32m     14\u001b[0m         \u001b[38;5;28;01melse\u001b[39;00m:\n\u001b[0;32m     15\u001b[0m             \u001b[38;5;28;01mreturn\u001b[39;00m(\u001b[38;5;124m\"\u001b[39m\u001b[38;5;124m평범한 하루셨군요! 평범이 제일이예요. 😉\u001b[39m\u001b[38;5;124m\"\u001b[39m)\n\u001b[1;32m---> 16\u001b[0m \u001b[43mnowmood\u001b[49m\u001b[43m(\u001b[49m\u001b[43m)\u001b[49m\n",
      "Cell \u001b[1;32mIn[15], line 10\u001b[0m, in \u001b[0;36mnowmood\u001b[1;34m()\u001b[0m\n\u001b[0;32m      8\u001b[0m \u001b[38;5;28;01mdef\u001b[39;00m\u001b[38;5;250m \u001b[39m\u001b[38;5;21mnowmood\u001b[39m():\n\u001b[0;32m      9\u001b[0m     \u001b[38;5;28;01mfor\u001b[39;00m x \u001b[38;5;129;01min\u001b[39;00m mood:\n\u001b[1;32m---> 10\u001b[0m         \u001b[38;5;28;01mif\u001b[39;00m \u001b[43mmood\u001b[49m\u001b[43m[\u001b[49m\u001b[43mx\u001b[49m\u001b[43m]\u001b[49m \u001b[38;5;129;01min\u001b[39;00m positive_words:\n\u001b[0;32m     11\u001b[0m             \u001b[38;5;28;01mreturn\u001b[39;00m(\u001b[38;5;124m\"\u001b[39m\u001b[38;5;124m기분이 좋아 보이네요! 😊 좋은 일이 있으셨나요? \u001b[39m\u001b[38;5;124m\"\u001b[39m)\n\u001b[0;32m     12\u001b[0m         \u001b[38;5;28;01melif\u001b[39;00m mood[x] \u001b[38;5;129;01min\u001b[39;00m negative_words:\n",
      "\u001b[1;31mTypeError\u001b[0m: list indices must be integers or slices, not str"
     ]
    }
   ],
   "source": [
    "# 내... 기분을 ...표현하기....\n",
    "positive_words = [\"좋아\", \"행복\", \"멋져\", \"최고\", \"사랑해\"]\n",
    "negative_words = [\"싫어\", \"화나\", \"짜증\", \"별로\", \"나빠\"]\n",
    "now = input(\"지금의 기분을 입력하세요 🙂\")\n",
    "n=now.replace(\".\",\"\").replace(\"!\",\"\").replace(\",\",\"\")\n",
    "mood = n.split()\n",
    "print(mood)\n",
    "def nowmood():\n",
    "    for x in mood:\n",
    "        if mood[x] in positive_words:\n",
    "            return(\"기분이 좋아 보이네요! 😊 좋은 일이 있으셨나요? \")\n",
    "        elif mood[x] in negative_words:\n",
    "            return(\"기분이 나빠 보이네요. 🥲 무슨 일이 있으셨나요? \")\n",
    "        else:\n",
    "            return(\"평범한 하루셨군요! 평범이 제일이예요. 😉\")\n",
    "nowmood()"
   ]
  },
  {
   "cell_type": "code",
   "execution_count": null,
   "id": "318f187c-bf8d-4566-9fa3-1729bbe2ac13",
   "metadata": {},
   "outputs": [],
   "source": [
    "if positive_words in mood:\n",
    "    print(\"기분이 좋아 보이네요! 😊 좋은 일이 있으셨나요? \")\n",
    "elif nevetive_words in mood:\n",
    "    print(\"기분이 나빠 보이네요. 🥲 무슨 일이 있으셨나요? \")\n",
    "else:\n",
    "    print(\"평범한 하루셨군요! 평범이 제일이예요. 😉\")"
   ]
  },
  {
   "cell_type": "code",
   "execution_count": 19,
   "id": "9778d490-ecc0-4615-95e1-caa1ebc469f1",
   "metadata": {},
   "outputs": [
    {
     "name": "stdin",
     "output_type": "stream",
     "text": [
      "당신의 기분을 입력하세요. 좋아 좋아서 좋아요 사랑 사랑해 나빠 진짜 나빠\n"
     ]
    },
    {
     "name": "stdout",
     "output_type": "stream",
     "text": [
      "1\n",
      "2\n",
      "1\n",
      "0\n",
      "0\n"
     ]
    }
   ],
   "source": [
    "# 해설 !!!\n",
    "\n",
    "positive_words = [\"좋아\", \"행복\", \"멋져\", \"최고\", \"사랑해\"]\n",
    "negative_words = [\"싫어\", \"화나\", \"짜증\", \"별로\", \"나빠\"]\n",
    "text = input(\"당신의 기분을 입력하세요.\")\n",
    "\n",
    "  # 간단 1\n",
    "# for v in positive_words:\n",
    "#     if v in text:\n",
    "#         print(\"기분이 좋아보이네요.\")\n",
    "# for n in negative_words:\n",
    "#     if n in text:\n",
    "#         print(\"기분이 나빠보이네요.\")\n",
    "\n",
    "  # 2번째\n",
    "# if any(word in text for word in positive_word):\n",
    "#     print(\"기분이 좋아보이네요\")\n",
    "# elif any(word in text for word in negative_words):\n",
    "#     print(\"기분이 나빠보이네요\")\n",
    "# else:\n",
    "#     print(\"보통이시네요.\")\n",
    "\n",
    "  # 3번째\n",
    "# pos = [v for v in positive_words if v in text]\n",
    "# print(pos,len(pos))  # 글자 수까지 표시해줌 !!\n",
    "# neg = [n for n in negative_sords if n in text]\n",
    "# print(neg,len(neg))\n",
    "# if len(pos)> len(neg):   # abs(len(pos)>len(neg))>0\n",
    "#     print(\"기분이 좋아보이네요.\")\n",
    "# elif len(pos)<len(neg):\n",
    "#     print(\"기분이 나빠보이네요\")\n",
    "# else:\n",
    "#     print(\"보통이시네요.\")\n",
    "\n",
    "   # 4번째\n",
    "pnum = 0\n",
    "text = text.split(\" \")\n",
    "for v in positive_words:\n",
    "    for s in text:\n",
    "        if v == s:\n",
    "            pnum +=1\n",
    "            print(pnum)\n",
    "for x in negative_words:\n",
    "    for y in text:\n",
    "        if x == y:\n",
    "            pnum -= 1\n",
    "            print(pnum)\n",
    "print(pnum)"
   ]
  },
  {
   "cell_type": "code",
   "execution_count": 6,
   "id": "64ad98d5-41d1-4713-8906-521f09ac2dcb",
   "metadata": {},
   "outputs": [
    {
     "name": "stdin",
     "output_type": "stream",
     "text": [
      "당신의 기분을 한 문장으로 표현해 주세요 ! :  그저 하늘 바라보며 외치죠 다시 한번 나를 사랑해줘 내 맘 속 작은 바램이 비가 되어 내려오면  내 사랑이 머리에 내리면 추억이 되살아 나고 가슴에 내리면 소중했던 사랑이 떠오르고 내 사랑이 입술에 닿으면 널 사랑해 내게 외치며\n"
     ]
    },
    {
     "name": "stdout",
     "output_type": "stream",
     "text": [
      "['그저', '하늘', '바라보다', '외치', '죠', '다시', '한번', '나르다', '사랑', '해주다', '내', '맘', '속', '작다', '바램', '이', '비', '가', '되어다', '내려오다', '내', '사랑', '이', '머리', '에', '내리다', '추억', '이', '되다', '살', '아', '나다', '가슴', '에', '내리다', '소중하다', '사랑', '이', '떠오르다', '내', '사랑', '이', '입술', '에', '닿다', '널', '사랑', '하다', '내다', '외치', '며']\n"
     ]
    }
   ],
   "source": [
    "from konlpy.tag import Okt\n",
    "\n",
    "# 한글 형태소 분석기 ; java 필요 !\n",
    "okt = Okt()\n",
    "\n",
    "positive_words = [\"좋다\", \"행복\", \"멋지다\", \"최고\", \"사랑해\"]\n",
    "negative_words = [\"싫어\", \"화나\", \"짜증\", \"별로\", \"나빠\"]\n",
    "text = input(\"당신의 기분을 한 문장으로 표현해 주세요 ! : \")\n",
    "\n",
    "words = okt.morphs(text, stem=True)\n",
    "print(words)"
   ]
  },
  {
   "cell_type": "code",
   "execution_count": 21,
   "id": "3ddc8b56-ee64-42c4-b10b-8a459148971a",
   "metadata": {},
   "outputs": [],
   "source": [
    "#!pip install konlpy"
   ]
  },
  {
   "cell_type": "code",
   "execution_count": null,
   "id": "ed35fd64-3805-4e8f-9c66-80ab910b8859",
   "metadata": {},
   "outputs": [],
   "source": [
    "# 영어 소문자로 문장을 입력받으면 매 첫글자만 대문자로 변경되게 하라.\n",
    "# ex ) apples are delicious >> Apples Are Delicious."
   ]
  },
  {
   "cell_type": "code",
   "execution_count": 128,
   "id": "a34a9157-cd45-4c19-b136-0bf5a71a68b5",
   "metadata": {},
   "outputs": [
    {
     "name": "stdin",
     "output_type": "stream",
     "text": [
      "문장을 입력하세요! today is a beautiful day!\n"
     ]
    },
    {
     "name": "stdout",
     "output_type": "stream",
     "text": [
      "Today Is A Beautiful Day!\n"
     ]
    }
   ],
   "source": [
    "english = input(\"문장을 입력하세요!\")\n",
    "a = english.split()\n",
    "sentence = []\n",
    "for n in range (0,len(a)):\n",
    "    b = a[n]\n",
    "    c = a[n][0]\n",
    "    d = c.upper()\n",
    "    e = b.replace(c,d)\n",
    "    f = sentence.append(e)\n",
    "    g = \" \".join(sentence)\n",
    "print(g)"
   ]
  },
  {
   "cell_type": "code",
   "execution_count": 1,
   "id": "aef2fc00-1ab4-4b11-be9b-9c2327c94b0a",
   "metadata": {},
   "outputs": [],
   "source": [
    "# 20250217 11번째 수업 !!!! 시간 너무 빨리 가? 나? 크아아아악 피곤해 !!!!!!!"
   ]
  },
  {
   "cell_type": "markdown",
   "id": "422877c3-b2d3-4cbc-aef4-4abec939a356",
   "metadata": {},
   "source": [
    "# 패키지"
   ]
  },
  {
   "cell_type": "code",
   "execution_count": null,
   "id": "351905c4-5438-4900-9e72-eb0e21cdb8d6",
   "metadata": {},
   "outputs": [],
   "source": [
    "# [List, Set, Dic(데이터)] \n",
    "# [                       [function, def(코드)] 클래스, Obj 객체]\n",
    "#                                                                 + 모듈 + 디렉토리(패키지)\n",
    "# 렌더링의 의미를 잘 알아두자!"
   ]
  },
  {
   "attachments": {
    "2e9b2c70-f630-4856-80c4-80daf634aa56.png": {
     "image/png": "[encoded data removed]"
    }
   },
   "cell_type": "markdown",
   "id": "ba5d5126-c01a-43c7-be94-1ac9c45ab8dd",
   "metadata": {},
   "source": [
    "<img src=\"attachment:2e9b2c70-f630-4856-80c4-80daf634aa56.png\" width=500>"
   ]
  },
  {
   "cell_type": "markdown",
   "id": "2647377f-63c8-423e-85e8-3acebd47c67e",
   "metadata": {},
   "source": [
    "## 패키지 만들기"
   ]
  },
  {
   "cell_type": "code",
   "execution_count": 7,
   "id": "d3c23163-776f-472b-acf2-595c385f6b75",
   "metadata": {},
   "outputs": [
    {
     "name": "stdout",
     "output_type": "stream",
     "text": [
      "Microsoft Windows [Version 10.0.26100.3194]\n",
      "(c) Microsoft Corporation. All rights reserved.\n",
      "\n",
      "eh\\code>set PYTHONPATH=D:\\keh\\code\\game\n",
      "\n",
      "d:\\keh\\code>"
     ]
    }
   ],
   "source": [
    "# %%cmd\n",
    "# set PYTHONPATH=D:\\keh\\code\\game      # 굳이 이렇게 경로를 정해주지 않아도 된다 !"
   ]
  },
  {
   "cell_type": "code",
   "execution_count": 2,
   "id": "093bdbd2-783e-4ad7-a295-0cddb48780de",
   "metadata": {},
   "outputs": [
    {
     "name": "stdout",
     "output_type": "stream",
     "text": [
      "에코\n",
      "렌더링\n"
     ]
    }
   ],
   "source": [
    "# 테스트 1 명시적이다. 그렇지만 길다.\n",
    "import game.sound.echo     # import는 기능을 땡겨서 사용한다 !\n",
    "import game.graphic.render  # folder는 .을 찍어서 하위로 접근한다 !\n",
    "\n",
    "game.sound.echo.echo_test()\n",
    "game.graphic.render.render_test()    # 구체적이고, 제일 확실한 방법 !"
   ]
  },
  {
   "cell_type": "code",
   "execution_count": 3,
   "id": "5791b8e3-25a9-41b2-89ee-a31e1f7fee8d",
   "metadata": {},
   "outputs": [
    {
     "name": "stdout",
     "output_type": "stream",
     "text": [
      "비디오 에코\n",
      "에코\n"
     ]
    }
   ],
   "source": [
    "# 짧지만 중복의 위험이 있다. 그리고 명시적이지는 않다.\n",
    "from game.echo_v import echo_test as ev\n",
    "from game.echo import echo_test as e      # 첫번째 보다는 간단하지만 줄임말의 충돌 위험 !\n",
    "ev() \n",
    "e()"
   ]
  },
  {
   "cell_type": "code",
   "execution_count": null,
   "id": "9e9c4cda-cf86-44c4-8dae-5dbb3a3f35c6",
   "metadata": {},
   "outputs": [],
   "source": [
    "# from game.graphic.echo import game.graphic.echo # 내부에 있는 echo_test\n",
    "# from game.sound.echo import game.sound.echo   # 내부에 있는 echo_test\n",
    "from game import graphic , sound\n",
    "graphic.echo.echo_test()"
   ]
  },
  {
   "cell_type": "code",
   "execution_count": null,
   "id": "b6dc19ef-9f78-4664-a476-410e921484e4",
   "metadata": {},
   "outputs": [],
   "source": [
    "# __init__py ; VERSION = 3.6      - 각 버전과 이름을 관리할 수있음!\n",
    "\n",
    "# def print_version_info():\n",
    "#     print(f\"The version of this game is {VERSION}\")"
   ]
  },
  {
   "cell_type": "code",
   "execution_count": 4,
   "id": "618295ed-e077-4647-a6d7-b7f917255ecc",
   "metadata": {},
   "outputs": [
    {
     "name": "stdout",
     "output_type": "stream",
     "text": [
      "3.6\n",
      "The version of this game is 3.6\n"
     ]
    }
   ],
   "source": [
    "import game          # 길게 적어야 하는 폴더명을 __init__.py에 미리 넣으면 깔끔하게 표현 가능!\n",
    "print(game.VERSION)\n",
    "game.print_version_info()"
   ]
  },
  {
   "cell_type": "code",
   "execution_count": 1,
   "id": "e23989d2-bb01-4a61-aeca-78a9331cb22f",
   "metadata": {},
   "outputs": [
    {
     "name": "stdout",
     "output_type": "stream",
     "text": [
      "Initializing Game...\n"
     ]
    }
   ],
   "source": [
    "# __init__.py 은 한번만 로드 됨 ! \n",
    "import game"
   ]
  },
  {
   "cell_type": "code",
   "execution_count": 3,
   "id": "4d61852d-a044-47cc-a469-d047f7360d92",
   "metadata": {},
   "outputs": [
    {
     "name": "stdout",
     "output_type": "stream",
     "text": [
      "렌더링\n"
     ]
    }
   ],
   "source": [
    "# __init__.py 는 패키지 내에 내 모듈을 미리 import 할 수 있다.\n",
    "game.render_test()"
   ]
  },
  {
   "cell_type": "code",
   "execution_count": null,
   "id": "d549c88b-f52e-467c-a46a-d14afb971a96",
   "metadata": {},
   "outputs": [],
   "source": [
    "# from .graphic.render import render_test # .을 찍어주면 미리 불러오겠다~ 하는 뜻 !"
   ]
  },
  {
   "cell_type": "code",
   "execution_count": 1,
   "id": "d14ccd60-b616-4cb3-b720-88e8396ceb05",
   "metadata": {},
   "outputs": [
    {
     "name": "stdout",
     "output_type": "stream",
     "text": [
      "Initializing Game...\n"
     ]
    }
   ],
   "source": [
    "import game.graphic"
   ]
  },
  {
   "cell_type": "code",
   "execution_count": 2,
   "id": "70a66dc6-4a38-4ddf-8f0f-3ed825ec51ad",
   "metadata": {},
   "outputs": [
    {
     "name": "stdout",
     "output_type": "stream",
     "text": [
      "The version of this graphic of game is 3.7\n"
     ]
    }
   ],
   "source": [
    "game.graphic.print_version_info()"
   ]
  },
  {
   "cell_type": "code",
   "execution_count": 1,
   "id": "0aa9bd76-11c7-4780-9892-c6dbc099d602",
   "metadata": {},
   "outputs": [
    {
     "name": "stdout",
     "output_type": "stream",
     "text": [
      "Initializing Game...\n"
     ]
    }
   ],
   "source": [
    "# __all__ 사용하기\n",
    "from game.graphic import *"
   ]
  },
  {
   "cell_type": "code",
   "execution_count": 3,
   "id": "2f0a9f90-a980-4e19-94a6-52d56942c0b8",
   "metadata": {},
   "outputs": [
    {
     "name": "stdout",
     "output_type": "stream",
     "text": [
      "비디오 에코\n"
     ]
    }
   ],
   "source": [
    "echo.echo_test()"
   ]
  },
  {
   "cell_type": "code",
   "execution_count": null,
   "id": "f24c5010-b0d5-4569-a470-2c5bc5227644",
   "metadata": {},
   "outputs": [],
   "source": [
    "# render.py\n",
    "# from game.sound.echo import echo_test  # game이라는 상위폴더에서 sound를 끌어옴 !\n",
    "# def render_test():\n",
    "#     print(\"렌더링\")"
   ]
  },
  {
   "cell_type": "code",
   "execution_count": 1,
   "id": "bc1a468b-f324-419b-b8f6-76125c329c21",
   "metadata": {},
   "outputs": [
    {
     "name": "stdout",
     "output_type": "stream",
     "text": [
      "Initializing Game...\n"
     ]
    }
   ],
   "source": [
    "# relative 패키지\n",
    "from game.graphic.render import render_test"
   ]
  },
  {
   "cell_type": "code",
   "execution_count": 2,
   "id": "06017fe6-525a-4be6-8992-784cbcfa6242",
   "metadata": {},
   "outputs": [
    {
     "name": "stdout",
     "output_type": "stream",
     "text": [
      "렌더링\n",
      "에코\n"
     ]
    }
   ],
   "source": [
    "# 비디오 에코가 아닌 사운드 에코 호출!\n",
    "render_test()"
   ]
  },
  {
   "cell_type": "markdown",
   "id": "7365cbbb-5a97-4857-b91b-05886597a02d",
   "metadata": {},
   "source": [
    "# 예외 처리"
   ]
  },
  {
   "cell_type": "markdown",
   "id": "7296db47-c43e-4534-b683-11b9d8328cea",
   "metadata": {},
   "source": [
    "## 오류 발생\n",
    "- 오타\n",
    "- 존재하지 않는 파일을 지정 또는 사용\n",
    "- 수학적오류\n",
    "- 인덱스 오류\n",
    "## 오류 예외 처리 기법\n",
    "- try-except 문\n",
    "- try-finally 문\n",
    "- 여러개의 오류 처리\n",
    "- try-else 문"
   ]
  },
  {
   "cell_type": "code",
   "execution_count": 4,
   "id": "32092f90-c96d-4ab0-8306-884b544d5b2d",
   "metadata": {},
   "outputs": [],
   "source": [
    "# try / except / finally\n",
    "   # cf) 에러가 났어도 무조건 프로그램을 닫아줘야 함 !"
   ]
  },
  {
   "cell_type": "code",
   "execution_count": 2,
   "id": "64bd2e02-6bcb-4df8-b92a-59a454b0942c",
   "metadata": {},
   "outputs": [],
   "source": [
    "# f = open('뜬금파일','r')\n",
    "# : FileNotFoundError: [Errno 2] No such file or directory: '뜬금파일'"
   ]
  },
  {
   "cell_type": "code",
   "execution_count": 3,
   "id": "4cde3cdc-73f7-4fce-95b8-e1392a788f3e",
   "metadata": {},
   "outputs": [],
   "source": [
    "# 4/0\n",
    "# : ZeroDivisionError: division by zero"
   ]
  },
  {
   "cell_type": "code",
   "execution_count": 4,
   "id": "97ad0503-7199-43f5-a2a2-4aca504fbdca",
   "metadata": {},
   "outputs": [],
   "source": [
    "# a = [1,2,3]\n",
    "# print(a[7])\n",
    "# : IndexError: list index out of range"
   ]
  },
  {
   "cell_type": "code",
   "execution_count": 8,
   "id": "8151ae09-9e82-4157-870b-de73cc922927",
   "metadata": {},
   "outputs": [
    {
     "name": "stdout",
     "output_type": "stream",
     "text": [
      "없는 거 찾지 마, 혼자 있고 싶어.\n",
      "[Errno 2] No such file or directory: '뜬금파일'\n",
      "코드 작성을 마칩니다.\n"
     ]
    }
   ],
   "source": [
    "# 테스트 1\n",
    "try:     # 파이썬에서는 try는 단독으로 사용 불가!\n",
    "    f=open('뜬금파일','r')\n",
    "except FileNotFoundError as e:  # 에러코드를 예측해서 미리 정해줄 수 있다!\n",
    "    if e:\n",
    "        print('없는 거 찾지 마, 혼자 있고 싶어.')\n",
    "    print(e)\n",
    "finally:\n",
    "    print('코드 작성을 마칩니다.')   # 에러가 나든 안 나든 무조건 뜨는 구문"
   ]
  },
  {
   "cell_type": "code",
   "execution_count": 11,
   "id": "54773e0b-4d44-4fa3-ae8c-2cf5b62f13ce",
   "metadata": {},
   "outputs": [
    {
     "name": "stdout",
     "output_type": "stream",
     "text": [
      "0으로 나눌 수 없어요 division by zero\n"
     ]
    }
   ],
   "source": [
    "# 지정한 이름의 예외처리, as로 별칭 가능.\n",
    "try:\n",
    "    4/0\n",
    "except ZeroDivisionError as e:\n",
    "    print('0으로 나눌 수 없어요', e)"
   ]
  },
  {
   "cell_type": "code",
   "execution_count": 13,
   "id": "4c83add2-7066-4e6d-8900-d82c6ce326b2",
   "metadata": {},
   "outputs": [
    {
     "name": "stdout",
     "output_type": "stream",
     "text": [
      "0으로 나누지 마세요 !\n"
     ]
    }
   ],
   "source": [
    "# try-except-finally 3단계도 가능, finally는 파일이 에러가 나도 무조건 처리하는 것.\n",
    "try:\n",
    "    f = open('foo.txt','w')\n",
    "    f.write(4/0)\n",
    "except:\n",
    "    print('0으로 나누지 마세요 !')\n",
    "finally:\n",
    "    f.close()   # 여기서는 파일 닫기 !"
   ]
  },
  {
   "cell_type": "code",
   "execution_count": null,
   "id": "30d97f02-c7a5-4421-8cfb-b01160a475f4",
   "metadata": {},
   "outputs": [],
   "source": [
    "# 중복 에러는 처음 만나는 에러만 출력\n",
    "# 정상 중복값은 마지막의 값만 출력"
   ]
  },
  {
   "cell_type": "code",
   "execution_count": 1,
   "id": "a6d8d224-2fcd-4f8b-b03d-7d4eaf688c15",
   "metadata": {},
   "outputs": [
    {
     "name": "stdout",
     "output_type": "stream",
     "text": [
      "tuple index out of range\n"
     ]
    }
   ],
   "source": [
    "# 테스트 \n",
    "try:\n",
    "    a=1,2\n",
    "    print(a[512])\n",
    "    4/0\n",
    "except (ZeroDivisionError, IndexError) as e:\n",
    "    print(e)"
   ]
  },
  {
   "cell_type": "code",
   "execution_count": 8,
   "id": "b482c7f6-43c8-4da7-87e2-66df5ea9972b",
   "metadata": {},
   "outputs": [
    {
     "name": "stdin",
     "output_type": "stream",
     "text": [
      "나이를 입력하세요. 크아악\n"
     ]
    },
    {
     "name": "stdout",
     "output_type": "stream",
     "text": [
      "입력이 정확하지 않습니다.\n",
      "====================\n",
      "분석 끝 !\n"
     ]
    }
   ],
   "source": [
    "# try-else 문\n",
    "try :\n",
    "    age = (int(input(\"나이를 입력하세요.\")))\n",
    "except:\n",
    "    print(\"입력이 정확하지 않습니다.\")\n",
    "else:     # 문제가 발생하지 않았을 때. 파이썬에만 존재함 !!\n",
    "    if age <=18:\n",
    "        print('미성년자는 출입금지 !')\n",
    "    else:\n",
    "        print('환영합니다 !')\n",
    "finally:\n",
    "    print('='*20+'\\n분석 끝 !')"
   ]
  },
  {
   "cell_type": "code",
   "execution_count": null,
   "id": "1ca633b9-a4a3-4357-b510-1ee8b23f97db",
   "metadata": {},
   "outputs": [],
   "source": [
    "# Alt + 블록처리 후 방향키 위아래 : 블록처리 된 구문을 움직일 수 있음 !"
   ]
  },
  {
   "cell_type": "code",
   "execution_count": 10,
   "id": "2e9cfa50-c811-47fb-afdb-65e4021652b2",
   "metadata": {},
   "outputs": [
    {
     "name": "stdin",
     "output_type": "stream",
     "text": [
      "나이를 입력하세요. 18\n"
     ]
    },
    {
     "name": "stdout",
     "output_type": "stream",
     "text": [
      "====================\n",
      "분석 끝 !\n"
     ]
    }
   ],
   "source": [
    "# try-else 문 (참고!)\n",
    "try :\n",
    "    age = (int(input(\"나이를 입력하세요.\")))\n",
    "except:\n",
    "    print(\"입력이 정확하지 않습니다.\")\n",
    "    if age <=18:\n",
    "        print('미성년자는 출입금지 !')\n",
    "    else:\n",
    "        print('환영합니다 !')    # 굳이 else 안에 넣지 않아도 시행됨 !\n",
    "finally:\n",
    "    print('='*20+'\\n분석 끝 !')"
   ]
  },
  {
   "cell_type": "code",
   "execution_count": 13,
   "id": "62fe32ea-2516-41c9-9c18-ce7b5c1b1f7e",
   "metadata": {},
   "outputs": [
    {
     "name": "stdout",
     "output_type": "stream",
     "text": [
      "반가워\n"
     ]
    }
   ],
   "source": [
    "# 오류 회피하기\n",
    "try:\n",
    "    print('반가워')\n",
    "    f=open('없는 파일','r')   # 이 에러가 난 (지점)이후부터는 처리하지 않음 !\n",
    "    print('안녕')\n",
    "except FileNotFoundError :   \n",
    "    pass"
   ]
  },
  {
   "cell_type": "code",
   "execution_count": null,
   "id": "919cd543-e1d3-475a-9ec0-dc6b286f0174",
   "metadata": {},
   "outputs": [],
   "source": [
    "# 오류 일부러 발생시키기 (클래스 상속기반)"
   ]
  },
  {
   "cell_type": "code",
   "execution_count": null,
   "id": "78ab0307-2e7f-4a4f-8558-bbd05bd65a32",
   "metadata": {
    "scrolled": true
   },
   "outputs": [],
   "source": [
    "# 테스트\n",
    "inp = int(input(\"13보다 큰 수를 입력하세요.\"))\n",
    "if 13<inp:\n",
    "    print('크다')\n",
    "else:\n",
    "    raise NotImplementedError"
   ]
  },
  {
   "attachments": {
    "d87517fa-b06d-4cdf-8611-1c7297c9e9d2.png": {
     "image/png": "[encoded data removed]"
    }
   },
   "cell_type": "markdown",
   "id": "097bc46e-4592-47b1-a9ed-9226dda01fb2",
   "metadata": {},
   "source": [
    "![image.png](attachment:d87517fa-b06d-4cdf-8611-1c7297c9e9d2.png)"
   ]
  },
  {
   "cell_type": "code",
   "execution_count": null,
   "id": "c1568f11-7fc4-4353-812e-f83b10280751",
   "metadata": {},
   "outputs": [],
   "source": [
    "# 오류 일부러 발생시키기 (클래스 상속 기반)\n",
    "class Bird:\n",
    "    def fly(self):\n",
    "        raise NotImplementedError # 정해진 에러만 띄울 수 있다 ! ; 필요한 부분이 빠졌다 ! \n",
    "\n",
    "class Eagle(Bird):\n",
    "    # pass\n",
    "    def fly(self):\n",
    "        print('난 독수리다 !')\n",
    "\n",
    "eagle = Eagle()\n",
    "eagle.fly()"
   ]
  },
  {
   "cell_type": "code",
   "execution_count": 5,
   "id": "4638ccc8-cf6d-4d88-a655-1a0f237d69d0",
   "metadata": {},
   "outputs": [],
   "source": [
    "# 예외 만들기\n",
    "class MyError(Exception):\n",
    "    pass"
   ]
  },
  {
   "cell_type": "code",
   "execution_count": 6,
   "id": "0a86d8fa-cbda-4f59-804f-b17c568aa30c",
   "metadata": {},
   "outputs": [],
   "source": [
    "def say_nick(nick):\n",
    "    if nick == '바보':\n",
    "        raise MyError()\n",
    "    print(nick)"
   ]
  },
  {
   "cell_type": "code",
   "execution_count": 7,
   "id": "fe204acc-f381-4a5a-8056-0e19e827c21d",
   "metadata": {},
   "outputs": [
    {
     "ename": "MyError",
     "evalue": "",
     "output_type": "error",
     "traceback": [
      "\u001b[1;31m---------------------------------------------------------------------------\u001b[0m",
      "\u001b[1;31mMyError\u001b[0m                                   Traceback (most recent call last)",
      "Cell \u001b[1;32mIn[7], line 1\u001b[0m\n\u001b[1;32m----> 1\u001b[0m \u001b[43msay_nick\u001b[49m\u001b[43m(\u001b[49m\u001b[38;5;124;43m'\u001b[39;49m\u001b[38;5;124;43m바보\u001b[39;49m\u001b[38;5;124;43m'\u001b[39;49m\u001b[43m)\u001b[49m\n",
      "Cell \u001b[1;32mIn[6], line 3\u001b[0m, in \u001b[0;36msay_nick\u001b[1;34m(nick)\u001b[0m\n\u001b[0;32m      1\u001b[0m \u001b[38;5;28;01mdef\u001b[39;00m\u001b[38;5;250m \u001b[39m\u001b[38;5;21msay_nick\u001b[39m(nick):\n\u001b[0;32m      2\u001b[0m     \u001b[38;5;28;01mif\u001b[39;00m nick \u001b[38;5;241m==\u001b[39m \u001b[38;5;124m'\u001b[39m\u001b[38;5;124m바보\u001b[39m\u001b[38;5;124m'\u001b[39m:\n\u001b[1;32m----> 3\u001b[0m         \u001b[38;5;28;01mraise\u001b[39;00m MyError()\n\u001b[0;32m      4\u001b[0m     \u001b[38;5;28mprint\u001b[39m(nick)\n",
      "\u001b[1;31mMyError\u001b[0m: "
     ]
    }
   ],
   "source": [
    "say_nick('바보')"
   ]
  },
  {
   "cell_type": "code",
   "execution_count": 12,
   "id": "b21dbad5-debc-4cb0-a285-f664ef24fab7",
   "metadata": {},
   "outputs": [
    {
     "name": "stdout",
     "output_type": "stream",
     "text": [
      "천사\n",
      "욕 하지마 ! 나 바보 아냐 !! 욕 하지마 .. 그래도 사람은 착해 🥺\n"
     ]
    }
   ],
   "source": [
    "try:\n",
    "    say_nick(\"천사\")\n",
    "    say_nick(\"바보\")\n",
    "except MyError as e:\n",
    "    print(\"욕 하지마 ! 나 바보 아냐 !!\", e)  # str 함수로 받아줘야 e를 출력할 수 있다 !"
   ]
  },
  {
   "cell_type": "code",
   "execution_count": 10,
   "id": "eddb3a2f-2b89-49a8-b47c-f14a9a0cfe0b",
   "metadata": {},
   "outputs": [],
   "source": [
    "class MyError(Exception):\n",
    "    def __str__(self):\n",
    "        return \"욕 하지마 .. 그래도 사람은 착해 🥺\""
   ]
  }
 ],
 "metadata": {
  "kernelspec": {
   "display_name": "Python 3 (ipykernel)",
   "language": "python",
   "name": "python3"
  },
  "language_info": {
   "codemirror_mode": {
    "name": "ipython",
    "version": 3
   },
   "file_extension": ".py",
   "mimetype": "text/x-python",
   "name": "python",
   "nbconvert_exporter": "python",
   "pygments_lexer": "ipython3",
   "version": "3.13.1"
  }
 },
 "nbformat": 4,
 "nbformat_minor": 5
}
