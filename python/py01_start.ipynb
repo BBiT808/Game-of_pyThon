{
 "cells": [
  {
   "cell_type": "markdown",
   "id": "d1510022-ee45-4cbb-9821-2f6602d4fe70",
   "metadata": {},
   "source": [
    "# 주피터랩 단축키\n",
    "- a: 위셀 추가\n",
    "- b: 아래셀 추가\n",
    "- Ctrl + Shift + 위: 셀 위로 이동\n",
    "- Ctrl + Shift + 아래: 셀 아래로 이동\n",
    "- Shift + Enter: 셀 실행\n",
    "- dd: 셀 삭제\n",
    "- x: 셀 잘라내기\n",
    "- c: 셀 복사\n",
    "- v: 셀 붙여넣기\n",
    "- z: undo\n",
    "- shift + z: redo\n",
    "- m: Markdown\n",
    "- y: code"
   ]
  },
  {
   "cell_type": "code",
   "execution_count": 1,
   "id": "16eff430-41a9-4bbb-9ab1-9b00641eb6bd",
   "metadata": {},
   "outputs": [],
   "source": [
    "# window + shift + s : 스크린샷\n",
    "# Alt + Shift + 커서 아래로 : 다중 커서\n",
    "# Ctrl + A : 전체 선택\n",
    "# Alt + Shift + 방향키 아래 : 밑에 같은 것 복사\n",
    "# Alt + 방향키 : 전체 줄 옮기기\n",
    "\n",
    "# 컴퓨터 숫자는 0부터 시작하는 것 기억하자 !!"
   ]
  },
  {
   "cell_type": "markdown",
   "id": "f3b50ab3-a7aa-4151-9b46-938e346b393a",
   "metadata": {},
   "source": [
    "# print기초"
   ]
  },
  {
   "cell_type": "code",
   "execution_count": 2,
   "id": "5f1f9734-db67-45eb-8ced-65a881937bd5",
   "metadata": {},
   "outputs": [],
   "source": [
    "# 20250203 첫수업!"
   ]
  },
  {
   "cell_type": "code",
   "execution_count": 1,
   "id": "7d6b2604-7a47-4d70-bbde-e61cd799df70",
   "metadata": {},
   "outputs": [
    {
     "name": "stdout",
     "output_type": "stream",
     "text": [
      "사실은 두번 째~\n"
     ]
    }
   ],
   "source": [
    "# print('주피터랩에 처음이에요')\n",
    "print('사실은 두번 째~')"
   ]
  },
  {
   "cell_type": "code",
   "execution_count": 2,
   "id": "44e97e1d-986a-4a91-91c2-0d59554d8521",
   "metadata": {},
   "outputs": [
    {
     "name": "stdout",
     "output_type": "stream",
     "text": [
      "4610\n"
     ]
    }
   ],
   "source": [
    "print(1277+3333)"
   ]
  },
  {
   "cell_type": "code",
   "execution_count": 3,
   "id": "9cacac1f-ce1a-4a8e-a448-24a8ca03328e",
   "metadata": {},
   "outputs": [
    {
     "name": "stdout",
     "output_type": "stream",
     "text": [
      "개발자 교육 신기해요\n"
     ]
    }
   ],
   "source": [
    "print('개발자 교육 신기해요')"
   ]
  },
  {
   "cell_type": "code",
   "execution_count": 4,
   "id": "420a6a8a-8631-480d-881d-2ede83e7683b",
   "metadata": {},
   "outputs": [
    {
     "name": "stdout",
     "output_type": "stream",
     "text": [
      "2434360518\n"
     ]
    }
   ],
   "source": [
    "print(1230412394+1203948124)"
   ]
  },
  {
   "cell_type": "code",
   "execution_count": 179,
   "id": "c277c684-15dc-4747-958f-588cabc906e3",
   "metadata": {},
   "outputs": [
    {
     "name": "stdout",
     "output_type": "stream",
     "text": [
      "시간이 많이 남았어...\n"
     ]
    }
   ],
   "source": [
    "import time as t\n",
    "print('배고프다',end='\\r') #end는 빈 거. 줄바꿈을 하지 않겠다는 말임. \\n은 줄바꿈 \\r은 덮어쓰기\n",
    "t.sleep(1)\n",
    "print('근데  ',end='\\r')\n",
    "t.sleep(1)\n",
    "print('시간이 많이 남았어...')"
   ]
  },
  {
   "cell_type": "code",
   "execution_count": 6,
   "id": "0b202eb2-f114-45a9-b075-9a8bfdf97aa4",
   "metadata": {},
   "outputs": [
    {
     "name": "stdout",
     "output_type": "stream",
     "text": [
      "1*2*3*4*5\n"
     ]
    }
   ],
   "source": [
    "print(1,2,3,4,5,sep='*') #seperate의 약자. "
   ]
  },
  {
   "cell_type": "markdown",
   "id": "d818a8d0-6497-47c7-9d5d-1ecc7a0dcaf0",
   "metadata": {},
   "source": [
    "# 자료형"
   ]
  },
  {
   "cell_type": "markdown",
   "id": "a88fa8b8-837b-4c1c-9de4-a9af14e3e1e8",
   "metadata": {},
   "source": [
    "## 숫자형"
   ]
  },
  {
   "cell_type": "code",
   "execution_count": 8,
   "id": "f17f8c2a-7d6d-4924-af9e-b776d700e647",
   "metadata": {},
   "outputs": [
    {
     "name": "stdout",
     "output_type": "stream",
     "text": [
      "덧셈 877\n",
      "==============\n",
      "뺄셈 677\n",
      "==============\n",
      "곱셈 77700\n",
      "==============\n",
      "나눗셈 7.77\n",
      "==============\n",
      "몫 7\n",
      "==============\n",
      "나머지 77\n",
      "==============\n",
      "승 603729\n",
      "==============\n"
     ]
    }
   ],
   "source": [
    "# 사칙연산 예\n",
    "sachik = 777\n",
    "sem = 100\n",
    "print('덧셈', sachik + sem, end='\\n==============\\n') # \\n=======\\n은 선 긋기\n",
    "print('뺄셈', sachik - sem,end='\\n==============\\n')\n",
    "print('곱셈', sachik * sem,end='\\n==============\\n')\n",
    "print('나눗셈', sachik / sem,end='\\n==============\\n')\n",
    "print('몫', sachik // sem,end='\\n==============\\n')\n",
    "print('나머지', sachik % sem,end='\\n==============\\n')\n",
    "print('승', sachik ** 2,end='\\n==============\\n')"
   ]
  },
  {
   "cell_type": "code",
   "execution_count": 7,
   "id": "badccb1a-7eb6-4603-841b-07a9a0b9b0b8",
   "metadata": {},
   "outputs": [
    {
     "name": "stdout",
     "output_type": "stream",
     "text": [
      "123 -178 0\n"
     ]
    }
   ],
   "source": [
    "# 정수형\n",
    "a = 123\n",
    "b = -178\n",
    "c = 0\n",
    "print(a,b,c)"
   ]
  },
  {
   "cell_type": "code",
   "execution_count": 11,
   "id": "944d627a-59c1-4e8b-897d-a615e5ef379b",
   "metadata": {},
   "outputs": [
    {
     "name": "stdout",
     "output_type": "stream",
     "text": [
      "1.2 -3.14 4.24e-10\n"
     ]
    }
   ],
   "source": [
    "# 실수형\n",
    "aa = 1.2\n",
    "bb = -3.14\n",
    "cc = 4.24e-10\n",
    "print(aa,bb,cc)"
   ]
  },
  {
   "cell_type": "code",
   "execution_count": 16,
   "id": "851fb5ab-b36f-4df7-ac4a-53181a67e96f",
   "metadata": {},
   "outputs": [
    {
     "name": "stdout",
     "output_type": "stream",
     "text": [
      "15\n",
      "127 2748\n"
     ]
    }
   ],
   "source": [
    "# 2진수(bin)\n",
    "aaa = 0b1111\n",
    "print(aaa)\n",
    "#  8진수(oct)와 16진수(hex)\n",
    "bbb = 0o177\n",
    "ccc = 0xABC\n",
    "print(bbb,ccc)"
   ]
  },
  {
   "cell_type": "code",
   "execution_count": 19,
   "id": "707a13f2-f78e-4693-a3a1-df80309da1a7",
   "metadata": {},
   "outputs": [
    {
     "name": "stdout",
     "output_type": "stream",
     "text": [
      "7\n",
      "-1\n",
      "12\n",
      "0.75\n",
      "81\n"
     ]
    }
   ],
   "source": [
    "a = 3\n",
    "b = 4\n",
    "\n",
    "print(a + b)\n",
    "print(a - b)\n",
    "print(a * b)\n",
    "print(a / b)\n",
    "print(a ** b)"
   ]
  },
  {
   "cell_type": "code",
   "execution_count": 28,
   "id": "50f7bf8f-aa11-406a-840f-eac40eb9247f",
   "metadata": {},
   "outputs": [
    {
     "name": "stdout",
     "output_type": "stream",
     "text": [
      "2\n",
      "3\n",
      "4\n"
     ]
    }
   ],
   "source": [
    "# 복햡연산자\n",
    "a = 1\n",
    "\n",
    "a = a + 1  # a += 1 과 동일하다(a에 1을 더해서 대입하라)\n",
    "print(a)\n",
    "a = a + 1\n",
    "print(a)\n",
    "a = a + 1\n",
    "print(a)"
   ]
  },
  {
   "cell_type": "code",
   "execution_count": 46,
   "id": "27fee8a1-1f37-4698-bf0d-5dc42e549072",
   "metadata": {},
   "outputs": [
    {
     "name": "stdout",
     "output_type": "stream",
     "text": [
      "9\n",
      "8\n",
      "7\n"
     ]
    }
   ],
   "source": [
    "# 복햡연산자\n",
    "a = 10\n",
    "\n",
    "a -= 1\n",
    "print(a)\n",
    "a -= 1\n",
    "print(a)\n",
    "a -= 1\n",
    "print(a)"
   ]
  },
  {
   "cell_type": "code",
   "execution_count": null,
   "id": "a35f38f0-9561-41ee-93eb-05f4ea18ac41",
   "metadata": {},
   "outputs": [],
   "source": [
    "# 복합연산자 ; +=, =+, *=, /=, //=, %=, **="
   ]
  },
  {
   "cell_type": "code",
   "execution_count": 52,
   "id": "5f9ddfe3-3194-49a9-aae5-161752ebeb41",
   "metadata": {},
   "outputs": [
    {
     "name": "stdout",
     "output_type": "stream",
     "text": [
      "20\n",
      "40\n",
      "80\n"
     ]
    }
   ],
   "source": [
    "a = 10\n",
    "\n",
    "a *= 2\n",
    "print(a)\n",
    "a *= 2\n",
    "print(a)\n",
    "a *= 2\n",
    "print(a)"
   ]
  },
  {
   "cell_type": "markdown",
   "id": "644f3599-475e-4024-999c-1399d4170f49",
   "metadata": {},
   "source": [
    "## 문자열 자료형"
   ]
  },
  {
   "cell_type": "markdown",
   "id": "f78bcdd9-d153-4b2d-b20a-13a4ece26b28",
   "metadata": {},
   "source": [
    "### 문자열 연산하기"
   ]
  },
  {
   "cell_type": "code",
   "execution_count": 136,
   "id": "9a2a1d19-4422-4ae0-9db3-e1a77663dfd8",
   "metadata": {},
   "outputs": [
    {
     "name": "stdout",
     "output_type": "stream",
     "text": [
      "문자형입니다.\n",
      "\n",
      "이것은 여러 줄 문자열 처리입니다.\n",
      "\n",
      "\n",
      "이것도 여러 줄 문자열 처리입니다.\n",
      "\n"
     ]
    }
   ],
   "source": [
    "# 주석처리입니다.\n",
    "str1 = '문자형입니다.'\n",
    "print(str1)\n",
    "\n",
    "str2 = '''\n",
    "이것은 여러 줄 문자열 처리입니다.\n",
    "'''\n",
    "print(str2)\n",
    "str3 = \"\"\"\n",
    "이것도 여러 줄 문자열 처리입니다.\n",
    "\"\"\"\n",
    "print(str3)\n",
    "# 위의 모든 글은 빈 상태이다. *'''와 \"\"\" 안에 담긴 것들* - 공식적으로 파이썬에서 지원하지는 않음\n",
    " # CF ) CTRL + /\n"
   ]
  },
  {
   "cell_type": "code",
   "execution_count": 83,
   "id": "0d62c7a1-e3a8-47b1-9c64-d334744be2fa",
   "metadata": {},
   "outputs": [
    {
     "name": "stdout",
     "output_type": "stream",
     "text": [
      "Python's 'favorite' food is perl\n"
     ]
    }
   ],
   "source": [
    "# food = \"Python's favorite food is perl\"\n",
    "food = 'Python\\'s \\'favorite\\' food is perl'\n",
    "print(food)"
   ]
  },
  {
   "cell_type": "code",
   "execution_count": 2,
   "id": "a9621fe5-9bab-4b22-bb32-f0f137555c05",
   "metadata": {},
   "outputs": [
    {
     "name": "stdout",
     "output_type": "stream",
     "text": [
      "<3               "
     ]
    }
   ],
   "source": [
    "import time as t\n",
    "print('life is too short',end='\\r')\n",
    "t.sleep(1)\n",
    "print('You need python  ',end='\\r')\n",
    "t.sleep(1)\n",
    "print('<3             ',end='\\r')"
   ]
  },
  {
   "cell_type": "code",
   "execution_count": 3,
   "id": "115b7340-da3c-48cc-b9d7-9d51bfe984bf",
   "metadata": {},
   "outputs": [
    {
     "name": "stdout",
     "output_type": "stream",
     "text": [
      "그 모든 일이 있었음에도, 너는 너다."
     ]
    }
   ],
   "source": [
    "import time as t\n",
    "print(' .  .  .',end='\\r')\n",
    "t.sleep(2)\n",
    "print(' .  .  .  .  .',end='\\r')\n",
    "t.sleep(2)\n",
    "print('그 모든 일이 있었음에도, 너는 너다.', end = '\\r')"
   ]
  },
  {
   "cell_type": "code",
   "execution_count": 10,
   "id": "884fd131-ad9e-4207-860e-1fa66b5b4506",
   "metadata": {},
   "outputs": [
    {
     "name": "stdout",
     "output_type": "stream",
     "text": [
      "그 모든 일이 있었음에도, 너는 너다.\n"
     ]
    }
   ],
   "source": [
    "import time as t\n",
    "from IPython.display import clear_output\n",
    "print(' .  .  .')\n",
    "t.sleep(2)\n",
    "clear_output(wait=True)\n",
    "print(' .  .  .  .  .')\n",
    "t.sleep(2)\n",
    "clear_output(wait=True)\n",
    "print('그 모든 일이 있었음에도, 너는 너다.')"
   ]
  },
  {
   "cell_type": "code",
   "execution_count": 9,
   "id": "8d25120e-39be-4bce-98fd-ed700e50a2b1",
   "metadata": {},
   "outputs": [
    {
     "name": "stdout",
     "output_type": "stream",
     "text": [
      "곰                 \n",
      "  문               \n",
      "    곰             \n",
      "      문           \n",
      "        곰         \n",
      "          문       "
     ]
    }
   ],
   "source": [
    "import time as t\n",
    "print('곰이 굴러 떨어진다.', end ='\\r')\n",
    "t.sleep(2)\n",
    "print('곰                 ', end = '\\r'+'\\n')\n",
    "t.sleep(1)\n",
    "print('  문               ',end = '\\r'+'\\n')\n",
    "t.sleep(1)\n",
    "print('    곰             ',end='\\r'+'\\n')\n",
    "t.sleep(1)\n",
    "print('      문           ',end='\\r'+'\\n')\n",
    "t.sleep(1)\n",
    "print('        곰         ',end='\\r'+'\\n')\n",
    "t.sleep(1)\n",
    "print('          문       ',end='\\r')"
   ]
  },
  {
   "cell_type": "code",
   "execution_count": 12,
   "id": "933cde04-7b2d-476f-87cd-59e2c2459ddc",
   "metadata": {},
   "outputs": [
    {
     "name": "stdout",
     "output_type": "stream",
     "text": [
      "          문\n"
     ]
    }
   ],
   "source": [
    "import time as t\n",
    "from IPython.display import clear_output\n",
    "print('곰이 굴러 떨어진다.')\n",
    "clear_output(wait=True)\n",
    "t.sleep(2)\n",
    "print('곰')\n",
    "clear_output(wait=True)\n",
    "t.sleep(1)\n",
    "print('  문')\n",
    "clear_output(wait=True)\n",
    "t.sleep(1)\n",
    "clear_output(wait=True)\n",
    "print('    곰')\n",
    "clear_output(wait=True)\n",
    "t.sleep(1)\n",
    "print('      문')\n",
    "clear_output(wait=True)\n",
    "t.sleep(1)\n",
    "print('        곰')\n",
    "clear_output(wait=True)\n",
    "t.sleep(1)\n",
    "print('          문')"
   ]
  },
  {
   "cell_type": "code",
   "execution_count": 16,
   "id": "ebc1ea37-4f9a-4140-b5d5-364eaef673a7",
   "metadata": {},
   "outputs": [
    {
     "name": "stdout",
     "output_type": "stream",
     "text": [
      "곰\n",
      "  문\n",
      "    곰\n",
      "      문\n",
      "        곰\n",
      "          문"
     ]
    }
   ],
   "source": [
    "import time as t\n",
    "from IPython.display import clear_output\n",
    "print('곰이 굴러 떨어진다.')\n",
    "clear_output(wait=True)\n",
    "t.sleep(3)\n",
    "print('곰', end = '\\r'+'\\n')\n",
    "t.sleep(1)\n",
    "print('  문',end = '\\r'+'\\n')\n",
    "t.sleep(1)\n",
    "print('    곰',end='\\r'+'\\n')\n",
    "t.sleep(1)\n",
    "print('      문',end='\\r'+'\\n')\n",
    "t.sleep(1)\n",
    "print('        곰',end='\\r'+'\\n')\n",
    "t.sleep(1)\n",
    "print('          문',end='\\r')"
   ]
  },
  {
   "cell_type": "code",
   "execution_count": 86,
   "id": "528e299f-cbe3-4f2d-b886-47499130eae4",
   "metadata": {},
   "outputs": [
    {
     "name": "stdout",
     "output_type": "stream",
     "text": [
      "life is too short\n",
      "You need python\n"
     ]
    }
   ],
   "source": [
    "multiline = \"life is too short\\nYou need python\"\n",
    "print(multiline)"
   ]
  },
  {
   "cell_type": "code",
   "execution_count": 5,
   "id": "82239f95-5f5c-46d0-8f41-10b21c654aec",
   "metadata": {},
   "outputs": [
    {
     "name": "stdout",
     "output_type": "stream",
     "text": [
      "\n",
      "life is too short\n",
      "You need python\n",
      "\n"
     ]
    }
   ],
   "source": [
    "multiline = '''\n",
    "life is too short\n",
    "You need python\n",
    "'''\n",
    "\n",
    "print(multiline)"
   ]
  },
  {
   "cell_type": "code",
   "execution_count": 252,
   "id": "e0ad63fa-0094-430f-839e-4e5253360f27",
   "metadata": {},
   "outputs": [],
   "source": [
    "# 모드가 두가지가 있다는 것을 기억하기 ! (markdown(m), 수식(y))"
   ]
  },
  {
   "cell_type": "markdown",
   "id": "0bdacccf-4165-4ff4-b705-2e1e619f1c7e",
   "metadata": {},
   "source": [
    "<table style=\"float:left\">\n",
    "<thead>\n",
    "<tr>\n",
    "<th>코드</th>\n",
    "<th>설명</th>\n",
    "</tr>\n",
    "</thead>\n",
    "<tbody>\n",
    "<tr>\n",
    "<td><code>\\n</code></td>\n",
    "<td>문자열 안에서 줄을 바꿀 때 사용</td>\n",
    "</tr>\n",
    "<tr>\n",
    "<td><code>\\t</code></td>\n",
    "<td>문자열 사이에 탭 간격을 줄 때 사용</td>\n",
    "</tr>\n",
    "<tr>\n",
    "<td><code>\\\\</code></td>\n",
    "<td><code>\\</code>를 그대로 표현할 때 사용</td>\n",
    "</tr>\n",
    "<tr>\n",
    "<td><code>\\'</code></td>\n",
    "<td>작은따옴표(')를 그대로 표현할 때 사용</td>\n",
    "</tr>\n",
    "<tr>\n",
    "<td><code>\\\"</code></td>\n",
    "<td>큰따옴표(\")를 그대로 표현할 때 사용</td>\n",
    "</tr>\n",
    "<tr>\n",
    "<td><code>\\r</code></td>\n",
    "<td>캐리지 리턴(줄 바꿈 문자, 커서를 현재 줄의 가장 앞으로 이동)</td>\n",
    "</tr>\n",
    "<tr>\n",
    "<td><code>\\f</code></td>\n",
    "<td>폼 피드(줄 바꿈 문자, 커서를 현재 줄의 다음 줄로 이동)</td>\n",
    "</tr>\n",
    "<tr>\n",
    "<td><code>\\a</code></td>\n",
    "<td>벨 소리(출력할 때 PC 스피커에서 '삑' 소리가 난다)</td>\n",
    "</tr>\n",
    "<tr>\n",
    "<td><code>\\b</code></td>\n",
    "<td>백 스페이스</td>\n",
    "</tr>\n",
    "<tr>\n",
    "<td><code>\\000</code></td>\n",
    "<td>널 문자</td>\n",
    "</tr>\n",
    "</tbody>\n",
    "</table>"
   ]
  },
  {
   "cell_type": "code",
   "execution_count": 88,
   "id": "ead12df2-20fe-4006-bc39-d951d0db4f54",
   "metadata": {},
   "outputs": [
    {
     "name": "stdout",
     "output_type": "stream",
     "text": [
      "Python is fun!\n"
     ]
    }
   ],
   "source": [
    "# 문자열 연산하기\n",
    "head = \"Python\"\n",
    "tail = \" is fun!\"\n",
    "print(head + tail)"
   ]
  },
  {
   "cell_type": "code",
   "execution_count": 92,
   "id": "3e592f93-1bfb-46b4-9e04-d72b2a69428b",
   "metadata": {},
   "outputs": [
    {
     "name": "stdout",
     "output_type": "stream",
     "text": [
      "python\n",
      "python\n",
      "python\n",
      "python\n",
      "python\n",
      "\n"
     ]
    }
   ],
   "source": [
    "a = \"python\" + \"\\n\"\n",
    "print(a * 5)"
   ]
  },
  {
   "cell_type": "code",
   "execution_count": 137,
   "id": "fe0e115d-50bc-4b34-b504-0e47b09b1350",
   "metadata": {},
   "outputs": [
    {
     "name": "stdout",
     "output_type": "stream",
     "text": [
      "===============\n",
      "    영 수 증\n",
      "===============\n",
      "아메리카노:17100원\n",
      "라떼:7200원\n",
      "허브티:12000원\n",
      "===============\n",
      "\n"
     ]
    }
   ],
   "source": [
    "# 숫자계산\n",
    "p1 = 5700 * 3\n",
    "p2 = 7200 * 1\n",
    "p3 = 6000 * 2\n",
    "\n",
    "# 문자열 계산\n",
    "m1 = \"아메리카노:\" + str(p1) +  \"원\\n\"  # 문자와 숫자는 더할 수 없다 ! cf) 곱하기는 가능 (횟수)\n",
    "m2 = \"라떼:\" + str(p2) + \"원\\n\"\n",
    "m3 = \"허브티:\" + str(p3) + \"원\"\n",
    "title = \"    \" + \"영 수 증\"    # 문자와 문자는 더할 수 있다.\n",
    "\n",
    "# 출력 조합\n",
    "pp = ''\n",
    "pp += (\"=\" * 15)+'\\n'   # 문자랑 숫자는 곱할 수 있다.\n",
    "pp += (title)+'\\n'\n",
    "pp += (\"=\" * 15)+'\\n'\n",
    "pp += (m1+m2+m3)+'\\n'\n",
    "pp += (\"=\" * 15)+'\\n'\n",
    "\n",
    "# 출력\n",
    "print(pp)\n",
    "\n",
    "# 번외\n",
    "# print( \"=\" * 15 + \"\\n\" + title + \"\\n\" + \"=\" * 15 + \"\\n\" + m1+m2+m3 + \"\\n\" + \"=\" * 15)"
   ]
  },
  {
   "cell_type": "code",
   "execution_count": 141,
   "id": "df3dd509-ebef-41ab-b366-1f3c2ccba03f",
   "metadata": {},
   "outputs": [
    {
     "name": "stdout",
     "output_type": "stream",
     "text": [
      "17\n"
     ]
    }
   ],
   "source": [
    "a = \"Life is too short\"\n",
    "print(len(a))"
   ]
  },
  {
   "cell_type": "code",
   "execution_count": 142,
   "id": "75214d14-d408-469c-9ae1-7411aed4e697",
   "metadata": {},
   "outputs": [
    {
     "data": {
      "text/plain": [
       "'Life is too short'"
      ]
     },
     "execution_count": 142,
     "metadata": {},
     "output_type": "execute_result"
    }
   ],
   "source": [
    "a"
   ]
  },
  {
   "cell_type": "markdown",
   "id": "9a9413b9-431b-4bd0-b2ff-ba20edd917dc",
   "metadata": {},
   "source": [
    "### 문자열 인덱싱과 슬라이싱"
   ]
  },
  {
   "cell_type": "code",
   "execution_count": 147,
   "id": "f1376325-9d44-425e-a9a4-1bc8e486df22",
   "metadata": {},
   "outputs": [
    {
     "name": "stdout",
     "output_type": "stream",
     "text": [
      "L i f e\n",
      "Life\n"
     ]
    }
   ],
   "source": [
    "print(a[0],a[1],a[2],a[3])\n",
    "print(a[0]+a[1]+a[2]+a[3])"
   ]
  },
  {
   "cell_type": "code",
   "execution_count": 148,
   "id": "0b31ee5e-e3af-4740-83bb-1e98a96c9fa1",
   "metadata": {},
   "outputs": [
    {
     "name": "stdout",
     "output_type": "stream",
     "text": [
      "t o o\n",
      "too\n"
     ]
    }
   ],
   "source": [
    "print(a[8],a[9],a[10])\n",
    "print(a[8]+a[9]+a[10])"
   ]
  },
  {
   "cell_type": "code",
   "execution_count": 149,
   "id": "37736bac-9979-44d2-8b48-2bc569c68caf",
   "metadata": {},
   "outputs": [
    {
     "name": "stdout",
     "output_type": "stream",
     "text": [
      "t r\n"
     ]
    }
   ],
   "source": [
    "print(a[-1],a[-2])"
   ]
  },
  {
   "cell_type": "code",
   "execution_count": 2,
   "id": "1e4d47d3-38f7-493a-9102-9365242c3335",
   "metadata": {},
   "outputs": [
    {
     "name": "stdout",
     "output_type": "stream",
     "text": [
      "too\n",
      "need\n"
     ]
    }
   ],
   "source": [
    "a = \"Life is too short, You need Python\"\n",
    "\n",
    "# too 출력하기 ; 슬라이싱\n",
    "print(a[8:11])  # 8 <= a < 11\n",
    "print(a[23:27]) # 23 <= a < 27 ; 뒤의 수는 포함되지 않는다."
   ]
  },
  {
   "cell_type": "code",
   "execution_count": 3,
   "id": "f4b5dfba-aea3-4feb-9f4b-c5502a2fce08",
   "metadata": {},
   "outputs": [
    {
     "name": "stdout",
     "output_type": "stream",
     "text": [
      "Life is too short, You need\n"
     ]
    }
   ],
   "source": [
    "print(a[:27])  # 0(처음)은 지워도 됨"
   ]
  },
  {
   "cell_type": "code",
   "execution_count": 10,
   "id": "76add077-06e0-4fca-be1e-9bab6852f825",
   "metadata": {},
   "outputs": [
    {
     "name": "stdout",
     "output_type": "stream",
     "text": [
      "Python\n"
     ]
    }
   ],
   "source": [
    "print(a[28:34])  # 34(끝)도 지워도 됨"
   ]
  },
  {
   "cell_type": "code",
   "execution_count": 177,
   "id": "beab2587-9b26-4234-98ed-687193519155",
   "metadata": {},
   "outputs": [],
   "source": [
    "# import requests\n",
    "# from bs4 import BeautifulSoup as bas\n",
    "\n",
    "# url = \"https://www.naver.com/\"\n",
    "# res = request.get(url)\n",
    "# soup = bs(res.text, 'html.parser')\n",
    "# soup.find_all("
   ]
  },
  {
   "cell_type": "code",
   "execution_count": 172,
   "id": "0e44bf1b-17fe-4a6f-87be-1b4ccc9fe0c5",
   "metadata": {},
   "outputs": [
    {
     "name": "stdout",
     "output_type": "stream",
     "text": [
      "Life is too short, You need Python\n",
      "Lf stosot o edPto\n",
      "nohtyP deen uoY ,trohs oot si efiL\n"
     ]
    }
   ],
   "source": [
    "print(a[::1])\n",
    "print(a[::2])  # 두 칸씩 건너뛰어 보여줘\n",
    "print(a[::-1]) # 역순으로 전체를 보여줘"
   ]
  },
  {
   "cell_type": "code",
   "execution_count": 187,
   "id": "ab5a29c9-4d22-4907-9d18-13c03a207c16",
   "metadata": {},
   "outputs": [
    {
     "name": "stdout",
     "output_type": "stream",
     "text": [
      "20250203\n",
      "오늘은화창하다\n"
     ]
    }
   ],
   "source": [
    "today = \"20250203오늘은화창하다\"\n",
    "print(today[:8] +\"\\n\"+ today[8:])"
   ]
  },
  {
   "cell_type": "code",
   "execution_count": 206,
   "id": "a95b36a6-d5dc-4978-8838-45ca820b13e4",
   "metadata": {},
   "outputs": [
    {
     "name": "stdout",
     "output_type": "stream",
     "text": [
      "2025년 02월 03일 오늘은 화창하다!\n"
     ]
    }
   ],
   "source": [
    "today = \"20250203오늘은화창하다\"\n",
    "a = today[:4]+ \"년\" \n",
    "b = today[4:6]+ \"월\" \n",
    "c = today[6:8]+ \"일\"\n",
    "d = today[8:11]\n",
    "f = today[11:] + \"!\"\n",
    "\n",
    "print(a,b,c,d,f)"
   ]
  },
  {
   "cell_type": "code",
   "execution_count": 11,
   "id": "50f896e2-ae1d-4c6b-97f2-c6ef5c21e201",
   "metadata": {
    "jp-MarkdownHeadingCollapsed": true
   },
   "outputs": [
    {
     "name": "stdout",
     "output_type": "stream",
     "text": [
      "한국서 돈벌고 '나 몰라라' 코스트코… 연회비 인상률은 미국의 2배\n",
      "한국서 돈벌고 '나 몰라라' 코스트코… 연회비 인상률은 미국의 3배\n"
     ]
    }
   ],
   "source": [
    "import requests  # requests라는 모듈을 가져옴\n",
    "url = 'https://v.daum.net/v/20250203151815463'\n",
    "res = requests.get(url).text\n",
    "print(res[374:411])\n",
    "print(res[374:409]+\"3\"+res[410:411])\n",
    "# result = res[374:411]\n",
    "# out = result[:-2] + '3' + result[-1]\n",
    "# print(out)     ; 정답 예시"
   ]
  },
  {
   "cell_type": "code",
   "execution_count": 12,
   "id": "5a515301-a95f-47a5-8a85-f69a4a3a43a6",
   "metadata": {},
   "outputs": [
    {
     "name": "stdout",
     "output_type": "stream",
     "text": [
      "한국서 돈벌고 '나 몰라라' 코스트코… 연회비 인상률은 미국의 3배\n"
     ]
    }
   ],
   "source": [
    "# 해설\n",
    "import requests\n",
    "url = 'https://v.daum.net/v/20250203151815463'\n",
    "res = requests.get(url).text\n",
    "result = res[374:411]\n",
    "out = result[:-2] + '3' + result[-1]\n",
    "print(out)"
   ]
  },
  {
   "cell_type": "code",
   "execution_count": 251,
   "id": "809818e5-c9b4-4a15-999b-fcd5f5303c20",
   "metadata": {},
   "outputs": [
    {
     "name": "stdout",
     "output_type": "stream",
     "text": [
      "뿌요의 톡쏘는 일상 : 네이버 블로그\n",
      "으니의 톡쏘는 일상 : 네이버 블로그\n"
     ]
    }
   ],
   "source": [
    "import requests\n",
    "url = 'https://blog.naver.com/droad777' \n",
    "res = requests.get(url).text\n",
    "print(res[895:915])\n",
    "\n",
    "result = res[895:915]\n",
    "out = \"으니\" + result[2:]\n",
    "print(out)"
   ]
  },
  {
   "cell_type": "code",
   "execution_count": null,
   "id": "467010b6-6570-49f8-9a93-63d7454a3146",
   "metadata": {},
   "outputs": [],
   "source": [
    "# 62p 20250204"
   ]
  },
  {
   "cell_type": "markdown",
   "id": "aa62833d-306f-4fb3-b2b2-29da77311d0e",
   "metadata": {},
   "source": [
    "### 문자열 포매팅"
   ]
  },
  {
   "cell_type": "code",
   "execution_count": 12,
   "id": "653824fa-f80a-4636-90c1-ed57097d2af6",
   "metadata": {},
   "outputs": [
    {
     "name": "stdout",
     "output_type": "stream",
     "text": [
      "I eat 3 apples.\n",
      "I eat 17 apples.\n",
      "I eat five apples.\n",
      "I eat 12 apples.\n"
     ]
    }
   ],
   "source": [
    "print(\"I eat 3 apples.\")\n",
    "print(\"I eat %d apples.\" %17)\n",
    "print(\"I eat %s apples.\" %\"five\")\n",
    "print(\"I eat %s apples.\" % 12) # %d는 숫자, %s는 문자(숫자도 들어감)"
   ]
  },
  {
   "cell_type": "markdown",
   "id": "dd0fca0d-9401-46b2-b37e-d187fb8f9ab7",
   "metadata": {},
   "source": [
    "<table style=\"float:left\">\n",
    "<thead>\n",
    "<tr>\n",
    "<th>코드</th>\n",
    "<th>설명</th>\n",
    "</tr>\n",
    "</thead>\n",
    "<tbody>\n",
    "<tr>\n",
    "<td>%s</td>\n",
    "<td>문자열(String)</td>\n",
    "</tr>\n",
    "<tr>\n",
    "<td>%c</td>\n",
    "<td>문자 1개(character)</td>\n",
    "</tr>\n",
    "<tr>\n",
    "<td>%d</td>\n",
    "<td>정수(Integer)</td>\n",
    "</tr>\n",
    "<tr>\n",
    "<td>%f</td>\n",
    "<td>부동소수(floating-point)</td>\n",
    "</tr>\n",
    "<tr>\n",
    "<td>%o</td>\n",
    "<td>8진수</td>\n",
    "</tr>\n",
    "<tr>\n",
    "<td>%x</td>\n",
    "<td>16진수</td>\n",
    "</tr>\n",
    "<tr>\n",
    "<td>%%</td>\n",
    "<td>Literal % (문자 <code>%</code> 자체)</td>\n",
    "</tr>\n",
    "</tbody>\n",
    "</table>"
   ]
  },
  {
   "cell_type": "code",
   "execution_count": 24,
   "id": "e24f5068-58b4-438a-8a87-f79d5b258af6",
   "metadata": {},
   "outputs": [
    {
     "name": "stdout",
     "output_type": "stream",
     "text": [
      "사람 몸의 수분은 60% 이다\n",
      "사람 몸의 수분은 60% 이다.\n"
     ]
    }
   ],
   "source": [
    "print(\"사람 몸의 수분은 60% 이다\")\n",
    "print(\"사람 몸의 수분은 %d%% 이다.\" %60) # %의 이스케이프 코드"
   ]
  },
  {
   "cell_type": "code",
   "execution_count": 26,
   "id": "f0ad9d3b-b233-43d2-9b73-1d49dc463102",
   "metadata": {},
   "outputs": [
    {
     "name": "stdout",
     "output_type": "stream",
     "text": [
      "십진수로 123은 123이다\n",
      "십진수로 123은 123이다\n",
      "십진수로 123은 77이다.\n",
      "십진수로 123은 16진수로 7b이다.\n",
      "십진수로 123은 8진수로 173이다.\n"
     ]
    }
   ],
   "source": [
    "print(\"십진수로 123은 123이다\")\n",
    "print(\"십진수로 123은 %d이다\" %123)\n",
    "print(\"십진수로 %d은 %d이다.\" %(123,77)) # 괄호로 묶으면 여러개 표현 가능\n",
    "print(\"십진수로 %d은 16진수로 %x이다.\" %(123,123))\n",
    "print(\"십진수로 %d은 8진수로 %o이다.\" %(123,123))"
   ]
  },
  {
   "cell_type": "code",
   "execution_count": 25,
   "id": "5170c419-024d-4173-a133-90177977fe8f",
   "metadata": {},
   "outputs": [
    {
     "name": "stdout",
     "output_type": "stream",
     "text": [
      "십진수로 123은 8진수로 173이고, 16진수로 7b이다.\n"
     ]
    }
   ],
   "source": [
    "print(\"십진수로 %d은 8진수로 %o이고, 16진수로 %x이다.\" %(123,123,123,))"
   ]
  },
  {
   "cell_type": "code",
   "execution_count": 34,
   "id": "6bf81761-c10a-465c-b5cc-cab8e8270fed",
   "metadata": {},
   "outputs": [
    {
     "name": "stdout",
     "output_type": "stream",
     "text": [
      "hi\n",
      "        hi\n",
      "hi        \n"
     ]
    }
   ],
   "source": [
    "# 정렬과 공백\n",
    "print(\"%s\" %\"hi\")\n",
    "print(\"%10s\" %\"hi\")  # 총 10칸 중 hi를 잡았다. (오른쪽 정렬)\n",
    "print(\"%-10s\" %\"hi\") # 음수일 때 왼쪽정렬"
   ]
  },
  {
   "attachments": {
    "259f6ba6-0c62-4c6a-b3b6-4ddee00abc42.png": {
     "image/png": "[encoded data removed]"
    }
   },
   "cell_type": "markdown",
   "id": "a27b9829-a7bc-4889-b86e-483df4fb1203",
   "metadata": {},
   "source": [
    "<img src=\"attachment:259f6ba6-0c62-4c6a-b3b6-4ddee00abc42.png\" width=300>"
   ]
  },
  {
   "cell_type": "code",
   "execution_count": 31,
   "id": "fbe700c0-aa01-4dc2-aa13-9fefad69c97b",
   "metadata": {},
   "outputs": [
    {
     "name": "stdout",
     "output_type": "stream",
     "text": [
      "hi        jane\n"
     ]
    }
   ],
   "source": [
    "print(\"%-10sjane\" %\"hi\")"
   ]
  },
  {
   "attachments": {
    "55506d70-2ca8-4e3b-a808-30a6084e0d70.png": {
     "image/png": "[encoded data removed]"
    }
   },
   "cell_type": "markdown",
   "id": "5178053a-4749-43db-b33b-b185d99e67d2",
   "metadata": {},
   "source": [
    "<img src=\"attachment:55506d70-2ca8-4e3b-a808-30a6084e0d70.png\" width=450>"
   ]
  },
  {
   "cell_type": "code",
   "execution_count": 44,
   "id": "8cb4c147-8234-46b9-b6eb-eeb5067718c3",
   "metadata": {},
   "outputs": [
    {
     "name": "stdout",
     "output_type": "stream",
     "text": [
      "3.141592\n",
      "3\n",
      "3.141592\n",
      "3.141592\n",
      "3.1416\n",
      "    3.1416\n"
     ]
    }
   ],
   "source": [
    "# 소수점 표현하기\n",
    "print(\"3.141592\")\n",
    "print(\"%d\" %3.141592)\n",
    "print(\"%s\" %3.141592) # 계산이 안 됨 (문자취급하니까)\n",
    "print(\"%f\" %3.141592)\n",
    "print(\"%0.4f\" %3.141592) # 소수점 넷째자리까지.\n",
    "print(\"%10.4f\" %3.141592)  # 점도 자리를 차지한다."
   ]
  },
  {
   "attachments": {
    "10ba9e37-4361-4595-b741-265fc924430b.png": {
     "image/png": "[encoded data removed]"
    }
   },
   "cell_type": "markdown",
   "id": "c4347a8b-1ee3-49de-9509-2358ebd3643d",
   "metadata": {},
   "source": [
    "<img src=\"attachment:10ba9e37-4361-4595-b741-265fc924430b.png\" width=360>"
   ]
  },
  {
   "cell_type": "markdown",
   "id": "fff800c5-e78a-424d-8564-60141b1de895",
   "metadata": {},
   "source": [
    "### format 함수를 사용한 포매팅"
   ]
  },
  {
   "cell_type": "code",
   "execution_count": 49,
   "id": "4337c067-b382-4147-9827-4e03ee861777",
   "metadata": {},
   "outputs": [
    {
     "name": "stdout",
     "output_type": "stream",
     "text": [
      "I eat 3 apples\n",
      "I eat 3 of 10 apples\n"
     ]
    }
   ],
   "source": [
    "#바로 대입하기\n",
    "print(\"I eat {0} apples\".format(3)) # {}는 충돌을 방지하기 위한 인덱싱\n",
    "# 포맷은 print(표현할 값.format) 형식으로 들어감.\n",
    "\n",
    "print(\"I eat {0} of {1} apples\".format(3,10))"
   ]
  },
  {
   "cell_type": "code",
   "execution_count": 51,
   "id": "2a90522f-2051-4bb2-aedb-8b2a7a2d939a",
   "metadata": {},
   "outputs": [
    {
     "name": "stdout",
     "output_type": "stream",
     "text": [
      "I eat 3 of 10 apples\n"
     ]
    }
   ],
   "source": [
    "# 변수로 대입하기\n",
    "total = 10\n",
    "ea = 3\n",
    "print(\"I eat {0} of {1} apples\".format(ea,total))"
   ]
  },
  {
   "cell_type": "code",
   "execution_count": 52,
   "id": "ff690456-c580-42d6-a1c0-6d2b2793db29",
   "metadata": {},
   "outputs": [
    {
     "name": "stdout",
     "output_type": "stream",
     "text": [
      "I eat three of 10 apples\n"
     ]
    }
   ],
   "source": [
    "total = 10\n",
    "ea = \"three\"\n",
    "print(\"I eat {0} of {1} apples\".format(ea,total))"
   ]
  },
  {
   "cell_type": "code",
   "execution_count": 53,
   "id": "59b644fe-e4a2-4e70-9771-8d24517f839f",
   "metadata": {},
   "outputs": [
    {
     "name": "stdout",
     "output_type": "stream",
     "text": [
      "I eat three of 10 apples\n"
     ]
    }
   ],
   "source": [
    "print(\"I eat {ea} of {total} apples\".format(ea=\"three\",total=10))"
   ]
  },
  {
   "cell_type": "code",
   "execution_count": 55,
   "id": "68a6f761-f739-4e73-84f7-1fa0418d13da",
   "metadata": {},
   "outputs": [
    {
     "name": "stdout",
     "output_type": "stream",
     "text": [
      "I ate 10 apples. so I was sick for 3 days.\n"
     ]
    }
   ],
   "source": [
    "print(\"I ate {0} apples. so I was sick for {day} days.\".format(10, day=3))"
   ]
  },
  {
   "cell_type": "code",
   "execution_count": 57,
   "id": "ca70e429-8b84-4d7d-805a-b89063e68c2c",
   "metadata": {},
   "outputs": [
    {
     "name": "stdout",
     "output_type": "stream",
     "text": [
      "hi\n"
     ]
    }
   ],
   "source": [
    "print(\"{0}\".format(\"hi\"))"
   ]
  },
  {
   "cell_type": "code",
   "execution_count": 62,
   "id": "2fb837f1-6088-4537-b635-828a7e2067fa",
   "metadata": {},
   "outputs": [
    {
     "name": "stdout",
     "output_type": "stream",
     "text": [
      "        hi\n",
      "    hi    \n",
      "hi        \n"
     ]
    }
   ],
   "source": [
    "  # 정렬    cf) 공백은 white space\n",
    "\n",
    "# 우측정렬\n",
    "print(\"{0:>10}\".format(\"hi\"))  \n",
    "# 가운데 정렬\n",
    "print(\"{0:^10}\".format(\"hi\"))\n",
    "# 좌측 정렬\n",
    "print(\"{0:<10}\".format(\"hi\"))"
   ]
  },
  {
   "cell_type": "code",
   "execution_count": 67,
   "id": "f3422dee-c715-4698-9233-9a458a28e246",
   "metadata": {},
   "outputs": [
    {
     "name": "stdout",
     "output_type": "stream",
     "text": [
      "=========hi=========\n",
      "ㅋㅋㅋㅋㅋㅋㅋㅋ웃겨!ㅋㅋㅋㅋㅋㅋㅋㅋㅋ\n"
     ]
    }
   ],
   "source": [
    "# 가운데 정렬 + 공백에 글자 채우기\n",
    "print(\"{0:=^20}\".format(\"hi\"))\n",
    "print(\"{0:ㅋ^20}\".format(\"웃겨!\"))"
   ]
  },
  {
   "cell_type": "code",
   "execution_count": 74,
   "id": "010c6931-c727-4b31-a37c-497813b5435b",
   "metadata": {},
   "outputs": [
    {
     "name": "stdout",
     "output_type": "stream",
     "text": [
      "3.141592\n",
      "3.1416\n",
      "              3.1416\n"
     ]
    }
   ],
   "source": [
    "# 소수점 표현하기\n",
    "pi = 3.141592\n",
    "print(\"{0}\".format(pi))\n",
    "print(\"{0:0.4f}\".format(pi))   # 숫자화\n",
    "print(\"{0:20.4f}\".format(pi))  # 스무칸 확보"
   ]
  },
  {
   "cell_type": "code",
   "execution_count": 77,
   "id": "fbe0c614-23cf-484c-a49f-919d1463a8e4",
   "metadata": {},
   "outputs": [
    {
     "name": "stdout",
     "output_type": "stream",
     "text": [
      "중괄호은 { 과 } 입니다.\n"
     ]
    }
   ],
   "source": [
    "# 이스케이프 처리\n",
    "print(\"{0}은 {{ 과 }} 입니다.\".format(\"중괄호\"))"
   ]
  },
  {
   "cell_type": "code",
   "execution_count": 78,
   "id": "b0aae140-4f22-407e-a47c-de2a143e899a",
   "metadata": {},
   "outputs": [
    {
     "name": "stdout",
     "output_type": "stream",
     "text": [
      "1111011\n"
     ]
    }
   ],
   "source": [
    "# 2진수 처리\n",
    "print(\"{0:b}\".format(123))"
   ]
  },
  {
   "cell_type": "code",
   "execution_count": 92,
   "id": "efdddc58-28b0-4610-88b1-001fb0f3e5e3",
   "metadata": {},
   "outputs": [
    {
     "name": "stdout",
     "output_type": "stream",
     "text": [
      "01111011\n"
     ]
    }
   ],
   "source": [
    "print(\"{0:0>8b}\".format(123)) # 8칸을 만든 후 공백을 0으로 채워라"
   ]
  },
  {
   "cell_type": "markdown",
   "id": "c7d917bf-d376-48c5-86f3-3bcfe0403e50",
   "metadata": {},
   "source": [
    "### f문자열 포매팅"
   ]
  },
  {
   "cell_type": "code",
   "execution_count": 99,
   "id": "843df277-c333-4266-9cf3-c2747f7bc962",
   "metadata": {},
   "outputs": [
    {
     "name": "stdout",
     "output_type": "stream",
     "text": [
      "나의 이름은 배트맨입니다. 나이는 30입니다.\n",
      "내년이면 31 살이 됩니다.\n"
     ]
    }
   ],
   "source": [
    "  # \"  \".format -> f\"\"\n",
    "\n",
    "name = \"배트맨\"\n",
    "age = 30\n",
    "print(f\"나의 이름은 {name}입니다. 나이는 {age}입니다.\")\n",
    "print(f\"내년이면 {age + 1} 살이 됩니다.\")"
   ]
  },
  {
   "cell_type": "code",
   "execution_count": 129,
   "id": "2fb724b7-8b3d-4ff1-b680-f530edc6502f",
   "metadata": {},
   "outputs": [
    {
     "name": "stdout",
     "output_type": "stream",
     "text": [
      "나의 이름은 홍길동입니다. 나이는 30입니다. 성별은 male입니다.\n"
     ]
    }
   ],
   "source": [
    "d = {'name':'홍길동','age':30,'gen':'male'}\n",
    "print(f'나의 이름은 {d[\"name\"]}입니다. 나이는 {d[\"age\"]}입니다. 성별은 {d[\"gen\"]}입니다.')"
   ]
  },
  {
   "cell_type": "code",
   "execution_count": 114,
   "id": "a0eea6ae-1b27-4726-8a57-9ed2c94ba889",
   "metadata": {},
   "outputs": [
    {
     "name": "stdout",
     "output_type": "stream",
     "text": [
      "hi        \n",
      "    hi    \n",
      "        hi\n"
     ]
    }
   ],
   "source": [
    "# 왼쪽 정렬\n",
    "print(f'{\"hi\":<10}')\n",
    "\n",
    "# 가운데 정렬\n",
    "print(f'{\"hi\":^10}')\n",
    "\n",
    "# 오른쪽 정렬\n",
    "print(f'{\"hi\":>10}')"
   ]
  },
  {
   "cell_type": "code",
   "execution_count": 119,
   "id": "a04ad806-2643-4828-be03-ead3ddf3b60d",
   "metadata": {},
   "outputs": [
    {
     "name": "stdout",
     "output_type": "stream",
     "text": [
      "====hi====\n",
      "hi!!!!!!!!\n"
     ]
    }
   ],
   "source": [
    "# 공백 채우기\n",
    "print(f'{\"hi\":=^10}') # 가운데 정렬하고 '=' 문자로 공백 채우기\n",
    "print(f'{\"hi\":!<10}') # 왼쪽 정렬하고  '!' 문자로 공백 채우기"
   ]
  },
  {
   "cell_type": "code",
   "execution_count": 120,
   "id": "a54e10cd-bd8e-40ee-9198-17e049233594",
   "metadata": {},
   "outputs": [
    {
     "name": "stdout",
     "output_type": "stream",
     "text": [
      "3.4213\n",
      "    3.4213\n"
     ]
    }
   ],
   "source": [
    "# 소수점 표현하기\n",
    "y = 3.42134234\n",
    "print(f'{y:0.4f}')  # 소수점 4자리까지만 표현\n",
    "print(f'{y:10.4f}') # 소수점 4자리까지 표현하고 총 자리수를 10으로 맞춤"
   ]
  },
  {
   "cell_type": "code",
   "execution_count": 1,
   "id": "da26f72b-8644-4db7-9c8d-333a0631491a",
   "metadata": {},
   "outputs": [
    {
     "name": "stdout",
     "output_type": "stream",
     "text": [
      "{and}\n"
     ]
    }
   ],
   "source": [
    "# 이스케이프 표현\n",
    "print(f'{{and}}')"
   ]
  },
  {
   "cell_type": "markdown",
   "id": "6c13885b-c591-4fad-8340-dc6e5773d7be",
   "metadata": {},
   "source": [
    "### 문자열 관련 함수들"
   ]
  },
  {
   "cell_type": "code",
   "execution_count": 5,
   "id": "13a24829-1f90-4665-96e1-d962ab0800dc",
   "metadata": {},
   "outputs": [
    {
     "data": {
      "text/plain": [
       "2"
      ]
     },
     "execution_count": 5,
     "metadata": {},
     "output_type": "execute_result"
    }
   ],
   "source": [
    "a = \"hobby\"\n",
    "a.count('b')"
   ]
  },
  {
   "cell_type": "code",
   "execution_count": 9,
   "id": "b01e3f9a-76da-481f-86a9-8f544c487440",
   "metadata": {},
   "outputs": [
    {
     "data": {
      "text/plain": [
       "2"
      ]
     },
     "execution_count": 9,
     "metadata": {},
     "output_type": "execute_result"
    }
   ],
   "source": [
    "\"hobby\".count('b')\n",
    "# \"{0}입니다.\".format(\"안녕\")"
   ]
  },
  {
   "cell_type": "code",
   "execution_count": 14,
   "id": "bbcca327-2500-4271-8265-878afb8eac78",
   "metadata": {},
   "outputs": [
    {
     "name": "stdout",
     "output_type": "stream",
     "text": [
      "한국서 돈벌고 '나 몰라라' 코스트코… 연회비 인상률은 미국의 3배\n",
      "2\n",
      "1\n"
     ]
    }
   ],
   "source": [
    "import requests  # requests라는 모듈을 가져옴\n",
    "url = 'https://v.daum.net/v/20250203151815463'\n",
    "res = requests.get(url).text\n",
    "result = res[374:411]\n",
    "out = result[:-2] + '3' + result[-1]\n",
    "print(out)\n",
    "print(out.count('코'))\n",
    "print(out.count('한국'))"
   ]
  },
  {
   "cell_type": "code",
   "execution_count": 18,
   "id": "6d5dbc3b-df34-4195-b2d3-113542fd1f4f",
   "metadata": {},
   "outputs": [
    {
     "name": "stdout",
     "output_type": "stream",
     "text": [
      "한국서 돈벌고 '나 몰라라' 코스트코… 연회비 인상률은 미국의 3배\n",
      "16\n",
      "-1\n"
     ]
    }
   ],
   "source": [
    "# 위치 알려주기 1 find > 문자가 처음 나온 위치 ! \n",
    "print(out)\n",
    "print(out.find('코'))\n",
    "print(out.find('밥'))  # 찾는 값이 없습니다."
   ]
  },
  {
   "cell_type": "code",
   "execution_count": 22,
   "id": "f80600bf-8542-45ca-a515-b196702ef96b",
   "metadata": {},
   "outputs": [
    {
     "name": "stdout",
     "output_type": "stream",
     "text": [
      "374\n"
     ]
    }
   ],
   "source": [
    "import requests  # requests라는 모듈을 가져옴\n",
    "url = 'https://v.daum.net/v/20250203151815463'\n",
    "res = requests.get(url).text\n",
    "print(res.find('한'))"
   ]
  },
  {
   "cell_type": "code",
   "execution_count": 41,
   "id": "a1707853-1350-491f-8e9a-d821dc397796",
   "metadata": {},
   "outputs": [
    {
     "name": "stdout",
     "output_type": "stream",
     "text": [
      "41529\n",
      "좋아하는 노래제목: toxic till the end\n"
     ]
    }
   ],
   "source": [
    "import requests  # requests라는 모듈을 가져옴\n",
    "url = 'https://music.apple.com/kr/playlist/%EC%98%A4%EB%8A%98%EC%9D%98-top-100-%EB%8C%80%ED%95%9C%EB%AF%BC%EA%B5%AD/pl.d3d10c32fbc540b38e266367dc8cb00c'\n",
    "res = requests.get(url).text\n",
    "print(res.find('toxic till the end'))\n",
    "# print(res.index('toxi till the end')) # index는 없으면 오류 발생\n",
    "print('좋아하는 노래제목:',res[41529:41547])"
   ]
  },
  {
   "cell_type": "code",
   "execution_count": null,
   "id": "84fa2fde-4216-4e88-939e-00e74858dc72",
   "metadata": {},
   "outputs": [],
   "source": [
    "dir(str) # cf) 문자열에 쓰이는 함수 "
   ]
  },
  {
   "cell_type": "code",
   "execution_count": 47,
   "id": "eaa5052a-2e41-4247-9c02-0568dfbf22be",
   "metadata": {},
   "outputs": [
    {
     "name": "stdout",
     "output_type": "stream",
     "text": [
      "a,b,c,d,e,f,g\n",
      "a,b,c,d\n"
     ]
    }
   ],
   "source": [
    "# 문자열 삽입 join * 중요 !\n",
    "# 리스트, 튜플을 문자열로 !\n",
    "print(\",\".join('abcdefg'))  \n",
    "print(\",\".join(['a','b','c','d']))  # 배열을 꺼내서 하나의 문장으로 "
   ]
  },
  {
   "cell_type": "code",
   "execution_count": 49,
   "id": "69996c37-771d-41a6-82da-a357a1d64d0c",
   "metadata": {},
   "outputs": [
    {
     "name": "stdout",
     "output_type": "stream",
     "text": [
      "HI\n"
     ]
    }
   ],
   "source": [
    "# 소문자를 대문자로 바꾸기 upper\n",
    "a = \"hi\"\n",
    "print(a.upper())"
   ]
  },
  {
   "cell_type": "code",
   "execution_count": 50,
   "id": "f23262bd-9e8a-44aa-8c52-7f02e67a361d",
   "metadata": {},
   "outputs": [
    {
     "name": "stdout",
     "output_type": "stream",
     "text": [
      "hi\n"
     ]
    }
   ],
   "source": [
    "# 대문자를 소문자로 바꾸기 lower\n",
    "a = \"HI\"\n",
    "print(a.lower())"
   ]
  },
  {
   "cell_type": "code",
   "execution_count": 52,
   "id": "d1dde40e-a09d-4b69-a3e5-95d01648e6ca",
   "metadata": {},
   "outputs": [
    {
     "name": "stdout",
     "output_type": "stream",
     "text": [
      "Life is Egg\n",
      "LIFE IS EGG\n",
      "life is egg\n"
     ]
    }
   ],
   "source": [
    "# 연습\n",
    "v = \"Life is Egg\"\n",
    "big = v.upper()  # 원본을 파괴하는지 유지하는지 잘 확인해야 함!\n",
    "small = v.lower()  \n",
    "print(v)\n",
    "print(big)\n",
    "print(small)"
   ]
  },
  {
   "cell_type": "code",
   "execution_count": 1,
   "id": "1c0b8f22-fd5b-4ebe-abe3-e73907de752e",
   "metadata": {},
   "outputs": [
    {
     "name": "stdout",
     "output_type": "stream",
     "text": [
      "            Hi \n",
      "Hi \n",
      "            Hi\n",
      "Hi\n"
     ]
    }
   ],
   "source": [
    "a = \"            Hi \"\n",
    "aa= a.lstrip()   # strip이 원형, l을 붙여 left\n",
    "bb= a.rstrip()\n",
    "cc= a.strip()\n",
    "print(a)\n",
    "print(aa)\n",
    "print(bb)\n",
    "print(cc)"
   ]
  },
  {
   "cell_type": "code",
   "execution_count": 4,
   "id": "64b1b5d7-f5fe-4004-bbe2-8abdfb15ab08",
   "metadata": {},
   "outputs": [
    {
     "name": "stdout",
     "output_type": "stream",
     "text": [
      "        !    Hi    !\n",
      "!    Hi    !\n",
      "        !    Hi    !\n",
      "!    Hi    !\n"
     ]
    }
   ],
   "source": [
    "# cf\n",
    "a = \"        !    Hi    !\"   # ! ! 사이를 하나의 단어로 봄\n",
    "aa= a.lstrip()   # strip이 원형, l을 붙여 left\n",
    "bb= a.rstrip()\n",
    "cc= a.strip()\n",
    "print(a)\n",
    "print(aa)\n",
    "print(bb)\n",
    "print(cc)"
   ]
  },
  {
   "cell_type": "code",
   "execution_count": 3,
   "id": "111e5d48-3513-4abc-a621-944daf96c6c2",
   "metadata": {},
   "outputs": [
    {
     "name": "stdout",
     "output_type": "stream",
     "text": [
      "         hi         \n",
      "hi         \n",
      "         hi\n",
      "hi\n"
     ]
    }
   ],
   "source": [
    "f = f\"{'hi':^20}\"\n",
    "f1 = f.lstrip()\n",
    "f2 = f.rstrip()\n",
    "f3 = f.strip()\n",
    "print(f)\n",
    "print(f1)\n",
    "print(f2)\n",
    "print(f3)"
   ]
  },
  {
   "cell_type": "code",
   "execution_count": 5,
   "id": "3fa0a8bb-8ffa-4eba-ae77-2b9f0f46a80e",
   "metadata": {},
   "outputs": [
    {
     "name": "stdout",
     "output_type": "stream",
     "text": [
      "Life is Egg\n",
      "Life is Beautiful\n"
     ]
    }
   ],
   "source": [
    "# 문자열 바꾸기 replace ** 중요 !\n",
    "a = \"Life is Egg\"\n",
    "# a = a.replace(\"Egg\",\"Beautiful\")  # a를 a로 덮어씀\n",
    "c = a.replace(\"Egg\",\"Beautiful\")  #  ,를 기준으로 나눠짐\n",
    "print(a)\n",
    "print(c)"
   ]
  },
  {
   "cell_type": "code",
   "execution_count": 7,
   "id": "f5d60bfd-cc9b-42e9-a48a-bf85f51f40ee",
   "metadata": {},
   "outputs": [
    {
     "name": "stdout",
     "output_type": "stream",
     "text": [
      "['Life', 'is', 'egg']\n"
     ]
    }
   ],
   "source": [
    "# 문자열 나누기 split * 중요 !\n",
    "# 문자를 배열로\n",
    "a = \"Life is egg\"\n",
    "aa = a.split()  # 아무것도 안 넣으면 공백을 중심으로 나누겠다는 의미.\n",
    "print(aa)"
   ]
  },
  {
   "cell_type": "code",
   "execution_count": 9,
   "id": "55377f1f-7724-47e0-963e-e27116021514",
   "metadata": {},
   "outputs": [
    {
     "name": "stdout",
     "output_type": "stream",
     "text": [
      "['Life', 'is', 'egg']\n"
     ]
    }
   ],
   "source": [
    "# cf)\n",
    "a = \"Life-is-egg\"\n",
    "aa = a.split('-')\n",
    "print(aa)"
   ]
  },
  {
   "cell_type": "code",
   "execution_count": 13,
   "id": "1e8489f0-bd0f-401e-9807-8e05140b1e77",
   "metadata": {},
   "outputs": [
    {
     "name": "stdout",
     "output_type": "stream",
     "text": [
      "['abcdefghi']\n",
      "a=b=c=d=e=f=g=h=i\n",
      "['a', 'b', 'c', 'd', 'e', 'f', 'g', 'h', 'i']\n",
      "abcdefghi\n"
     ]
    }
   ],
   "source": [
    "# 연습\n",
    "ex = \"abcdefghi\"\n",
    "ex2 = ex.split()\n",
    "print(ex2)\n",
    "ex_join = \"=\".join(ex)\n",
    "print(ex_join)\n",
    "ex_split = ex_join.split(\"=\")\n",
    "print(ex_split)\n",
    "ex_replace = ex_join.replace(\"=\",\"\")\n",
    "print(ex_replace)"
   ]
  }
 ],
 "metadata": {
  "kernelspec": {
   "display_name": "Python 3 (ipykernel)",
   "language": "python",
   "name": "python3"
  },
  "language_info": {
   "codemirror_mode": {
    "name": "ipython",
    "version": 3
   },
   "file_extension": ".py",
   "mimetype": "text/x-python",
   "name": "python",
   "nbconvert_exporter": "python",
   "pygments_lexer": "ipython3",
   "version": "3.13.1"
  }
 },
 "nbformat": 4,
 "nbformat_minor": 5
}
