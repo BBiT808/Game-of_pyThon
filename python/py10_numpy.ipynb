{
 "cells": [
  {
   "cell_type": "code",
   "execution_count": null,
   "metadata": {
    "id": "ays-i9GHjqEe"
   },
   "outputs": [],
   "source": [
    "# 20250225 첫 코랩 수업~~! (그치만 전체로는 17번째라는 . . . )"
   ]
  },
  {
   "cell_type": "code",
   "execution_count": 3,
   "metadata": {
    "id": "J-6UQyzTg__-"
   },
   "outputs": [],
   "source": [
    "with open('test.txt','w') as f :\n",
    "  data = f.write('반가워요')  # 저장이 가능하다. 저장경로는 /content/sample_data\n",
    "with open('./drive/MyDrive/ReadMe.md','w') as f :   # 저장경로를 지정해줬다 !\n",
    "  data = f.write('*반가워요')\n",
    "  print(\"저장되었습니다.\")"
   ]
  },
  {
   "cell_type": "code",
   "execution_count": 2,
   "metadata": {
    "colab": {
     "base_uri": "https://localhost:8080/"
    },
    "id": "HezC-nwxiEEP",
    "outputId": "a0712f6e-d38c-4af0-b833-e01f3ce0a089"
   },
   "outputs": [
    {
     "name": "stdout",
     "output_type": "stream",
     "text": [
      "저장되었습니다.\n"
     ]
    }
   ],
   "source": [
    "with open('./drive/MyDrive/ReadMe.md','w') as f :   # 저장경로를 지정해줬다 !\n",
    "  data = f.write('*반가워요')\n",
    "  print(\"저장되었습니다.\")"
   ]
  },
  {
   "cell_type": "markdown",
   "metadata": {
    "id": "kw1rlO6virM-"
   },
   "source": [
    "# 넘파이(numpy)"
   ]
  },
  {
   "cell_type": "markdown",
   "metadata": {
    "id": "ZWR_Bfp-jat-"
   },
   "source": [
    "- ndim : 축의 개수\n",
    "- shape : 배열의 차원정보\n",
    "- size : 배열 안에 있는 원소의 총 개수\n",
    "- dtype : 배열 원소의 자료형"
   ]
  },
  {
   "cell_type": "markdown",
   "metadata": {
    "id": "W7P2saXuulJz"
   },
   "source": [
    "## 1차원과 속성들"
   ]
  },
  {
   "cell_type": "code",
   "execution_count": 7,
   "metadata": {
    "colab": {
     "base_uri": "https://localhost:8080/"
    },
    "id": "p332xQMeix3g",
    "outputId": "e1c51c29-e974-4060-f4aa-9a8317b6e15c"
   },
   "outputs": [
    {
     "name": "stdout",
     "output_type": "stream",
     "text": [
      "[0 1 2 3 4]\n"
     ]
    }
   ],
   "source": [
    "# pip install numpy  : 설치를 하지 않았지만 이미 품고 있구만~\n",
    "import numpy as np\n",
    "narry = np.array(range(5))\n",
    "print(narry)  # 넘파이식의 어레이에는 콤마가 없다 (리스트가 아님)"
   ]
  },
  {
   "cell_type": "code",
   "execution_count": null,
   "metadata": {
    "id": "TRSkJ2cHi6bg"
   },
   "outputs": [],
   "source": [
    "# Shift + delete 하면 줄 전체를 통째로 날림~!"
   ]
  },
  {
   "cell_type": "code",
   "execution_count": 19,
   "metadata": {
    "colab": {
     "base_uri": "https://localhost:8080/"
    },
    "id": "oxlOKIhqj5zd",
    "outputId": "d1aa652d-38ef-4262-b78e-df246e706add"
   },
   "outputs": [
    {
     "name": "stdout",
     "output_type": "stream",
     "text": [
      "[0 1 2 3 4] <class 'numpy.ndarray'>\n",
      "1\n",
      "(5,)\n",
      "5\n",
      "int64\n",
      "3\n",
      "[2 3]\n"
     ]
    }
   ],
   "source": [
    "import numpy as np\n",
    "narry = np.array(range(5))\n",
    "print(narry,type(narry))\n",
    "print(narry.ndim)\n",
    "print(narry.shape)  # 그냥 5임\n",
    "print(narry.size)\n",
    "print(narry.dtype)  # 64bit?\n",
    "print(narry[3])     #  슬라이싱 하는 것 ~!\n",
    "print(narry[2:4])   #  <= x < (끝은 미만이라는 것을 기억해!)"
   ]
  },
  {
   "cell_type": "code",
   "execution_count": 20,
   "metadata": {
    "colab": {
     "base_uri": "https://localhost:8080/"
    },
    "id": "NnGnW88WkfSg",
    "outputId": "2d7c0f00-134d-48fc-abec-2f62e6648004"
   },
   "outputs": [
    {
     "name": "stdout",
     "output_type": "stream",
     "text": [
      "[1 2 3 4]\n",
      "['1' '2' 'a' 'b']\n"
     ]
    }
   ],
   "source": [
    "narr1 = np.array([1,2,3,4])   # int64\n",
    "narr2 = np.array([1,2,'a','b'])\n",
    "# narr3 = np.array([1,2,'a','b'],dtype='int') # 숫자가 있지만 문자가 들어가면 전부 문자처리 해벌임 !!\n",
    "print(narr1)\n",
    "print(narr2)\n",
    "# print(narr3)"
   ]
  },
  {
   "cell_type": "code",
   "execution_count": 21,
   "metadata": {
    "colab": {
     "base_uri": "https://localhost:8080/"
    },
    "id": "LsgyaeYml8wd",
    "outputId": "934c358b-62c9-4dc0-d811-c81c34f6c1c8"
   },
   "outputs": [
    {
     "name": "stdout",
     "output_type": "stream",
     "text": [
      "[1 2 3 4] int64\n",
      "['1' '2' 'a' 'b'] <U21\n",
      "['1' '2' '3' '4'] <U1\n"
     ]
    }
   ],
   "source": [
    "narr1 = np.array([1,2,3,4])\n",
    "narr2 = np.array([1,2,'a','b'])\n",
    "narr3 = np.array([1,2,3,4],dtype='str')\n",
    "print(narr1,narr1.dtype)\n",
    "print(narr2,narr2.dtype)\n",
    "print(narr3,narr3.dtype)"
   ]
  },
  {
   "cell_type": "code",
   "execution_count": 31,
   "metadata": {
    "colab": {
     "base_uri": "https://localhost:8080/"
    },
    "id": "RhYdtYr7qJL9",
    "outputId": "a30e11ce-99b9-4711-c68b-1f8bb369bbbb"
   },
   "outputs": [
    {
     "name": "stdout",
     "output_type": "stream",
     "text": [
      "[0. 0. 0. 0. 0. 0. 0. 0. 0. 0.]\n"
     ]
    }
   ],
   "source": [
    "narr4 = np.zeros(10)\n",
    "print(narr4)"
   ]
  },
  {
   "cell_type": "code",
   "execution_count": 29,
   "metadata": {
    "colab": {
     "base_uri": "https://localhost:8080/"
    },
    "id": "q2CaOlW_p2_N",
    "outputId": "780fcdb7-e853-4b00-c020-ba1e4ce02bfd"
   },
   "outputs": [
    {
     "name": "stdout",
     "output_type": "stream",
     "text": [
      "[0 0 0 0 0 0 0 0 0 0] <class 'numpy.ndarray'>\n"
     ]
    }
   ],
   "source": [
    "narr4 = np.zeros(10,dtype='int64')  # 0으로 채운다. 배열을 초기화할 때 !!\n",
    "print(narr4,type(narr4))  # .이 사라졌다!!"
   ]
  },
  {
   "cell_type": "code",
   "execution_count": 64,
   "metadata": {
    "colab": {
     "base_uri": "https://localhost:8080/"
    },
    "id": "1pB5nznNwqCs",
    "outputId": "e0e798bc-8a39-44a0-887d-74186a507af9"
   },
   "outputs": [
    {
     "name": "stdout",
     "output_type": "stream",
     "text": [
      "[['□' '□']\n",
      " ['□' '□']\n",
      " ['□' '□']\n",
      " ['□' '□']\n",
      " ['□' '□']\n",
      " ['□' '□']\n",
      " ['□' '□']\n",
      " ['□' '□']\n",
      " ['□' '□']\n",
      " ['□' '□']] 🌲🚶🌳🐈🌴\n"
     ]
    }
   ],
   "source": [
    "# cf)\n",
    "apt = np.full((10,2),'□')\n",
    "print(apt, '🌲🚶🌳🐈🌴')"
   ]
  },
  {
   "cell_type": "code",
   "execution_count": 105,
   "metadata": {
    "colab": {
     "base_uri": "https://localhost:8080/"
    },
    "id": "AqHC6yiqqXGw",
    "outputId": "11da2a10-b16a-46f3-cbe2-d09c4f40becb"
   },
   "outputs": [
    {
     "name": "stdout",
     "output_type": "stream",
     "text": [
      "narr4 :  [[0 0]\n",
      " [0 0]] 2 int64 (2, 2) 4 <class 'numpy.ndarray'> \n",
      "\n",
      "narr5 :  [[1. 1.]\n",
      " [1. 1.]] 2 float64 (2, 2) 4 <class 'numpy.ndarray'> \n",
      "\n",
      "narr6 :  [[3 3 3]\n",
      " [3 3 3]\n",
      " [3 3 3]] 2 int64 (3, 3) 9 <class 'numpy.ndarray'> \n",
      "\n",
      "narr7 :  [['number' 'number' 'number']\n",
      " ['number' 'number' 'number']\n",
      " ['number' 'number' 'number']] 2 <U6 (3, 3) 9 <class 'numpy.ndarray'> \n",
      "\n",
      "narr8 :  [[1. 0. 0.]\n",
      " [0. 1. 0.]\n",
      " [0. 0. 1.]] 2 float64 (3, 3) 9 <class 'numpy.ndarray'> \n",
      "\n",
      "narr9 :  [  0.  25.  50.  75. 100.] 1 float64 (5,) 5 <class 'numpy.ndarray'> \n",
      "\n",
      "narr9n :  [ 0 20 40 60 80] 1 int64 (5,) 5 <class 'numpy.ndarray'> \n",
      "\n",
      "narr10 :  [ 0 25 50 75] 1 int64 (4,) 4 <class 'numpy.ndarray'>\n"
     ]
    }
   ],
   "source": [
    "narr4 = np.zeros((2,2),dtype='int64')  # (2,2)를 넣어주면 모양을 넣어준 것과 같다!\n",
    "narr5 = np.ones((2,2))    # you still my No.1 ~ : float은 정확한 값을 주지는 못한다 . . . .\n",
    "narr6 = np.full((3,3),3)  # 배열 안을 3으로 덮어쓰겠다.\n",
    "narr7 = np.full((3,3),'number')\n",
    "narr8 = np.eye(3)\n",
    "narr9 = np.linspace(0,100,5)  # 0에서 \"100을 포함한 !!!\" 5개!!\n",
    "# cf)\n",
    "narr9n = np.linspace(0,100,5,endpoint=False,dtype='int64')\n",
    "narr10 = np.arange(0,100,25) # arange는 끝자리가 포함되지 않음 !!!!\n",
    "print(\"narr4 : \",narr4,narr4.ndim,narr4.dtype,narr4.shape,narr4.size,type(narr4),\"\\n\")  # 2 차 원 의 배 열\n",
    "print(\"narr5 : \",narr5,narr5.ndim,narr5.dtype,narr5.shape,narr5.size,type(narr5),\"\\n\")\n",
    "print(\"narr6 : \",narr6,narr6.ndim,narr6.dtype,narr6.shape,narr6.size,type(narr6),\"\\n\")\n",
    "print(\"narr7 : \",narr7,narr7.ndim,narr7.dtype,narr7.shape,narr7.size,type(narr7),\"\\n\") # little 기반 / bigindian 기반 . .(ft. 걸리버여행기)\n",
    "print(\"narr8 : \",narr8,narr8.ndim,narr8.dtype,narr8.shape,narr8.size,type(narr8),\"\\n\")\n",
    "print(\"narr9 : \",narr9,narr9.ndim,narr9.dtype,narr9.shape,narr9.size,type(narr9),\"\\n\")\n",
    "print(\"narr9n : \",narr9n,narr9n.ndim,narr9n.dtype,narr9n.shape,narr9n.size,type(narr9n),\"\\n\")\n",
    "print(\"narr10 : \",narr10,narr10.ndim,narr10.dtype,narr10.shape,narr10.size,type(narr10))"
   ]
  },
  {
   "cell_type": "markdown",
   "metadata": {
    "id": "7byaRnEEubFl"
   },
   "source": [
    "## 2차원 배열"
   ]
  },
  {
   "cell_type": "code",
   "execution_count": 51,
   "metadata": {
    "colab": {
     "base_uri": "https://localhost:8080/"
    },
    "id": "9d4LGjolvXK9",
    "outputId": "3446c149-a10c-4a64-96a1-4e52920d6c74"
   },
   "outputs": [
    {
     "name": "stdout",
     "output_type": "stream",
     "text": [
      "[2, 3, 4, 5, 6, 7, 8, 9]\n",
      "[2 3 4 5 6 7 8 9]\n"
     ]
    },
    {
     "data": {
      "text/plain": [
       "array([0, 1, 2, 3, 4, 5, 6, 7, 8, 9])"
      ]
     },
     "execution_count": 51,
     "metadata": {},
     "output_type": "execute_result"
    }
   ],
   "source": [
    "print(list(range(2,10)))\n",
    "print(np.arange(2,10))  # list로 감싸지 않아도 바로 생성됨!\n",
    "range(10)\n",
    "np.arange(10)"
   ]
  },
  {
   "cell_type": "code",
   "execution_count": 37,
   "metadata": {
    "colab": {
     "base_uri": "https://localhost:8080/"
    },
    "id": "1GzcPG65lZXw",
    "outputId": "baca214d-d66a-40b3-ebe7-4ff3e504cbea"
   },
   "outputs": [
    {
     "name": "stdout",
     "output_type": "stream",
     "text": [
      "[[0 0]\n",
      " [0 0]] 2 int64 (2, 2) 4 <class 'numpy.ndarray'>\n"
     ]
    }
   ],
   "source": [
    "arr1 = np.array([[0,0],[0,0]])\n",
    "print(arr1,arr1.ndim,arr1.dtype,arr1.shape,arr1.size, type(arr1))  # 배열 안의 배열 . . . 상자 속의 상자 ... 슈뢰딩거의 고양이 ..."
   ]
  },
  {
   "cell_type": "code",
   "execution_count": 74,
   "metadata": {
    "colab": {
     "base_uri": "https://localhost:8080/"
    },
    "id": "hi61zf9gpv-v",
    "outputId": "233cad30-e1ea-48b0-8b2d-499ac748ca28"
   },
   "outputs": [
    {
     "name": "stdout",
     "output_type": "stream",
     "text": [
      "차원: 2 데이터타입: int64 형태: (3, 3)  / 크기: 9 <class 'numpy.ndarray'> \n",
      " [[1 2 3]\n",
      " [4 5 6]\n",
      " [7 8 9]]\n",
      "차원: 2 데이터타입: int64 형태: (3, 3)  / 크기: 9 <class 'numpy.ndarray'> \n",
      " [[1 2 3]\n",
      " [4 5 6]\n",
      " [7 8 9]]\n",
      "차원: 2 데이터타입: int64 형태: (2, 5)  / 크기: 10 <class 'numpy.ndarray'> \n",
      " [[ 1  2  3  4  5]\n",
      " [ 6  7  8  9 10]]\n",
      "차원: 2 데이터타입: int64 형태: (5, 2)  / 크기: 10 <class 'numpy.ndarray'> \n",
      " [[ 1  2]\n",
      " [ 3  4]\n",
      " [ 5  6]\n",
      " [ 7  8]\n",
      " [ 9 10]]\n",
      "차원: 3 데이터타입: int64 형태: (3, 3, 3)  / 크기: 27 <class 'numpy.ndarray'> \n",
      " [[[ 1  2  3]\n",
      "  [ 4  5  6]\n",
      "  [ 7  8  9]]\n",
      "\n",
      " [[10 11 12]\n",
      "  [13 14 15]\n",
      "  [16 17 18]]\n",
      "\n",
      " [[19 20 21]\n",
      "  [22 23 24]\n",
      "  [25 26 27]]]\n"
     ]
    }
   ],
   "source": [
    "arr2 = np.array([1,2,3,4,5,6,7,8,9]).reshape(3,3)\n",
    "arr3 = np.arange(1,10).reshape(3,3)   # arr2와 구성은 똑같다 !\n",
    "arr4 = np.arange(1,11).reshape(2,5)\n",
    "arr5 = np.arange(1,11).reshape(5,2)\n",
    "arr6 = np.arange(1,28).reshape(3,3,3)\n",
    "print('차원:' ,arr2.ndim, '데이터타입:' ,arr2.dtype, '형태:' ,arr2.shape, ' / 크기:', arr2.size, type(arr2),'\\n',arr2)\n",
    "print('차원:' ,arr3.ndim, '데이터타입:' ,arr3.dtype, '형태:' ,arr3.shape, ' / 크기:', arr3.size, type(arr3),'\\n',arr3)\n",
    "print('차원:' ,arr4.ndim, '데이터타입:' ,arr4.dtype, '형태:' ,arr4.shape, ' / 크기:', arr4.size, type(arr4),'\\n',arr4)\n",
    "print('차원:' ,arr5.ndim, '데이터타입:' ,arr5.dtype, '형태:' ,arr5.shape, ' / 크기:', arr5.size, type(arr5),'\\n',arr5)\n",
    "print('차원:' ,arr6.ndim, '데이터타입:' ,arr6.dtype, '형태:' ,arr6.shape, ' / 크기:', arr6.size, type(arr6),'\\n',arr6)"
   ]
  },
  {
   "cell_type": "code",
   "execution_count": 99,
   "metadata": {
    "colab": {
     "base_uri": "https://localhost:8080/"
    },
    "id": "Lz_AvBy5vNru",
    "outputId": "07ca35c2-be16-431c-8596-36eaff5fc886"
   },
   "outputs": [
    {
     "name": "stdout",
     "output_type": "stream",
     "text": [
      "[[ 1  2  3  4  5  6  7]\n",
      " [ 8  9 10 11 12 13 14]\n",
      " [15 16 17 18 19 20 21]]\n",
      "=========================\n",
      "[[1]\n",
      " [2]\n",
      " [3]\n",
      " [4]\n",
      " [5]\n",
      " [6]\n",
      " [7]]\n",
      "=========================\n",
      "[[ 1  2]\n",
      " [ 3  4]\n",
      " [ 5  6]\n",
      " [ 7  8]\n",
      " [ 9 10]]\n",
      "=========================\n",
      "[[ 1  2  3  4  5  6  7]\n",
      " [ 8  9 10 11 12 13 14]\n",
      " [15 16 17 18 19 20 21]]\n",
      "=========================\n",
      "[[ 1]\n",
      " [ 2]\n",
      " [ 3]\n",
      " [ 0]\n",
      " [ 4]\n",
      " [ 5]\n",
      " [ 6]\n",
      " [ 0]\n",
      " [ 7]\n",
      " [ 8]\n",
      " [ 9]\n",
      " [ 0]\n",
      " [10]\n",
      " [11]\n",
      " [12]]\n",
      "=========================\n",
      "[[[ 1]\n",
      "  [ 2]\n",
      "  [ 3]]\n",
      "\n",
      " [[ 4]\n",
      "  [ 5]\n",
      "  [ 6]]\n",
      "\n",
      " [[ 7]\n",
      "  [ 8]\n",
      "  [ 9]]\n",
      "\n",
      " [[10]\n",
      "  [11]\n",
      "  [12]]]\n"
     ]
    }
   ],
   "source": [
    "# 간단한 테스트 !!\n",
    "test1 = np.arange(1,22).reshape(3,7)\n",
    "test2 = np.arange(1,8).reshape(7,1)\n",
    "test3 = np.arange(1,11).reshape(5,2)\n",
    "test4 = np.arange(1,22).reshape(3,7)\n",
    "test5 = np.array(([1],[2],[3],[0],[4],[5],[6],[0],[7],[8],[9],[0],[10],[11],[12]),dtype='int').reshape(15,1)\n",
    "test6= np.arange(1,13).reshape(4,3,1)  # test5 해설 !!!!!  : 전체 개수 3개가 4단위로 1개씩 !!!!\n",
    "print(test1,end='\\n=========================\\n')\n",
    "print(test2,end='\\n=========================\\n')\n",
    "print(test3,end='\\n=========================\\n')\n",
    "print(test4,end='\\n=========================\\n')\n",
    "print(test5,end='\\n=========================\\n')\n",
    "print(test6)  # arange를 3차원으로 표현한 것임 !!!!! 크아아아악"
   ]
  },
  {
   "cell_type": "code",
   "execution_count": 108,
   "metadata": {
    "colab": {
     "base_uri": "https://localhost:8080/"
    },
    "id": "y0bIAQ0s3N_M",
    "outputId": "e3951341-41cf-4b99-e59d-910b923ee7a0"
   },
   "outputs": [
    {
     "data": {
      "text/plain": [
       "array([10, 11, 12])"
      ]
     },
     "execution_count": 108,
     "metadata": {},
     "output_type": "execute_result"
    }
   ],
   "source": [
    "test1[1][2:5]   # 슬라이싱을 할 수 있다 !  : 필요한 값만 가져올 수 있다!"
   ]
  },
  {
   "cell_type": "code",
   "execution_count": 109,
   "metadata": {
    "colab": {
     "base_uri": "https://localhost:8080/"
    },
    "id": "pk51BDj9-zYL",
    "outputId": "36e1befc-3faa-4a60-fa66-75b5fe4da429"
   },
   "outputs": [
    {
     "data": {
      "text/plain": [
       "array([[ 1,  2,  3,  4,  5,  6,  7],\n",
       "       [ 8,  9, 10, 11, 12, 13, 14],\n",
       "       [15, 16, 17, 18, 19, 20, 21]])"
      ]
     },
     "execution_count": 109,
     "metadata": {},
     "output_type": "execute_result"
    }
   ],
   "source": [
    "test4"
   ]
  },
  {
   "cell_type": "code",
   "execution_count": 144,
   "metadata": {
    "colab": {
     "base_uri": "https://localhost:8080/"
    },
    "id": "hp2ExTG8_Pl7",
    "outputId": "bbd27335-4ba1-464c-fe08-8233d2307d81"
   },
   "outputs": [
    {
     "name": "stdout",
     "output_type": "stream",
     "text": [
      "[[ 4  5  6  7]\n",
      " [11 12 13 14]\n",
      " [18 19 20 21]]\n",
      "[[12 13]\n",
      " [19 20]]\n"
     ]
    }
   ],
   "source": [
    "print(test4[0:3,3:8])    # 슬라이싱 두 번 ~  : 처음 슬라이싱은 전체 배열에서 몇 행을 선택할 것인지, 두 번째 슬라이싱은 몇 열을 선택할 것인지!! )\n",
    "print(test4[1:3,4:6])"
   ]
  },
  {
   "cell_type": "code",
   "execution_count": 143,
   "metadata": {
    "colab": {
     "base_uri": "https://localhost:8080/"
    },
    "id": "IzepaeZ3EZ5a",
    "outputId": "cea548c6-3985-4e25-dc24-501427fddab6"
   },
   "outputs": [
    {
     "name": "stdout",
     "output_type": "stream",
     "text": [
      "[array([[False, False, False, False, False, False, False],\n",
      "       [False, False, False, False, False,  True,  True],\n",
      "       [ True,  True,  True,  True,  True,  True,  True]])]\n",
      "[array([[False,  True, False,  True, False,  True, False],\n",
      "       [ True, False,  True, False,  True, False,  True],\n",
      "       [False,  True, False,  True, False,  True, False]])]\n",
      "[13 14 15 16 17 18 19 20 21]\n",
      "[ 2  4  6  8 10 12 14 16 18 20]\n"
     ]
    }
   ],
   "source": [
    "print([test4>12])      # 조건이 맞을 때 True\n",
    "print([test4%2==0])\n",
    "print(test4[test4>12]) # 조건에 맞는 항을 출력하라\n",
    "print(test4[test4%2==0])"
   ]
  },
  {
   "cell_type": "code",
   "execution_count": 148,
   "metadata": {
    "colab": {
     "base_uri": "https://localhost:8080/"
    },
    "id": "rTMaC7xSGNiQ",
    "outputId": "413bcef5-7bf9-43c9-f847-3b05f68a1b8c"
   },
   "outputs": [
    {
     "name": "stdout",
     "output_type": "stream",
     "text": [
      "덧셈 :  [ 7  9 11 13 15]\n",
      "뺄셈 :  [5 5 5 5 5]\n",
      "곱셈 :  [ 6 14 24 36 50]\n",
      "나눗셈 :  [6.         3.5        2.66666667 2.25       2.        ]\n",
      "거듭제곱 :  [     6     49    512   6561 100000]\n"
     ]
    }
   ],
   "source": [
    "# np 배열 연산 // shape가 같을 경우 원소별 연산이 가능\n",
    "np1 = np.array([6,7,8,9,10])\n",
    "np2 = np.array([1,2,3,4,5])\n",
    "print(\"덧셈 : \", np1 + np2)\n",
    "print(\"뺄셈 : \", np1 - np2)\n",
    "print(\"곱셈 : \", np1 * np2)\n",
    "print(\"나눗셈 : \", np1 / np2)\n",
    "print(\"거듭제곱 : \", np1 ** np2)"
   ]
  },
  {
   "cell_type": "code",
   "execution_count": 146,
   "metadata": {
    "colab": {
     "base_uri": "https://localhost:8080/"
    },
    "id": "jDTjXUnEEujb",
    "outputId": "c15cd95d-0a65-4c4a-e73a-da7d101a39a0"
   },
   "outputs": [
    {
     "name": "stdout",
     "output_type": "stream",
     "text": [
      "덧셈 :  [ 7  9 11 13 15]\n",
      "뺄셈 :  [-5 -5 -5 -5 -5]\n",
      "곱셈 :  [ 6 14 24 36 50]\n",
      "나눗셈 :  [0.16666667 0.28571429 0.375      0.44444444 0.5       ]\n",
      "거듭제곱 :  [      1     128    6561  262144 9765625]\n"
     ]
    }
   ],
   "source": [
    "# np 배열 연산 참고\n",
    "np1 = np.array([1,2,3,4,5])\n",
    "np2 = np.array([6,7,8,9,10])\n",
    "print(\"덧셈 : \", np1 + np2)\n",
    "print(\"뺄셈 : \", np1 - np2)\n",
    "print(\"곱셈 : \", np1 * np2)\n",
    "print(\"나눗셈 : \", np1 / np2)\n",
    "print(\"거듭제곱 : \", np1 ** np2)"
   ]
  },
  {
   "cell_type": "code",
   "execution_count": 150,
   "metadata": {
    "colab": {
     "base_uri": "https://localhost:8080/"
    },
    "id": "TQByPAP8F_17",
    "outputId": "35c27334-622d-4da3-8cd6-8d07822da522"
   },
   "outputs": [
    {
     "name": "stdout",
     "output_type": "stream",
     "text": [
      "[16 17 18 19 20]\n"
     ]
    }
   ],
   "source": [
    "# 브로드캐스팅\n",
    "np3 = np1 + 10\n",
    "print(np3)"
   ]
  },
  {
   "cell_type": "code",
   "execution_count": 165,
   "metadata": {
    "colab": {
     "base_uri": "https://localhost:8080/"
    },
    "id": "EMjLzVFlG_G6",
    "outputId": "172f969d-0f67-446c-d6e3-dd671b087c8e"
   },
   "outputs": [
    {
     "name": "stdout",
     "output_type": "stream",
     "text": [
      "[[1 2 3]\n",
      " [4 5 6]\n",
      " [7 8 9]]\n",
      "[11 22 33]\n",
      "=+=+=+=+=+=+=+=스칼라와 연산=+=+=+=+=+=+=+=\n",
      "[[1 2 3]\n",
      " [4 5 6]\n",
      " [7 8 9]]\n",
      "[[ 4  5  6]\n",
      " [ 7  8  9]\n",
      " [10 11 12]]\n",
      "[[ 2  4  6]\n",
      " [ 8 10 12]\n",
      " [14 16 18]]\n",
      "=+=+=+=+=+=+=+=2D와 1D의 연산=+=+=+=+=+=+=+=\n",
      "[[12 24 36]\n",
      " [15 27 39]\n",
      " [18 30 42]]\n",
      "[[ 11  44  99]\n",
      " [ 44 110 198]\n",
      " [ 77 176 297]]\n"
     ]
    }
   ],
   "source": [
    "br1 = np.arange(1,10).reshape(3,3)\n",
    "br2 = np.array([11,22,33]) #.reshape(3,1)   주석처리했을 때와 안했을 때 어떤 점이 차이 나는지 잘 알아두자 !\n",
    "print(br1)\n",
    "print(br2)\n",
    "# 스칼라와 연산\n",
    "print(\"=+=+=+=+=+=+=+=스칼라와 연산=+=+=+=+=+=+=+=\")\n",
    "print(br1)\n",
    "print(br1+3)\n",
    "print(br1*2)\n",
    "# 2D 와 1D의 연산\n",
    "print(\"=+=+=+=+=+=+=+=2D와 1D의 연산=+=+=+=+=+=+=+=\")\n",
    "print(br1+br2)\n",
    "print(br1*br2)"
   ]
  },
  {
   "cell_type": "code",
   "execution_count": 169,
   "metadata": {
    "colab": {
     "base_uri": "https://localhost:8080/"
    },
    "id": "Cav_5c4-JN45",
    "outputId": "7ecd2230-819f-4a84-dcd6-06a67536ea67"
   },
   "outputs": [
    {
     "name": "stdout",
     "output_type": "stream",
     "text": [
      "[[1 2 3]\n",
      " [4 5 6]\n",
      " [7 8 9]]\n",
      "[1 2 3 4 5 6 7 8 9]\n",
      "[1 2 3 4 5 6 7 8 9]\n"
     ]
    }
   ],
   "source": [
    "# flatten 처리\n",
    "ff = np.arange(1,10).reshape(3,3)\n",
    "print(ff)\n",
    "print(ff.reshape(9))   # 굳이 1, 9 할 필요 없음~\n",
    "print(ff.flatten())   # 일자로 쫙 펴줌!!"
   ]
  },
  {
   "cell_type": "markdown",
   "metadata": {},
   "source": [
    "## Random number 발생"
   ]
  },
  {
   "cell_type": "markdown",
   "metadata": {},
   "source": [
    "- np.random.randint() : 균일 분포의 정수 난수\n",
    "- np.random.rand(): 0부터 1 사이의 균일 분포 난수 생성\n",
    "- np.random.randn(): 표준 정규 분포 난수 생성\n",
    "- np.random.normal(): 정규 분포 난수 생성"
   ]
  },
  {
   "cell_type": "code",
   "execution_count": 5,
   "metadata": {},
   "outputs": [
    {
     "data": {
      "text/plain": [
       "array([[71,  6, 45, 74, 45],\n",
       "       [19,  9, 22, 99, 35],\n",
       "       [41, 11, 33, 87,  8],\n",
       "       [84, 65, 66, 27, 84],\n",
       "       [82, 23, 78, 49, 67],\n",
       "       [75, 86, 91, 20, 83],\n",
       "       [ 3, 51, 89, 62, 33],\n",
       "       [53, 49, 82, 46, 49],\n",
       "       [17, 35, 84, 29, 99],\n",
       "       [ 2, 42, 42, 14, 97]], dtype=int32)"
      ]
     },
     "execution_count": 5,
     "metadata": {},
     "output_type": "execute_result"
    }
   ],
   "source": [
    "# randomint\n",
    "import numpy as np\n",
    "x = np.random.randint(1,100,size=(10,5))\n",
    "x"
   ]
  },
  {
   "cell_type": "code",
   "execution_count": 13,
   "metadata": {},
   "outputs": [
    {
     "data": {
      "text/plain": [
       "array([[[ 93, 112, 113],\n",
       "        [252,  66,  72],\n",
       "        [  9,  92, 181]],\n",
       "\n",
       "       [[ 60,  67, 190],\n",
       "        [247, 187, 254],\n",
       "        [153, 213,  93]],\n",
       "\n",
       "       [[117,  89, 202],\n",
       "        [113,  33, 180],\n",
       "        [  9, 238, 104]]], dtype=int32)"
      ]
     },
     "execution_count": 13,
     "metadata": {},
     "output_type": "execute_result"
    }
   ],
   "source": [
    "x = np.random.randint(0,255,size=(3,3,3))\n",
    "x"
   ]
  },
  {
   "cell_type": "code",
   "execution_count": 16,
   "metadata": {},
   "outputs": [
    {
     "name": "stdout",
     "output_type": "stream",
     "text": [
      "평균값 :  131.07407407407408 \n",
      "표준편차 :  72.71554213912667 \n",
      "최소값 :  9 \n",
      "최대값 :  254\n"
     ]
    }
   ],
   "source": [
    "print('평균값 : ',np.mean(x),'\\n' '표준편차 : ',np.std(x), '\\n' '최소값 : ',x.min(), '\\n' '최대값 : ',x.max())"
   ]
  },
  {
   "cell_type": "code",
   "execution_count": 19,
   "metadata": {},
   "outputs": [
    {
     "name": "stdout",
     "output_type": "stream",
     "text": [
      "27\n"
     ]
    }
   ],
   "source": [
    "print(len(x.flatten()))   # 기억하기~ flatten은 쭉 펴는 거야 !"
   ]
  },
  {
   "cell_type": "code",
   "execution_count": 26,
   "metadata": {},
   "outputs": [
    {
     "name": "stdout",
     "output_type": "stream",
     "text": [
      "27\n",
      "27\n"
     ]
    }
   ],
   "source": [
    "y = np.array([0,1,2,3,4,23,56,78,123,89,435,35,23,6,8,9,59,20,78,45,21,9,8,5,4,2,1]).reshape(3,3,3)\n",
    "print(len(y.flatten()))\n",
    "print(np.count_nonzero(x))"
   ]
  },
  {
   "cell_type": "code",
   "execution_count": null,
   "metadata": {},
   "outputs": [],
   "source": [
    "# p88 random number 발생 !!"
   ]
  },
  {
   "cell_type": "code",
   "execution_count": 13,
   "metadata": {},
   "outputs": [
    {
     "data": {
      "text/plain": [
       "array([[3, 1, 3, 2, 2],\n",
       "       [3, 2, 3, 3, 4],\n",
       "       [1, 4, 4, 1, 3],\n",
       "       [3, 3, 3, 3, 4],\n",
       "       [3, 2, 1, 2, 4],\n",
       "       [2, 3, 2, 2, 3],\n",
       "       [2, 4, 1, 2, 3],\n",
       "       [2, 3, 3, 4, 3],\n",
       "       [4, 4, 3, 2, 2],\n",
       "       [3, 4, 2, 3, 3]], dtype=int32)"
      ]
     },
     "execution_count": 13,
     "metadata": {},
     "output_type": "execute_result"
    }
   ],
   "source": [
    "size=(10,5)\n",
    "x = np.random.randint(1,5,size=size)  # 5는 포함되지 않았다!\n",
    "x"
   ]
  },
  {
   "cell_type": "code",
   "execution_count": 10,
   "metadata": {},
   "outputs": [
    {
     "data": {
      "text/plain": [
       "array([[0.97284877, 0.39166695, 0.9044524 , 0.26244709, 0.40727637],\n",
       "       [0.14131516, 0.90312825, 0.37225506, 0.88513995, 0.98342891],\n",
       "       [0.27293398, 0.21887321, 0.96876073, 0.82875423, 0.69380651],\n",
       "       [0.03628662, 0.39956   , 0.59064598, 0.97399987, 0.47847836],\n",
       "       [0.56970588, 0.06894969, 0.31178189, 0.79738348, 0.43768332],\n",
       "       [0.43075754, 0.57020953, 0.58124917, 0.44032735, 0.69852405],\n",
       "       [0.30667428, 0.40754132, 0.23284713, 0.5956222 , 0.93503386],\n",
       "       [0.9758611 , 0.62885183, 0.62645655, 0.61911335, 0.09749294],\n",
       "       [0.84805942, 0.07364064, 0.29943364, 0.23717049, 0.77352702],\n",
       "       [0.17334416, 0.7111591 , 0.87783796, 0.77523021, 0.65957771]])"
      ]
     },
     "execution_count": 10,
     "metadata": {},
     "output_type": "execute_result"
    }
   ],
   "source": [
    "x = np.random.rand(10,5)\n",
    "x"
   ]
  },
  {
   "cell_type": "code",
   "execution_count": 15,
   "metadata": {},
   "outputs": [
    {
     "name": "stdout",
     "output_type": "stream",
     "text": [
      "[[ 4.21444666  7.00754867  4.54249379  1.80488637  2.40286677]\n",
      " [ 7.07635936  7.34237806  9.47196009  8.19022738  9.24909742]\n",
      " [ 9.00509535  4.26465374  2.56113702  1.80836725  5.28834004]\n",
      " [ 8.31529205  3.02273933  6.79987725  3.33392949  2.34849142]\n",
      " [ 6.89916499  7.06354105  0.93466233  4.36331387 11.66056352]\n",
      " [ 7.52093736  6.20182267  4.21135709  7.2468422   2.84912807]\n",
      " [ 7.44889705  3.68795652  8.77747233  7.59275073  5.79269671]\n",
      " [10.8147729   7.38349355 -0.43020653  7.28363482  5.1078737 ]\n",
      " [ 3.8227835   1.39091944  8.44872429 -1.17690589 10.97356266]\n",
      " [ 7.63210488  8.92715471  4.96152044  7.12581189  4.14487633]]\n",
      "5.73422829410109 2.939989624991388 -1.1769058850143237 11.660563520503299\n"
     ]
    }
   ],
   "source": [
    "x= np.random.normal(5,3,(10,5)) # 평균이 5, 표준 편차가 3\n",
    "print(x)\n",
    "print(np.mean(x),np.std(x),x.min(),x.max())"
   ]
  },
  {
   "cell_type": "code",
   "execution_count": 16,
   "metadata": {},
   "outputs": [
    {
     "name": "stdout",
     "output_type": "stream",
     "text": [
      "[[-1.33163398  1.02077368  0.80401092 -0.14713027 -0.07492898]\n",
      " [-1.96519887  1.73468941 -0.31480552  1.6051868  -0.57728823]\n",
      " [-0.22806984 -0.10115311 -0.44474925 -0.24030624  0.17992218]\n",
      " [-1.66748184  0.07111862  0.93208981  0.2990113   0.78431127]\n",
      " [-0.27015557 -0.39032569  0.01986032  2.3093957   0.73114699]\n",
      " [ 0.11200426 -0.42052598  0.15041762  0.54784626  1.14299366]\n",
      " [-1.23317605 -0.78775745  0.26472131  0.44362914 -0.51353115]\n",
      " [ 0.01521979  0.06386022  0.53931336  0.03622537 -0.28419454]\n",
      " [ 0.50290749  0.09861133  1.4329972   0.86052274  0.70094188]\n",
      " [-2.20479608 -1.21919911 -0.48387405  2.17588979  0.97444995]] <function mean at 0x000001EAB7397060> 0.9403600535020732 -2.20479607936304 2.30939569787574\n"
     ]
    }
   ],
   "source": [
    "x = np.random.randn(10,5)\n",
    "print(x, np.mean, np.std(x), x.min(), x.max())"
   ]
  },
  {
   "cell_type": "code",
   "execution_count": 19,
   "metadata": {},
   "outputs": [
    {
     "name": "stdout",
     "output_type": "stream",
     "text": [
      "x의 개수 17\n",
      "x의 개수 13\n",
      "0의 개수 4\n"
     ]
    }
   ],
   "source": [
    "x = np.array([3,1,0,61,62,0,34,23,8,7,12,52,0,78,89,0,13])\n",
    "print('x의 개수', len(x))\n",
    "print('x의 개수',np.count_nonzero(x))\n",
    "print('0의 개수',len(x) -np.count_nonzero(x))"
   ]
  },
  {
   "cell_type": "code",
   "execution_count": 22,
   "metadata": {},
   "outputs": [
    {
     "name": "stdout",
     "output_type": "stream",
     "text": [
      "26.058823529411764\n",
      "26.058823529411764\n",
      "873.584775086505\n",
      "873.584775086505\n",
      "29.55646756780155\n",
      "29.55646756780155\n",
      "89\n",
      "0\n",
      "12.0\n"
     ]
    }
   ],
   "source": [
    "print(np.mean(x))\n",
    "print(x.mean())\n",
    "print(np.var(x))\n",
    "print(x.var())\n",
    "print(np.std(x))\n",
    "print(x.std())\n",
    "print(x.max())\n",
    "print(x.min())\n",
    "print(np.median(x))"
   ]
  },
  {
   "cell_type": "code",
   "execution_count": 23,
   "metadata": {},
   "outputs": [
    {
     "name": "stdout",
     "output_type": "stream",
     "text": [
      "0.0\n",
      "1.0\n",
      "12.0\n",
      "52.0\n",
      "89.0\n"
     ]
    }
   ],
   "source": [
    "print(np.percentile(x,0))    # 최소값\n",
    "print(np.percentile(x,25))   # 제1사분위수\n",
    "print(np.percentile(x,50))   # 중앙값, 제 2사분위수\n",
    "print(np.percentile(x,75))   # 제3사분위수\n",
    "print(np.percentile(x,100))  # 최대값"
   ]
  },
  {
   "cell_type": "code",
   "execution_count": 1,
   "metadata": {},
   "outputs": [],
   "source": [
    "# 20250226 18번째 수업 !!!!! 허거덩 눈이 희번뜩 떠지긴 하는데 아직 복습은 제대로 안한 .....(..)"
   ]
  },
  {
   "cell_type": "markdown",
   "metadata": {},
   "source": [
    "# 판다스(pandas) 🐼🐾"
   ]
  },
  {
   "cell_type": "markdown",
   "metadata": {},
   "source": [
    "- 시리즈(series)\n",
    "- 데이터프레임(dataframe)"
   ]
  },
  {
   "cell_type": "code",
   "execution_count": 3,
   "metadata": {},
   "outputs": [],
   "source": [
    "# !pip install pandas"
   ]
  },
  {
   "cell_type": "code",
   "execution_count": 6,
   "metadata": {},
   "outputs": [],
   "source": [
    "import numpy as np\n",
    "import pandas as pd  # 판다~ 산다~ (..)"
   ]
  },
  {
   "cell_type": "code",
   "execution_count": 18,
   "metadata": {},
   "outputs": [
    {
     "name": "stdout",
     "output_type": "stream",
     "text": [
      "[ 1  2  3  4  5  6  7  8  9 10]\n",
      "0     1\n",
      "1     2\n",
      "2     3\n",
      "3     4\n",
      "4     5\n",
      "5     6\n",
      "6     7\n",
      "7     8\n",
      "8     9\n",
      "9    10\n",
      "dtype: int64 <class 'pandas.core.series.Series'> RangeIndex(start=0, stop=10, step=1) \n",
      " [ 1  2  3  4  5  6  7  8  9 10] int64\n"
     ]
    }
   ],
   "source": [
    "# 판다스 기초\n",
    "data1 = np.arange(1,11)\n",
    "print(data1)\n",
    "data2 = pd.Series(data1)   # 데이터의 레이블을 생성해 줌!! cf) 인덱스\n",
    "print(data2, type(data2), data2.index,'\\n', data2.values, data2.dtype)"
   ]
  },
  {
   "cell_type": "code",
   "execution_count": null,
   "metadata": {},
   "outputs": [],
   "source": [
    "dir(data2)  # plot, loc, ndim, to_ecel, to_json, to_numpy, to_csv, pickle, index... iloc."
   ]
  },
  {
   "cell_type": "code",
   "execution_count": 26,
   "metadata": {},
   "outputs": [
    {
     "name": "stdout",
     "output_type": "stream",
     "text": [
      "0    1\n",
      "1    2\n",
      "2    3\n",
      "3    4\n",
      "4    5\n",
      "5    6\n",
      "6    7\n",
      "dtype: int64\n"
     ]
    }
   ],
   "source": [
    "# 판다스 시리즈의 데이터 타입 1\n",
    "data3 = pd.Series([1,2,3,4,5,6,7])\n",
    "print(data3)"
   ]
  },
  {
   "cell_type": "code",
   "execution_count": 24,
   "metadata": {},
   "outputs": [
    {
     "name": "stdout",
     "output_type": "stream",
     "text": [
      "0    1.0\n",
      "1    2.0\n",
      "2    3.0\n",
      "3    4.0\n",
      "4    5.0\n",
      "5    6.0\n",
      "6    7.0\n",
      "dtype: float64\n"
     ]
    }
   ],
   "source": [
    "# 판다스 시리즈의 데이터 타입 2\n",
    "data3 = pd.Series([1,2,3,4,5,6,7], dtype='float')\n",
    "print(data3)"
   ]
  },
  {
   "cell_type": "code",
   "execution_count": 25,
   "metadata": {},
   "outputs": [
    {
     "name": "stdout",
     "output_type": "stream",
     "text": [
      "0    1.00\n",
      "1    2.00\n",
      "2    3.14\n",
      "3    4.00\n",
      "4    5.00\n",
      "5    6.00\n",
      "6    7.00\n",
      "dtype: float64\n"
     ]
    }
   ],
   "source": [
    "# 판다스 시리즈의 데이터 타입 3\n",
    "data3 = pd.Series([1,2,3.14,4,5,6,7])#, dtype='float')\n",
    "print(data3)  # 하나의 데이터 값을 기준으로 나머지 값을 맞춤 !!"
   ]
  },
  {
   "cell_type": "code",
   "execution_count": 26,
   "metadata": {},
   "outputs": [
    {
     "name": "stdout",
     "output_type": "stream",
     "text": [
      "0    1\n",
      "1    2\n",
      "2    3\n",
      "3    4\n",
      "4    5\n",
      "5    6\n",
      "6    7\n",
      "dtype: int64\n"
     ]
    }
   ],
   "source": [
    "# 판다스 시리즈의 인덱스설정\n",
    "data3 = pd.Series([1,2,3,4], index=['a','b','c','d'])\n",
    "print(data3)"
   ]
  },
  {
   "cell_type": "code",
   "execution_count": 41,
   "metadata": {},
   "outputs": [
    {
     "name": "stdout",
     "output_type": "stream",
     "text": [
      "dict_keys(['korea', 'japan', 'china', 'usa'])\n",
      "dict_values([5182, 12622, 141178, 32976])\n",
      "dict_items([('korea', 5182), ('japan', 12622), ('china', 141178), ('usa', 32976)]) \n",
      "============\n",
      "\n",
      "korea      5182\n",
      "japan     12622\n",
      "china    141178\n",
      "usa       32976\n",
      "dtype: int64 Index(['korea', 'japan', 'china', 'usa'], dtype='object') [  5182  12622 141178  32976]\n",
      "1 (4,) 4\n"
     ]
    }
   ],
   "source": [
    "# 판다스 시리즈 딕셔너리 데이터\n",
    "population_dic ={\n",
    "    'korea':5182,\n",
    "    'japan':12622,\n",
    "    'china':141178,\n",
    "    'usa':32976\n",
    "}   # 데이터를 정리하면 컴퓨터의 계산이 빨라진다!!\n",
    "print(population_dic.keys())     # dic에서 쓸 수 있는 함수 기억해둘 것 !!\n",
    "print(population_dic.values())\n",
    "print(population_dic.items(),'\\n============\\n')  # ; .(함수) 뒤에 괄호가 있는 것은 기능을 담고 있음 !!\n",
    "country = pd.Series(population_dic)\n",
    "print(country, country.index, country.values)  # ;.(함수) 뒤에 괄호가 없는 것은 속성을 알려줌 !!\n",
    "print(country.ndim, country.shape, country.size)\n"
   ]
  },
  {
   "cell_type": "code",
   "execution_count": null,
   "metadata": {},
   "outputs": [],
   "source": [
    "print(country[2])"
   ]
  },
  {
   "attachments": {
    "d76b08bd-587c-4af5-b02a-0e0fbddebd64.png": {
     "image/png": "[encoded data removed]"
    }
   },
   "cell_type": "markdown",
   "metadata": {},
   "source": [
    "<img src ='attachment:d76b08bd-587c-4af5-b02a-0e0fbddebd64.png' width=800>"
   ]
  },
  {
   "cell_type": "code",
   "execution_count": 35,
   "metadata": {},
   "outputs": [
    {
     "name": "stdout",
     "output_type": "stream",
     "text": [
      "12622\n"
     ]
    }
   ],
   "source": [
    "print(country['japan'])"
   ]
  },
  {
   "cell_type": "code",
   "execution_count": 39,
   "metadata": {},
   "outputs": [
    {
     "name": "stdout",
     "output_type": "stream",
     "text": [
      "32976\n",
      "32976\n"
     ]
    }
   ],
   "source": [
    "# 시리즈 원소에 접근하는 방법\n",
    "print(country.loc['usa']) # location의 loc\n",
    "print(country.iloc[3])"
   ]
  },
  {
   "cell_type": "code",
   "execution_count": 44,
   "metadata": {},
   "outputs": [
    {
     "data": {
      "text/html": [
       "<div>\n",
       "<style scoped>\n",
       "    .dataframe tbody tr th:only-of-type {\n",
       "        vertical-align: middle;\n",
       "    }\n",
       "\n",
       "    .dataframe tbody tr th {\n",
       "        vertical-align: top;\n",
       "    }\n",
       "\n",
       "    .dataframe thead th {\n",
       "        text-align: right;\n",
       "    }\n",
       "</style>\n",
       "<table border=\"1\" class=\"dataframe\">\n",
       "  <thead>\n",
       "    <tr style=\"text-align: right;\">\n",
       "      <th></th>\n",
       "      <th>A</th>\n",
       "      <th>B</th>\n",
       "      <th>C</th>\n",
       "    </tr>\n",
       "  </thead>\n",
       "  <tbody>\n",
       "    <tr>\n",
       "      <th>a</th>\n",
       "      <td>1</td>\n",
       "      <td>2</td>\n",
       "      <td>3</td>\n",
       "    </tr>\n",
       "    <tr>\n",
       "      <th>b</th>\n",
       "      <td>4</td>\n",
       "      <td>5</td>\n",
       "      <td>6</td>\n",
       "    </tr>\n",
       "    <tr>\n",
       "      <th>c</th>\n",
       "      <td>7</td>\n",
       "      <td>8</td>\n",
       "      <td>9</td>\n",
       "    </tr>\n",
       "  </tbody>\n",
       "</table>\n",
       "</div>"
      ],
      "text/plain": [
       "   A  B  C\n",
       "a  1  2  3\n",
       "b  4  5  6\n",
       "c  7  8  9"
      ]
     },
     "execution_count": 44,
     "metadata": {},
     "output_type": "execute_result"
    }
   ],
   "source": [
    "# 판다스 데이터 프레임 ; 관례로 df를 많이 씀 !!\n",
    "df = pd.DataFrame([[1,2,3],[4,5,6],[7,8,9]],index=['a','b','c'],columns=['A','B','C'])\n",
    "#       ㄴ단어의 앞글자가 대문자이다 !!    ㄴnumpy로 (3,3)\n",
    "df"
   ]
  },
  {
   "cell_type": "code",
   "execution_count": null,
   "metadata": {},
   "outputs": [],
   "source": [
    "# 원하는 단어 드래그 후 Ctrl + Shift + D : 드래그한 특정 단어만 선택 가능 !!!"
   ]
  },
  {
   "cell_type": "code",
   "execution_count": 4,
   "metadata": {},
   "outputs": [
    {
     "name": "stdout",
     "output_type": "stream",
     "text": [
      "인구 수 시리즈 데이터 : \n",
      "korea      5182\n",
      "japan     12622\n",
      "china    141178\n",
      "usa       32976\n",
      "dtype: int64\n",
      "GDP 시리즈 데이터 : \n",
      "korea     169320000\n",
      "japan     516700000\n",
      "china     140925000\n",
      "usa      2041280000\n",
      "dtype: int64\n",
      "=========================\n",
      "데이터 프레임 생성 : \n",
      "Index(['korea', 'japan', 'china', 'usa'], dtype='object', name='Country') Index(['population', 'gdp'], dtype='object', name='Info')\n",
      "[[      5182  169320000]\n",
      " [     12622  516700000]\n",
      " [    141178  140925000]\n",
      " [     32976 2041280000]] (4, 2) 8 2\n"
     ]
    }
   ],
   "source": [
    "# 테스트\n",
    "import numpy as np\n",
    "import pandas as pd\n",
    "\n",
    "# 두 개의 시리즈 데이터\n",
    "print(\"인구 수 시리즈 데이터 : \")\n",
    "population_dict = {\n",
    "    'korea':5182,\n",
    "    'japan':12622,\n",
    "    'china':141178,\n",
    "    'usa':32976\n",
    "}\n",
    "population = pd.Series(population_dict)\n",
    "print(population)\n",
    "print(\"GDP 시리즈 데이터 : \")\n",
    "GDP_dict = {\n",
    "    'korea':169320000,\n",
    "    'japan':516700000,\n",
    "    'china':140925000,\n",
    "    'usa':2041280000\n",
    "}\n",
    "GDP = pd.Series(GDP_dict)\n",
    "print(GDP)\n",
    "print('='*25)\n",
    "print(\"데이터 프레임 생성 : \")\n",
    "country = pd.DataFrame({'population': population,'gdp':GDP})\n",
    "country.index.name = \"Country\"  # 인덱스 이름을 지정\n",
    "country.columns.name = \"Info\"   # 컬럼 이름을 지정\n",
    "print(country.index, country.columns)\n",
    "print(country.values, country.shape, country.size, country.ndim)"
   ]
  },
  {
   "cell_type": "code",
   "execution_count": 5,
   "metadata": {},
   "outputs": [
    {
     "data": {
      "text/html": [
       "<div>\n",
       "<style scoped>\n",
       "    .dataframe tbody tr th:only-of-type {\n",
       "        vertical-align: middle;\n",
       "    }\n",
       "\n",
       "    .dataframe tbody tr th {\n",
       "        vertical-align: top;\n",
       "    }\n",
       "\n",
       "    .dataframe thead th {\n",
       "        text-align: right;\n",
       "    }\n",
       "</style>\n",
       "<table border=\"1\" class=\"dataframe\">\n",
       "  <thead>\n",
       "    <tr style=\"text-align: right;\">\n",
       "      <th>Info</th>\n",
       "      <th>population</th>\n",
       "      <th>gdp</th>\n",
       "    </tr>\n",
       "    <tr>\n",
       "      <th>Country</th>\n",
       "      <th></th>\n",
       "      <th></th>\n",
       "    </tr>\n",
       "  </thead>\n",
       "  <tbody>\n",
       "    <tr>\n",
       "      <th>korea</th>\n",
       "      <td>5182</td>\n",
       "      <td>169320000</td>\n",
       "    </tr>\n",
       "    <tr>\n",
       "      <th>japan</th>\n",
       "      <td>12622</td>\n",
       "      <td>516700000</td>\n",
       "    </tr>\n",
       "    <tr>\n",
       "      <th>china</th>\n",
       "      <td>141178</td>\n",
       "      <td>140925000</td>\n",
       "    </tr>\n",
       "    <tr>\n",
       "      <th>usa</th>\n",
       "      <td>32976</td>\n",
       "      <td>2041280000</td>\n",
       "    </tr>\n",
       "  </tbody>\n",
       "</table>\n",
       "</div>"
      ],
      "text/plain": [
       "Info     population         gdp\n",
       "Country                        \n",
       "korea          5182   169320000\n",
       "japan         12622   516700000\n",
       "china        141178   140925000\n",
       "usa           32976  2041280000"
      ]
     },
     "execution_count": 5,
     "metadata": {},
     "output_type": "execute_result"
    }
   ],
   "source": [
    "country   # 차곡차곡 column을 쌓았다~ 음 ~ 귀여워~ 🥪 샌드위치 같아~"
   ]
  },
  {
   "cell_type": "code",
   "execution_count": null,
   "metadata": {},
   "outputs": [],
   "source": [
    "country['korea']"
   ]
  },
  {
   "attachments": {
    "05934064-8c87-471c-87f7-620c3dbbcbef.png": {
     "image/png": "[encoded data removed]"
    }
   },
   "cell_type": "markdown",
   "metadata": {},
   "source": [
    "![image.png](attachment:05934064-8c87-471c-87f7-620c3dbbcbef.png)"
   ]
  },
  {
   "cell_type": "code",
   "execution_count": 69,
   "metadata": {},
   "outputs": [
    {
     "data": {
      "text/plain": [
       "(Info\n",
       " population       141178\n",
       " gdp           140925000\n",
       " Name: china, dtype: int64,\n",
       " Info\n",
       " population        12622\n",
       " gdp           516700000\n",
       " Name: japan, dtype: int64)"
      ]
     },
     "execution_count": 69,
     "metadata": {},
     "output_type": "execute_result"
    }
   ],
   "source": [
    "# 데이터 프레임의 요소 접근 방법, loc, iloc\n",
    "country.loc['korea'],country.loc['usa']   # loc는 key값을 기반으로"
   ]
  },
  {
   "cell_type": "code",
   "execution_count": 71,
   "metadata": {},
   "outputs": [
    {
     "data": {
      "text/plain": [
       "(Info\n",
       " population       141178\n",
       " gdp           140925000\n",
       " Name: china, dtype: int64,\n",
       " Info\n",
       " population        12622\n",
       " gdp           516700000\n",
       " Name: japan, dtype: int64)"
      ]
     },
     "execution_count": 71,
     "metadata": {},
     "output_type": "execute_result"
    }
   ],
   "source": [
    "country.iloc[2],country.iloc[1] # iloc는 인덱스를 기반으로 "
   ]
  },
  {
   "cell_type": "code",
   "execution_count": 75,
   "metadata": {},
   "outputs": [
    {
     "data": {
      "text/html": [
       "<div>\n",
       "<style scoped>\n",
       "    .dataframe tbody tr th:only-of-type {\n",
       "        vertical-align: middle;\n",
       "    }\n",
       "\n",
       "    .dataframe tbody tr th {\n",
       "        vertical-align: top;\n",
       "    }\n",
       "\n",
       "    .dataframe thead th {\n",
       "        text-align: right;\n",
       "    }\n",
       "</style>\n",
       "<table border=\"1\" class=\"dataframe\">\n",
       "  <thead>\n",
       "    <tr style=\"text-align: right;\">\n",
       "      <th>Info</th>\n",
       "      <th>population</th>\n",
       "      <th>gdp</th>\n",
       "    </tr>\n",
       "    <tr>\n",
       "      <th>Country</th>\n",
       "      <th></th>\n",
       "      <th></th>\n",
       "    </tr>\n",
       "  </thead>\n",
       "  <tbody>\n",
       "    <tr>\n",
       "      <th>korea</th>\n",
       "      <td>5182</td>\n",
       "      <td>169320000</td>\n",
       "    </tr>\n",
       "    <tr>\n",
       "      <th>japan</th>\n",
       "      <td>12622</td>\n",
       "      <td>516700000</td>\n",
       "    </tr>\n",
       "    <tr>\n",
       "      <th>china</th>\n",
       "      <td>141178</td>\n",
       "      <td>140925000</td>\n",
       "    </tr>\n",
       "  </tbody>\n",
       "</table>\n",
       "</div>"
      ],
      "text/plain": [
       "Info     population        gdp\n",
       "Country                       \n",
       "korea          5182  169320000\n",
       "japan         12622  516700000\n",
       "china        141178  140925000"
      ]
     },
     "execution_count": 75,
     "metadata": {},
     "output_type": "execute_result"
    }
   ],
   "source": [
    "country.loc['korea':'china']   # <= x <= key로 집으면 끝자리까지 나옴 !!!! 데이터 범위 설정 조심할 것 !!"
   ]
  },
  {
   "cell_type": "code",
   "execution_count": 78,
   "metadata": {},
   "outputs": [
    {
     "data": {
      "text/html": [
       "<div>\n",
       "<style scoped>\n",
       "    .dataframe tbody tr th:only-of-type {\n",
       "        vertical-align: middle;\n",
       "    }\n",
       "\n",
       "    .dataframe tbody tr th {\n",
       "        vertical-align: top;\n",
       "    }\n",
       "\n",
       "    .dataframe thead th {\n",
       "        text-align: right;\n",
       "    }\n",
       "</style>\n",
       "<table border=\"1\" class=\"dataframe\">\n",
       "  <thead>\n",
       "    <tr style=\"text-align: right;\">\n",
       "      <th>Info</th>\n",
       "      <th>population</th>\n",
       "    </tr>\n",
       "    <tr>\n",
       "      <th>Country</th>\n",
       "      <th></th>\n",
       "    </tr>\n",
       "  </thead>\n",
       "  <tbody>\n",
       "    <tr>\n",
       "      <th>korea</th>\n",
       "      <td>5182</td>\n",
       "    </tr>\n",
       "    <tr>\n",
       "      <th>japan</th>\n",
       "      <td>12622</td>\n",
       "    </tr>\n",
       "  </tbody>\n",
       "</table>\n",
       "</div>"
      ],
      "text/plain": [
       "Info     population\n",
       "Country            \n",
       "korea          5182\n",
       "japan         12622"
      ]
     },
     "execution_count": 78,
     "metadata": {},
     "output_type": "execute_result"
    }
   ],
   "source": [
    "country.loc['korea':'japan',:'population']  # :을 넣으면 좀 더 정갈하게 나옴 ~"
   ]
  },
  {
   "cell_type": "code",
   "execution_count": 83,
   "metadata": {},
   "outputs": [
    {
     "data": {
      "text/html": [
       "<div>\n",
       "<style scoped>\n",
       "    .dataframe tbody tr th:only-of-type {\n",
       "        vertical-align: middle;\n",
       "    }\n",
       "\n",
       "    .dataframe tbody tr th {\n",
       "        vertical-align: top;\n",
       "    }\n",
       "\n",
       "    .dataframe thead th {\n",
       "        text-align: right;\n",
       "    }\n",
       "</style>\n",
       "<table border=\"1\" class=\"dataframe\">\n",
       "  <thead>\n",
       "    <tr style=\"text-align: right;\">\n",
       "      <th>Info</th>\n",
       "      <th>population</th>\n",
       "    </tr>\n",
       "    <tr>\n",
       "      <th>Country</th>\n",
       "      <th></th>\n",
       "    </tr>\n",
       "  </thead>\n",
       "  <tbody>\n",
       "    <tr>\n",
       "      <th>korea</th>\n",
       "      <td>5182</td>\n",
       "    </tr>\n",
       "    <tr>\n",
       "      <th>japan</th>\n",
       "      <td>12622</td>\n",
       "    </tr>\n",
       "  </tbody>\n",
       "</table>\n",
       "</div>"
      ],
      "text/plain": [
       "Info     population\n",
       "Country            \n",
       "korea          5182\n",
       "japan         12622"
      ]
     },
     "execution_count": 83,
     "metadata": {},
     "output_type": "execute_result"
    }
   ],
   "source": [
    "country.iloc[0:2, :1]     # <= x < index로 집으면 끝자리까지 나옴 !!!!"
   ]
  },
  {
   "cell_type": "code",
   "execution_count": 73,
   "metadata": {},
   "outputs": [
    {
     "data": {
      "text/html": [
       "<div>\n",
       "<style scoped>\n",
       "    .dataframe tbody tr th:only-of-type {\n",
       "        vertical-align: middle;\n",
       "    }\n",
       "\n",
       "    .dataframe tbody tr th {\n",
       "        vertical-align: top;\n",
       "    }\n",
       "\n",
       "    .dataframe thead th {\n",
       "        text-align: right;\n",
       "    }\n",
       "</style>\n",
       "<table border=\"1\" class=\"dataframe\">\n",
       "  <thead>\n",
       "    <tr style=\"text-align: right;\">\n",
       "      <th>Info</th>\n",
       "      <th>population</th>\n",
       "      <th>gdp</th>\n",
       "    </tr>\n",
       "    <tr>\n",
       "      <th>Country</th>\n",
       "      <th></th>\n",
       "      <th></th>\n",
       "    </tr>\n",
       "  </thead>\n",
       "  <tbody>\n",
       "    <tr>\n",
       "      <th>korea</th>\n",
       "      <td>5182</td>\n",
       "      <td>169320000</td>\n",
       "    </tr>\n",
       "    <tr>\n",
       "      <th>japan</th>\n",
       "      <td>12622</td>\n",
       "      <td>516700000</td>\n",
       "    </tr>\n",
       "    <tr>\n",
       "      <th>china</th>\n",
       "      <td>141178</td>\n",
       "      <td>140925000</td>\n",
       "    </tr>\n",
       "    <tr>\n",
       "      <th>usa</th>\n",
       "      <td>32976</td>\n",
       "      <td>2041280000</td>\n",
       "    </tr>\n",
       "  </tbody>\n",
       "</table>\n",
       "</div>"
      ],
      "text/plain": [
       "Info     population         gdp\n",
       "Country                        \n",
       "korea          5182   169320000\n",
       "japan         12622   516700000\n",
       "china        141178   140925000\n",
       "usa           32976  2041280000"
      ]
     },
     "execution_count": 73,
     "metadata": {},
     "output_type": "execute_result"
    }
   ],
   "source": [
    "country"
   ]
  },
  {
   "cell_type": "code",
   "execution_count": 95,
   "metadata": {},
   "outputs": [
    {
     "data": {
      "text/html": [
       "<div>\n",
       "<style scoped>\n",
       "    .dataframe tbody tr th:only-of-type {\n",
       "        vertical-align: middle;\n",
       "    }\n",
       "\n",
       "    .dataframe tbody tr th {\n",
       "        vertical-align: top;\n",
       "    }\n",
       "\n",
       "    .dataframe thead th {\n",
       "        text-align: right;\n",
       "    }\n",
       "</style>\n",
       "<table border=\"1\" class=\"dataframe\">\n",
       "  <thead>\n",
       "    <tr style=\"text-align: right;\">\n",
       "      <th>Info</th>\n",
       "      <th>gdp</th>\n",
       "    </tr>\n",
       "    <tr>\n",
       "      <th>Country</th>\n",
       "      <th></th>\n",
       "    </tr>\n",
       "  </thead>\n",
       "  <tbody>\n",
       "    <tr>\n",
       "      <th>japan</th>\n",
       "      <td>516700000</td>\n",
       "    </tr>\n",
       "    <tr>\n",
       "      <th>china</th>\n",
       "      <td>140925000</td>\n",
       "    </tr>\n",
       "    <tr>\n",
       "      <th>usa</th>\n",
       "      <td>2041280000</td>\n",
       "    </tr>\n",
       "  </tbody>\n",
       "</table>\n",
       "</div>"
      ],
      "text/plain": [
       "Info            gdp\n",
       "Country            \n",
       "japan     516700000\n",
       "china     140925000\n",
       "usa      2041280000"
      ]
     },
     "execution_count": 95,
     "metadata": {},
     "output_type": "execute_result"
    }
   ],
   "source": [
    "# 막간을 이용한 문제타임⏰ ..~ \n",
    "country.loc['japan':'usa', 'gdp':]"
   ]
  },
  {
   "cell_type": "code",
   "execution_count": 94,
   "metadata": {},
   "outputs": [
    {
     "data": {
      "text/html": [
       "<div>\n",
       "<style scoped>\n",
       "    .dataframe tbody tr th:only-of-type {\n",
       "        vertical-align: middle;\n",
       "    }\n",
       "\n",
       "    .dataframe tbody tr th {\n",
       "        vertical-align: top;\n",
       "    }\n",
       "\n",
       "    .dataframe thead th {\n",
       "        text-align: right;\n",
       "    }\n",
       "</style>\n",
       "<table border=\"1\" class=\"dataframe\">\n",
       "  <thead>\n",
       "    <tr style=\"text-align: right;\">\n",
       "      <th>Info</th>\n",
       "      <th>gdp</th>\n",
       "    </tr>\n",
       "    <tr>\n",
       "      <th>Country</th>\n",
       "      <th></th>\n",
       "    </tr>\n",
       "  </thead>\n",
       "  <tbody>\n",
       "    <tr>\n",
       "      <th>japan</th>\n",
       "      <td>516700000</td>\n",
       "    </tr>\n",
       "    <tr>\n",
       "      <th>china</th>\n",
       "      <td>140925000</td>\n",
       "    </tr>\n",
       "    <tr>\n",
       "      <th>usa</th>\n",
       "      <td>2041280000</td>\n",
       "    </tr>\n",
       "  </tbody>\n",
       "</table>\n",
       "</div>"
      ],
      "text/plain": [
       "Info            gdp\n",
       "Country            \n",
       "japan     516700000\n",
       "china     140925000\n",
       "usa      2041280000"
      ]
     },
     "execution_count": 94,
     "metadata": {},
     "output_type": "execute_result"
    }
   ],
   "source": [
    "country.iloc[1:4,1:]"
   ]
  },
  {
   "cell_type": "code",
   "execution_count": 110,
   "metadata": {},
   "outputs": [
    {
     "data": {
      "text/html": [
       "<div>\n",
       "<style scoped>\n",
       "    .dataframe tbody tr th:only-of-type {\n",
       "        vertical-align: middle;\n",
       "    }\n",
       "\n",
       "    .dataframe tbody tr th {\n",
       "        vertical-align: top;\n",
       "    }\n",
       "\n",
       "    .dataframe thead th {\n",
       "        text-align: right;\n",
       "    }\n",
       "</style>\n",
       "<table border=\"1\" class=\"dataframe\">\n",
       "  <thead>\n",
       "    <tr style=\"text-align: right;\">\n",
       "      <th>Info</th>\n",
       "      <th>population</th>\n",
       "      <th>gdp</th>\n",
       "    </tr>\n",
       "    <tr>\n",
       "      <th>Country</th>\n",
       "      <th></th>\n",
       "      <th></th>\n",
       "    </tr>\n",
       "  </thead>\n",
       "  <tbody>\n",
       "    <tr>\n",
       "      <th>japan</th>\n",
       "      <td>12622</td>\n",
       "      <td>516700000</td>\n",
       "    </tr>\n",
       "    <tr>\n",
       "      <th>china</th>\n",
       "      <td>141178</td>\n",
       "      <td>140925000</td>\n",
       "    </tr>\n",
       "  </tbody>\n",
       "</table>\n",
       "</div>"
      ],
      "text/plain": [
       "Info     population        gdp\n",
       "Country                       \n",
       "japan         12622  516700000\n",
       "china        141178  140925000"
      ]
     },
     "execution_count": 110,
     "metadata": {},
     "output_type": "execute_result"
    }
   ],
   "source": [
    "country.iloc[1:3, :2]"
   ]
  },
  {
   "cell_type": "code",
   "execution_count": 1,
   "metadata": {},
   "outputs": [],
   "source": [
    "# 축 추가 !!\n",
    "# country['test'] = [11,22,33,44]\n",
    "# country.drop('test',axis=1)  # 삭제하는 법~ : axis는 축인데, 이것은 열 하나를 의미한다고 생각!!"
   ]
  },
  {
   "attachments": {
    "4c48fcc8-c56f-4c73-bb74-164ef22d2e9f.png": {
     "image/png": "[encoded data removed]"
    }
   },
   "cell_type": "markdown",
   "metadata": {},
   "source": [
    "![image.png](attachment:4c48fcc8-c56f-4c73-bb74-164ef22d2e9f.png)"
   ]
  },
  {
   "cell_type": "code",
   "execution_count": 6,
   "metadata": {},
   "outputs": [
    {
     "data": {
      "text/html": [
       "<div>\n",
       "<style scoped>\n",
       "    .dataframe tbody tr th:only-of-type {\n",
       "        vertical-align: middle;\n",
       "    }\n",
       "\n",
       "    .dataframe tbody tr th {\n",
       "        vertical-align: top;\n",
       "    }\n",
       "\n",
       "    .dataframe thead th {\n",
       "        text-align: right;\n",
       "    }\n",
       "</style>\n",
       "<table border=\"1\" class=\"dataframe\">\n",
       "  <thead>\n",
       "    <tr style=\"text-align: right;\">\n",
       "      <th>Info</th>\n",
       "      <th>population</th>\n",
       "      <th>gdp</th>\n",
       "      <th>gdp_per</th>\n",
       "    </tr>\n",
       "    <tr>\n",
       "      <th>Country</th>\n",
       "      <th></th>\n",
       "      <th></th>\n",
       "      <th></th>\n",
       "    </tr>\n",
       "  </thead>\n",
       "  <tbody>\n",
       "    <tr>\n",
       "      <th>korea</th>\n",
       "      <td>5182</td>\n",
       "      <td>169320000</td>\n",
       "      <td>32674.642995</td>\n",
       "    </tr>\n",
       "    <tr>\n",
       "      <th>japan</th>\n",
       "      <td>12622</td>\n",
       "      <td>516700000</td>\n",
       "      <td>40936.460149</td>\n",
       "    </tr>\n",
       "    <tr>\n",
       "      <th>china</th>\n",
       "      <td>141178</td>\n",
       "      <td>140925000</td>\n",
       "      <td>998.207936</td>\n",
       "    </tr>\n",
       "    <tr>\n",
       "      <th>usa</th>\n",
       "      <td>32976</td>\n",
       "      <td>2041280000</td>\n",
       "      <td>61901.989326</td>\n",
       "    </tr>\n",
       "  </tbody>\n",
       "</table>\n",
       "</div>"
      ],
      "text/plain": [
       "Info     population         gdp       gdp_per\n",
       "Country                                      \n",
       "korea          5182   169320000  32674.642995\n",
       "japan         12622   516700000  40936.460149\n",
       "china        141178   140925000    998.207936\n",
       "usa           32976  2041280000  61901.989326"
      ]
     },
     "execution_count": 6,
     "metadata": {},
     "output_type": "execute_result"
    }
   ],
   "source": [
    "# 컬럼 추가\n",
    "gdpper = country['gdp'] / country['population']\n",
    "country['gdp_per'] = gdpper  # 열을 추가하고, 그 이름을 설정해준 것 !!\n",
    "country"
   ]
  },
  {
   "cell_type": "code",
   "execution_count": 21,
   "metadata": {},
   "outputs": [
    {
     "data": {
      "text/html": [
       "<div>\n",
       "<style scoped>\n",
       "    .dataframe tbody tr th:only-of-type {\n",
       "        vertical-align: middle;\n",
       "    }\n",
       "\n",
       "    .dataframe tbody tr th {\n",
       "        vertical-align: top;\n",
       "    }\n",
       "\n",
       "    .dataframe thead th {\n",
       "        text-align: right;\n",
       "    }\n",
       "</style>\n",
       "<table border=\"1\" class=\"dataframe\">\n",
       "  <thead>\n",
       "    <tr style=\"text-align: right;\">\n",
       "      <th>Info</th>\n",
       "      <th>population</th>\n",
       "      <th>gdp</th>\n",
       "      <th>gdp_per</th>\n",
       "    </tr>\n",
       "    <tr>\n",
       "      <th>Country</th>\n",
       "      <th></th>\n",
       "      <th></th>\n",
       "      <th></th>\n",
       "    </tr>\n",
       "  </thead>\n",
       "  <tbody>\n",
       "    <tr>\n",
       "      <th>korea</th>\n",
       "      <td>5182.0</td>\n",
       "      <td>1.693200e+08</td>\n",
       "      <td>32674.642995</td>\n",
       "    </tr>\n",
       "    <tr>\n",
       "      <th>japan</th>\n",
       "      <td>12622.0</td>\n",
       "      <td>5.167000e+08</td>\n",
       "      <td>40936.460149</td>\n",
       "    </tr>\n",
       "    <tr>\n",
       "      <th>china</th>\n",
       "      <td>141178.0</td>\n",
       "      <td>1.409250e+08</td>\n",
       "      <td>998.207936</td>\n",
       "    </tr>\n",
       "    <tr>\n",
       "      <th>usa</th>\n",
       "      <td>32976.0</td>\n",
       "      <td>2.041280e+09</td>\n",
       "      <td>61901.989326</td>\n",
       "    </tr>\n",
       "    <tr>\n",
       "      <th>india</th>\n",
       "      <td>142222.0</td>\n",
       "      <td>1.505050e+08</td>\n",
       "      <td>1058.239935</td>\n",
       "    </tr>\n",
       "    <tr>\n",
       "      <th>africa</th>\n",
       "      <td>123456.0</td>\n",
       "      <td>7.777770e+05</td>\n",
       "      <td>6.300034</td>\n",
       "    </tr>\n",
       "  </tbody>\n",
       "</table>\n",
       "</div>"
      ],
      "text/plain": [
       "Info     population           gdp       gdp_per\n",
       "Country                                        \n",
       "korea        5182.0  1.693200e+08  32674.642995\n",
       "japan       12622.0  5.167000e+08  40936.460149\n",
       "china      141178.0  1.409250e+08    998.207936\n",
       "usa         32976.0  2.041280e+09  61901.989326\n",
       "india      142222.0  1.505050e+08   1058.239935\n",
       "africa     123456.0  7.777770e+05      6.300034"
      ]
     },
     "execution_count": 21,
     "metadata": {},
     "output_type": "execute_result"
    }
   ],
   "source": [
    "# 행 추가 방법 1\n",
    "country.loc['india'] = [142222,150505000,1212121]\n",
    "country.loc['india','gdp_per'] = country.loc['india','gdp']/country.loc['india','population']\n",
    "country"
   ]
  },
  {
   "cell_type": "code",
   "execution_count": 22,
   "metadata": {},
   "outputs": [
    {
     "data": {
      "text/html": [
       "<div>\n",
       "<style scoped>\n",
       "    .dataframe tbody tr th:only-of-type {\n",
       "        vertical-align: middle;\n",
       "    }\n",
       "\n",
       "    .dataframe tbody tr th {\n",
       "        vertical-align: top;\n",
       "    }\n",
       "\n",
       "    .dataframe thead th {\n",
       "        text-align: right;\n",
       "    }\n",
       "</style>\n",
       "<table border=\"1\" class=\"dataframe\">\n",
       "  <thead>\n",
       "    <tr style=\"text-align: right;\">\n",
       "      <th>Info</th>\n",
       "      <th>population</th>\n",
       "      <th>gdp</th>\n",
       "      <th>gdp_per</th>\n",
       "    </tr>\n",
       "    <tr>\n",
       "      <th>Country</th>\n",
       "      <th></th>\n",
       "      <th></th>\n",
       "      <th></th>\n",
       "    </tr>\n",
       "  </thead>\n",
       "  <tbody>\n",
       "    <tr>\n",
       "      <th>korea</th>\n",
       "      <td>5182.0</td>\n",
       "      <td>1.693200e+08</td>\n",
       "      <td>32674.642995</td>\n",
       "    </tr>\n",
       "    <tr>\n",
       "      <th>japan</th>\n",
       "      <td>12622.0</td>\n",
       "      <td>5.167000e+08</td>\n",
       "      <td>40936.460149</td>\n",
       "    </tr>\n",
       "    <tr>\n",
       "      <th>china</th>\n",
       "      <td>141178.0</td>\n",
       "      <td>1.409250e+08</td>\n",
       "      <td>998.207936</td>\n",
       "    </tr>\n",
       "    <tr>\n",
       "      <th>usa</th>\n",
       "      <td>32976.0</td>\n",
       "      <td>2.041280e+09</td>\n",
       "      <td>61901.989326</td>\n",
       "    </tr>\n",
       "    <tr>\n",
       "      <th>india</th>\n",
       "      <td>142222.0</td>\n",
       "      <td>1.505050e+08</td>\n",
       "      <td>1058.239935</td>\n",
       "    </tr>\n",
       "    <tr>\n",
       "      <th>africa</th>\n",
       "      <td>123456.0</td>\n",
       "      <td>7.777770e+05</td>\n",
       "      <td>6.300034</td>\n",
       "    </tr>\n",
       "  </tbody>\n",
       "</table>\n",
       "</div>"
      ],
      "text/plain": [
       "Info     population           gdp       gdp_per\n",
       "Country                                        \n",
       "korea        5182.0  1.693200e+08  32674.642995\n",
       "japan       12622.0  5.167000e+08  40936.460149\n",
       "china      141178.0  1.409250e+08    998.207936\n",
       "usa         32976.0  2.041280e+09  61901.989326\n",
       "india      142222.0  1.505050e+08   1058.239935\n",
       "africa     123456.0  7.777770e+05      6.300034"
      ]
     },
     "execution_count": 22,
     "metadata": {},
     "output_type": "execute_result"
    }
   ],
   "source": [
    "# 행추가 방법2\n",
    "africa = pd.Series(data = [123456,777777],index = ['population', 'gdp'])\n",
    "country.loc['africa'] = africa\n",
    "country.loc['africa','gdp_per'] = country.loc['africa','gdp']/country.loc['africa','population']\n",
    "country"
   ]
  },
  {
   "cell_type": "code",
   "execution_count": 23,
   "metadata": {},
   "outputs": [
    {
     "data": {
      "text/html": [
       "<div>\n",
       "<style scoped>\n",
       "    .dataframe tbody tr th:only-of-type {\n",
       "        vertical-align: middle;\n",
       "    }\n",
       "\n",
       "    .dataframe tbody tr th {\n",
       "        vertical-align: top;\n",
       "    }\n",
       "\n",
       "    .dataframe thead th {\n",
       "        text-align: right;\n",
       "    }\n",
       "</style>\n",
       "<table border=\"1\" class=\"dataframe\">\n",
       "  <thead>\n",
       "    <tr style=\"text-align: right;\">\n",
       "      <th>Info</th>\n",
       "      <th>population</th>\n",
       "      <th>gdp</th>\n",
       "      <th>gdp_per</th>\n",
       "    </tr>\n",
       "    <tr>\n",
       "      <th>Country</th>\n",
       "      <th></th>\n",
       "      <th></th>\n",
       "      <th></th>\n",
       "    </tr>\n",
       "  </thead>\n",
       "  <tbody>\n",
       "    <tr>\n",
       "      <th>korea</th>\n",
       "      <td>False</td>\n",
       "      <td>False</td>\n",
       "      <td>False</td>\n",
       "    </tr>\n",
       "    <tr>\n",
       "      <th>japan</th>\n",
       "      <td>False</td>\n",
       "      <td>False</td>\n",
       "      <td>False</td>\n",
       "    </tr>\n",
       "    <tr>\n",
       "      <th>china</th>\n",
       "      <td>False</td>\n",
       "      <td>False</td>\n",
       "      <td>False</td>\n",
       "    </tr>\n",
       "    <tr>\n",
       "      <th>usa</th>\n",
       "      <td>False</td>\n",
       "      <td>False</td>\n",
       "      <td>False</td>\n",
       "    </tr>\n",
       "    <tr>\n",
       "      <th>india</th>\n",
       "      <td>False</td>\n",
       "      <td>False</td>\n",
       "      <td>False</td>\n",
       "    </tr>\n",
       "    <tr>\n",
       "      <th>africa</th>\n",
       "      <td>False</td>\n",
       "      <td>False</td>\n",
       "      <td>False</td>\n",
       "    </tr>\n",
       "  </tbody>\n",
       "</table>\n",
       "</div>"
      ],
      "text/plain": [
       "Info     population    gdp  gdp_per\n",
       "Country                            \n",
       "korea         False  False    False\n",
       "japan         False  False    False\n",
       "china         False  False    False\n",
       "usa           False  False    False\n",
       "india         False  False    False\n",
       "africa        False  False    False"
      ]
     },
     "execution_count": 23,
     "metadata": {},
     "output_type": "execute_result"
    }
   ],
   "source": [
    "# 결측값(NaN) 확인      ; 값이 없으면 True로 표시됨 !!!!\n",
    "country.isnull()#.sum"
   ]
  },
  {
   "cell_type": "code",
   "execution_count": 24,
   "metadata": {},
   "outputs": [
    {
     "data": {
      "text/html": [
       "<div>\n",
       "<style scoped>\n",
       "    .dataframe tbody tr th:only-of-type {\n",
       "        vertical-align: middle;\n",
       "    }\n",
       "\n",
       "    .dataframe tbody tr th {\n",
       "        vertical-align: top;\n",
       "    }\n",
       "\n",
       "    .dataframe thead th {\n",
       "        text-align: right;\n",
       "    }\n",
       "</style>\n",
       "<table border=\"1\" class=\"dataframe\">\n",
       "  <thead>\n",
       "    <tr style=\"text-align: right;\">\n",
       "      <th>Info</th>\n",
       "      <th>population</th>\n",
       "      <th>gdp</th>\n",
       "      <th>gdp_per</th>\n",
       "    </tr>\n",
       "    <tr>\n",
       "      <th>Country</th>\n",
       "      <th></th>\n",
       "      <th></th>\n",
       "      <th></th>\n",
       "    </tr>\n",
       "  </thead>\n",
       "  <tbody>\n",
       "    <tr>\n",
       "      <th>korea</th>\n",
       "      <td>5182.0</td>\n",
       "      <td>1.693200e+08</td>\n",
       "      <td>32674.642995</td>\n",
       "    </tr>\n",
       "    <tr>\n",
       "      <th>japan</th>\n",
       "      <td>12622.0</td>\n",
       "      <td>5.167000e+08</td>\n",
       "      <td>40936.460149</td>\n",
       "    </tr>\n",
       "    <tr>\n",
       "      <th>china</th>\n",
       "      <td>141178.0</td>\n",
       "      <td>1.409250e+08</td>\n",
       "      <td>998.207936</td>\n",
       "    </tr>\n",
       "    <tr>\n",
       "      <th>usa</th>\n",
       "      <td>32976.0</td>\n",
       "      <td>2.041280e+09</td>\n",
       "      <td>61901.989326</td>\n",
       "    </tr>\n",
       "    <tr>\n",
       "      <th>india</th>\n",
       "      <td>142222.0</td>\n",
       "      <td>1.505050e+08</td>\n",
       "      <td>1058.239935</td>\n",
       "    </tr>\n",
       "  </tbody>\n",
       "</table>\n",
       "</div>"
      ],
      "text/plain": [
       "Info     population           gdp       gdp_per\n",
       "Country                                        \n",
       "korea        5182.0  1.693200e+08  32674.642995\n",
       "japan       12622.0  5.167000e+08  40936.460149\n",
       "china      141178.0  1.409250e+08    998.207936\n",
       "usa         32976.0  2.041280e+09  61901.989326\n",
       "india      142222.0  1.505050e+08   1058.239935"
      ]
     },
     "execution_count": 24,
     "metadata": {},
     "output_type": "execute_result"
    }
   ],
   "source": [
    "country.drop('africa',axis=0)   # 원본에 반영이 안됨 !!"
   ]
  },
  {
   "cell_type": "code",
   "execution_count": 25,
   "metadata": {},
   "outputs": [
    {
     "data": {
      "text/html": [
       "<div>\n",
       "<style scoped>\n",
       "    .dataframe tbody tr th:only-of-type {\n",
       "        vertical-align: middle;\n",
       "    }\n",
       "\n",
       "    .dataframe tbody tr th {\n",
       "        vertical-align: top;\n",
       "    }\n",
       "\n",
       "    .dataframe thead th {\n",
       "        text-align: right;\n",
       "    }\n",
       "</style>\n",
       "<table border=\"1\" class=\"dataframe\">\n",
       "  <thead>\n",
       "    <tr style=\"text-align: right;\">\n",
       "      <th>Info</th>\n",
       "      <th>population</th>\n",
       "      <th>gdp</th>\n",
       "      <th>gdp_per</th>\n",
       "    </tr>\n",
       "    <tr>\n",
       "      <th>Country</th>\n",
       "      <th></th>\n",
       "      <th></th>\n",
       "      <th></th>\n",
       "    </tr>\n",
       "  </thead>\n",
       "  <tbody>\n",
       "    <tr>\n",
       "      <th>korea</th>\n",
       "      <td>5182.0</td>\n",
       "      <td>1.693200e+08</td>\n",
       "      <td>32674.642995</td>\n",
       "    </tr>\n",
       "    <tr>\n",
       "      <th>japan</th>\n",
       "      <td>12622.0</td>\n",
       "      <td>5.167000e+08</td>\n",
       "      <td>40936.460149</td>\n",
       "    </tr>\n",
       "    <tr>\n",
       "      <th>china</th>\n",
       "      <td>141178.0</td>\n",
       "      <td>1.409250e+08</td>\n",
       "      <td>998.207936</td>\n",
       "    </tr>\n",
       "    <tr>\n",
       "      <th>usa</th>\n",
       "      <td>32976.0</td>\n",
       "      <td>2.041280e+09</td>\n",
       "      <td>61901.989326</td>\n",
       "    </tr>\n",
       "    <tr>\n",
       "      <th>india</th>\n",
       "      <td>142222.0</td>\n",
       "      <td>1.505050e+08</td>\n",
       "      <td>1058.239935</td>\n",
       "    </tr>\n",
       "  </tbody>\n",
       "</table>\n",
       "</div>"
      ],
      "text/plain": [
       "Info     population           gdp       gdp_per\n",
       "Country                                        \n",
       "korea        5182.0  1.693200e+08  32674.642995\n",
       "japan       12622.0  5.167000e+08  40936.460149\n",
       "china      141178.0  1.409250e+08    998.207936\n",
       "usa         32976.0  2.041280e+09  61901.989326\n",
       "india      142222.0  1.505050e+08   1058.239935"
      ]
     },
     "execution_count": 25,
     "metadata": {},
     "output_type": "execute_result"
    }
   ],
   "source": [
    "# 열 제거 drop!! (이름, axis = 0)\n",
    "country = country.drop('africa',axis=0)\n",
    "country"
   ]
  },
  {
   "cell_type": "code",
   "execution_count": 31,
   "metadata": {},
   "outputs": [
    {
     "data": {
      "text/html": [
       "<div>\n",
       "<style scoped>\n",
       "    .dataframe tbody tr th:only-of-type {\n",
       "        vertical-align: middle;\n",
       "    }\n",
       "\n",
       "    .dataframe tbody tr th {\n",
       "        vertical-align: top;\n",
       "    }\n",
       "\n",
       "    .dataframe thead th {\n",
       "        text-align: right;\n",
       "    }\n",
       "</style>\n",
       "<table border=\"1\" class=\"dataframe\">\n",
       "  <thead>\n",
       "    <tr style=\"text-align: right;\">\n",
       "      <th>Info</th>\n",
       "      <th>population</th>\n",
       "      <th>gdp</th>\n",
       "      <th>gdp_per</th>\n",
       "    </tr>\n",
       "    <tr>\n",
       "      <th>Country</th>\n",
       "      <th></th>\n",
       "      <th></th>\n",
       "      <th></th>\n",
       "    </tr>\n",
       "  </thead>\n",
       "  <tbody>\n",
       "    <tr>\n",
       "      <th>china</th>\n",
       "      <td>141178.0</td>\n",
       "      <td>140925000.0</td>\n",
       "      <td>998.207936</td>\n",
       "    </tr>\n",
       "    <tr>\n",
       "      <th>india</th>\n",
       "      <td>142222.0</td>\n",
       "      <td>150505000.0</td>\n",
       "      <td>1058.239935</td>\n",
       "    </tr>\n",
       "  </tbody>\n",
       "</table>\n",
       "</div>"
      ],
      "text/plain": [
       "Info     population          gdp      gdp_per\n",
       "Country                                      \n",
       "china      141178.0  140925000.0   998.207936\n",
       "india      142222.0  150505000.0  1058.239935"
      ]
     },
     "execution_count": 31,
     "metadata": {},
     "output_type": "execute_result"
    }
   ],
   "source": [
    "# 테스트 1\n",
    "country[country['population'] >140000]  # 필터로 country 표 값을 걸러냈음 !!"
   ]
  },
  {
   "cell_type": "code",
   "execution_count": 32,
   "metadata": {},
   "outputs": [
    {
     "data": {
      "text/html": [
       "<div>\n",
       "<style scoped>\n",
       "    .dataframe tbody tr th:only-of-type {\n",
       "        vertical-align: middle;\n",
       "    }\n",
       "\n",
       "    .dataframe tbody tr th {\n",
       "        vertical-align: top;\n",
       "    }\n",
       "\n",
       "    .dataframe thead th {\n",
       "        text-align: right;\n",
       "    }\n",
       "</style>\n",
       "<table border=\"1\" class=\"dataframe\">\n",
       "  <thead>\n",
       "    <tr style=\"text-align: right;\">\n",
       "      <th>Info</th>\n",
       "      <th>population</th>\n",
       "    </tr>\n",
       "    <tr>\n",
       "      <th>Country</th>\n",
       "      <th></th>\n",
       "    </tr>\n",
       "  </thead>\n",
       "  <tbody>\n",
       "    <tr>\n",
       "      <th>japan</th>\n",
       "      <td>12622.0</td>\n",
       "    </tr>\n",
       "    <tr>\n",
       "      <th>usa</th>\n",
       "      <td>32976.0</td>\n",
       "    </tr>\n",
       "  </tbody>\n",
       "</table>\n",
       "</div>"
      ],
      "text/plain": [
       "Info     population\n",
       "Country            \n",
       "japan       12622.0\n",
       "usa         32976.0"
      ]
     },
     "execution_count": 32,
     "metadata": {},
     "output_type": "execute_result"
    }
   ],
   "source": [
    "# 테스트 2 조건 , 슬라이싱\n",
    "country[(country['population']>10000) & (country['population']<100000)].loc[:,:'population']  # loc를 붙여야 해~"
   ]
  },
  {
   "cell_type": "code",
   "execution_count": 35,
   "metadata": {},
   "outputs": [],
   "source": [
    "### 🧐🤯쪽 지 시 험⏰💥 ###"
   ]
  },
  {
   "cell_type": "markdown",
   "metadata": {},
   "source": [
    "#### 문제 1\n",
    "- 다음 데이터가 담긴 데이터 프레임을 만들어라"
   ]
  },
  {
   "cell_type": "code",
   "execution_count": 68,
   "metadata": {},
   "outputs": [
    {
     "data": {
      "text/html": [
       "<div>\n",
       "<style scoped>\n",
       "    .dataframe tbody tr th:only-of-type {\n",
       "        vertical-align: middle;\n",
       "    }\n",
       "\n",
       "    .dataframe tbody tr th {\n",
       "        vertical-align: top;\n",
       "    }\n",
       "\n",
       "    .dataframe thead th {\n",
       "        text-align: right;\n",
       "    }\n",
       "</style>\n",
       "<table border=\"1\" class=\"dataframe\">\n",
       "  <thead>\n",
       "    <tr style=\"text-align: right;\">\n",
       "      <th>과목</th>\n",
       "      <th>국어</th>\n",
       "      <th>수학</th>\n",
       "      <th>영어</th>\n",
       "    </tr>\n",
       "    <tr>\n",
       "      <th>학생</th>\n",
       "      <th></th>\n",
       "      <th></th>\n",
       "      <th></th>\n",
       "    </tr>\n",
       "  </thead>\n",
       "  <tbody>\n",
       "    <tr>\n",
       "      <th>홍길동</th>\n",
       "      <td>80</td>\n",
       "      <td>70</td>\n",
       "      <td>70</td>\n",
       "    </tr>\n",
       "    <tr>\n",
       "      <th>박철수</th>\n",
       "      <td>60</td>\n",
       "      <td>70</td>\n",
       "      <td>70</td>\n",
       "    </tr>\n",
       "    <tr>\n",
       "      <th>김영희</th>\n",
       "      <td>70</td>\n",
       "      <td>90</td>\n",
       "      <td>90</td>\n",
       "    </tr>\n",
       "  </tbody>\n",
       "</table>\n",
       "</div>"
      ],
      "text/plain": [
       "과목   국어  수학  영어\n",
       "학생             \n",
       "홍길동  80  70  70\n",
       "박철수  60  70  70\n",
       "김영희  70  90  90"
      ]
     },
     "execution_count": 68,
     "metadata": {},
     "output_type": "execute_result"
    }
   ],
   "source": [
    "import numpy as np\n",
    "import pandas as pd\n",
    "\n",
    "korean_dict = {\n",
    "    '홍길동': 80,\n",
    "    '박철수': 60,\n",
    "    '김영희': 70,\n",
    "}\n",
    "korean = pd.Series(korean_dict)\n",
    "math_dict = {\n",
    "    '홍길동': 70,\n",
    "    '박철수': 70,\n",
    "    '김영희': 90}\n",
    "math = pd.Series(math_dict)\n",
    "english_dict = {\n",
    "    '홍길동': 80,\n",
    "    '박철수': 80,\n",
    "    '김영희': 80}\n",
    "english = pd.Series(math_dict)\n",
    "score = pd.DataFrame({'국어': korean,'수학':math, '영어':english})\n",
    "score.index.name = \"학생\"  # 인덱스 이름을 지정\n",
    "score.columns.name = \"과목\"   # 컬럼 이름을 지정\n",
    "score"
   ]
  },
  {
   "cell_type": "markdown",
   "metadata": {},
   "source": [
    "#### 문제 2\n",
    "- 박철수의 국어와, 수학점수만 출력하라"
   ]
  },
  {
   "cell_type": "code",
   "execution_count": 86,
   "metadata": {},
   "outputs": [
    {
     "data": {
      "text/html": [
       "<div>\n",
       "<style scoped>\n",
       "    .dataframe tbody tr th:only-of-type {\n",
       "        vertical-align: middle;\n",
       "    }\n",
       "\n",
       "    .dataframe tbody tr th {\n",
       "        vertical-align: top;\n",
       "    }\n",
       "\n",
       "    .dataframe thead th {\n",
       "        text-align: right;\n",
       "    }\n",
       "</style>\n",
       "<table border=\"1\" class=\"dataframe\">\n",
       "  <thead>\n",
       "    <tr style=\"text-align: right;\">\n",
       "      <th>과목</th>\n",
       "      <th>국어</th>\n",
       "      <th>수학</th>\n",
       "    </tr>\n",
       "    <tr>\n",
       "      <th>학생</th>\n",
       "      <th></th>\n",
       "      <th></th>\n",
       "    </tr>\n",
       "  </thead>\n",
       "  <tbody>\n",
       "    <tr>\n",
       "      <th>박철수</th>\n",
       "      <td>60</td>\n",
       "      <td>70</td>\n",
       "    </tr>\n",
       "  </tbody>\n",
       "</table>\n",
       "</div>"
      ],
      "text/plain": [
       "과목   국어  수학\n",
       "학생         \n",
       "박철수  60  70"
      ]
     },
     "execution_count": 86,
     "metadata": {},
     "output_type": "execute_result"
    }
   ],
   "source": [
    "score.iloc[1:2,:2]"
   ]
  },
  {
   "cell_type": "markdown",
   "metadata": {},
   "source": [
    "#### 문제 3\n",
    "- 수학이 70점 이상인 사람 모든 행을 출력하라"
   ]
  },
  {
   "cell_type": "code",
   "execution_count": 46,
   "metadata": {},
   "outputs": [
    {
     "data": {
      "text/html": [
       "<div>\n",
       "<style scoped>\n",
       "    .dataframe tbody tr th:only-of-type {\n",
       "        vertical-align: middle;\n",
       "    }\n",
       "\n",
       "    .dataframe tbody tr th {\n",
       "        vertical-align: top;\n",
       "    }\n",
       "\n",
       "    .dataframe thead th {\n",
       "        text-align: right;\n",
       "    }\n",
       "</style>\n",
       "<table border=\"1\" class=\"dataframe\">\n",
       "  <thead>\n",
       "    <tr style=\"text-align: right;\">\n",
       "      <th>과목</th>\n",
       "      <th>국어</th>\n",
       "      <th>수학</th>\n",
       "      <th>영어</th>\n",
       "    </tr>\n",
       "    <tr>\n",
       "      <th>학생</th>\n",
       "      <th></th>\n",
       "      <th></th>\n",
       "      <th></th>\n",
       "    </tr>\n",
       "  </thead>\n",
       "  <tbody>\n",
       "    <tr>\n",
       "      <th>홍길동</th>\n",
       "      <td>80</td>\n",
       "      <td>70</td>\n",
       "      <td>70</td>\n",
       "    </tr>\n",
       "    <tr>\n",
       "      <th>박철수</th>\n",
       "      <td>60</td>\n",
       "      <td>70</td>\n",
       "      <td>70</td>\n",
       "    </tr>\n",
       "    <tr>\n",
       "      <th>김영희</th>\n",
       "      <td>70</td>\n",
       "      <td>90</td>\n",
       "      <td>90</td>\n",
       "    </tr>\n",
       "  </tbody>\n",
       "</table>\n",
       "</div>"
      ],
      "text/plain": [
       "과목   국어  수학  영어\n",
       "학생             \n",
       "홍길동  80  70  70\n",
       "박철수  60  70  70\n",
       "김영희  70  90  90"
      ]
     },
     "execution_count": 46,
     "metadata": {},
     "output_type": "execute_result"
    }
   ],
   "source": [
    "score[score['수학']>=70]"
   ]
  },
  {
   "cell_type": "markdown",
   "metadata": {},
   "source": [
    "#### 문제 4\n",
    "- 모든 과목의 평균점수를 마지막 컬럼에 넣고 \"평균\" 이라는 이름으로 만들어 넣어라."
   ]
  },
  {
   "cell_type": "code",
   "execution_count": 60,
   "metadata": {},
   "outputs": [
    {
     "data": {
      "text/html": [
       "<div>\n",
       "<style scoped>\n",
       "    .dataframe tbody tr th:only-of-type {\n",
       "        vertical-align: middle;\n",
       "    }\n",
       "\n",
       "    .dataframe tbody tr th {\n",
       "        vertical-align: top;\n",
       "    }\n",
       "\n",
       "    .dataframe thead th {\n",
       "        text-align: right;\n",
       "    }\n",
       "</style>\n",
       "<table border=\"1\" class=\"dataframe\">\n",
       "  <thead>\n",
       "    <tr style=\"text-align: right;\">\n",
       "      <th>과목</th>\n",
       "      <th>국어</th>\n",
       "      <th>수학</th>\n",
       "      <th>영어</th>\n",
       "      <th>평균</th>\n",
       "    </tr>\n",
       "    <tr>\n",
       "      <th>학생</th>\n",
       "      <th></th>\n",
       "      <th></th>\n",
       "      <th></th>\n",
       "      <th></th>\n",
       "    </tr>\n",
       "  </thead>\n",
       "  <tbody>\n",
       "    <tr>\n",
       "      <th>홍길동</th>\n",
       "      <td>80</td>\n",
       "      <td>70</td>\n",
       "      <td>70</td>\n",
       "      <td>73.3</td>\n",
       "    </tr>\n",
       "    <tr>\n",
       "      <th>박철수</th>\n",
       "      <td>60</td>\n",
       "      <td>70</td>\n",
       "      <td>70</td>\n",
       "      <td>66.7</td>\n",
       "    </tr>\n",
       "    <tr>\n",
       "      <th>김영희</th>\n",
       "      <td>70</td>\n",
       "      <td>90</td>\n",
       "      <td>90</td>\n",
       "      <td>83.3</td>\n",
       "    </tr>\n",
       "  </tbody>\n",
       "</table>\n",
       "</div>"
      ],
      "text/plain": [
       "과목   국어  수학  영어    평균\n",
       "학생                   \n",
       "홍길동  80  70  70  73.3\n",
       "박철수  60  70  70  66.7\n",
       "김영희  70  90  90  83.3"
      ]
     },
     "execution_count": 60,
     "metadata": {},
     "output_type": "execute_result"
    }
   ],
   "source": [
    "avg = ((score['국어']+score['수학']+score['영어']) / 3)\n",
    "score[\"평균\"] = round(avg,1)\n",
    "score"
   ]
  },
  {
   "cell_type": "markdown",
   "metadata": {},
   "source": [
    "#### 문제 5\n",
    "- 전학 온 학생을 추가하라 (최자바, 55 / 95 / 70 )"
   ]
  },
  {
   "cell_type": "code",
   "execution_count": 65,
   "metadata": {},
   "outputs": [
    {
     "data": {
      "text/html": [
       "<div>\n",
       "<style scoped>\n",
       "    .dataframe tbody tr th:only-of-type {\n",
       "        vertical-align: middle;\n",
       "    }\n",
       "\n",
       "    .dataframe tbody tr th {\n",
       "        vertical-align: top;\n",
       "    }\n",
       "\n",
       "    .dataframe thead th {\n",
       "        text-align: right;\n",
       "    }\n",
       "</style>\n",
       "<table border=\"1\" class=\"dataframe\">\n",
       "  <thead>\n",
       "    <tr style=\"text-align: right;\">\n",
       "      <th>과목</th>\n",
       "      <th>국어</th>\n",
       "      <th>수학</th>\n",
       "      <th>영어</th>\n",
       "      <th>평균</th>\n",
       "    </tr>\n",
       "    <tr>\n",
       "      <th>학생</th>\n",
       "      <th></th>\n",
       "      <th></th>\n",
       "      <th></th>\n",
       "      <th></th>\n",
       "    </tr>\n",
       "  </thead>\n",
       "  <tbody>\n",
       "    <tr>\n",
       "      <th>홍길동</th>\n",
       "      <td>80.0</td>\n",
       "      <td>70.0</td>\n",
       "      <td>70.0</td>\n",
       "      <td>73.3</td>\n",
       "    </tr>\n",
       "    <tr>\n",
       "      <th>박철수</th>\n",
       "      <td>60.0</td>\n",
       "      <td>70.0</td>\n",
       "      <td>70.0</td>\n",
       "      <td>66.7</td>\n",
       "    </tr>\n",
       "    <tr>\n",
       "      <th>김영희</th>\n",
       "      <td>70.0</td>\n",
       "      <td>90.0</td>\n",
       "      <td>90.0</td>\n",
       "      <td>83.3</td>\n",
       "    </tr>\n",
       "    <tr>\n",
       "      <th>최자바</th>\n",
       "      <td>55.0</td>\n",
       "      <td>95.0</td>\n",
       "      <td>70.0</td>\n",
       "      <td>73.3</td>\n",
       "    </tr>\n",
       "  </tbody>\n",
       "</table>\n",
       "</div>"
      ],
      "text/plain": [
       "과목     국어    수학    영어    평균\n",
       "학생                         \n",
       "홍길동  80.0  70.0  70.0  73.3\n",
       "박철수  60.0  70.0  70.0  66.7\n",
       "김영희  70.0  90.0  90.0  83.3\n",
       "최자바  55.0  95.0  70.0  73.3"
      ]
     },
     "execution_count": 65,
     "metadata": {},
     "output_type": "execute_result"
    }
   ],
   "source": [
    "java = pd.Series(data = [55,95,70],index = ['국어', '수학', '영어'])\n",
    "score.loc['최자바'] = java\n",
    "score.loc['최자바','평균'] = round((score.loc['최자바','국어']+score.loc['최자바','수학']+score.loc['최자바','영어'])/3, 1)\n",
    "score"
   ]
  },
  {
   "cell_type": "code",
   "execution_count": 72,
   "metadata": {},
   "outputs": [
    {
     "data": {
      "text/html": [
       "<div>\n",
       "<style scoped>\n",
       "    .dataframe tbody tr th:only-of-type {\n",
       "        vertical-align: middle;\n",
       "    }\n",
       "\n",
       "    .dataframe tbody tr th {\n",
       "        vertical-align: top;\n",
       "    }\n",
       "\n",
       "    .dataframe thead th {\n",
       "        text-align: right;\n",
       "    }\n",
       "</style>\n",
       "<table border=\"1\" class=\"dataframe\">\n",
       "  <thead>\n",
       "    <tr style=\"text-align: right;\">\n",
       "      <th></th>\n",
       "      <th>이름</th>\n",
       "      <th>국어</th>\n",
       "      <th>수학</th>\n",
       "      <th>영어</th>\n",
       "    </tr>\n",
       "  </thead>\n",
       "  <tbody>\n",
       "    <tr>\n",
       "      <th>0</th>\n",
       "      <td>홍길동</td>\n",
       "      <td>80</td>\n",
       "      <td>70</td>\n",
       "      <td>80</td>\n",
       "    </tr>\n",
       "    <tr>\n",
       "      <th>1</th>\n",
       "      <td>박철수</td>\n",
       "      <td>60</td>\n",
       "      <td>70</td>\n",
       "      <td>80</td>\n",
       "    </tr>\n",
       "    <tr>\n",
       "      <th>2</th>\n",
       "      <td>김영희</td>\n",
       "      <td>70</td>\n",
       "      <td>90</td>\n",
       "      <td>80</td>\n",
       "    </tr>\n",
       "  </tbody>\n",
       "</table>\n",
       "</div>"
      ],
      "text/plain": [
       "    이름  국어  수학  영어\n",
       "0  홍길동  80  70  80\n",
       "1  박철수  60  70  80\n",
       "2  김영희  70  90  80"
      ]
     },
     "execution_count": 72,
     "metadata": {},
     "output_type": "execute_result"
    }
   ],
   "source": [
    "# 해설 !!!!! \n",
    "  # 1) 기본적인 방법 > 제일 간편~\n",
    "data = {\n",
    "    '이름' : ['홍길동','박철수','김영희'],\n",
    "    '국어' : [80,60,70],\n",
    "    '수학' : [70,70,90],\n",
    "    '영어' : [80,80,80]\n",
    "}\n",
    "df = pd.DataFrame(data)\n",
    "df"
   ]
  },
  {
   "cell_type": "code",
   "execution_count": 75,
   "metadata": {},
   "outputs": [
    {
     "data": {
      "text/html": [
       "<div>\n",
       "<style scoped>\n",
       "    .dataframe tbody tr th:only-of-type {\n",
       "        vertical-align: middle;\n",
       "    }\n",
       "\n",
       "    .dataframe tbody tr th {\n",
       "        vertical-align: top;\n",
       "    }\n",
       "\n",
       "    .dataframe thead th {\n",
       "        text-align: right;\n",
       "    }\n",
       "</style>\n",
       "<table border=\"1\" class=\"dataframe\">\n",
       "  <thead>\n",
       "    <tr style=\"text-align: right;\">\n",
       "      <th></th>\n",
       "      <th>이름</th>\n",
       "      <th>국어</th>\n",
       "      <th>수학</th>\n",
       "      <th>영어</th>\n",
       "    </tr>\n",
       "  </thead>\n",
       "  <tbody>\n",
       "    <tr>\n",
       "      <th>0</th>\n",
       "      <td>홍길동</td>\n",
       "      <td>80</td>\n",
       "      <td>70</td>\n",
       "      <td>80</td>\n",
       "    </tr>\n",
       "    <tr>\n",
       "      <th>1</th>\n",
       "      <td>박철수</td>\n",
       "      <td>70</td>\n",
       "      <td>70</td>\n",
       "      <td>80</td>\n",
       "    </tr>\n",
       "    <tr>\n",
       "      <th>2</th>\n",
       "      <td>김영희</td>\n",
       "      <td>80</td>\n",
       "      <td>90</td>\n",
       "      <td>80</td>\n",
       "    </tr>\n",
       "  </tbody>\n",
       "</table>\n",
       "</div>"
      ],
      "text/plain": [
       "    이름  국어  수학  영어\n",
       "0  홍길동  80  70  80\n",
       "1  박철수  70  70  80\n",
       "2  김영희  80  90  80"
      ]
     },
     "execution_count": 75,
     "metadata": {},
     "output_type": "execute_result"
    }
   ],
   "source": [
    "  # 2) 키값쌍으로 리스트에 저장하는 방법\n",
    "data = [{'이름' :'홍길동', '국어':80, '수학':70, '영어':80},\n",
    "        {'이름' :'박철수', '국어':70, '수학':70, '영어':80},\n",
    "        {'이름' :'김영희', '국어':80, '수학':90, '영어':80}]\n",
    "df = pd.DataFrame(data)\n",
    "df"
   ]
  },
  {
   "cell_type": "code",
   "execution_count": 77,
   "metadata": {},
   "outputs": [
    {
     "data": {
      "text/html": [
       "<div>\n",
       "<style scoped>\n",
       "    .dataframe tbody tr th:only-of-type {\n",
       "        vertical-align: middle;\n",
       "    }\n",
       "\n",
       "    .dataframe tbody tr th {\n",
       "        vertical-align: top;\n",
       "    }\n",
       "\n",
       "    .dataframe thead th {\n",
       "        text-align: right;\n",
       "    }\n",
       "</style>\n",
       "<table border=\"1\" class=\"dataframe\">\n",
       "  <thead>\n",
       "    <tr style=\"text-align: right;\">\n",
       "      <th></th>\n",
       "      <th>이름</th>\n",
       "      <th>국어</th>\n",
       "      <th>수학</th>\n",
       "      <th>영어</th>\n",
       "    </tr>\n",
       "  </thead>\n",
       "  <tbody>\n",
       "    <tr>\n",
       "      <th>0</th>\n",
       "      <td>홍길동</td>\n",
       "      <td>80</td>\n",
       "      <td>70</td>\n",
       "      <td>80</td>\n",
       "    </tr>\n",
       "    <tr>\n",
       "      <th>1</th>\n",
       "      <td>박철수</td>\n",
       "      <td>60</td>\n",
       "      <td>70</td>\n",
       "      <td>80</td>\n",
       "    </tr>\n",
       "    <tr>\n",
       "      <th>2</th>\n",
       "      <td>김영희</td>\n",
       "      <td>70</td>\n",
       "      <td>90</td>\n",
       "      <td>80</td>\n",
       "    </tr>\n",
       "  </tbody>\n",
       "</table>\n",
       "</div>"
      ],
      "text/plain": [
       "    이름  국어  수학  영어\n",
       "0  홍길동  80  70  80\n",
       "1  박철수  60  70  80\n",
       "2  김영희  70  90  80"
      ]
     },
     "execution_count": 77,
     "metadata": {},
     "output_type": "execute_result"
    }
   ],
   "source": [
    "  # 3) 리스트에 튜플로 저장하는 방법\n",
    "data = [('홍길동',80,70,80),\n",
    "        ('박철수',60,70,80),\n",
    "        ('김영희',70,90,80)]\n",
    "df=pd.DataFrame(data, columns=['이름','국어','수학','영어'])\n",
    "df"
   ]
  },
  {
   "cell_type": "code",
   "execution_count": 80,
   "metadata": {},
   "outputs": [],
   "source": [
    "#    # cf)\n",
    "# import numpy as np\n",
    "# # data0 = [('홍길동',80,70,80),\n",
    "# #         ('박철수',60,70,80),\n",
    "# #         ('김영희',70,90,80)]\n",
    "# # data = np.array(data0)\n",
    "# data = np.array([['홍길동',80,70,80],['박철수',60,70,80],['김영희',70,90,80]])\n",
    "# data"
   ]
  },
  {
   "cell_type": "code",
   "execution_count": 101,
   "metadata": {},
   "outputs": [
    {
     "data": {
      "text/html": [
       "<div>\n",
       "<style scoped>\n",
       "    .dataframe tbody tr th:only-of-type {\n",
       "        vertical-align: middle;\n",
       "    }\n",
       "\n",
       "    .dataframe tbody tr th {\n",
       "        vertical-align: top;\n",
       "    }\n",
       "\n",
       "    .dataframe thead th {\n",
       "        text-align: right;\n",
       "    }\n",
       "</style>\n",
       "<table border=\"1\" class=\"dataframe\">\n",
       "  <thead>\n",
       "    <tr style=\"text-align: right;\">\n",
       "      <th></th>\n",
       "      <th>이름</th>\n",
       "      <th>국어</th>\n",
       "      <th>수학</th>\n",
       "    </tr>\n",
       "  </thead>\n",
       "  <tbody>\n",
       "    <tr>\n",
       "      <th>1</th>\n",
       "      <td>박철수</td>\n",
       "      <td>60</td>\n",
       "      <td>70</td>\n",
       "    </tr>\n",
       "  </tbody>\n",
       "</table>\n",
       "</div>"
      ],
      "text/plain": [
       "    이름  국어  수학\n",
       "1  박철수  60  70"
      ]
     },
     "execution_count": 101,
     "metadata": {},
     "output_type": "execute_result"
    }
   ],
   "source": [
    "# 2\n",
    "df.loc[1:1]\n",
    "df.iloc[1:2,:3]"
   ]
  },
  {
   "cell_type": "code",
   "execution_count": 224,
   "metadata": {},
   "outputs": [
    {
     "data": {
      "text/html": [
       "<div>\n",
       "<style scoped>\n",
       "    .dataframe tbody tr th:only-of-type {\n",
       "        vertical-align: middle;\n",
       "    }\n",
       "\n",
       "    .dataframe tbody tr th {\n",
       "        vertical-align: top;\n",
       "    }\n",
       "\n",
       "    .dataframe thead th {\n",
       "        text-align: right;\n",
       "    }\n",
       "</style>\n",
       "<table border=\"1\" class=\"dataframe\">\n",
       "  <thead>\n",
       "    <tr style=\"text-align: right;\">\n",
       "      <th></th>\n",
       "      <th>이름</th>\n",
       "      <th>국어</th>\n",
       "      <th>수학</th>\n",
       "      <th>영어</th>\n",
       "    </tr>\n",
       "  </thead>\n",
       "  <tbody>\n",
       "    <tr>\n",
       "      <th>0</th>\n",
       "      <td>홍길동</td>\n",
       "      <td>80</td>\n",
       "      <td>70</td>\n",
       "      <td>80</td>\n",
       "    </tr>\n",
       "    <tr>\n",
       "      <th>2</th>\n",
       "      <td>김영희</td>\n",
       "      <td>70</td>\n",
       "      <td>90</td>\n",
       "      <td>80</td>\n",
       "    </tr>\n",
       "  </tbody>\n",
       "</table>\n",
       "</div>"
      ],
      "text/plain": [
       "    이름  국어  수학  영어\n",
       "0  홍길동  80  70  80\n",
       "2  김영희  70  90  80"
      ]
     },
     "execution_count": 224,
     "metadata": {},
     "output_type": "execute_result"
    }
   ],
   "source": [
    "# 3\n",
    "# print(df['국어'].dtype)\n",
    "df[df['국어'].astype(int) >=70]"
   ]
  },
  {
   "cell_type": "code",
   "execution_count": 91,
   "metadata": {},
   "outputs": [
    {
     "name": "stdout",
     "output_type": "stream",
     "text": [
      "평균 float64\n"
     ]
    },
    {
     "data": {
      "text/html": [
       "<div>\n",
       "<style scoped>\n",
       "    .dataframe tbody tr th:only-of-type {\n",
       "        vertical-align: middle;\n",
       "    }\n",
       "\n",
       "    .dataframe tbody tr th {\n",
       "        vertical-align: top;\n",
       "    }\n",
       "\n",
       "    .dataframe thead th {\n",
       "        text-align: right;\n",
       "    }\n",
       "</style>\n",
       "<table border=\"1\" class=\"dataframe\">\n",
       "  <thead>\n",
       "    <tr style=\"text-align: right;\">\n",
       "      <th></th>\n",
       "      <th>이름</th>\n",
       "      <th>국어</th>\n",
       "      <th>수학</th>\n",
       "      <th>영어</th>\n",
       "      <th>평균</th>\n",
       "    </tr>\n",
       "  </thead>\n",
       "  <tbody>\n",
       "    <tr>\n",
       "      <th>0</th>\n",
       "      <td>홍길동</td>\n",
       "      <td>80</td>\n",
       "      <td>70</td>\n",
       "      <td>80</td>\n",
       "      <td>77.0</td>\n",
       "    </tr>\n",
       "    <tr>\n",
       "      <th>1</th>\n",
       "      <td>박철수</td>\n",
       "      <td>60</td>\n",
       "      <td>70</td>\n",
       "      <td>80</td>\n",
       "      <td>70.0</td>\n",
       "    </tr>\n",
       "    <tr>\n",
       "      <th>2</th>\n",
       "      <td>김영희</td>\n",
       "      <td>70</td>\n",
       "      <td>90</td>\n",
       "      <td>80</td>\n",
       "      <td>80.0</td>\n",
       "    </tr>\n",
       "  </tbody>\n",
       "</table>\n",
       "</div>"
      ],
      "text/plain": [
       "    이름  국어  수학  영어    평균\n",
       "0  홍길동  80  70  80  77.0\n",
       "1  박철수  60  70  80  70.0\n",
       "2  김영희  70  90  80  80.0"
      ]
     },
     "execution_count": 91,
     "metadata": {},
     "output_type": "execute_result"
    }
   ],
   "source": [
    "# 4\n",
    "df['평균'] = (df['국어']+df['수학']+df['영어'])/3\n",
    "print('평균',df['평균'].dtype)\n",
    "df.round()"
   ]
  },
  {
   "cell_type": "code",
   "execution_count": 97,
   "metadata": {},
   "outputs": [
    {
     "data": {
      "text/html": [
       "<div>\n",
       "<style scoped>\n",
       "    .dataframe tbody tr th:only-of-type {\n",
       "        vertical-align: middle;\n",
       "    }\n",
       "\n",
       "    .dataframe tbody tr th {\n",
       "        vertical-align: top;\n",
       "    }\n",
       "\n",
       "    .dataframe thead th {\n",
       "        text-align: right;\n",
       "    }\n",
       "</style>\n",
       "<table border=\"1\" class=\"dataframe\">\n",
       "  <thead>\n",
       "    <tr style=\"text-align: right;\">\n",
       "      <th></th>\n",
       "      <th>이름</th>\n",
       "      <th>국어</th>\n",
       "      <th>수학</th>\n",
       "      <th>영어</th>\n",
       "      <th>평균</th>\n",
       "    </tr>\n",
       "  </thead>\n",
       "  <tbody>\n",
       "    <tr>\n",
       "      <th>0</th>\n",
       "      <td>홍길동</td>\n",
       "      <td>80</td>\n",
       "      <td>70</td>\n",
       "      <td>80</td>\n",
       "      <td>76.666667</td>\n",
       "    </tr>\n",
       "    <tr>\n",
       "      <th>1</th>\n",
       "      <td>박철수</td>\n",
       "      <td>60</td>\n",
       "      <td>70</td>\n",
       "      <td>80</td>\n",
       "      <td>70.000000</td>\n",
       "    </tr>\n",
       "    <tr>\n",
       "      <th>2</th>\n",
       "      <td>김영희</td>\n",
       "      <td>70</td>\n",
       "      <td>90</td>\n",
       "      <td>80</td>\n",
       "      <td>80.000000</td>\n",
       "    </tr>\n",
       "    <tr>\n",
       "      <th>3</th>\n",
       "      <td>최자바</td>\n",
       "      <td>55</td>\n",
       "      <td>96</td>\n",
       "      <td>70</td>\n",
       "      <td>77.000000</td>\n",
       "    </tr>\n",
       "  </tbody>\n",
       "</table>\n",
       "</div>"
      ],
      "text/plain": [
       "    이름  국어  수학  영어         평균\n",
       "0  홍길동  80  70  80  76.666667\n",
       "1  박철수  60  70  80  70.000000\n",
       "2  김영희  70  90  80  80.000000\n",
       "3  최자바  55  96  70  77.000000"
      ]
     },
     "execution_count": 97,
     "metadata": {},
     "output_type": "execute_result"
    }
   ],
   "source": [
    "# 5\n",
    "df.loc[3] = ('최자바',55,96,70,77)\n",
    "df"
   ]
  }
 ],
 "metadata": {
  "colab": {
   "provenance": [],
   "toc_visible": true
  },
  "kernelspec": {
   "display_name": "Python 3 (ipykernel)",
   "language": "python",
   "name": "python3"
  },
  "language_info": {
   "codemirror_mode": {
    "name": "ipython",
    "version": 3
   },
   "file_extension": ".py",
   "mimetype": "text/x-python",
   "name": "python",
   "nbconvert_exporter": "python",
   "pygments_lexer": "ipython3",
   "version": "3.13.1"
  }
 },
 "nbformat": 4,
 "nbformat_minor": 4
}
