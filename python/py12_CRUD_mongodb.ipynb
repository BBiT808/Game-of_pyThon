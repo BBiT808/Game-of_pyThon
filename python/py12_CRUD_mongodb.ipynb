{
 "cells": [
  {
   "cell_type": "code",
   "execution_count": null,
   "id": "127f0ac5-312f-4e9f-8626-4ad89d5bf917",
   "metadata": {},
   "outputs": [],
   "source": [
    "##20250409 유성쌤과 두번째 수업 !!!! 오늘은 mongodb에 대해서 배우나 봐 !!!!! 그치만 전체는 한 46번째 수업???"
   ]
  },
  {
   "cell_type": "code",
   "execution_count": 2,
   "id": "90e76314-66ee-4cee-a6d9-7a41d9cfe989",
   "metadata": {},
   "outputs": [],
   "source": [
    "#!pip install pymongo"
   ]
  },
  {
   "cell_type": "code",
   "execution_count": 5,
   "id": "75f12446-811f-4f76-ba0b-c366710df7ea",
   "metadata": {},
   "outputs": [
    {
     "name": "stdout",
     "output_type": "stream",
     "text": [
      "{'ok': 1.0}\n",
      "MongoDB 서버에 성공적으로 연결되었습니다.\n"
     ]
    }
   ],
   "source": [
    "from pymongo import MongoClient\n",
    "client = MongoClient(\"mongodb://mongodb:27017\") ## mongodb를 쓰니까 localhost대신 mongodb를 써주자 !!\n",
    "\n",
    "try:\n",
    "    print(client.admin.command('ping'))\n",
    "    print(\"MongoDB 서버에 성공적으로 연결되었습니다.\")\n",
    "except Exception as e:\n",
    "    print(\"MonggoDB 서버 연결 실패:\", e)"
   ]
  },
  {
   "cell_type": "code",
   "execution_count": 6,
   "id": "be1e8daf-1a05-486c-a50c-f4db9ac73566",
   "metadata": {},
   "outputs": [
    {
     "name": "stdout",
     "output_type": "stream",
     "text": [
      "사용할 데이터베이스 선택됨\n",
      "사용할 컬렉션 선택됨\n"
     ]
    }
   ],
   "source": [
    "# 사용할 데이터베이스 선택\n",
    "db = client[\"mdb\"]\n",
    "print(\"사용할 데이터베이스 선택됨\")\n",
    "\n",
    "# 사용할 컬렉션 선택\n",
    "collection = db[\"c1\"]\n",
    "print(\"사용할 컬렉션 선택됨\")"
   ]
  },
  {
   "cell_type": "code",
   "execution_count": 7,
   "id": "15d8967a-b451-4c98-9ed7-a86310f75329",
   "metadata": {},
   "outputs": [
    {
     "name": "stdout",
     "output_type": "stream",
     "text": [
      "Inserted ID:  InsertOneResult(ObjectId('67f5ded476106471240d61ab'), acknowledged=True)\n"
     ]
    }
   ],
   "source": [
    "# 단일 문서 삽입\n",
    "user = {\"name\":\"Alice\",\"age\":25,\"city\":\"Seoul\"}\n",
    "insert_result = collection.insert_one(user)\n",
    "print(\"Inserted ID: \", insert_result)"
   ]
  },
  {
   "cell_type": "code",
   "execution_count": 8,
   "id": "317b8828-1cba-49be-a4b8-5857dea565ae",
   "metadata": {},
   "outputs": [
    {
     "name": "stdout",
     "output_type": "stream",
     "text": [
      "Inserted IDs: InsertManyResult([ObjectId('67f5e00a76106471240d61ac'), ObjectId('67f5e00a76106471240d61ad'), ObjectId('67f5e00a76106471240d61ae')], acknowledged=True)\n"
     ]
    }
   ],
   "source": [
    "# 여러개 문서 삽입\n",
    "user = [\n",
    "    {\"name\":\"Bob\",\"age\":30,\"city\":\"Busan\"},\n",
    "    {\"name\":\"Chile\",\"age\":35,\"city\":\"Incheon\"},\n",
    "    {\"name\":\"Apple\",\"age\":15,\"city\":\"Daegu\"}]\n",
    "insert_results = collection.insert_many(user)\n",
    "print(\"Inserted IDs:\", insert_results)"
   ]
  },
  {
   "cell_type": "code",
   "execution_count": 21,
   "id": "7ac7a71a-b2e9-44f0-9a67-f98b244cca1e",
   "metadata": {},
   "outputs": [
    {
     "name": "stdout",
     "output_type": "stream",
     "text": [
      "{'_id': ObjectId('67f5cb2b6c0c5ed78a6b140c'), 'name': 'superman', 'etc': '힘쌤'}\n",
      "{'_id': ObjectId('67f5cbb66c0c5ed78a6b140e'), 'name': 'cutegirl', 'age': 20, 'gender': 'female'}\n",
      "{'_id': ObjectId('67f5e00a76106471240d61ac'), 'name': 'Bob', 'age': 30, 'city': 'Busan'}\n"
     ]
    }
   ],
   "source": [
    "users = collection.find()\n",
    "for u in users:\n",
    "    print(u)"
   ]
  },
  {
   "cell_type": "code",
   "execution_count": 12,
   "id": "f20d7f3f-e285-493f-bfcd-690e7bf533e5",
   "metadata": {},
   "outputs": [
    {
     "name": "stdout",
     "output_type": "stream",
     "text": [
      "{'name': 'Apple', 'age': 15, 'city': 'Daegu'}\n"
     ]
    }
   ],
   "source": [
    "# 단일 문서 조회\n",
    "user = collection.find_one({\"name\":\"Apple\"}, {\"_id\":0})\n",
    "print(user)"
   ]
  },
  {
   "cell_type": "code",
   "execution_count": 13,
   "id": "817123b8-820e-49e1-a1e5-e9c877b5bee6",
   "metadata": {},
   "outputs": [
    {
     "name": "stdout",
     "output_type": "stream",
     "text": [
      "{'name': 'Alice', 'age': 25, 'city': 'Seoul'}\n",
      "{'name': 'Bob', 'age': 30, 'city': 'Busan'}\n",
      "{'name': 'Chile', 'age': 35, 'city': 'Incheon'}\n"
     ]
    }
   ],
   "source": [
    "# 특정 조건을 만족하는 문서 조회\n",
    "filters = {\"age\":{\"$gt\":20}} # 나이가 20보다 큰 문서 찾기 !!\n",
    "filtered = collection.find(filters, {\"_id\":0})\n",
    "for f in filtered:\n",
    "    print(f)"
   ]
  },
  {
   "cell_type": "code",
   "execution_count": 16,
   "id": "f4b6b539-db7e-4c2c-b900-2754991010b0",
   "metadata": {},
   "outputs": [
    {
     "name": "stdout",
     "output_type": "stream",
     "text": [
      "수정됨 : UpdateResult({'n': 1, 'nModified': 1, 'ok': 1.0, 'updatedExisting': True}, acknowledged=True)\n"
     ]
    }
   ],
   "source": [
    "# 특정 문서 한 개 수정\n",
    "update = collection.update_one({\"name\":\"Alice\"}, {\"$set\":{\"age\":26}})\n",
    "print(\"수정됨 :\", update)"
   ]
  },
  {
   "cell_type": "code",
   "execution_count": 17,
   "id": "2f92567e-d47d-483a-9785-9cf775852708",
   "metadata": {},
   "outputs": [
    {
     "name": "stdout",
     "output_type": "stream",
     "text": [
      "수정됨s : UpdateResult({'n': 2, 'nModified': 2, 'ok': 1.0, 'updatedExisting': True}, acknowledged=True)\n"
     ]
    }
   ],
   "source": [
    "# 특정 문서 여러개 수정\n",
    "updates = collection.update_many({\"name\":{\"$regex\": \"^A\"}},{\"$inc\":{\"age\":5}}) ## 이름이 A인 사람의 나이를 5살씩 증가시켜줘!\n",
    "# updates = collection.update_many({\"name\":\"\\/^A\\/\"},{\"$inc\":{\"age\":5}})\n",
    "print(\"수정됨s :\", updates)"
   ]
  },
  {
   "cell_type": "code",
   "execution_count": 18,
   "id": "194bf6ef-5ec3-4c16-917a-e47a42231ae7",
   "metadata": {},
   "outputs": [
    {
     "name": "stdout",
     "output_type": "stream",
     "text": [
      "DeleteResult({'n': 1, 'ok': 1.0}, acknowledged=True)\n"
     ]
    }
   ],
   "source": [
    "# 특정 문서 한 개 삭제 !!\n",
    "deletes = collection.delete_one({\"etc\":\"잘생김\"})\n",
    "print(deletes)"
   ]
  },
  {
   "cell_type": "code",
   "execution_count": 20,
   "id": "375454a2-daac-4d68-b3cf-a827a87f393c",
   "metadata": {},
   "outputs": [
    {
     "name": "stdout",
     "output_type": "stream",
     "text": [
      "DeleteResult({'n': 0, 'ok': 1.0}, acknowledged=True)\n"
     ]
    }
   ],
   "source": [
    "# 특정 문서 여러 개 삭제 !!\n",
    "deletes = collection.delete_many({\"name\":{\"$regex\": \"e$\"}}) # 정규식으로 e로 끝나는 이름을 모두 삭제\n",
    "print(deletes)"
   ]
  },
  {
   "cell_type": "code",
   "execution_count": 31,
   "id": "15cdfb93-e8b0-47ff-83b4-f2ed72e84438",
   "metadata": {},
   "outputs": [],
   "source": [
    "import json\n",
    "\n",
    "with open('./data ref/photo.json') as f:\n",
    "    data = json.load(f)"
   ]
  },
  {
   "cell_type": "code",
   "execution_count": 30,
   "id": "d03b6dbc-7e6c-45e2-8afc-789e7dedf559",
   "metadata": {},
   "outputs": [
    {
     "name": "stdout",
     "output_type": "stream",
     "text": [
      "사용할 데이터베이스 선택됨\n",
      "사용할 컬렉션 선택됨\n"
     ]
    }
   ],
   "source": [
    "# 사용할 데이터베이스 선택\n",
    "db = client[\"jdb\"]\n",
    "print(\"사용할 데이터베이스 선택됨\")\n",
    "\n",
    "# 사용할 컬렉션 선택\n",
    "collection2 = db[\"j1\"]\n",
    "print(\"사용할 컬렉션 선택됨\")"
   ]
  },
  {
   "cell_type": "code",
   "execution_count": 32,
   "id": "da0cdc4b-ecf8-4b01-9efa-dfeb5c602304",
   "metadata": {},
   "outputs": [
    {
     "name": "stdout",
     "output_type": "stream",
     "text": [
      "로드완료\n"
     ]
    }
   ],
   "source": [
    "collection2.insert_many(data)\n",
    "print(\"로드완료\")"
   ]
  },
  {
   "cell_type": "code",
   "execution_count": 33,
   "id": "92085744-77fc-491f-874a-898b15cac929",
   "metadata": {},
   "outputs": [
    {
     "name": "stdout",
     "output_type": "stream",
     "text": [
      "https://via.placeholder.com/600/92c952\n",
      "https://via.placeholder.com/600/771796\n",
      "https://via.placeholder.com/600/24f355\n",
      "https://via.placeholder.com/600/d32776\n",
      "https://via.placeholder.com/600/f66b97\n",
      "https://via.placeholder.com/600/56a8c2\n",
      "https://via.placeholder.com/600/b0f7cc\n",
      "https://via.placeholder.com/600/54176f\n",
      "https://via.placeholder.com/600/51aa97\n",
      "https://via.placeholder.com/600/810b14\n",
      "https://via.placeholder.com/600/1ee8a4\n",
      "https://via.placeholder.com/600/66b7d2\n",
      "https://via.placeholder.com/600/197d29\n",
      "https://via.placeholder.com/600/61a65\n",
      "https://via.placeholder.com/600/f9cee5\n",
      "https://via.placeholder.com/600/fdf73e\n",
      "https://via.placeholder.com/600/9c184f\n",
      "https://via.placeholder.com/600/1fe46f\n",
      "https://via.placeholder.com/600/56acb2\n",
      "https://via.placeholder.com/600/8985dc\n",
      "https://via.placeholder.com/600/5e12c6\n",
      "https://via.placeholder.com/600/45601a\n",
      "https://via.placeholder.com/600/e924e6\n",
      "https://via.placeholder.com/600/8f209a\n",
      "https://via.placeholder.com/600/5e3a73\n",
      "https://via.placeholder.com/600/474645\n",
      "https://via.placeholder.com/600/c984bf\n",
      "https://via.placeholder.com/600/392537\n",
      "https://via.placeholder.com/600/602b9e\n",
      "https://via.placeholder.com/600/92c952\n",
      "https://via.placeholder.com/600/771796\n",
      "https://via.placeholder.com/600/24f355\n",
      "https://via.placeholder.com/600/d32776\n",
      "https://via.placeholder.com/600/f66b97\n",
      "https://via.placeholder.com/600/56a8c2\n",
      "https://via.placeholder.com/600/b0f7cc\n",
      "https://via.placeholder.com/600/54176f\n",
      "https://via.placeholder.com/600/51aa97\n",
      "https://via.placeholder.com/600/810b14\n",
      "https://via.placeholder.com/600/1ee8a4\n",
      "https://via.placeholder.com/600/66b7d2\n",
      "https://via.placeholder.com/600/197d29\n",
      "https://via.placeholder.com/600/61a65\n",
      "https://via.placeholder.com/600/f9cee5\n",
      "https://via.placeholder.com/600/fdf73e\n",
      "https://via.placeholder.com/600/9c184f\n",
      "https://via.placeholder.com/600/1fe46f\n",
      "https://via.placeholder.com/600/56acb2\n",
      "https://via.placeholder.com/600/8985dc\n",
      "https://via.placeholder.com/600/5e12c6\n",
      "https://via.placeholder.com/600/45601a\n",
      "https://via.placeholder.com/600/e924e6\n",
      "https://via.placeholder.com/600/8f209a\n",
      "https://via.placeholder.com/600/5e3a73\n",
      "https://via.placeholder.com/600/474645\n",
      "https://via.placeholder.com/600/c984bf\n",
      "https://via.placeholder.com/600/392537\n",
      "https://via.placeholder.com/600/602b9e\n"
     ]
    }
   ],
   "source": [
    "# id가 30 이하인 문서의 url만을 출력하라\n",
    "out = collection2.find({\n",
    "    'id':{\n",
    "        '$lt' : 30\n",
    "    }\n",
    "})\n",
    "\n",
    "for o in out:\n",
    "    print(o[\"url\"])"
   ]
  }
 ],
 "metadata": {
  "kernelspec": {
   "display_name": "Python 3 (ipykernel)",
   "language": "python",
   "name": "python3"
  },
  "language_info": {
   "codemirror_mode": {
    "name": "ipython",
    "version": 3
   },
   "file_extension": ".py",
   "mimetype": "text/x-python",
   "name": "python",
   "nbconvert_exporter": "python",
   "pygments_lexer": "ipython3",
   "version": "3.10.12"
  }
 },
 "nbformat": 4,
 "nbformat_minor": 5
}
