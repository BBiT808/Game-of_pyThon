{
 "cells": [
  {
   "cell_type": "code",
   "execution_count": null,
   "id": "64357f9f-6775-421a-9883-8b39eaeccc2c",
   "metadata": {},
   "outputs": [],
   "source": [
    "# 20250224 갸아아아악 16번째 수업이야 !!!!! 갸아아아아악"
   ]
  },
  {
   "cell_type": "code",
   "execution_count": null,
   "id": "912a8504-3869-4b22-9d88-9a6f95fdf1cd",
   "metadata": {},
   "outputs": [],
   "source": [
    "# 오늘 한 것 - github랑 pkteam03 서버와 연결하기.\n",
    "# 텔레그램 차단당하기\n",
    "# 인증서 어쩌구 해서 들어갈 때 비밀번호 안 쳐도 되기\n",
    "# git hub에 가지 만들어서 main에 병합하다가 망하기."
   ]
  },
  {
   "cell_type": "code",
   "execution_count": null,
   "id": "7b478ea0-5ace-4b5a-ab4c-0692195b77ff",
   "metadata": {},
   "outputs": [],
   "source": [
    "# 20250225 ... 17번째 수업은.... 여러분을 위한.....어쩌구. ((((대 상 혁))))"
   ]
  },
  {
   "cell_type": "code",
   "execution_count": null,
   "id": "8de00ec5-a09f-477a-b1bd-6c1626ab5264",
   "metadata": {},
   "outputs": [],
   "source": [
    "# Colaboratory(chrome) : 코랩!!"
   ]
  },
  {
   "cell_type": "code",
   "execution_count": 2,
   "id": "ac62ae3d-a828-4da7-b69f-2a8cb9869ae6",
   "metadata": {},
   "outputs": [],
   "source": [
    "#!pip install google-generativeai"
   ]
  },
  {
   "cell_type": "code",
   "execution_count": 3,
   "id": "88302650-2a26-4aca-aee7-f3eba5d961aa",
   "metadata": {},
   "outputs": [],
   "source": [
    "#!pip install -q -U google-genai"
   ]
  },
  {
   "cell_type": "code",
   "execution_count": 13,
   "id": "24d5bee1-c20f-4b66-b048-a29d3acf9e5a",
   "metadata": {},
   "outputs": [],
   "source": [
    "#!pip install --upgrade google_generativeai"
   ]
  },
  {
   "cell_type": "code",
   "execution_count": 14,
   "id": "4ce41d6f-505e-403b-bb0a-eca6cc83cd08",
   "metadata": {},
   "outputs": [
    {
     "name": "stdout",
     "output_type": "stream",
     "text": [
      "Pandas는 Python에서 데이터를 효율적으로 다루고 분석하기 위한 핵심 라이브러리입니다. \n",
      "\n",
      "**핵심 기능:**\n",
      "\n",
      "*   **데이터 구조:** \n",
      "    *   **Series:** 1차원 배열 형태. \n",
      "    *   **DataFrame:** 2차원 테이블 형태 (Excel 시트와 유사). Series들이 합쳐진 형태라고 생각하면 쉽습니다.\n",
      "\n",
      "*   **데이터 처리:**\n",
      "    *   데이터 읽기/쓰기 (CSV, Excel, SQL 등 다양한 형식 지원)\n",
      "    *   데이터 정제 (결측치 처리, 중복 제거)\n",
      "    *   데이터 변환 (필터링, 정렬, 그룹핑, 피벗 테이블)\n",
      "    *   데이터 분석 (통계, 시각화)\n",
      "\n",
      "**강점:**\n",
      "\n",
      "*   유연하고 강력한 데이터 처리 능력\n",
      "*   다양한 데이터 형식 지원\n",
      "*   NumPy와 Matplotlib 등 다른 Python 라이브러리와의 호환성\n",
      "\n",
      "Pandas는 데이터 분석, 머신러닝 등 다양한 분야에서 활용되며, 데이터 핸들링 능력을 향상시키는 데 필수적인 도구입니다.\n",
      "\n"
     ]
    }
   ],
   "source": [
    "from google import genai\n",
    "from dotenv import load_dotenv\n",
    "import os\n",
    "load_dotenv()\n",
    "\n",
    "def aiai(text):\n",
    "    client = genai.Client(api_key=os.getenv(\"GOOGLE_GEMINI_KEY\"))\n",
    "    response = client.models.generate_content(model=\"gemini-2.0-flash\",contents=text + \"; 단, 400자 이내 그리고 서술형으로 친절하게 알려줘.\")\n",
    "    answer = response.text\n",
    "    print(answer)\n",
    "    return answer\n",
    "\n",
    "aiai(\"pandas에 대해서 궁금해\")\n"
   ]
  },
  {
   "cell_type": "code",
   "execution_count": null,
   "id": "8d5adb73-c870-495c-91ad-96540af48057",
   "metadata": {},
   "outputs": [],
   "source": []
  }
 ],
 "metadata": {
  "kernelspec": {
   "display_name": "Python 3 (ipykernel)",
   "language": "python",
   "name": "python3"
  },
  "language_info": {
   "codemirror_mode": {
    "name": "ipython",
    "version": 3
   },
   "file_extension": ".py",
   "mimetype": "text/x-python",
   "name": "python",
   "nbconvert_exporter": "python",
   "pygments_lexer": "ipython3",
   "version": "3.13.1"
  }
 },
 "nbformat": 4,
 "nbformat_minor": 5
}
