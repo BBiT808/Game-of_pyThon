{
 "cells": [
  {
   "cell_type": "code",
   "execution_count": null,
   "id": "f98a39fb-5063-4308-9cd6-3cc8da8a8e68",
   "metadata": {},
   "outputs": [],
   "source": [
    "# 20250415 필기 ??"
   ]
  },
  {
   "cell_type": "code",
   "execution_count": null,
   "id": "dc7c9b20-0fc3-472f-93b7-60a984eba532",
   "metadata": {},
   "outputs": [],
   "source": [
    "# xml 형식!! : <property> d:code/config.... </property>\n",
    "# yml 형식 !!\n",
    "#  - name: d:code/config.... ; 들여쓰기가 있음 !!!\n",
    "service:\n",
    "  namenode:\n",
    "    image: eh-hdfs:1.0\n",
    "    container_name: namenode\n",
    "    command : bash -c \"service ssh start&& chown -R hadoop:hadoop /data/hadoop && && chmod -R 777\"\n",
    "                                            ㄴ 폴더에 권한을 주기 위함 !! //  / data : 공백 안 넣게 주의 !!! 잘못하면 실행이 안 됨 ㅠ\n",
    "\n",
    "이거하고 docker compose up -d 하면 컨테이너 만들어짐 ~~ 와 최고!\n",
    "참고로 dockerfile은 선생님 서버에서 긁어옴 ^_^"
   ]
  },
  {
   "cell_type": "code",
   "execution_count": null,
   "id": "3c2836b7-c7a0-4e20-97c6-569efdc84fc5",
   "metadata": {},
   "outputs": [],
   "source": [
    "ssh-keygen -t rsa\n",
    "\n",
    "id_rsa id_rsa.pub ; 저 위의 명령어를 실행하면 밑의 폴더가 생김 !!!\n",
    "\n",
    "***ssh-copy-id hadoop@namenode ; 본인에게도 공개키를 나눠줘야함 !!!\n",
    "\n",
    "ssh-copy-id hadoop@datanode1\n",
    "ssh-copy-id hadoop@datanode2\n",
    "ssh-copy-id hadoop@datanode3"
   ]
  },
  {
   "cell_type": "code",
   "execution_count": null,
   "id": "42d877b9-cbe5-45ca-93ad-5e0497f7d7a2",
   "metadata": {},
   "outputs": [],
   "source": [
    "~$의 기본 폴더에서 nano .bashrc를 치고 맨 밑에 입력할 것 !!\n",
    ": 이건 윈도우의 환경변수를 입력해주는 것과 같은 거야~~!\n",
    "\n",
    "export JAVA_HOME=/usr/lib/jvm/java-8-openjdk-amd64\n",
    "export HADOOP_HOME=/home/hadoop/hadoop-3.4.1\n",
    "export HADOOP_CONF_DIR=$HADOOP_HOME/etc/hadoop\n",
    "export PATH=$PATH:$JAVA_HOME:$HADOOP_HOME/bin:$HADOOP_HOME/sbin"
   ]
  },
  {
   "cell_type": "code",
   "execution_count": null,
   "id": "943c2ed6-4465-415f-a966-5fed38e3eeaf",
   "metadata": {},
   "outputs": [],
   "source": [
    "admin. ssh를 수정했을때, \n",
    "VScode의 왼쪽 아래에 보면 >< 되어있는 아이콘을 클릭 !! 해서 \n",
    "호스트에 연결을 선택!!\n",
    "호스트 구성을 눌러 C:\\Users\\Admin\\.ssh\\config 선택 !!!!\n",
    "\n",
    "Host hadoop_ssh\n",
    "    HostName localhost\n",
    "    Port 2220\n",
    "    User hadoop\n",
    "\n",
    "요렇게 수정한 이후,\n",
    "다시 왼쪽아래의 ><를 눌러서 호스트에 현재창 연결 선택 !!! 암호 누르고\n",
    "탐색기의 폴더열기를 눌러서 폴더 경로 /home/hadoop 그대로 확인 눌러!!!\n",
    "이후 HADOOP의 etc에 core-site.xml를 수정하면 됨 ~~\n",
    "<configuration>\n",
    "  <property>\n",
    "    <name>fs.defaultFS</name>\n",
    "    <value>hdfs://namenode:9000</value>\n",
    "  </property>\n",
    "  <property>\n",
    "    <name>hadoop.tmp.dir</name>\n",
    "    <value>/data/hadoop/tmp</value>\n",
    "  </property> \n",
    "</configuration>\n",
    "; configuration 사이에 property 추가 !!!"
   ]
  }
 ],
 "metadata": {
  "kernelspec": {
   "display_name": "Python 3 (ipykernel)",
   "language": "python",
   "name": "python3"
  },
  "language_info": {
   "codemirror_mode": {
    "name": "ipython",
    "version": 3
   },
   "file_extension": ".py",
   "mimetype": "text/x-python",
   "name": "python",
   "nbconvert_exporter": "python",
   "pygments_lexer": "ipython3",
   "version": "3.13.1"
  }
 },
 "nbformat": 4,
 "nbformat_minor": 5
}
