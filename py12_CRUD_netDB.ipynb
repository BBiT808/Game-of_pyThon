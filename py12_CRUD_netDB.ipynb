{
 "cells": [
  {
   "cell_type": "code",
   "execution_count": null,
   "id": "97986e68-2d31-4d65-b325-3d2d089ca84b",
   "metadata": {},
   "outputs": [],
   "source": [
    "### 20250410 유성쌤과 다시 돌아온 3번째 수업~~~ ^_^ 오늘도 여전히 CRUD"
   ]
  },
  {
   "cell_type": "code",
   "execution_count": 46,
   "id": "3f287426-dd65-41f3-9db4-e59a5a159ad1",
   "metadata": {},
   "outputs": [
    {
     "name": "stdout",
     "output_type": "stream",
     "text": [
      "MySQL 서버1에 성공적으로 연결되었습니다.\n",
      "MySQL 서버2에 성공적으로 연결되었습니다.\n",
      "연결중 ...\n"
     ]
    }
   ],
   "source": [
    "import mysql.connector\n",
    "\n",
    "try:\n",
    "    conn1 = mysql.connector.connect(\n",
    "        host = \"mysql\", # MySQL 서버 주소 !\n",
    "        user = \"root\",\n",
    "        password = \"1234\"\n",
    "    )\n",
    "    conn2 = mysql.connector.connect(\n",
    "        host = \"210.119.14.66\", # 정민쓰 MySQL 서버 주소 !\n",
    "        user = \"root\",\n",
    "        password = \"1234\"\n",
    "    )\n",
    "    if conn1.is_connected():\n",
    "        print(\"MySQL 서버1에 성공적으로 연결되었습니다.\")\n",
    "    if conn2.is_connected():\n",
    "        print(\"MySQL 서버2에 성공적으로 연결되었습니다.\")\n",
    "except mysql.connerctor.Erroar as err:\n",
    "    print(\"MySQL 연결 실패 !\", err)\n",
    "finally:\n",
    "    if all([conn1.is_connected(),conn2.is_connected()]):\n",
    "        print(\"연결중 ...\")"
   ]
  },
  {
   "cell_type": "code",
   "execution_count": 47,
   "id": "2485a43e-e8b9-4404-9046-81af3e554134",
   "metadata": {},
   "outputs": [],
   "source": [
    "# 커서 생성\n",
    "cursor1 = conn1.cursor()\n",
    "cursor2 = conn2.cursor()\n",
    "que = \"CREATE DATABASE IF NOT EXISTS ehdb\"\n",
    "cursor1.execute(que)\n",
    "cursor2.execute(que)\n",
    "conn1.close()\n",
    "conn2.close()"
   ]
  },
  {
   "cell_type": "code",
   "execution_count": 48,
   "id": "b10abbc4-89c2-4ab6-b039-b2b221337ec9",
   "metadata": {},
   "outputs": [
    {
     "name": "stdout",
     "output_type": "stream",
     "text": [
      "MySQL 연결 성공 !\n"
     ]
    }
   ],
   "source": [
    "# MySQL에 연결\n",
    "conn1 = mysql.connector.connect(\n",
    "        host = \"mysql\", # MySQL 서버주소\n",
    "        user = \"root\",\n",
    "        password =\"1234\",\n",
    "        database = \"ehdb\" # 사용할 데이터베이스 !\n",
    ")\n",
    "conn2 = mysql.connector.connect(\n",
    "        host = \"210.119.14.66\", # MySQL 서버주소\n",
    "        user = \"root\",\n",
    "        password =\"1234\",\n",
    "        database = \"ehdb\" # 사용할 데이터베이스 !\n",
    ")\n",
    "cursor1 = conn1.cursor()\n",
    "cursor2 = conn2.cursor()\n",
    "print(\"MySQL 연결 성공 !\")"
   ]
  },
  {
   "cell_type": "code",
   "execution_count": 49,
   "id": "52f5e1c7-d435-432b-bf3b-bd2b88d30f13",
   "metadata": {},
   "outputs": [
    {
     "name": "stdout",
     "output_type": "stream",
     "text": [
      "테이블 생성 완료 !\n"
     ]
    }
   ],
   "source": [
    "# 테이블 생성\n",
    "query = \"CREATE TABLE IF NOT EXISTS user(id INT AUTO_INCREMENT PRIMARY KEY, name VARCHAR(50), age INT, city VARCHAR(50))\"\n",
    "cursor1.execute(query)\n",
    "cursor2.execute(query)\n",
    "print(\"테이블 생성 완료 !\")"
   ]
  },
  {
   "cell_type": "code",
   "execution_count": 56,
   "id": "e4193fb9-4af3-4d84-a532-6d8c7b45432a",
   "metadata": {},
   "outputs": [
    {
     "name": "stdout",
     "output_type": "stream",
     "text": [
      "여러 개의 데이터 삽입 완료 !\n"
     ]
    }
   ],
   "source": [
    "# 여러 개의 데이터 삽입 !!\n",
    "sql = \"INSERT INTO user (name, age, city) VALUES (%s, %s, %s)\"\n",
    "m_values = [(\"햄쮜땃쮜\", 1, \"Busan\"), (\"까미까미\", 8, \"Incheon\"), (\"바둑바둑쓰\", 2, \"Jeju\")]\n",
    "cursor1.executemany(sql, m_values)\n",
    "cursor2.executemany(sql, m_values)\n",
    "conn1.commit()\n",
    "conn2.commit()\n",
    "print(\"여러 개의 데이터 삽입 완료 !\")"
   ]
  },
  {
   "cell_type": "code",
   "execution_count": 37,
   "id": "85fa15eb-2ffc-4304-aa40-71ec56dcb451",
   "metadata": {},
   "outputs": [
    {
     "name": "stdout",
     "output_type": "stream",
     "text": [
      "['Coolboy']에 해당하는 목록을 삭제하였습니다 ! \n"
     ]
    }
   ],
   "source": [
    "# 특정 사용자 삭제\n",
    "que = \"DELETE FROM user WHERE name = %s\"\n",
    "filters = [\"Coolboy\"]\n",
    "cursor1.execute(que, filters)\n",
    "cursor2.execute(que, filters)\n",
    "conn1.commit()\n",
    "conn2.commit()\n",
    "print(f\"{filters}에 해당하는 목록을 삭제하였습니다 ! \")"
   ]
  },
  {
   "cell_type": "code",
   "execution_count": 54,
   "id": "5f00ce96-aa1e-44f2-84ed-120f59eebdac",
   "metadata": {},
   "outputs": [
    {
     "name": "stdout",
     "output_type": "stream",
     "text": [
      "user 테이블의 모든 데이터를 삭제하였습니다!\n"
     ]
    }
   ],
   "source": [
    "# 모든 사용자 삭제 !!\n",
    "que = \"DELETE FROM ehdb.user\"\n",
    "cursor1.execute(que)\n",
    "cursor2.execute(que)\n",
    "conn1.commit()\n",
    "conn2.commit()\n",
    "print(\"user 테이블의 모든 데이터를 삭제하였습니다!\")"
   ]
  },
  {
   "cell_type": "code",
   "execution_count": 57,
   "id": "d0fe2275-6ef0-4281-9f3e-6508b51b1d61",
   "metadata": {},
   "outputs": [
    {
     "name": "stdout",
     "output_type": "stream",
     "text": [
      "----서버1의 내용----\n",
      "(28, '햄쮜땃쮜', 1, 'Busan')\n",
      "(29, '까미까미', 8, 'Incheon')\n",
      "(30, '바둑바둑쓰', 2, 'Jeju')\n",
      "----서버2의 내용----\n",
      "(4, '햄쮜땃쮜', 1, 'Busan')\n",
      "(5, '까미까미', 8, 'Incheon')\n",
      "(6, '바둑바둑쓰', 2, 'Jeju')\n"
     ]
    }
   ],
   "source": [
    "# 모든 데이터 조회\n",
    "que = \"SELECT * FROM user\"\n",
    "cursor1.execute(que)\n",
    "users1 = cursor1.fetchall()\n",
    "cursor2.execute(que)\n",
    "users2 = cursor2.fetchall()\n",
    "\n",
    "# print(users)\n",
    "print(\"----서버1의 내용----\")\n",
    "for user1 in users1:\n",
    "    print(user1)\n",
    "print(\"----서버2의 내용----\")\n",
    "for user2 in users2:\n",
    "    print(user2)"
   ]
  },
  {
   "cell_type": "code",
   "execution_count": null,
   "id": "73c4de2b-ef08-45c0-983d-58bc95050492",
   "metadata": {},
   "outputs": [],
   "source": []
  }
 ],
 "metadata": {
  "kernelspec": {
   "display_name": "Python 3 (ipykernel)",
   "language": "python",
   "name": "python3"
  },
  "language_info": {
   "codemirror_mode": {
    "name": "ipython",
    "version": 3
   },
   "file_extension": ".py",
   "mimetype": "text/x-python",
   "name": "python",
   "nbconvert_exporter": "python",
   "pygments_lexer": "ipython3",
   "version": "3.10.12"
  }
 },
 "nbformat": 4,
 "nbformat_minor": 5
}
