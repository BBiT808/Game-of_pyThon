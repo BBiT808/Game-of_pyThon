{
 "cells": [
  {
   "cell_type": "code",
   "execution_count": null,
   "id": "6f35ed0d-0466-444d-9624-696949d7cc93",
   "metadata": {},
   "outputs": [],
   "source": [
    "### 20250418 크롤링 수업 계속 !!!!!!!!"
   ]
  },
  {
   "cell_type": "code",
   "execution_count": 4,
   "id": "17e89898-8970-405b-a9a8-be04100129ec",
   "metadata": {},
   "outputs": [],
   "source": [
    "from selenium import webdriver\n",
    "from selenium.webdriver.chrome.service import Service\n",
    "from selenium.webdriver.common.keys import Keys\n",
    "from selenium.webdriver.chrome.options import Options\n",
    "from selenium.webdriver.support.ui import Select, WebDriverWait\n",
    "from selenium.webdriver.support import expected_conditions as EC\n",
    "from selenium.webdriver.common.by import By\n",
    "import time\n",
    "import re\n",
    "from bs4 import BeautifulSoup as bs\n",
    "import pandas as pd\n",
    "from hdfs import InsecureClient\n",
    "from datetime import datetime # datetime 모듈 임포트"
   ]
  },
  {
   "cell_type": "code",
   "execution_count": 7,
   "id": "2f2e9801-190f-45c9-9a99-bce977ac0c96",
   "metadata": {},
   "outputs": [
    {
     "name": "stdout",
     "output_type": "stream",
     "text": [
      "로그인 시도 아이디/ 비밀번호 !\n",
      "확인 및 이동!\n"
     ]
    }
   ],
   "source": [
    "# Chrome 옵션 설정\n",
    "options = Options()\n",
    "options.binary_location = \".\\\\chrome-win64\\\\chrome.exe\" # chrome 경로 설정\n",
    "options.add_argument(\"--no-sandbox\") # sandbox 설정\n",
    "# options.add_argument(\"--headless=new\")  # 헤드리스\n",
    "options.add_argument(\"--disable-dev-shm-usage\") # 공유메모리 설정\n",
    "options.add_argument(\"--window-size=1920,1080\") # 화면크기설정 , 반응형 웹 대비\n",
    "options.add_argument(\"--user-agent=Mozilla/5.0 (Windows NT 10.0; Win64; x64) AppleWebKit/537.36 (KHTML, like Gecko) Chrome/113.0.5672.126 Safari/537.36\")\n",
    "# options.add_argument(\"--disable-gpu\") # GPU 비활성화\n",
    "\n",
    "# ChromeDriver 설정\n",
    "service = Service(\"chromedriver.exe\")\n",
    "driver = webdriver.Chrome(service=service, options=options)\n",
    "driver.get(\"https://www.instagram.com/\")\n",
    "print(driver.title)\n",
    "time.sleep(4) # 페이지 로드 기다림\n",
    "\n",
    "email = 'witch1031031@gmail.com'\n",
    "passwd = 'HELLONEWME10@'\n",
    "print(\"로그인시도 아이디/비밀번호 입력 !!!\")\n",
    "\n",
    "# 아이디(이메일) 기입\n",
    "input_id = driver.find_element(By.CSS_SELECTOR, \"#loginForm > div.x9f619.xjbqb8w.x78zum5.x168nmei.x13lgxp2.x5pf9jr.xo71vjh.xqui205.x1n2onr6.x1plvlek.xryxfnj.x1c4vz4f.x2lah0s.xdt5ytf.xqjyukv.x1qjc9v5.x1oa3qoh.x1nhvcw1 > div:nth-child(1) > div > label > input\")\n",
    "input_id.clear()\n",
    "time.sleep(1)\n",
    "input_id.send_keys(email)\n",
    "time.sleep(2)\n",
    "\n",
    "# 비번 기입\n",
    "input_pw = driver.find_element(By.CSS_SELECTOR, \"#loginForm > div.x9f619.xjbqb8w.x78zum5.x168nmei.x13lgxp2.x5pf9jr.xo71vjh.xqui205.x1n2onr6.x1plvlek.xryxfnj.x1c4vz4f.x2lah0s.xdt5ytf.xqjyukv.x1qjc9v5.x1oa3qoh.x1nhvcw1 > div:nth-child(2) > div > label > input\") \n",
    "input_pw.clear()\n",
    "input_pw.send_keys(passwd)\n",
    "time.sleep(2)\n",
    "print(\"아이디 및 비번입력완료!! ^_^\")\n",
    "\n",
    "# 학인 및 이동\n",
    "submit = driver.find_element(By.CSS_SELECTOR, \"#loginForm > div.x9f619.xjbqb8w.x78zum5.x168nmei.x13lgxp2.x5pf9jr.xo71vjh.xqui205.x1n2onr6.x1plvlek.xryxfnj.x1c4vz4f.x2lah0s.xdt5ytf.xqjyukv.x1qjc9v5.x1oa3qoh.x1nhvcw1 > div:nth-child(3)\")\n",
    "submit.click()\n",
    "print(\"확인 및 이동하겠습니다~\")\n",
    "time.sleep(5)\n",
    "\n",
    "try:\n",
    "    popup = driver.find_element(By.CSS_SELECTOR, \"div.x1gryazu.xh8yej3.x10o80wk.x14k21rp.x17snn68.x6osk4m.x1porb0y.x8vgawa > section > main > div > div > div > div\")\n",
    "    popup.click()\n",
    "    time.sleep(3)\n",
    "except:    \n",
    "    pass\n",
    "\n",
    "def insta_search(inword):\n",
    "    url_ori = f\"https://www.instagram.com/explore/search/keyword/?q={inword}\"\n",
    "    return url_ori\n",
    "\n",
    "word = \"부산여행\"\n",
    "url = insta_search(word)\n",
    "driver.get(url)\n",
    "print(f\"{word}의 검색시작!!🐧\")\n",
    "time.sleep(12)\n",
    "# "
   ]
  },
  {
   "cell_type": "code",
   "execution_count": 24,
   "id": "eb7ee9a9-9b38-4dff-bd7c-8d81208984e3",
   "metadata": {},
   "outputs": [
    {
     "ename": "TimeoutException",
     "evalue": "Message: \nStacktrace:\n\tGetHandleVerifier [0x00007FF647205335+78597]\n\tGetHandleVerifier [0x00007FF647205390+78688]\n\t(No symbol) [0x00007FF646FB91AA]\n\t(No symbol) [0x00007FF64700F149]\n\t(No symbol) [0x00007FF64700F3FC]\n\t(No symbol) [0x00007FF647062467]\n\t(No symbol) [0x00007FF64703712F]\n\t(No symbol) [0x00007FF64705F2BB]\n\t(No symbol) [0x00007FF647036EC3]\n\t(No symbol) [0x00007FF6470003F8]\n\t(No symbol) [0x00007FF647001163]\n\tGetHandleVerifier [0x00007FF6474AEEED+2870973]\n\tGetHandleVerifier [0x00007FF6474A9698+2848360]\n\tGetHandleVerifier [0x00007FF6474C6973+2967875]\n\tGetHandleVerifier [0x00007FF64722017A+188746]\n\tGetHandleVerifier [0x00007FF64722845F+222255]\n\tGetHandleVerifier [0x00007FF64720D2B4+111236]\n\tGetHandleVerifier [0x00007FF64720D462+111666]\n\tGetHandleVerifier [0x00007FF6471F3589+5465]\n\tBaseThreadInitThunk [0x00007FFB7500E8D7+23]\n\tRtlUserThreadStart [0x00007FFB760F14FC+44]\n",
     "output_type": "error",
     "traceback": [
      "\u001b[1;31m---------------------------------------------------------------------------\u001b[0m",
      "\u001b[1;31mTimeoutException\u001b[0m                          Traceback (most recent call last)",
      "Cell \u001b[1;32mIn[24], line 3\u001b[0m\n\u001b[0;32m      1\u001b[0m \u001b[38;5;66;03m# 로드 결과\u001b[39;00m\n\u001b[0;32m      2\u001b[0m wait \u001b[38;5;241m=\u001b[39m WebDriverWait(driver, \u001b[38;5;241m10\u001b[39m)\n\u001b[1;32m----> 3\u001b[0m sel1 \u001b[38;5;241m=\u001b[39m \u001b[43mwait\u001b[49m\u001b[38;5;241;43m.\u001b[39;49m\u001b[43muntil\u001b[49m\u001b[43m(\u001b[49m\u001b[43mEC\u001b[49m\u001b[38;5;241;43m.\u001b[39;49m\u001b[43mpresence_of_element_located\u001b[49m\u001b[43m(\u001b[49m\u001b[43m(\u001b[49m\u001b[43mBy\u001b[49m\u001b[38;5;241;43m.\u001b[39;49m\u001b[43mID\u001b[49m\u001b[43m,\u001b[49m\u001b[43m \u001b[49m\u001b[38;5;124;43m\"\u001b[39;49m\u001b[38;5;124;43mSIGUNGU_NM0\u001b[39;49m\u001b[38;5;124;43m\"\u001b[39;49m\u001b[43m)\u001b[49m\u001b[43m)\u001b[49m\u001b[43m)\u001b[49m\n\u001b[0;32m      4\u001b[0m select_box1 \u001b[38;5;241m=\u001b[39m  Select(sel1)\n\u001b[0;32m      5\u001b[0m select_box1\u001b[38;5;241m.\u001b[39mclick()\n",
      "File \u001b[1;32m~\\AppData\\Local\\Programs\\Python\\Python313\\Lib\\site-packages\\selenium\\webdriver\\support\\wait.py:146\u001b[0m, in \u001b[0;36mWebDriverWait.until\u001b[1;34m(self, method, message)\u001b[0m\n\u001b[0;32m    144\u001b[0m         \u001b[38;5;28;01mbreak\u001b[39;00m\n\u001b[0;32m    145\u001b[0m     time\u001b[38;5;241m.\u001b[39msleep(\u001b[38;5;28mself\u001b[39m\u001b[38;5;241m.\u001b[39m_poll)\n\u001b[1;32m--> 146\u001b[0m \u001b[38;5;28;01mraise\u001b[39;00m TimeoutException(message, screen, stacktrace)\n",
      "\u001b[1;31mTimeoutException\u001b[0m: Message: \nStacktrace:\n\tGetHandleVerifier [0x00007FF647205335+78597]\n\tGetHandleVerifier [0x00007FF647205390+78688]\n\t(No symbol) [0x00007FF646FB91AA]\n\t(No symbol) [0x00007FF64700F149]\n\t(No symbol) [0x00007FF64700F3FC]\n\t(No symbol) [0x00007FF647062467]\n\t(No symbol) [0x00007FF64703712F]\n\t(No symbol) [0x00007FF64705F2BB]\n\t(No symbol) [0x00007FF647036EC3]\n\t(No symbol) [0x00007FF6470003F8]\n\t(No symbol) [0x00007FF647001163]\n\tGetHandleVerifier [0x00007FF6474AEEED+2870973]\n\tGetHandleVerifier [0x00007FF6474A9698+2848360]\n\tGetHandleVerifier [0x00007FF6474C6973+2967875]\n\tGetHandleVerifier [0x00007FF64722017A+188746]\n\tGetHandleVerifier [0x00007FF64722845F+222255]\n\tGetHandleVerifier [0x00007FF64720D2B4+111236]\n\tGetHandleVerifier [0x00007FF64720D462+111666]\n\tGetHandleVerifier [0x00007FF6471F3589+5465]\n\tBaseThreadInitThunk [0x00007FFB7500E8D7+23]\n\tRtlUserThreadStart [0x00007FFB760F14FC+44]\n"
     ]
    }
   ],
   "source": [
    "# 로드 결과\n",
    "wait = WebDriverWait(driver, 10)\n",
    "sel1 = wait.until(EC.presence_of_element_located(By.CSS_SELECTOR,\"div.x78zum5.xdt5ytf.xwrv7xz.x1n2onr6.xph46j.xfcsdxf.xsybdxg.x1bzgcud > div > div:nth-child(1) > div:nth-child(1) > div > a\"))\n",
    "select_box1 =  Select(sel1)\n",
    "select_box1.click()\n",
    "print(\"첫카드 클릭!!\")\n",
    "time.sleep(7)\n",
    "\n",
    "html = driver.page_source\n",
    "soup = bs(html, 'html.parser')\n",
    "# 1. 본문내용 가져오기\n",
    "content = soup.select_one('div._a9zr').get_text()\n",
    "print(\"본문내용\",content)"
   ]
  },
  {
   "cell_type": "code",
   "execution_count": 10,
   "id": "2513c59b-8886-429b-bdaf-af0975db74f3",
   "metadata": {},
   "outputs": [],
   "source": [
    "# service.stop()"
   ]
  }
 ],
 "metadata": {
  "kernelspec": {
   "display_name": "Python 3 (ipykernel)",
   "language": "python",
   "name": "python3"
  },
  "language_info": {
   "codemirror_mode": {
    "name": "ipython",
    "version": 3
   },
   "file_extension": ".py",
   "mimetype": "text/x-python",
   "name": "python",
   "nbconvert_exporter": "python",
   "pygments_lexer": "ipython3",
   "version": "3.13.1"
  }
 },
 "nbformat": 4,
 "nbformat_minor": 5
}
